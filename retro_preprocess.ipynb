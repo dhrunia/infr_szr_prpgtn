{
 "cells": [
  {
   "cell_type": "markdown",
   "metadata": {},
   "source": [
    "## Prepare Rfiles"
   ]
  },
  {
   "cell_type": "code",
   "execution_count": null,
   "metadata": {},
   "outputs": [],
   "source": [
    "import numpy as np\n",
    "import lib.io.stan\n",
    "import glob\n",
    "import matplotlib.pyplot as plt\n",
    "import os"
   ]
  },
  {
   "cell_type": "code",
   "execution_count": null,
   "metadata": {},
   "outputs": [],
   "source": [
    "npts = 150\n",
    "data_root_dir = 'datasets/retro'\n",
    "res_root_dir = 'results/exp10/exp10.65.5'\n",
    "for patient_dir in glob.glob(os.path.join(data_root_dir, 'id*')):\n",
    "    patient_id = os.path.basename(patient_dir)\n",
    "    results_dir = os.path.join(res_root_dir, patient_id)\n",
    "    os.makedirs(os.path.join(results_dir, 'Rfiles'), exist_ok=True)\n",
    "    os.makedirs(os.path.join(results_dir, 'figures'), exist_ok=True)\n",
    "    os.makedirs(os.path.join(results_dir, 'logs'), exist_ok=True)\n",
    "    os.makedirs(os.path.join(results_dir, 'results'), exist_ok=True)\n",
    "    for szr_path in glob.glob(os.path.join(data_root_dir, patient_id, 'stan', 'fit_target_lpf0.3', 'obs_data*.npz')):\n",
    "        szr_name = os.path.splitext(os.path.basename(szr_path))[0].split('obs_data_')[1]\n",
    "        print(szr_path)\n",
    "        print(szr_name)\n",
    "        szr_data_full = np.load(szr_path) # Preprocessed SEEG data (i.e. SLP) without any downsampling\n",
    "        ds_freq = int(szr_data_full['slp'].shape[0] / npts)\n",
    "        fit_data = dict()\n",
    "        fit_data['slp'] = szr_data_full['slp'][::ds_freq, :]\n",
    "        fit_data['snsr_pwr'] = (fit_data['slp']**2).mean(axis=0)\n",
    "        fit_data['SC'] = szr_data_full['SC']\n",
    "        fit_data['gain'] = szr_data_full['gain']\n",
    "        fit_data['nt'] = fit_data['slp'].shape[0]\n",
    "        fit_data['ns'], fit_data['nn'] = fit_data['gain'].shape\n",
    "        szr_data_full.close()\n",
    "        lib.io.stan.rdump(os.path.join(results_dir, 'Rfiles', f'obs_data_{szr_name}.R'), fit_data)\n",
    "        params_init = dict()\n",
    "        params_init['x0_star_star'] = np.zeros(fit_data['nn'])\n",
    "        params_init['amplitude_star_star'] = 0.0\n",
    "        params_init['offset_star_star'] = 0.0\n",
    "        params_init['K_star_star'] = 0.0\n",
    "        params_init['tau0_star_star'] = 0.0\n",
    "        params_init['alpha'] = 1.0\n",
    "        lib.io.stan.rdump(os.path.join(results_dir, 'Rfiles', 'params_init.R'), params_init)\n",
    "        \n",
    "        plt.figure(figsize=(25,13))\n",
    "        plt.subplot(211)\n",
    "        plt.plot(fit_data['slp'], color='black', alpha=0.3);\n",
    "        plt.xlabel('Time', fontsize=12)\n",
    "        plt.ylabel('SLP', fontsize=12)\n",
    "\n",
    "        plt.subplot(212)\n",
    "        plt.bar(np.r_[1:fit_data['ns']+1],fit_data['snsr_pwr'], color='black', alpha=0.3);\n",
    "        plt.xlabel('Time', fontsize=12)\n",
    "        plt.ylabel('Power', fontsize=12)\n",
    "        plt.title('SEEG channel power', fontweight='bold')\n",
    "        plt.savefig(os.path.join(results_dir, 'figures', f'observed_data{szr_name}.png'))\n",
    "        plt.close()"
   ]
  }
 ],
 "metadata": {
  "kernelspec": {
   "display_name": "Python 3",
   "language": "python",
   "name": "python3"
  },
  "language_info": {
   "codemirror_mode": {
    "name": "ipython",
    "version": 3
   },
   "file_extension": ".py",
   "mimetype": "text/x-python",
   "name": "python",
   "nbconvert_exporter": "python",
   "pygments_lexer": "ipython3",
   "version": "3.6.5"
  }
 },
 "nbformat": 4,
 "nbformat_minor": 2
}
