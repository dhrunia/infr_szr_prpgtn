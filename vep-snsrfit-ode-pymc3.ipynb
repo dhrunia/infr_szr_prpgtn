{
 "cells": [
  {
   "cell_type": "code",
   "execution_count": null,
   "metadata": {},
   "outputs": [],
   "source": [
    "%reset -f\n",
    "import pymc3 as pm\n",
    "import matplotlib.pyplot as plt\n",
    "import numpy as np\n",
    "import os\n",
    "import importlib\n",
    "import vep_prob_models\n",
    "import lib.plots.stan"
   ]
  },
  {
   "cell_type": "code",
   "execution_count": null,
   "metadata": {},
   "outputs": [],
   "source": [
    "data_dir = 'datasets/id002_cj'\n",
    "results_dir = 'results/tmp'\n",
    "os.makedirs(results_dir,exist_ok=True)\n",
    "os.makedirs(f'{results_dir}/logs',exist_ok=True)\n",
    "os.makedirs(f'{results_dir}/figures',exist_ok=True)\n",
    "\n",
    "consts = dict()\n",
    "obs = dict()\n",
    "network = np.load(f'{data_dir}/CJ_network.npz')\n",
    "consts['SC'] = network['SC']\n",
    "consts['SC'] = consts['SC'] / consts['SC'].max()\n",
    "consts['SC'][np.diag_indices(consts['SC'].shape[0])] = 0\n",
    "consts['gain'] = network['gain_mat']\n",
    "\n",
    "slp = np.load(f'{data_dir}/CJ_fit_trgt.npz')['fit_trgt']\n",
    "obs['slp'] = slp[0:-1:10]\n",
    "slp_sqrd = obs['slp']**2\n",
    "consts['nt'], consts['ns'] = obs['slp'].shape\n",
    "obs['snsr_pwr'] = slp_sqrd.mean(axis=0)\n",
    "# obs['snsr_pwr'] = obs['snsr_pwr'] / obs['snsr_pwr'].max()"
   ]
  },
  {
   "cell_type": "code",
   "execution_count": null,
   "metadata": {},
   "outputs": [],
   "source": [
    "plt.figure(figsize=(15,10))\n",
    "plt.subplot(211)\n",
    "plt.plot(obs['slp'], color='black', alpha=0.3);\n",
    "plt.xlabel('Time', fontsize=15)\n",
    "plt.title('SLP - Modelled data')\n",
    "plt.subplot(212)\n",
    "plt.bar(np.arange(1,consts['gain'].shape[0]+1), obs['snsr_pwr'], color='black', alpha=0.3)\n",
    "plt.plot(obs['snsr_pwr'].T, color='black', alpha=0.3)\n",
    "plt.xlabel('Electrode', fontsize=15)\n",
    "plt.ylabel('Power', fontsize=15)\n",
    "plt.savefig(f'{results_dir}/figures/fitting_data.png')"
   ]
  },
  {
   "cell_type": "code",
   "execution_count": null,
   "metadata": {},
   "outputs": [],
   "source": [
    "# importlib.reload(vep_prob_models)\n",
    "\n",
    "consts['nn'] = consts['SC'].shape[0]\n",
    "# consts['ns'] = consts['gain'].shape[0]\n",
    "consts['I1'] = 3.1\n",
    "consts['time_step'] = 0.1\n",
    "consts['x_init'] = -2.0*np.ones(consts['nn'])\n",
    "consts['z_init'] = 3.5*np.ones(consts['nn'])\n",
    "consts['eps_slp'] = 0.1\n",
    "consts['eps_snsr_pwr'] = 5.0/150.0\n",
    "# consts['alpha'] = 0.1\n",
    "\n",
    "params_init = dict()\n",
    "# params_init['x0_star_linear__'] = np.zeros(consts['nn'])\n",
    "# # params_init['x_init_star'] = np.zeros(consts['nn'])\n",
    "# # params_init['z_init_star'] = np.zeros(consts['nn'])\n",
    "# params_init['amplitude_star_linear__'] = 0.0\n",
    "# params_init['offset_star_linear__'] = 0.0\n",
    "# params_init['K_star_linear__'] = 0.0\n",
    "# params_init['tau0_star_linear__'] = 0.0\n",
    "# params_init['eps_star'] = 0.0\n",
    "# params_init['eps_snsr_pwr_star'] = 0.0\n",
    "# params_init['eps_slp_star'] = 0.0\n",
    "# params_init['eps_snsr_pwr_star'] = 0.0\n",
    "params_init['x0'] = -3.0*np.ones(consts['nn'])\n",
    "params_init['amplitude'] = 1.0\n",
    "params_init['offset'] = 0.0\n",
    "params_init['K'] = 0.0\n",
    "params_init['tau0'] = 30\n",
    "\n",
    "# max_depth = 15\n",
    "# delta = 0.95\n",
    "# fname_suffix = f'hyper_fixed_md{max_depth}_delta{delta}'"
   ]
  },
  {
   "cell_type": "code",
   "execution_count": null,
   "metadata": {},
   "outputs": [],
   "source": [
    "vep_mdl = vep_prob_models.vep_ode_uniform_priors(consts=consts, obs=obs)"
   ]
  },
  {
   "cell_type": "code",
   "execution_count": null,
   "metadata": {},
   "outputs": [],
   "source": []
  },
  {
   "cell_type": "code",
   "execution_count": null,
   "metadata": {},
   "outputs": [],
   "source": [
    "niters = 5000\n",
    "optmzr = pm.SVGD(n_particles=5, jitter=0.1, temperature=1, model=vep_mdl.model, start=params_init, random_seed=123)\n",
    "post_approx = optmzr.fit(niters)\n",
    "# for i in range(10):\n",
    "#     optmzr.refine(1000)\n",
    "# trace = pm.sample(draws=1000, start=params_init, tune=1000, model=vep_mdl.model, chains=2, nuts_kwargs={'max_treedepth':10, 'target_accept':0.8})"
   ]
  },
  {
   "cell_type": "code",
   "execution_count": null,
   "metadata": {},
   "outputs": [],
   "source": [
    "try:\n",
    "    i = 0\n",
    "    while(True):\n",
    "        print(f'Iterations {niters+i*100} - {niters+(i+1)*100}')\n",
    "        optmzr.refine(10, progressbar=False)\n",
    "        trace = optmzr.approx.sample(100)\n",
    "        i += 1\n",
    "except FloatingPointError as err:\n",
    "    print(err)"
   ]
  },
  {
   "cell_type": "markdown",
   "metadata": {},
   "source": [
    "### Save the trace"
   ]
  },
  {
   "cell_type": "code",
   "execution_count": null,
   "metadata": {},
   "outputs": [],
   "source": [
    "save_dir_name = 'samples'\n",
    "os.makedirs(f'{results_dir}/{save_dir_name}', exist_ok=True)\n",
    "pm.backends.save_trace(trace,f'{results_dir}/{save_dir_name}', overwrite=True)"
   ]
  },
  {
   "cell_type": "code",
   "execution_count": null,
   "metadata": {},
   "outputs": [],
   "source": [
    "# trace = pm.backends.load_trace(f'{results_dir}', model=vep_mdl.model)\n",
    "trace = np.load(f'{results_dir}/samples/0/samples.npz')"
   ]
  },
  {
   "cell_type": "code",
   "execution_count": null,
   "metadata": {},
   "outputs": [],
   "source": [
    "with vep_mdl.model:\n",
    "    trace = post_approx.sample(1000)"
   ]
  },
  {
   "cell_type": "code",
   "execution_count": null,
   "metadata": {},
   "outputs": [],
   "source": [
    "with vep_mdl.model:\n",
    "    trace = pm.backends.text.load(results_dir)"
   ]
  },
  {
   "cell_type": "code",
   "execution_count": null,
   "metadata": {},
   "outputs": [],
   "source": [
    "syn_data = np.load('datasets/id002_cj/CJ_syn_tvb_ez=6-34_pz=27-5-11.npz')\n",
    "x0_true = syn_data['x0']\n",
    "ez = syn_data['ez']\n",
    "pz= np.concatenate((syn_data['pz_x0'], syn_data['pz_kplng']))\n",
    "lib.plots.stan.x0_violin_syn(trace['x0'], x0_true, ez, pz, figsize=(25,5))\n",
    "lib.plots.stan.pair_plots(trace, ['K', 'tau0', 'amplitude', 'offset'])\n",
    "lib.plots.stan.plot_source(trace['x'].mean(axis=0), trace['z'].mean(axis=0), ez, pz)\n",
    "slp = trace['mu_slp'].mean(axis=0)\n",
    "snsr_pwr = trace['mu_snsr_pwr'].mean(axis=0)\n",
    "lib.plots.stan.plot_fit_target(data_pred={'slp':slp,'snsr_pwr':snsr_pwr}, data_true={'slp':obs['slp'],'snsr_pwr':obs['snsr_pwr']})"
   ]
  },
  {
   "cell_type": "code",
   "execution_count": null,
   "metadata": {},
   "outputs": [],
   "source": [
    "post_pred = pm.sample_posterior_predictive(trace, model=vep_mdl.model)"
   ]
  },
  {
   "cell_type": "code",
   "execution_count": null,
   "metadata": {},
   "outputs": [],
   "source": [
    "plt.figure(figsize=(25,5))\n",
    "plt.plot(post_pred['slp'][20], 'r', alpha=0.3);\n",
    "plt.plot(obs['slp'], 'k', alpha=0.3);\n",
    "plt.figure(figsize=(25,5))\n",
    "plt.bar(np.r_[0:consts['ns']], obs['snsr_pwr'], color='black', alpha=0.3)\n",
    "plt.bar(np.r_[0:consts['ns']], trace['mu_snsr_pwr'].mean(axis=0), color='red', alpha=0.5)"
   ]
  },
  {
   "cell_type": "code",
   "execution_count": null,
   "metadata": {},
   "outputs": [],
   "source": [
    "trace = np.load('results/exp10/exp10.66/0/samples.npz')\n",
    "ep = dyn_model.Epileptor_2D()\n",
    "params = dict()\n",
    "params['nn'] = consts['nn']\n",
    "params['nt'] = consts['nt']\n",
    "params['time_step'] = consts['time_step']\n",
    "params['I1'] = consts['I1']\n",
    "params['SC'] = consts['SC']\n",
    "params['x_init'] = consts['x_init']\n",
    "params['z_init'] = consts['z_init']\n",
    "x = np.zeros((trace['x0'].shape[0], consts['nt'], consts['nn']))\n",
    "z = np.zeros((trace['x0'].shape[0], consts['nt'], consts['nn']))\n",
    "slp = np.zeros((trace['x0'].shape[0], consts['nt'], consts['ns']))\n",
    "for i in range(trace['x0'].shape[0]):\n",
    "    params['tau0'] = trace['tau0'][i]\n",
    "    params['K'] = trace['K'][i]\n",
    "    params['x0'] = trace['x0'][i]\n",
    "#     params['x_init'] = trace['x_init'][i]\n",
    "#     params['z_init'] = trace['z_init'][i]\n",
    "    sim_out = ep.sim(params)\n",
    "    x[i] = sim_out['x']\n",
    "    z[i] = sim_out['z']\n",
    "    slp[i] = 4*(np.log(consts['gain']@np.exp(x[i].T))  - 2.9).T"
   ]
  },
  {
   "cell_type": "code",
   "execution_count": null,
   "metadata": {},
   "outputs": [],
   "source": [
    "plt.figure(figsize=(25,5))\n",
    "plt.plot(slp.mean(axis=0), 'r', alpha=0.3);\n",
    "plt.plot(obs['slp'], 'k', alpha=0.3);"
   ]
  }
 ],
 "metadata": {
  "kernelspec": {
   "display_name": "Python 3.6",
   "language": "python",
   "name": "py3.6"
  },
  "language_info": {
   "codemirror_mode": {
    "name": "ipython",
    "version": 3
   },
   "file_extension": ".py",
   "mimetype": "text/x-python",
   "name": "python",
   "nbconvert_exporter": "python",
   "pygments_lexer": "ipython3",
   "version": "3.6.5"
  }
 },
 "nbformat": 4,
 "nbformat_minor": 2
}
