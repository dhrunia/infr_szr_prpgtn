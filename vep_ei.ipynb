{
 "cells": [
  {
   "cell_type": "code",
   "execution_count": 1,
   "metadata": {},
   "outputs": [],
   "source": [
    "import sys\n",
    "import importlib\n",
    "import numpy as np\n",
    "import matplotlib.pyplot as plt\n",
    "import os\n",
    "import pandas as pd\n",
    "from lib.io.seeg import read_contacts\n",
    "from lib.io.tvb import read_roi_cntrs\n",
    "from scipy.spatial.distance import cdist\n",
    "from lib.utils.ez_priors import get_ez_from_epindx"
   ]
  },
  {
   "cell_type": "code",
   "execution_count": 2,
   "metadata": {},
   "outputs": [],
   "source": [
    "ei_data = pd.read_excel('results/exp10/exp10.68/EI_C1P.xlsx').iloc[0:105,1]\n",
    "cntcts = pd.read_excel('results/exp10/exp10.68/EI_C1P.xlsx').iloc[0:105,-1]"
   ]
  },
  {
   "cell_type": "code",
   "execution_count": 5,
   "metadata": {},
   "outputs": [
    {
     "name": "stdout",
     "output_type": "stream",
     "text": [
      "[115 123]\n"
     ]
    }
   ],
   "source": [
    "# cntcts_file = 'datasets/retro/id030_bf/elec/seeg.xyz'\n",
    "cntrs_zipfile = 'datasets/retro/id030_bf/tvb/connectivity.vep.zip'\n",
    "ez = get_ez_from_epindx(ei_data, cntcts, 0.2, cntcts_file, cntrs_zipfile)\n",
    "print(ez)"
   ]
  }
 ],
 "metadata": {
  "kernelspec": {
   "display_name": "Python 3",
   "language": "python",
   "name": "python3"
  },
  "language_info": {
   "codemirror_mode": {
    "name": "ipython",
    "version": 3
   },
   "file_extension": ".py",
   "mimetype": "text/x-python",
   "name": "python",
   "nbconvert_exporter": "python",
   "pygments_lexer": "ipython3",
   "version": "3.6.8"
  }
 },
 "nbformat": 4,
 "nbformat_minor": 2
}
