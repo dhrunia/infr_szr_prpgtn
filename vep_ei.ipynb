{
 "cells": [
  {
   "cell_type": "code",
   "execution_count": 1,
   "metadata": {},
   "outputs": [],
   "source": [
    "import sys\n",
    "sys.path.append('./pipeline-master')\n",
    "from util import nifti, parse_patient_xlsx\n",
    "import numpy as np\n",
    "import matplotlib.pyplot as plt\n",
    "import os\n",
    "import pandas as pd\n",
    "from lib.io.seeg import read_contatcs\n",
    "from lib.io.tvb import read_roi_cntrs\n",
    "from scipy.spatial.distance import cdist\n",
    "import importlib\n"
   ]
  },
  {
   "cell_type": "code",
   "execution_count": 2,
   "metadata": {},
   "outputs": [],
   "source": [
    "ei_data = pd.read_excel('results/exp10/exp10.68/EI_C1P.xlsx').iloc[0:105,1]\n",
    "cntcts = pd.read_excel('results/exp10/exp10.68/EI_C1P.xlsx').iloc[0:105,-1]"
   ]
  },
  {
   "cell_type": "code",
   "execution_count": 3,
   "metadata": {},
   "outputs": [
    {
     "data": {
      "text/plain": [
       "(array([84., 14.,  1.,  2.,  2.,  1.,  0.,  0.,  0.,  1.]),\n",
       " array([0.0, 0.1, 0.2, 0.30000000000000004, 0.4, 0.5, 0.6000000000000001,\n",
       "        0.7000000000000001, 0.8, 0.9, 1.0], dtype=object),\n",
       " <a list of 10 Patch objects>)"
      ]
     },
     "execution_count": 3,
     "metadata": {},
     "output_type": "execute_result"
    },
    {
     "data": {
      "image/png": "[encoded data removed]",
      "text/plain": [
       "<Figure size 432x288 with 1 Axes>"
      ]
     },
     "metadata": {
      "needs_background": "light"
     },
     "output_type": "display_data"
    }
   ],
   "source": [
    "plt.hist(ei_data)"
   ]
  },
  {
   "cell_type": "code",
   "execution_count": 4,
   "metadata": {},
   "outputs": [],
   "source": [
    "ez_idx_ei_cntcts = ei_data > 0.2\n",
    "ez_ei_cntcts = cntcts[ez_idx_ei_cntcts]"
   ]
  },
  {
   "cell_type": "code",
   "execution_count": 5,
   "metadata": {},
   "outputs": [
    {
     "data": {
      "text/plain": [
       "62    TP1-TP2\n",
       "63    TP2-TP3\n",
       "64    TP3-TP4\n",
       "65    TP4-TP5\n",
       "66    TP5-TP6\n",
       "67    TP6-TP7\n",
       "75      A7-A8\n",
       "Name: Channel, dtype: object"
      ]
     },
     "execution_count": 5,
     "metadata": {},
     "output_type": "execute_result"
    }
   ],
   "source": [
    "ez_ei_cntcts"
   ]
  },
  {
   "cell_type": "code",
   "execution_count": 6,
   "metadata": {},
   "outputs": [],
   "source": [
    "cntcts_file = 'datasets/retro/id030_bf/elec/seeg.xyz'\n",
    "cntct_pos = read_contatcs(cntcts_file)\n",
    "ez_cntct_coords = []\n",
    "for cntct in ez_ei_cntcts:\n",
    "    c1,c2 = cntct.split('-')\n",
    "    mdpnt = (cntct_pos[c1] + cntct_pos[c2])/2.0\n",
    "    ez_cntct_coords.append(mdpnt)"
   ]
  },
  {
   "cell_type": "code",
   "execution_count": 7,
   "metadata": {},
   "outputs": [
    {
     "data": {
      "text/plain": [
       "[array([21.67,  3.03, -4.77]),\n",
       " array([25.17 ,  3.13 , -4.915]),\n",
       " array([28.665,  3.23 , -5.06 ]),\n",
       " array([32.16,  3.33, -5.2 ]),\n",
       " array([35.655,  3.43 , -5.34 ]),\n",
       " array([39.15 ,  3.525, -5.485]),\n",
       " array([ 39.945, -10.7  ,  10.635])]"
      ]
     },
     "execution_count": 7,
     "metadata": {},
     "output_type": "execute_result"
    }
   ],
   "source": [
    "ez_cntct_coords"
   ]
  },
  {
   "cell_type": "code",
   "execution_count": 8,
   "metadata": {},
   "outputs": [],
   "source": [
    "# import zipfile\n",
    "\n",
    "# zf = zipfile.ZipFile('datasets/retro/id030_bf/tvb/connectivity.vep.zip')\n",
    "\n",
    "# roi_cntrs = []\n",
    "# roi_lbls = []\n",
    "# with zf.open('centres.txt') as t:\n",
    "#     for line in t:\n",
    "#         roi_cntrs.append(line.decode('utf-8').strip().split(' ')[1:])\n",
    "#         roi_lbls.append(line.decode('utf-8').strip().split(' ')[0])\n",
    "# roi_cntrs = np.array(roi_cntrs, dtype=float)\n",
    "\n",
    "cntrs_zipfile = 'datasets/retro/id030_bf/tvb/connectivity.vep.zip'\n",
    "roi_cntrs, roi_lbls = read_roi_cntrs(cntrs_zipfile)"
   ]
  },
  {
   "cell_type": "code",
   "execution_count": 9,
   "metadata": {},
   "outputs": [
    {
     "data": {
      "text/plain": [
       "[(array([-34.6036,  39.8006,  36.339 ]), 'Left-Frontal-pole'),\n",
       " (array([-38.9628,  20.8958,  18.9504]), 'Left-Orbito-frontal-cortex'),\n",
       " (array([-15.8822,  21.0002,  19.2052]), 'Left-Gyrus-rectus'),\n",
       " (array([-51.4727,   3.4786,  27.391 ]), 'Left-F3-Pars-Orbitalis'),\n",
       " (array([-60.2973,   9.1107,  37.4046]), 'Left-F3-Pars-triangularis'),\n",
       " (array([-58.374 ,  -5.6924,  39.4605]), 'Left-F3-pars-opercularis'),\n",
       " (array([-47.7347,   5.8809,  48.6218]), 'Left-Inferior-frontal-sulcus'),\n",
       " (array([-46.9718,  22.4462,  52.7131]), 'Left-F2-rostral'),\n",
       " (array([-49.0842,  -7.2079,  70.4413]), 'Left-F2-caudal'),\n",
       " (array([-38.9108,  22.8921,  53.6736]), 'Left-Middle-frontal-sulcus'),\n",
       " (array([-33.0318,  13.2522,  64.4534]), 'Left-SFS-rostral'),\n",
       " (array([-35.3353, -11.8608,  72.4569]), 'Left-SFS-caudal'),\n",
       " (array([-17.7158,  24.5718,  55.0622]), 'Left-F1-mesial-prefrontal'),\n",
       " (array([-18.0537,  -1.9373,  70.8772]), 'Left-PreSMA'),\n",
       " (array([-14.5114, -29.674 ,  73.8163]), 'Left-SMA'),\n",
       " (array([-26.5091,  34.0341,  59.8486]), 'Left-F1-lateral-prefrontal'),\n",
       " (array([-27.6677, -12.2801,  81.0737]), 'Left-F1-lateral-premotor'),\n",
       " (array([-15.7218,  -2.6215,  16.0898]), 'Left-Subcallosal-area'),\n",
       " (array([-50.3473, -17.0216,  55.1898]),\n",
       "  'Left-Precentral-sulcus-inferior-part'),\n",
       " (array([-40.0876, -31.0131,  70.9027]),\n",
       "  'Left-Precentral-sulcus-superior-part'),\n",
       " (array([-65.2818, -20.9117,  54.001 ]), 'Left-Precentral-gyrus-head-face'),\n",
       " (array([-42.8262, -36.4462,  77.1687]), 'Left-Precentral-gyrus-upper-limb'),\n",
       " (array([-59.703 , -30.1964,  50.3634]), 'Left-Central-sulcus-head-face'),\n",
       " (array([-39.6702, -42.9627,  67.2972]), 'Left-Central-sulcus-upper-limb'),\n",
       " (array([-16.6339, -47.2845,  84.2613]), 'Left-Paracentral-lobule'),\n",
       " (array([-60.5219, -22.6779,  34.8561]), 'Left-Central-operculum'),\n",
       " (array([-70.5844, -30.7235,  36.7344]), 'Left-Parietal-operculum'),\n",
       " (array([-17.4566,  18.6849,  36.7714]), 'Left-Anterior-cingulate-cortex'),\n",
       " (array([-17.9001,  -5.6334,  58.7681]),\n",
       "  'Left-Middle-cingulate-cortex-anterior-part'),\n",
       " (array([-16.8253, -30.1415,  59.9506]),\n",
       "  'Left-Middle-cingulate-cortex-posterior-part'),\n",
       " (array([ -9.9513, -52.7825,  47.3973]),\n",
       "  'Left-Posterior-cingulate-cortex-dorsal'),\n",
       " (array([-11.5768, -55.9671,  22.336 ]),\n",
       "  'Left-Posterior-cingulate-cortex-retrosplenial-gyrus'),\n",
       " (array([-44.991 ,  -5.15  ,  29.3857]), 'Left-Insula-gyri-brevi'),\n",
       " (array([-47.4762, -25.3278,  23.1584]), 'Left-Insula-gyri-longi'),\n",
       " (array([-40.4445,  -5.0283,  -8.7809]), 'Left-Temporal-pole'),\n",
       " (array([-46.7387,  -5.1612,  11.3244]), 'Left-T1-planum-polare'),\n",
       " (array([-57.0944, -34.863 ,  27.1572]), 'Left-Gyrus-of-Heschl'),\n",
       " (array([-53.672 , -51.3356,  34.544 ]), 'Left-T1-planum-temporale'),\n",
       " (array([-60.024 ,  -4.3274,  10.6684]), 'Left-T1-lateral-anterior'),\n",
       " (array([-68.736 , -46.7425,  20.0354]), 'Left-T1-lateral-posterior'),\n",
       " (array([-57.6657, -35.071 ,  12.5038]), 'Left-STS-anterior'),\n",
       " (array([-46.9682, -70.5527,  27.7368]), 'Left-STS-posterior'),\n",
       " (array([-59.1232, -29.1367,  -0.9931]), 'Left-ITS-anterior'),\n",
       " (array([-55.0514, -65.8146,   7.432 ]), 'Left-ITS-posterior'),\n",
       " (array([-65.8088, -23.5047,   2.9486]), 'Left-T2-anterior'),\n",
       " (array([-65.3076, -64.3787,  11.7386]), 'Left-T2-posterior'),\n",
       " (array([-54.1523, -26.9973, -10.9945]), 'Left-T3-anterior'),\n",
       " (array([-56.9751, -62.1219,  -1.8065]), 'Left-T3-posterior'),\n",
       " (array([-39.1615, -59.9898,  -3.0329]), 'Left-Fusiform-gyrus'),\n",
       " (array([-48.0951, -54.7128,   1.412 ]), 'Left-Occipito-temporal-sulcus'),\n",
       " (array([-36.9826, -43.3514,   4.3578]), 'Left-Collateral-sulcus'),\n",
       " (array([-27.2458, -72.7133,   5.6275]), 'Left-Lingual-sulcus'),\n",
       " (array([-23.8197, -40.1411,   4.3105]), 'Left-Parahippocampal-cortex'),\n",
       " (array([-35.2399, -22.9648,  -4.0913]), 'Left-Rhinal-cortex'),\n",
       " (array([-51.6932, -44.2432,  67.7173]), 'Left-Postcentral-gyrus'),\n",
       " (array([-46.8476, -49.3007,  59.3031]), 'Left-Postcentral-sulcus'),\n",
       " (array([-25.5721, -75.6515,  63.7127]), 'Left-Superior-parietal-lobule-P1'),\n",
       " (array([-62.2108, -45.4203,  39.2534]), 'Left-Supramarginal-anterior'),\n",
       " (array([-61.9693, -61.2926,  47.606 ]), 'Left-Supramarginal-posterior'),\n",
       " (array([-40.9832, -82.5231,  46.4093]), 'Left-Angular-gyrus'),\n",
       " (array([-32.758 , -71.5734,  50.3201]), 'Left-Intraparietal-sulcus'),\n",
       " (array([-10.4487, -69.3542,  52.6453]), 'Left-Precuneus'),\n",
       " (array([-18.9209, -53.2627,  63.6265]),\n",
       "  'Left-Marginal-branch-of-the-cingulate-sulcus'),\n",
       " (array([-14.8689, -79.3846,  31.0361]), 'Left-Parieto-occipital-sulcus'),\n",
       " (array([-44.827 , -81.4963,  16.2839]),\n",
       "  'Left-Anterior-occipital-sulcus-and-preoccipital-notch'),\n",
       " (array([-39.0689, -87.1046,   1.2497]), 'Left-O3'),\n",
       " (array([-32.2457, -96.0012,  16.7294]), 'Left-O2'),\n",
       " (array([-16.5924, -97.0884,  26.8444]), 'Left-O1'),\n",
       " (array([ -12.3124, -100.8416,   -1.5002]), 'Left-Occipital-pole'),\n",
       " (array([-10.9781, -78.1724,   4.752 ]), 'Left-Lingual-gyrus'),\n",
       " (array([-13.9457, -78.2584,  14.4376]), 'Left-Calcarine-sulcus'),\n",
       " (array([ -2.9273, -90.5991,  22.5026]), 'Left-Cuneus'),\n",
       " (array([-29.9732, -25.4992,   6.8974]), 'Left-Hippocampus-anterior'),\n",
       " (array([-28.8103, -43.1703,  14.4057]), 'Left-Hippocampus-posterior'),\n",
       " (array([-30.1767, -16.4768,   8.8553]), 'Left-Amygdala'),\n",
       " (array([-19.4419, -32.4854,  28.4893]), 'Left-Thalamus'),\n",
       " (array([-24.1809,  -9.8584,  36.837 ]), 'Left-Caudate-nucleus'),\n",
       " (array([-34.8748, -15.3816,  25.7237]), 'Left-Putamen'),\n",
       " (array([-29.2708, -19.2071,  24.6597]), 'Left-Pallidum'),\n",
       " (array([-15.8707,  -4.2939,  22.1522]), 'Left-Nucleus-accumbens'),\n",
       " (array([-25.0408, -63.2653, -14.804 ]), 'Left-Cerebellar-cortex'),\n",
       " (array([ 4.5815, 45.5217, 40.911 ]), 'Right-Frontal-pole'),\n",
       " (array([15.3196, 28.7661, 23.298 ]), 'Right-Orbito-frontal-cortex'),\n",
       " (array([-2.7879, 22.7826, 17.6172]), 'Right-Gyrus-rectus'),\n",
       " (array([31.9495, 23.2855, 36.1147]), 'Right-F3-Pars-Orbitalis'),\n",
       " (array([36.2761, 14.3798, 42.8852]), 'Right-F3-Pars-triangularis'),\n",
       " (array([38.4177,  2.4285, 45.6353]), 'Right-F3-pars-opercularis'),\n",
       " (array([25.4012, 10.3815, 56.3194]), 'Right-Inferior-frontal-sulcus'),\n",
       " (array([23.4932, 29.6823, 53.7709]), 'Right-F2-rostral'),\n",
       " (array([21.2852, -1.7185, 76.7451]), 'Right-F2-caudal'),\n",
       " (array([13.3574, 26.3447, 57.2167]), 'Right-Middle-frontal-sulcus'),\n",
       " (array([ 6.0726, 16.2721, 67.4912]), 'Right-SFS-rostral'),\n",
       " (array([ 9.1337, -5.5353, 76.5456]), 'Right-SFS-caudal'),\n",
       " (array([-8.7145, 30.6505, 54.413 ]), 'Right-F1-mesial-prefrontal'),\n",
       " (array([-7.1993,  2.8085, 74.7811]), 'Right-PreSMA'),\n",
       " (array([ -5.9719, -24.1771,  79.4999]), 'Right-SMA'),\n",
       " (array([-1.59000e-02,  2.65892e+01,  6.87073e+01]),\n",
       "  'Right-F1-lateral-prefrontal'),\n",
       " (array([  2.4623, -11.2217,  85.7745]), 'Right-F1-lateral-premotor'),\n",
       " (array([-4.0138,  2.6195, 19.4754]), 'Right-Subcallosal-area'),\n",
       " (array([27.8111, -8.5067, 59.8221]), 'Right-Precentral-sulcus-inferior-part'),\n",
       " (array([ 16.8568, -24.7845,  77.9757]),\n",
       "  'Right-Precentral-sulcus-superior-part'),\n",
       " (array([41.9358, -7.7452, 63.1775]), 'Right-Precentral-gyrus-head-face'),\n",
       " (array([ 23.1954, -29.3234,  82.8797]), 'Right-Precentral-gyrus-upper-limb'),\n",
       " (array([ 39.3098, -17.9404,  58.3261]), 'Right-Central-sulcus-head-face'),\n",
       " (array([ 22.038 , -35.9878,  72.9375]), 'Right-Central-sulcus-upper-limb'),\n",
       " (array([ -1.3046, -49.4129,  86.629 ]), 'Right-Paracentral-lobule'),\n",
       " (array([ 50.5119, -11.0448,  46.1807]), 'Right-Central-operculum'),\n",
       " (array([ 41.0139, -17.9275,  41.948 ]), 'Right-Parietal-operculum'),\n",
       " (array([-5.1104, 21.365 , 40.4836]), 'Right-Anterior-cingulate-cortex'),\n",
       " (array([-5.1701, -3.8146, 60.4048]),\n",
       "  'Right-Middle-cingulate-cortex-anterior-part'),\n",
       " (array([ -2.633 , -28.7926,  63.6873]),\n",
       "  'Right-Middle-cingulate-cortex-posterior-part'),\n",
       " (array([ -0.55  , -49.9383,  47.7341]),\n",
       "  'Right-Posterior-cingulate-cortex-dorsal'),\n",
       " (array([  3.517 , -52.6338,  27.1943]),\n",
       "  'Right-Posterior-cingulate-cortex-retrosplenial-gyrus'),\n",
       " (array([26.0762,  5.1909, 33.7853]), 'Right-Insula-gyri-brevi'),\n",
       " (array([ 33.5517, -11.1821,  25.3104]), 'Right-Insula-gyri-longi'),\n",
       " (array([28.1777,  3.8003, -8.2338]), 'Right-Temporal-pole'),\n",
       " (array([29.8497,  3.3979, 13.4466]), 'Right-T1-planum-polare'),\n",
       " (array([ 41.7238, -21.0523,  33.4777]), 'Right-Gyrus-of-Heschl'),\n",
       " (array([ 40.3383, -34.3294,  41.6498]), 'Right-T1-planum-temporale'),\n",
       " (array([44.7851,  5.3976, 18.3766]), 'Right-T1-lateral-anterior'),\n",
       " (array([ 57.0937, -25.4307,  29.3456]), 'Right-T1-lateral-posterior'),\n",
       " (array([ 44.8922, -19.3797,  16.3223]), 'Right-STS-anterior'),\n",
       " (array([ 43.5676, -53.6033,  34.3287]), 'Right-STS-posterior'),\n",
       " (array([ 44.7145, -15.816 ,   2.7236]), 'Right-ITS-anterior'),\n",
       " (array([ 51.2013, -45.0938,  12.833 ]), 'Right-ITS-posterior'),\n",
       " (array([ 53.4512, -12.6296,   6.9915]), 'Right-T2-anterior'),\n",
       " (array([ 57.793 , -46.8651,  21.0714]), 'Right-T2-posterior'),\n",
       " (array([ 44.4598, -17.3302,  -7.0567]), 'Right-T3-anterior'),\n",
       " (array([ 51.107 , -50.2457,   5.1024]), 'Right-T3-posterior'),\n",
       " (array([ 31.9941, -54.6987,   1.768 ]), 'Right-Fusiform-gyrus'),\n",
       " (array([ 40.8617, -44.2017,   5.8774]), 'Right-Occipito-temporal-sulcus'),\n",
       " (array([ 29.8277, -31.0772,   4.7776]), 'Right-Collateral-sulcus'),\n",
       " (array([ 23.6186, -62.4115,  11.8346]), 'Right-Lingual-sulcus'),\n",
       " (array([ 17.0923, -32.8484,   5.1419]), 'Right-Parahippocampal-cortex'),\n",
       " (array([ 25.2715, -14.1473,  -3.8479]), 'Right-Rhinal-cortex'),\n",
       " (array([ 33.1532, -34.7194,  75.5318]), 'Right-Postcentral-gyrus'),\n",
       " (array([ 26.2533, -45.1356,  65.5715]), 'Right-Postcentral-sulcus'),\n",
       " (array([ 11.7174, -74.8624,  70.765 ]), 'Right-Superior-parietal-lobule-P1'),\n",
       " (array([ 48.8714, -33.9531,  48.1513]), 'Right-Supramarginal-anterior'),\n",
       " (array([ 45.5971, -49.4211,  64.6634]), 'Right-Supramarginal-posterior'),\n",
       " (array([ 39.3606, -70.0387,  52.4606]), 'Right-Angular-gyrus'),\n",
       " (array([ 23.9042, -66.8579,  60.483 ]), 'Right-Intraparietal-sulcus'),\n",
       " (array([  0.0762, -66.6638,  55.4717]), 'Right-Precuneus'),\n",
       " (array([  2.1291, -47.8533,  66.5165]),\n",
       "  'Right-Marginal-branch-of-the-cingulate-sulcus'),\n",
       " (array([ 14.6248, -72.8828,  38.6957]), 'Right-Parieto-occipital-sulcus'),\n",
       " (array([ 44.4507, -65.9255,  23.0114]),\n",
       "  'Right-Anterior-occipital-sulcus-and-preoccipital-notch'),\n",
       " (array([ 41.0548, -72.5007,   7.4954]), 'Right-O3'),\n",
       " (array([ 39.8879, -80.5243,  24.4101]), 'Right-O2'),\n",
       " (array([ 20.3164, -87.4886,  33.5544]), 'Right-O1'),\n",
       " (array([ 21.4853, -89.9452,   9.1848]), 'Right-Occipital-pole'),\n",
       " (array([  6.1876, -68.5437,  12.0524]), 'Right-Lingual-gyrus'),\n",
       " (array([ 12.7189, -65.7087,  22.932 ]), 'Right-Calcarine-sulcus'),\n",
       " (array([  3.5895, -83.1321,  30.0854]), 'Right-Cuneus'),\n",
       " (array([ 21.3951, -19.5125,   8.8766]), 'Right-Hippocampus-anterior'),\n",
       " (array([ 21.0804, -38.0661,  18.7265]), 'Right-Hippocampus-posterior'),\n",
       " (array([18.4135, -9.884 , 10.4385]), 'Right-Amygdala'),\n",
       " (array([  6.9179, -28.5778,  30.5031]), 'Right-Thalamus'),\n",
       " (array([ 6.0801, -5.4347, 38.9151]), 'Right-Caudate-nucleus'),\n",
       " (array([19.6896, -8.7141, 28.9687]), 'Right-Putamen'),\n",
       " (array([ 15.8011, -12.6532,  26.7659]), 'Right-Pallidum'),\n",
       " (array([ 0.2065, -0.6109, 24.5185]), 'Right-Nucleus-accumbens'),\n",
       " (array([ 18.9206, -61.3014, -13.1911]), 'Right-Cerebellar-cortex')]"
      ]
     },
     "execution_count": 9,
     "metadata": {},
     "output_type": "execute_result"
    }
   ],
   "source": [
    "list(zip(roi_cntrs, roi_lbls))"
   ]
  },
  {
   "cell_type": "code",
   "execution_count": 10,
   "metadata": {},
   "outputs": [],
   "source": [
    "dists = cdist(ez_cntct_coords, roi_cntrs)"
   ]
  },
  {
   "cell_type": "code",
   "execution_count": 38,
   "metadata": {},
   "outputs": [],
   "source": [
    "ez_clncl_hyp = np.loadtxt('datasets/retro/id030_bf/tvb/ez_hypothesis.vep.txt')"
   ]
  },
  {
   "cell_type": "code",
   "execution_count": 39,
   "metadata": {},
   "outputs": [
    {
     "data": {
      "text/plain": [
       "(array([ 82, 115, 155]),)"
      ]
     },
     "execution_count": 39,
     "metadata": {},
     "output_type": "execute_result"
    }
   ],
   "source": [
    "np.where(ez_clncl_hyp == 1)"
   ]
  },
  {
   "cell_type": "code",
   "execution_count": 37,
   "metadata": {},
   "outputs": [
    {
     "ename": "TypeError",
     "evalue": "only integer scalar arrays can be converted to a scalar index",
     "output_type": "error",
     "traceback": [
      "\u001b[0;31m---------------------------------------------------------------------------\u001b[0m",
      "\u001b[0;31mTypeError\u001b[0m                                 Traceback (most recent call last)",
      "\u001b[0;32m<ipython-input-37-3ff39a16f9d6>\u001b[0m in \u001b[0;36m<module>\u001b[0;34m\u001b[0m\n\u001b[0;32m----> 1\u001b[0;31m \u001b[0mroi_lbls\u001b[0m\u001b[0;34m[\u001b[0m\u001b[0mez_clncl_hyp\u001b[0m\u001b[0;34m]\u001b[0m\u001b[0;34m\u001b[0m\u001b[0;34m\u001b[0m\u001b[0m\n\u001b[0m",
      "\u001b[0;31mTypeError\u001b[0m: only integer scalar arrays can be converted to a scalar index"
     ]
    }
   ],
   "source": [
    "roi_lbls[ez_clncl_hyp]"
   ]
  },
  {
   "cell_type": "code",
   "execution_count": 44,
   "metadata": {},
   "outputs": [
    {
     "data": {
      "text/plain": [
       "1.0"
      ]
     },
     "execution_count": 44,
     "metadata": {},
     "output_type": "execute_result"
    }
   ],
   "source": [
    "ez_clncl_hyp[155]"
   ]
  },
  {
   "cell_type": "code",
   "execution_count": 57,
   "metadata": {},
   "outputs": [
    {
     "data": {
      "text/plain": [
       "array([115, 116, 121, 123, 134])"
      ]
     },
     "execution_count": 57,
     "metadata": {},
     "output_type": "execute_result"
    }
   ],
   "source": [
    "np.unique(dists.argsort(axis=1)[:,0:2])"
   ]
  },
  {
   "cell_type": "code",
   "execution_count": 59,
   "metadata": {},
   "outputs": [
    {
     "data": {
      "text/plain": [
       "array([115, 123])"
      ]
     },
     "execution_count": 59,
     "metadata": {},
     "output_type": "execute_result"
    }
   ],
   "source": [
    "np.unique(dists.argmin(axis=1))\n",
    "# roi_lbls[123]\n",
    "# roi_lbls[dists.argmin(axis=1)]"
   ]
  }
 ],
 "metadata": {
  "kernelspec": {
   "display_name": "Python 3",
   "language": "python",
   "name": "python3"
  },
  "language_info": {
   "codemirror_mode": {
    "name": "ipython",
    "version": 3
   },
   "file_extension": ".py",
   "mimetype": "text/x-python",
   "name": "python",
   "nbconvert_exporter": "python",
   "pygments_lexer": "ipython3",
   "version": "3.6.8"
  }
 },
 "nbformat": 4,
 "nbformat_minor": 2
}
