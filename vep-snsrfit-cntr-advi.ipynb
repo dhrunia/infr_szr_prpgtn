{
 "cells": [
  {
   "cell_type": "code",
   "execution_count": null,
   "metadata": {
    "collapsed": true
   },
   "outputs": [],
   "source": [
    "%reset -f\n",
    "%matplotlib inline\n",
    "import numpy as np\n",
    "import lib.io.stan\n",
    "import lib.plots.stan\n",
    "import matplotlib.pyplot as plt\n",
    "import os \n",
    "from matplotlib.lines import Line2D"
   ]
  },
  {
   "cell_type": "code",
   "execution_count": null,
   "metadata": {},
   "outputs": [],
   "source": [
    "data_dir = 'datasets/id002_cj'\n",
    "results_dir = 'results/exp10/exp10.18'\n",
    "fit_data_dir = f'{results_dir}/Rfiles'\n",
    "os.makedirs(results_dir,exist_ok=True)\n",
    "os.makedirs(f'{results_dir}/logs',exist_ok=True)\n",
    "os.makedirs(f'{results_dir}/figures',exist_ok=True)\n",
    "\n",
    "network = np.load(f'{data_dir}/CJ_network.npz')\n",
    "SC = network['SC']\n",
    "K = np.max(SC)\n",
    "SC = SC / K\n",
    "SC[np.diag_indices(SC.shape[0])] = 0\n",
    "gain_mat = network['gain_mat']\n",
    "\n",
    "slp = np.load(f'{data_dir}/CJ_fit_trgt.npz')['fit_trgt']\n",
    "slp_ds = slp[0:-1:20,:]\n",
    "snsr_pwr = np.sum(slp_ds**2, axis=0)"
   ]
  },
  {
   "cell_type": "code",
   "execution_count": null,
   "metadata": {},
   "outputs": [],
   "source": [
    "nn = SC.shape[0]\n",
    "ns = gain_mat.shape[0]\n",
    "nt = slp_ds.shape[0]\n",
    "I1 = 3.1\n",
    "tau0 = 30\n",
    "epsilon_snsr_pwr = 5.0\n",
    "for sigma in np.array([0.1]):\n",
    "    for epsilon_slp in np.array([0.1]):\n",
    "        data = {'nn':nn, 'ns':ns, 'nt':nt, 'I1':I1, 'tau0':tau0,\n",
    "                'SC':SC, 'gain': gain_mat, 'sigma':sigma, 'epsilon_slp':epsilon_slp,\n",
    "                'epsilon_snsr_pwr':epsilon_snsr_pwr, 'slp':slp_ds, 'snsr_pwr':snsr_pwr}\n",
    "        fname_suffix = f'sigma{sigma:0.5f}_epsslp{epsilon_slp:0.5f}_epssnsrpwr{epsilon_snsr_pwr:0.5f}'\n",
    "        input_Rfile = f'fit_data_{fname_suffix}.R'\n",
    "        os.makedirs(fit_data_dir,exist_ok=True)\n",
    "        lib.io.stan.rdump(f'{fit_data_dir}/{input_Rfile}',data)\n"
   ]
  },
  {
   "cell_type": "code",
   "execution_count": null,
   "metadata": {},
   "outputs": [],
   "source": [
    "%%bash\n",
    "stancompile.sh vep-snsrfit-cntr"
   ]
  },
  {
   "cell_type": "code",
   "execution_count": null,
   "metadata": {},
   "outputs": [],
   "source": [
    "%%bash -s \"$results_dir\" \"$input_Rfile\" \"$fname_suffix\"\n",
    "\n",
    "RESULTS_DIR=$1\n",
    "INPUT_RFILE=$2\n",
    "FNAME_SUFFIX=$3\n",
    "\n",
    "for i in {1..4};\n",
    "do\n",
    "./vep-snsrfit-cntr id=$((100*${i})) variational iter=1000000 tol_rel_obj=0.01 output_samples=1000 \\\n",
    "data file=${RESULTS_DIR}/Rfiles/${INPUT_RFILE} \\\n",
    "random seed=$((987324514*${i})) \\\n",
    "output file=${RESULTS_DIR}/samples_${FNAME_SUFFIX}_chain${i}.csv \\\n",
    "&> ${RESULTS_DIR}/logs/snsrfit_cntr_${FNAME_SUFFIX}_chain${i}.log &\n",
    "done"
   ]
  },
  {
   "cell_type": "code",
   "execution_count": null,
   "metadata": {},
   "outputs": [],
   "source": [
    "# import lib.io.stan\n",
    "# import importlib\n",
    "# importlib.reload(lib.io.stan)\n",
    "\n",
    "# csv_fname = f'{results_dir}/samples_sigma0.10000_eps0.10000.csv'\n",
    "# nwarmup = 200\n",
    "# nsampling = 200\n",
    "# variables_of_interest = ['lp__','accept_stat__','stepsize__','treedepth__','n_leapfrog__',\\\n",
    "#                          'divergent__', 'energy__','x0',  'x', 'z', 'amplitude', 'offset',\\\n",
    "#                          'x_init', 'z_init', 'time_step']\n",
    "pstr_samples_1 = lib.io.stan.read_samples([f'{results_dir}/samples_{fname_suffix}_chain{i}.csv' for i in [1,2,3,4]]) # read sampler diagnostics and x0 for all sampling iterations\n",
    "# csv_fname = 'results/exp10/exp10.4/samples_eps0.1_chain1.csv'\n",
    "# nwarmup = 1000\n",
    "# nsampling = 1000\n",
    "# ignore_warmup = True\n",
    "# variables_of_interest = ['x','z']\n",
    "# pstr_samples_2 = lib.io.stan.read_samples(csv_fname,nwarmup,nsampling,ignore_warmup,variables_of_interest) # read 10 samples of hidden state variables x and z"
   ]
  },
  {
   "cell_type": "code",
   "execution_count": null,
   "metadata": {},
   "outputs": [],
   "source": [
    "# import importlib\n",
    "# importlib.reload(lib.io.stan)\n",
    "\n",
    "syn_data = np.load('datasets/id002_cj/CJ_syn_tvb_ez=6-34_pz=27-5-11.npz')\n",
    "x0_true = syn_data['x0']\n",
    "ez = syn_data['ez']\n",
    "pz= np.concatenate((syn_data['pz_x0'], syn_data['pz_kplng']))\n",
    "\n",
    "lib.plots.stan.x0_violin(pstr_samples_1['x0'], x0_true, ez, pz, figsize=(25,5), figname=f'{results_dir}/figures/x0_violin_{fname_suffix}.png')\n",
    "\n",
    "ntwrk = np.load('datasets/id002_cj/CJ_network.npz')\n",
    "gain = ntwrk['gain_mat']\n",
    "src_sig = pstr_samples_1['x']\n",
    "amplitude = pstr_samples_1['amplitude_slp']\n",
    "offset = pstr_samples_1['offset_slp']\n",
    "amplitude_x = pstr_samples_1['amplitude_x']\n",
    "offset_x = pstr_samples_1['offset_x']\n",
    "amplitude_z = pstr_samples_1['amplitude_z']\n",
    "offset_z = pstr_samples_1['offset_z']\n",
    "slp_pp = np.zeros([src_sig.shape[0], src_sig.shape[1], gain.shape[0]])\n",
    "snsr_pwr_pp = np.zeros([src_sig.shape[0], ns])\n",
    "for i,sample in enumerate(src_sig):\n",
    "#     seeg[i] = amplitude[i,:] * ((gain @ sample.T).T + offset[i,:]);\n",
    "    slp_pp[i] = amplitude[i] * (np.log(gain @ np.exp(sample).T).T + offset[i])\n",
    "    snsr_pwr_pp[i] = np.sum(slp_pp[i]**2, axis=0)\n",
    "\n",
    "slp_pp_mean = np.mean(slp_pp, axis=0)\n",
    "snsr_pwr_pp_mean = np.mean(snsr_pwr_pp, axis=0)\n",
    "\n",
    "plt.figure(figsize=(15,10))\n",
    "plt.subplot(211)\n",
    "plt.plot(slp_ds, 'k', alpha=0.4)\n",
    "plt.plot(slp_pp_mean,'r',alpha=0.4);\n",
    "plt.title('Posterior predicted slp')\n",
    "plt.xlabel('Time', fontsize=13)\n",
    "\n",
    "plt.subplot(212)\n",
    "plt.bar(np.arange(1,ns+1), snsr_pwr, color='black',alpha=0.4);\n",
    "plt.bar(np.arange(1,ns+1), snsr_pwr_pp_mean, color='red', alpha=0.4);\n",
    "plt.title('Posterior predicted sensor power')\n",
    "plt.xlabel('Sensor', fontsize=13)\n",
    "plt.tight_layout()\n",
    "plt.savefig(f'{results_dir}/figures/ppc_{fname_suffix}.png')\n",
    "\n",
    "\n",
    "# Compute the x,z transformed with inferred amplitude and offset\n",
    "x_transf = np.empty_like(pstr_samples_1['x'])\n",
    "z_transf = np.empty_like(pstr_samples_1['z'])\n",
    "\n",
    "for i in range(pstr_samples_1['x'].shape[0]):\n",
    "    x_transf[i] = pstr_samples_1['amplitude_x'][i]*(pstr_samples_1['x'][i] + pstr_samples_1['offset_x'][i])\n",
    "    z_transf[i] = pstr_samples_1['amplitude_z'][i]*(pstr_samples_1['z'][i] + pstr_samples_1['offset_z'][i])\n",
    "\n",
    "x_mean = np.mean(x_transf, axis=0)\n",
    "z_mean = np.mean(z_transf, axis=0)\n",
    "\n",
    "plt.figure(figsize=(15, 10))\n",
    "ax_src_x = plt.subplot(211)\n",
    "ax_src_z = plt.subplot(212)\n",
    "sample_idx = -1\n",
    "for i in range(84):\n",
    "    if i in ez: \n",
    "        ax_src_x.plot(x_mean[:, i], color='red');\n",
    "        ax_src_z.plot(z_mean[:, i], color='red');\n",
    "    elif i in pz:\n",
    "        ax_src_x.plot(x_mean[:, i], color='orange');\n",
    "        ax_src_z.plot(z_mean[:, i], color='orange');\n",
    "    else:\n",
    "        ax_src_x.plot(x_mean[:, i], color='black', alpha=0.1);\n",
    "        ax_src_z.plot(z_mean[:, i], color='black', alpha=0.1);\n",
    "ax_src_x.set_title(\"Source activity - x\")\n",
    "ax_src_z.set_title(\"Source activity - z\")\n",
    "plt.savefig(f'{results_dir}/figures/src_inferred_{fname_suffix}.png')\n",
    "\n",
    "plt.figure()\n",
    "for i in range(84):\n",
    "    if i in ez: \n",
    "        plt.plot(x_mean[:, i], z_mean[:, i], color='red')\n",
    "    elif i in pz:\n",
    "        plt.plot(x_mean[:, i], z_mean[:, i], color='orange')\n",
    "    else:\n",
    "        plt.plot(x_mean[:, i], z_mean[:, i], color='black')\n",
    "plt.xlabel('x', fontsize=12.0)\n",
    "plt.ylabel('z', fontsize=12.0)\n",
    "plt.title('Phase Space')\n",
    "plt.savefig(f'{results_dir}/figures/phase_space_{fname_suffix}.png')\n",
    "\n",
    "\n",
    "plt.figure(figsize=(23,13))\n",
    "params = ['amplitude_slp', 'offset_slp', 'x_init', 'z_init', 'K', 'time_step', 'amplitude_x', 'offset_x', 'amplitude_z', 'offset_z']\n",
    "nParams = len(params)\n",
    "for i in range(nParams):\n",
    "    for j in range(nParams):\n",
    "        plt.subplot(nParams, nParams, i * nParams + (j + 1))\n",
    "        if(i == j):\n",
    "            plt.hist(pstr_samples_1[params[i]].flatten(), bins=50)\n",
    "        else:\n",
    "            xvals = np.mean(pstr_samples_1[params[j]], axis=1) if len(pstr_samples_1[params[j]].shape)>1 else pstr_samples_1[params[j]]\n",
    "            yvals = np.mean(pstr_samples_1[params[i]], axis=1) if len(pstr_samples_1[params[i]].shape)>1 else pstr_samples_1[params[i]]\n",
    "            plt.plot(xvals, yvals, 'o')\n",
    "        if(i == 0):\n",
    "            plt.title(params[j], fontsize=13)\n",
    "        if(j == 0):\n",
    "            plt.ylabel(params[i], fontsize=13, rotation=90)\n",
    "plt.tight_layout()\n",
    "plt.savefig(f'{results_dir}/figures/params_pair_plots_{fname_suffix}.png')\n"
   ]
  },
  {
   "cell_type": "code",
   "execution_count": null,
   "metadata": {},
   "outputs": [],
   "source": [
    "print(np.shape(pstr_samples_1['x']))\n",
    "print(np.shape(pstr_samples_1['amplitude_x']))\n",
    "print(np.shape(pstr_samples_1['amplitude_x']*(pstr_samples_1['x']+pstr_samples_1['offset_x'])))"
   ]
  },
  {
   "cell_type": "code",
   "execution_count": null,
   "metadata": {},
   "outputs": [],
   "source": [
    "plt.hist(pstr_samples_1['offset_z'])"
   ]
  },
  {
   "cell_type": "code",
   "execution_count": null,
   "metadata": {},
   "outputs": [],
   "source": [
    "x0_mean = np.mean(pstr_samples_1['x0'], axis=0)\n",
    "np.argsort(x0_mean)"
   ]
  },
  {
   "cell_type": "markdown",
   "metadata": {},
   "source": [
    "Simulation of 2D epileptor at posterior mean of $x_0, \\tau_0, K$"
   ]
  },
  {
   "cell_type": "code",
   "execution_count": null,
   "metadata": {},
   "outputs": [],
   "source": [
    "# data_dir = 'datasets/id001_ac'\n",
    "# results_dir = 'tmp'\n",
    "# fit_data_dir = f'{results_dir}/Rfiles' #'jureca/data'\n",
    "\n",
    "# network = np.load(f'{data_dir}/AC_network.npz')\n",
    "# SC = network['SC']\n",
    "# K = np.max(SC)\n",
    "# SC = SC / K\n",
    "# K = 0.001069\n",
    "# SC[np.diag_indices(SC.shape[0])] = 0\n",
    "# gain = network['gain_mat']\n",
    "# syn_data = np.load(f'{data_dir}/AC_syn_tvb_ez=59_pz=82-74.npz')\n",
    "\n",
    "# nn = SC.shape[0]\n",
    "# ns = gain.shape[0]\n",
    "# nt = 1600\n",
    "# I1 = 3.1\n",
    "# tau0_mean = np.mean(pstr_samples_1['tau0'])\n",
    "x0_mean = np.mean(pstr_samples_1['x0'], axis=0)\n",
    "x_init_mean = np.mean(pstr_samples_1['x_init'], axis=0)\n",
    "z_init_mean = np.mean(pstr_samples_1['z_init'], axis=0)\n",
    "time_step_mean = np.mean(pstr_samples_1['time_step'])\n",
    "amplitude_mean = np.mean(pstr_samples_1['amplitude_slp'])\n",
    "offset_mean = np.mean(pstr_samples_1['offset_slp'])\n",
    "K_mean = np.mean(pstr_samples_1['K'])\n",
    "print(x0_mean, x_init_mean, z_init_mean, time_step_mean, amplitude_mean, offset_mean, K_mean)"
   ]
  },
  {
   "cell_type": "code",
   "execution_count": null,
   "metadata": {},
   "outputs": [],
   "source": [
    "data = {'nn':nn, 'ns':ns, 'nt':nt, 'I1':I1, 'tau0':tau0, 'gain':gain, 'SC':SC, \\\n",
    "        'K':K_mean, 'x0':x0_mean, 'x_init':x_init_mean, 'z_init':z_init_mean, \\\n",
    "        'time_step':time_step_mean, 'amplitude': amplitude_mean, 'offset':offset_mean}\n",
    "lib.io.stan.rdump(f'{results_dir}/Rfiles/posterior_simulation_data_{fname_suffix}.R', data)"
   ]
  },
  {
   "cell_type": "code",
   "execution_count": null,
   "metadata": {},
   "outputs": [],
   "source": [
    "%%bash\n",
    "stancompile.sh vep-forwardsim-2Depileptor-ode-nointerp"
   ]
  },
  {
   "cell_type": "code",
   "execution_count": null,
   "metadata": {},
   "outputs": [],
   "source": [
    "%%bash -s \"$results_dir\" \"$fname_suffix\"\n",
    "./vep-forwardsim-2Depileptor-ode-nointerp sample num_warmup=0 num_samples=1 algorithm=fixed_param \\\n",
    "data file=$1/Rfiles/posterior_simulation_data_${2}.R output file=$1/posterior_simulation_${2}.csv"
   ]
  },
  {
   "cell_type": "code",
   "execution_count": null,
   "metadata": {},
   "outputs": [],
   "source": [
    "sim_data = lib.io.stan.read_samples([f'{results_dir}/posterior_simulation_{fname_suffix}.csv'])\n",
    "fit_data = np.load(f'{data_dir}/CJ_fit_trgt.npz')\n",
    "x_syn = syn_data['src_sig'][2200:3800,0,:,0] + syn_data['src_sig'][2200:3800,3,:,0]\n",
    "ez = syn_data['ez']\n",
    "pz = np.concatenate((syn_data['pz_x0'], syn_data['pz_kplng']))"
   ]
  },
  {
   "cell_type": "code",
   "execution_count": null,
   "metadata": {},
   "outputs": [],
   "source": [
    "x_sim = sim_data['x'][0,:,:]\n",
    "z_sim = sim_data['z'][0,:,:]\n",
    "plt.figure(figsize=(20,21))\n",
    "plt.subplot(311)\n",
    "for i in range(nn):\n",
    "    if(i in ez):\n",
    "        plt.plot(x_sim[:,i], color='red');\n",
    "    elif(i in pz):\n",
    "        plt.plot(x_sim[:,i], color='orange');\n",
    "    else:\n",
    "        plt.plot(x_sim[:,i], color='black');\n",
    "plt.xlabel('Time', fontsize=15)\n",
    "plt.ylabel('x', fontsize=15)\n",
    "plt.title('Simulated source activity at posterior mode', fontsize=15)\n",
    "\n",
    "plt.subplot(312)\n",
    "for i in range(nn):\n",
    "    if(i in ez):\n",
    "        plt.plot(z_sim[:,i], color='red');\n",
    "    elif(i in pz):\n",
    "        plt.plot(z_sim[:,i], color='orange');\n",
    "    else:\n",
    "        plt.plot(z_sim[:,i], color='black');\n",
    "plt.xlabel('Time', fontsize=15)\n",
    "plt.ylabel('z', fontsize=15)\n",
    "plt.title('Simulated source activity at posterior mode', fontsize=15)\n",
    "\n",
    "\n",
    "plt.subplot(313)\n",
    "for i in range(nn):\n",
    "    if(i in ez):\n",
    "        plt.plot(x_syn[0:-1:20,i], color='red');\n",
    "    elif(i in pz):\n",
    "        plt.plot(x_syn[0:-1:20,i], color='orange');\n",
    "    else:\n",
    "        plt.plot(x_syn[0:-1:20,i], color='black');\n",
    "plt.title('Ground truth', fontsize=15)\n",
    "plt.xlabel('Time', fontsize=15)\n",
    "plt.ylabel('x', fontsize=15)\n",
    "plt.savefig(f'{results_dir}/figures/posterior_simulation_src_{fname_suffix}.png')\n",
    "\n",
    "\n",
    "# plt.plot(z + 4*np.r_[0:84]);\n",
    "# plt.yticks(4*np.r_[0:84],np.r_[0:84]);"
   ]
  },
  {
   "cell_type": "code",
   "execution_count": null,
   "metadata": {},
   "outputs": [],
   "source": [
    "amp = 4.0\n",
    "offset = -3\n",
    "slp = sim_data['slp'][0]\n",
    "plt.figure(figsize=(20,5))\n",
    "plt.plot(slp, color='red', alpha=0.3);\n",
    "\n",
    "plt.plot(fit_data['fit_trgt'][0:-1:20,:], color='black', alpha=0.3);\n",
    "plt.xlabel('Time', fontsize=15)\n",
    "plt.ylabel('SLP', fontsize=15)\n",
    "plt.title('Posterior Simulated SLP', fontsize=15)\n",
    "plt.savefig(f'{results_dir}/figures/posterior_simulated_slp_{fname_suffix}.png')"
   ]
  },
  {
   "cell_type": "markdown",
   "metadata": {},
   "source": [
    "Compare source activity of simulation with all parameters set to mean of inferred values except for $x_0$ (it is set to ground truth)"
   ]
  },
  {
   "cell_type": "code",
   "execution_count": null,
   "metadata": {},
   "outputs": [],
   "source": [
    "data = {'nn':nn, 'ns':ns, 'nt':nt, 'I1':I1, 'tau0':tau0_mean, 'gain':gain, 'SC':SC, \\\n",
    "        'K':K_mean, 'x0':x0_true, 'x_init':x_init_mean, 'z_init':z_init_mean, \\\n",
    "        'time_step':time_step_mean, 'amplitude': amplitude_mean, 'offset':offset_mean}\n",
    "lib.io.stan.rdump(f'{results_dir}/Rfiles/posterior_simulation_x0_true_otherparams_meaninferred.R', data)"
   ]
  },
  {
   "cell_type": "code",
   "execution_count": null,
   "metadata": {},
   "outputs": [],
   "source": [
    "%%bash\n",
    "stancompile.sh vep-forwardsim-2Depileptor-ode-nointerp"
   ]
  },
  {
   "cell_type": "code",
   "execution_count": null,
   "metadata": {},
   "outputs": [],
   "source": [
    "%%bash -s \"$results_dir\" \"$fname_suffix\"\n",
    "./vep-forwardsim-2Depileptor-ode-nointerp sample num_warmup=0 num_samples=1 algorithm=fixed_param \\\n",
    "data file=$1/Rfiles/posterior_simulation_x0_true_otherparams_meaninferred.R output file=$1/posterior_simulation_x0_true_otherparams_meaninferred_${2}.csv"
   ]
  },
  {
   "cell_type": "code",
   "execution_count": null,
   "metadata": {},
   "outputs": [],
   "source": [
    "sim_data = lib.io.stan.read_samples([f'{results_dir}/posterior_simulation_x0_true_otherparams_meaninferred_{fname_suffix}.csv'])\n",
    "fit_data = np.load(f'{data_dir}/AC_fit_trgt.npz')\n",
    "x_syn = syn_data['src_sig'][2200:3800,0,:,0] + syn_data['src_sig'][2200:3800,3,:,0]\n",
    "ez = syn_data['ez']\n",
    "pz = np.concatenate((syn_data['pz_x0'], syn_data['pz_kplng']))"
   ]
  },
  {
   "cell_type": "code",
   "execution_count": null,
   "metadata": {},
   "outputs": [],
   "source": [
    "x_sim = sim_data['x'][0,:,:]\n",
    "z_sim = sim_data['z'][0,:,:]\n",
    "plt.figure(figsize=(20,21))\n",
    "plt.subplot(311)\n",
    "for i in range(nn):\n",
    "    if(i in ez):\n",
    "        plt.plot(x_sim[:,i], color='red');\n",
    "    elif(i in pz):\n",
    "        plt.plot(x_sim[:,i], color='orange');\n",
    "    else:\n",
    "        plt.plot(x_sim[:,i], color='black');\n",
    "plt.xlabel('Time', fontsize=15)\n",
    "plt.ylabel('x', fontsize=15)\n",
    "plt.title('Simulated source activity at posterior mode', fontsize=15)\n",
    "\n",
    "plt.subplot(312)\n",
    "for i in range(nn):\n",
    "    if(i in ez):\n",
    "        plt.plot(z_sim[:,i], color='red');\n",
    "    elif(i in pz):\n",
    "        plt.plot(z_sim[:,i], color='orange');\n",
    "    else:\n",
    "        plt.plot(z_sim[:,i], color='black');\n",
    "plt.xlabel('Time', fontsize=15)\n",
    "plt.ylabel('z', fontsize=15)\n",
    "plt.title('Simulated source activity at posterior mode', fontsize=15)\n",
    "\n",
    "\n",
    "plt.subplot(313)\n",
    "for i in range(nn):\n",
    "    if(i in ez):\n",
    "        plt.plot(x_syn[0:-1:20,i], color='red');\n",
    "    elif(i in pz):\n",
    "        plt.plot(x_syn[0:-1:20,i], color='orange');\n",
    "    else:\n",
    "        plt.plot(x_syn[0:-1:20,i], color='black');\n",
    "plt.title('Ground truth', fontsize=15)\n",
    "plt.xlabel('Time', fontsize=15)\n",
    "plt.ylabel('x', fontsize=15)\n",
    "plt.savefig(f'{results_dir}/figures/posterior_simulation_x0_true_otherparams_inferred_src_{fname_suffix}.png')\n",
    "\n",
    "\n",
    "# plt.plot(z + 4*np.r_[0:84]);\n",
    "# plt.yticks(4*np.r_[0:84],np.r_[0:84]);"
   ]
  },
  {
   "cell_type": "code",
   "execution_count": null,
   "metadata": {},
   "outputs": [],
   "source": [
    "amp = 4.0\n",
    "offset = -3\n",
    "slp = sim_data['slp'][0]\n",
    "plt.figure(figsize=(20,5))\n",
    "plt.plot(slp, color='red', alpha=0.3);\n",
    "\n",
    "plt.plot(fit_data['fit_trgt'][0:-1:20,:], color='black', alpha=0.3);\n",
    "plt.xlabel('Time', fontsize=15)\n",
    "plt.ylabel('SLP', fontsize=15)\n",
    "plt.title('Posterior Simulated SLP', fontsize=15)\n",
    "plt.savefig(f'{results_dir}/figures/posterior_simulated_slp_x0_true_otherparams_meaninferred_{fname_suffix}.png')"
   ]
  }
 ],
 "metadata": {
  "kernelspec": {
   "display_name": "Python 3",
   "language": "python",
   "name": "python3"
  },
  "language_info": {
   "codemirror_mode": {
    "name": "ipython",
    "version": 3
   },
   "file_extension": ".py",
   "mimetype": "text/x-python",
   "name": "python",
   "nbconvert_exporter": "python",
   "pygments_lexer": "ipython3",
   "version": "3.6.5"
  }
 },
 "nbformat": 4,
 "nbformat_minor": 2
}
