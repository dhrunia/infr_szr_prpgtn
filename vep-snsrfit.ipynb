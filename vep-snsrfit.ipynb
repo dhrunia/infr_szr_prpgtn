{
 "cells": [
  {
   "cell_type": "code",
   "execution_count": 1,
   "metadata": {
    "collapsed": true
   },
   "outputs": [],
   "source": [
    "%matplotlib inline\n",
    "import numpy as np\n",
    "import lib.io.stan\n",
    "import matplotlib.pyplot as plt\n",
    "import os"
   ]
  },
  {
   "cell_type": "code",
   "execution_count": 2,
   "metadata": {},
   "outputs": [],
   "source": [
    "data_dir = 'datasets/id001_ac'\n",
    "results_dir = 'results/exp10'\n",
    "os.makedirs(results_dir,exist_ok=True)\n",
    "os.makedirs(f'{results_dir}/logs',exist_ok=True)\n",
    "os.makedirs(f'{results_dir}/figures',exist_ok=True)\n",
    "\n",
    "network = np.load(f'{data_dir}/AC_network.npz')\n",
    "SC = network['SC']\n",
    "SC = SC / np.max(SC)\n",
    "SC[np.diag_indices(SC.shape[0])] = 0\n",
    "gain_mat = network['gain_mat']\n",
    "\n",
    "syn_data = np.load(f'{data_dir}/AC_fit_trgt.npz')"
   ]
  },
  {
   "cell_type": "code",
   "execution_count": 8,
   "metadata": {},
   "outputs": [
    {
     "name": "stdout",
     "output_type": "stream",
     "text": [
      "/home/anirudhnihalani/vep.stan\n",
      "make: `/home/anirudhnihalani/vep.stan/vep-snsrfit' is up to date.\n"
     ]
    }
   ],
   "source": [
    "nn = SC.shape[0]\n",
    "ns = gain_mat.shape[0]\n",
    "nt = syn_data['fit_trgt'].shape[0]\n",
    "I1 = 3.1\n",
    "\n",
    "stan_fname = 'vep-snsrfit'\n",
    "lib.io.stan.create_process(['bash','/home/anirudhnihalani/scripts/stancompile.sh', stan_fname],block=True)\n",
    "\n",
    "for sigma in np.arange(0.1,2.1,0.1):\n",
    "    data = {'nn':nn, 'ns':ns, 'nt':nt, 'I1':I1, 'SC':SC, 'gain': gain_mat,\n",
    "            'sigma':sigma, 'seeg':syn_data['fit_trgt']}\n",
    "    \n",
    "    input_Rfile = f'fit_data_sigma{sigma:0.2}.R'\n",
    "    os.makedirs(f'{data_dir}/Rfiles',exist_ok=True)\n",
    "    lib.io.stan.rdump(f'{data_dir}/Rfiles/{input_Rfile}',data)\n",
    "\n",
    "    nchains = 8\n",
    "    with open('vep-snsrfit.sh','r') as fd:\n",
    "        slurm_script = fd.read().format(f'{data_dir}/Rfiles', results_dir, input_Rfile, nchains, sigma)\n",
    "    with open(f'tmp/vep-snsrfit-sigma{sigma:0.1f}.sh','w') as fd:\n",
    "        fd.write(slurm_script)\n",
    "    lib.io.stan.create_process(['sbatch',f'tmp/vep-snsrfit-sigma{sigma:0.1f}.sh'],block=False)\n"
   ]
  },
  {
   "cell_type": "code",
   "execution_count": null,
   "metadata": {},
   "outputs": [],
   "source": [
    "import lib.io.stan\n",
    "# import importlib\n",
    "# importlib.reload(lib.io.stan)\n",
    "\n",
    "csv_fname = 'results/exp9/samples_sigma0.1_chain4.csv'\n",
    "nwarmup = 500\n",
    "nsampling = 500\n",
    "ignore_warmup = True\n",
    "variables_of_interest = ['lp__','accept_stat__','stepsize__','treedepth__','n_leapfrog__','divergent__','energy__','x0']\n",
    "pstr_samples_1 = lib.io.stan.read_samples(csv_fname,nwarmup,nsampling,ignore_warmup,variables_of_interest) # read sampler diagnostics and x0 for all sampling iterations\n",
    "\n",
    "# csv_fname = 'results/exp9/samples_sigma0.1_chain4.csv'\n",
    "# nwarmup = 500\n",
    "# nsampling = 10\n",
    "# ignore_warmup = True\n",
    "# variables_of_interest = ['x','z']\n",
    "# pstr_samples_2 = lib.io.stan.read_samples(csv_fname,nwarmup,nsampling,ignore_warmup,variables_of_interest) # read 10 samples of hidden state variables x and z"
   ]
  },
  {
   "cell_type": "code",
   "execution_count": null,
   "metadata": {},
   "outputs": [],
   "source": [
    "%matplotlib inline\n",
    "import matplotlib.pyplot as plt\n",
    "import numpy as np\n",
    "\n",
    "plt.figure(figsize=(20,10))\n",
    "plt.subplot(211)\n",
    "plt.violinplot(pstr_samples_1['x0'][:,:]);\n",
    "xtick_labels = []\n",
    "for i in range(84):\n",
    "    if(i%2 == 0):\n",
    "        xtick_labels.append(str(i+1))\n",
    "    else:\n",
    "        xtick_labels.append('')\n",
    "plt.xticks(np.r_[1:85],xtick_labels);\n",
    "plt.xlabel('Region#',fontsize=15);\n",
    "plt.ylabel('$x_0$',fontsize=15);\n",
    "\n",
    "# Plot the HMC convergence diagnostics\n",
    "plt.figure(figsize=(20,10))\n",
    "plt.subplot(4,2,1)\n",
    "plt.plot(pstr_samples_1['lp__'])\n",
    "plt.xlabel('Iteration')\n",
    "plt.ylabel('log prob.')\n",
    "\n",
    "plt.subplot(4,2,2)\n",
    "plt.plot(pstr_samples_1['energy__'])\n",
    "plt.xlabel('Iteration')\n",
    "plt.ylabel('energy')\n",
    "\n",
    "plt.subplot(4,2,3)\n",
    "plt.plot(pstr_samples_1['accept_stat__'])\n",
    "plt.xlabel('Iteration')\n",
    "plt.ylabel('accept stat.')\n",
    "\n",
    "plt.subplot(4,2,4)\n",
    "plt.plot(pstr_samples_1['stepsize__'])\n",
    "plt.xlabel('Iteration')\n",
    "plt.ylabel('step size')\n",
    "\n",
    "plt.subplot(4,2,5)\n",
    "plt.plot(pstr_samples_1['treedepth__'])\n",
    "plt.xlabel('Iteration')\n",
    "plt.ylabel('tree depth')\n",
    "\n",
    "plt.subplot(4,2,6)\n",
    "plt.plot(pstr_samples_1['n_leapfrog__'])\n",
    "plt.xlabel('Iteration')\n",
    "plt.ylabel('n_leapfrog')\n",
    "\n",
    "plt.subplot(4,2,7)\n",
    "plt.plot(pstr_samples_1['divergent__'])\n",
    "plt.xlabel('Iteration')\n",
    "plt.ylabel('divergent')\n",
    "\n",
    "plt.tight_layout();\n",
    "\n",
    "# Mean and 2*std of source activity(x) estimated from posterior samples\n",
    "plt.figure(figsize=(15,20))\n",
    "x_mean = np.mean(pstr_samples_2['x'], axis = 0)\n",
    "x_std = np.std(pstr_samples_2['x'], axis = 0)\n",
    "nt = x_mean.shape[0]\n",
    "nn = x_mean.shape[1]\n",
    "for i in range(nn):\n",
    "    plt.plot(x_mean[:,i]+4*i)\n",
    "    plt.fill_between(np.r_[0:nt], x_mean[:,i] - 2*x_std[:,i] + 4*i, x_mean[:,i] + 2*x_std[:,i] + 4*i,alpha=0.1)\n",
    "plt.title('source activity(x)',fontsize=15);\n",
    "plt.xlabel('time',fontsize=15);\n",
    "plt.ylabel('Region#',fontsize=15);\n",
    "plt.yticks(np.mean(x_mean,axis=0) + 4*np.r_[0:nn], np.r_[1:nn+1]);"
   ]
  }
 ],
 "metadata": {
  "kernelspec": {
   "display_name": "Python 3",
   "language": "python",
   "name": "python3"
  },
  "language_info": {
   "codemirror_mode": {
    "name": "ipython",
    "version": 3
   },
   "file_extension": ".py",
   "mimetype": "text/x-python",
   "name": "python",
   "nbconvert_exporter": "python",
   "pygments_lexer": "ipython3",
   "version": "3.6.2"
  }
 },
 "nbformat": 4,
 "nbformat_minor": 2
}
