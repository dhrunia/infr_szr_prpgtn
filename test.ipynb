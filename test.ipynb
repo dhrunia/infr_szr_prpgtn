{
 "cells": [
  {
   "cell_type": "markdown",
   "metadata": {},
   "source": [
    "Phase space plots"
   ]
  },
  {
   "cell_type": "code",
   "execution_count": null,
   "metadata": {},
   "outputs": [],
   "source": [
    "for i in range(84):\n",
    "    if i in ez: \n",
    "        plt.plot(pstr_samples_1['x'][-1,:,i], pstr_samples_1['z'][-1,:,i], color='red')\n",
    "    elif i in pz:\n",
    "        plt.plot(pstr_samples_1['x'][-1,:,i], pstr_samples_1['z'][-1,:,i], color='orange')\n",
    "    else:\n",
    "        plt.plot(pstr_samples_1['x'][-1,:,i], pstr_samples_1['z'][-1,:,i], color='black')"
   ]
  },
  {
   "cell_type": "markdown",
   "metadata": {},
   "source": [
    "Downsampling **seeg log power**"
   ]
  },
  {
   "cell_type": "code",
   "execution_count": null,
   "metadata": {},
   "outputs": [],
   "source": [
    "%reset -f\n",
    "%matplotlib inline\n",
    "import numpy as np\n",
    "import matplotlib.pyplot as plt"
   ]
  },
  {
   "cell_type": "code",
   "execution_count": null,
   "metadata": {},
   "outputs": [],
   "source": [
    "# fit_trgt = np.load('datasets/id001_ac/AC_fit_trgt.npz')['fit_trgt']\n",
    "# fit_trgt_ds = fit_trgt[0:-1:20,:]\n",
    "# plt.figure(figsize=(15,5))\n",
    "# plt.plot(fit_trgt,alpha=0.3);\n",
    "# plt.xlabel('time')\n",
    "# plt.ylabel('slp')\n",
    "# plt.title('Original')\n",
    "# plt.figure(figsize=(15,5))\n",
    "# plt.plot(fit_trgt_ds,alpha=0.3);\n",
    "# plt.xlabel('time')\n",
    "# plt.ylabel('slp')\n",
    "# plt.title('Downsampled')\n",
    "\n",
    "syn_data = np.load('datasets/id001_ac/AC_syn_tvb_ez=59_pz=82-74.npz')\n",
    "srcSig = syn_data['src_sig'][2200:3800:20,0,:,0] + syn_data['src_sig'][2200:3800:20,3,:,0]\n",
    "plt.figure(figsize=(15,10))\n",
    "plt.subplot(211)\n",
    "plt.plot(srcSig);"
   ]
  },
  {
   "cell_type": "markdown",
   "metadata": {},
   "source": [
    "Preprocessing retrospective patients data"
   ]
  },
  {
   "cell_type": "code",
   "execution_count": null,
   "metadata": {},
   "outputs": [],
   "source": [
    "%matplotlib inline\n",
    "import lib.io.stan\n",
    "import matplotlib.pyplot as plt\n",
    "import lib.preprocess.envelope\n",
    "import numpy as np"
   ]
  },
  {
   "cell_type": "code",
   "execution_count": null,
   "metadata": {},
   "outputs": [],
   "source": [
    "data = lib.io.stan.rload('datasets/RetrospectivePatients/id001_bt/vep/data.R')"
   ]
  },
  {
   "cell_type": "code",
   "execution_count": null,
   "metadata": {},
   "outputs": [],
   "source": [
    "data.keys()"
   ]
  },
  {
   "cell_type": "code",
   "execution_count": null,
   "metadata": {},
   "outputs": [],
   "source": [
    "print(data['counts_triu'].shape, data['nn']*(data['nn']-1)/2.0)\n",
    "\n",
    "sc = data['counts_triu'].reshape((data['nn'],data['nn']))\n"
   ]
  },
  {
   "cell_type": "code",
   "execution_count": null,
   "metadata": {},
   "outputs": [],
   "source": [
    "np.where(data['is_first'] == 1)[0][1]\n",
    "# print(data['is_first'])"
   ]
  },
  {
   "cell_type": "code",
   "execution_count": null,
   "metadata": {},
   "outputs": [],
   "source": [
    "plt.figure(figsize=(20,5))\n",
    "plt.plot(data['seeg'].T);"
   ]
  },
  {
   "cell_type": "code",
   "execution_count": null,
   "metadata": {},
   "outputs": [],
   "source": [
    "szr_onset_idxs = np.where(data['is_first'] == 1)[0]\n",
    "print(szr_onset_idxs)\n",
    "seeg = data['seeg'][:,0:szr_onset_idxs[1]].T\n",
    "seeg = data['seeg'][:,szr_onset_idxs[3]:-1].T\n",
    "t = lib.preprocess.envelope.bfilt(seeg, 64, 5.0, 'highpass', axis=0)\n",
    "plt.figure(figsize=(25,5))\n",
    "plt.plot(t);\n",
    "t = lib.preprocess.envelope.bfilt(seeg, 64, 20.0, 'lowpass', axis=0)\n",
    "plt.figure(figsize=(25,5))\n",
    "plt.plot(t);\n",
    "t = lib.preprocess.envelope.bfilt(t, 64, 10.0, 'lowpass', axis=0)\n",
    "plt.figure(figsize=(25,5))\n",
    "plt.plot(t);\n",
    "# slp = lib.preprocess.envelope.compute_fitting_target(seeg, 256)\n",
    "# seeg_mov_avg = lib.preprocess.envelope.mov_avg(seeg, 10)"
   ]
  },
  {
   "cell_type": "code",
   "execution_count": null,
   "metadata": {},
   "outputs": [],
   "source": [
    "ez_clin_hyp = np.loadtxt('datasets/RetrospectivePatients/id001_bt/tvb/ez_hypothesis.destrieux.txt')"
   ]
  },
  {
   "cell_type": "code",
   "execution_count": null,
   "metadata": {},
   "outputs": [],
   "source": [
    "np.where(ez_clin_hyp == 1)[0]+1"
   ]
  },
  {
   "cell_type": "code",
   "execution_count": null,
   "metadata": {},
   "outputs": [],
   "source": [
    "import mne\n",
    "import json\n",
    "import matplotlib.pyplot as plt\n",
    "import numpy as np\n",
    "import lib.preprocess.envelope\n",
    "import lib.io.stan"
   ]
  },
  {
   "cell_type": "code",
   "execution_count": null,
   "metadata": {},
   "outputs": [],
   "source": [
    "data_dir = 'datasets/retro/id001_bt'\n",
    "with open(f'{data_dir}/seeg/fif/BTcrise1appportable_0006.json') as fd:\n",
    "    meta_data = json.load(fd)\n",
    "bad_channels = meta_data['bad_channels']\n",
    "exclude = meta_data['bad_channels'] + meta_data['non_seeg_channels']\n",
    "# fif_fname = os.path.join(os.path.dirname(js['_source']), js['filename'])\n",
    "raw = mne.io.Raw(f'{data_dir}/seeg/fif/BTcrise1appportable_0006.raw.fif', verbose='WARNING')\n",
    "# raw = mne.io.Raw(fif_fname, verbose='WARNING')\n",
    "picks = set(raw.ch_names) - set(exclude)\n",
    "assert meta_data['onset'] is not None and meta_data['termination'] is not None\n",
    "# raw.crop(tmin=meta_data['onset'], tmax=meta_data['termination'])\n",
    "raw.load_data()\n",
    "raw.pick_channels(picks)"
   ]
  },
  {
   "cell_type": "code",
   "execution_count": null,
   "metadata": {},
   "outputs": [],
   "source": [
    "meta_data['onset'], raw.info['sfreq']"
   ]
  },
  {
   "cell_type": "code",
   "execution_count": null,
   "metadata": {},
   "outputs": [],
   "source": [
    "seeg = raw.get_data().T#[0:-1:8,:]\n",
    "# help(raw.crop)\n",
    "seeg.shape"
   ]
  },
  {
   "cell_type": "code",
   "execution_count": null,
   "metadata": {},
   "outputs": [],
   "source": [
    "plt.figure(figsize=(25,30))\n",
    "plt.plot(seeg/np.max(seeg, axis=0) + 2 * np.r_[0:raw.info['nchan']]);\n",
    "# plt.plot(seeg/np.max(seeg,axis=0),'k');"
   ]
  },
  {
   "cell_type": "code",
   "execution_count": null,
   "metadata": {},
   "outputs": [],
   "source": [
    "# t = np.zeros_like(seeg)\n",
    "\n",
    "for i in range(seeg.shape[1]):\n",
    "    ts = seeg[:,i]\n",
    "    ts[abs(ts - ts.mean())>2*ts.std()] = ts.mean()\n",
    "#     seeg[:,i] = ts"
   ]
  },
  {
   "cell_type": "code",
   "execution_count": null,
   "metadata": {},
   "outputs": [],
   "source": [
    "plt.figure(figsize=[25,5])\n",
    "plt.plot(seeg[0:-1:int(raw.info['sfreq']/4)]);"
   ]
  },
  {
   "cell_type": "code",
   "execution_count": null,
   "metadata": {},
   "outputs": [],
   "source": [
    "seeg = lib.preprocess.envelope.bfilt(seeg, raw.info['sfreq'], 10.0, 'highpass', axis=0)\n",
    "plt.figure(figsize=(25,5))\n",
    "plt.plot(seeg[0:-1:int(raw.info['sfreq']/4)],'k',alpha=0.3);\n",
    "plt.title('Highpass at fcut=5')"
   ]
  },
  {
   "cell_type": "code",
   "execution_count": null,
   "metadata": {},
   "outputs": [],
   "source": [
    "seeg = lib.preprocess.envelope.seeg_log_power(seeg, 50)#[0:-65,:]\n",
    "plt.figure(figsize=(25,5))\n",
    "plt.plot(seeg[0:-1:int(raw.info['sfreq']/4)],'k',alpha=0.3);\n",
    "plt.title('log of moving average')"
   ]
  },
  {
   "cell_type": "code",
   "execution_count": null,
   "metadata": {},
   "outputs": [],
   "source": [
    "# t3 = np.zeros_like(t2)\n",
    "\n",
    "for i in range(seeg.shape[1]):\n",
    "    ts = seeg[:,i]\n",
    "    ts[abs(ts - ts.mean())>2*ts.std()] = ts.mean()\n",
    "#     seeg[:,i] = ts"
   ]
  },
  {
   "cell_type": "code",
   "execution_count": null,
   "metadata": {},
   "outputs": [],
   "source": [
    "plt.figure(figsize=[25,5])\n",
    "plt.plot(seeg,'k', alpha=0.3);\n",
    "# plt.plot(t2);"
   ]
  },
  {
   "cell_type": "code",
   "execution_count": null,
   "metadata": {},
   "outputs": [],
   "source": [
    "seeg = lib.preprocess.envelope.bfilt(seeg, raw.info['sfreq'], 0.04, 'lowpass', axis=0)\n",
    "plt.figure(figsize=(25,5))\n",
    "plt.plot(seeg[0:-1:int(raw.info['sfreq'])], 'k', alpha=0.3);\n",
    "plt.title('low pass filtered at 10Hz to smooth')"
   ]
  },
  {
   "cell_type": "code",
   "execution_count": null,
   "metadata": {},
   "outputs": [],
   "source": [
    "slp = seeg[0:-1:int(raw.info['sfreq']),:]\n",
    "plt.figure(figsize=(25,5))\n",
    "plt.plot(slp,'k',alpha=0.3)\n",
    "# plt.vlines(180,3,15,colors='red')\n",
    "plt.title('Downsampled')"
   ]
  },
  {
   "cell_type": "code",
   "execution_count": null,
   "metadata": {},
   "outputs": [],
   "source": [
    "raw.info['sfreq']"
   ]
  },
  {
   "cell_type": "code",
   "execution_count": null,
   "metadata": {},
   "outputs": [],
   "source": [
    "slp = lib.preprocess.envelope.compute_fitting_target(t,64)\n",
    "plt.figure(figsize=(25,5))\n",
    "plt.plot(slp[0:-65:128,:],'k',alpha=0.3);"
   ]
  },
  {
   "cell_type": "code",
   "execution_count": null,
   "metadata": {},
   "outputs": [],
   "source": [
    "import numpy as np\n",
    "%matplotlib inline\n",
    "import matplotlib.pyplot as plt"
   ]
  },
  {
   "cell_type": "code",
   "execution_count": null,
   "metadata": {},
   "outputs": [],
   "source": [
    "mode = 10.0\n",
    "sigma = 0.5\n",
    "t_star = np.random.normal(0,1,1000)\n",
    "print(np.mean(sigma*t_star))\n",
    "# t_star = t_star[np.logical_and(t_star>-1,t_star<1)]\n",
    "t = np.exp(sigma**2 + np.log(mode) + sigma*t_star);\n",
    "t_star = np.log(t)\n",
    "plt.figure(figsize=(10,5))\n",
    "plt.subplot(211)\n",
    "plt.hist(t,bins=100);\n",
    "plt.subplot(212)\n",
    "plt.hist(t_star,bins=50,color='black',alpha=0.4);\n",
    "print(np.mean(t_star) - sigma**2 - np.log(mode))\n",
    "plt.tight_layout()\n"
   ]
  },
  {
   "cell_type": "code",
   "execution_count": null,
   "metadata": {},
   "outputs": [],
   "source": [
    "np.exp(1 + np.log(0.1))"
   ]
  },
  {
   "cell_type": "markdown",
   "metadata": {},
   "source": [
    "### Log normal distribution"
   ]
  },
  {
   "cell_type": "code",
   "execution_count": null,
   "metadata": {},
   "outputs": [],
   "source": [
    "np.exp(1 + np.log(0.1))"
   ]
  },
  {
   "cell_type": "code",
   "execution_count": null,
   "metadata": {},
   "outputs": [],
   "source": [
    "t = np.random.normal(0,1,10)\n",
    "print(t)\n",
    "idxs = np.logical_and(t>-1, t<1) \n",
    "print(idxs)\n",
    "print(t[idxs])"
   ]
  },
  {
   "cell_type": "markdown",
   "metadata": {},
   "source": [
    "### Rescaled distribution"
   ]
  },
  {
   "cell_type": "code",
   "execution_count": null,
   "metadata": {},
   "outputs": [],
   "source": [
    "%matplotlib inline\n",
    "import numpy as np\n",
    "import matplotlib.pyplot as plt"
   ]
  },
  {
   "cell_type": "code",
   "execution_count": null,
   "metadata": {},
   "outputs": [],
   "source": [
    "def norm(x,mu,sigma):\n",
    "    return (1/(sigma*np.sqrt(2*np.pi)))*np.exp(-((x-mu)/sigma)**2)\n",
    "    \n",
    "x = np.r_[-10:10:0.1]\n",
    "fx = norm(x,0,1)\n",
    "alpha = 10\n",
    "x_star = np.r_[-alpha*10:alpha*10:0.1]\n",
    "fx_star = norm(x_star/alpha,0,1)*(1/alpha)\n",
    "plt.figure(figsize=(5,5))\n",
    "plt.plot(x,fx)\n",
    "plt.figure(figsize=(5,5))\n",
    "plt.plot(x_star,fx_star)\n"
   ]
  },
  {
   "cell_type": "markdown",
   "metadata": {},
   "source": [
    "### Plot preprocessed retrospective data"
   ]
  },
  {
   "cell_type": "code",
   "execution_count": null,
   "metadata": {},
   "outputs": [],
   "source": [
    "%matplotlib inline\n",
    "import numpy as np\n",
    "import matplotlib.pyplot as plt\n",
    "import lib.io.stan\n",
    "import glob\n",
    "import os"
   ]
  },
  {
   "cell_type": "code",
   "execution_count": null,
   "metadata": {},
   "outputs": [],
   "source": [
    "t = []\n",
    "for fname in glob.glob('results/exp10/exp10.65/id004_bj/Rfiles/fit_data*.R'):\n",
    "    print(fname)\n",
    "    t.append(lib.io.stan.rload(fname))"
   ]
  },
  {
   "cell_type": "code",
   "execution_count": null,
   "metadata": {},
   "outputs": [],
   "source": [
    "plt.figure(figsize=(25,5))\n",
    "plt.plot(t[3]['slp'], color='black', alpha=0.3);"
   ]
  },
  {
   "cell_type": "code",
   "execution_count": null,
   "metadata": {},
   "outputs": [],
   "source": [
    "plt.figure(figsize=(25,25))\n",
    "for i,szr_data in enumerate(t):\n",
    "    plt.subplot(4,1,i+1)\n",
    "    plt.plot(szr_data['slp'], color='black', alpha=0.3)"
   ]
  },
  {
   "cell_type": "markdown",
   "metadata": {},
   "source": [
    "### pymc3 test"
   ]
  },
  {
   "cell_type": "code",
   "execution_count": null,
   "metadata": {},
   "outputs": [],
   "source": [
    "%matplotlib inline\n",
    "import pymc3 as pm\n",
    "import numpy as np\n",
    "import matplotlib.pyplot as plt\n",
    "import theano.tensor as T"
   ]
  },
  {
   "cell_type": "code",
   "execution_count": null,
   "metadata": {},
   "outputs": [],
   "source": [
    "def logNormal(x, mode=0, sd=1):\n",
    "    return np.exp(sd**2 + np.log(mode) + sd*x)"
   ]
  },
  {
   "cell_type": "code",
   "execution_count": null,
   "metadata": {},
   "outputs": [],
   "source": [
    "t = logNormal(np.random.normal(loc=0, scale=1, size=1000), mode=10, sd=0.1)\n",
    "plt.hist(t)"
   ]
  },
  {
   "cell_type": "code",
   "execution_count": null,
   "metadata": {},
   "outputs": [],
   "source": [
    "mode = 10\n",
    "sd = 0.1\n",
    "print('mu =', sd**2 + np.log(mode))\n",
    "class mymodel:\n",
    "    def __init__(self):\n",
    "        self.model = pm.Model()\n",
    "        with self.model as model:\n",
    "            mu = pm.Uniform('mu', lower=-10, upper=10)\n",
    "            t = np.ones(10).sum()\n",
    "            obs = pm.Lognormal('obs', mu=mu, sd=1.0, observed=logNormal(np.random.normal(loc=0, scale=1, size=1000), mode=10, sd=0.1))\n",
    "    def sample(self, iters):\n",
    "        with self.model as model:\n",
    "            return pm.sample(iters)\n",
    "        \n",
    "mdl = mymodel()\n",
    "trace = mdl.sample(1000)"
   ]
  },
  {
   "cell_type": "code",
   "execution_count": null,
   "metadata": {},
   "outputs": [],
   "source": [
    "pm.traceplot(trace)"
   ]
  },
  {
   "cell_type": "code",
   "execution_count": null,
   "metadata": {},
   "outputs": [],
   "source": [
    "pm.plot_posterior(trace)"
   ]
  },
  {
   "cell_type": "code",
   "execution_count": null,
   "metadata": {},
   "outputs": [],
   "source": [
    "with pm.Model() as model:\n",
    "    t = pm.Normal('t', mu=0, sd=0.1)\n",
    "    print(np.exp(t.logp({'t':0})))"
   ]
  },
  {
   "cell_type": "code",
   "execution_count": null,
   "metadata": {},
   "outputs": [],
   "source": [
    "with pm.Model() as model:\n",
    "    t1 = pm.Normal('t1', mu=0, sd=0.1, shape=(3,3))\n",
    "    print(np.exp(t1.logp({'t1':np.zeros([3,3])})))"
   ]
  },
  {
   "cell_type": "code",
   "execution_count": null,
   "metadata": {},
   "outputs": [],
   "source": [
    "3.989422804014327**9"
   ]
  },
  {
   "cell_type": "code",
   "execution_count": null,
   "metadata": {},
   "outputs": [],
   "source": [
    "np.repeat(np.r_[1:10][:,np.newaxis],5,axis=1)"
   ]
  },
  {
   "cell_type": "markdown",
   "metadata": {},
   "source": [
    "### Test epileptor simulation code"
   ]
  },
  {
   "cell_type": "code",
   "execution_count": null,
   "metadata": {},
   "outputs": [],
   "source": [
    "%matplotlib inline\n",
    "import numpy as np\n",
    "from dyn_model import *\n",
    "import matplotlib.pyplot as plt"
   ]
  },
  {
   "cell_type": "code",
   "execution_count": null,
   "metadata": {},
   "outputs": [],
   "source": [
    "network = np.load(f'datasets/id002_cj/CJ_network.npz')\n",
    "params = dict()\n",
    "params['SC'] = network['SC']\n",
    "params['SC'] = params['SC'] / params['SC'].max()\n",
    "params['SC'][np.diag_indices(params['SC'].shape[0])] = 0\n",
    "gain = network['gain_mat']\n",
    "\n",
    "\n",
    "\n",
    "params['nn'] = params['SC'].shape[0]\n",
    "params['ns'] = gain.shape[0]\n",
    "params['nt'] = 150\n",
    "params['I1'] = 3.1\n",
    "params['time_step'] = 0.1\n",
    "params['x_init'] = -2.0*np.ones(params['nn'])\n",
    "params['z_init'] = 3.5*np.ones(params['nn'])\n",
    "epsilon_slp = 0.1\n",
    "epsilon_snsr_pwr = 5.0\n",
    "\n",
    "params['x0'] = -2.5*np.ones(params['nn'])\n",
    "params['x0'][[6,34]] = -1.8\n",
    "amplitude_slp = 1.0\n",
    "offset_slp = 0.0\n",
    "params['tau0'] = 10\n",
    "params['K'] = 1"
   ]
  },
  {
   "cell_type": "code",
   "execution_count": null,
   "metadata": {},
   "outputs": [],
   "source": [
    "ep = Epileptor_2D()\n",
    "sim_out = ep.sim(params)"
   ]
  },
  {
   "cell_type": "code",
   "execution_count": null,
   "metadata": {},
   "outputs": [],
   "source": [
    "def dx(x, z, I1):\n",
    "    dx_eval = 1 - x**3 - 2 * x**2 - z + 3.1\n",
    "    return dx_eval\n",
    "\n",
    "\n",
    "def dz(x, z, SC, K, x0, tau0):\n",
    "    nn = x.size\n",
    "    x_diff = np.repeat(x[:, np.newaxis], nn, axis=1) - x\n",
    "    gx = K * SC * x_diff.T\n",
    "    dz_eval = (1 / tau0) * (4 * (x - x0) - z - gx.sum(axis=1))\n",
    "    return dz_eval\n",
    "\n",
    "\n",
    "def step(x_prev, z_prev, dt, SC, K, x0, I1, tau0):\n",
    "    x_next = x_prev + dt*dx(x_prev, z_prev, I1)\n",
    "    z_next = z_prev + dt*dz(x_prev, z_prev, SC, K, x0, tau0)\n",
    "    return x_next, z_next"
   ]
  },
  {
   "cell_type": "code",
   "execution_count": null,
   "metadata": {},
   "outputs": [],
   "source": [
    "sim_out = dict()\n",
    "sim_out['x'] = np.zeros([params['nt'],params['nn']])\n",
    "sim_out['z'] = np.zeros([params['nt'],params['nn']])\n",
    "for i in range(params['nt']):\n",
    "    if(i == 0):\n",
    "        sim_out['x'][i], sim_out['z'][i] = step(params['x_init'], params['z_init'], params['time_step'], params['SC'], params['K'], params['x0'], params['I1'], params['tau0'])\n",
    "    else:\n",
    "        sim_out['x'][i], sim_out['z'][i] = step(sim_out['x'][i-1], sim_out['z'][i-1], params['time_step'], params['SC'], params['K'], params['x0'], params['I1'], params['tau0'])"
   ]
  },
  {
   "cell_type": "code",
   "execution_count": null,
   "metadata": {},
   "outputs": [],
   "source": [
    "sim_out = ep.sim(nt)"
   ]
  },
  {
   "cell_type": "code",
   "execution_count": null,
   "metadata": {},
   "outputs": [],
   "source": [
    "plt.figure(figsize=(25,5))\n",
    "for i in range(params['nn']):\n",
    "    if i in [6,34]:\n",
    "        plt.plot(sim_out['x'][:,i], 'r');\n",
    "    else:\n",
    "        plt.plot(sim_out['x'][:,i], 'k')\n",
    "plt.figure(figsize=(25,5))\n",
    "for i in range(params['nn']):\n",
    "    if i in [6,34]:\n",
    "        plt.plot(sim_out['z'][:,i], 'r');\n",
    "    else:\n",
    "        plt.plot(sim_out['z'][:,i], 'k')\n"
   ]
  },
  {
   "cell_type": "code",
   "execution_count": null,
   "metadata": {},
   "outputs": [],
   "source": [
    "x[0].size"
   ]
  },
  {
   "cell_type": "code",
   "execution_count": null,
   "metadata": {},
   "outputs": [],
   "source": [
    "np.repeat(t, 5, axis=0)"
   ]
  },
  {
   "cell_type": "code",
   "execution_count": null,
   "metadata": {},
   "outputs": [],
   "source": [
    "%matplotlib inline\n",
    "import numpy as np\n",
    "import matplotlib.pyplot as plt"
   ]
  },
  {
   "cell_type": "code",
   "execution_count": null,
   "metadata": {},
   "outputs": [],
   "source": [
    "x = np.r_[-10:10:0.1]\n",
    "y1 = -x + 4\n",
    "y2 = 2*x + 5"
   ]
  },
  {
   "cell_type": "code",
   "execution_count": null,
   "metadata": {},
   "outputs": [],
   "source": [
    "plt.figure()\n",
    "plt.plot(x,y1)\n",
    "plt.plot(x,y2)"
   ]
  },
  {
   "cell_type": "code",
   "execution_count": null,
   "metadata": {},
   "outputs": [],
   "source": [
    "t = np.arange(1,17).reshape(4,4)"
   ]
  },
  {
   "cell_type": "code",
   "execution_count": null,
   "metadata": {},
   "outputs": [],
   "source": [
    "t.max()"
   ]
  },
  {
   "cell_type": "code",
   "execution_count": null,
   "metadata": {},
   "outputs": [],
   "source": [
    "x = np.arange(1,17).reshape(4,4)\n",
    "print(x**2)\n"
   ]
  },
  {
   "cell_type": "code",
   "execution_count": null,
   "metadata": {},
   "outputs": [],
   "source": [
    "(x**2).sum(axis=1)"
   ]
  },
  {
   "cell_type": "code",
   "execution_count": null,
   "metadata": {},
   "outputs": [],
   "source": [
    "x[np.newaxis,:].repeat(4,axis=0) - x[:,np.newaxis]"
   ]
  },
  {
   "cell_type": "code",
   "execution_count": null,
   "metadata": {},
   "outputs": [],
   "source": [
    "x[:,np.newaxis]"
   ]
  },
  {
   "cell_type": "markdown",
   "metadata": {},
   "source": [
    "### Theano ODE solver"
   ]
  },
  {
   "cell_type": "code",
   "execution_count": null,
   "metadata": {},
   "outputs": [],
   "source": [
    "%matplotlib inline\n",
    "import theano\n",
    "import matplotlib.pyplot as plt"
   ]
  },
  {
   "cell_type": "code",
   "execution_count": null,
   "metadata": {},
   "outputs": [],
   "source": [
    "def y_t(y_t_prev, dt, K):\n",
    "    return y_t_prev + dt*(-1*y_t_prev) + K\n",
    "\n",
    "y_init = theano.tensor.dscalar('y_init')\n",
    "dt = theano.tensor.dscalar('dt')\n",
    "K = theano.tensor.dscalar('K')\n",
    "\n",
    "output, updates = theano.scan(fn=y_t,\n",
    "                              outputs_info=[y_init],\n",
    "                              non_sequences=[dt, K],\n",
    "                              n_steps=100)\n",
    "\n",
    "f = theano.function(inputs=[y_init, dt, K],\n",
    "                    outputs=output,\n",
    "                    updates=updates,\n",
    "                    on_unused_input='warn')\n",
    "\n",
    "# y_init_val = 100\n",
    "# dt_val = 0.1\n",
    "# K_val = 10\n",
    "# y = f(y_init_val, dt_val)"
   ]
  },
  {
   "cell_type": "code",
   "execution_count": null,
   "metadata": {},
   "outputs": [],
   "source": [
    "y_init_val = 100\n",
    "dt_val = 0.1\n",
    "y = f(y_init_val, dt_val)"
   ]
  },
  {
   "cell_type": "code",
   "execution_count": null,
   "metadata": {},
   "outputs": [],
   "source": [
    "plt.plot(y)"
   ]
  },
  {
   "cell_type": "markdown",
   "metadata": {},
   "source": [
    "### Theano epileptor ODE solver"
   ]
  },
  {
   "cell_type": "code",
   "execution_count": null,
   "metadata": {},
   "outputs": [],
   "source": [
    "%matplotlib inline\n",
    "import theano\n",
    "import matplotlib.pyplot as plt\n",
    "import numpy as np\n",
    "from dyn_model import Epileptor_2D"
   ]
  },
  {
   "cell_type": "code",
   "execution_count": null,
   "metadata": {},
   "outputs": [],
   "source": [
    "\n",
    "# def dx(x, z, I1):\n",
    "#     dx_eval = 1 - x**3 - 2 * x**2 - z + 3.1\n",
    "#     return dx_eval\n",
    "\n",
    "# def dz(x, z, SC, K, x0, tau0, nn):\n",
    "#     x_diff = np.repeat(x[:, np.newaxis], nn, axis=1) - x\n",
    "#     gx = K * SC * x_diff.T\n",
    "#     dz_eval = (1 / tau0) * (4 * (x - x0) - z - gx.sum(axis=1))\n",
    "#     return dz_eval\n",
    "\n",
    "# def step(x_prev, z_prev, dt, SC, K, x0, I1, tau0, nn):\n",
    "#     x_next = x_prev + dt*dx(x_prev, z_prev, I1)\n",
    "#     z_next = z_prev + dt*dz(x_prev, z_prev, SC, K, x0, tau0, nn)\n",
    "#     return x_next, z_next\n",
    "\n",
    "    \n",
    "# dt = theano.tensor.dscalar('dt')\n",
    "# x_init = theano.tensor.dvector('x_init')\n",
    "# z_init = theano.tensor.dvector('z_init')\n",
    "# SC = theano.tensor.dmatrix('SC')\n",
    "# I1 = theano.tensor.dscalar('I1')\n",
    "# K = theano.tensor.dscalar('K')\n",
    "# x0 = theano.tensor.dvector('x0')\n",
    "# tau0 = theano.tensor.dscalar('tau0')\n",
    "# nn = theano.tensor.iscalar('nn')\n",
    "\n",
    "# output, updates = theano.scan(fn=step,\n",
    "#                               outputs_info=[x_init, z_init],\n",
    "#                               non_sequences=[dt, SC, K, x0, I1, tau0, nn],\n",
    "#                               n_steps=150)\n",
    "\n",
    "# x = output[0]\n",
    "# z = output[1]\n",
    "\n",
    "# f = theano.function(inputs=[x_init, z_init, dt, SC, K, x0, I1, tau0, nn],\n",
    "#                     outputs=[x, z],\n",
    "#                     updates=updates)\n",
    "\n",
    "class epileptor2d:\n",
    "    def __init__(self, nt):\n",
    "        self.dt = theano.tensor.dscalar('dt')\n",
    "        self.x_init = theano.tensor.dvector('x_init')\n",
    "        self.z_init = theano.tensor.dvector('z_init')\n",
    "        self.SC = theano.tensor.dmatrix('SC')\n",
    "        self.I1 = theano.tensor.dscalar('I1')\n",
    "        self.K = theano.tensor.dscalar('K')\n",
    "        self.x0 = theano.tensor.dvector('x0')\n",
    "        self.tau0 = theano.tensor.dscalar('tau0')\n",
    "        self.nn = theano.tensor.iscalar('nn')\n",
    "        self.time_step = theano.tensor.dscalar('time_step')\n",
    "        self.nt = nt\n",
    "        self.output, self.updates = theano.scan(fn=self.step,\n",
    "                                      outputs_info=[self.x_init, self.z_init],\n",
    "                                      non_sequences=[self.dt, self.SC, self.K, self.x0, self.I1, self.tau0, self.nn],\n",
    "                                      n_steps=self.nt)\n",
    "\n",
    "        self.x = self.output[0]\n",
    "        self.z = self.output[1]\n",
    "\n",
    "        self.f = theano.function(inputs=[self.x_init, self.z_init, self.dt, self.SC, self.K, self.x0, self.I1, self.tau0, self.nn],\n",
    "                            outputs=[self.x],\n",
    "                            updates=self.updates)\n",
    "\n",
    "    def dx(self, x, z, I1):\n",
    "        dx_eval = 1 - x**3 - 2 * x**2 - z + 3.1\n",
    "        return dx_eval\n",
    "\n",
    "    def dz(self, x, z, SC, K, x0, tau0, nn):\n",
    "        x_diff = np.repeat(x[:, np.newaxis], nn, axis=1) - x\n",
    "        gx = K * SC * x_diff\n",
    "        dz_eval = (1 / tau0) * (4 * (x - x0) - z - gx.sum(axis=1))\n",
    "        return dz_eval\n",
    "\n",
    "    def step(self, x_prev, z_prev, dt, SC, K, x0, I1, tau0, nn):\n",
    "        x_next = x_prev + dt * self.dx(x_prev, z_prev, I1)\n",
    "        z_next = z_prev + dt * self.dz(x_prev, z_prev, SC, K, x0, tau0, nn)\n",
    "        return x_next, z_next\n",
    "    \n",
    "    def sim(self, x_init_val, z_init_val, dt_val, SC_val, K_val, x0_val, I1_val, tau0_val, nn_val):\n",
    "        return self.f(x_init_val, z_init_val, dt_val, SC_val, K_val, x0_val, I1_val, tau0_val, nn_val)\n",
    "        "
   ]
  },
  {
   "cell_type": "code",
   "execution_count": null,
   "metadata": {},
   "outputs": [],
   "source": [
    "network = np.load(f'datasets/id002_cj/CJ_network.npz')\n",
    "SC_val = network['SC']\n",
    "SC_val = SC_val / SC_val.max()\n",
    "SC_val[np.diag_indices(SC_val.shape[0])] = 0\n",
    "# gain_mat = network['gain_mat']\n",
    "\n",
    "\n",
    "\n",
    "nn_val = SC_val.shape[0]\n",
    "# ns = gain_mat.shape[0]\n",
    "nt_val = 150\n",
    "I1_val = 3.1\n",
    "dt_val = 0.1\n",
    "x_init_val = -2.0*np.ones(nn_val)\n",
    "z_init_val = 3.5*np.ones(nn_val)\n",
    "K_val = 1\n",
    "time_step_val = 0.1\n",
    "# epsilon_slp = 0.1\n",
    "# epsilon_snsr_pwr = 5.0\n",
    "# sigma=0.01\n",
    "\n",
    "x0_val = -2.5*np.ones(nn_val)\n",
    "x0_val[[6,34,58]] = -1.8\n",
    "# amplitude_slp = 1.0\n",
    "# offset_slp = 0.0\n",
    "tau0_val = 10\n",
    "# ep = epileptor2d(nt_val)\n",
    "ep = Epileptor_2D(nt_val)\n",
    "xt,zt = ep.sim(x_init_val, z_init_val, dt_val, SC_val, K_val, x0_val, I1_val, tau0_val, nn_val)"
   ]
  },
  {
   "cell_type": "code",
   "execution_count": null,
   "metadata": {},
   "outputs": [],
   "source": [
    "xt.shape"
   ]
  },
  {
   "cell_type": "code",
   "execution_count": null,
   "metadata": {},
   "outputs": [],
   "source": [
    "plt.figure()\n",
    "plt.subplot(131)\n",
    "plt.plot(xt[:,6])\n",
    "plt.subplot(132)\n",
    "plt.plot(xt[:,34])\n",
    "plt.subplot(133)\n",
    "plt.plot(xt[:,58])"
   ]
  },
  {
   "cell_type": "code",
   "execution_count": null,
   "metadata": {},
   "outputs": [],
   "source": [
    "# plt.figure(figsize=(25,5))\n",
    "# plt.plot(xt);\n",
    "plt.figure(figsize=(25,5))\n",
    "for i in range(nn_val):\n",
    "    if i in [6,34]:\n",
    "        plt.plot(xt[:,i], 'r');\n",
    "    else:\n",
    "        plt.plot(xt[:,i], 'k')\n",
    "plt.figure(figsize=(25,10))\n",
    "for i in range(nn_val):\n",
    "    if i in [6,34]:\n",
    "        plt.plot(zt[:,i], 'r');\n",
    "    else:\n",
    "        plt.plot(zt[:,i], 'k')"
   ]
  },
  {
   "cell_type": "code",
   "execution_count": null,
   "metadata": {},
   "outputs": [],
   "source": [
    "import numpy as np"
   ]
  },
  {
   "cell_type": "code",
   "execution_count": null,
   "metadata": {},
   "outputs": [],
   "source": [
    "t = np.ones([10,15])"
   ]
  },
  {
   "cell_type": "code",
   "execution_count": null,
   "metadata": {},
   "outputs": [],
   "source": [
    "t[0].size"
   ]
  },
  {
   "cell_type": "code",
   "execution_count": null,
   "metadata": {},
   "outputs": [],
   "source": [
    "import theano"
   ]
  },
  {
   "cell_type": "code",
   "execution_count": null,
   "metadata": {},
   "outputs": [],
   "source": [
    "t1 = theano.tensor.dvector('t1')\n",
    "t2 = theano.tensor.repeat(t1, 5, axis=1)\n",
    "\n",
    "t3 = t2 + 10\n",
    "\n",
    "f = theano.function()"
   ]
  },
  {
   "cell_type": "code",
   "execution_count": null,
   "metadata": {},
   "outputs": [],
   "source": [
    "t = dict()"
   ]
  },
  {
   "cell_type": "markdown",
   "metadata": {},
   "source": [
    "## PyMC3 transformed variables"
   ]
  },
  {
   "cell_type": "code",
   "execution_count": null,
   "metadata": {},
   "outputs": [],
   "source": [
    "import theano\n",
    "import pymc3 as pm\n",
    "import numpy as np\n",
    "import matplotlib.pyplot as plt\n",
    "import lib.pymc3.transforms as tr"
   ]
  },
  {
   "cell_type": "code",
   "execution_count": null,
   "metadata": {},
   "outputs": [],
   "source": [
    "with pm.Model() as mdl:\n",
    "    alpha = pm.Uniform('alpha', lower=0)\n",
    "    x = pm.Normal('x', mu=10, sd=1, transform=tr.linear(alpha, 0))\n",
    "    approx = pm.fit()\n",
    "    trace = approx.sample()"
   ]
  },
  {
   "cell_type": "code",
   "execution_count": null,
   "metadata": {},
   "outputs": [],
   "source": [
    "plt.figure(figsize=[12,5])\n",
    "plt.subplot(121)\n",
    "plt.hist(trace['x'])\n",
    "plt.subplot(122)\n",
    "plt.hist(trace['x_linear__'])"
   ]
  },
  {
   "cell_type": "code",
   "execution_count": null,
   "metadata": {},
   "outputs": [],
   "source": [
    "class scaled(pm.distributions.transforms.ElemwiseTransform):\n",
    "    name = \"scaled\"\n",
    "    def __init__(self, alpha):\n",
    "        super(pm.distributions.transforms.ElemwiseTransform,self).__init__()\n",
    "        self.alpha = alpha\n",
    "    def forward(self, x):\n",
    "        return self.alpha*x\n",
    "    def backward(self, x):\n",
    "        return (1/self.alpha)*x\n",
    "    def jacobian_det(self, x):\n",
    "        return -theano.tensor.log(self.alpha)\n",
    "with pm.Model() as mdl2:\n",
    "    alpha = pm.Uniform('alpha',lower=0)\n",
    "    x = pm.Normal('x', mu=10, sd=1.0, transform=scaled(alpha))\n",
    "    approx = pm.fit()"
   ]
  },
  {
   "cell_type": "code",
   "execution_count": null,
   "metadata": {},
   "outputs": [],
   "source": [
    "trace = approx.sample(1000)"
   ]
  },
  {
   "cell_type": "code",
   "execution_count": null,
   "metadata": {},
   "outputs": [],
   "source": [
    "plt.figure()\n",
    "plt.hist(trace['x'],color='black',alpha=0.3)\n",
    "plt.figure()\n",
    "plt.hist(trace['x_scaled__'],color='blue',alpha=0.1)"
   ]
  },
  {
   "cell_type": "code",
   "execution_count": null,
   "metadata": {},
   "outputs": [],
   "source": [
    "plt.hist(trace['alpha'])"
   ]
  },
  {
   "cell_type": "code",
   "execution_count": null,
   "metadata": {},
   "outputs": [],
   "source": [
    "import pymc3 as pm"
   ]
  },
  {
   "cell_type": "code",
   "execution_count": null,
   "metadata": {},
   "outputs": [],
   "source": [
    "trace = pm.backends.load_trace('results/exp10/exp10.66')"
   ]
  },
  {
   "cell_type": "code",
   "execution_count": null,
   "metadata": {},
   "outputs": [],
   "source": [
    "import numpy as np\n",
    "import matplotlib.pyplot as plt"
   ]
  },
  {
   "cell_type": "code",
   "execution_count": null,
   "metadata": {},
   "outputs": [],
   "source": [
    "t = np.load('results/exp10/exp10.65.1/id004_bj/samples/0/samples.npz')\n",
    "ez_hyp = np.where(np.loadtxt('datasets/RetrospectivePatients/id004_bj/tvb/ez_hypothesis.destrieux.txt') == 1)[0] + 1\n",
    "# ez_hyp = np.loadtxt('datasets/RetrospectivePatients/id004_bj/tvb/ez_hypothesis.destrieux.txt')"
   ]
  },
  {
   "cell_type": "code",
   "execution_count": null,
   "metadata": {},
   "outputs": [],
   "source": [
    "ez_hyp = np.where(np.loadtxt('datasets/RetrospectivePatients/id004_bj/tvb/ez_hypothesis.destrieux.txt') == 1)\n",
    "print(ez_hyp)"
   ]
  },
  {
   "cell_type": "code",
   "execution_count": null,
   "metadata": {},
   "outputs": [],
   "source": [
    "plt.figure(figsize=(25,5))\n",
    "\n",
    "\n"
   ]
  },
  {
   "cell_type": "code",
   "execution_count": null,
   "metadata": {},
   "outputs": [],
   "source": [
    "import lib.io.stan\n",
    "import lib.plots.stan\n",
    "import numpy as np\n",
    "%matplotlib inline"
   ]
  },
  {
   "cell_type": "code",
   "execution_count": null,
   "metadata": {},
   "outputs": [],
   "source": [
    "fname_suffix = 'hyper_fixed_md15_delta0.95'\n",
    "results_dir = 'results/exp10/exp10.57.7'\n",
    "\n",
    "syn_data = np.load('datasets/id002_cj/CJ_syn_tvb_ez=6-34_pz=27-5-11.npz')\n",
    "fit_data = lib.io.stan.rload(f'{results_dir}/Rfiles/fit_data_snsrfit_ode_{fname_suffix}.R')\n",
    "x0_true = syn_data['x0']\n",
    "ez = syn_data['ez']\n",
    "pz= np.concatenate((syn_data['pz_x0'], syn_data['pz_kplng']))\n",
    "# szng_roi = np.setxor1d(ez, pz)\n",
    "# non_szng_roi = np.setdiff1d(np.r_[0:nn], szng_roi)\n",
    "\n",
    "variables_of_interest = ['lp__','accept_stat__','stepsize__','treedepth__','n_leapfrog__',\\\n",
    "                         'divergent__', 'energy__','x0',  'x', 'z', 'mu_slp', 'mu_snsr_pwr',\\\n",
    "                         'amplitude', 'offset', 'tau0', 'K', 'alpha']\n",
    "chains = [36]\n",
    "nwarmup = 0\n",
    "nsampling = 2000\n",
    "params = ['tau0', 'amplitude', 'offset', 'K', 'alpha']\n",
    "for chain_no in chains:\n",
    "    pstr_samples = lib.io.stan.read_samples([f'{results_dir}/samples_{fname_suffix}_chain{chain_no}.csv'],\n",
    "                                      variables_of_interest=variables_of_interest, nwarmup=nwarmup, nsampling=nsampling)\n",
    "#     for var in pstr_samples.keys():\n",
    "#        pstr_samples[var] = pstr_samples[var][200:]\n",
    "    lib.plots.stan.x0_violin_syn(pstr_samples['x0'], x0_true, ez, pz, figsize=(25,5),\n",
    "                                 legend_loc='lower right')\n",
    "    lib.plots.stan.nuts_diagnostics(pstr_samples, figsize=(15,10))\n",
    "    lib.plots.stan.pair_plots(samples=pstr_samples, params=params,\n",
    "                              sampler='HMC')\n",
    "    \n",
    "    x_pp_mean = np.mean(pstr_samples['x'], axis=0)\n",
    "    z_pp_mean = np.mean(pstr_samples['z'], axis=0)\n",
    "    lib.plots.stan.plot_source(x_pp_mean, z_pp_mean, ez, pz)\n",
    "#     lib.plots.stan.plot_phase(x_pp_mean, z_pp_mean, ez, pz, non_szng_roi)\n",
    "\n",
    "    slp = pstr_samples['mu_slp'].mean(axis=0)\n",
    "    snsr_pwr = pstr_samples['mu_snsr_pwr'].mean(axis=0)\n",
    "    lib.plots.stan.plot_fit_target(data_pred={'slp':slp,'snsr_pwr':snsr_pwr}, data_true={'slp':fit_data['slp'],'snsr_pwr':fit_data['snsr_pwr']})"
   ]
  },
  {
   "cell_type": "code",
   "execution_count": null,
   "metadata": {},
   "outputs": [],
   "source": [
    "import os"
   ]
  },
  {
   "cell_type": "code",
   "execution_count": null,
   "metadata": {},
   "outputs": [],
   "source": [
    "os.path.dirname(os.getcwd())"
   ]
  },
  {
   "cell_type": "code",
   "execution_count": null,
   "metadata": {},
   "outputs": [],
   "source": [
    "%matplotlib inline\n",
    "import numpy as np\n",
    "import lib.io.stan\n",
    "import lib.plots.stan\n",
    "import lib.utils.stan\n",
    "import subprocess\n",
    "import matplotlib.pyplot as plt\n",
    "import os \n",
    "from matplotlib.lines import Line2D\n",
    "import importlib"
   ]
  },
  {
   "cell_type": "code",
   "execution_count": null,
   "metadata": {},
   "outputs": [],
   "source": [
    "data_dir = 'datasets/id002_cj'\n",
    "results_dir = 'results/exp10/exp10.57.18'\n",
    "os.makedirs(results_dir,exist_ok=True)\n",
    "os.makedirs(f'{results_dir}/logs',exist_ok=True)\n",
    "os.makedirs(f'{results_dir}/figures',exist_ok=True)\n",
    "\n",
    "network = np.load(f'{data_dir}/CJ_network.npz')\n",
    "SC = network['SC']\n",
    "K = np.max(SC)\n",
    "print(K)"
   ]
  },
  {
   "cell_type": "markdown",
   "metadata": {},
   "source": [
    "### Retro preprocessing"
   ]
  },
  {
   "cell_type": "code",
   "execution_count": null,
   "metadata": {},
   "outputs": [],
   "source": [
    "%matplotlib inline\n",
    "import numpy as np\n",
    "import lib.io.stan\n",
    "import lib.plots.stan\n",
    "import matplotlib.pyplot as plt\n",
    "import os\n",
    "from matplotlib.lines import Line2D\n",
    "import retro_prepare_data\n",
    "import matplotlib.colors"
   ]
  },
  {
   "cell_type": "code",
   "execution_count": null,
   "metadata": {},
   "outputs": [],
   "source": [
    "data_dir = 'datasets/retro/id023_br'\n",
    "szr_name = 'BR_crise1_PSG_130312B-DEX_0006'\n",
    "meta_data_fname = f'{szr_name}.json'\n",
    "raw_seeg_fname = f'{szr_name}.raw.fif'\n",
    "# fname_suffix = f'{szr_name}'\n",
    "# if os.path.isdir(results_dir):\n",
    "#     os.rmdir(results_dir)\n",
    "# os.makedirs(results_dir,exist_ok=True)\n",
    "# os.makedirs(f'{results_dir}/logs',exist_ok=True)\n",
    "# os.makedirs(f'{results_dir}/figures',exist_ok=True)\n",
    "# os.makedirs(f'{results_dir}/Rfiles', exist_ok=True)"
   ]
  },
  {
   "cell_type": "code",
   "execution_count": null,
   "metadata": {},
   "outputs": [],
   "source": [
    "hpf = 10\n",
    "lpf = 0.02\n",
    "data = retro_prepare_data.prepare_data(data_dir, meta_data_fname, raw_seeg_fname, hpf, lpf)\n",
    "# fname_suffix += f'_hpf{hpf}_lpf{lpf}'"
   ]
  },
  {
   "cell_type": "code",
   "execution_count": null,
   "metadata": {},
   "outputs": [],
   "source": [
    "ds_freq = int(data['slp'].shape[0]/150)\n",
    "data['slp'] = data['slp'][0:-1:ds_freq]\n",
    "# data['snsr_pwr'] = (data['slp']**2).mean(axis=0)\n",
    "data['ns'], data['nn'] = data['gain'].shape\n",
    "# data['nt'] = data['slp'].shape[0]\n",
    "# ez_hyp = np.where(np.loadtxt(f'{data_dir}/tvb/ez_hypothesis.destrieux.txt') == 1)[0]\n",
    "# data['x0_mu'] = -3.0*np.ones(data['nn'])\n",
    "# data['x0_mu'][ez_hyp] = -1.5"
   ]
  },
  {
   "cell_type": "code",
   "execution_count": null,
   "metadata": {},
   "outputs": [],
   "source": [
    "# plt.figure(figsize=(20,5))\n",
    "# plt.subplot(121)\n",
    "# plt.imshow(data['SC'],norm=matplotlib.colors.LogNorm(vmin=1e-6, vmax=data['SC'].max()));\n",
    "# plt.colorbar(fraction=0.046,pad=0.04);\n",
    "# plt.title('Normalized SC (log scale)',fontsize=12, fontweight='bold')\n",
    "\n",
    "# plt.subplot(122)\n",
    "# plt.imshow(data['gain'],norm=matplotlib.colors.LogNorm(vmin=data['gain'].min(), vmax=data['gain'].max()));\n",
    "# plt.colorbar(fraction=0.046,pad=0.04);\n",
    "# plt.xlabel('Region#', fontsize=12)\n",
    "# plt.ylabel('Channel#', fontsize=12)\n",
    "# plt.title('Gain Matrix (log scale)',fontsize=12, fontweight='bold')\n",
    "# # plt.savefig(f'{results_dir}/figures/network.png')\n",
    "\n",
    "plt.figure(figsize=(25,13))\n",
    "plt.subplot(211)\n",
    "plt.plot(data['slp'], color='black', alpha=0.3);\n",
    "plt.xlabel('Time', fontsize=12)\n",
    "plt.ylabel('SLP', fontsize=12)\n",
    "\n",
    "plt.subplot(212)\n",
    "plt.bar(np.r_[1:data['ns']+1],data['snsr_pwr'], color='black', alpha=0.3);\n",
    "plt.xlabel('Time', fontsize=12)\n",
    "plt.ylabel('Power', fontsize=12)\n",
    "plt.title('SEEG channel power', fontweight='bold')\n",
    "# plt.savefig(f'{results_dir}/figures/fitting_target_{fname_suffix}.png')\n",
    "# plt.tight_layout()\n"
   ]
  },
  {
   "cell_type": "markdown",
   "metadata": {},
   "source": [
    "### Find EZ by using seizure onsets"
   ]
  },
  {
   "cell_type": "code",
   "execution_count": null,
   "metadata": {},
   "outputs": [],
   "source": [
    "import matplotlib.pyplot as plt\n",
    "import numpy as np\n",
    "import lib.io.stan\n",
    "import lib.plots.stan\n",
    "import dyn_model"
   ]
  },
  {
   "cell_type": "code",
   "execution_count": null,
   "metadata": {},
   "outputs": [],
   "source": [
    "fit_data = lib.io.stan.rload('results/exp10/exp10.67/id002_sd/Rfiles/fit_data_SDcrise1_0002_hpf10_lpf0.05.R')\n",
    "optima = lib.io.stan.read_samples(['results/exp10/exp10.67/id002_sd/samples_SDcrise1_0002_hpf10_lpf0.05_chain1.csv'])\n",
    "ez_hyp = np.where(np.loadtxt('datasets/retro/id002_sd/tvb/ez_hypothesis.destrieux.txt') == 1)[0]"
   ]
  },
  {
   "cell_type": "code",
   "execution_count": null,
   "metadata": {},
   "outputs": [],
   "source": [
    "x = optima['x'][0]"
   ]
  },
  {
   "cell_type": "code",
   "execution_count": null,
   "metadata": {},
   "outputs": [],
   "source": [
    "def find_ez(x, onst_thrshld):\n",
    "    nn = x.shape[1]\n",
    "    onsets = 200*np.ones(nn)\n",
    "    for i in range(nn):\n",
    "        xt = x[:,i] > onst_thrshld\n",
    "        if(xt.any()):\n",
    "            onsets[i] = np.where(x[:,i] > onst_thrshld)[0][0]\n",
    "    a, b = np.histogram(onsets[onsets<150])\n",
    "    ez_pred = np.zeros(nn)\n",
    "    ez_pred[np.where(onsets<b[2])] = 1\n",
    "#     np.save(os.path.join(root_dir, patient_id, 'ez_pred.npy'), ez_pred)\n",
    "    return onsets,ez_pred"
   ]
  },
  {
   "cell_type": "code",
   "execution_count": null,
   "metadata": {},
   "outputs": [],
   "source": [
    "onsets,ez_pred = find_ez(x, -0.05)\n",
    "onsets = onsets[onsets<150]"
   ]
  },
  {
   "cell_type": "code",
   "execution_count": null,
   "metadata": {},
   "outputs": [],
   "source": [
    "ez_pred"
   ]
  },
  {
   "cell_type": "code",
   "execution_count": null,
   "metadata": {},
   "outputs": [],
   "source": [
    "np.where(ez_pred!=0)"
   ]
  },
  {
   "cell_type": "code",
   "execution_count": null,
   "metadata": {},
   "outputs": [],
   "source": [
    "plt.hist(onsets)"
   ]
  },
  {
   "cell_type": "code",
   "execution_count": null,
   "metadata": {},
   "outputs": [],
   "source": [
    "ep_params = dict()\n",
    "ep_params['nt'] = fit_data['nt']\n",
    "ep_params['nn'] = fit_data['nn']\n",
    "ep_params['time_step'] = 0.1\n",
    "ep_params['I1'] = 3.1\n",
    "ep_params['tau0'] = optima['tau0'][0]\n",
    "ep_params['x_init'] = optima['x_init'][0]\n",
    "ep_params['z_init'] = optima['z_init'][0]\n",
    "ep_params['x0'] = optima['x0'][0]\n",
    "ep_params['SC'] = fit_data['SC']\n",
    "ep_params['K'] = 0 #optima['K'][0]\n",
    "eplptr = dyn_model.Epileptor_2D()\n",
    "x,z = eplptr.sim(ep_params)"
   ]
  },
  {
   "cell_type": "code",
   "execution_count": null,
   "metadata": {},
   "outputs": [],
   "source": [
    "lib.plots.stan.plot_source(optima['x'][0], optima['z'][0], ez_hyp, [])"
   ]
  },
  {
   "cell_type": "code",
   "execution_count": null,
   "metadata": {},
   "outputs": [],
   "source": [
    "lib.plots.stan.plot_source(x, z, ez_hyp, [])"
   ]
  },
  {
   "cell_type": "code",
   "execution_count": null,
   "metadata": {},
   "outputs": [],
   "source": [
    "for i in range(ep_params['nt']):\n",
    "    xt = x[i,:] > -0.25\n",
    "    if(any(xt)):\n",
    "        print(np.where(xt))\n",
    "        break"
   ]
  },
  {
   "cell_type": "code",
   "execution_count": null,
   "metadata": {},
   "outputs": [],
   "source": [
    "np.linspace(-0.25, 0.0, int(0.25/0.01)+1)"
   ]
  },
  {
   "cell_type": "code",
   "execution_count": null,
   "metadata": {},
   "outputs": [],
   "source": [
    "import glob"
   ]
  },
  {
   "cell_type": "code",
   "execution_count": null,
   "metadata": {},
   "outputs": [],
   "source": [
    "glob.glob('results/exp10/exp10.67/id001_bt/*chain1.csv')"
   ]
  },
  {
   "cell_type": "code",
   "execution_count": null,
   "metadata": {},
   "outputs": [],
   "source": [
    "import matplotlib.pyplot as plt"
   ]
  },
  {
   "cell_type": "code",
   "execution_count": null,
   "metadata": {},
   "outputs": [],
   "source": [
    "ax = plt.subplot(111)\n",
    "ax.set_yticks(ax.get_yticks())\n",
    "ax.set_yticklabels(ax.get_yticklabels())"
   ]
  },
  {
   "cell_type": "markdown",
   "metadata": {},
   "source": [
    "## Plot electrodes"
   ]
  },
  {
   "cell_type": "code",
   "execution_count": null,
   "metadata": {},
   "outputs": [],
   "source": [
    "import sys\n",
    "sys.path.append('tvbpipeline')\n",
    "import util.plot\n",
    "import os"
   ]
  },
  {
   "cell_type": "code",
   "execution_count": null,
   "metadata": {},
   "outputs": [],
   "source": [
    "data_dir = 'datasets/syn_data/id001_bt'\n",
    "figs_dir = 'datasets/syn_data/id001_bt/figures'\n",
    "os.makedirs(figs_dir, exist_ok=True)\n",
    "util.plot.seeg_elecs(os.path.join(data_dir, 'connectivity.destrieux.zip'), \n",
    "                     os.path.join(data_dir, 'seeg.xyz'), ez_idx=[], pz_idx=[], \n",
    "                     out_fig=os.path.join(figs_dir, 'electrodes.svg'))"
   ]
  },
  {
   "cell_type": "markdown",
   "metadata": {},
   "source": [
    "## Find EZ and PZ based on onset"
   ]
  },
  {
   "cell_type": "code",
   "execution_count": 1,
   "metadata": {},
   "outputs": [],
   "source": [
    "import retro_results\n",
    "import numpy as np\n",
    "import matplotlib.pyplot as plt"
   ]
  },
  {
   "cell_type": "code",
   "execution_count": 2,
   "metadata": {},
   "outputs": [],
   "source": [
    "ez, pz, onsets = retro_results.find_ez_single(0, 1, 10, 'results/exp10/exp10.72/samples_syn_optim_chain1.csv')"
   ]
  },
  {
   "cell_type": "code",
   "execution_count": 3,
   "metadata": {},
   "outputs": [
    {
     "data": {
      "text/plain": [
       "((array([34, 79]),),\n",
       " (array([  0,   1,   2,   3,   4,   5,   6,   7,   8,   9,  10,  11,  12,\n",
       "          13,  14,  15,  16,  17,  18,  19,  20,  21,  22,  23,  24,  25,\n",
       "          26,  27,  28,  29,  30,  31,  32,  33,  34,  35,  36,  37,  38,\n",
       "          39,  40,  41,  42,  43,  44,  45,  46,  47,  48,  49,  50,  51,\n",
       "          52,  53,  54,  55,  56,  57,  58,  59,  60,  61,  62,  63,  64,\n",
       "          65,  66,  67,  68,  69,  70,  71,  72,  73,  74,  75,  76,  77,\n",
       "          78,  79,  80,  81,  82,  83,  84,  85,  86,  87,  88,  89,  90,\n",
       "          91,  92,  93,  94,  95,  96,  97,  98,  99, 100, 101, 102, 103,\n",
       "         104, 105, 106, 107, 108, 109, 110, 111, 112, 113, 114, 115, 116,\n",
       "         117, 118, 119, 120, 121, 122, 123, 124, 125, 126, 127, 128, 129,\n",
       "         130, 131, 132, 133, 134, 135, 136, 137, 138, 139, 140, 141, 142,\n",
       "         143, 144, 145, 146, 147, 148, 149, 150, 151, 152, 153, 154, 155,\n",
       "         156, 157, 158, 159, 160, 161, 162, 163]),),\n",
       " array([200., 200., 200., 200., 200., 200., 200., 200., 200., 200., 200.,\n",
       "         93., 200., 128., 200., 118., 200., 200., 200., 200., 200., 200.,\n",
       "        155., 200., 200., 200., 200., 200., 200., 200., 200., 200., 200.,\n",
       "        200.,  72., 200., 200., 200., 200., 200., 200., 200., 104., 200.,\n",
       "        200., 200., 200., 200., 200., 200., 200., 200., 200., 200., 200.,\n",
       "        200., 200., 200., 200., 200., 200., 200., 200., 200., 200., 200.,\n",
       "        200., 200., 200., 200., 200., 200., 200., 200., 200., 200., 200.,\n",
       "        200., 200.,  70., 200., 200., 200., 200., 200., 200., 200., 200.,\n",
       "        200., 200., 200., 200., 200., 200., 200., 200., 200., 200., 200.,\n",
       "        200., 200., 200., 200., 200., 200., 200., 200., 200., 200., 200.,\n",
       "        200., 200., 200., 200., 200., 200., 200., 200., 200., 200., 200.,\n",
       "        200., 200., 200., 200., 200., 200., 200., 200., 200., 200., 200.,\n",
       "        200., 200., 200., 200., 200., 200., 200., 200., 200., 200., 200.,\n",
       "        200., 200., 200., 200., 200., 200., 200., 200., 200., 200., 200.,\n",
       "        200., 200., 200., 200., 200., 200., 200., 200., 200., 200.]))"
      ]
     },
     "execution_count": 3,
     "metadata": {},
     "output_type": "execute_result"
    }
   ],
   "source": [
    "ez, pz, onsets"
   ]
  },
  {
   "cell_type": "code",
   "execution_count": null,
   "metadata": {},
   "outputs": [],
   "source": []
  },
  {
   "cell_type": "code",
   "execution_count": null,
   "metadata": {},
   "outputs": [],
   "source": [
    "t"
   ]
  },
  {
   "cell_type": "code",
   "execution_count": null,
   "metadata": {},
   "outputs": [],
   "source": [
    "np.nonzero(np.logical_and(t > 4, t < 13))"
   ]
  }
 ],
 "metadata": {
  "kernelspec": {
   "display_name": "python3.6",
   "language": "python",
   "name": "python3.6"
  },
  "language_info": {
   "codemirror_mode": {
    "name": "ipython",
    "version": 3
   },
   "file_extension": ".py",
   "mimetype": "text/x-python",
   "name": "python",
   "nbconvert_exporter": "python",
   "pygments_lexer": "ipython3",
   "version": "3.6.8"
  }
 },
 "nbformat": 4,
 "nbformat_minor": 4
}
