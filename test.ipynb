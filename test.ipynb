{
 "cells": [
  {
   "cell_type": "code",
   "execution_count": 1,
   "metadata": {},
   "outputs": [
    {
     "name": "stderr",
     "output_type": "stream",
     "text": [
      "2022-05-20 16:56:25.403703: I tensorflow/stream_executor/cuda/cuda_gpu_executor.cc:936] successful NUMA node read from SysFS had negative value (-1), but there must be at least one NUMA node, so returning NUMA node zero\n",
      "2022-05-20 16:56:25.412583: I tensorflow/stream_executor/cuda/cuda_gpu_executor.cc:936] successful NUMA node read from SysFS had negative value (-1), but there must be at least one NUMA node, so returning NUMA node zero\n",
      "2022-05-20 16:56:25.412812: I tensorflow/stream_executor/cuda/cuda_gpu_executor.cc:936] successful NUMA node read from SysFS had negative value (-1), but there must be at least one NUMA node, so returning NUMA node zero\n",
      "2022-05-20 16:56:26.731170: I tensorflow/core/platform/cpu_feature_guard.cc:151] This TensorFlow binary is optimized with oneAPI Deep Neural Network Library (oneDNN) to use the following CPU instructions in performance-critical operations:  AVX2 FMA\n",
      "To enable them in other operations, rebuild TensorFlow with the appropriate compiler flags.\n",
      "2022-05-20 16:56:26.732386: I tensorflow/stream_executor/cuda/cuda_gpu_executor.cc:936] successful NUMA node read from SysFS had negative value (-1), but there must be at least one NUMA node, so returning NUMA node zero\n",
      "2022-05-20 16:56:26.733653: I tensorflow/stream_executor/cuda/cuda_gpu_executor.cc:936] successful NUMA node read from SysFS had negative value (-1), but there must be at least one NUMA node, so returning NUMA node zero\n",
      "2022-05-20 16:56:26.733790: I tensorflow/stream_executor/cuda/cuda_gpu_executor.cc:936] successful NUMA node read from SysFS had negative value (-1), but there must be at least one NUMA node, so returning NUMA node zero\n",
      "2022-05-20 16:56:27.208689: I tensorflow/stream_executor/cuda/cuda_gpu_executor.cc:936] successful NUMA node read from SysFS had negative value (-1), but there must be at least one NUMA node, so returning NUMA node zero\n",
      "2022-05-20 16:56:27.209006: I tensorflow/stream_executor/cuda/cuda_gpu_executor.cc:936] successful NUMA node read from SysFS had negative value (-1), but there must be at least one NUMA node, so returning NUMA node zero\n",
      "2022-05-20 16:56:27.209152: I tensorflow/stream_executor/cuda/cuda_gpu_executor.cc:936] successful NUMA node read from SysFS had negative value (-1), but there must be at least one NUMA node, so returning NUMA node zero\n",
      "2022-05-20 16:56:27.209282: I tensorflow/core/common_runtime/gpu/gpu_device.cc:1525] Created device /job:localhost/replica:0/task:0/device:GPU:0 with 6670 MB memory:  -> device: 0, name: Quadro RTX 4000 with Max-Q Design, pci bus id: 0000:01:00.0, compute capability: 7.5\n"
     ]
    }
   ],
   "source": [
    "import numpy as np\n",
    "import tensorflow as tf\n",
    "gpus = tf.config.list_physical_devices(\"GPU\")\n",
    "for gpu in gpus:\n",
    "    tf.config.experimental.set_memory_growth(gpu, True)\n",
    "# tf.config.set_visible_devices([], 'GPU')\n",
    "import matplotlib.pyplot as plt\n",
    "import tensorflow_probability as tfp\n",
    "import lib.utils.sht as tfsht\n",
    "import time\n",
    "import lib.utils.tnsrflw\n",
    "import lib.plots.neuralfield\n",
    "import os\n",
    "import lib.model.neuralfield\n",
    "\n",
    "tfd = tfp.distributions\n",
    "tfb = tfp.bijectors\n",
    "import os"
   ]
  },
  {
   "cell_type": "code",
   "execution_count": 2,
   "metadata": {},
   "outputs": [],
   "source": [
    "nparams = 10\n",
    "loc = tf.Variable(initial_value=tf.ones(nparams))\n",
    "log_scale_diag = tf.Variable(initial_value=-2.3 * tf.ones(nparams))\n",
    "# scale_diag = tf.Variable(initial_value=tf.ones(nparams))\n",
    "# scale_diag = tf.ones(nparams)\n",
    "# loc = tf.Variable(initial_value=1.0)\n",
    "# scale = tf.Variable(initial_value=1.0)"
   ]
  },
  {
   "cell_type": "code",
   "execution_count": 3,
   "metadata": {},
   "outputs": [],
   "source": [
    "samples = tfd.MultivariateNormalDiag(loc=loc, scale_diag=tf.exp(log_scale_diag)).sample(5)\n",
    "with tf.GradientTape() as tape:    \n",
    "    log_q_z = tfd.MultivariateNormalDiag(loc=loc, scale_diag=tf.exp(log_scale_diag)).log_prob(samples)\n",
    "# samples = tfd.Independent(tfd.Normal(loc=loc, scale=tf.exp(log_scale_diag)), reinterpreted_batch_ndims=1).sample(10)\n",
    "# with tf.GradientTape() as tape:    \n",
    "#     log_q_z = tfd.Independent(tfd.Normal(loc=loc, scale=tf.exp(log_scale_diag)), reinterpreted_batch_ndims=1).log_prob(samples)"
   ]
  },
  {
   "cell_type": "code",
   "execution_count": 4,
   "metadata": {},
   "outputs": [
    {
     "data": {
      "text/plain": [
       "[None,\n",
       " <tf.Tensor: shape=(10,), dtype=float32, numpy=\n",
       " array([-5.1500473 ,  1.4611286 , -0.560748  , -2.5211284 , -0.00790768,\n",
       "        -6.2608767 , -2.902143  ,  3.7629578 ,  4.066309  , -0.9180165 ],\n",
       "       dtype=float32)>]"
      ]
     },
     "execution_count": 4,
     "metadata": {},
     "output_type": "execute_result"
    }
   ],
   "source": [
    "tape.gradient(log_q_z, [loc, log_scale_diag])"
   ]
  },
  {
   "cell_type": "code",
   "execution_count": 7,
   "metadata": {},
   "outputs": [],
   "source": [
    "samples = tfd.Independent(tfd.Normal(loc=loc, scale=tf.exp(log_scale_diag)), reinterpreted_batch_ndims=1).sample(5)\n",
    "log_q_loc_grad = tf.TensorArray(dtype=tf.float32, size=5)\n",
    "log_q_log_scale_grad = tf.TensorArray(dtype=tf.float32, size=5)\n",
    "i = 0\n",
    "for sample in samples:\n",
    "    with tf.GradientTape() as tape:    \n",
    "        log_q_z = tfd.Independent(tfd.Normal(loc=loc, scale=tf.exp(log_scale_diag)), reinterpreted_batch_ndims=1).log_prob(sample)\n",
    "    grad = tape.gradient(log_q_z, [loc, log_scale_diag])\n",
    "    log_q_loc_grad = log_q_loc_grad.write(i, grad[0])\n",
    "    log_q_log_scale_grad = log_q_log_scale_grad.write(i, grad[1])\n",
    "    i = i + 1\n",
    "log_q_loc_grad = log_q_loc_grad.stack()\n",
    "log_q_log_scale_grad = log_q_log_scale_grad.stack()\n"
   ]
  },
  {
   "cell_type": "code",
   "execution_count": 9,
   "metadata": {},
   "outputs": [
    {
     "data": {
      "text/plain": [
       "<tf.Tensor: shape=(5, 10), dtype=float32, numpy=\n",
       "array([[ -1.715083  ,  -6.661129  ,  20.799803  ,  15.0752945 ,\n",
       "        -12.483394  , -19.74781   , -18.342813  , -16.410616  ,\n",
       "         -0.05395275,   3.5002987 ],\n",
       "       [ 21.157497  ,  -0.9207733 ,   1.5285789 ,   4.7888966 ,\n",
       "          7.455315  ,  16.028828  ,  -2.7519517 ,  13.9495735 ,\n",
       "         22.154823  ,  -8.091058  ],\n",
       "       [-16.102024  , -14.169075  ,   2.6790793 ,   5.090098  ,\n",
       "         -2.8044682 ,  17.104877  ,  -2.8090625 , -13.008758  ,\n",
       "         13.685488  ,   8.533609  ],\n",
       "       [  6.811925  ,  15.821749  , -10.58174   ,   5.593365  ,\n",
       "         -6.2286987 ,  -0.726688  ,  -3.9110894 ,  -6.334407  ,\n",
       "         -5.5867352 ,   1.1674036 ],\n",
       "       [  4.4565144 , -14.701972  ,   3.2974243 ,   6.9380746 ,\n",
       "          4.6047416 ,   3.331744  , -21.124067  ,  -7.003309  ,\n",
       "          5.604599  ,   2.3214426 ]], dtype=float32)>"
      ]
     },
     "execution_count": 9,
     "metadata": {},
     "output_type": "execute_result"
    }
   ],
   "source": [
    "with tf.GradientTape(persistent=True) as tape:    \n",
    "    log_q_z = tfd.Independent(tfd.Normal(loc=loc, scale=tf.exp(log_scale_diag)), reinterpreted_batch_ndims=1).log_prob(samples)\n",
    "log_q_loc_grads = tape.jacobian(log_q_z, loc)\n",
    "log_q_logscale_grads = tape.jacobian(log_q_z, log_scale_diag)\n"
   ]
  },
  {
   "cell_type": "code",
   "execution_count": 11,
   "metadata": {},
   "outputs": [],
   "source": [
    "with tf.GradientTape(persistent=True) as tape:    \n",
    "    log_q_z = tfd.Independent(tfd.Normal(loc=loc, scale=tf.exp(log_scale_diag)), reinterpreted_batch_ndims=1).log_prob(samples)\n",
    "log_q_loc_grads2 = tape.jacobian(log_q_z, loc)\n",
    "log_q_logscale_grads2 = tape.jacobian(log_q_z, log_scale_diag)"
   ]
  },
  {
   "cell_type": "code",
   "execution_count": 18,
   "metadata": {},
   "outputs": [
    {
     "data": {
      "text/plain": [
       "(<tf.Tensor: shape=(), dtype=bool, numpy=True>,\n",
       " <tf.Tensor: shape=(), dtype=bool, numpy=True>)"
      ]
     },
     "execution_count": 18,
     "metadata": {},
     "output_type": "execute_result"
    }
   ],
   "source": [
    "tf.reduce_any(log_q_loc_grads2 == log_q_loc_grad), tf.reduce_any(log_q_logscale_grads2 == log_q_log_scale_grad)"
   ]
  },
  {
   "cell_type": "code",
   "execution_count": 19,
   "metadata": {},
   "outputs": [
    {
     "data": {
      "text/plain": [
       "<tf.Tensor: shape=(5, 10), dtype=float32, numpy=\n",
       "array([[ -1.715083  ,  -6.661129  ,  20.799803  ,  15.0752945 ,\n",
       "        -12.483394  , -19.74781   , -18.342813  , -16.410616  ,\n",
       "         -0.05395275,   3.5002987 ],\n",
       "       [ 21.157497  ,  -0.9207733 ,   1.5285789 ,   4.7888966 ,\n",
       "          7.455315  ,  16.028828  ,  -2.7519517 ,  13.9495735 ,\n",
       "         22.154823  ,  -8.091058  ],\n",
       "       [-16.102024  , -14.169075  ,   2.6790793 ,   5.090098  ,\n",
       "         -2.8044682 ,  17.104877  ,  -2.8090625 , -13.008758  ,\n",
       "         13.685488  ,   8.533609  ],\n",
       "       [  6.811925  ,  15.821749  , -10.58174   ,   5.593365  ,\n",
       "         -6.2286987 ,  -0.726688  ,  -3.9110894 ,  -6.334407  ,\n",
       "         -5.5867352 ,   1.1674036 ],\n",
       "       [  4.4565144 , -14.701972  ,   3.2974243 ,   6.9380746 ,\n",
       "          4.6047416 ,   3.331744  , -21.124067  ,  -7.003309  ,\n",
       "          5.604599  ,   2.3214426 ]], dtype=float32)>"
      ]
     },
     "execution_count": 19,
     "metadata": {},
     "output_type": "execute_result"
    }
   ],
   "source": [
    "log_q_loc_grads2"
   ]
  },
  {
   "cell_type": "code",
   "execution_count": 20,
   "metadata": {},
   "outputs": [
    {
     "data": {
      "text/plain": [
       "<tf.Tensor: shape=(5,), dtype=float32, numpy=\n",
       "array([ 4.406911 ,  6.0469384,  7.6247144, 10.959362 ,  9.491362 ],\n",
       "      dtype=float32)>"
      ]
     },
     "execution_count": 20,
     "metadata": {},
     "output_type": "execute_result"
    }
   ],
   "source": [
    "log_q_z"
   ]
  },
  {
   "cell_type": "markdown",
   "metadata": {},
   "source": [
    "### tf.while_loop"
   ]
  },
  {
   "cell_type": "code",
   "execution_count": 1,
   "metadata": {},
   "outputs": [],
   "source": [
    "import tensorflow as tf"
   ]
  },
  {
   "cell_type": "code",
   "execution_count": 2,
   "metadata": {},
   "outputs": [
    {
     "name": "stderr",
     "output_type": "stream",
     "text": [
      "2022-05-20 12:04:18.964245: I tensorflow/stream_executor/cuda/cuda_gpu_executor.cc:936] successful NUMA node read from SysFS had negative value (-1), but there must be at least one NUMA node, so returning NUMA node zero\n",
      "2022-05-20 12:04:18.972211: I tensorflow/stream_executor/cuda/cuda_gpu_executor.cc:936] successful NUMA node read from SysFS had negative value (-1), but there must be at least one NUMA node, so returning NUMA node zero\n",
      "2022-05-20 12:04:18.972455: I tensorflow/stream_executor/cuda/cuda_gpu_executor.cc:936] successful NUMA node read from SysFS had negative value (-1), but there must be at least one NUMA node, so returning NUMA node zero\n",
      "2022-05-20 12:04:18.973300: I tensorflow/core/platform/cpu_feature_guard.cc:151] This TensorFlow binary is optimized with oneAPI Deep Neural Network Library (oneDNN) to use the following CPU instructions in performance-critical operations:  AVX2 FMA\n",
      "To enable them in other operations, rebuild TensorFlow with the appropriate compiler flags.\n",
      "2022-05-20 12:04:18.974351: I tensorflow/stream_executor/cuda/cuda_gpu_executor.cc:936] successful NUMA node read from SysFS had negative value (-1), but there must be at least one NUMA node, so returning NUMA node zero\n",
      "2022-05-20 12:04:18.974645: I tensorflow/stream_executor/cuda/cuda_gpu_executor.cc:936] successful NUMA node read from SysFS had negative value (-1), but there must be at least one NUMA node, so returning NUMA node zero\n",
      "2022-05-20 12:04:18.974809: I tensorflow/stream_executor/cuda/cuda_gpu_executor.cc:936] successful NUMA node read from SysFS had negative value (-1), but there must be at least one NUMA node, so returning NUMA node zero\n",
      "2022-05-20 12:04:19.392771: I tensorflow/stream_executor/cuda/cuda_gpu_executor.cc:936] successful NUMA node read from SysFS had negative value (-1), but there must be at least one NUMA node, so returning NUMA node zero\n",
      "2022-05-20 12:04:19.392946: I tensorflow/stream_executor/cuda/cuda_gpu_executor.cc:936] successful NUMA node read from SysFS had negative value (-1), but there must be at least one NUMA node, so returning NUMA node zero\n",
      "2022-05-20 12:04:19.393053: I tensorflow/stream_executor/cuda/cuda_gpu_executor.cc:936] successful NUMA node read from SysFS had negative value (-1), but there must be at least one NUMA node, so returning NUMA node zero\n",
      "2022-05-20 12:04:19.393152: I tensorflow/core/common_runtime/gpu/gpu_device.cc:1525] Created device /job:localhost/replica:0/task:0/device:GPU:0 with 6670 MB memory:  -> device: 0, name: Quadro RTX 4000 with Max-Q Design, pci bus id: 0000:01:00.0, compute capability: 7.5\n"
     ]
    }
   ],
   "source": [
    "theta = tf.reshape(tf.range(1,16, dtype=tf.float32), shape=(3,5))\n",
    "batch_size = theta.shape[0]"
   ]
  },
  {
   "cell_type": "code",
   "execution_count": 3,
   "metadata": {},
   "outputs": [],
   "source": [
    "def cond(i, lp):\n",
    "    return i < batch_size\n",
    "def body(i, lp):\n",
    "    lp_i = tf.reduce_sum(theta[i])\n",
    "    lp = lp.write(i, lp_i)\n",
    "    return i + 1, lp"
   ]
  },
  {
   "cell_type": "code",
   "execution_count": 4,
   "metadata": {},
   "outputs": [],
   "source": [
    "lp = tf.TensorArray(dtype=tf.float32, size=batch_size)\n",
    "i = tf.constant(0)\n",
    "i, lp = tf.while_loop(cond, body, (i, lp))"
   ]
  },
  {
   "cell_type": "code",
   "execution_count": 6,
   "metadata": {},
   "outputs": [],
   "source": [
    "lp = lp.stack()"
   ]
  },
  {
   "cell_type": "code",
   "execution_count": 7,
   "metadata": {},
   "outputs": [
    {
     "data": {
      "text/plain": [
       "<tf.Tensor: shape=(3,), dtype=float32, numpy=array([15., 40., 65.], dtype=float32)>"
      ]
     },
     "execution_count": 7,
     "metadata": {},
     "output_type": "execute_result"
    }
   ],
   "source": [
    "lp"
   ]
  },
  {
   "cell_type": "code",
   "execution_count": 8,
   "metadata": {},
   "outputs": [
    {
     "data": {
      "text/plain": [
       "<tf.Tensor: shape=(3, 5), dtype=float32, numpy=\n",
       "array([[ 1.,  2.,  3.,  4.,  5.],\n",
       "       [ 6.,  7.,  8.,  9., 10.],\n",
       "       [11., 12., 13., 14., 15.]], dtype=float32)>"
      ]
     },
     "execution_count": 8,
     "metadata": {},
     "output_type": "execute_result"
    }
   ],
   "source": [
    "theta"
   ]
  },
  {
   "cell_type": "markdown",
   "metadata": {},
   "source": [
    "## Find the regions proximal to each sensor"
   ]
  },
  {
   "cell_type": "code",
   "execution_count": null,
   "metadata": {},
   "outputs": [],
   "source": [
    "from collections import Counter"
   ]
  },
  {
   "cell_type": "code",
   "execution_count": null,
   "metadata": {},
   "outputs": [],
   "source": [
    "roi_prx_snsr = []\n",
    "for i in range(gain_reg.shape[1]):\n",
    "    roi_prx_snsr.append(list((tf.unique(tf.reverse(tf.gather(rgn_map_reg, tf.argsort(gain_reg[:,i])), [0]))[0][0:5]).numpy()))\n",
    "[a for a,b in Counter(roi_prox_snsr).most_common(30)]"
   ]
  },
  {
   "cell_type": "code",
   "execution_count": null,
   "metadata": {},
   "outputs": [],
   "source": [
    "np.max(gain_reg.numpy()[tf.squeeze(tf.where(rgn_map_reg == 153)),:])"
   ]
  },
  {
   "cell_type": "markdown",
   "metadata": {},
   "source": [
    "## Masked autoregressive flow"
   ]
  },
  {
   "cell_type": "code",
   "execution_count": 1,
   "metadata": {},
   "outputs": [],
   "source": [
    "import numpy as np\n",
    "import tensorflow as tf\n",
    "# tf.config.set_visible_devices([], 'GPU')\n",
    "import matplotlib.pyplot as plt\n",
    "import tensorflow_probability as tfp\n",
    "tfd = tfp.distributions\n",
    "tfb = tfp.bijectors"
   ]
  },
  {
   "cell_type": "code",
   "execution_count": 9,
   "metadata": {},
   "outputs": [],
   "source": [
    "# %%\n",
    "num_bijectors = 4\n",
    "nparams = 5\n",
    "num_hidden = nparams\n",
    "# act_fn = 'relu'\n",
    "# tf.random.set_seed(1234567)\n",
    "# permutation = tf.random.shuffle(tf.range(3*nn+2))\n",
    "\n",
    "bijectors = []\n",
    "made = tfb.AutoregressiveNetwork(params=2,\n",
    "                                 hidden_units=[num_hidden, num_hidden],\n",
    "                                 activation='sigmoid')\n",
    "maf = tfb.MaskedAutoregressiveFlow(shift_and_log_scale_fn=made)\n",
    "bijectors.append(maf)\n",
    "bijectors.append(\n",
    "    tfb.Permute(permutation=tf.random.shuffle(tf.range(nparams))))\n",
    "bijectors.append(tfb.BatchNormalization())\n",
    "\n",
    "for i in range(num_bijectors - 2):\n",
    "    made = tfb.AutoregressiveNetwork(params=2,\n",
    "                                     hidden_units=[num_hidden, num_hidden],\n",
    "                                     activation='sigmoid')\n",
    "    maf = tfb.MaskedAutoregressiveFlow(shift_and_log_scale_fn=made)\n",
    "    bijectors.append(maf)\n",
    "    bijectors.append(\n",
    "        tfb.Permute(permutation=tf.random.shuffle(tf.range(nparams))))\n",
    "    bijectors.append(tfb.BatchNormalization())\n",
    "\n",
    "made = tfb.AutoregressiveNetwork(params=2,\n",
    "                                 hidden_units=[num_hidden, num_hidden],\n",
    "                                 activation='sigmoid')\n",
    "maf = tfb.MaskedAutoregressiveFlow(shift_and_log_scale_fn=made)\n",
    "bijectors.append(maf)\n",
    "bijectors.append(tfb.BatchNormalization())\n",
    "chained_maf = tfb.Chain(list(reversed(bijectors)))\n",
    "base_dist = tfd.Independent(tfd.Normal(loc=tf.zeros(nparams, dtype=tf.float32),\n",
    "                                       scale=0.1 *\n",
    "                                       tf.ones(nparams, dtype=tf.float32),\n",
    "                                       name='Base_Distribution'),\n",
    "                            reinterpreted_batch_ndims=1)\n",
    "flow_dist = tfd.TransformedDistribution(distribution=base_dist,\n",
    "                                        bijector=chained_maf,\n",
    "                                        name='Variational_Posterior')\n",
    "\n"
   ]
  },
  {
   "cell_type": "code",
   "execution_count": 3,
   "metadata": {},
   "outputs": [],
   "source": [
    "base_dist_samples = base_dist.sample(1)"
   ]
  },
  {
   "cell_type": "code",
   "execution_count": 20,
   "metadata": {},
   "outputs": [
    {
     "data": {
      "text/plain": [
       "<tf.Tensor: shape=(1, 5), dtype=float32, numpy=\n",
       "array([[-0.44732916,  0.01478895,  0.38332918, -0.71329296,  0.48250175]],\n",
       "      dtype=float32)>"
      ]
     },
     "execution_count": 20,
     "metadata": {},
     "output_type": "execute_result"
    }
   ],
   "source": [
    "flow_dist.sample(1)"
   ]
  },
  {
   "cell_type": "code",
   "execution_count": 3,
   "metadata": {},
   "outputs": [],
   "source": [
    "def square(x):\n",
    "    return x*x\n",
    "def cube(x):\n",
    "    return x*square(x)\n",
    "def loss(x):\n",
    "    loss = cube(x)\n",
    "    return loss\n",
    "x = tf.constant(10, dtype=tf.float32)\n",
    "loss_tf_fn = tf.function(loss)\n",
    "loss_conc_fn = loss_tf_fn.get_concrete_function(x)\n",
    "# loss_tf_graph = tf.autograph.to_graph()"
   ]
  },
  {
   "cell_type": "code",
   "execution_count": 7,
   "metadata": {},
   "outputs": [
    {
     "data": {
      "text/plain": [
       "\"def tf__loss(x):\\n    with ag__.FunctionScope('loss', 'fscope', ag__.ConversionOptions(recursive=True, user_requested=True, optional_features=(), internal_convert_user_code=True)) as fscope:\\n        do_return = False\\n        retval_ = ag__.UndefinedReturnValue()\\n        loss = ag__.converted_call(ag__.ld(cube), (ag__.ld(x),), None, fscope)\\n        try:\\n            do_return = True\\n            retval_ = ag__.ld(loss)\\n        except:\\n            do_return = False\\n            raise\\n        return fscope.ret(retval_, do_return)\\n\""
      ]
     },
     "execution_count": 7,
     "metadata": {},
     "output_type": "execute_result"
    }
   ],
   "source": [
    "tf.autograph.to_code(loss)"
   ]
  },
  {
   "cell_type": "markdown",
   "metadata": {},
   "source": [
    "### Test Gradients"
   ]
  },
  {
   "cell_type": "code",
   "execution_count": 1,
   "metadata": {},
   "outputs": [],
   "source": [
    "import tensorflow as tf"
   ]
  },
  {
   "cell_type": "code",
   "execution_count": 2,
   "metadata": {},
   "outputs": [],
   "source": [
    "@tf.custom_gradient\n",
    "def f1(x):\n",
    "    def grad(upstream):\n",
    "        return upstream\n",
    "    return x*x, grad"
   ]
  },
  {
   "cell_type": "code",
   "execution_count": 3,
   "metadata": {},
   "outputs": [],
   "source": [
    "def f2(x):\n",
    "    with tf.GradientTape() as tape:\n",
    "        tape.watch(x)\n",
    "        y = f1(x)\n",
    "        return y, tape.gradient(y, x)"
   ]
  },
  {
   "cell_type": "code",
   "execution_count": 4,
   "metadata": {},
   "outputs": [
    {
     "name": "stdout",
     "output_type": "stream",
     "text": [
      "tf.Tensor(100.0, shape=(), dtype=float32) tf.Tensor(1.0, shape=(), dtype=float32)\n"
     ]
    },
    {
     "name": "stderr",
     "output_type": "stream",
     "text": [
      "2022-04-04 16:29:49.392301: I tensorflow/stream_executor/cuda/cuda_gpu_executor.cc:936] successful NUMA node read from SysFS had negative value (-1), but there must be at least one NUMA node, so returning NUMA node zero\n",
      "2022-04-04 16:29:49.397681: I tensorflow/stream_executor/cuda/cuda_gpu_executor.cc:936] successful NUMA node read from SysFS had negative value (-1), but there must be at least one NUMA node, so returning NUMA node zero\n",
      "2022-04-04 16:29:49.397973: I tensorflow/stream_executor/cuda/cuda_gpu_executor.cc:936] successful NUMA node read from SysFS had negative value (-1), but there must be at least one NUMA node, so returning NUMA node zero\n",
      "2022-04-04 16:29:49.398766: I tensorflow/core/platform/cpu_feature_guard.cc:151] This TensorFlow binary is optimized with oneAPI Deep Neural Network Library (oneDNN) to use the following CPU instructions in performance-critical operations:  AVX2 FMA\n",
      "To enable them in other operations, rebuild TensorFlow with the appropriate compiler flags.\n",
      "2022-04-04 16:29:49.399917: I tensorflow/stream_executor/cuda/cuda_gpu_executor.cc:936] successful NUMA node read from SysFS had negative value (-1), but there must be at least one NUMA node, so returning NUMA node zero\n",
      "2022-04-04 16:29:49.400357: I tensorflow/stream_executor/cuda/cuda_gpu_executor.cc:936] successful NUMA node read from SysFS had negative value (-1), but there must be at least one NUMA node, so returning NUMA node zero\n",
      "2022-04-04 16:29:49.400663: I tensorflow/stream_executor/cuda/cuda_gpu_executor.cc:936] successful NUMA node read from SysFS had negative value (-1), but there must be at least one NUMA node, so returning NUMA node zero\n",
      "2022-04-04 16:29:49.773594: I tensorflow/stream_executor/cuda/cuda_gpu_executor.cc:936] successful NUMA node read from SysFS had negative value (-1), but there must be at least one NUMA node, so returning NUMA node zero\n",
      "2022-04-04 16:29:49.773919: I tensorflow/stream_executor/cuda/cuda_gpu_executor.cc:936] successful NUMA node read from SysFS had negative value (-1), but there must be at least one NUMA node, so returning NUMA node zero\n",
      "2022-04-04 16:29:49.774152: I tensorflow/stream_executor/cuda/cuda_gpu_executor.cc:936] successful NUMA node read from SysFS had negative value (-1), but there must be at least one NUMA node, so returning NUMA node zero\n",
      "2022-04-04 16:29:49.774377: I tensorflow/core/common_runtime/gpu/gpu_device.cc:1525] Created device /job:localhost/replica:0/task:0/device:GPU:0 with 5615 MB memory:  -> device: 0, name: Quadro RTX 4000 with Max-Q Design, pci bus id: 0000:01:00.0, compute capability: 7.5\n"
     ]
    }
   ],
   "source": [
    "x = tf.constant(10, dtype=tf.float32)\n",
    "y, x_grad = f2(x)\n",
    "print(y, x_grad)"
   ]
  },
  {
   "cell_type": "code",
   "execution_count": 5,
   "metadata": {},
   "outputs": [],
   "source": [
    "thrtcl, nmrcl = tf.test.compute_gradient(f1, [x])"
   ]
  },
  {
   "cell_type": "code",
   "execution_count": 6,
   "metadata": {},
   "outputs": [
    {
     "data": {
      "text/plain": [
       "((array([[1.]], dtype=float32),), (array([[20.]], dtype=float32),))"
      ]
     },
     "execution_count": 6,
     "metadata": {},
     "output_type": "execute_result"
    }
   ],
   "source": [
    "thrtcl, nmrcl"
   ]
  },
  {
   "cell_type": "markdown",
   "metadata": {},
   "source": [
    "### Reproduce tf bug in using a custom_gradient fn inside tf.while"
   ]
  },
  {
   "cell_type": "code",
   "execution_count": 1,
   "metadata": {},
   "outputs": [],
   "source": [
    "import tensorflow as tf"
   ]
  },
  {
   "cell_type": "code",
   "execution_count": 2,
   "metadata": {},
   "outputs": [
    {
     "name": "stderr",
     "output_type": "stream",
     "text": [
      "2022-04-03 22:59:35.567641: I tensorflow/stream_executor/cuda/cuda_gpu_executor.cc:936] successful NUMA node read from SysFS had negative value (-1), but there must be at least one NUMA node, so returning NUMA node zero\n",
      "2022-04-03 22:59:35.574596: I tensorflow/stream_executor/cuda/cuda_gpu_executor.cc:936] successful NUMA node read from SysFS had negative value (-1), but there must be at least one NUMA node, so returning NUMA node zero\n",
      "2022-04-03 22:59:35.579637: I tensorflow/stream_executor/cuda/cuda_gpu_executor.cc:936] successful NUMA node read from SysFS had negative value (-1), but there must be at least one NUMA node, so returning NUMA node zero\n",
      "2022-04-03 22:59:35.580753: I tensorflow/core/platform/cpu_feature_guard.cc:151] This TensorFlow binary is optimized with oneAPI Deep Neural Network Library (oneDNN) to use the following CPU instructions in performance-critical operations:  AVX2 FMA\n",
      "To enable them in other operations, rebuild TensorFlow with the appropriate compiler flags.\n",
      "2022-04-03 22:59:35.581615: I tensorflow/stream_executor/cuda/cuda_gpu_executor.cc:936] successful NUMA node read from SysFS had negative value (-1), but there must be at least one NUMA node, so returning NUMA node zero\n",
      "2022-04-03 22:59:35.581921: I tensorflow/stream_executor/cuda/cuda_gpu_executor.cc:936] successful NUMA node read from SysFS had negative value (-1), but there must be at least one NUMA node, so returning NUMA node zero\n",
      "2022-04-03 22:59:35.582169: I tensorflow/stream_executor/cuda/cuda_gpu_executor.cc:936] successful NUMA node read from SysFS had negative value (-1), but there must be at least one NUMA node, so returning NUMA node zero\n",
      "2022-04-03 22:59:35.964114: I tensorflow/stream_executor/cuda/cuda_gpu_executor.cc:936] successful NUMA node read from SysFS had negative value (-1), but there must be at least one NUMA node, so returning NUMA node zero\n",
      "2022-04-03 22:59:35.964397: I tensorflow/stream_executor/cuda/cuda_gpu_executor.cc:936] successful NUMA node read from SysFS had negative value (-1), but there must be at least one NUMA node, so returning NUMA node zero\n",
      "2022-04-03 22:59:35.964634: I tensorflow/stream_executor/cuda/cuda_gpu_executor.cc:936] successful NUMA node read from SysFS had negative value (-1), but there must be at least one NUMA node, so returning NUMA node zero\n",
      "2022-04-03 22:59:35.964860: I tensorflow/core/common_runtime/gpu/gpu_device.cc:1525] Created device /job:localhost/replica:0/task:0/device:GPU:0 with 5744 MB memory:  -> device: 0, name: Quadro RTX 4000 with Max-Q Design, pci bus id: 0000:01:00.0, compute capability: 7.5\n"
     ]
    }
   ],
   "source": [
    "nv = tf.constant(6, dtype=tf.int32)\n",
    "nvph = tf.constant(tf.math.floordiv(nv, 2), dtype=tf.int32)"
   ]
  },
  {
   "cell_type": "code",
   "execution_count": 3,
   "metadata": {},
   "outputs": [],
   "source": [
    "@tf.custom_gradient\n",
    "def square(x):\n",
    "    def grad(upstream):\n",
    "        g_lh = upstream[0:nvph] * 2 * x[0:nvph]\n",
    "        g_rh = upstream[nvph:] * 2 * x[nvph:]\n",
    "        return tf.concat((g_lh, g_rh), axis=0)\n",
    "    return x*x, grad\n",
    "\n",
    "def double(x):\n",
    "    return 0.1*square(x)\n",
    "\n",
    "def fn3(x_init, nsteps):\n",
    "    y = tf.TensorArray(dtype=tf.float32, size=5)\n",
    "    x_next = x_init\n",
    "    for i in tf.range(nsteps):\n",
    "        for _ in tf.range(nsteps):\n",
    "            x_next = x_next + double(x_next)\n",
    "        y = y.write(i, x_next)\n",
    "    return y.stack()\n"
   ]
  },
  {
   "cell_type": "code",
   "execution_count": 4,
   "metadata": {},
   "outputs": [],
   "source": [
    "fn3_tf_fn = tf.function(fn3)\n",
    "def get_grads(x_init, nsteps):\n",
    "    with tf.GradientTape() as tape:\n",
    "        tape.watch(x_init)\n",
    "        y = fn3_tf_fn(x_init, nsteps)\n",
    "        return y, tape.gradient(y, x_init)"
   ]
  },
  {
   "cell_type": "code",
   "execution_count": 5,
   "metadata": {},
   "outputs": [
    {
     "ename": "ValueError",
     "evalue": "Tensor Tensor(\"gradients/while_grad/gradients/while/while_grad/gradients/while/while/IdentityN_grad/strided_slice/stack_1/values_0:0\", shape=(), dtype=int32) which captures tf.Tensor(3, shape=(), dtype=int32) is in list of internal_captures but not in internal_capture_to_output.",
     "output_type": "error",
     "traceback": [
      "\u001b[0;31m---------------------------------------------------------------------------\u001b[0m",
      "\u001b[0;31mValueError\u001b[0m                                Traceback (most recent call last)",
      "\u001b[0;32m/tmp/ipykernel_445902/3597737204.py\u001b[0m in \u001b[0;36m<module>\u001b[0;34m\u001b[0m\n\u001b[1;32m      1\u001b[0m \u001b[0mx_init\u001b[0m \u001b[0;34m=\u001b[0m \u001b[0mtf\u001b[0m\u001b[0;34m.\u001b[0m\u001b[0mconstant\u001b[0m\u001b[0;34m(\u001b[0m\u001b[0;34m[\u001b[0m\u001b[0;36m1\u001b[0m\u001b[0;34m,\u001b[0m\u001b[0;36m2\u001b[0m\u001b[0;34m,\u001b[0m\u001b[0;36m3\u001b[0m\u001b[0;34m,\u001b[0m\u001b[0;36m4\u001b[0m\u001b[0;34m,\u001b[0m\u001b[0;36m5\u001b[0m\u001b[0;34m,\u001b[0m\u001b[0;36m6\u001b[0m\u001b[0;34m]\u001b[0m\u001b[0;34m,\u001b[0m \u001b[0mdtype\u001b[0m\u001b[0;34m=\u001b[0m\u001b[0mtf\u001b[0m\u001b[0;34m.\u001b[0m\u001b[0mfloat32\u001b[0m\u001b[0;34m)\u001b[0m\u001b[0;34m\u001b[0m\u001b[0;34m\u001b[0m\u001b[0m\n\u001b[1;32m      2\u001b[0m \u001b[0mnsteps\u001b[0m \u001b[0;34m=\u001b[0m \u001b[0mtf\u001b[0m\u001b[0;34m.\u001b[0m\u001b[0mconstant\u001b[0m\u001b[0;34m(\u001b[0m\u001b[0;36m5\u001b[0m\u001b[0;34m,\u001b[0m \u001b[0mdtype\u001b[0m\u001b[0;34m=\u001b[0m\u001b[0mtf\u001b[0m\u001b[0;34m.\u001b[0m\u001b[0mint32\u001b[0m\u001b[0;34m)\u001b[0m\u001b[0;34m\u001b[0m\u001b[0;34m\u001b[0m\u001b[0m\n\u001b[0;32m----> 3\u001b[0;31m \u001b[0my\u001b[0m\u001b[0;34m,\u001b[0m \u001b[0mx_init_grad\u001b[0m \u001b[0;34m=\u001b[0m \u001b[0mget_grads\u001b[0m\u001b[0;34m(\u001b[0m\u001b[0mx_init\u001b[0m\u001b[0;34m,\u001b[0m \u001b[0mnsteps\u001b[0m\u001b[0;34m)\u001b[0m\u001b[0;34m\u001b[0m\u001b[0;34m\u001b[0m\u001b[0m\n\u001b[0m",
      "\u001b[0;32m/tmp/ipykernel_445902/144358653.py\u001b[0m in \u001b[0;36mget_grads\u001b[0;34m(x_init, nsteps)\u001b[0m\n\u001b[1;32m      3\u001b[0m     \u001b[0;32mwith\u001b[0m \u001b[0mtf\u001b[0m\u001b[0;34m.\u001b[0m\u001b[0mGradientTape\u001b[0m\u001b[0;34m(\u001b[0m\u001b[0;34m)\u001b[0m \u001b[0;32mas\u001b[0m \u001b[0mtape\u001b[0m\u001b[0;34m:\u001b[0m\u001b[0;34m\u001b[0m\u001b[0;34m\u001b[0m\u001b[0m\n\u001b[1;32m      4\u001b[0m         \u001b[0mtape\u001b[0m\u001b[0;34m.\u001b[0m\u001b[0mwatch\u001b[0m\u001b[0;34m(\u001b[0m\u001b[0mx_init\u001b[0m\u001b[0;34m)\u001b[0m\u001b[0;34m\u001b[0m\u001b[0;34m\u001b[0m\u001b[0m\n\u001b[0;32m----> 5\u001b[0;31m         \u001b[0my\u001b[0m \u001b[0;34m=\u001b[0m \u001b[0mfn3_tf_fn\u001b[0m\u001b[0;34m(\u001b[0m\u001b[0mx_init\u001b[0m\u001b[0;34m,\u001b[0m \u001b[0mnsteps\u001b[0m\u001b[0;34m)\u001b[0m\u001b[0;34m\u001b[0m\u001b[0;34m\u001b[0m\u001b[0m\n\u001b[0m\u001b[1;32m      6\u001b[0m         \u001b[0;32mreturn\u001b[0m \u001b[0my\u001b[0m\u001b[0;34m,\u001b[0m \u001b[0mtape\u001b[0m\u001b[0;34m.\u001b[0m\u001b[0mgradient\u001b[0m\u001b[0;34m(\u001b[0m\u001b[0my\u001b[0m\u001b[0;34m,\u001b[0m \u001b[0mx_init\u001b[0m\u001b[0;34m)\u001b[0m\u001b[0;34m\u001b[0m\u001b[0;34m\u001b[0m\u001b[0m\n",
      "\u001b[0;32m~/anaconda3/envs/neuralfields/lib/python3.8/site-packages/tensorflow/python/util/traceback_utils.py\u001b[0m in \u001b[0;36merror_handler\u001b[0;34m(*args, **kwargs)\u001b[0m\n\u001b[1;32m    151\u001b[0m     \u001b[0;32mexcept\u001b[0m \u001b[0mException\u001b[0m \u001b[0;32mas\u001b[0m \u001b[0me\u001b[0m\u001b[0;34m:\u001b[0m\u001b[0;34m\u001b[0m\u001b[0;34m\u001b[0m\u001b[0m\n\u001b[1;32m    152\u001b[0m       \u001b[0mfiltered_tb\u001b[0m \u001b[0;34m=\u001b[0m \u001b[0m_process_traceback_frames\u001b[0m\u001b[0;34m(\u001b[0m\u001b[0me\u001b[0m\u001b[0;34m.\u001b[0m\u001b[0m__traceback__\u001b[0m\u001b[0;34m)\u001b[0m\u001b[0;34m\u001b[0m\u001b[0;34m\u001b[0m\u001b[0m\n\u001b[0;32m--> 153\u001b[0;31m       \u001b[0;32mraise\u001b[0m \u001b[0me\u001b[0m\u001b[0;34m.\u001b[0m\u001b[0mwith_traceback\u001b[0m\u001b[0;34m(\u001b[0m\u001b[0mfiltered_tb\u001b[0m\u001b[0;34m)\u001b[0m \u001b[0;32mfrom\u001b[0m \u001b[0;32mNone\u001b[0m\u001b[0;34m\u001b[0m\u001b[0;34m\u001b[0m\u001b[0m\n\u001b[0m\u001b[1;32m    154\u001b[0m     \u001b[0;32mfinally\u001b[0m\u001b[0;34m:\u001b[0m\u001b[0;34m\u001b[0m\u001b[0;34m\u001b[0m\u001b[0m\n\u001b[1;32m    155\u001b[0m       \u001b[0;32mdel\u001b[0m \u001b[0mfiltered_tb\u001b[0m\u001b[0;34m\u001b[0m\u001b[0;34m\u001b[0m\u001b[0m\n",
      "\u001b[0;32m~/anaconda3/envs/neuralfields/lib/python3.8/site-packages/tensorflow/python/ops/while_v2.py\u001b[0m in \u001b[0;36m_create_grad_func\u001b[0;34m(ys, xs, grads, cond_graph, body_graph, name, while_op, maximum_iterations, stateful_parallelism)\u001b[0m\n\u001b[1;32m    706\u001b[0m           internal_capture)]\n\u001b[1;32m    707\u001b[0m     \u001b[0;32melse\u001b[0m\u001b[0;34m:\u001b[0m\u001b[0;34m\u001b[0m\u001b[0;34m\u001b[0m\u001b[0m\n\u001b[0;32m--> 708\u001b[0;31m       raise ValueError(\n\u001b[0m\u001b[1;32m    709\u001b[0m           \u001b[0;34mf\"Tensor {str(internal_capture)} which captures \"\u001b[0m\u001b[0;34m\u001b[0m\u001b[0;34m\u001b[0m\u001b[0m\n\u001b[1;32m    710\u001b[0m           \u001b[0;34mf\"{str(external_capture)} is in list of \"\u001b[0m\u001b[0;34m\u001b[0m\u001b[0;34m\u001b[0m\u001b[0m\n",
      "\u001b[0;31mValueError\u001b[0m: Tensor Tensor(\"gradients/while_grad/gradients/while/while_grad/gradients/while/while/IdentityN_grad/strided_slice/stack_1/values_0:0\", shape=(), dtype=int32) which captures tf.Tensor(3, shape=(), dtype=int32) is in list of internal_captures but not in internal_capture_to_output."
     ]
    }
   ],
   "source": [
    "x_init = tf.constant([1,2,3,4,5,6], dtype=tf.float32)\n",
    "nsteps = tf.constant(5, dtype=tf.int32)\n",
    "y, x_init_grad = get_grads(x_init, nsteps)"
   ]
  },
  {
   "cell_type": "code",
   "execution_count": 5,
   "metadata": {},
   "outputs": [
    {
     "data": {
      "text/plain": [
       "(<tf.Tensor: shape=(5, 4), dtype=float32, numpy=\n",
       " array([[1.8004704e+00, 8.2182493e+00, 3.8905022e+01, 2.2942082e+02],\n",
       "        [6.1288986e+00, 1.1032549e+06, 4.4902951e+21,           inf],\n",
       "        [1.6250494e+04,           inf,           inf,           inf],\n",
       "        [          inf,           inf,           inf,           inf],\n",
       "        [          inf,           inf,           inf,           inf]],\n",
       "       dtype=float32)>,\n",
       " <tf.Tensor: shape=(4,), dtype=float32, numpy=array([inf, inf, inf, inf], dtype=float32)>)"
      ]
     },
     "execution_count": 5,
     "metadata": {},
     "output_type": "execute_result"
    }
   ],
   "source": [
    "y, x_init_grad"
   ]
  },
  {
   "cell_type": "markdown",
   "metadata": {},
   "source": [
    "### convert python code to tf.graph"
   ]
  },
  {
   "cell_type": "code",
   "execution_count": 1,
   "metadata": {},
   "outputs": [],
   "source": [
    "import tensorflow as tf"
   ]
  },
  {
   "cell_type": "code",
   "execution_count": 2,
   "metadata": {},
   "outputs": [],
   "source": [
    "def square(x):\n",
    "    return x*x\n",
    "\n",
    "square_tf_graph = tf.autograph.to_graph(square)"
   ]
  },
  {
   "cell_type": "code",
   "execution_count": 9,
   "metadata": {},
   "outputs": [
    {
     "data": {
      "text/plain": [
       "['__annotations__',\n",
       " '__call__',\n",
       " '__class__',\n",
       " '__closure__',\n",
       " '__code__',\n",
       " '__defaults__',\n",
       " '__delattr__',\n",
       " '__dict__',\n",
       " '__dir__',\n",
       " '__doc__',\n",
       " '__eq__',\n",
       " '__format__',\n",
       " '__ge__',\n",
       " '__get__',\n",
       " '__getattribute__',\n",
       " '__globals__',\n",
       " '__gt__',\n",
       " '__hash__',\n",
       " '__init__',\n",
       " '__init_subclass__',\n",
       " '__kwdefaults__',\n",
       " '__le__',\n",
       " '__lt__',\n",
       " '__module__',\n",
       " '__name__',\n",
       " '__ne__',\n",
       " '__new__',\n",
       " '__qualname__',\n",
       " '__reduce__',\n",
       " '__reduce_ex__',\n",
       " '__repr__',\n",
       " '__setattr__',\n",
       " '__sizeof__',\n",
       " '__str__',\n",
       " '__subclasshook__',\n",
       " 'ag_module',\n",
       " 'ag_source_map',\n",
       " 'autograph_info__']"
      ]
     },
     "execution_count": 9,
     "metadata": {},
     "output_type": "execute_result"
    }
   ],
   "source": [
    "dir(square_tf_graph)"
   ]
  },
  {
   "cell_type": "code",
   "execution_count": 15,
   "metadata": {},
   "outputs": [],
   "source": [
    "square_tf_fn = tf.function(square_tf_graph, input_signature=[tf.TensorSpec(shape=(), dtype=tf.float32)])"
   ]
  },
  {
   "cell_type": "code",
   "execution_count": 18,
   "metadata": {},
   "outputs": [],
   "source": [
    "square_conc_fn = square_tf_fn.get_concrete_function()"
   ]
  },
  {
   "cell_type": "code",
   "execution_count": 23,
   "metadata": {},
   "outputs": [],
   "source": [
    "N_LON = tf.constant(127, dtype=tf.int32)"
   ]
  },
  {
   "cell_type": "code",
   "execution_count": 26,
   "metadata": {},
   "outputs": [
    {
     "data": {
      "text/plain": [
       "<tf.Tensor: shape=(1,), dtype=int32, numpy=array([127], dtype=int32)>"
      ]
     },
     "execution_count": 26,
     "metadata": {},
     "output_type": "execute_result"
    }
   ],
   "source": [
    "tf.reshape(N_LON, shape=[1])"
   ]
  },
  {
   "cell_type": "code",
   "execution_count": 22,
   "metadata": {},
   "outputs": [
    {
     "name": "stdout",
     "output_type": "stream",
     "text": [
      "ConcreteFunction tf__square(x)\n",
      "  Args:\n",
      "    x: float32 Tensor, shape=()\n",
      "  Returns:\n",
      "    float32 Tensor, shape=()\n"
     ]
    }
   ],
   "source": [
    "print(square_conc_fn)"
   ]
  },
  {
   "cell_type": "code",
   "execution_count": 7,
   "metadata": {},
   "outputs": [
    {
     "name": "stderr",
     "output_type": "stream",
     "text": [
      "2022-04-03 15:30:48.303244: I tensorflow/stream_executor/cuda/cuda_gpu_executor.cc:936] successful NUMA node read from SysFS had negative value (-1), but there must be at least one NUMA node, so returning NUMA node zero\n",
      "2022-04-03 15:30:48.310274: I tensorflow/stream_executor/cuda/cuda_gpu_executor.cc:936] successful NUMA node read from SysFS had negative value (-1), but there must be at least one NUMA node, so returning NUMA node zero\n",
      "2022-04-03 15:30:48.310578: I tensorflow/stream_executor/cuda/cuda_gpu_executor.cc:936] successful NUMA node read from SysFS had negative value (-1), but there must be at least one NUMA node, so returning NUMA node zero\n",
      "2022-04-03 15:30:48.311252: I tensorflow/core/platform/cpu_feature_guard.cc:151] This TensorFlow binary is optimized with oneAPI Deep Neural Network Library (oneDNN) to use the following CPU instructions in performance-critical operations:  AVX2 FMA\n",
      "To enable them in other operations, rebuild TensorFlow with the appropriate compiler flags.\n",
      "2022-04-03 15:30:48.312466: I tensorflow/stream_executor/cuda/cuda_gpu_executor.cc:936] successful NUMA node read from SysFS had negative value (-1), but there must be at least one NUMA node, so returning NUMA node zero\n",
      "2022-04-03 15:30:48.312820: I tensorflow/stream_executor/cuda/cuda_gpu_executor.cc:936] successful NUMA node read from SysFS had negative value (-1), but there must be at least one NUMA node, so returning NUMA node zero\n",
      "2022-04-03 15:30:48.313134: I tensorflow/stream_executor/cuda/cuda_gpu_executor.cc:936] successful NUMA node read from SysFS had negative value (-1), but there must be at least one NUMA node, so returning NUMA node zero\n",
      "2022-04-03 15:30:48.690784: I tensorflow/stream_executor/cuda/cuda_gpu_executor.cc:936] successful NUMA node read from SysFS had negative value (-1), but there must be at least one NUMA node, so returning NUMA node zero\n",
      "2022-04-03 15:30:48.691103: I tensorflow/stream_executor/cuda/cuda_gpu_executor.cc:936] successful NUMA node read from SysFS had negative value (-1), but there must be at least one NUMA node, so returning NUMA node zero\n",
      "2022-04-03 15:30:48.691356: I tensorflow/stream_executor/cuda/cuda_gpu_executor.cc:936] successful NUMA node read from SysFS had negative value (-1), but there must be at least one NUMA node, so returning NUMA node zero\n",
      "2022-04-03 15:30:48.691615: I tensorflow/core/common_runtime/gpu/gpu_device.cc:1525] Created device /job:localhost/replica:0/task:0/device:GPU:0 with 5978 MB memory:  -> device: 0, name: Quadro RTX 4000 with Max-Q Design, pci bus id: 0000:01:00.0, compute capability: 7.5\n"
     ]
    },
    {
     "data": {
      "text/plain": [
       "(<tf.Tensor: shape=(), dtype=float32, numpy=100.0>,\n",
       " <tf.Tensor: shape=(), dtype=int32, numpy=100>)"
      ]
     },
     "execution_count": 7,
     "metadata": {},
     "output_type": "execute_result"
    }
   ],
   "source": [
    "square_tf_graph(tf.constant(10, dtype=tf.float32)), square_tf_graph(tf.constant(10, dtype=tf.int32))"
   ]
  },
  {
   "cell_type": "markdown",
   "metadata": {},
   "source": [
    "#### tf.while_loop"
   ]
  },
  {
   "cell_type": "code",
   "execution_count": 1,
   "metadata": {},
   "outputs": [],
   "source": [
    "import tensorflow as tf"
   ]
  },
  {
   "cell_type": "code",
   "execution_count": 2,
   "metadata": {},
   "outputs": [],
   "source": [
    "@tf.function\n",
    "def test_integraotr(y_init, alpha):\n",
    "    y = tf.TensorArray(tf.float32, 0, True)\n",
    "    # i = tf.constant(0)\n",
    "    # c = lambda i, y: tf.less(i, 10)\n",
    "    # b = lambda y, i: y.write(i, i+1)\n",
    "    # tf.while_loop(c, b, [i, y])\n",
    "    i = tf.constant(0)\n",
    "    y_next = y_init\n",
    "    @tf.function\n",
    "    def cond(i, y, y_next):\n",
    "        return tf.less(i, 10)\n",
    "    @tf.function\n",
    "    def body(i, y_next, y):\n",
    "        y_next = y_next + alpha * y_next\n",
    "        return (i+1, y_next, y.write(i, y_next))\n",
    "    # c = lambda i, y: tf.less(i, 10)\n",
    "    # b = lambda i, y: (i+1, y.write(i, tf.cast(i+1, dtype=tf.float32)))\n",
    "    d,e,f = tf.while_loop(cond, body, [i, y_next, y])\n",
    "    return f.stack()"
   ]
  },
  {
   "cell_type": "code",
   "execution_count": 3,
   "metadata": {},
   "outputs": [
    {
     "name": "stderr",
     "output_type": "stream",
     "text": [
      "2022-04-01 13:05:29.882298: I tensorflow/stream_executor/cuda/cuda_gpu_executor.cc:936] successful NUMA node read from SysFS had negative value (-1), but there must be at least one NUMA node, so returning NUMA node zero\n",
      "2022-04-01 13:05:29.888414: I tensorflow/stream_executor/cuda/cuda_gpu_executor.cc:936] successful NUMA node read from SysFS had negative value (-1), but there must be at least one NUMA node, so returning NUMA node zero\n",
      "2022-04-01 13:05:29.888908: I tensorflow/stream_executor/cuda/cuda_gpu_executor.cc:936] successful NUMA node read from SysFS had negative value (-1), but there must be at least one NUMA node, so returning NUMA node zero\n",
      "2022-04-01 13:05:29.889962: I tensorflow/core/platform/cpu_feature_guard.cc:151] This TensorFlow binary is optimized with oneAPI Deep Neural Network Library (oneDNN) to use the following CPU instructions in performance-critical operations:  AVX2 FMA\n",
      "To enable them in other operations, rebuild TensorFlow with the appropriate compiler flags.\n",
      "2022-04-01 13:05:29.890548: I tensorflow/stream_executor/cuda/cuda_gpu_executor.cc:936] successful NUMA node read from SysFS had negative value (-1), but there must be at least one NUMA node, so returning NUMA node zero\n",
      "2022-04-01 13:05:29.890817: I tensorflow/stream_executor/cuda/cuda_gpu_executor.cc:936] successful NUMA node read from SysFS had negative value (-1), but there must be at least one NUMA node, so returning NUMA node zero\n",
      "2022-04-01 13:05:29.891056: I tensorflow/stream_executor/cuda/cuda_gpu_executor.cc:936] successful NUMA node read from SysFS had negative value (-1), but there must be at least one NUMA node, so returning NUMA node zero\n",
      "2022-04-01 13:05:30.262074: I tensorflow/stream_executor/cuda/cuda_gpu_executor.cc:936] successful NUMA node read from SysFS had negative value (-1), but there must be at least one NUMA node, so returning NUMA node zero\n",
      "2022-04-01 13:05:30.262408: I tensorflow/stream_executor/cuda/cuda_gpu_executor.cc:936] successful NUMA node read from SysFS had negative value (-1), but there must be at least one NUMA node, so returning NUMA node zero\n",
      "2022-04-01 13:05:30.262634: I tensorflow/stream_executor/cuda/cuda_gpu_executor.cc:936] successful NUMA node read from SysFS had negative value (-1), but there must be at least one NUMA node, so returning NUMA node zero\n",
      "2022-04-01 13:05:30.262853: I tensorflow/core/common_runtime/gpu/gpu_device.cc:1525] Created device /job:localhost/replica:0/task:0/device:GPU:0 with 5809 MB memory:  -> device: 0, name: Quadro RTX 4000 with Max-Q Design, pci bus id: 0000:01:00.0, compute capability: 7.5\n"
     ]
    },
    {
     "data": {
      "text/plain": [
       "<tf.Tensor: shape=(10,), dtype=float32, numpy=\n",
       "array([1.1      , 1.21     , 1.3310001, 1.4641001, 1.6105101, 1.7715611,\n",
       "       1.9487172, 2.143589 , 2.3579478, 2.5937426], dtype=float32)>"
      ]
     },
     "execution_count": 3,
     "metadata": {},
     "output_type": "execute_result"
    }
   ],
   "source": [
    "test_integraotr(tf.constant(1.0, dtype=tf.float32), 0.1)"
   ]
  },
  {
   "cell_type": "markdown",
   "metadata": {},
   "source": [
    "### Gradient of local coupling"
   ]
  },
  {
   "cell_type": "code",
   "execution_count": 1,
   "metadata": {},
   "outputs": [],
   "source": [
    "import tensorflow as tf"
   ]
  },
  {
   "cell_type": "code",
   "execution_count": 2,
   "metadata": {},
   "outputs": [
    {
     "name": "stderr",
     "output_type": "stream",
     "text": [
      "2022-03-30 22:12:44.831761: I tensorflow/stream_executor/cuda/cuda_gpu_executor.cc:936] successful NUMA node read from SysFS had negative value (-1), but there must be at least one NUMA node, so returning NUMA node zero\n",
      "2022-03-30 22:12:44.837328: I tensorflow/stream_executor/cuda/cuda_gpu_executor.cc:936] successful NUMA node read from SysFS had negative value (-1), but there must be at least one NUMA node, so returning NUMA node zero\n",
      "2022-03-30 22:12:44.837653: I tensorflow/stream_executor/cuda/cuda_gpu_executor.cc:936] successful NUMA node read from SysFS had negative value (-1), but there must be at least one NUMA node, so returning NUMA node zero\n"
     ]
    },
    {
     "data": {
      "text/plain": [
       "[PhysicalDevice(name='/physical_device:CPU:0', device_type='CPU'),\n",
       " PhysicalDevice(name='/physical_device:GPU:0', device_type='GPU')]"
      ]
     },
     "execution_count": 2,
     "metadata": {},
     "output_type": "execute_result"
    }
   ],
   "source": [
    "tf.config.list_physical_devices()"
   ]
  },
  {
   "cell_type": "code",
   "execution_count": 1,
   "metadata": {},
   "outputs": [],
   "source": [
    "# %%\n",
    "import numpy as np\n",
    "import tensorflow as tf\n",
    "# tf.config.set_visible_devices([], 'GPU')\n",
    "import matplotlib.pyplot as plt\n",
    "import tensorflow_probability as tfp\n",
    "import lib.utils.sht as tfsht\n",
    "import lib.utils.projector\n",
    "import time"
   ]
  },
  {
   "cell_type": "code",
   "execution_count": 2,
   "metadata": {},
   "outputs": [
    {
     "name": "stderr",
     "output_type": "stream",
     "text": [
      "2022-04-01 16:27:09.953968: I tensorflow/stream_executor/cuda/cuda_gpu_executor.cc:936] successful NUMA node read from SysFS had negative value (-1), but there must be at least one NUMA node, so returning NUMA node zero\n",
      "2022-04-01 16:27:09.962398: I tensorflow/stream_executor/cuda/cuda_gpu_executor.cc:936] successful NUMA node read from SysFS had negative value (-1), but there must be at least one NUMA node, so returning NUMA node zero\n",
      "2022-04-01 16:27:09.962849: I tensorflow/stream_executor/cuda/cuda_gpu_executor.cc:936] successful NUMA node read from SysFS had negative value (-1), but there must be at least one NUMA node, so returning NUMA node zero\n"
     ]
    }
   ],
   "source": [
    "gpus = tf.config.list_physical_devices(\"GPU\")\n",
    "for gpu in gpus:\n",
    "    tf.config.experimental.set_memory_growth(gpu, True)\n"
   ]
  },
  {
   "cell_type": "code",
   "execution_count": 3,
   "metadata": {},
   "outputs": [
    {
     "name": "stderr",
     "output_type": "stream",
     "text": [
      "2022-04-01 16:27:10.004013: I tensorflow/core/platform/cpu_feature_guard.cc:151] This TensorFlow binary is optimized with oneAPI Deep Neural Network Library (oneDNN) to use the following CPU instructions in performance-critical operations:  AVX2 FMA\n",
      "To enable them in other operations, rebuild TensorFlow with the appropriate compiler flags.\n",
      "2022-04-01 16:27:10.005062: I tensorflow/stream_executor/cuda/cuda_gpu_executor.cc:936] successful NUMA node read from SysFS had negative value (-1), but there must be at least one NUMA node, so returning NUMA node zero\n",
      "2022-04-01 16:27:10.005493: I tensorflow/stream_executor/cuda/cuda_gpu_executor.cc:936] successful NUMA node read from SysFS had negative value (-1), but there must be at least one NUMA node, so returning NUMA node zero\n",
      "2022-04-01 16:27:10.005781: I tensorflow/stream_executor/cuda/cuda_gpu_executor.cc:936] successful NUMA node read from SysFS had negative value (-1), but there must be at least one NUMA node, so returning NUMA node zero\n",
      "2022-04-01 16:27:10.377847: I tensorflow/stream_executor/cuda/cuda_gpu_executor.cc:936] successful NUMA node read from SysFS had negative value (-1), but there must be at least one NUMA node, so returning NUMA node zero\n",
      "2022-04-01 16:27:10.378155: I tensorflow/stream_executor/cuda/cuda_gpu_executor.cc:936] successful NUMA node read from SysFS had negative value (-1), but there must be at least one NUMA node, so returning NUMA node zero\n",
      "2022-04-01 16:27:10.378392: I tensorflow/stream_executor/cuda/cuda_gpu_executor.cc:936] successful NUMA node read from SysFS had negative value (-1), but there must be at least one NUMA node, so returning NUMA node zero\n",
      "2022-04-01 16:27:10.378616: I tensorflow/core/common_runtime/gpu/gpu_device.cc:1525] Created device /job:localhost/replica:0/task:0/device:GPU:0 with 5748 MB memory:  -> device: 0, name: Quadro RTX 4000 with Max-Q Design, pci bus id: 0000:01:00.0, compute capability: 7.5\n"
     ]
    }
   ],
   "source": [
    "# %%\n",
    "L_MAX = 128\n",
    "N_LAT, N_LON, cos_theta, glq_wts, P_l_m_costheta = tfsht.prep(L_MAX)\n",
    "D = tf.constant(-0.01, dtype=tf.float32)\n",
    "l = tf.range(0, L_MAX + 1, dtype=tf.float32)\n",
    "Dll = tf.cast(D * l * (l + 1), dtype=tf.complex64)\n",
    "nv = tf.constant(2 * N_LAT * N_LON, dtype=tf.int32)  # Total no. of vertices\n",
    "nvph = tf.math.floordiv(nv, 2)  # No.of vertices per hemisphere\n",
    "\n",
    "verts_irreg_fname = 'datasets/id004_bj_jd/tvb/ico7/vertices.txt'\n",
    "rgn_map_irreg_fname = 'datasets/id004_bj_jd/tvb/Cortex_region_map_ico7.txt'\n",
    "rgn_map_reg = lib.utils.projector.find_rgn_map(\n",
    "    N_LAT=N_LAT,\n",
    "    N_LON=N_LON,\n",
    "    cos_theta=cos_theta,\n",
    "    verts_irreg_fname=verts_irreg_fname,\n",
    "    rgn_map_irreg_fname=rgn_map_irreg_fname)\n",
    "unkown_roi_mask = np.ones(nv)\n",
    "unkown_roi_mask[np.nonzero(rgn_map_reg == 0)[0]] = 0\n",
    "unkown_roi_mask = tf.constant(unkown_roi_mask, dtype=tf.float32)"
   ]
  },
  {
   "cell_type": "code",
   "execution_count": 4,
   "metadata": {},
   "outputs": [],
   "source": [
    "delta_phi = tf.constant(2*np.pi/N_LON, dtype=tf.float32)\n",
    "phi = tf.range(0, 2*np.pi, delta_phi, dtype=tf.float32)\n",
    "phi_db = phi[:, tf.newaxis] - phi[tf.newaxis, :]\n",
    "m = tf.range(0, L_MAX + 1, dtype=tf.float32)\n",
    "cos_m_phidb = 2.0 * tf.math.cos(tf.einsum(\"m,db->mdb\", m, phi_db))\n",
    "P_l_m_Dll = delta_phi * tf.math.real(\n",
    "    Dll)[:, tf.newaxis, tf.newaxis] * tf.math.real(P_l_m_costheta)\n",
    " \n"
   ]
  },
  {
   "cell_type": "code",
   "execution_count": 5,
   "metadata": {},
   "outputs": [],
   "source": [
    "@tf.custom_gradient\n",
    "def local_coupling(x):\n",
    "    x_hat_lh = tf.stop_gradient(tf.reshape(x[0:nvph], (N_LAT, N_LON)))\n",
    "    x_hat_rh = tf.stop_gradient(tf.reshape(x[nvph:], (N_LAT, N_LON)))\n",
    "    x_lm_lh = tf.stop_gradient(\n",
    "        tfsht.analys(N_LON, x_hat_lh, glq_wts, P_l_m_costheta))\n",
    "    x_lm_hat_lh = tf.stop_gradient(Dll[:, tf.newaxis] * x_lm_lh)\n",
    "    x_lm_rh = tf.stop_gradient(\n",
    "        tfsht.analys(N_LON, x_hat_rh, glq_wts, P_l_m_costheta))\n",
    "    x_lm_hat_rh = tf.stop_gradient(Dll[:, tf.newaxis] * x_lm_rh)\n",
    "    local_cplng_lh = tf.stop_gradient(\n",
    "        tf.reshape(tfsht.synth(N_LON, x_lm_hat_lh, P_l_m_costheta), [-1]))\n",
    "    local_cplng_rh = tf.stop_gradient(\n",
    "        tf.reshape(tfsht.synth(N_LON, x_lm_hat_rh, P_l_m_costheta), [-1]))\n",
    "    local_cplng = tf.stop_gradient(\n",
    "        tf.concat((local_cplng_lh, local_cplng_rh), axis=0))\n",
    "\n",
    "    def grad(upstream):\n",
    "        g_lh = -1.0 * tf.einsum(\"cd,a,lmc,lma,mdb->ab\",\n",
    "                                tf.reshape(upstream[0:nvph], (N_LAT, N_LON)),\n",
    "                                tf.math.real(glq_wts),\n",
    "                                P_l_m_Dll[:, 1:, :],\n",
    "                                tf.math.real(P_l_m_costheta[:, 1:, :]),\n",
    "                                cos_m_phidb[1:, :, :],\n",
    "                                optimize=\"optimal\") - tf.einsum(\n",
    "                                    \"cd,a,lc,la,db->ab\",\n",
    "                                    tf.reshape(upstream[nvph:],\n",
    "                                               (N_LAT, N_LON)),\n",
    "                                    tf.math.real(glq_wts),\n",
    "                                    P_l_m_Dll[:, 0, :],\n",
    "                                    tf.math.real(P_l_m_costheta)[:, 0, :],\n",
    "                                    cos_m_phidb[0, :, :],\n",
    "                                    optimize=\"optimal\")\n",
    "        g_rh = -1.0 * tf.einsum(\"cd,a,lmc,lma,mdb->ab\",\n",
    "                                tf.reshape(upstream[0:nvph], (N_LAT, N_LON)),\n",
    "                                tf.math.real(glq_wts),\n",
    "                                P_l_m_Dll[:, 1:, :],\n",
    "                                tf.math.real(P_l_m_costheta[:, 1:, :]),\n",
    "                                cos_m_phidb[1:, :, :],\n",
    "                                optimize=\"optimal\") - tf.einsum(\n",
    "                                    \"cd,a,lc,la,db->ab\",\n",
    "                                    tf.reshape(upstream[nvph:],\n",
    "                                               (N_LAT, N_LON)),\n",
    "                                    tf.math.real(glq_wts),\n",
    "                                    P_l_m_Dll[:, 0, :],\n",
    "                                    tf.math.real(P_l_m_costheta)[:, 0, :],\n",
    "                                    cos_m_phidb[0, :, :],\n",
    "                                    optimize=\"optimal\")\n",
    "        return tf.concat((tf.reshape(g_lh, [-1]), tf.reshape(g_rh, [-1])),\n",
    "                         axis=0)\n",
    "\n",
    "    return local_cplng, grad"
   ]
  },
  {
   "cell_type": "code",
   "execution_count": 6,
   "metadata": {},
   "outputs": [],
   "source": [
    "@tf.function\n",
    "def ode_fn(x):\n",
    "    with tf.GradientTape() as tape:\n",
    "        tape.watch(x)\n",
    "        x_hat = tf.math.sigmoid(x)\n",
    "        lc = local_coupling(x_hat)\n",
    "        return lc, tape.gradient(lc, x)"
   ]
  },
  {
   "cell_type": "code",
   "execution_count": 7,
   "metadata": {},
   "outputs": [],
   "source": [
    "x = tf.constant(-2.0, dtype=tf.float32) * \\\n",
    "    tf.ones(2*N_LAT*N_LON, dtype=tf.float32)\n",
    "lc, lc_x_grad = ode_fn(x)\n",
    "# lc = local_coupling(x)"
   ]
  },
  {
   "cell_type": "code",
   "execution_count": 8,
   "metadata": {},
   "outputs": [
    {
     "data": {
      "text/plain": [
       "(<tf.Tensor: shape=(66306,), dtype=float32, numpy=\n",
       " array([0.00050421, 0.00050415, 0.0005041 , ..., 0.00049993, 0.00049985,\n",
       "        0.00049977], dtype=float32)>,\n",
       " <tf.Tensor: shape=(66306,), dtype=float32, numpy=\n",
       " array([4.1531854, 4.153184 , 4.1531844, ..., 4.153184 , 4.153186 ,\n",
       "        4.1531844], dtype=float32)>)"
      ]
     },
     "execution_count": 8,
     "metadata": {},
     "output_type": "execute_result"
    }
   ],
   "source": [
    "lc, lc_x_grad"
   ]
  },
  {
   "cell_type": "code",
   "execution_count": 9,
   "metadata": {},
   "outputs": [
    {
     "data": {
      "text/plain": [
       "(TensorShape([33153]), 33153)"
      ]
     },
     "execution_count": 9,
     "metadata": {},
     "output_type": "execute_result"
    }
   ],
   "source": [
    "g_flat = tf.reshape(g, [-1])\n",
    "g_flat.shape, g.shape[0]*g.shape[1]"
   ]
  },
  {
   "cell_type": "code",
   "execution_count": 1,
   "metadata": {},
   "outputs": [
    {
     "ename": "NameError",
     "evalue": "name 'tf' is not defined",
     "output_type": "error",
     "traceback": [
      "\u001b[0;31m---------------------------------------------------------------------------\u001b[0m",
      "\u001b[0;31mNameError\u001b[0m                                 Traceback (most recent call last)",
      "\u001b[0;32m/tmp/ipykernel_39929/4256103626.py\u001b[0m in \u001b[0;36m<module>\u001b[0;34m\u001b[0m\n\u001b[0;32m----> 1\u001b[0;31m \u001b[0mtf\u001b[0m\u001b[0;34m.\u001b[0m\u001b[0mreshape\u001b[0m\u001b[0;34m(\u001b[0m\u001b[0mtf\u001b[0m\u001b[0;34m.\u001b[0m\u001b[0mrange\u001b[0m\u001b[0;34m(\u001b[0m\u001b[0;36m0\u001b[0m\u001b[0;34m,\u001b[0m\u001b[0;36m15\u001b[0m\u001b[0;34m)\u001b[0m\u001b[0;34m,\u001b[0m \u001b[0;34m(\u001b[0m\u001b[0;36m3\u001b[0m\u001b[0;34m,\u001b[0m\u001b[0;36m5\u001b[0m\u001b[0;34m)\u001b[0m\u001b[0;34m)\u001b[0m\u001b[0;34m\u001b[0m\u001b[0;34m\u001b[0m\u001b[0m\n\u001b[0m",
      "\u001b[0;31mNameError\u001b[0m: name 'tf' is not defined"
     ]
    }
   ],
   "source": [
    "tf.reshape(tf.range(0,15), (3,5))"
   ]
  },
  {
   "cell_type": "code",
   "execution_count": null,
   "metadata": {},
   "outputs": [],
   "source": [
    "lc_jacobian_gpu = tf.identity(lc_jacobian)"
   ]
  },
  {
   "cell_type": "code",
   "execution_count": 5,
   "metadata": {},
   "outputs": [
    {
     "data": {
      "text/plain": [
       "<tf.Tensor: shape=(), dtype=bool, numpy=True>"
      ]
     },
     "execution_count": 5,
     "metadata": {},
     "output_type": "execute_result"
    }
   ],
   "source": [
    "t = []\n",
    "for i, m_val in enumerate(m):\n",
    "    t.append(tf.reduce_all(cos_m_phidb[i] == 2.0 * tf.math.cos(m_val*phi_db)))\n",
    "tf.reduce_all(t)"
   ]
  },
  {
   "cell_type": "code",
   "execution_count": 7,
   "metadata": {},
   "outputs": [
    {
     "data": {
      "text/plain": [
       "<tf.Tensor: shape=(), dtype=bool, numpy=True>"
      ]
     },
     "execution_count": 7,
     "metadata": {},
     "output_type": "execute_result"
    }
   ],
   "source": [
    "t = []\n",
    "for d in range(phi.shape[0]):\n",
    "    for b in range(phi.shape[0]): \n",
    "      t.append(phi_db[d, b]   == phi[d] - phi[b])\n",
    "tf.reduce_all(t)"
   ]
  },
  {
   "cell_type": "code",
   "execution_count": 8,
   "metadata": {},
   "outputs": [
    {
     "data": {
      "text/plain": [
       "<tf.Tensor: shape=(), dtype=bool, numpy=True>"
      ]
     },
     "execution_count": 8,
     "metadata": {},
     "output_type": "execute_result"
    }
   ],
   "source": [
    "t = []\n",
    "for i in range(Dll.shape[0]):\n",
    "    t.append(tf.reduce_all(P_l_m_Dll[i,...] == delta_phi * tf.math.real(Dll[i]) * tf.math.real(P_l_m_costheta[i,...])))\n",
    "tf.reduce_all(t)"
   ]
  },
  {
   "cell_type": "code",
   "execution_count": 14,
   "metadata": {},
   "outputs": [
    {
     "data": {
      "text/plain": [
       "<tf.Tensor: shape=(), dtype=float32, numpy=0.0>"
      ]
     },
     "execution_count": 14,
     "metadata": {},
     "output_type": "execute_result"
    }
   ],
   "source": [
    "tf.reduce_max(tf.math.imag(P_l_m_costheta))"
   ]
  },
  {
   "cell_type": "code",
   "execution_count": 1,
   "metadata": {},
   "outputs": [],
   "source": [
    "import tensorflow as tf"
   ]
  },
  {
   "cell_type": "code",
   "execution_count": 7,
   "metadata": {},
   "outputs": [],
   "source": [
    "@tf.custom_gradient\n",
    "def scale(x):\n",
    "    # x_hat = tf.math.pow(x, 2)\n",
    "    x_scaled = tf.stop_gradient(5.0 * x)\n",
    "    def grad(upstream):\n",
    "        g = upstream * tf.constant(5.0)\n",
    "        return g\n",
    "    return x_scaled, grad"
   ]
  },
  {
   "cell_type": "code",
   "execution_count": 8,
   "metadata": {},
   "outputs": [
    {
     "name": "stdout",
     "output_type": "stream",
     "text": [
      "312.499969 [50 25]\n"
     ]
    }
   ],
   "source": [
    "x = tf.constant([10.0, 5.0])\n",
    "with tf.GradientTape() as tape:\n",
    "    tape.watch(x)\n",
    "    x_hat = tf.math.pow(x, 2)\n",
    "    x_scaled = scale(x_hat)\n",
    "    x_star = 0.5*x_scaled\n",
    "    loss = tf.reduce_sum(x_star, axis=0)\n",
    "    tf.print(loss, tape.gradient(loss, x))"
   ]
  },
  {
   "cell_type": "markdown",
   "metadata": {},
   "source": [
    "### Phase space plots"
   ]
  },
  {
   "cell_type": "code",
   "execution_count": null,
   "metadata": {},
   "outputs": [],
   "source": [
    "for i in range(84):\n",
    "    if i in ez: \n",
    "        plt.plot(pstr_samples_1['x'][-1,:,i], pstr_samples_1['z'][-1,:,i], color='red')\n",
    "    elif i in pz:\n",
    "        plt.plot(pstr_samples_1['x'][-1,:,i], pstr_samples_1['z'][-1,:,i], color='orange')\n",
    "    else:\n",
    "        plt.plot(pstr_samples_1['x'][-1,:,i], pstr_samples_1['z'][-1,:,i], color='black')"
   ]
  },
  {
   "cell_type": "markdown",
   "metadata": {},
   "source": [
    "Downsampling **seeg log power**"
   ]
  },
  {
   "cell_type": "code",
   "execution_count": null,
   "metadata": {},
   "outputs": [],
   "source": [
    "%reset -f\n",
    "%matplotlib inline\n",
    "import numpy as np\n",
    "import matplotlib.pyplot as plt"
   ]
  },
  {
   "cell_type": "code",
   "execution_count": null,
   "metadata": {},
   "outputs": [],
   "source": [
    "# fit_trgt = np.load('datasets/id001_ac/AC_fit_trgt.npz')['fit_trgt']\n",
    "# fit_trgt_ds = fit_trgt[0:-1:20,:]\n",
    "# plt.figure(figsize=(15,5))\n",
    "# plt.plot(fit_trgt,alpha=0.3);\n",
    "# plt.xlabel('time')\n",
    "# plt.ylabel('slp')\n",
    "# plt.title('Original')\n",
    "# plt.figure(figsize=(15,5))\n",
    "# plt.plot(fit_trgt_ds,alpha=0.3);\n",
    "# plt.xlabel('time')\n",
    "# plt.ylabel('slp')\n",
    "# plt.title('Downsampled')\n",
    "\n",
    "syn_data = np.load('datasets/id001_ac/AC_syn_tvb_ez=59_pz=82-74.npz')\n",
    "srcSig = syn_data['src_sig'][2200:3800:20,0,:,0] + syn_data['src_sig'][2200:3800:20,3,:,0]\n",
    "plt.figure(figsize=(15,10))\n",
    "plt.subplot(211)\n",
    "plt.plot(srcSig);"
   ]
  },
  {
   "cell_type": "markdown",
   "metadata": {},
   "source": [
    "Preprocessing retrospective patients data"
   ]
  },
  {
   "cell_type": "code",
   "execution_count": null,
   "metadata": {},
   "outputs": [],
   "source": [
    "%matplotlib inline\n",
    "import lib.io.stan\n",
    "import matplotlib.pyplot as plt\n",
    "import lib.preprocess.envelope\n",
    "import numpy as np"
   ]
  },
  {
   "cell_type": "code",
   "execution_count": null,
   "metadata": {},
   "outputs": [],
   "source": [
    "data = lib.io.stan.rload('datasets/RetrospectivePatients/id001_bt/vep/data.R')"
   ]
  },
  {
   "cell_type": "code",
   "execution_count": null,
   "metadata": {},
   "outputs": [],
   "source": [
    "data.keys()"
   ]
  },
  {
   "cell_type": "code",
   "execution_count": null,
   "metadata": {},
   "outputs": [],
   "source": [
    "print(data['counts_triu'].shape, data['nn']*(data['nn']-1)/2.0)\n",
    "\n",
    "sc = data['counts_triu'].reshape((data['nn'],data['nn']))\n"
   ]
  },
  {
   "cell_type": "code",
   "execution_count": null,
   "metadata": {},
   "outputs": [],
   "source": [
    "np.where(data['is_first'] == 1)[0][1]\n",
    "# print(data['is_first'])"
   ]
  },
  {
   "cell_type": "code",
   "execution_count": null,
   "metadata": {},
   "outputs": [],
   "source": [
    "plt.figure(figsize=(20,5))\n",
    "plt.plot(data['seeg'].T);"
   ]
  },
  {
   "cell_type": "code",
   "execution_count": null,
   "metadata": {},
   "outputs": [],
   "source": [
    "szr_onset_idxs = np.where(data['is_first'] == 1)[0]\n",
    "print(szr_onset_idxs)\n",
    "seeg = data['seeg'][:,0:szr_onset_idxs[1]].T\n",
    "seeg = data['seeg'][:,szr_onset_idxs[3]:-1].T\n",
    "t = lib.preprocess.envelope.bfilt(seeg, 64, 5.0, 'highpass', axis=0)\n",
    "plt.figure(figsize=(25,5))\n",
    "plt.plot(t);\n",
    "t = lib.preprocess.envelope.bfilt(seeg, 64, 20.0, 'lowpass', axis=0)\n",
    "plt.figure(figsize=(25,5))\n",
    "plt.plot(t);\n",
    "t = lib.preprocess.envelope.bfilt(t, 64, 10.0, 'lowpass', axis=0)\n",
    "plt.figure(figsize=(25,5))\n",
    "plt.plot(t);\n",
    "# slp = lib.preprocess.envelope.compute_fitting_target(seeg, 256)\n",
    "# seeg_mov_avg = lib.preprocess.envelope.mov_avg(seeg, 10)"
   ]
  },
  {
   "cell_type": "code",
   "execution_count": null,
   "metadata": {},
   "outputs": [],
   "source": [
    "ez_clin_hyp = np.loadtxt('datasets/RetrospectivePatients/id001_bt/tvb/ez_hypothesis.destrieux.txt')"
   ]
  },
  {
   "cell_type": "code",
   "execution_count": null,
   "metadata": {},
   "outputs": [],
   "source": [
    "np.where(ez_clin_hyp == 1)[0]+1"
   ]
  },
  {
   "cell_type": "code",
   "execution_count": null,
   "metadata": {},
   "outputs": [],
   "source": [
    "import mne\n",
    "import json\n",
    "import matplotlib.pyplot as plt\n",
    "import numpy as np\n",
    "import lib.preprocess.envelope\n",
    "import lib.io.stan"
   ]
  },
  {
   "cell_type": "code",
   "execution_count": null,
   "metadata": {},
   "outputs": [],
   "source": [
    "data_dir = 'datasets/retro/id001_bt'\n",
    "with open(f'{data_dir}/seeg/fif/BTcrise1appportable_0006.json') as fd:\n",
    "    meta_data = json.load(fd)\n",
    "bad_channels = meta_data['bad_channels']\n",
    "exclude = meta_data['bad_channels'] + meta_data['non_seeg_channels']\n",
    "# fif_fname = os.path.join(os.path.dirname(js['_source']), js['filename'])\n",
    "raw = mne.io.Raw(f'{data_dir}/seeg/fif/BTcrise1appportable_0006.raw.fif', verbose='WARNING')\n",
    "# raw = mne.io.Raw(fif_fname, verbose='WARNING')\n",
    "picks = set(raw.ch_names) - set(exclude)\n",
    "assert meta_data['onset'] is not None and meta_data['termination'] is not None\n",
    "# raw.crop(tmin=meta_data['onset'], tmax=meta_data['termination'])\n",
    "raw.load_data()\n",
    "raw.pick_channels(picks)"
   ]
  },
  {
   "cell_type": "code",
   "execution_count": null,
   "metadata": {},
   "outputs": [],
   "source": [
    "meta_data['onset'], raw.info['sfreq']"
   ]
  },
  {
   "cell_type": "code",
   "execution_count": null,
   "metadata": {},
   "outputs": [],
   "source": [
    "seeg = raw.get_data().T#[0:-1:8,:]\n",
    "# help(raw.crop)\n",
    "seeg.shape"
   ]
  },
  {
   "cell_type": "code",
   "execution_count": null,
   "metadata": {},
   "outputs": [],
   "source": [
    "plt.figure(figsize=(25,30))\n",
    "plt.plot(seeg/np.max(seeg, axis=0) + 2 * np.r_[0:raw.info['nchan']]);\n",
    "# plt.plot(seeg/np.max(seeg,axis=0),'k');"
   ]
  },
  {
   "cell_type": "code",
   "execution_count": null,
   "metadata": {},
   "outputs": [],
   "source": [
    "# t = np.zeros_like(seeg)\n",
    "\n",
    "for i in range(seeg.shape[1]):\n",
    "    ts = seeg[:,i]\n",
    "    ts[abs(ts - ts.mean())>2*ts.std()] = ts.mean()\n",
    "#     seeg[:,i] = ts"
   ]
  },
  {
   "cell_type": "code",
   "execution_count": null,
   "metadata": {},
   "outputs": [],
   "source": [
    "plt.figure(figsize=[25,5])\n",
    "plt.plot(seeg[0:-1:int(raw.info['sfreq']/4)]);"
   ]
  },
  {
   "cell_type": "code",
   "execution_count": null,
   "metadata": {},
   "outputs": [],
   "source": [
    "seeg = lib.preprocess.envelope.bfilt(seeg, raw.info['sfreq'], 10.0, 'highpass', axis=0)\n",
    "plt.figure(figsize=(25,5))\n",
    "plt.plot(seeg[0:-1:int(raw.info['sfreq']/4)],'k',alpha=0.3);\n",
    "plt.title('Highpass at fcut=5')"
   ]
  },
  {
   "cell_type": "code",
   "execution_count": null,
   "metadata": {},
   "outputs": [],
   "source": [
    "seeg = lib.preprocess.envelope.seeg_log_power(seeg, 50)#[0:-65,:]\n",
    "plt.figure(figsize=(25,5))\n",
    "plt.plot(seeg[0:-1:int(raw.info['sfreq']/4)],'k',alpha=0.3);\n",
    "plt.title('log of moving average')"
   ]
  },
  {
   "cell_type": "code",
   "execution_count": null,
   "metadata": {},
   "outputs": [],
   "source": [
    "# t3 = np.zeros_like(t2)\n",
    "\n",
    "for i in range(seeg.shape[1]):\n",
    "    ts = seeg[:,i]\n",
    "    ts[abs(ts - ts.mean())>2*ts.std()] = ts.mean()\n",
    "#     seeg[:,i] = ts"
   ]
  },
  {
   "cell_type": "code",
   "execution_count": null,
   "metadata": {},
   "outputs": [],
   "source": [
    "plt.figure(figsize=[25,5])\n",
    "plt.plot(seeg,'k', alpha=0.3);\n",
    "# plt.plot(t2);"
   ]
  },
  {
   "cell_type": "code",
   "execution_count": null,
   "metadata": {},
   "outputs": [],
   "source": [
    "seeg = lib.preprocess.envelope.bfilt(seeg, raw.info['sfreq'], 0.04, 'lowpass', axis=0)\n",
    "plt.figure(figsize=(25,5))\n",
    "plt.plot(seeg[0:-1:int(raw.info['sfreq'])], 'k', alpha=0.3);\n",
    "plt.title('low pass filtered at 10Hz to smooth')"
   ]
  },
  {
   "cell_type": "code",
   "execution_count": null,
   "metadata": {},
   "outputs": [],
   "source": [
    "slp = seeg[0:-1:int(raw.info['sfreq']),:]\n",
    "plt.figure(figsize=(25,5))\n",
    "plt.plot(slp,'k',alpha=0.3)\n",
    "# plt.vlines(180,3,15,colors='red')\n",
    "plt.title('Downsampled')"
   ]
  },
  {
   "cell_type": "code",
   "execution_count": null,
   "metadata": {},
   "outputs": [],
   "source": [
    "raw.info['sfreq']"
   ]
  },
  {
   "cell_type": "code",
   "execution_count": null,
   "metadata": {},
   "outputs": [],
   "source": [
    "slp = lib.preprocess.envelope.compute_fitting_target(t,64)\n",
    "plt.figure(figsize=(25,5))\n",
    "plt.plot(slp[0:-65:128,:],'k',alpha=0.3);"
   ]
  },
  {
   "cell_type": "code",
   "execution_count": null,
   "metadata": {},
   "outputs": [],
   "source": [
    "import numpy as np\n",
    "%matplotlib inline\n",
    "import matplotlib.pyplot as plt"
   ]
  },
  {
   "cell_type": "code",
   "execution_count": null,
   "metadata": {},
   "outputs": [],
   "source": [
    "mode = 10.0\n",
    "sigma = 0.5\n",
    "t_star = np.random.normal(0,1,1000)\n",
    "print(np.mean(sigma*t_star))\n",
    "# t_star = t_star[np.logical_and(t_star>-1,t_star<1)]\n",
    "t = np.exp(sigma**2 + np.log(mode) + sigma*t_star);\n",
    "t_star = np.log(t)\n",
    "plt.figure(figsize=(10,5))\n",
    "plt.subplot(211)\n",
    "plt.hist(t,bins=100);\n",
    "plt.subplot(212)\n",
    "plt.hist(t_star,bins=50,color='black',alpha=0.4);\n",
    "print(np.mean(t_star) - sigma**2 - np.log(mode))\n",
    "plt.tight_layout()\n"
   ]
  },
  {
   "cell_type": "code",
   "execution_count": null,
   "metadata": {},
   "outputs": [],
   "source": [
    "np.exp(1 + np.log(0.1))"
   ]
  },
  {
   "cell_type": "markdown",
   "metadata": {},
   "source": [
    "### Log normal distribution"
   ]
  },
  {
   "cell_type": "code",
   "execution_count": null,
   "metadata": {},
   "outputs": [],
   "source": [
    "np.exp(1 + np.log(0.1))"
   ]
  },
  {
   "cell_type": "code",
   "execution_count": null,
   "metadata": {},
   "outputs": [],
   "source": [
    "t = np.random.normal(0,1,10)\n",
    "print(t)\n",
    "idxs = np.logical_and(t>-1, t<1) \n",
    "print(idxs)\n",
    "print(t[idxs])"
   ]
  },
  {
   "cell_type": "markdown",
   "metadata": {},
   "source": [
    "### Rescaled distribution"
   ]
  },
  {
   "cell_type": "code",
   "execution_count": null,
   "metadata": {},
   "outputs": [],
   "source": [
    "%matplotlib inline\n",
    "import numpy as np\n",
    "import matplotlib.pyplot as plt"
   ]
  },
  {
   "cell_type": "code",
   "execution_count": null,
   "metadata": {},
   "outputs": [],
   "source": [
    "def norm(x,mu,sigma):\n",
    "    return (1/(sigma*np.sqrt(2*np.pi)))*np.exp(-((x-mu)/sigma)**2)\n",
    "    \n",
    "x = np.r_[-10:10:0.1]\n",
    "fx = norm(x,0,1)\n",
    "alpha = 10\n",
    "x_star = np.r_[-alpha*10:alpha*10:0.1]\n",
    "fx_star = norm(x_star/alpha,0,1)*(1/alpha)\n",
    "plt.figure(figsize=(5,5))\n",
    "plt.plot(x,fx)\n",
    "plt.figure(figsize=(5,5))\n",
    "plt.plot(x_star,fx_star)\n"
   ]
  },
  {
   "cell_type": "markdown",
   "metadata": {},
   "source": [
    "### Plot preprocessed retrospective data"
   ]
  },
  {
   "cell_type": "code",
   "execution_count": null,
   "metadata": {},
   "outputs": [],
   "source": [
    "%matplotlib inline\n",
    "import numpy as np\n",
    "import matplotlib.pyplot as plt\n",
    "import lib.io.stan\n",
    "import glob\n",
    "import os"
   ]
  },
  {
   "cell_type": "code",
   "execution_count": null,
   "metadata": {},
   "outputs": [],
   "source": [
    "t = []\n",
    "for fname in glob.glob('results/exp10/exp10.65/id004_bj/Rfiles/fit_data*.R'):\n",
    "    print(fname)\n",
    "    t.append(lib.io.stan.rload(fname))"
   ]
  },
  {
   "cell_type": "code",
   "execution_count": null,
   "metadata": {},
   "outputs": [],
   "source": [
    "plt.figure(figsize=(25,5))\n",
    "plt.plot(t[3]['slp'], color='black', alpha=0.3);"
   ]
  },
  {
   "cell_type": "code",
   "execution_count": null,
   "metadata": {},
   "outputs": [],
   "source": [
    "plt.figure(figsize=(25,25))\n",
    "for i,szr_data in enumerate(t):\n",
    "    plt.subplot(4,1,i+1)\n",
    "    plt.plot(szr_data['slp'], color='black', alpha=0.3)"
   ]
  },
  {
   "cell_type": "markdown",
   "metadata": {},
   "source": [
    "### pymc3 test"
   ]
  },
  {
   "cell_type": "code",
   "execution_count": null,
   "metadata": {},
   "outputs": [],
   "source": [
    "%matplotlib inline\n",
    "import pymc3 as pm\n",
    "import numpy as np\n",
    "import matplotlib.pyplot as plt\n",
    "import theano.tensor as T"
   ]
  },
  {
   "cell_type": "code",
   "execution_count": null,
   "metadata": {},
   "outputs": [],
   "source": [
    "def logNormal(x, mode=0, sd=1):\n",
    "    return np.exp(sd**2 + np.log(mode) + sd*x)"
   ]
  },
  {
   "cell_type": "code",
   "execution_count": null,
   "metadata": {},
   "outputs": [],
   "source": [
    "t = logNormal(np.random.normal(loc=0, scale=1, size=1000), mode=10, sd=0.1)\n",
    "plt.hist(t)"
   ]
  },
  {
   "cell_type": "code",
   "execution_count": null,
   "metadata": {},
   "outputs": [],
   "source": [
    "mode = 10\n",
    "sd = 0.1\n",
    "print('mu =', sd**2 + np.log(mode))\n",
    "class mymodel:\n",
    "    def __init__(self):\n",
    "        self.model = pm.Model()\n",
    "        with self.model as model:\n",
    "            mu = pm.Uniform('mu', lower=-10, upper=10)\n",
    "            t = np.ones(10).sum()\n",
    "            obs = pm.Lognormal('obs', mu=mu, sd=1.0, observed=logNormal(np.random.normal(loc=0, scale=1, size=1000), mode=10, sd=0.1))\n",
    "    def sample(self, iters):\n",
    "        with self.model as model:\n",
    "            return pm.sample(iters)\n",
    "        \n",
    "mdl = mymodel()\n",
    "trace = mdl.sample(1000)"
   ]
  },
  {
   "cell_type": "code",
   "execution_count": null,
   "metadata": {},
   "outputs": [],
   "source": [
    "pm.traceplot(trace)"
   ]
  },
  {
   "cell_type": "code",
   "execution_count": null,
   "metadata": {},
   "outputs": [],
   "source": [
    "pm.plot_posterior(trace)"
   ]
  },
  {
   "cell_type": "code",
   "execution_count": null,
   "metadata": {},
   "outputs": [],
   "source": [
    "with pm.Model() as model:\n",
    "    t = pm.Normal('t', mu=0, sd=0.1)\n",
    "    print(np.exp(t.logp({'t':0})))"
   ]
  },
  {
   "cell_type": "code",
   "execution_count": null,
   "metadata": {},
   "outputs": [],
   "source": [
    "with pm.Model() as model:\n",
    "    t1 = pm.Normal('t1', mu=0, sd=0.1, shape=(3,3))\n",
    "    print(np.exp(t1.logp({'t1':np.zeros([3,3])})))"
   ]
  },
  {
   "cell_type": "code",
   "execution_count": null,
   "metadata": {},
   "outputs": [],
   "source": [
    "3.989422804014327**9"
   ]
  },
  {
   "cell_type": "code",
   "execution_count": null,
   "metadata": {},
   "outputs": [],
   "source": [
    "np.repeat(np.r_[1:10][:,np.newaxis],5,axis=1)"
   ]
  },
  {
   "cell_type": "markdown",
   "metadata": {},
   "source": [
    "### Test epileptor simulation code"
   ]
  },
  {
   "cell_type": "code",
   "execution_count": null,
   "metadata": {},
   "outputs": [],
   "source": [
    "%matplotlib inline\n",
    "import numpy as np\n",
    "from dyn_model import *\n",
    "import matplotlib.pyplot as plt"
   ]
  },
  {
   "cell_type": "code",
   "execution_count": null,
   "metadata": {},
   "outputs": [],
   "source": [
    "network = np.load(f'datasets/id002_cj/CJ_network.npz')\n",
    "params = dict()\n",
    "params['SC'] = network['SC']\n",
    "params['SC'] = params['SC'] / params['SC'].max()\n",
    "params['SC'][np.diag_indices(params['SC'].shape[0])] = 0\n",
    "gain = network['gain_mat']\n",
    "\n",
    "\n",
    "\n",
    "params['nn'] = params['SC'].shape[0]\n",
    "params['ns'] = gain.shape[0]\n",
    "params['nt'] = 150\n",
    "params['I1'] = 3.1\n",
    "params['time_step'] = 0.1\n",
    "params['x_init'] = -2.0*np.ones(params['nn'])\n",
    "params['z_init'] = 3.5*np.ones(params['nn'])\n",
    "epsilon_slp = 0.1\n",
    "epsilon_snsr_pwr = 5.0\n",
    "\n",
    "params['x0'] = -2.5*np.ones(params['nn'])\n",
    "params['x0'][[6,34]] = -1.8\n",
    "amplitude_slp = 1.0\n",
    "offset_slp = 0.0\n",
    "params['tau0'] = 10\n",
    "params['K'] = 1"
   ]
  },
  {
   "cell_type": "code",
   "execution_count": null,
   "metadata": {},
   "outputs": [],
   "source": [
    "ep = Epileptor_2D()\n",
    "sim_out = ep.sim(params)"
   ]
  },
  {
   "cell_type": "code",
   "execution_count": null,
   "metadata": {},
   "outputs": [],
   "source": [
    "def dx(x, z, I1):\n",
    "    dx_eval = 1 - x**3 - 2 * x**2 - z + 3.1\n",
    "    return dx_eval\n",
    "\n",
    "\n",
    "def dz(x, z, SC, K, x0, tau0):\n",
    "    nn = x.size\n",
    "    x_diff = np.repeat(x[:, np.newaxis], nn, axis=1) - x\n",
    "    gx = K * SC * x_diff.T\n",
    "    dz_eval = (1 / tau0) * (4 * (x - x0) - z - gx.sum(axis=1))\n",
    "    return dz_eval\n",
    "\n",
    "\n",
    "def step(x_prev, z_prev, dt, SC, K, x0, I1, tau0):\n",
    "    x_next = x_prev + dt*dx(x_prev, z_prev, I1)\n",
    "    z_next = z_prev + dt*dz(x_prev, z_prev, SC, K, x0, tau0)\n",
    "    return x_next, z_next"
   ]
  },
  {
   "cell_type": "code",
   "execution_count": null,
   "metadata": {},
   "outputs": [],
   "source": [
    "sim_out = dict()\n",
    "sim_out['x'] = np.zeros([params['nt'],params['nn']])\n",
    "sim_out['z'] = np.zeros([params['nt'],params['nn']])\n",
    "for i in range(params['nt']):\n",
    "    if(i == 0):\n",
    "        sim_out['x'][i], sim_out['z'][i] = step(params['x_init'], params['z_init'], params['time_step'], params['SC'], params['K'], params['x0'], params['I1'], params['tau0'])\n",
    "    else:\n",
    "        sim_out['x'][i], sim_out['z'][i] = step(sim_out['x'][i-1], sim_out['z'][i-1], params['time_step'], params['SC'], params['K'], params['x0'], params['I1'], params['tau0'])"
   ]
  },
  {
   "cell_type": "code",
   "execution_count": null,
   "metadata": {},
   "outputs": [],
   "source": [
    "sim_out = ep.sim(nt)"
   ]
  },
  {
   "cell_type": "code",
   "execution_count": null,
   "metadata": {},
   "outputs": [],
   "source": [
    "plt.figure(figsize=(25,5))\n",
    "for i in range(params['nn']):\n",
    "    if i in [6,34]:\n",
    "        plt.plot(sim_out['x'][:,i], 'r');\n",
    "    else:\n",
    "        plt.plot(sim_out['x'][:,i], 'k')\n",
    "plt.figure(figsize=(25,5))\n",
    "for i in range(params['nn']):\n",
    "    if i in [6,34]:\n",
    "        plt.plot(sim_out['z'][:,i], 'r');\n",
    "    else:\n",
    "        plt.plot(sim_out['z'][:,i], 'k')\n"
   ]
  },
  {
   "cell_type": "code",
   "execution_count": null,
   "metadata": {},
   "outputs": [],
   "source": [
    "x[0].size"
   ]
  },
  {
   "cell_type": "code",
   "execution_count": null,
   "metadata": {},
   "outputs": [],
   "source": [
    "np.repeat(t, 5, axis=0)"
   ]
  },
  {
   "cell_type": "code",
   "execution_count": null,
   "metadata": {},
   "outputs": [],
   "source": [
    "%matplotlib inline\n",
    "import numpy as np\n",
    "import matplotlib.pyplot as plt"
   ]
  },
  {
   "cell_type": "code",
   "execution_count": null,
   "metadata": {},
   "outputs": [],
   "source": [
    "x = np.r_[-10:10:0.1]\n",
    "y1 = -x + 4\n",
    "y2 = 2*x + 5"
   ]
  },
  {
   "cell_type": "code",
   "execution_count": null,
   "metadata": {},
   "outputs": [],
   "source": [
    "plt.figure()\n",
    "plt.plot(x,y1)\n",
    "plt.plot(x,y2)"
   ]
  },
  {
   "cell_type": "code",
   "execution_count": null,
   "metadata": {},
   "outputs": [],
   "source": [
    "t = np.arange(1,17).reshape(4,4)"
   ]
  },
  {
   "cell_type": "code",
   "execution_count": null,
   "metadata": {},
   "outputs": [],
   "source": [
    "t.max()"
   ]
  },
  {
   "cell_type": "code",
   "execution_count": null,
   "metadata": {},
   "outputs": [],
   "source": [
    "x = np.arange(1,17).reshape(4,4)\n",
    "print(x**2)\n"
   ]
  },
  {
   "cell_type": "code",
   "execution_count": null,
   "metadata": {},
   "outputs": [],
   "source": [
    "(x**2).sum(axis=1)"
   ]
  },
  {
   "cell_type": "code",
   "execution_count": null,
   "metadata": {},
   "outputs": [],
   "source": [
    "x[np.newaxis,:].repeat(4,axis=0) - x[:,np.newaxis]"
   ]
  },
  {
   "cell_type": "code",
   "execution_count": null,
   "metadata": {},
   "outputs": [],
   "source": [
    "x[:,np.newaxis]"
   ]
  },
  {
   "cell_type": "markdown",
   "metadata": {},
   "source": [
    "### Theano ODE solver"
   ]
  },
  {
   "cell_type": "code",
   "execution_count": null,
   "metadata": {},
   "outputs": [],
   "source": [
    "%matplotlib inline\n",
    "import theano\n",
    "import matplotlib.pyplot as plt"
   ]
  },
  {
   "cell_type": "code",
   "execution_count": null,
   "metadata": {},
   "outputs": [],
   "source": [
    "def y_t(y_t_prev, dt, K):\n",
    "    return y_t_prev + dt*(-1*y_t_prev) + K\n",
    "\n",
    "y_init = theano.tensor.dscalar('y_init')\n",
    "dt = theano.tensor.dscalar('dt')\n",
    "K = theano.tensor.dscalar('K')\n",
    "\n",
    "output, updates = theano.scan(fn=y_t,\n",
    "                              outputs_info=[y_init],\n",
    "                              non_sequences=[dt, K],\n",
    "                              n_steps=100)\n",
    "\n",
    "f = theano.function(inputs=[y_init, dt, K],\n",
    "                    outputs=output,\n",
    "                    updates=updates,\n",
    "                    on_unused_input='warn')\n",
    "\n",
    "# y_init_val = 100\n",
    "# dt_val = 0.1\n",
    "# K_val = 10\n",
    "# y = f(y_init_val, dt_val)"
   ]
  },
  {
   "cell_type": "code",
   "execution_count": null,
   "metadata": {},
   "outputs": [],
   "source": [
    "y_init_val = 100\n",
    "dt_val = 0.1\n",
    "y = f(y_init_val, dt_val)"
   ]
  },
  {
   "cell_type": "code",
   "execution_count": null,
   "metadata": {},
   "outputs": [],
   "source": [
    "plt.plot(y)"
   ]
  },
  {
   "cell_type": "markdown",
   "metadata": {},
   "source": [
    "### Theano epileptor ODE solver"
   ]
  },
  {
   "cell_type": "code",
   "execution_count": null,
   "metadata": {},
   "outputs": [],
   "source": [
    "%matplotlib inline\n",
    "import theano\n",
    "import matplotlib.pyplot as plt\n",
    "import numpy as np\n",
    "from dyn_model import Epileptor_2D"
   ]
  },
  {
   "cell_type": "code",
   "execution_count": null,
   "metadata": {},
   "outputs": [],
   "source": [
    "\n",
    "# def dx(x, z, I1):\n",
    "#     dx_eval = 1 - x**3 - 2 * x**2 - z + 3.1\n",
    "#     return dx_eval\n",
    "\n",
    "# def dz(x, z, SC, K, x0, tau0, nn):\n",
    "#     x_diff = np.repeat(x[:, np.newaxis], nn, axis=1) - x\n",
    "#     gx = K * SC * x_diff.T\n",
    "#     dz_eval = (1 / tau0) * (4 * (x - x0) - z - gx.sum(axis=1))\n",
    "#     return dz_eval\n",
    "\n",
    "# def step(x_prev, z_prev, dt, SC, K, x0, I1, tau0, nn):\n",
    "#     x_next = x_prev + dt*dx(x_prev, z_prev, I1)\n",
    "#     z_next = z_prev + dt*dz(x_prev, z_prev, SC, K, x0, tau0, nn)\n",
    "#     return x_next, z_next\n",
    "\n",
    "    \n",
    "# dt = theano.tensor.dscalar('dt')\n",
    "# x_init = theano.tensor.dvector('x_init')\n",
    "# z_init = theano.tensor.dvector('z_init')\n",
    "# SC = theano.tensor.dmatrix('SC')\n",
    "# I1 = theano.tensor.dscalar('I1')\n",
    "# K = theano.tensor.dscalar('K')\n",
    "# x0 = theano.tensor.dvector('x0')\n",
    "# tau0 = theano.tensor.dscalar('tau0')\n",
    "# nn = theano.tensor.iscalar('nn')\n",
    "\n",
    "# output, updates = theano.scan(fn=step,\n",
    "#                               outputs_info=[x_init, z_init],\n",
    "#                               non_sequences=[dt, SC, K, x0, I1, tau0, nn],\n",
    "#                               n_steps=150)\n",
    "\n",
    "# x = output[0]\n",
    "# z = output[1]\n",
    "\n",
    "# f = theano.function(inputs=[x_init, z_init, dt, SC, K, x0, I1, tau0, nn],\n",
    "#                     outputs=[x, z],\n",
    "#                     updates=updates)\n",
    "\n",
    "class epileptor2d:\n",
    "    def __init__(self, nt):\n",
    "        self.dt = theano.tensor.dscalar('dt')\n",
    "        self.x_init = theano.tensor.dvector('x_init')\n",
    "        self.z_init = theano.tensor.dvector('z_init')\n",
    "        self.SC = theano.tensor.dmatrix('SC')\n",
    "        self.I1 = theano.tensor.dscalar('I1')\n",
    "        self.K = theano.tensor.dscalar('K')\n",
    "        self.x0 = theano.tensor.dvector('x0')\n",
    "        self.tau0 = theano.tensor.dscalar('tau0')\n",
    "        self.nn = theano.tensor.iscalar('nn')\n",
    "        self.time_step = theano.tensor.dscalar('time_step')\n",
    "        self.nt = nt\n",
    "        self.output, self.updates = theano.scan(fn=self.step,\n",
    "                                      outputs_info=[self.x_init, self.z_init],\n",
    "                                      non_sequences=[self.dt, self.SC, self.K, self.x0, self.I1, self.tau0, self.nn],\n",
    "                                      n_steps=self.nt)\n",
    "\n",
    "        self.x = self.output[0]\n",
    "        self.z = self.output[1]\n",
    "\n",
    "        self.f = theano.function(inputs=[self.x_init, self.z_init, self.dt, self.SC, self.K, self.x0, self.I1, self.tau0, self.nn],\n",
    "                            outputs=[self.x],\n",
    "                            updates=self.updates)\n",
    "\n",
    "    def dx(self, x, z, I1):\n",
    "        dx_eval = 1 - x**3 - 2 * x**2 - z + 3.1\n",
    "        return dx_eval\n",
    "\n",
    "    def dz(self, x, z, SC, K, x0, tau0, nn):\n",
    "        x_diff = np.repeat(x[:, np.newaxis], nn, axis=1) - x\n",
    "        gx = K * SC * x_diff\n",
    "        dz_eval = (1 / tau0) * (4 * (x - x0) - z - gx.sum(axis=1))\n",
    "        return dz_eval\n",
    "\n",
    "    def step(self, x_prev, z_prev, dt, SC, K, x0, I1, tau0, nn):\n",
    "        x_next = x_prev + dt * self.dx(x_prev, z_prev, I1)\n",
    "        z_next = z_prev + dt * self.dz(x_prev, z_prev, SC, K, x0, tau0, nn)\n",
    "        return x_next, z_next\n",
    "    \n",
    "    def sim(self, x_init_val, z_init_val, dt_val, SC_val, K_val, x0_val, I1_val, tau0_val, nn_val):\n",
    "        return self.f(x_init_val, z_init_val, dt_val, SC_val, K_val, x0_val, I1_val, tau0_val, nn_val)\n",
    "        "
   ]
  },
  {
   "cell_type": "code",
   "execution_count": null,
   "metadata": {},
   "outputs": [],
   "source": [
    "network = np.load(f'datasets/id002_cj/CJ_network.npz')\n",
    "SC_val = network['SC']\n",
    "SC_val = SC_val / SC_val.max()\n",
    "SC_val[np.diag_indices(SC_val.shape[0])] = 0\n",
    "# gain_mat = network['gain_mat']\n",
    "\n",
    "\n",
    "\n",
    "nn_val = SC_val.shape[0]\n",
    "# ns = gain_mat.shape[0]\n",
    "nt_val = 150\n",
    "I1_val = 3.1\n",
    "dt_val = 0.1\n",
    "x_init_val = -2.0*np.ones(nn_val)\n",
    "z_init_val = 3.5*np.ones(nn_val)\n",
    "K_val = 1\n",
    "time_step_val = 0.1\n",
    "# epsilon_slp = 0.1\n",
    "# epsilon_snsr_pwr = 5.0\n",
    "# sigma=0.01\n",
    "\n",
    "x0_val = -2.5*np.ones(nn_val)\n",
    "x0_val[[6,34,58]] = -1.8\n",
    "# amplitude_slp = 1.0\n",
    "# offset_slp = 0.0\n",
    "tau0_val = 10\n",
    "# ep = epileptor2d(nt_val)\n",
    "ep = Epileptor_2D(nt_val)\n",
    "xt,zt = ep.sim(x_init_val, z_init_val, dt_val, SC_val, K_val, x0_val, I1_val, tau0_val, nn_val)"
   ]
  },
  {
   "cell_type": "code",
   "execution_count": null,
   "metadata": {},
   "outputs": [],
   "source": [
    "xt.shape"
   ]
  },
  {
   "cell_type": "code",
   "execution_count": null,
   "metadata": {},
   "outputs": [],
   "source": [
    "plt.figure()\n",
    "plt.subplot(131)\n",
    "plt.plot(xt[:,6])\n",
    "plt.subplot(132)\n",
    "plt.plot(xt[:,34])\n",
    "plt.subplot(133)\n",
    "plt.plot(xt[:,58])"
   ]
  },
  {
   "cell_type": "code",
   "execution_count": null,
   "metadata": {},
   "outputs": [],
   "source": [
    "# plt.figure(figsize=(25,5))\n",
    "# plt.plot(xt);\n",
    "plt.figure(figsize=(25,5))\n",
    "for i in range(nn_val):\n",
    "    if i in [6,34]:\n",
    "        plt.plot(xt[:,i], 'r');\n",
    "    else:\n",
    "        plt.plot(xt[:,i], 'k')\n",
    "plt.figure(figsize=(25,10))\n",
    "for i in range(nn_val):\n",
    "    if i in [6,34]:\n",
    "        plt.plot(zt[:,i], 'r');\n",
    "    else:\n",
    "        plt.plot(zt[:,i], 'k')"
   ]
  },
  {
   "cell_type": "code",
   "execution_count": null,
   "metadata": {},
   "outputs": [],
   "source": [
    "import numpy as np"
   ]
  },
  {
   "cell_type": "code",
   "execution_count": null,
   "metadata": {},
   "outputs": [],
   "source": [
    "t = np.ones([10,15])"
   ]
  },
  {
   "cell_type": "code",
   "execution_count": null,
   "metadata": {},
   "outputs": [],
   "source": [
    "t[0].size"
   ]
  },
  {
   "cell_type": "code",
   "execution_count": null,
   "metadata": {},
   "outputs": [],
   "source": [
    "import theano"
   ]
  },
  {
   "cell_type": "code",
   "execution_count": null,
   "metadata": {},
   "outputs": [],
   "source": [
    "t1 = theano.tensor.dvector('t1')\n",
    "t2 = theano.tensor.repeat(t1, 5, axis=1)\n",
    "\n",
    "t3 = t2 + 10\n",
    "\n",
    "f = theano.function()"
   ]
  },
  {
   "cell_type": "code",
   "execution_count": null,
   "metadata": {},
   "outputs": [],
   "source": [
    "t = dict()"
   ]
  },
  {
   "cell_type": "markdown",
   "metadata": {},
   "source": [
    "## PyMC3 transformed variables"
   ]
  },
  {
   "cell_type": "code",
   "execution_count": null,
   "metadata": {},
   "outputs": [],
   "source": [
    "import theano\n",
    "import pymc3 as pm\n",
    "import numpy as np\n",
    "import matplotlib.pyplot as plt\n",
    "import lib.pymc3.transforms as tr"
   ]
  },
  {
   "cell_type": "code",
   "execution_count": null,
   "metadata": {},
   "outputs": [],
   "source": [
    "with pm.Model() as mdl:\n",
    "    alpha = pm.Uniform('alpha', lower=0)\n",
    "    x = pm.Normal('x', mu=10, sd=1, transform=tr.linear(alpha, 0))\n",
    "    approx = pm.fit()\n",
    "    trace = approx.sample()"
   ]
  },
  {
   "cell_type": "code",
   "execution_count": null,
   "metadata": {},
   "outputs": [],
   "source": [
    "plt.figure(figsize=[12,5])\n",
    "plt.subplot(121)\n",
    "plt.hist(trace['x'])\n",
    "plt.subplot(122)\n",
    "plt.hist(trace['x_linear__'])"
   ]
  },
  {
   "cell_type": "code",
   "execution_count": null,
   "metadata": {},
   "outputs": [],
   "source": [
    "class scaled(pm.distributions.transforms.ElemwiseTransform):\n",
    "    name = \"scaled\"\n",
    "    def __init__(self, alpha):\n",
    "        super(pm.distributions.transforms.ElemwiseTransform,self).__init__()\n",
    "        self.alpha = alpha\n",
    "    def forward(self, x):\n",
    "        return self.alpha*x\n",
    "    def backward(self, x):\n",
    "        return (1/self.alpha)*x\n",
    "    def jacobian_det(self, x):\n",
    "        return -theano.tensor.log(self.alpha)\n",
    "with pm.Model() as mdl2:\n",
    "    alpha = pm.Uniform('alpha',lower=0)\n",
    "    x = pm.Normal('x', mu=10, sd=1.0, transform=scaled(alpha))\n",
    "    approx = pm.fit()"
   ]
  },
  {
   "cell_type": "code",
   "execution_count": null,
   "metadata": {},
   "outputs": [],
   "source": [
    "trace = approx.sample(1000)"
   ]
  },
  {
   "cell_type": "code",
   "execution_count": null,
   "metadata": {},
   "outputs": [],
   "source": [
    "plt.figure()\n",
    "plt.hist(trace['x'],color='black',alpha=0.3)\n",
    "plt.figure()\n",
    "plt.hist(trace['x_scaled__'],color='blue',alpha=0.1)"
   ]
  },
  {
   "cell_type": "code",
   "execution_count": null,
   "metadata": {},
   "outputs": [],
   "source": [
    "plt.hist(trace['alpha'])"
   ]
  },
  {
   "cell_type": "code",
   "execution_count": null,
   "metadata": {},
   "outputs": [],
   "source": [
    "import pymc3 as pm"
   ]
  },
  {
   "cell_type": "code",
   "execution_count": null,
   "metadata": {},
   "outputs": [],
   "source": [
    "trace = pm.backends.load_trace('results/exp10/exp10.66')"
   ]
  },
  {
   "cell_type": "code",
   "execution_count": null,
   "metadata": {},
   "outputs": [],
   "source": [
    "import numpy as np\n",
    "import matplotlib.pyplot as plt"
   ]
  },
  {
   "cell_type": "code",
   "execution_count": null,
   "metadata": {},
   "outputs": [],
   "source": [
    "t = np.load('results/exp10/exp10.65.1/id004_bj/samples/0/samples.npz')\n",
    "ez_hyp = np.where(np.loadtxt('datasets/RetrospectivePatients/id004_bj/tvb/ez_hypothesis.destrieux.txt') == 1)[0] + 1\n",
    "# ez_hyp = np.loadtxt('datasets/RetrospectivePatients/id004_bj/tvb/ez_hypothesis.destrieux.txt')"
   ]
  },
  {
   "cell_type": "code",
   "execution_count": null,
   "metadata": {},
   "outputs": [],
   "source": [
    "ez_hyp = np.where(np.loadtxt('datasets/RetrospectivePatients/id004_bj/tvb/ez_hypothesis.destrieux.txt') == 1)\n",
    "print(ez_hyp)"
   ]
  },
  {
   "cell_type": "code",
   "execution_count": null,
   "metadata": {},
   "outputs": [],
   "source": [
    "plt.figure(figsize=(25,5))\n",
    "\n",
    "\n"
   ]
  },
  {
   "cell_type": "code",
   "execution_count": null,
   "metadata": {},
   "outputs": [],
   "source": [
    "import lib.io.stan\n",
    "import lib.plots.stan\n",
    "import numpy as np\n",
    "%matplotlib inline"
   ]
  },
  {
   "cell_type": "code",
   "execution_count": null,
   "metadata": {},
   "outputs": [],
   "source": [
    "fname_suffix = 'hyper_fixed_md15_delta0.95'\n",
    "results_dir = 'results/exp10/exp10.57.7'\n",
    "\n",
    "syn_data = np.load('datasets/id002_cj/CJ_syn_tvb_ez=6-34_pz=27-5-11.npz')\n",
    "fit_data = lib.io.stan.rload(f'{results_dir}/Rfiles/fit_data_snsrfit_ode_{fname_suffix}.R')\n",
    "x0_true = syn_data['x0']\n",
    "ez = syn_data['ez']\n",
    "pz= np.concatenate((syn_data['pz_x0'], syn_data['pz_kplng']))\n",
    "# szng_roi = np.setxor1d(ez, pz)\n",
    "# non_szng_roi = np.setdiff1d(np.r_[0:nn], szng_roi)\n",
    "\n",
    "variables_of_interest = ['lp__','accept_stat__','stepsize__','treedepth__','n_leapfrog__',\\\n",
    "                         'divergent__', 'energy__','x0',  'x', 'z', 'mu_slp', 'mu_snsr_pwr',\\\n",
    "                         'amplitude', 'offset', 'tau0', 'K', 'alpha']\n",
    "chains = [36]\n",
    "nwarmup = 0\n",
    "nsampling = 2000\n",
    "params = ['tau0', 'amplitude', 'offset', 'K', 'alpha']\n",
    "for chain_no in chains:\n",
    "    pstr_samples = lib.io.stan.read_samples([f'{results_dir}/samples_{fname_suffix}_chain{chain_no}.csv'],\n",
    "                                      variables_of_interest=variables_of_interest, nwarmup=nwarmup, nsampling=nsampling)\n",
    "#     for var in pstr_samples.keys():\n",
    "#        pstr_samples[var] = pstr_samples[var][200:]\n",
    "    lib.plots.stan.x0_violin_syn(pstr_samples['x0'], x0_true, ez, pz, figsize=(25,5),\n",
    "                                 legend_loc='lower right')\n",
    "    lib.plots.stan.nuts_diagnostics(pstr_samples, figsize=(15,10))\n",
    "    lib.plots.stan.pair_plots(samples=pstr_samples, params=params,\n",
    "                              sampler='HMC')\n",
    "    \n",
    "    x_pp_mean = np.mean(pstr_samples['x'], axis=0)\n",
    "    z_pp_mean = np.mean(pstr_samples['z'], axis=0)\n",
    "    lib.plots.stan.plot_source(x_pp_mean, z_pp_mean, ez, pz)\n",
    "#     lib.plots.stan.plot_phase(x_pp_mean, z_pp_mean, ez, pz, non_szng_roi)\n",
    "\n",
    "    slp = pstr_samples['mu_slp'].mean(axis=0)\n",
    "    snsr_pwr = pstr_samples['mu_snsr_pwr'].mean(axis=0)\n",
    "    lib.plots.stan.plot_fit_target(data_pred={'slp':slp,'snsr_pwr':snsr_pwr}, data_true={'slp':fit_data['slp'],'snsr_pwr':fit_data['snsr_pwr']})"
   ]
  },
  {
   "cell_type": "code",
   "execution_count": null,
   "metadata": {},
   "outputs": [],
   "source": [
    "import os"
   ]
  },
  {
   "cell_type": "code",
   "execution_count": null,
   "metadata": {},
   "outputs": [],
   "source": [
    "os.path.dirname(os.getcwd())"
   ]
  },
  {
   "cell_type": "code",
   "execution_count": null,
   "metadata": {},
   "outputs": [],
   "source": [
    "%matplotlib inline\n",
    "import numpy as np\n",
    "import lib.io.stan\n",
    "import lib.plots.stan\n",
    "import lib.utils.stan\n",
    "import subprocess\n",
    "import matplotlib.pyplot as plt\n",
    "import os \n",
    "from matplotlib.lines import Line2D\n",
    "import importlib"
   ]
  },
  {
   "cell_type": "code",
   "execution_count": null,
   "metadata": {},
   "outputs": [],
   "source": [
    "data_dir = 'datasets/id002_cj'\n",
    "results_dir = 'results/exp10/exp10.57.18'\n",
    "os.makedirs(results_dir,exist_ok=True)\n",
    "os.makedirs(f'{results_dir}/logs',exist_ok=True)\n",
    "os.makedirs(f'{results_dir}/figures',exist_ok=True)\n",
    "\n",
    "network = np.load(f'{data_dir}/CJ_network.npz')\n",
    "SC = network['SC']\n",
    "K = np.max(SC)\n",
    "print(K)"
   ]
  },
  {
   "cell_type": "markdown",
   "metadata": {},
   "source": [
    "### Retro preprocessing"
   ]
  },
  {
   "cell_type": "code",
   "execution_count": null,
   "metadata": {},
   "outputs": [],
   "source": [
    "%matplotlib inline\n",
    "import numpy as np\n",
    "import lib.io.stan\n",
    "import lib.plots.stan\n",
    "import matplotlib.pyplot as plt\n",
    "import os\n",
    "from matplotlib.lines import Line2D\n",
    "import retro_prepare_data\n",
    "import matplotlib.colors"
   ]
  },
  {
   "cell_type": "code",
   "execution_count": null,
   "metadata": {},
   "outputs": [],
   "source": [
    "data_dir = 'datasets/retro/id036_dm'\n",
    "szr_name = 'DM_C2_110127c-fex_0001'\n",
    "meta_data_fname = f'{szr_name}.json'\n",
    "raw_seeg_fname = f'{szr_name}.raw.fif'\n",
    "# fname_suffix = f'{szr_name}'\n",
    "# if os.path.isdir(results_dir):\n",
    "#     os.rmdir(results_dir)\n",
    "# os.makedirs(results_dir,exist_ok=True)\n",
    "# os.makedirs(f'{results_dir}/logs',exist_ok=True)\n",
    "# os.makedirs(f'{results_dir}/figures',exist_ok=True)\n",
    "# os.makedirs(f'{results_dir}/Rfiles', exist_ok=True)"
   ]
  },
  {
   "cell_type": "code",
   "execution_count": null,
   "metadata": {},
   "outputs": [],
   "source": [
    "hpf = 10\n",
    "lpf = 0.05\n",
    "# data = retro_prepare_data.prepare_data(data_dir, meta_data_fname, raw_seeg_fname, hpf, lpf)\n",
    "# fname_suffix += f'_hpf{hpf}_lpf{lpf}'\n",
    "raw_data = lib.io.seeg.read_one_seeg(data_dir, meta_data_fname, raw_seeg_fname)\n",
    "gain = lib.io.seeg.read_gain(data_dir, raw_data['picks'])\n",
    "# Compute seeg log power\n",
    "slp, slp_pre_onset_mean = lib.preprocess.envelope.compute_slp(raw_data, hpf, lpf)\n",
    "data = {'gain': gain, 'slp': slp}\n"
   ]
  },
  {
   "cell_type": "code",
   "execution_count": null,
   "metadata": {},
   "outputs": [],
   "source": [
    "ds_freq = int(data['slp'].shape[0]/150)\n",
    "data['slp'] = data['slp'][0:-1:ds_freq]\n",
    "data['snsr_pwr'] = (data['slp']**2).mean(axis=0)\n",
    "data['ns'], data['nn'] = data['gain'].shape\n",
    "# data['nt'] = data['slp'].shape[0]\n",
    "# ez_hyp = np.where(np.loadtxt(f'{data_dir}/tvb/ez_hypothesis.destrieux.txt') == 1)[0]\n",
    "# data['x0_mu'] = -3.0*np.ones(data['nn'])\n",
    "# data['x0_mu'][ez_hyp] = -1.5"
   ]
  },
  {
   "cell_type": "code",
   "execution_count": null,
   "metadata": {},
   "outputs": [],
   "source": [
    "# plt.figure(figsize=(20,5))\n",
    "# plt.subplot(121)\n",
    "# plt.imshow(data['SC'],norm=matplotlib.colors.LogNorm(vmin=1e-6, vmax=data['SC'].max()));\n",
    "# plt.colorbar(fraction=0.046,pad=0.04);\n",
    "# plt.title('Normalized SC (log scale)',fontsize=12, fontweight='bold')\n",
    "\n",
    "# plt.subplot(122)\n",
    "# plt.imshow(data['gain'],norm=matplotlib.colors.LogNorm(vmin=data['gain'].min(), vmax=data['gain'].max()));\n",
    "# plt.colorbar(fraction=0.046,pad=0.04);\n",
    "# plt.xlabel('Region#', fontsize=12)\n",
    "# plt.ylabel('Channel#', fontsize=12)\n",
    "# plt.title('Gain Matrix (log scale)',fontsize=12, fontweight='bold')\n",
    "# # plt.savefig(f'{results_dir}/figures/network.png')\n",
    "\n",
    "plt.figure(figsize=(25,13))\n",
    "plt.subplot(211)\n",
    "plt.plot(data['slp'], color='black', alpha=0.3);\n",
    "plt.xlabel('Time', fontsize=12)\n",
    "plt.ylabel('SLP', fontsize=12)\n",
    "\n",
    "plt.subplot(212)\n",
    "plt.bar(np.r_[1:data['ns']+1],data['snsr_pwr'], color='black', alpha=0.3);\n",
    "plt.xlabel('Time', fontsize=12)\n",
    "plt.ylabel('Power', fontsize=12)\n",
    "plt.title('SEEG channel power', fontweight='bold')\n",
    "# plt.savefig(f'{results_dir}/figures/fitting_target_{fname_suffix}.png')\n",
    "# plt.tight_layout()\n"
   ]
  },
  {
   "cell_type": "markdown",
   "metadata": {},
   "source": [
    "### Find EZ by using seizure onsets"
   ]
  },
  {
   "cell_type": "code",
   "execution_count": null,
   "metadata": {},
   "outputs": [],
   "source": [
    "import matplotlib.pyplot as plt\n",
    "import numpy as np\n",
    "import lib.io.stan\n",
    "import lib.plots.stan\n",
    "import dyn_model"
   ]
  },
  {
   "cell_type": "code",
   "execution_count": null,
   "metadata": {},
   "outputs": [],
   "source": [
    "fit_data = lib.io.stan.rload('results/exp10/exp10.67/id002_sd/Rfiles/fit_data_SDcrise1_0002_hpf10_lpf0.05.R')\n",
    "optima = lib.io.stan.read_samples(['results/exp10/exp10.67/id002_sd/samples_SDcrise1_0002_hpf10_lpf0.05_chain1.csv'])\n",
    "ez_hyp = np.where(np.loadtxt('datasets/retro/id002_sd/tvb/ez_hypothesis.destrieux.txt') == 1)[0]"
   ]
  },
  {
   "cell_type": "code",
   "execution_count": null,
   "metadata": {},
   "outputs": [],
   "source": [
    "x = optima['x'][0]"
   ]
  },
  {
   "cell_type": "code",
   "execution_count": null,
   "metadata": {},
   "outputs": [],
   "source": [
    "def find_ez(x, onst_thrshld):\n",
    "    nn = x.shape[1]\n",
    "    onsets = 200*np.ones(nn)\n",
    "    for i in range(nn):\n",
    "        xt = x[:,i] > onst_thrshld\n",
    "        if(xt.any()):\n",
    "            onsets[i] = np.where(x[:,i] > onst_thrshld)[0][0]\n",
    "    a, b = np.histogram(onsets[onsets<150])\n",
    "    ez_pred = np.zeros(nn)\n",
    "    ez_pred[np.where(onsets<b[2])] = 1\n",
    "#     np.save(os.path.join(root_dir, patient_id, 'ez_pred.npy'), ez_pred)\n",
    "    return onsets,ez_pred"
   ]
  },
  {
   "cell_type": "code",
   "execution_count": null,
   "metadata": {},
   "outputs": [],
   "source": [
    "onsets,ez_pred = find_ez(x, -0.05)\n",
    "onsets = onsets[onsets<150]"
   ]
  },
  {
   "cell_type": "code",
   "execution_count": null,
   "metadata": {},
   "outputs": [],
   "source": [
    "ez_pred"
   ]
  },
  {
   "cell_type": "code",
   "execution_count": null,
   "metadata": {},
   "outputs": [],
   "source": [
    "np.where(ez_pred!=0)"
   ]
  },
  {
   "cell_type": "code",
   "execution_count": null,
   "metadata": {},
   "outputs": [],
   "source": [
    "plt.hist(onsets)"
   ]
  },
  {
   "cell_type": "code",
   "execution_count": null,
   "metadata": {},
   "outputs": [],
   "source": [
    "ep_params = dict()\n",
    "ep_params['nt'] = fit_data['nt']\n",
    "ep_params['nn'] = fit_data['nn']\n",
    "ep_params['time_step'] = 0.1\n",
    "ep_params['I1'] = 3.1\n",
    "ep_params['tau0'] = optima['tau0'][0]\n",
    "ep_params['x_init'] = optima['x_init'][0]\n",
    "ep_params['z_init'] = optima['z_init'][0]\n",
    "ep_params['x0'] = optima['x0'][0]\n",
    "ep_params['SC'] = fit_data['SC']\n",
    "ep_params['K'] = 0 #optima['K'][0]\n",
    "eplptr = dyn_model.Epileptor_2D()\n",
    "x,z = eplptr.sim(ep_params)"
   ]
  },
  {
   "cell_type": "code",
   "execution_count": null,
   "metadata": {},
   "outputs": [],
   "source": [
    "lib.plots.stan.plot_source(optima['x'][0], optima['z'][0], ez_hyp, [])"
   ]
  },
  {
   "cell_type": "code",
   "execution_count": null,
   "metadata": {},
   "outputs": [],
   "source": [
    "lib.plots.stan.plot_source(x, z, ez_hyp, [])"
   ]
  },
  {
   "cell_type": "code",
   "execution_count": null,
   "metadata": {},
   "outputs": [],
   "source": [
    "for i in range(ep_params['nt']):\n",
    "    xt = x[i,:] > -0.25\n",
    "    if(any(xt)):\n",
    "        print(np.where(xt))\n",
    "        break"
   ]
  },
  {
   "cell_type": "code",
   "execution_count": null,
   "metadata": {},
   "outputs": [],
   "source": [
    "np.linspace(-0.25, 0.0, int(0.25/0.01)+1)"
   ]
  },
  {
   "cell_type": "code",
   "execution_count": null,
   "metadata": {},
   "outputs": [],
   "source": [
    "import glob"
   ]
  },
  {
   "cell_type": "code",
   "execution_count": null,
   "metadata": {},
   "outputs": [],
   "source": [
    "glob.glob('results/exp10/exp10.67/id001_bt/*chain1.csv')"
   ]
  },
  {
   "cell_type": "code",
   "execution_count": null,
   "metadata": {},
   "outputs": [],
   "source": [
    "import matplotlib.pyplot as plt"
   ]
  },
  {
   "cell_type": "code",
   "execution_count": null,
   "metadata": {},
   "outputs": [],
   "source": [
    "ax = plt.subplot(111)\n",
    "ax.set_yticks(ax.get_yticks())\n",
    "ax.set_yticklabels(ax.get_yticklabels())"
   ]
  },
  {
   "cell_type": "markdown",
   "metadata": {},
   "source": [
    "## Plot electrodes"
   ]
  },
  {
   "cell_type": "code",
   "execution_count": null,
   "metadata": {},
   "outputs": [],
   "source": [
    "import sys\n",
    "sys.path.append('tvbpipeline')\n",
    "import util.plot\n",
    "import os"
   ]
  },
  {
   "cell_type": "code",
   "execution_count": null,
   "metadata": {},
   "outputs": [],
   "source": [
    "data_dir = 'datasets/syn_data/id001_bt'\n",
    "figs_dir = 'datasets/syn_data/id001_bt/figures'\n",
    "os.makedirs(figs_dir, exist_ok=True)\n",
    "util.plot.seeg_elecs(os.path.join(data_dir, 'connectivity.destrieux.zip'), \n",
    "                     os.path.join(data_dir, 'seeg.xyz'), ez_idx=[], pz_idx=[], \n",
    "                     out_fig=os.path.join(figs_dir, 'electrodes.svg'))"
   ]
  },
  {
   "cell_type": "code",
   "execution_count": 1,
   "metadata": {},
   "outputs": [],
   "source": [
    "import lib.plots.seeg"
   ]
  },
  {
   "cell_type": "code",
   "execution_count": 2,
   "metadata": {},
   "outputs": [],
   "source": [
    "json_fname = 'datasets/retro/id001_bt/seeg/fif/BTcrise1appportable_0006.json'\n",
    "tvbzip_file = 'datasets/retro/id001_bt/tvb/connectivity.destrieux.zip'\n",
    "seegxyz = 'datasets/retro/id001_bt/elec/seeg.xyz'\n",
    "ez_idx = []\n",
    "pz_idx = []\n",
    "lib.plots.seeg.seeg_elecs(json_fname, tvbzip_file, seegxyz, ez_idx, pz_idx)"
   ]
  },
  {
   "cell_type": "markdown",
   "metadata": {},
   "source": [
    "## Find EZ and PZ based on onset"
   ]
  },
  {
   "cell_type": "code",
   "execution_count": 1,
   "metadata": {},
   "outputs": [],
   "source": [
    "import lib.utils.stan\n",
    "import numpy as np\n",
    "import matplotlib.pyplot as plt"
   ]
  },
  {
   "cell_type": "code",
   "execution_count": 2,
   "metadata": {},
   "outputs": [],
   "source": [
    "ez, pz = lib.utils.stan.find_ez(0, 20, 15, 'results/exp10/exp10.76/id007_rd/samples_RDcrise1_170310B-BEX_0011_hpf10_lpf0.15_chain1.csv')"
   ]
  },
  {
   "cell_type": "code",
   "execution_count": 3,
   "metadata": {},
   "outputs": [
    {
     "data": {
      "text/plain": [
       "((array([111, 131]),), (array([ 86,  87, 149]),))"
      ]
     },
     "execution_count": 3,
     "metadata": {},
     "output_type": "execute_result"
    }
   ],
   "source": [
    "np.nonzero(ez), np.nonzero(pz)"
   ]
  },
  {
   "cell_type": "code",
   "execution_count": null,
   "metadata": {},
   "outputs": [],
   "source": []
  },
  {
   "cell_type": "code",
   "execution_count": null,
   "metadata": {},
   "outputs": [],
   "source": [
    "t"
   ]
  },
  {
   "cell_type": "code",
   "execution_count": null,
   "metadata": {},
   "outputs": [],
   "source": [
    "np.nonzero(np.logical_and(t > 4, t < 13))"
   ]
  },
  {
   "cell_type": "markdown",
   "metadata": {},
   "source": [
    "## Check MAP results"
   ]
  },
  {
   "cell_type": "code",
   "execution_count": null,
   "metadata": {},
   "outputs": [],
   "source": [
    "import numpy as np\n",
    "import lib.io.stan\n",
    "import lib.plots.stan\n",
    "import matplotlib.pyplot as plt\n",
    "import lib.utils.stan"
   ]
  },
  {
   "cell_type": "code",
   "execution_count": null,
   "metadata": {},
   "outputs": [],
   "source": [
    "csv_path = ['results/exp10/exp10.67/id036_dm/samples_DM_C1_110126C-BEX_0000_hpf10_lpf0.05_chain1.csv']\n",
    "obs_data_path = 'results/exp10/exp10.67/id036_dm/Rfiles/fit_data_DM_C1_110126C-BEX_0000_hpf10_lpf0.05.R'\n",
    "map_est = lib.io.stan.read_samples(csv_path)\n",
    "obs_data = lib.io.stan.rload(obs_data_path)\n",
    "ez_hyp = np.nonzero(obs_data['x0_mu'] == -1.5)[0]"
   ]
  },
  {
   "cell_type": "code",
   "execution_count": null,
   "metadata": {},
   "outputs": [],
   "source": [
    "ez_hyp"
   ]
  },
  {
   "cell_type": "code",
   "execution_count": null,
   "metadata": {},
   "outputs": [],
   "source": [
    "lib.plots.stan.plot_source(map_est['x'][0], map_est['z'][0], ez_hyp)"
   ]
  },
  {
   "cell_type": "code",
   "execution_count": null,
   "metadata": {},
   "outputs": [],
   "source": [
    "ez_pred, pz_pred = lib.utils.stan.find_ez(0, 2, 10, csv_path[0])\n",
    "np.nonzero(ez_pred), np.nonzero(pz_pred)\n"
   ]
  },
  {
   "cell_type": "markdown",
   "metadata": {},
   "source": [
    "#### Project Regular sphere to Irregular sphere"
   ]
  },
  {
   "cell_type": "code",
   "execution_count": 2,
   "metadata": {},
   "outputs": [],
   "source": [
    "%matplotlib widget  \n",
    "import scipy.spatial\n",
    "import numpy as np\n",
    "import lib.utils.sht as tfsht\n",
    "from mpl_toolkits.mplot3d import Axes3D\n",
    "import matplotlib.pyplot as plt\n"
   ]
  },
  {
   "cell_type": "code",
   "execution_count": 3,
   "metadata": {},
   "outputs": [
    {
     "name": "stderr",
     "output_type": "stream",
     "text": [
      "2022-03-22 22:06:43.007393: I tensorflow/stream_executor/cuda/cuda_gpu_executor.cc:936] successful NUMA node read from SysFS had negative value (-1), but there must be at least one NUMA node, so returning NUMA node zero\n",
      "2022-03-22 22:06:43.014086: W tensorflow/stream_executor/platform/default/dso_loader.cc:64] Could not load dynamic library 'libcudnn.so.8'; dlerror: libcudnn.so.8: cannot open shared object file: No such file or directory\n",
      "2022-03-22 22:06:43.014102: W tensorflow/core/common_runtime/gpu/gpu_device.cc:1850] Cannot dlopen some GPU libraries. Please make sure the missing libraries mentioned above are installed properly if you would like to use GPU. Follow the guide at https://www.tensorflow.org/install/gpu for how to download and setup the required libraries for your platform.\n",
      "Skipping registering GPU devices...\n",
      "2022-03-22 22:06:43.014583: I tensorflow/core/platform/cpu_feature_guard.cc:151] This TensorFlow binary is optimized with oneAPI Deep Neural Network Library (oneDNN) to use the following CPU instructions in performance-critical operations:  AVX2 FMA\n",
      "To enable them in other operations, rebuild TensorFlow with the appropriate compiler flags.\n"
     ]
    }
   ],
   "source": [
    "L_MAX = 128\n",
    "N_LAT, N_LON, cos_theta, glq_wts, P_l_m_costheta = tfsht.prep(L_MAX)\n"
   ]
  },
  {
   "cell_type": "code",
   "execution_count": 3,
   "metadata": {},
   "outputs": [],
   "source": [
    "theta = np.arccos(cos_theta)\n",
    "phi = np.arange(0, 2*np.pi, 2*np.pi/N_LON)\n",
    "theta_grid, phi_grid = np.meshgrid(theta, phi, indexing='ij')\n",
    "verts_reg = np.zeros((N_LAT*N_LON, 3))\n",
    "verts_reg[:,0] = (np.cos(phi_grid) * np.sin(theta_grid)).flatten()\n",
    "verts_reg[:,1] = (np.sin(phi_grid) * np.sin(theta_grid)).flatten()\n",
    "verts_reg[:,2] = np.cos(theta_grid).flatten()"
   ]
  },
  {
   "cell_type": "code",
   "execution_count": 4,
   "metadata": {},
   "outputs": [
    {
     "data": {
      "application/vnd.jupyter.widget-view+json": {
       "model_id": "f1aed2a741774f0b82539b26efbdf006",
       "version_major": 2,
       "version_minor": 0
      },
      "image/png": "[encoded data removed]",
      "text/html": [
       "\n",
       "            <div style=\"display: inline-block;\">\n",
       "                <div class=\"jupyter-widgets widget-label\" style=\"text-align: center;\">\n",
       "                    Figure\n",
       "                </div>\n",
       "                <img src='data:image/png;base64,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' width=600.0/>\n",
       "            </div>\n",
       "        "
      ],
      "text/plain": [
       "Canvas(toolbar=Toolbar(toolitems=[('Home', 'Reset original view', 'home', 'home'), ('Back', 'Back to previous …"
      ]
     },
     "metadata": {},
     "output_type": "display_data"
    }
   ],
   "source": [
    "plt.figure(figsize=(5,5), dpi=120)\n",
    "ax = plt.axes(projection='3d')\n"
   ]
  },
  {
   "cell_type": "code",
   "execution_count": 5,
   "metadata": {},
   "outputs": [
    {
     "data": {
      "text/plain": [
       "<mpl_toolkits.mplot3d.art3d.Poly3DCollection at 0x7f6e3c5b32e0>"
      ]
     },
     "execution_count": 5,
     "metadata": {},
     "output_type": "execute_result"
    }
   ],
   "source": [
    "ax.clear()\n",
    "ax.plot_surface(verts_reg[:,0].reshape(N_LAT, N_LON), verts_reg[:,1].reshape(N_LAT, N_LON), verts_reg[:,2].reshape(N_LAT, N_LON))"
   ]
  },
  {
   "cell_type": "code",
   "execution_count": 6,
   "metadata": {},
   "outputs": [],
   "source": [
    "verts_irreg = np.loadtxt('datasets/id004_bj_jd/tvb/ico7/vertices.txt')\n",
    "verts_irreg -= verts_irreg.mean(axis=0)\n",
    "mean_radius = np.sqrt((verts_irreg**2).sum(axis=1)).mean()\n",
    "verts_irreg /= mean_radius"
   ]
  },
  {
   "cell_type": "code",
   "execution_count": 8,
   "metadata": {},
   "outputs": [
    {
     "data": {
      "text/plain": [
       "<mpl_toolkits.mplot3d.art3d.Path3DCollection at 0x7fefb002f790>"
      ]
     },
     "execution_count": 8,
     "metadata": {},
     "output_type": "execute_result"
    }
   ],
   "source": [
    "ax.clear()\n",
    "ax.scatter(verts_irreg[:,0], verts_irreg[:,1], verts_irreg[:,2], color='red')"
   ]
  },
  {
   "cell_type": "code",
   "execution_count": 9,
   "metadata": {},
   "outputs": [],
   "source": [
    "nvph = verts_irreg.shape[0] // 2 # No.of vertices per hemisphere\n",
    "kdtree = scipy.spatial.KDTree(verts_irreg[0:nvph, :])\n",
    "_, idcs_lh = kdtree.query(verts_reg)\n",
    "kdtree = scipy.spatial.KDTree(verts_irreg[nvph:, :])\n",
    "_, idcs_rh = kdtree.query(verts_reg)\n",
    "idcs_rh += nvph\n",
    "idcs = np.concatenate((idcs_lh, idcs_rh))\n"
   ]
  },
  {
   "cell_type": "code",
   "execution_count": 11,
   "metadata": {},
   "outputs": [],
   "source": [
    "rgn_map_irreg = np.loadtxt('datasets/id004_bj_jd/tvb/Cortex_region_map_ico7.txt')\n",
    "rgn_map_reg = rgn_map_irreg[idcs]"
   ]
  },
  {
   "cell_type": "code",
   "execution_count": 21,
   "metadata": {},
   "outputs": [
    {
     "name": "stdout",
     "output_type": "stream",
     "text": [
      "[ 0.  1.  2.  3.  4.  5.  6.  7.  8.  9. 10. 11. 12. 13. 14. 15. 16. 17.\n",
      " 18. 19. 20. 21. 22. 23. 24. 25. 26. 27. 28. 29. 30. 31. 32. 33. 34. 35.\n",
      " 36. 37. 38. 39. 40. 41. 42. 43. 44. 45. 46. 47. 48. 49. 50. 51. 52. 53.\n",
      " 54. 55. 56. 57. 58. 59. 60. 61. 62. 63. 64. 65. 66. 67. 68. 69. 70. 71.\n",
      " 72.]\n",
      "[  0.  82.  83.  84.  85.  86.  87.  88.  89.  90.  91.  92.  93.  94.\n",
      "  95.  96.  97.  98.  99. 100. 101. 102. 103. 104. 105. 106. 107. 108.\n",
      " 109. 110. 111. 112. 113. 114. 115. 116. 117. 118. 119. 120. 121. 122.\n",
      " 123. 124. 125. 126. 127. 128. 129. 130. 131. 132. 133. 134. 135. 136.\n",
      " 137. 138. 139. 140. 141. 142. 143. 144. 145. 146. 147. 148. 149. 150.\n",
      " 151. 152. 153.]\n"
     ]
    }
   ],
   "source": [
    "nvph_reg = rgn_map_reg.shape[0]//2\n",
    "print(np.unique(rgn_map_reg[0:nvph_reg]))\n",
    "print(np.unique(rgn_map_reg[nvph_reg:]))"
   ]
  },
  {
   "cell_type": "code",
   "execution_count": 1,
   "metadata": {},
   "outputs": [],
   "source": [
    "import lib.utils.projector\n",
    "import lib.utils.sht as tfsht"
   ]
  },
  {
   "cell_type": "code",
   "execution_count": 2,
   "metadata": {},
   "outputs": [
    {
     "name": "stderr",
     "output_type": "stream",
     "text": [
      "2022-03-22 22:37:35.056147: I tensorflow/stream_executor/cuda/cuda_gpu_executor.cc:936] successful NUMA node read from SysFS had negative value (-1), but there must be at least one NUMA node, so returning NUMA node zero\n",
      "2022-03-22 22:37:35.061250: I tensorflow/stream_executor/cuda/cuda_gpu_executor.cc:936] successful NUMA node read from SysFS had negative value (-1), but there must be at least one NUMA node, so returning NUMA node zero\n",
      "2022-03-22 22:37:35.061640: I tensorflow/stream_executor/cuda/cuda_gpu_executor.cc:936] successful NUMA node read from SysFS had negative value (-1), but there must be at least one NUMA node, so returning NUMA node zero\n",
      "2022-03-22 22:37:35.062165: I tensorflow/core/platform/cpu_feature_guard.cc:151] This TensorFlow binary is optimized with oneAPI Deep Neural Network Library (oneDNN) to use the following CPU instructions in performance-critical operations:  AVX2 FMA\n",
      "To enable them in other operations, rebuild TensorFlow with the appropriate compiler flags.\n",
      "2022-03-22 22:37:35.063047: I tensorflow/stream_executor/cuda/cuda_gpu_executor.cc:936] successful NUMA node read from SysFS had negative value (-1), but there must be at least one NUMA node, so returning NUMA node zero\n",
      "2022-03-22 22:37:35.063376: I tensorflow/stream_executor/cuda/cuda_gpu_executor.cc:936] successful NUMA node read from SysFS had negative value (-1), but there must be at least one NUMA node, so returning NUMA node zero\n",
      "2022-03-22 22:37:35.063908: I tensorflow/stream_executor/cuda/cuda_gpu_executor.cc:936] successful NUMA node read from SysFS had negative value (-1), but there must be at least one NUMA node, so returning NUMA node zero\n",
      "2022-03-22 22:37:35.433239: I tensorflow/stream_executor/cuda/cuda_gpu_executor.cc:936] successful NUMA node read from SysFS had negative value (-1), but there must be at least one NUMA node, so returning NUMA node zero\n",
      "2022-03-22 22:37:35.433514: I tensorflow/stream_executor/cuda/cuda_gpu_executor.cc:936] successful NUMA node read from SysFS had negative value (-1), but there must be at least one NUMA node, so returning NUMA node zero\n",
      "2022-03-22 22:37:35.433737: I tensorflow/stream_executor/cuda/cuda_gpu_executor.cc:936] successful NUMA node read from SysFS had negative value (-1), but there must be at least one NUMA node, so returning NUMA node zero\n",
      "2022-03-22 22:37:35.433954: I tensorflow/core/common_runtime/gpu/gpu_device.cc:1525] Created device /job:localhost/replica:0/task:0/device:GPU:0 with 4887 MB memory:  -> device: 0, name: Quadro RTX 4000 with Max-Q Design, pci bus id: 0000:01:00.0, compute capability: 7.5\n"
     ]
    }
   ],
   "source": [
    "L_MAX = 128\n",
    "N_LAT, N_LON, cos_theta, glq_wts, P_l_m_costheta = tfsht.prep(L_MAX)\n",
    "verts_irreg_fname = 'datasets/id004_bj_jd/tvb/ico7/vertices.txt'\n",
    "rgn_map_irreg_fname = 'datasets/id004_bj_jd/tvb/Cortex_region_map_ico7.txt'\n",
    "rgn_map_reg = lib.utils.projector.find_rgn_map(\n",
    "    N_LAT=N_LAT,\n",
    "    N_LON=N_LON,\n",
    "    cos_theta=cos_theta,\n",
    "    verts_irreg_fname=verts_irreg_fname,\n",
    "    rgn_map_irreg_fname=rgn_map_irreg_fname)\n"
   ]
  },
  {
   "cell_type": "code",
   "execution_count": 3,
   "metadata": {},
   "outputs": [],
   "source": [
    "import numpy as np"
   ]
  },
  {
   "cell_type": "code",
   "execution_count": 4,
   "metadata": {},
   "outputs": [
    {
     "name": "stdout",
     "output_type": "stream",
     "text": [
      "[ 0  1  2  3  4  5  6  7  8  9 10 11 12 13 14 15 16 17 18 19 20 21 22 23\n",
      " 24 25 26 27 28 29 30 31 32 33 34 35 36 37 38 39 40 41 42 43 44 45 46 47\n",
      " 48 49 50 51 52 53 54 55 56 57 58 59 60 61 62 63 64 65 66 67 68 69 70 71\n",
      " 72]\n",
      "[  0  82  83  84  85  86  87  88  89  90  91  92  93  94  95  96  97  98\n",
      "  99 100 101 102 103 104 105 106 107 108 109 110 111 112 113 114 115 116\n",
      " 117 118 119 120 121 122 123 124 125 126 127 128 129 130 131 132 133 134\n",
      " 135 136 137 138 139 140 141 142 143 144 145 146 147 148 149 150 151 152\n",
      " 153]\n"
     ]
    }
   ],
   "source": [
    "nvph_reg = rgn_map_reg.shape[0] // 2\n",
    "print(np.unique(rgn_map_reg[0:nvph_reg]))\n",
    "print(np.unique(rgn_map_reg[nvph_reg:]))"
   ]
  }
 ],
 "metadata": {
  "kernelspec": {
   "display_name": "Python 3",
   "language": "python",
   "name": "python3"
  },
  "language_info": {
   "codemirror_mode": {
    "name": "ipython",
    "version": 3
   },
   "file_extension": ".py",
   "mimetype": "text/x-python",
   "name": "python",
   "nbconvert_exporter": "python",
   "pygments_lexer": "ipython3",
   "version": "3.8.12"
  }
 },
 "nbformat": 4,
 "nbformat_minor": 4
}
