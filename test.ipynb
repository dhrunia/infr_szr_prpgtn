{
 "cells": [
  {
   "cell_type": "code",
   "execution_count": null,
   "metadata": {
    "collapsed": true
   },
   "outputs": [],
   "source": [
    "%matplotlib nbagg\n",
    "import matplotlib.pyplot as plt\n",
    "import numpy as np\n",
    "import lib.io.stan"
   ]
  },
  {
   "cell_type": "code",
   "execution_count": null,
   "metadata": {
    "collapsed": true
   },
   "outputs": [],
   "source": [
    "with open(f'results/exp1/fitout_ns5_md8_chain1.csv','r') as fd1:\n",
    "    with open('results/exp1/fitout_ns5_md8_chain1_wowarm.csv','w') as fd2:\n",
    "        while(True):\n",
    "            t = fd1.readline()\n",
    "            if(t[0] == '#'):\n",
    "                fd2.write(t)\n",
    "            else:\n",
    "                fd2.write(t)\n",
    "                for i in range(200):\n",
    "                    fd1.readline()\n",
    "                break\n",
    "        t = fd1.readline()\n",
    "        while(t):\n",
    "            fd2.write(t)\n",
    "            t = fd1.readline()"
   ]
  },
  {
   "cell_type": "code",
   "execution_count": null,
   "metadata": {
    "collapsed": true
   },
   "outputs": [],
   "source": [
    "import os\n",
    "import lib.io.stan\n",
    "\n",
    "\n",
    "num_warmup_samples = 200\n",
    "ns = 11\n",
    "nchains = 8\n",
    "for i in range(ns):\n",
    "    for j in range(nchains):\n",
    "        src_fname = f'results/exp1/fitout_ns{i+1}_md8_chain{j+1}.csv'\n",
    "        if(os.path.isfile(src_fname)):\n",
    "            trgt_fname = f'results/exp1/fitout_ns{i+1}_md8_chain{j+1}_wowarmup.csv'\n",
    "            lib.io.stan.rem_warmup_samples(src_fname,trgt_fname,num_warmup_samples)\n",
    "        else:\n",
    "            print(f'File not found: {src_fname}')"
   ]
  },
  {
   "cell_type": "code",
   "execution_count": null,
   "metadata": {
    "collapsed": true
   },
   "outputs": [],
   "source": [
    "import os\n",
    "import sys\n",
    "import re\n",
    "ptrn = re.compile('^fitout.*chain\\d+.csv$')\n",
    "fnames = os.listdir('results/exp1/')\n",
    "t = []\n",
    "for fname in fnames:\n",
    "    if(ptrn.match(fname)):\n",
    "        t.append(fname)\n",
    "print(len(t))"
   ]
  },
  {
   "cell_type": "code",
   "execution_count": null,
   "metadata": {},
   "outputs": [],
   "source": [
    "import sys\n",
    "out = sys.stdout\n",
    "out.write('sldfkj')"
   ]
  },
  {
   "cell_type": "code",
   "execution_count": null,
   "metadata": {},
   "outputs": [],
   "source": [
    "import numpy as np\n",
    "\n",
    "def read_samples(csv_fname,nwarmup,nsampling,ignore_warmup=False):\n",
    "    if(ignore_warmup):\n",
    "        nsamples = nsampling\n",
    "    else:\n",
    "        nsamples = nwarmup + nsampling\n",
    "    with open(csv_fname,'r') as fd:\n",
    "        t = fd.readline()\n",
    "        read_head = False\n",
    "        sample_idx = 0\n",
    "        while(t):\n",
    "    #         print(t[0:10])\n",
    "            if(t[0] == '#'):\n",
    "                t = fd.readline()\n",
    "                continue\n",
    "            elif(not read_head):\n",
    "                var_names = []\n",
    "                var_dims = {}\n",
    "                col_names = t.split(',')\n",
    "                for i,name in enumerate(col_names):\n",
    "                    var_name = name.split('.')[0]\n",
    "                    var_dim = [int(dim) for dim in name.split('.')[1:]]\n",
    "                    if(var_name not in var_names):\n",
    "                        var_names.append(var_name)\n",
    "                    var_dims[var_name] = var_dim\n",
    "                read_head = True\n",
    "                data = {}\n",
    "                for var_name in var_names:\n",
    "                    data[var_name] = np.ndarray(shape = [nsamples] + var_dims[var_name],dtype=float)\n",
    "            else:\n",
    "                if(ignore_warmup):\n",
    "                    for i in range(nwarmup):\n",
    "                        t = fd.readline()\n",
    "                    ignore_warmup = False\n",
    "                    continue\n",
    "                else:\n",
    "                    var_vals = [float(el) for el in t.split(',')]\n",
    "                    end_idx = 0\n",
    "                    for var_name in var_names:\n",
    "                        start_idx = end_idx\n",
    "                        end_idx = start_idx + (np.product(var_dims[var_name]) if(var_dims[var_name]) else 1)\n",
    "                        data[var_name][sample_idx] = np.array(var_vals[start_idx:end_idx]).reshape(var_dims[var_name],order='F')\n",
    "                    sample_idx += 1\n",
    "                    if(sample_idx == nsampling):\n",
    "                        break\n",
    "            t = fd.readline()\n",
    "    return data\n",
    "\n",
    "csv_fname = 'results/exp8/snsrs-1-2-3-4-5-6-7-8-9-10-11/samples_chain1.csv'\n",
    "nwarmup = 500\n",
    "nsampling = 5\n",
    "ignore_warmup = True\n",
    "hmc_samples = read_samples(csv_fname,nwarmup,nsampling,ignore_warmup)"
   ]
  },
  {
   "cell_type": "code",
   "execution_count": 1,
   "metadata": {},
   "outputs": [],
   "source": [
    "%matplotlib inline\n",
    "import matplotlib.pyplot as plt\n",
    "import lib.io.stan"
   ]
  },
  {
   "cell_type": "code",
   "execution_count": 2,
   "metadata": {},
   "outputs": [
    {
     "data": {
      "image/png": "[encoded data removed]",
      "text/plain": [
       "<matplotlib.figure.Figure at 0x7f728c5e3da0>"
      ]
     },
     "metadata": {},
     "output_type": "display_data"
    }
   ],
   "source": [
    "csv_fname = 'results/exp8/snsrs-1-2-3-4-5-6-7-8-9-10-11/samples_chain1.csv'\n",
    "nwarmup = 500\n",
    "nsampling = 5\n",
    "ignore_warmup = True\n",
    "hmc_samples = lib.io.stan.read_samples(csv_fname,nwarmup,nsampling,ignore_warmup)\n",
    "\n",
    "\n",
    "plt.figure()\n",
    "plt.violinplot(hmc_samples['x0']);"
   ]
  },
  {
   "cell_type": "code",
   "execution_count": null,
   "metadata": {},
   "outputs": [],
   "source": [
    "for i in range(5):\n",
    "    plt.figure()\n",
    "    plt.plot(hmc_samples['x'][:,:,i].T);"
   ]
  },
  {
   "cell_type": "code",
   "execution_count": 3,
   "metadata": {},
   "outputs": [
    {
     "name": "stdout",
     "output_type": "stream",
     "text": [
      "lp__:(5,)\n",
      "accept_stat__:(5,)\n",
      "stepsize__:(5,)\n",
      "treedepth__:(5,)\n",
      "n_leapfrog__:(5,)\n",
      "divergent__:(5,)\n",
      "energy__:(5,)\n",
      "x0_star:(5, 5)\n",
      "x:(5, 500, 5)\n",
      "z:(5, 500, 5)\n",
      "x0:(5, 5)\n"
     ]
    }
   ],
   "source": [
    "for key in hmc_samples.keys():\n",
    "    print(f'{key}:{hmc_samples[key].shape}')"
   ]
  },
  {
   "cell_type": "code",
   "execution_count": null,
   "metadata": {},
   "outputs": [],
   "source": []
  }
 ],
 "metadata": {
  "kernelspec": {
   "display_name": "Python 3",
   "language": "python",
   "name": "python3"
  },
  "language_info": {
   "codemirror_mode": {
    "name": "ipython",
    "version": 3
   },
   "file_extension": ".py",
   "mimetype": "text/x-python",
   "name": "python",
   "nbconvert_exporter": "python",
   "pygments_lexer": "ipython3",
   "version": "3.6.2"
  }
 },
 "nbformat": 4,
 "nbformat_minor": 2
}
