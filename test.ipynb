{
 "cells": [
  {
   "cell_type": "code",
   "execution_count": 1,
   "metadata": {},
   "outputs": [],
   "source": [
    "import lib.io.stan\n",
    "\n",
    "csv_fname = 'results/exp10/exp10.7/samples_sigma0.10000_eps0.10000.csv'\n",
    "nwarmup = 200\n",
    "nsampling = 200\n",
    "variables_of_interest = ['lp__','accept_stat__','stepsize__','treedepth__','n_leapfrog__',\\\n",
    "                         'divergent__', 'energy__','x0',  'x', 'mu_seeg', 'amplitude', 'offset',\\\n",
    "                         'x_init', 'z_init', 'epsilon']\n",
    "pstr_samples_1 = lib.io.stan.read_samples(csv_fname,nwarmup,nsampling) # read sampler diagnostics and x0 for all sampling iterations"
   ]
  },
  {
   "cell_type": "code",
   "execution_count": null,
   "metadata": {},
   "outputs": [],
   "source": [
    "%matplotlib inline\n",
    "import lib.plots.stan\n",
    "import matplotlib.pyplot as plt\n",
    "import numpy as np\n",
    "\n",
    "plt.figure(figsize=(20,10))\n",
    "plt.subplot(211)\n",
    "plt.violinplot(pstr_samples_1['x0'][150:]);\n",
    "plt.axhline(-2.0,color='red')\n",
    "xtick_labels = []\n",
    "for i in range(84):\n",
    "    if(i%2 == 0):\n",
    "        xtick_labels.append(str(i+1))\n",
    "    else:\n",
    "        xtick_labels.append('')\n",
    "plt.xticks(np.r_[1:85],xtick_labels);\n",
    "plt.xlabel('Region#',fontsize=15);\n",
    "plt.ylabel('$x_0$',fontsize=15);\n",
    "\n",
    "import lib.plots.stan\n",
    "\n",
    "lib.plots.stan.nuts_diagnostics(pstr_samples_1)"
   ]
  },
  {
   "cell_type": "code",
   "execution_count": null,
   "metadata": {},
   "outputs": [],
   "source": [
    "ez = [59]\n",
    "pz = [74, 82]\n",
    "plt.figure(figsize=(15,10))\n",
    "ax_src_x = plt.subplot(211)\n",
    "ax_src_z = plt.subplot(212)\n",
    "sample_idx = -1\n",
    "for i in range(84):\n",
    "    if i in ez: \n",
    "        ax_src_x.plot(pstr_samples_1['x'][sample_idx,:,i], color='red');\n",
    "        ax_src_z.plot(pstr_samples_1['z'][sample_idx,:,i], color='red');\n",
    "    elif i in pz:\n",
    "        ax_src_x.plot(pstr_samples_1['x'][sample_idx,:,i], color='orange');\n",
    "        ax_src_z.plot(pstr_samples_1['z'][sample_idx,:,i], color='orange');\n",
    "    else:\n",
    "        ax_src_x.plot(pstr_samples_1['x'][sample_idx,:,i], color='black', alpha=0.1);\n",
    "        ax_src_z.plot(pstr_samples_1['z'][sample_idx,:,i], color='black', alpha=0.1);\n",
    "ax_src_x.set_title(\"Source activity - x\")\n",
    "ax_src_z.set_title(\"Source activity - z\")"
   ]
  },
  {
   "cell_type": "markdown",
   "metadata": {},
   "source": [
    "Phase space plots"
   ]
  },
  {
   "cell_type": "code",
   "execution_count": null,
   "metadata": {},
   "outputs": [],
   "source": [
    "for i in range(84):\n",
    "    if i in ez: \n",
    "        plt.plot(pstr_samples_1['x'][-1,:,i], pstr_samples_1['z'][-1,:,i], color='red')\n",
    "    elif i in pz:\n",
    "        plt.plot(pstr_samples_1['x'][-1,:,i], pstr_samples_1['z'][-1,:,i], color='orange')\n",
    "    else:\n",
    "        plt.plot(pstr_samples_1['x'][-1,:,i], pstr_samples_1['z'][-1,:,i], color='black')"
   ]
  },
  {
   "cell_type": "markdown",
   "metadata": {},
   "source": [
    "Downsampling **seeg log power**"
   ]
  },
  {
   "cell_type": "code",
   "execution_count": null,
   "metadata": {},
   "outputs": [],
   "source": [
    "%reset -f\n",
    "%matplotlib inline\n",
    "import numpy as np\n",
    "import matplotlib.pyplot as plt"
   ]
  },
  {
   "cell_type": "code",
   "execution_count": null,
   "metadata": {},
   "outputs": [],
   "source": [
    "fit_trgt = np.load('datasets/id001_ac/AC_fit_trgt.npz')['fit_trgt']\n",
    "fit_trgt_ds = fit_trgt[0:-1:20,:]\n",
    "plt.figure(figsize=(15,5))\n",
    "plt.plot(fit_trgt,alpha=0.3);\n",
    "plt.xlabel('time')\n",
    "plt.ylabel('slp')\n",
    "plt.title('Original')\n",
    "plt.figure(figsize=(15,5))\n",
    "plt.plot(fit_trgt_ds,alpha=0.3);\n",
    "plt.xlabel('time')\n",
    "plt.ylabel('slp')\n",
    "plt.title('Downsampled')"
   ]
  }
 ],
 "metadata": {
  "kernelspec": {
   "display_name": "Python 3",
   "language": "python",
   "name": "python3"
  },
  "language_info": {
   "codemirror_mode": {
    "name": "ipython",
    "version": 3
   },
   "file_extension": ".py",
   "mimetype": "text/x-python",
   "name": "python",
   "nbconvert_exporter": "python",
   "pygments_lexer": "ipython3",
   "version": "3.6.2"
  }
 },
 "nbformat": 4,
 "nbformat_minor": 2
}
