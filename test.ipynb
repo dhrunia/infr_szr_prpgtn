{
 "cells": [
  {
   "cell_type": "code",
   "execution_count": null,
   "metadata": {
    "collapsed": true
   },
   "outputs": [],
   "source": [
    "%matplotlib nbagg\n",
    "import matplotlib.pyplot as plt\n",
    "import numpy as np\n",
    "import lib.io.stan"
   ]
  },
  {
   "cell_type": "code",
   "execution_count": null,
   "metadata": {
    "collapsed": true
   },
   "outputs": [],
   "source": [
    "with open(f'results/exp1/fitout_ns5_md8_chain1.csv','r') as fd1:\n",
    "    with open('results/exp1/fitout_ns5_md8_chain1_wowarm.csv','w') as fd2:\n",
    "        while(True):\n",
    "            t = fd1.readline()\n",
    "            if(t[0] == '#'):\n",
    "                fd2.write(t)\n",
    "            else:\n",
    "                fd2.write(t)\n",
    "                for i in range(200):\n",
    "                    fd1.readline()\n",
    "                break\n",
    "        t = fd1.readline()\n",
    "        while(t):\n",
    "            fd2.write(t)\n",
    "            t = fd1.readline()"
   ]
  },
  {
   "cell_type": "code",
   "execution_count": 1,
   "metadata": {
    "collapsed": true
   },
   "outputs": [],
   "source": [
    "import os\n",
    "import lib.io.stan\n",
    "\n",
    "\n",
    "num_warmup_samples = 200\n",
    "ns = 11\n",
    "nchains = 8\n",
    "for i in range(ns):\n",
    "    for j in range(nchains):\n",
    "        src_fname = f'results/exp1/fitout_ns{i+1}_md8_chain{j+1}.csv'\n",
    "        if(os.path.isfile(src_fname)):\n",
    "            trgt_fname = f'results/exp1/fitout_ns{i+1}_md8_chain{j+1}_wowarmup.csv'\n",
    "            lib.io.stan.rem_warmup_samples(src_fname,trgt_fname,num_warmup_samples)\n",
    "        else:\n",
    "            print(f'File not found: {src_fname}')"
   ]
  },
  {
   "cell_type": "code",
   "execution_count": null,
   "metadata": {
    "collapsed": true
   },
   "outputs": [],
   "source": [
    "import os\n",
    "import sys\n",
    "import re\n",
    "ptrn = re.compile('^fitout.*chain\\d+.csv$')\n",
    "fnames = os.listdir('results/exp1/')\n",
    "t = []\n",
    "for fname in fnames:\n",
    "    if(ptrn.match(fname)):\n",
    "        t.append(fname)\n",
    "print(len(t))"
   ]
  },
  {
   "cell_type": "code",
   "execution_count": 3,
   "metadata": {},
   "outputs": [
    {
     "name": "stdout",
     "output_type": "stream",
     "text": [
      "sldfkj"
     ]
    }
   ],
   "source": [
    "import sys\n",
    "out = sys.stdout\n",
    "out.write('sldfkj')"
   ]
  }
 ],
 "metadata": {
  "kernelspec": {
   "display_name": "Python 3",
   "language": "python",
   "name": "python3"
  },
  "language_info": {
   "codemirror_mode": {
    "name": "ipython",
    "version": 3
   },
   "file_extension": ".py",
   "mimetype": "text/x-python",
   "name": "python",
   "nbconvert_exporter": "python",
   "pygments_lexer": "ipython3",
   "version": "3.6.2"
  }
 },
 "nbformat": 4,
 "nbformat_minor": 2
}
