{
 "cells": [
  {
   "cell_type": "code",
   "execution_count": 5,
   "metadata": {},
   "outputs": [],
   "source": [
    "%matplotlib inline\n",
    "import numpy as np\n",
    "import lib.io.stan\n",
    "import lib.plots.stan\n",
    "import matplotlib.pyplot as plt\n",
    "import os\n",
    "from matplotlib.lines import Line2D\n",
    "import retro_prepare\n",
    "import matplotlib.colors\n",
    "import mne\n",
    "import pandas as pd\n",
    "import re\n",
    "import glob"
   ]
  },
  {
   "cell_type": "code",
   "execution_count": 6,
   "metadata": {},
   "outputs": [],
   "source": [
    "import json\n",
    "with open(f'../ANSM/util/data/ei-vep.json','r') as f:\n",
    "        ezh_all = json.load(f)"
   ]
  },
  {
   "cell_type": "code",
   "execution_count": 8,
   "metadata": {},
   "outputs": [
    {
     "name": "stdout",
     "output_type": "stream",
     "text": [
      "/home/hfw/Retro/datasets/id001_bt\n",
      "Isotrak not found\n"
     ]
    },
    {
     "name": "stderr",
     "output_type": "stream",
     "text": [
      "/opt/conda/envs/jhub/lib/python3.7/site-packages/scipy/signal/_arraytools.py:45: FutureWarning: Using a non-tuple sequence for multidimensional indexing is deprecated; use `arr[tuple(seq)]` instead of `arr[seq]`. In the future this will be interpreted as an array index, `arr[np.array(seq)]`, which will result either in an error or a different result.\n",
      "  b = a[a_slice]\n"
     ]
    },
    {
     "name": "stdout",
     "output_type": "stream",
     "text": [
      "Isotrak not found\n",
      "Isotrak not found\n",
      "Isotrak not found\n",
      "Isotrak not found\n",
      "Isotrak not found\n",
      "Isotrak not found\n"
     ]
    },
    {
     "ename": "KeyboardInterrupt",
     "evalue": "",
     "output_type": "error",
     "traceback": [
      "\u001b[0;31m---------------------------------------------------------------------------\u001b[0m",
      "\u001b[0;31mKeyboardInterrupt\u001b[0m                         Traceback (most recent call last)",
      "\u001b[0;32m<ipython-input-8-ddc1f3520ba9>\u001b[0m in \u001b[0;36m<module>\u001b[0;34m\u001b[0m\n\u001b[1;32m     33\u001b[0m         \u001b[0mlpf\u001b[0m \u001b[0;34m=\u001b[0m \u001b[0;36m0.2\u001b[0m\u001b[0;34m\u001b[0m\u001b[0;34m\u001b[0m\u001b[0m\n\u001b[1;32m     34\u001b[0m         \u001b[0mraw_seeg_fname\u001b[0m \u001b[0;34m=\u001b[0m \u001b[0;34mf'{szr_name}.raw.fif'\u001b[0m\u001b[0;34m\u001b[0m\u001b[0;34m\u001b[0m\u001b[0m\n\u001b[0;32m---> 35\u001b[0;31m         \u001b[0mdata\u001b[0m \u001b[0;34m=\u001b[0m \u001b[0mretro_prepare\u001b[0m\u001b[0;34m.\u001b[0m\u001b[0mprepare_data_bip\u001b[0m\u001b[0;34m(\u001b[0m\u001b[0mdata_dir\u001b[0m\u001b[0;34m,\u001b[0m \u001b[0mmeta_data_fname\u001b[0m\u001b[0;34m,\u001b[0m \u001b[0mraw_seeg_fname\u001b[0m\u001b[0;34m,\u001b[0m \u001b[0mszr_name\u001b[0m\u001b[0;34m,\u001b[0m \u001b[0mhpf\u001b[0m\u001b[0;34m,\u001b[0m \u001b[0mlpf\u001b[0m\u001b[0;34m)\u001b[0m\u001b[0;34m\u001b[0m\u001b[0;34m\u001b[0m\u001b[0m\n\u001b[0m\u001b[1;32m     36\u001b[0m         \u001b[0mseeg\u001b[0m\u001b[0;34m,\u001b[0m \u001b[0mbip\u001b[0m \u001b[0;34m=\u001b[0m \u001b[0mretro_prepare\u001b[0m\u001b[0;34m.\u001b[0m\u001b[0mread_one_seeg\u001b[0m\u001b[0;34m(\u001b[0m\u001b[0mdata_dir\u001b[0m\u001b[0;34m,\u001b[0m \u001b[0mmeta_data_fname\u001b[0m\u001b[0;34m,\u001b[0m \u001b[0mraw_seeg_fname\u001b[0m\u001b[0;34m)\u001b[0m\u001b[0;34m\u001b[0m\u001b[0;34m\u001b[0m\u001b[0m\n\u001b[1;32m     37\u001b[0m         \u001b[0mslp\u001b[0m \u001b[0;34m=\u001b[0m \u001b[0mretro_prepare\u001b[0m\u001b[0;34m.\u001b[0m\u001b[0mcompute_slp\u001b[0m\u001b[0;34m(\u001b[0m\u001b[0mseeg\u001b[0m\u001b[0;34m,\u001b[0m \u001b[0mbip\u001b[0m\u001b[0;34m,\u001b[0m \u001b[0mhpf\u001b[0m\u001b[0;34m,\u001b[0m \u001b[0mlpf\u001b[0m\u001b[0;34m)\u001b[0m\u001b[0;34m\u001b[0m\u001b[0;34m\u001b[0m\u001b[0m\n",
      "\u001b[0;32m~/vepsoft/vep-benchmark/retro_prepare.py\u001b[0m in \u001b[0;36mprepare_data_bip\u001b[0;34m(data_dir, meta_data_fname, raw_seeg_fname, fname_suffix, hpf, lpf)\u001b[0m\n\u001b[1;32m    304\u001b[0m     \u001b[0;31m# Read SEEG data from fif files\u001b[0m\u001b[0;34m\u001b[0m\u001b[0;34m\u001b[0m\u001b[0;34m\u001b[0m\u001b[0m\n\u001b[1;32m    305\u001b[0m     \u001b[0;31m#raw_data = read_one_bip_seeg(data_dir, meta_data_fname, raw_seeg_fname)\u001b[0m\u001b[0;34m\u001b[0m\u001b[0;34m\u001b[0m\u001b[0;34m\u001b[0m\u001b[0m\n\u001b[0;32m--> 306\u001b[0;31m     \u001b[0mseeg\u001b[0m\u001b[0;34m,\u001b[0m \u001b[0mbip\u001b[0m \u001b[0;34m=\u001b[0m \u001b[0mread_one_seeg\u001b[0m\u001b[0;34m(\u001b[0m\u001b[0mdata_dir\u001b[0m\u001b[0;34m,\u001b[0m \u001b[0mmeta_data_fname\u001b[0m\u001b[0;34m,\u001b[0m \u001b[0mraw_seeg_fname\u001b[0m\u001b[0;34m)\u001b[0m\u001b[0;34m\u001b[0m\u001b[0;34m\u001b[0m\u001b[0m\n\u001b[0m\u001b[1;32m    307\u001b[0m      \u001b[0;31m# if(raw_data == -1):\u001b[0m\u001b[0;34m\u001b[0m\u001b[0;34m\u001b[0m\u001b[0;34m\u001b[0m\u001b[0m\n\u001b[1;32m    308\u001b[0m     \u001b[0;31m#     return -1, -1\u001b[0m\u001b[0;34m\u001b[0m\u001b[0;34m\u001b[0m\u001b[0;34m\u001b[0m\u001b[0m\n",
      "\u001b[0;32m~/vepsoft/vep-benchmark/retro_prepare.py\u001b[0m in \u001b[0;36mread_one_seeg\u001b[0;34m(data_dir, meta_data_fname, raw_seeg_fname)\u001b[0m\n\u001b[1;32m    101\u001b[0m         \u001b[0mraw\u001b[0m\u001b[0;34m.\u001b[0m\u001b[0mpick_channels\u001b[0m\u001b[0;34m(\u001b[0m\u001b[0mpicks\u001b[0m\u001b[0;34m)\u001b[0m\u001b[0;34m\u001b[0m\u001b[0;34m\u001b[0m\u001b[0m\n\u001b[1;32m    102\u001b[0m         \u001b[0mbip\u001b[0m \u001b[0;34m=\u001b[0m \u001b[0mbipify_raw\u001b[0m\u001b[0;34m(\u001b[0m\u001b[0mraw\u001b[0m\u001b[0;34m)\u001b[0m\u001b[0;34m\u001b[0m\u001b[0;34m\u001b[0m\u001b[0m\n\u001b[0;32m--> 103\u001b[0;31m         \u001b[0mraw\u001b[0m\u001b[0;34m.\u001b[0m\u001b[0mreorder_channels\u001b[0m\u001b[0;34m(\u001b[0m\u001b[0mpicks\u001b[0m\u001b[0;34m)\u001b[0m\u001b[0;34m\u001b[0m\u001b[0;34m\u001b[0m\u001b[0m\n\u001b[0m\u001b[1;32m    104\u001b[0m         \u001b[0mseeg\u001b[0m\u001b[0;34m[\u001b[0m\u001b[0;34m'fname'\u001b[0m\u001b[0;34m]\u001b[0m \u001b[0;34m=\u001b[0m \u001b[0;34mf'{fname_wo_xtnsn}'\u001b[0m\u001b[0;34m\u001b[0m\u001b[0;34m\u001b[0m\u001b[0m\n\u001b[1;32m    105\u001b[0m         \u001b[0mseeg\u001b[0m\u001b[0;34m[\u001b[0m\u001b[0;34m'onset'\u001b[0m\u001b[0;34m]\u001b[0m \u001b[0;34m=\u001b[0m \u001b[0mmeta_data\u001b[0m\u001b[0;34m[\u001b[0m\u001b[0;34m'onset'\u001b[0m\u001b[0;34m]\u001b[0m\u001b[0;34m\u001b[0m\u001b[0;34m\u001b[0m\u001b[0m\n",
      "\u001b[0;32m/opt/conda/envs/jhub/lib/python3.7/site-packages/mne/channels/channels.py\u001b[0m in \u001b[0;36mreorder_channels\u001b[0;34m(self, ch_names)\u001b[0m\n\u001b[1;32m    753\u001b[0m                 \u001b[0;32mraise\u001b[0m \u001b[0mValueError\u001b[0m\u001b[0;34m(\u001b[0m\u001b[0;34m'Channel name repeated: %s'\u001b[0m \u001b[0;34m%\u001b[0m \u001b[0;34m(\u001b[0m\u001b[0mch_name\u001b[0m\u001b[0;34m,\u001b[0m\u001b[0;34m)\u001b[0m\u001b[0;34m)\u001b[0m\u001b[0;34m\u001b[0m\u001b[0;34m\u001b[0m\u001b[0m\n\u001b[1;32m    754\u001b[0m             \u001b[0midx\u001b[0m\u001b[0;34m.\u001b[0m\u001b[0mappend\u001b[0m\u001b[0;34m(\u001b[0m\u001b[0mii\u001b[0m\u001b[0;34m)\u001b[0m\u001b[0;34m\u001b[0m\u001b[0;34m\u001b[0m\u001b[0m\n\u001b[0;32m--> 755\u001b[0;31m         \u001b[0;32mreturn\u001b[0m \u001b[0mself\u001b[0m\u001b[0;34m.\u001b[0m\u001b[0m_pick_drop_channels\u001b[0m\u001b[0;34m(\u001b[0m\u001b[0midx\u001b[0m\u001b[0;34m)\u001b[0m\u001b[0;34m\u001b[0m\u001b[0;34m\u001b[0m\u001b[0m\n\u001b[0m\u001b[1;32m    756\u001b[0m \u001b[0;34m\u001b[0m\u001b[0m\n\u001b[1;32m    757\u001b[0m     \u001b[0;32mdef\u001b[0m \u001b[0mdrop_channels\u001b[0m\u001b[0;34m(\u001b[0m\u001b[0mself\u001b[0m\u001b[0;34m,\u001b[0m \u001b[0mch_names\u001b[0m\u001b[0;34m)\u001b[0m\u001b[0;34m:\u001b[0m\u001b[0;34m\u001b[0m\u001b[0;34m\u001b[0m\u001b[0m\n",
      "\u001b[0;32m/opt/conda/envs/jhub/lib/python3.7/site-packages/mne/channels/channels.py\u001b[0m in \u001b[0;36m_pick_drop_channels\u001b[0;34m(self, idx)\u001b[0m\n\u001b[1;32m    817\u001b[0m         \u001b[0;31m# All others (Evoked, Epochs, Raw) have chs axis=-2\u001b[0m\u001b[0;34m\u001b[0m\u001b[0;34m\u001b[0m\u001b[0;34m\u001b[0m\u001b[0m\n\u001b[1;32m    818\u001b[0m         \u001b[0maxis\u001b[0m \u001b[0;34m=\u001b[0m \u001b[0;34m-\u001b[0m\u001b[0;36m3\u001b[0m \u001b[0;32mif\u001b[0m \u001b[0misinstance\u001b[0m\u001b[0;34m(\u001b[0m\u001b[0mself\u001b[0m\u001b[0;34m,\u001b[0m \u001b[0;34m(\u001b[0m\u001b[0mAverageTFR\u001b[0m\u001b[0;34m,\u001b[0m \u001b[0mEpochsTFR\u001b[0m\u001b[0;34m)\u001b[0m\u001b[0;34m)\u001b[0m \u001b[0;32melse\u001b[0m \u001b[0;34m-\u001b[0m\u001b[0;36m2\u001b[0m\u001b[0;34m\u001b[0m\u001b[0;34m\u001b[0m\u001b[0m\n\u001b[0;32m--> 819\u001b[0;31m         \u001b[0mself\u001b[0m\u001b[0;34m.\u001b[0m\u001b[0m_data\u001b[0m \u001b[0;34m=\u001b[0m \u001b[0mself\u001b[0m\u001b[0;34m.\u001b[0m\u001b[0m_data\u001b[0m\u001b[0;34m.\u001b[0m\u001b[0mtake\u001b[0m\u001b[0;34m(\u001b[0m\u001b[0midx\u001b[0m\u001b[0;34m,\u001b[0m \u001b[0maxis\u001b[0m\u001b[0;34m=\u001b[0m\u001b[0maxis\u001b[0m\u001b[0;34m)\u001b[0m\u001b[0;34m\u001b[0m\u001b[0;34m\u001b[0m\u001b[0m\n\u001b[0m\u001b[1;32m    820\u001b[0m         \u001b[0;32mreturn\u001b[0m \u001b[0mself\u001b[0m\u001b[0;34m\u001b[0m\u001b[0;34m\u001b[0m\u001b[0m\n\u001b[1;32m    821\u001b[0m \u001b[0;34m\u001b[0m\u001b[0m\n",
      "\u001b[0;31mKeyboardInterrupt\u001b[0m: "
     ]
    }
   ],
   "source": [
    "for pid in ezh_all.keys():\n",
    "\n",
    "    pid_dir = f'/home/hfw/Retro/datasets/{pid}'\n",
    "   \n",
    "    print(pid_dir)\n",
    "    raw_fnames = glob.glob(f'{pid_dir}/seeg/fif/*.bip.raw.fif')\n",
    "    data_dir = f'/home/hfw/Retro/datasets/{pid}'\n",
    "\n",
    "    results_dir = f'/home/hfw/Retro/results/{pid}'\n",
    "\n",
    "\n",
    "    nchan=162\n",
    "\n",
    "\n",
    "    ezh=np.zeros([nchan,1])\n",
    "\n",
    "    ezh[ezh_all[pid]['i_ez']]=1\n",
    "\n",
    "\n",
    "# In[14]:\n",
    "\n",
    "    for raw_fname in raw_fnames:\n",
    "        basicfilename=raw_fname.split('.bip')[0]\n",
    "        szr_name =basicfilename.split('fif/')[1]\n",
    "        meta_data_fname = f'{szr_name}.json'\n",
    "        #raw_seeg_fname = f'{szr_name}.raw.fif'\n",
    "        fname_suffix = f'{szr_name}'\n",
    "        os.makedirs(results_dir,exist_ok=True)\n",
    "        os.makedirs(f'{results_dir}/logs',exist_ok=True)\n",
    "        os.makedirs(f'{results_dir}/figures',exist_ok=True)\n",
    "        os.makedirs(f'{results_dir}/Rfiles', exist_ok=True)\n",
    "        hpf = 10\n",
    "        lpf = 0.2\n",
    "        raw_seeg_fname = f'{szr_name}.raw.fif'\n",
    "        data = retro_prepare.prepare_data_bip(data_dir, meta_data_fname, raw_seeg_fname, szr_name, hpf, lpf)\n",
    "        seeg, bip = retro_prepare.read_one_seeg(data_dir, meta_data_fname, raw_seeg_fname)\n",
    "        slp = retro_prepare.compute_slp(seeg, bip, hpf, lpf)\n",
    "        all_fb_d0=np.load(f'{results_dir}/EZdelay/ez_prior_{szr_name}.npy')\n",
    "        \n",
    "        d0_prior=np.mean(all_fb_d0,axis=0)\n",
    "        ez_prior=np.where(d0_prior>0.5)\n",
    "        \n",
    "        ds_freq = int(data['slp'].shape[0]/150)\n",
    "        data['slp'] = data['slp'][0:-1:ds_freq]\n",
    "        data['snsr_pwr'] = (data['slp']**2).mean(axis=0)\n",
    "        data['ns'], data['nn'] = data['gain'].shape\n",
    "        data['nt'] = data['slp'].shape[0]\n",
    "        ez_hyp = np.where(np.loadtxt(f'{data_dir}/tvb/ez_hypothesis.vep.txt') == 1)[0]\n",
    "        data['x0_mu'] = -3.0*np.ones(data['nn'])\n",
    "        fname_suffix += f'_hpf{hpf}_lpf{lpf}_ezdelay'\n",
    "        data['x0_mu'][ez_prior[0]] = -1.5\n",
    "        stan_fname = 'szr_prpgtn'\n",
    "\n",
    "        x0 = data['x0_mu']\n",
    "        amplitude = 1.0 \n",
    "        offset = 0\n",
    "        K = 1.0\n",
    "        tau0 = 20\n",
    "        eps_slp = 1.0\n",
    "        eps_snsr_pwr = 1.0\n",
    "        x_init = -2.0*np.ones(data['nn'])\n",
    "        z_init = 3.5*np.ones(data['nn'])\n",
    "\n",
    "        param_init = {'x0':x0, 'amplitude':amplitude,\n",
    "              'offset':offset, 'K':K, 'tau0':tau0, 'x_init':x_init, 'z_init':z_init,\n",
    "              'eps_slp':eps_slp, 'eps_snsr_pwr':eps_snsr_pwr}\n",
    "\n",
    "        param_init_file = 'param_init.R'\n",
    "        os.makedirs(f'{results_dir}/Rfiles',exist_ok=True)\n",
    "        lib.io.stan.rdump(f'{results_dir}/Rfiles/param_init.R',param_init)\n",
    "\n",
    "        input_Rfile = f'fit_data_{fname_suffix}.R'\n",
    "        os.makedirs(f'{results_dir}/Rfiles',exist_ok=True)\n",
    "        lib.io.stan.rdump(f'{results_dir}/Rfiles/{input_Rfile}',data)\n",
    "        "
   ]
  },
  {
   "cell_type": "code",
   "execution_count": 4,
   "metadata": {},
   "outputs": [
    {
     "name": "stdout",
     "output_type": "stream",
     "text": [
      "Isotrak not found\n"
     ]
    }
   ],
   "source": [
    "%%bash -s \"$stan_fname\" \"$results_dir\" \"$input_Rfile\" \"$fname_suffix\"\n",
    "\n",
    "STAN_FNAME=$1\n",
    "RESULTS_DIR=$2\n",
    "INPUT_RFILE=$3\n",
    "FNAME_SUFFIX=$4\n",
    "\n",
    "\n",
    "for i in {1..2};\n",
    "do\n",
    "./${STAN_FNAME} optimize algorithm=lbfgs tol_param=1e-4 iter=20000 save_iterations=0  \\\n",
    "data file=${RESULTS_DIR}/Rfiles/${INPUT_RFILE} \\\n",
    "init=${RESULTS_DIR}/Rfiles/param_init.R \\\n",
    "output file=${RESULTS_DIR}/samples_${FNAME_SUFFIX}_chain${i}.csv refresh=10 \\\n",
    "&> ${RESULTS_DIR}/logs/snsrfit_ode_${FNAME_SUFFIX}_chain${i}.log &\n",
    "done"
   ]
  },
  {
   "cell_type": "code",
   "execution_count": 6,
   "metadata": {},
   "outputs": [],
   "source": []
  },
  {
   "cell_type": "code",
   "execution_count": 5,
   "metadata": {},
   "outputs": [],
   "source": []
  },
  {
   "cell_type": "code",
   "execution_count": 8,
   "metadata": {},
   "outputs": [],
   "source": []
  },
  {
   "cell_type": "code",
   "execution_count": 9,
   "metadata": {},
   "outputs": [],
   "source": [
    "#stan_fname = 'vep-snsrfit-ode-nointerp'\n"
   ]
  },
  {
   "cell_type": "code",
   "execution_count": 10,
   "metadata": {},
   "outputs": [],
   "source": [
    "#%%bash -s \"$stan_fname\" \n",
    "\n",
    "#stancompile.sh $1"
   ]
  },
  {
   "cell_type": "code",
   "execution_count": 11,
   "metadata": {},
   "outputs": [],
   "source": []
  },
  {
   "cell_type": "code",
   "execution_count": null,
   "metadata": {},
   "outputs": [],
   "source": []
  },
  {
   "cell_type": "code",
   "execution_count": null,
   "metadata": {},
   "outputs": [],
   "source": []
  }
 ],
 "metadata": {
  "kernelspec": {
   "display_name": "Python 3",
   "language": "python",
   "name": "python3"
  },
  "language_info": {
   "codemirror_mode": {
    "name": "ipython",
    "version": 3
   },
   "file_extension": ".py",
   "mimetype": "text/x-python",
   "name": "python",
   "nbconvert_exporter": "python",
   "pygments_lexer": "ipython3",
   "version": "3.7.1"
  }
 },
 "nbformat": 4,
 "nbformat_minor": 2
}
