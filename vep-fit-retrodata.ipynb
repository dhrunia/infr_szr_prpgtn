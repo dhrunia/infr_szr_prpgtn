{
 "cells": [
  {
   "cell_type": "code",
   "execution_count": null,
   "metadata": {},
   "outputs": [],
   "source": [
    "%matplotlib inline\n",
    "import numpy as np\n",
    "import lib.io.stan\n",
    "import lib.plots.stan\n",
    "import matplotlib.pyplot as plt\n",
    "import os\n",
    "from matplotlib.lines import Line2D\n",
    "import retro_prepare_data\n",
    "import matplotlib.colors"
   ]
  },
  {
   "cell_type": "code",
   "execution_count": null,
   "metadata": {},
   "outputs": [],
   "source": [
    "patient_id = 'id001_bt'\n",
    "data_dir = f'datasets/retro/{patient_id}'\n",
    "results_dir = f'results/exp10/exp10.67/{patient_id}'\n",
    "szr_name = 'CG_C1_120213B-BEX_0001'\n",
    "meta_data_fname = f'{szr_name}.json'\n",
    "raw_seeg_fname = f'{szr_name}.raw.fif'\n",
    "fname_suffix = f'{szr_name}'\n",
    "# if os.path.isdir(results_dir):\n",
    "#     os.rmdir(results_dir)\n",
    "os.makedirs(results_dir,exist_ok=True)\n",
    "os.makedirs(f'{results_dir}/logs',exist_ok=True)\n",
    "os.makedirs(f'{results_dir}/figures',exist_ok=True)\n",
    "os.makedirs(f'{results_dir}/Rfiles', exist_ok=True)"
   ]
  },
  {
   "cell_type": "code",
   "execution_count": null,
   "metadata": {},
   "outputs": [],
   "source": [
    "hpf = 10\n",
    "lpf = 0.02\n",
    "data = retro_prepare_data.prepare_data(data_dir, meta_data_fname, raw_seeg_fname, hpf, lpf)\n",
    "fname_suffix += f'_hpf{hpf}_lpf{lpf}'"
   ]
  },
  {
   "cell_type": "code",
   "execution_count": null,
   "metadata": {},
   "outputs": [],
   "source": [
    "ds_freq = int(data['slp'].shape[0]/150)\n",
    "data['slp'] = data['slp'][0:-1:ds_freq]\n",
    "data['snsr_pwr'] = (data['slp']**2).mean(axis=0)\n",
    "data['ns'], data['nn'] = data['gain'].shape\n",
    "data['nt'] = data['slp'].shape[0]\n",
    "ez_hyp = np.where(np.loadtxt(f'{data_dir}/tvb/ez_hypothesis.destrieux.txt') == 1)[0]\n",
    "data['x0_mu'] = -3.0*np.ones(data['nn'])\n",
    "data['x0_mu'][ez_hyp] = -1.5"
   ]
  },
  {
   "cell_type": "code",
   "execution_count": null,
   "metadata": {},
   "outputs": [],
   "source": [
    "plt.figure(figsize=(20,5))\n",
    "plt.subplot(121)\n",
    "plt.imshow(data['SC'],norm=matplotlib.colors.LogNorm(vmin=1e-6, vmax=data['SC'].max()));\n",
    "plt.colorbar(fraction=0.046,pad=0.04);\n",
    "plt.title('Normalized SC (log scale)',fontsize=12, fontweight='bold')\n",
    "\n",
    "plt.subplot(122)\n",
    "plt.imshow(data['gain'],norm=matplotlib.colors.LogNorm(vmin=data['gain'].min(), vmax=data['gain'].max()));\n",
    "plt.colorbar(fraction=0.046,pad=0.04);\n",
    "plt.xlabel('Region#', fontsize=12)\n",
    "plt.ylabel('Channel#', fontsize=12)\n",
    "plt.title('Gain Matrix (log scale)',fontsize=12, fontweight='bold')\n",
    "plt.savefig(f'{results_dir}/figures/network.png')\n",
    "\n",
    "plt.figure(figsize=(25,13))\n",
    "plt.subplot(211)\n",
    "plt.plot(data['slp'], color='black', alpha=0.3);\n",
    "plt.xlabel('Time', fontsize=12)\n",
    "plt.ylabel('SLP', fontsize=12)\n",
    "\n",
    "plt.subplot(212)\n",
    "plt.bar(np.r_[1:data['ns']+1],data['snsr_pwr'], color='black', alpha=0.3);\n",
    "plt.xlabel('Time', fontsize=12)\n",
    "plt.ylabel('Power', fontsize=12)\n",
    "plt.title('SEEG channel power', fontweight='bold')\n",
    "plt.savefig(f'{results_dir}/figures/fitting_target_{fname_suffix}.png')\n",
    "# plt.tight_layout()\n"
   ]
  },
  {
   "cell_type": "code",
   "execution_count": null,
   "metadata": {},
   "outputs": [],
   "source": [
    "plt.figure(figsize=(25,5))\n",
    "plt.bar(np.r_[1:data['nn']+1],data['x0_mu'], color='black', alpha=0.3)\n",
    "plt.xticks(np.r_[1:data['nn']+1:2], fontsize=8);\n",
    "plt.xlabel('ROI#')\n",
    "plt.ylabel(r'$x_0$', fontsize=10)\n",
    "plt.savefig(f'{results_dir}/figures/ez_hyp.png')"
   ]
  },
  {
   "cell_type": "code",
   "execution_count": null,
   "metadata": {},
   "outputs": [],
   "source": [
    "stan_fname = 'vep-snsrfit-ode-nointerp'\n",
    "\n",
    "\n",
    "x0 = data['x0_mu']\n",
    "amplitude = 1.0 \n",
    "offset = 0\n",
    "K = 1.0\n",
    "tau0 = 20\n",
    "eps_slp = 1.0\n",
    "eps_snsr_pwr = 1.0\n",
    "x_init = -2.0*np.ones(data['nn'])\n",
    "z_init = 3.5*np.ones(data['nn'])\n",
    "\n",
    "param_init = {'x0':x0, 'amplitude':amplitude,\n",
    "              'offset':offset, 'K':K, 'tau0':tau0, 'x_init':x_init, 'z_init':z_init,\n",
    "              'eps_slp':eps_slp, 'eps_snsr_pwr':eps_snsr_pwr}\n",
    "\n",
    "param_init_file = 'param_init.R'\n",
    "os.makedirs(f'{results_dir}/Rfiles',exist_ok=True)\n",
    "lib.io.stan.rdump(f'{results_dir}/Rfiles/param_init.R',param_init)\n",
    "\n",
    "input_Rfile = f'fit_data_{fname_suffix}.R'\n",
    "os.makedirs(f'{results_dir}/Rfiles',exist_ok=True)\n",
    "lib.io.stan.rdump(f'{results_dir}/Rfiles/{input_Rfile}',data)"
   ]
  },
  {
   "cell_type": "code",
   "execution_count": null,
   "metadata": {},
   "outputs": [],
   "source": [
    "%%bash -s \"$stan_fname\"\n",
    "stancompile.sh $1"
   ]
  },
  {
   "cell_type": "code",
   "execution_count": null,
   "metadata": {},
   "outputs": [],
   "source": [
    "%%bash -s \"$stan_fname\" \"$results_dir\" \"$input_Rfile\" \"$fname_suffix\"\n",
    "\n",
    "STAN_FNAME=$1\n",
    "RESULTS_DIR=$2\n",
    "INPUT_RFILE=$3\n",
    "FNAME_SUFFIX=$4\n",
    "\n",
    "\n",
    "for i in {1..4};\n",
    "do\n",
    "./${STAN_FNAME} optimize algorithm=lbfgs tol_param=1e-4 iter=20000 save_iterations=0  \\\n",
    "data file=${RESULTS_DIR}/Rfiles/${INPUT_RFILE} \\\n",
    "init=${RESULTS_DIR}/Rfiles/param_init.R \\\n",
    "output file=${RESULTS_DIR}/samples_${FNAME_SUFFIX}_chain${i}.csv refresh=10 \\\n",
    "&> ${RESULTS_DIR}/logs/snsrfit_ode_${FNAME_SUFFIX}_chain${i}.log &\n",
    "done"
   ]
  },
  {
   "cell_type": "code",
   "execution_count": null,
   "metadata": {},
   "outputs": [],
   "source": [
    "# import importlib\n",
    "# importlib.reload(lib.plots.stan)\n",
    "\n",
    "# ez_hyp = np.where(np.loadtxt(f'{data_dir}/tvb/ez_hypothesis.destrieux.txt') == 1)[0]\n",
    "chains = [1,2,3,4]\n",
    "for i,chain_no in enumerate(chains):\n",
    "    pstr_samples = lib.io.stan.read_samples([f'{results_dir}/samples_{fname_suffix}_chain{chain_no}.csv'])\n",
    "    lib.plots.stan.x0_violin_patient(pstr_samples['x0'], ez_hyp, figsize=(25,5), figname=f'{results_dir}/figures/x0_violin_{fname_suffix}_chain{chain_no}.png')\n",
    "    lib.plots.stan.pair_plots(pstr_samples, ['tau0', 'amplitude', 'offset', 'K', 'eps_slp', 'eps_snsr_pwr', 'x_init', 'z_init'],\n",
    "                              figname=f'{results_dir}/figures/params_pair_plots_{fname_suffix}_chain{chain_no}.png')\n",
    "    lib.plots.stan.plot_source(pstr_samples['x'].mean(axis=0), pstr_samples['z'].mean(axis=0), ez_hyp, [],\n",
    "                               figname=f'{results_dir}/figures/posterior_predicted_src_{fname_suffix}_chain{chain_no}.png')\n",
    "    lib.plots.stan.plot_fit_target({'slp':pstr_samples['mu_slp'].mean(axis=0), 'snsr_pwr':pstr_samples['mu_snsr_pwr'].mean(axis=0)},\n",
    "                                   data, figname=f'{results_dir}/figures/posterior_predicted_slp_{fname_suffix}_chain{chain_no}.png')\n",
    "\n"
   ]
  }
 ],
 "metadata": {
  "kernelspec": {
   "display_name": "python3.6",
   "language": "python",
   "name": "python3.6"
  },
  "language_info": {
   "codemirror_mode": {
    "name": "ipython",
    "version": 3
   },
   "file_extension": ".py",
   "mimetype": "text/x-python",
   "name": "python",
   "nbconvert_exporter": "python",
   "pygments_lexer": "ipython3",
   "version": "3.6.5"
  }
 },
 "nbformat": 4,
 "nbformat_minor": 2
}
