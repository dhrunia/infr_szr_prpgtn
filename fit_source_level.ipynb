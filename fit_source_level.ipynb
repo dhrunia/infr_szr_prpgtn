{
 "cells": [
  {
   "cell_type": "code",
   "execution_count": 1,
   "metadata": {
    "collapsed": true
   },
   "outputs": [],
   "source": [
    "%matplotlib inline\n",
    "import numpy as np\n",
    "import lib.io.stan\n",
    "import lib.syn_data\n",
    "import matplotlib.pyplot as plt"
   ]
  },
  {
   "cell_type": "code",
   "execution_count": 2,
   "metadata": {},
   "outputs": [
    {
     "data": {
      "image/png": "[encoded data removed]",
      "text/plain": [
       "<matplotlib.figure.Figure at 0x7f4ad5f16320>"
      ]
     },
     "metadata": {},
     "output_type": "display_data"
    }
   ],
   "source": [
    "np.random.seed(0)\n",
    "\n",
    "\n",
    "nNodes = 5\n",
    "SC = lib.syn_data.gen_con(nNodes)\n",
    "# SC = np.zeros([nNodes,nNodes])\n",
    "# SC[4,:] = 0.0\n",
    "# SC[4,1] = 5.0\n",
    "# SC[1,4] = 0.05\n",
    "im = plt.imshow(SC)\n",
    "plt.xticks(np.arange(0,nNodes),map(str,np.arange(1,nNodes+1)))\n",
    "plt.yticks(np.arange(0,nNodes),map(str,np.arange(1,nNodes+1)))\n",
    "plt.colorbar(fraction=0.046, pad=0.04)\n",
    "plt.gca().set_title(\"Structural Connectivity\",fontweight=\"bold\")\n",
    "\n",
    "np.savez('results/exp2/network.npz', SC=SC)"
   ]
  },
  {
   "cell_type": "code",
   "execution_count": null,
   "metadata": {
    "collapsed": true
   },
   "outputs": [],
   "source": []
  }
 ],
 "metadata": {
  "kernelspec": {
   "display_name": "Python 3",
   "language": "python",
   "name": "python3"
  },
  "language_info": {
   "codemirror_mode": {
    "name": "ipython",
    "version": 3
   },
   "file_extension": ".py",
   "mimetype": "text/x-python",
   "name": "python",
   "nbconvert_exporter": "python",
   "pygments_lexer": "ipython3",
   "version": "3.6.2"
  }
 },
 "nbformat": 4,
 "nbformat_minor": 2
}
