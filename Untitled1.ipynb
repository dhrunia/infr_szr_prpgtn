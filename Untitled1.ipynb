{
 "cells": [
  {
   "cell_type": "code",
   "execution_count": 1,
   "metadata": {},
   "outputs": [],
   "source": [
    "# read ei"
   ]
  },
  {
   "cell_type": "code",
   "execution_count": 15,
   "metadata": {},
   "outputs": [],
   "source": [
    "import os\n",
    "import pandas as pd\n",
    "import re"
   ]
  },
  {
   "cell_type": "code",
   "execution_count": 18,
   "metadata": {},
   "outputs": [],
   "source": [
    "sid = f'/home/hfw/Retro/datasets/id001_bt/'"
   ]
  },
  {
   "cell_type": "code",
   "execution_count": 19,
   "metadata": {},
   "outputs": [],
   "source": [
    "xlsx_file = os.path.join(sid, \"patient.xlsx\")"
   ]
  },
  {
   "cell_type": "code",
   "execution_count": 20,
   "metadata": {},
   "outputs": [],
   "source": [
    "df = pd.read_excel(xlsx_file, sheet_name=\"EZ hypothesis and EI\", header=1)"
   ]
  },
  {
   "cell_type": "code",
   "execution_count": 21,
   "metadata": {},
   "outputs": [],
   "source": [
    "CONTACTS_IND = 6\n",
    "EZ_IND = 7\n",
    "df = pd.read_excel(xlsx_file, sheet_name=\"EZ hypothesis and EI\", header=1)\n",
    "ez_contacts = []\n",
    "contacts_col = df.iloc[:, CONTACTS_IND]\n",
    "mask = contacts_col.notnull()\n",
    "contacts_names = contacts_col[mask]\n",
    "ez_mask = df.iloc[:, EZ_IND][mask] == \"YES\"\n",
    "ez_contacts.extend(contacts_names[ez_mask])\n",
    "# OR1-OR2 -> OR1-2\n",
    "# TODO handle the case monopolar\n",
    "ez_contacts_ = []\n",
    "cre = re.compile(\"([A-Za-z'p]+)([0-9]+)-([A-Za-z'p]+)([0-9]+)\")\n",
    "cre_mono = re.compile(\"([A-Za-z'p]+)([0-9]+)\")"
   ]
  },
  {
   "cell_type": "code",
   "execution_count": 36,
   "metadata": {},
   "outputs": [],
   "source": [
    "mask = df.iloc[:, 1].notnull()"
   ]
  },
  {
   "cell_type": "code",
   "execution_count": 38,
   "metadata": {},
   "outputs": [],
   "source": [
    "contacts_col = df.iloc[:, CONTACTS_IND]\n",
    "mask = contacts_col.notnull()\n",
    "contacts_names = contacts_col[mask]"
   ]
  },
  {
   "cell_type": "code",
   "execution_count": 40,
   "metadata": {},
   "outputs": [
    {
     "data": {
      "text/plain": [
       "0     0.000000\n",
       "1     0.000000\n",
       "2     0.000000\n",
       "3     0.000000\n",
       "4     0.000000\n",
       "5     0.000000\n",
       "6     0.000000\n",
       "7     0.000000\n",
       "8     0.000000\n",
       "9     0.000000\n",
       "10    0.000000\n",
       "11    0.000000\n",
       "12    0.000000\n",
       "13    0.000000\n",
       "14    0.000000\n",
       "15    0.000000\n",
       "16    0.000000\n",
       "17    0.000000\n",
       "18    0.000000\n",
       "19    0.000000\n",
       "20    0.000000\n",
       "21    0.000000\n",
       "22    0.000000\n",
       "23    0.000000\n",
       "24    0.000000\n",
       "25    0.000000\n",
       "26    0.000000\n",
       "27    0.000000\n",
       "28    0.000000\n",
       "29    0.000000\n",
       "        ...   \n",
       "52    0.000000\n",
       "53    0.000000\n",
       "54    0.000000\n",
       "55    0.000000\n",
       "56    0.000000\n",
       "57    0.000000\n",
       "58    0.000000\n",
       "59    0.000000\n",
       "60    0.000000\n",
       "61    0.000000\n",
       "62    0.000000\n",
       "63    0.000000\n",
       "64    0.000000\n",
       "65    0.000000\n",
       "66    1.000000\n",
       "67    0.641478\n",
       "68    0.383130\n",
       "69    0.000000\n",
       "70    0.000000\n",
       "71    0.000000\n",
       "72    0.000000\n",
       "73    0.000000\n",
       "74    0.000000\n",
       "75    0.000000\n",
       "76    0.000000\n",
       "77    0.000000\n",
       "78    0.000000\n",
       "79    0.000000\n",
       "80    0.000000\n",
       "81    0.000000\n",
       "Name: BTcrise2appportable_0013.EEG, Length: 82, dtype: float64"
      ]
     },
     "execution_count": 40,
     "metadata": {},
     "output_type": "execute_result"
    }
   ],
   "source": [
    "df.iloc[:,1][mask]"
   ]
  },
  {
   "cell_type": "code",
   "execution_count": null,
   "metadata": {},
   "outputs": [],
   "source": [
    "def read_ez_sens_mask(sid, ch_names):\n",
    "    xlsx_file = os.path.join(sid, \"patient.xlsx\")\n",
    "    CONTACTS_IND = 6\n",
    "    EZ_IND = 7\n",
    "    df = pd.read_excel(xlsx_file, sheet_name=\"EZ hypothesis and EI\", header=1)\n",
    "    ez_contacts = []\n",
    "    contacts_col = df.iloc[:, CONTACTS_IND]\n",
    "    mask = contacts_col.notnull()\n",
    "    contacts_names = contacts_col[mask]\n",
    "    ez_mask = df.iloc[:, EZ_IND][mask] == \"YES\"\n",
    "    ez_contacts.extend(contacts_names[ez_mask])\n",
    "    # OR1-OR2 -> OR1-2\n",
    "    # TODO handle the case monopolar\n",
    "    ez_contacts_ = []\n",
    "    cre = re.compile(\"([A-Za-z'p]+)([0-9]+)-([A-Za-z'p]+)([0-9]+)\")\n",
    "    cre_mono = re.compile(\"([A-Za-z'p]+)([0-9]+)\")\n",
    "    for ez_contact in ez_contacts:\n",
    "        try:\n",
    "            nm, i, _, j = cre.match(ez_contact).groups()\n",
    "            ez_contacts_.append(f\"{nm}{i}-{j}\")\n",
    "        except Exception as exc:\n",
    "            try:\n",
    "                nm, i = cre_mono.match(ez_contact).groups()\n",
    "                ez_contacts_.append(f\"{nm}{i}-{int(i)+1}\")\n",
    "            except Exception as exc:\n",
    "                print(sid, ez_contact, exc)\n",
    "                continue\n",
    "    m_ez = np.array([_ in ez_contacts_ for _ in ch_names])\n",
    "    return m_ez"
   ]
  }
 ],
 "metadata": {
  "kernelspec": {
   "display_name": "Python 3",
   "language": "python",
   "name": "python3"
  },
  "language_info": {
   "codemirror_mode": {
    "name": "ipython",
    "version": 3
   },
   "file_extension": ".py",
   "mimetype": "text/x-python",
   "name": "python",
   "nbconvert_exporter": "python",
   "pygments_lexer": "ipython3",
   "version": "3.7.1"
  }
 },
 "nbformat": 4,
 "nbformat_minor": 2
}
