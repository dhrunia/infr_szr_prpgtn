{
 "cells": [
  {
   "cell_type": "code",
   "execution_count": null,
   "metadata": {},
   "outputs": [],
   "source": [
    "import numpy as np\n",
    "import lib.io.stan\n",
    "import lib.plots.stan\n",
    "%matplotlib inline\n",
    "import matplotlib.pyplot as plt\n",
    "from matplotlib import colors,cm\n",
    "from matplotlib.lines import Line2D\n",
    "import random\n",
    "import scipy.signal as signal"
   ]
  },
  {
   "cell_type": "code",
   "execution_count": null,
   "metadata": {},
   "outputs": [],
   "source": [
    "res_root_dir = '/home/anirudh/hdisk/Academia/papers/VEP_infer'"
   ]
  },
  {
   "cell_type": "markdown",
   "metadata": {},
   "source": [
    "# Patient CJ"
   ]
  },
  {
   "cell_type": "code",
   "execution_count": null,
   "metadata": {},
   "outputs": [],
   "source": [
    "cj_ntwrk = np.load('datasets/id002_cj/CJ_network.npz')\n",
    "cj_sim_data = np.load('datasets/id002_cj/CJ_syn_tvb_ez=6-34_pz=27-5-11.npz')"
   ]
  },
  {
   "cell_type": "markdown",
   "metadata": {},
   "source": [
    "#### Structural Connectivity"
   ]
  },
  {
   "cell_type": "code",
   "execution_count": null,
   "metadata": {},
   "outputs": [],
   "source": [
    "plt.figure(figsize=(10,10))\n",
    "num_nodes = cj_ntwrk['SC'].shape[0]\n",
    "log_norm = colors.LogNorm(vmin=1e-7, vmax=cj_ntwrk['SC'].max())\n",
    "plt.imshow(cj_ntwrk['SC'], norm=log_norm, cmap=cm.hot)\n",
    "xticks = np.append(np.array([0]),np.r_[9:num_nodes:10])\n",
    "yticks = np.append(np.array([0]),np.r_[9:num_nodes:10])\n",
    "plt.xticks(xticks, xticks+1, fontsize=15)\n",
    "plt.yticks(yticks, yticks+1, fontsize=15)\n",
    "plt.xlabel('Node',fontsize=20)\n",
    "plt.ylabel('Node',fontsize=20)\n",
    "cb = plt.colorbar(fraction=0.035)\n",
    "cb.ax.set_yticklabels(cb.ax.get_yticklabels(),fontsize=15);\n",
    "plt.savefig(f'{res_root_dir}/figures/CJ/SC.png')\n"
   ]
  },
  {
   "cell_type": "markdown",
   "metadata": {},
   "source": [
    "#### Gain Matrix"
   ]
  },
  {
   "cell_type": "code",
   "execution_count": null,
   "metadata": {},
   "outputs": [],
   "source": [
    "plt.figure(figsize=(6,10))\n",
    "num_sensors, num_nodes = cj_ntwrk['gain_mat'].shape\n",
    "log_norm = colors.LogNorm(vmin=cj_ntwrk['gain_mat'].min(), vmax=cj_ntwrk['gain_mat'].max())\n",
    "plt.imshow(cj_ntwrk['gain_mat'], norm=log_norm, cmap=cm.hot)\n",
    "xticks = np.append(np.array([0]),np.r_[9:num_nodes:10])\n",
    "yticks = np.append(np.array([0]),np.r_[9:num_sensors:10])\n",
    "plt.xticks(xticks, xticks+1, fontsize=15)\n",
    "plt.yticks(yticks, yticks+1, fontsize=15)\n",
    "plt.xlabel('Node',fontsize=20)\n",
    "plt.ylabel('Sensor',fontsize=20)\n",
    "cb = plt.colorbar(fraction=0.045)\n",
    "cb.ax.set_yticklabels(cb.ax.get_yticklabels(),fontsize=15);\n",
    "plt.savefig(f'{res_root_dir}/figures/CJ/Gain_matrix.png')"
   ]
  },
  {
   "cell_type": "code",
   "execution_count": null,
   "metadata": {},
   "outputs": [],
   "source": [
    "print(cj_sim_data.keys())\n",
    "print(cj_sim_data['src_sig'].shape)"
   ]
  },
  {
   "cell_type": "markdown",
   "metadata": {},
   "source": [
    "#### Simulated Source activity"
   ]
  },
  {
   "cell_type": "code",
   "execution_count": null,
   "metadata": {},
   "outputs": [],
   "source": [
    "import numpy as np\n",
    "import lib.io.stan\n",
    "import lib.plots.stan\n",
    "%matplotlib inline\n",
    "import matplotlib.pyplot as plt\n",
    "from matplotlib import colors,cm\n",
    "from matplotlib.lines import Line2D\n",
    "import random\n",
    "import scipy.signal as signal"
   ]
  },
  {
   "cell_type": "code",
   "execution_count": null,
   "metadata": {},
   "outputs": [],
   "source": [
    "# res_root_dir = '/home/anirudh/hdisk/Academia/papers/VEP_infer'\n",
    "ez = cj_sim_data['ez']\n",
    "pz = np.concatenate((cj_sim_data['pz_x0'], cj_sim_data['pz_kplng']))\n",
    "start_idx = 2500\n",
    "end_idx = 3800\n",
    "src_sig = cj_sim_data['src_sig'][start_idx:end_idx,0,:,0] + cj_sim_data['src_sig'][start_idx:end_idx,3,:,0]\n",
    "n_areas = src_sig.shape[1]\n",
    "\n",
    "fig = plt.figure(figsize=(25,5))\n",
    "\n",
    "ax = plt.subplot()\n",
    "yticks = []\n",
    "yticks_labels = []\n",
    "for i in range(n_areas):\n",
    "    if(i in ez):\n",
    "        t = src_sig[:,i]+7*(np.where(ez == i)[0] + 1)\n",
    "        plt.plot(t, alpha=0.5, color='xkcd:red');\n",
    "        yticks.append(t.mean(axis=0))\n",
    "        yticks_labels.append(f'Node {i+1}(EZ)')\n",
    "    elif(i in pz):\n",
    "        t = src_sig[:,i]+7*(np.where(pz == i)[0] + 3)\n",
    "        plt.plot(t, alpha=0.5, color='xkcd:rust');\n",
    "        yticks.append(t.mean(axis=0))\n",
    "        yticks_labels.append(f'Node {i+1}(PZ)')\n",
    "    else:\n",
    "        plt.plot(src_sig[:,i]+5, alpha=0.5, color='black');\n",
    "#         yticks.append(src_sig[:,i].mean(axis=0) +5)\n",
    "plt.xlabel('Time', fontsize=20)\n",
    "plt.ylabel(r'Source Activity', fontsize=20);\n",
    "# plt.xticks(ax.get_xticks()[1:-1], map(lambda x: str(int(x)), ax.get_xticks()[1:-1]), fontsize=15);\n",
    "# ax.get_yaxis().set_visible(False)\n",
    "ax.spines['top'].set_visible(False)\n",
    "ax.spines['right'].set_visible(False)\n",
    "ax.spines['left'].set_visible(False)\n",
    "ax.spines['bottom'].set_visible(False)\n",
    "plt.yticks(yticks,yticks_labels);\n",
    "# legend_elements = [Line2D([0], [0], color='xkcd:red', alpha=0.5, linewidth=4, label='EZ'),\n",
    "#                    Line2D([0], [0], color='xkcd:rust', alpha=0.5, linewidth=4, label='PZ'),\n",
    "#                    Line2D([0], [0], color='black', alpha=0.5, linewidth=4, label='Non-seizing'),]\n",
    "# plt.legend(handles=legend_elements)\n",
    "# plt.savefig(f'{res_root_dir}/figures/CJ/source_activity.png')\n",
    "\n"
   ]
  },
  {
   "cell_type": "markdown",
   "metadata": {},
   "source": [
    "#### Simulated SEEG"
   ]
  },
  {
   "cell_type": "code",
   "execution_count": null,
   "metadata": {},
   "outputs": [],
   "source": [
    "random.seed(100)\n",
    "fig = plt.figure(figsize=(25,5))\n",
    "ax = plt.subplot()\n",
    "start_idx = 2500\n",
    "end_idx = 3800\n",
    "seeg_raw = cj_sim_data['seeg'][:,start_idx:end_idx]\n",
    "chnl_names = []\n",
    "with open('datasets/id002_cj/seeg.xyz') as fd:\n",
    "    for line in fd.readlines():\n",
    "        chnl_names.append(line.strip().split()[0])\n",
    "rndm_chsn_chnls = random.sample(range(0,seeg.shape[0]),5)\n",
    "seeg_raw = seeg_raw[rndm_chsn_chnls, :]\n",
    "nyq = 1000 / 2.0\n",
    "# High pass filter the data\n",
    "b, a = signal.butter(5, 10.0 / nyq, 'high')\n",
    "seeg_hpfilt = signal.filtfilt(b, a, seeg_raw)\n",
    "t = seeg_hpfilt.T + 60*np.r_[0:len(rndm_chsn_chnls)]\n",
    "yticks = t.mean(axis=0)\n",
    "yticks_labels = [chnl_names[idx] for idx in rndm_chsn_chnls]\n",
    "plt.plot(t, color='black');\n",
    "plt.xlabel('Time', fontsize=20)\n",
    "plt.ylabel('SEEG', fontsize=20)\n",
    "ax.spines['top'].set_visible(False)\n",
    "ax.spines['right'].set_visible(False)\n",
    "ax.spines['left'].set_visible(False)\n",
    "ax.spines['bottom'].set_visible(False)\n",
    "plt.yticks(yticks, yticks_labels, fontsize=12);\n",
    "plt.xticks(fontsize=12);\n",
    "plt.savefig(f'{res_root_dir}/figures/CJ/seeg.png')"
   ]
  },
  {
   "cell_type": "markdown",
   "metadata": {},
   "source": [
    "#### Sensors"
   ]
  },
  {
   "cell_type": "code",
   "execution_count": null,
   "metadata": {},
   "outputs": [],
   "source": [
    "import tvbpipeline.util.plot\n",
    "import numpy as np\n",
    "import os\n",
    "import importlib"
   ]
  },
  {
   "cell_type": "code",
   "execution_count": null,
   "metadata": {},
   "outputs": [],
   "source": [
    "res_root_dir = 'results/tmp'\n",
    "cj_sim_data = np.load('datasets/syn_data/id002_cj/CJ_syn_tvb_ez=6-34_pz=27-5-11.npz')\n",
    "ez = cj_sim_data['ez']\n",
    "pz = np.concatenate((cj_sim_data['pz_x0'], cj_sim_data['pz_kplng']))\n",
    "tvbpipeline.util.plot.seeg_elecs('datasets/syn_data/id002_cj/connectivity.zip', 'datasets/syn_data/id002_cj/seeg.xyz', ez, pz, f'{res_root_dir}/figures/electrodes.png')"
   ]
  },
  {
   "cell_type": "markdown",
   "metadata": {},
   "source": [
    "#### Onsets"
   ]
  },
  {
   "cell_type": "code",
   "execution_count": null,
   "metadata": {},
   "outputs": [],
   "source": [
    "import numpy as np\n",
    "import lib.io.stan\n",
    "import lib.plots.stan\n",
    "%matplotlib inline\n",
    "import matplotlib.pyplot as plt\n",
    "from matplotlib import colors,cm\n",
    "from matplotlib.lines import Line2D\n",
    "import random\n",
    "import scipy.signal as signal"
   ]
  },
  {
   "cell_type": "code",
   "execution_count": null,
   "metadata": {},
   "outputs": [],
   "source": [
    "res_root_dir = '/home/anirudh/hdisk/Academia/papers/VEP_infer'\n",
    "sim_data = np.load('datasets/syn_data/id002_cj/CJ_syn_tvb_ez=6-34_pz=27-5-11.npz')\n",
    "start_idx = 2500\n",
    "end_idx = 3800\n",
    "sim_src_sig = sim_data['src_sig'][start_idx:end_idx,0,:,0] + sim_data['src_sig'][start_idx:end_idx,3,:,0]\n",
    "ds_freq = 10\n",
    "sim_src_sig_ds = sim_src_sig[0:-1:ds_freq,:]\n",
    "optima = lib.io.stan.read_samples(['results/exp10/exp10.57.20/samples_syn_cj_optim_chain1.csv'])\n",
    "fit_src_sig = optima['x'][0]"
   ]
  },
  {
   "cell_type": "code",
   "execution_count": null,
   "metadata": {},
   "outputs": [],
   "source": [
    "onsets = sim_src_sig_ds.shape[0]*np.zeros(sim_src_sig_ds.shape[1])\n",
    "for i, sig in enumerate(sim_src_sig_ds.T):\n",
    "    sig_cond = sig > -1\n",
    "    if sig_cond.any():\n",
    "        onsets[i] = np.min(np.nonzero(sig_cond))"
   ]
  },
  {
   "cell_type": "code",
   "execution_count": null,
   "metadata": {},
   "outputs": [],
   "source": [
    "plt.figure(figsize=(5,5))\n",
    "# plt.bar(np.r_[1:onsets.shape[0]+1], onsets)\n",
    "# plt.xticks(np.r_[1:onsets.shape[0]+1:2]);\n",
    "plt.hist(onsets[np.nonzero(onsets > 0)]);"
   ]
  },
  {
   "cell_type": "code",
   "execution_count": null,
   "metadata": {},
   "outputs": [],
   "source": [
    "onsets = np.zeros(fit_src_sig.shape[1])\n",
    "for i, sig in enumerate(fit_src_sig.T):\n",
    "    sig_cond = sig > 0\n",
    "    if sig_cond.any():\n",
    "        onsets[i] = np.min(np.nonzero(sig_cond))"
   ]
  },
  {
   "cell_type": "markdown",
   "metadata": {},
   "source": [
    "# Patient BT"
   ]
  },
  {
   "cell_type": "code",
   "execution_count": 1,
   "metadata": {},
   "outputs": [],
   "source": [
    "import numpy as np\n",
    "import lib.io.stan\n",
    "import lib.io.tvb\n",
    "import lib.io.seeg\n",
    "import lib.plots.stan\n",
    "%matplotlib inline\n",
    "import matplotlib.pyplot as plt\n",
    "from matplotlib import colors,cm\n",
    "from matplotlib.lines import Line2D\n",
    "import random\n",
    "import scipy.signal as signal\n",
    "import os"
   ]
  },
  {
   "cell_type": "code",
   "execution_count": 2,
   "metadata": {},
   "outputs": [],
   "source": [
    "ntwrk = np.load('datasets/syn_data/id001_bt/network.npz')\n",
    "sim_data = np.load('datasets/syn_data/id001_bt/syn_tvb_ez=48-79_pz=11-17-22-75.npz')\n",
    "figs_dir = '/home/anirudh/Academia/papers/infr_szr_prpgtn_paper/figures/BT'\n",
    "os.makedirs(figs_dir, exist_ok=True)"
   ]
  },
  {
   "cell_type": "markdown",
   "metadata": {},
   "source": [
    "#### Structural Connectivity"
   ]
  },
  {
   "cell_type": "code",
   "execution_count": null,
   "metadata": {},
   "outputs": [],
   "source": [
    "plt.figure(figsize=(10,10))\n",
    "SC = ntwrk['SC']\n",
    "num_nodes = SC.shape[0]\n",
    "SC[SC<1e-10] = 1e-10\n",
    "log_norm = colors.LogNorm(vmin=1e-10, vmax=SC.max(), clip=True)\n",
    "plt.imshow(SC, norm=log_norm, cmap=cm.hot)\n",
    "xticks = np.append(np.array([0]),np.r_[9:num_nodes:10])\n",
    "yticks = np.append(np.array([0]),np.r_[9:num_nodes:10])\n",
    "plt.xticks(xticks, xticks+1, fontsize=15, rotation='vertical')\n",
    "plt.yticks(yticks, yticks+1, fontsize=15)\n",
    "plt.xlabel('Node',fontsize=20)\n",
    "plt.ylabel('Node',fontsize=20)\n",
    "cb = plt.colorbar(fraction=0.035)\n",
    "# cb.ax.set_yticklabels(cb.ax.get_yticklabels(),fontsize=15);\n",
    "plt.savefig(os.path.join(figs_dir, 'SC.png'))"
   ]
  },
  {
   "cell_type": "markdown",
   "metadata": {},
   "source": [
    "#### Gain Matrix"
   ]
  },
  {
   "cell_type": "code",
   "execution_count": null,
   "metadata": {},
   "outputs": [],
   "source": [
    "plt.figure(figsize=(10,10))\n",
    "gain_mat = ntwrk['gain_mat']\n",
    "num_sensors, num_nodes = gain_mat.shape\n",
    "log_norm = colors.LogNorm(vmin=gain_mat.min(), vmax=gain_mat.max())\n",
    "plt.imshow(gain_mat, norm=log_norm, cmap=cm.hot)\n",
    "xticks = np.append(np.array([0]),np.r_[9:num_nodes:10])\n",
    "yticks = np.append(np.array([0]),np.r_[9:num_sensors:10])\n",
    "plt.xticks(xticks, xticks+1, fontsize=15, rotation='vertical')\n",
    "plt.yticks(yticks, yticks+1, fontsize=15)\n",
    "plt.xlabel('Node',fontsize=20)\n",
    "plt.ylabel('Sensor',fontsize=20)\n",
    "cb = plt.colorbar(fraction=0.035)\n",
    "# cb.ax.set_yticklabels(cb.ax.get_yticklabels(),fontsize=15);\n",
    "plt.savefig(os.path.join(figs_dir, 'Gain_matrix.png'))"
   ]
  },
  {
   "cell_type": "markdown",
   "metadata": {},
   "source": [
    "#### Simulated Source activity"
   ]
  },
  {
   "cell_type": "code",
   "execution_count": 16,
   "metadata": {},
   "outputs": [
    {
     "output_type": "display_data",
     "data": {
      "text/plain": "<Figure size 1800x360 with 1 Axes>",
      "image/svg+xml": "<?xml version=\"1.0\" encoding=\"utf-8\" standalone=\"no\"?>\n<!DOCTYPE svg PUBLIC \"-//W3C//DTD SVG 1.1//EN\"\n  \"http://www.w3.org/Graphics/SVG/1.1/DTD/svg11.dtd\">\n<!-- Created with matplotlib (https://matplotlib.org/) -->\n<svg height=\"352.834375pt\" version=\"1.1\" viewBox=\"0 0 1791.615625 352.834375\" width=\"1791.615625pt\" xmlns=\"http://www.w3.org/2000/svg\" xmlns:xlink=\"http://www.w3.org/1999/xlink\">\n <defs>\n  <style type=\"text/css\">\n*{stroke-linecap:butt;stroke-linejoin:round;}\n  </style>\n </defs>\n <g id=\"figure_1\">\n  <g id=\"patch_1\">\n   <path d=\"M 0 352.834375 \nL 1791.615625 352.834375 \nL 1791.615625 0 \nL 0 0 \nz\n\" style=\"fill:none;\"/>\n  </g>\n  <g id=\"axes_1\">\n   <g id=\"patch_2\">\n    <path d=\"M 250.140625 305.6 \nL 1784.415625 305.6 \nL 1784.415625 7.2 \nL 250.140625 7.2 \nz\n\" style=\"fill:#ffffff;\"/>\n   </g>\n   <g id=\"matplotlib.axis_1\">\n    <g id=\"xtick_1\">\n     <g id=\"line2d_1\">\n      <defs>\n       <path d=\"M 0 0 \nL 0 3.5 \n\" id=\"m8a5a56bb03\" style=\"stroke:#000000;stroke-width:0.8;\"/>\n      </defs>\n      <g>\n       <use style=\"stroke:#000000;stroke-width:0.8;\" x=\"319.880398\" xlink:href=\"#m8a5a56bb03\" y=\"305.6\"/>\n      </g>\n     </g>\n     <g id=\"text_1\">\n      <!-- 0 -->\n      <defs>\n       <path d=\"M 31.78125 66.40625 \nQ 24.171875 66.40625 20.328125 58.90625 \nQ 16.5 51.421875 16.5 36.375 \nQ 16.5 21.390625 20.328125 13.890625 \nQ 24.171875 6.390625 31.78125 6.390625 \nQ 39.453125 6.390625 43.28125 13.890625 \nQ 47.125 21.390625 47.125 36.375 \nQ 47.125 51.421875 43.28125 58.90625 \nQ 39.453125 66.40625 31.78125 66.40625 \nz\nM 31.78125 74.21875 \nQ 44.046875 74.21875 50.515625 64.515625 \nQ 56.984375 54.828125 56.984375 36.375 \nQ 56.984375 17.96875 50.515625 8.265625 \nQ 44.046875 -1.421875 31.78125 -1.421875 \nQ 19.53125 -1.421875 13.0625 8.265625 \nQ 6.59375 17.96875 6.59375 36.375 \nQ 6.59375 54.828125 13.0625 64.515625 \nQ 19.53125 74.21875 31.78125 74.21875 \nz\n\" id=\"DejaVuSans-48\"/>\n      </defs>\n      <g transform=\"translate(316.699148 320.198437)scale(0.1 -0.1)\">\n       <use xlink:href=\"#DejaVuSans-48\"/>\n      </g>\n     </g>\n    </g>\n    <g id=\"xtick_2\">\n     <g id=\"line2d_2\">\n      <g>\n       <use style=\"stroke:#000000;stroke-width:0.8;\" x=\"505.97719\" xlink:href=\"#m8a5a56bb03\" y=\"305.6\"/>\n      </g>\n     </g>\n     <g id=\"text_2\">\n      <!-- 200 -->\n      <defs>\n       <path d=\"M 19.1875 8.296875 \nL 53.609375 8.296875 \nL 53.609375 0 \nL 7.328125 0 \nL 7.328125 8.296875 \nQ 12.9375 14.109375 22.625 23.890625 \nQ 32.328125 33.6875 34.8125 36.53125 \nQ 39.546875 41.84375 41.421875 45.53125 \nQ 43.3125 49.21875 43.3125 52.78125 \nQ 43.3125 58.59375 39.234375 62.25 \nQ 35.15625 65.921875 28.609375 65.921875 \nQ 23.96875 65.921875 18.8125 64.3125 \nQ 13.671875 62.703125 7.8125 59.421875 \nL 7.8125 69.390625 \nQ 13.765625 71.78125 18.9375 73 \nQ 24.125 74.21875 28.421875 74.21875 \nQ 39.75 74.21875 46.484375 68.546875 \nQ 53.21875 62.890625 53.21875 53.421875 \nQ 53.21875 48.921875 51.53125 44.890625 \nQ 49.859375 40.875 45.40625 35.40625 \nQ 44.1875 33.984375 37.640625 27.21875 \nQ 31.109375 20.453125 19.1875 8.296875 \nz\n\" id=\"DejaVuSans-50\"/>\n      </defs>\n      <g transform=\"translate(496.43344 320.198437)scale(0.1 -0.1)\">\n       <use xlink:href=\"#DejaVuSans-50\"/>\n       <use x=\"63.623047\" xlink:href=\"#DejaVuSans-48\"/>\n       <use x=\"127.246094\" xlink:href=\"#DejaVuSans-48\"/>\n      </g>\n     </g>\n    </g>\n    <g id=\"xtick_3\">\n     <g id=\"line2d_3\">\n      <g>\n       <use style=\"stroke:#000000;stroke-width:0.8;\" x=\"692.073981\" xlink:href=\"#m8a5a56bb03\" y=\"305.6\"/>\n      </g>\n     </g>\n     <g id=\"text_3\">\n      <!-- 400 -->\n      <defs>\n       <path d=\"M 37.796875 64.3125 \nL 12.890625 25.390625 \nL 37.796875 25.390625 \nz\nM 35.203125 72.90625 \nL 47.609375 72.90625 \nL 47.609375 25.390625 \nL 58.015625 25.390625 \nL 58.015625 17.1875 \nL 47.609375 17.1875 \nL 47.609375 0 \nL 37.796875 0 \nL 37.796875 17.1875 \nL 4.890625 17.1875 \nL 4.890625 26.703125 \nz\n\" id=\"DejaVuSans-52\"/>\n      </defs>\n      <g transform=\"translate(682.530231 320.198437)scale(0.1 -0.1)\">\n       <use xlink:href=\"#DejaVuSans-52\"/>\n       <use x=\"63.623047\" xlink:href=\"#DejaVuSans-48\"/>\n       <use x=\"127.246094\" xlink:href=\"#DejaVuSans-48\"/>\n      </g>\n     </g>\n    </g>\n    <g id=\"xtick_4\">\n     <g id=\"line2d_4\">\n      <g>\n       <use style=\"stroke:#000000;stroke-width:0.8;\" x=\"878.170773\" xlink:href=\"#m8a5a56bb03\" y=\"305.6\"/>\n      </g>\n     </g>\n     <g id=\"text_4\">\n      <!-- 600 -->\n      <defs>\n       <path d=\"M 33.015625 40.375 \nQ 26.375 40.375 22.484375 35.828125 \nQ 18.609375 31.296875 18.609375 23.390625 \nQ 18.609375 15.53125 22.484375 10.953125 \nQ 26.375 6.390625 33.015625 6.390625 \nQ 39.65625 6.390625 43.53125 10.953125 \nQ 47.40625 15.53125 47.40625 23.390625 \nQ 47.40625 31.296875 43.53125 35.828125 \nQ 39.65625 40.375 33.015625 40.375 \nz\nM 52.59375 71.296875 \nL 52.59375 62.3125 \nQ 48.875 64.0625 45.09375 64.984375 \nQ 41.3125 65.921875 37.59375 65.921875 \nQ 27.828125 65.921875 22.671875 59.328125 \nQ 17.53125 52.734375 16.796875 39.40625 \nQ 19.671875 43.65625 24.015625 45.921875 \nQ 28.375 48.1875 33.59375 48.1875 \nQ 44.578125 48.1875 50.953125 41.515625 \nQ 57.328125 34.859375 57.328125 23.390625 \nQ 57.328125 12.15625 50.6875 5.359375 \nQ 44.046875 -1.421875 33.015625 -1.421875 \nQ 20.359375 -1.421875 13.671875 8.265625 \nQ 6.984375 17.96875 6.984375 36.375 \nQ 6.984375 53.65625 15.1875 63.9375 \nQ 23.390625 74.21875 37.203125 74.21875 \nQ 40.921875 74.21875 44.703125 73.484375 \nQ 48.484375 72.75 52.59375 71.296875 \nz\n\" id=\"DejaVuSans-54\"/>\n      </defs>\n      <g transform=\"translate(868.627023 320.198437)scale(0.1 -0.1)\">\n       <use xlink:href=\"#DejaVuSans-54\"/>\n       <use x=\"63.623047\" xlink:href=\"#DejaVuSans-48\"/>\n       <use x=\"127.246094\" xlink:href=\"#DejaVuSans-48\"/>\n      </g>\n     </g>\n    </g>\n    <g id=\"xtick_5\">\n     <g id=\"line2d_5\">\n      <g>\n       <use style=\"stroke:#000000;stroke-width:0.8;\" x=\"1064.267565\" xlink:href=\"#m8a5a56bb03\" y=\"305.6\"/>\n      </g>\n     </g>\n     <g id=\"text_5\">\n      <!-- 800 -->\n      <defs>\n       <path d=\"M 31.78125 34.625 \nQ 24.75 34.625 20.71875 30.859375 \nQ 16.703125 27.09375 16.703125 20.515625 \nQ 16.703125 13.921875 20.71875 10.15625 \nQ 24.75 6.390625 31.78125 6.390625 \nQ 38.8125 6.390625 42.859375 10.171875 \nQ 46.921875 13.96875 46.921875 20.515625 \nQ 46.921875 27.09375 42.890625 30.859375 \nQ 38.875 34.625 31.78125 34.625 \nz\nM 21.921875 38.8125 \nQ 15.578125 40.375 12.03125 44.71875 \nQ 8.5 49.078125 8.5 55.328125 \nQ 8.5 64.0625 14.71875 69.140625 \nQ 20.953125 74.21875 31.78125 74.21875 \nQ 42.671875 74.21875 48.875 69.140625 \nQ 55.078125 64.0625 55.078125 55.328125 \nQ 55.078125 49.078125 51.53125 44.71875 \nQ 48 40.375 41.703125 38.8125 \nQ 48.828125 37.15625 52.796875 32.3125 \nQ 56.78125 27.484375 56.78125 20.515625 \nQ 56.78125 9.90625 50.3125 4.234375 \nQ 43.84375 -1.421875 31.78125 -1.421875 \nQ 19.734375 -1.421875 13.25 4.234375 \nQ 6.78125 9.90625 6.78125 20.515625 \nQ 6.78125 27.484375 10.78125 32.3125 \nQ 14.796875 37.15625 21.921875 38.8125 \nz\nM 18.3125 54.390625 \nQ 18.3125 48.734375 21.84375 45.5625 \nQ 25.390625 42.390625 31.78125 42.390625 \nQ 38.140625 42.390625 41.71875 45.5625 \nQ 45.3125 48.734375 45.3125 54.390625 \nQ 45.3125 60.0625 41.71875 63.234375 \nQ 38.140625 66.40625 31.78125 66.40625 \nQ 25.390625 66.40625 21.84375 63.234375 \nQ 18.3125 60.0625 18.3125 54.390625 \nz\n\" id=\"DejaVuSans-56\"/>\n      </defs>\n      <g transform=\"translate(1054.723815 320.198437)scale(0.1 -0.1)\">\n       <use xlink:href=\"#DejaVuSans-56\"/>\n       <use x=\"63.623047\" xlink:href=\"#DejaVuSans-48\"/>\n       <use x=\"127.246094\" xlink:href=\"#DejaVuSans-48\"/>\n      </g>\n     </g>\n    </g>\n    <g id=\"xtick_6\">\n     <g id=\"line2d_6\">\n      <g>\n       <use style=\"stroke:#000000;stroke-width:0.8;\" x=\"1250.364357\" xlink:href=\"#m8a5a56bb03\" y=\"305.6\"/>\n      </g>\n     </g>\n     <g id=\"text_6\">\n      <!-- 1000 -->\n      <defs>\n       <path d=\"M 12.40625 8.296875 \nL 28.515625 8.296875 \nL 28.515625 63.921875 \nL 10.984375 60.40625 \nL 10.984375 69.390625 \nL 28.421875 72.90625 \nL 38.28125 72.90625 \nL 38.28125 8.296875 \nL 54.390625 8.296875 \nL 54.390625 0 \nL 12.40625 0 \nz\n\" id=\"DejaVuSans-49\"/>\n      </defs>\n      <g transform=\"translate(1237.639357 320.198437)scale(0.1 -0.1)\">\n       <use xlink:href=\"#DejaVuSans-49\"/>\n       <use x=\"63.623047\" xlink:href=\"#DejaVuSans-48\"/>\n       <use x=\"127.246094\" xlink:href=\"#DejaVuSans-48\"/>\n       <use x=\"190.869141\" xlink:href=\"#DejaVuSans-48\"/>\n      </g>\n     </g>\n    </g>\n    <g id=\"xtick_7\">\n     <g id=\"line2d_7\">\n      <g>\n       <use style=\"stroke:#000000;stroke-width:0.8;\" x=\"1436.461149\" xlink:href=\"#m8a5a56bb03\" y=\"305.6\"/>\n      </g>\n     </g>\n     <g id=\"text_7\">\n      <!-- 1200 -->\n      <g transform=\"translate(1423.736149 320.198437)scale(0.1 -0.1)\">\n       <use xlink:href=\"#DejaVuSans-49\"/>\n       <use x=\"63.623047\" xlink:href=\"#DejaVuSans-50\"/>\n       <use x=\"127.246094\" xlink:href=\"#DejaVuSans-48\"/>\n       <use x=\"190.869141\" xlink:href=\"#DejaVuSans-48\"/>\n      </g>\n     </g>\n    </g>\n    <g id=\"xtick_8\">\n     <g id=\"line2d_8\">\n      <g>\n       <use style=\"stroke:#000000;stroke-width:0.8;\" x=\"1622.55794\" xlink:href=\"#m8a5a56bb03\" y=\"305.6\"/>\n      </g>\n     </g>\n     <g id=\"text_8\">\n      <!-- 1400 -->\n      <g transform=\"translate(1609.83294 320.198437)scale(0.1 -0.1)\">\n       <use xlink:href=\"#DejaVuSans-49\"/>\n       <use x=\"63.623047\" xlink:href=\"#DejaVuSans-52\"/>\n       <use x=\"127.246094\" xlink:href=\"#DejaVuSans-48\"/>\n       <use x=\"190.869141\" xlink:href=\"#DejaVuSans-48\"/>\n      </g>\n     </g>\n    </g>\n    <g id=\"text_9\">\n     <!-- Time -->\n     <defs>\n      <path d=\"M -0.296875 72.90625 \nL 61.375 72.90625 \nL 61.375 64.59375 \nL 35.5 64.59375 \nL 35.5 0 \nL 25.59375 0 \nL 25.59375 64.59375 \nL -0.296875 64.59375 \nz\n\" id=\"DejaVuSans-84\"/>\n      <path d=\"M 9.421875 54.6875 \nL 18.40625 54.6875 \nL 18.40625 0 \nL 9.421875 0 \nz\nM 9.421875 75.984375 \nL 18.40625 75.984375 \nL 18.40625 64.59375 \nL 9.421875 64.59375 \nz\n\" id=\"DejaVuSans-105\"/>\n      <path d=\"M 52 44.1875 \nQ 55.375 50.25 60.0625 53.125 \nQ 64.75 56 71.09375 56 \nQ 79.640625 56 84.28125 50.015625 \nQ 88.921875 44.046875 88.921875 33.015625 \nL 88.921875 0 \nL 79.890625 0 \nL 79.890625 32.71875 \nQ 79.890625 40.578125 77.09375 44.375 \nQ 74.3125 48.1875 68.609375 48.1875 \nQ 61.625 48.1875 57.5625 43.546875 \nQ 53.515625 38.921875 53.515625 30.90625 \nL 53.515625 0 \nL 44.484375 0 \nL 44.484375 32.71875 \nQ 44.484375 40.625 41.703125 44.40625 \nQ 38.921875 48.1875 33.109375 48.1875 \nQ 26.21875 48.1875 22.15625 43.53125 \nQ 18.109375 38.875 18.109375 30.90625 \nL 18.109375 0 \nL 9.078125 0 \nL 9.078125 54.6875 \nL 18.109375 54.6875 \nL 18.109375 46.1875 \nQ 21.1875 51.21875 25.484375 53.609375 \nQ 29.78125 56 35.6875 56 \nQ 41.65625 56 45.828125 52.96875 \nQ 50 49.953125 52 44.1875 \nz\n\" id=\"DejaVuSans-109\"/>\n      <path d=\"M 56.203125 29.59375 \nL 56.203125 25.203125 \nL 14.890625 25.203125 \nQ 15.484375 15.921875 20.484375 11.0625 \nQ 25.484375 6.203125 34.421875 6.203125 \nQ 39.59375 6.203125 44.453125 7.46875 \nQ 49.3125 8.734375 54.109375 11.28125 \nL 54.109375 2.78125 \nQ 49.265625 0.734375 44.1875 -0.34375 \nQ 39.109375 -1.421875 33.890625 -1.421875 \nQ 20.796875 -1.421875 13.15625 6.1875 \nQ 5.515625 13.8125 5.515625 26.8125 \nQ 5.515625 40.234375 12.765625 48.109375 \nQ 20.015625 56 32.328125 56 \nQ 43.359375 56 49.78125 48.890625 \nQ 56.203125 41.796875 56.203125 29.59375 \nz\nM 47.21875 32.234375 \nQ 47.125 39.59375 43.09375 43.984375 \nQ 39.0625 48.390625 32.421875 48.390625 \nQ 24.90625 48.390625 20.390625 44.140625 \nQ 15.875 39.890625 15.1875 32.171875 \nz\n\" id=\"DejaVuSans-101\"/>\n     </defs>\n     <g transform=\"translate(992.503125 341.475)scale(0.2 -0.2)\">\n      <use xlink:href=\"#DejaVuSans-84\"/>\n      <use x=\"61.037109\" xlink:href=\"#DejaVuSans-105\"/>\n      <use x=\"88.820312\" xlink:href=\"#DejaVuSans-109\"/>\n      <use x=\"186.232422\" xlink:href=\"#DejaVuSans-101\"/>\n     </g>\n    </g>\n   </g>\n   <g id=\"matplotlib.axis_2\">\n    <g id=\"ytick_1\">\n     <g id=\"line2d_9\">\n      <defs>\n       <path d=\"M 0 0 \nL -3.5 0 \n\" id=\"m6b6a35aa19\" style=\"stroke:#000000;stroke-width:0.8;\"/>\n      </defs>\n      <g>\n       <use style=\"stroke:#000000;stroke-width:0.8;\" x=\"250.140625\" xlink:href=\"#m6b6a35aa19\" y=\"179.69305\"/>\n      </g>\n     </g>\n     <g id=\"text_10\">\n      <!-- ctx_lh_G_front_inf-Opercular -->\n      <defs>\n       <path d=\"M 48.78125 52.59375 \nL 48.78125 44.1875 \nQ 44.96875 46.296875 41.140625 47.34375 \nQ 37.3125 48.390625 33.40625 48.390625 \nQ 24.65625 48.390625 19.8125 42.84375 \nQ 14.984375 37.3125 14.984375 27.296875 \nQ 14.984375 17.28125 19.8125 11.734375 \nQ 24.65625 6.203125 33.40625 6.203125 \nQ 37.3125 6.203125 41.140625 7.25 \nQ 44.96875 8.296875 48.78125 10.40625 \nL 48.78125 2.09375 \nQ 45.015625 0.34375 40.984375 -0.53125 \nQ 36.96875 -1.421875 32.421875 -1.421875 \nQ 20.0625 -1.421875 12.78125 6.34375 \nQ 5.515625 14.109375 5.515625 27.296875 \nQ 5.515625 40.671875 12.859375 48.328125 \nQ 20.21875 56 33.015625 56 \nQ 37.15625 56 41.109375 55.140625 \nQ 45.0625 54.296875 48.78125 52.59375 \nz\n\" id=\"DejaVuSans-99\"/>\n       <path d=\"M 18.3125 70.21875 \nL 18.3125 54.6875 \nL 36.8125 54.6875 \nL 36.8125 47.703125 \nL 18.3125 47.703125 \nL 18.3125 18.015625 \nQ 18.3125 11.328125 20.140625 9.421875 \nQ 21.96875 7.515625 27.59375 7.515625 \nL 36.8125 7.515625 \nL 36.8125 0 \nL 27.59375 0 \nQ 17.1875 0 13.234375 3.875 \nQ 9.28125 7.765625 9.28125 18.015625 \nL 9.28125 47.703125 \nL 2.6875 47.703125 \nL 2.6875 54.6875 \nL 9.28125 54.6875 \nL 9.28125 70.21875 \nz\n\" id=\"DejaVuSans-116\"/>\n       <path d=\"M 54.890625 54.6875 \nL 35.109375 28.078125 \nL 55.90625 0 \nL 45.3125 0 \nL 29.390625 21.484375 \nL 13.484375 0 \nL 2.875 0 \nL 24.125 28.609375 \nL 4.6875 54.6875 \nL 15.28125 54.6875 \nL 29.78125 35.203125 \nL 44.28125 54.6875 \nz\n\" id=\"DejaVuSans-120\"/>\n       <path d=\"M 50.984375 -16.609375 \nL 50.984375 -23.578125 \nL -0.984375 -23.578125 \nL -0.984375 -16.609375 \nz\n\" id=\"DejaVuSans-95\"/>\n       <path d=\"M 9.421875 75.984375 \nL 18.40625 75.984375 \nL 18.40625 0 \nL 9.421875 0 \nz\n\" id=\"DejaVuSans-108\"/>\n       <path d=\"M 54.890625 33.015625 \nL 54.890625 0 \nL 45.90625 0 \nL 45.90625 32.71875 \nQ 45.90625 40.484375 42.875 44.328125 \nQ 39.84375 48.1875 33.796875 48.1875 \nQ 26.515625 48.1875 22.3125 43.546875 \nQ 18.109375 38.921875 18.109375 30.90625 \nL 18.109375 0 \nL 9.078125 0 \nL 9.078125 75.984375 \nL 18.109375 75.984375 \nL 18.109375 46.1875 \nQ 21.34375 51.125 25.703125 53.5625 \nQ 30.078125 56 35.796875 56 \nQ 45.21875 56 50.046875 50.171875 \nQ 54.890625 44.34375 54.890625 33.015625 \nz\n\" id=\"DejaVuSans-104\"/>\n       <path d=\"M 59.515625 10.40625 \nL 59.515625 29.984375 \nL 43.40625 29.984375 \nL 43.40625 38.09375 \nL 69.28125 38.09375 \nL 69.28125 6.78125 \nQ 63.578125 2.734375 56.6875 0.65625 \nQ 49.8125 -1.421875 42 -1.421875 \nQ 24.90625 -1.421875 15.25 8.5625 \nQ 5.609375 18.5625 5.609375 36.375 \nQ 5.609375 54.25 15.25 64.234375 \nQ 24.90625 74.21875 42 74.21875 \nQ 49.125 74.21875 55.546875 72.453125 \nQ 61.96875 70.703125 67.390625 67.28125 \nL 67.390625 56.78125 \nQ 61.921875 61.421875 55.765625 63.765625 \nQ 49.609375 66.109375 42.828125 66.109375 \nQ 29.4375 66.109375 22.71875 58.640625 \nQ 16.015625 51.171875 16.015625 36.375 \nQ 16.015625 21.625 22.71875 14.15625 \nQ 29.4375 6.6875 42.828125 6.6875 \nQ 48.046875 6.6875 52.140625 7.59375 \nQ 56.25 8.5 59.515625 10.40625 \nz\n\" id=\"DejaVuSans-71\"/>\n       <path d=\"M 37.109375 75.984375 \nL 37.109375 68.5 \nL 28.515625 68.5 \nQ 23.6875 68.5 21.796875 66.546875 \nQ 19.921875 64.59375 19.921875 59.515625 \nL 19.921875 54.6875 \nL 34.71875 54.6875 \nL 34.71875 47.703125 \nL 19.921875 47.703125 \nL 19.921875 0 \nL 10.890625 0 \nL 10.890625 47.703125 \nL 2.296875 47.703125 \nL 2.296875 54.6875 \nL 10.890625 54.6875 \nL 10.890625 58.5 \nQ 10.890625 67.625 15.140625 71.796875 \nQ 19.390625 75.984375 28.609375 75.984375 \nz\n\" id=\"DejaVuSans-102\"/>\n       <path d=\"M 41.109375 46.296875 \nQ 39.59375 47.171875 37.8125 47.578125 \nQ 36.03125 48 33.890625 48 \nQ 26.265625 48 22.1875 43.046875 \nQ 18.109375 38.09375 18.109375 28.8125 \nL 18.109375 0 \nL 9.078125 0 \nL 9.078125 54.6875 \nL 18.109375 54.6875 \nL 18.109375 46.1875 \nQ 20.953125 51.171875 25.484375 53.578125 \nQ 30.03125 56 36.53125 56 \nQ 37.453125 56 38.578125 55.875 \nQ 39.703125 55.765625 41.0625 55.515625 \nz\n\" id=\"DejaVuSans-114\"/>\n       <path d=\"M 30.609375 48.390625 \nQ 23.390625 48.390625 19.1875 42.75 \nQ 14.984375 37.109375 14.984375 27.296875 \nQ 14.984375 17.484375 19.15625 11.84375 \nQ 23.34375 6.203125 30.609375 6.203125 \nQ 37.796875 6.203125 41.984375 11.859375 \nQ 46.1875 17.53125 46.1875 27.296875 \nQ 46.1875 37.015625 41.984375 42.703125 \nQ 37.796875 48.390625 30.609375 48.390625 \nz\nM 30.609375 56 \nQ 42.328125 56 49.015625 48.375 \nQ 55.71875 40.765625 55.71875 27.296875 \nQ 55.71875 13.875 49.015625 6.21875 \nQ 42.328125 -1.421875 30.609375 -1.421875 \nQ 18.84375 -1.421875 12.171875 6.21875 \nQ 5.515625 13.875 5.515625 27.296875 \nQ 5.515625 40.765625 12.171875 48.375 \nQ 18.84375 56 30.609375 56 \nz\n\" id=\"DejaVuSans-111\"/>\n       <path d=\"M 54.890625 33.015625 \nL 54.890625 0 \nL 45.90625 0 \nL 45.90625 32.71875 \nQ 45.90625 40.484375 42.875 44.328125 \nQ 39.84375 48.1875 33.796875 48.1875 \nQ 26.515625 48.1875 22.3125 43.546875 \nQ 18.109375 38.921875 18.109375 30.90625 \nL 18.109375 0 \nL 9.078125 0 \nL 9.078125 54.6875 \nL 18.109375 54.6875 \nL 18.109375 46.1875 \nQ 21.34375 51.125 25.703125 53.5625 \nQ 30.078125 56 35.796875 56 \nQ 45.21875 56 50.046875 50.171875 \nQ 54.890625 44.34375 54.890625 33.015625 \nz\n\" id=\"DejaVuSans-110\"/>\n       <path d=\"M 4.890625 31.390625 \nL 31.203125 31.390625 \nL 31.203125 23.390625 \nL 4.890625 23.390625 \nz\n\" id=\"DejaVuSans-45\"/>\n       <path d=\"M 39.40625 66.21875 \nQ 28.65625 66.21875 22.328125 58.203125 \nQ 16.015625 50.203125 16.015625 36.375 \nQ 16.015625 22.609375 22.328125 14.59375 \nQ 28.65625 6.59375 39.40625 6.59375 \nQ 50.140625 6.59375 56.421875 14.59375 \nQ 62.703125 22.609375 62.703125 36.375 \nQ 62.703125 50.203125 56.421875 58.203125 \nQ 50.140625 66.21875 39.40625 66.21875 \nz\nM 39.40625 74.21875 \nQ 54.734375 74.21875 63.90625 63.9375 \nQ 73.09375 53.65625 73.09375 36.375 \nQ 73.09375 19.140625 63.90625 8.859375 \nQ 54.734375 -1.421875 39.40625 -1.421875 \nQ 24.03125 -1.421875 14.8125 8.828125 \nQ 5.609375 19.09375 5.609375 36.375 \nQ 5.609375 53.65625 14.8125 63.9375 \nQ 24.03125 74.21875 39.40625 74.21875 \nz\n\" id=\"DejaVuSans-79\"/>\n       <path d=\"M 18.109375 8.203125 \nL 18.109375 -20.796875 \nL 9.078125 -20.796875 \nL 9.078125 54.6875 \nL 18.109375 54.6875 \nL 18.109375 46.390625 \nQ 20.953125 51.265625 25.265625 53.625 \nQ 29.59375 56 35.59375 56 \nQ 45.5625 56 51.78125 48.09375 \nQ 58.015625 40.1875 58.015625 27.296875 \nQ 58.015625 14.40625 51.78125 6.484375 \nQ 45.5625 -1.421875 35.59375 -1.421875 \nQ 29.59375 -1.421875 25.265625 0.953125 \nQ 20.953125 3.328125 18.109375 8.203125 \nz\nM 48.6875 27.296875 \nQ 48.6875 37.203125 44.609375 42.84375 \nQ 40.53125 48.484375 33.40625 48.484375 \nQ 26.265625 48.484375 22.1875 42.84375 \nQ 18.109375 37.203125 18.109375 27.296875 \nQ 18.109375 17.390625 22.1875 11.75 \nQ 26.265625 6.109375 33.40625 6.109375 \nQ 40.53125 6.109375 44.609375 11.75 \nQ 48.6875 17.390625 48.6875 27.296875 \nz\n\" id=\"DejaVuSans-112\"/>\n       <path d=\"M 8.5 21.578125 \nL 8.5 54.6875 \nL 17.484375 54.6875 \nL 17.484375 21.921875 \nQ 17.484375 14.15625 20.5 10.265625 \nQ 23.53125 6.390625 29.59375 6.390625 \nQ 36.859375 6.390625 41.078125 11.03125 \nQ 45.3125 15.671875 45.3125 23.6875 \nL 45.3125 54.6875 \nL 54.296875 54.6875 \nL 54.296875 0 \nL 45.3125 0 \nL 45.3125 8.40625 \nQ 42.046875 3.421875 37.71875 1 \nQ 33.40625 -1.421875 27.6875 -1.421875 \nQ 18.265625 -1.421875 13.375 4.4375 \nQ 8.5 10.296875 8.5 21.578125 \nz\nM 31.109375 56 \nz\n\" id=\"DejaVuSans-117\"/>\n       <path d=\"M 34.28125 27.484375 \nQ 23.390625 27.484375 19.1875 25 \nQ 14.984375 22.515625 14.984375 16.5 \nQ 14.984375 11.71875 18.140625 8.90625 \nQ 21.296875 6.109375 26.703125 6.109375 \nQ 34.1875 6.109375 38.703125 11.40625 \nQ 43.21875 16.703125 43.21875 25.484375 \nL 43.21875 27.484375 \nz\nM 52.203125 31.203125 \nL 52.203125 0 \nL 43.21875 0 \nL 43.21875 8.296875 \nQ 40.140625 3.328125 35.546875 0.953125 \nQ 30.953125 -1.421875 24.3125 -1.421875 \nQ 15.921875 -1.421875 10.953125 3.296875 \nQ 6 8.015625 6 15.921875 \nQ 6 25.140625 12.171875 29.828125 \nQ 18.359375 34.515625 30.609375 34.515625 \nL 43.21875 34.515625 \nL 43.21875 35.40625 \nQ 43.21875 41.609375 39.140625 45 \nQ 35.0625 48.390625 27.6875 48.390625 \nQ 23 48.390625 18.546875 47.265625 \nQ 14.109375 46.140625 10.015625 43.890625 \nL 10.015625 52.203125 \nQ 14.9375 54.109375 19.578125 55.046875 \nQ 24.21875 56 28.609375 56 \nQ 40.484375 56 46.34375 49.84375 \nQ 52.203125 43.703125 52.203125 31.203125 \nz\n\" id=\"DejaVuSans-97\"/>\n      </defs>\n      <g transform=\"translate(30.471094 185.391878)scale(0.15 -0.15)\">\n       <use xlink:href=\"#DejaVuSans-99\"/>\n       <use x=\"54.980469\" xlink:href=\"#DejaVuSans-116\"/>\n       <use x=\"94.189453\" xlink:href=\"#DejaVuSans-120\"/>\n       <use x=\"153.369141\" xlink:href=\"#DejaVuSans-95\"/>\n       <use x=\"203.369141\" xlink:href=\"#DejaVuSans-108\"/>\n       <use x=\"231.152344\" xlink:href=\"#DejaVuSans-104\"/>\n       <use x=\"294.53125\" xlink:href=\"#DejaVuSans-95\"/>\n       <use x=\"344.53125\" xlink:href=\"#DejaVuSans-71\"/>\n       <use x=\"422.021484\" xlink:href=\"#DejaVuSans-95\"/>\n       <use x=\"472.021484\" xlink:href=\"#DejaVuSans-102\"/>\n       <use x=\"507.226562\" xlink:href=\"#DejaVuSans-114\"/>\n       <use x=\"548.308594\" xlink:href=\"#DejaVuSans-111\"/>\n       <use x=\"609.490234\" xlink:href=\"#DejaVuSans-110\"/>\n       <use x=\"672.869141\" xlink:href=\"#DejaVuSans-116\"/>\n       <use x=\"712.078125\" xlink:href=\"#DejaVuSans-95\"/>\n       <use x=\"762.078125\" xlink:href=\"#DejaVuSans-105\"/>\n       <use x=\"789.861328\" xlink:href=\"#DejaVuSans-110\"/>\n       <use x=\"853.240234\" xlink:href=\"#DejaVuSans-102\"/>\n       <use x=\"888.367188\" xlink:href=\"#DejaVuSans-45\"/>\n       <use x=\"924.482422\" xlink:href=\"#DejaVuSans-79\"/>\n       <use x=\"1003.193359\" xlink:href=\"#DejaVuSans-112\"/>\n       <use x=\"1066.669922\" xlink:href=\"#DejaVuSans-101\"/>\n       <use x=\"1128.193359\" xlink:href=\"#DejaVuSans-114\"/>\n       <use x=\"1169.275391\" xlink:href=\"#DejaVuSans-99\"/>\n       <use x=\"1224.255859\" xlink:href=\"#DejaVuSans-117\"/>\n       <use x=\"1287.634766\" xlink:href=\"#DejaVuSans-108\"/>\n       <use x=\"1315.417969\" xlink:href=\"#DejaVuSans-97\"/>\n       <use x=\"1376.697266\" xlink:href=\"#DejaVuSans-114\"/>\n      </g>\n     </g>\n    </g>\n    <g id=\"ytick_2\">\n     <g id=\"line2d_10\">\n      <g>\n       <use style=\"stroke:#000000;stroke-width:0.8;\" x=\"250.140625\" xlink:href=\"#m6b6a35aa19\" y=\"132.854648\"/>\n      </g>\n     </g>\n     <g id=\"text_11\">\n      <!-- ctx_lh_G_insular_short -->\n      <defs>\n       <path d=\"M 44.28125 53.078125 \nL 44.28125 44.578125 \nQ 40.484375 46.53125 36.375 47.5 \nQ 32.28125 48.484375 27.875 48.484375 \nQ 21.1875 48.484375 17.84375 46.4375 \nQ 14.5 44.390625 14.5 40.28125 \nQ 14.5 37.15625 16.890625 35.375 \nQ 19.28125 33.59375 26.515625 31.984375 \nL 29.59375 31.296875 \nQ 39.15625 29.25 43.1875 25.515625 \nQ 47.21875 21.78125 47.21875 15.09375 \nQ 47.21875 7.46875 41.1875 3.015625 \nQ 35.15625 -1.421875 24.609375 -1.421875 \nQ 20.21875 -1.421875 15.453125 -0.5625 \nQ 10.6875 0.296875 5.421875 2 \nL 5.421875 11.28125 \nQ 10.40625 8.6875 15.234375 7.390625 \nQ 20.0625 6.109375 24.8125 6.109375 \nQ 31.15625 6.109375 34.5625 8.28125 \nQ 37.984375 10.453125 37.984375 14.40625 \nQ 37.984375 18.0625 35.515625 20.015625 \nQ 33.0625 21.96875 24.703125 23.78125 \nL 21.578125 24.515625 \nQ 13.234375 26.265625 9.515625 29.90625 \nQ 5.8125 33.546875 5.8125 39.890625 \nQ 5.8125 47.609375 11.28125 51.796875 \nQ 16.75 56 26.8125 56 \nQ 31.78125 56 36.171875 55.265625 \nQ 40.578125 54.546875 44.28125 53.078125 \nz\n\" id=\"DejaVuSans-115\"/>\n      </defs>\n      <g transform=\"translate(75.773437 138.553477)scale(0.15 -0.15)\">\n       <use xlink:href=\"#DejaVuSans-99\"/>\n       <use x=\"54.980469\" xlink:href=\"#DejaVuSans-116\"/>\n       <use x=\"94.189453\" xlink:href=\"#DejaVuSans-120\"/>\n       <use x=\"153.369141\" xlink:href=\"#DejaVuSans-95\"/>\n       <use x=\"203.369141\" xlink:href=\"#DejaVuSans-108\"/>\n       <use x=\"231.152344\" xlink:href=\"#DejaVuSans-104\"/>\n       <use x=\"294.53125\" xlink:href=\"#DejaVuSans-95\"/>\n       <use x=\"344.53125\" xlink:href=\"#DejaVuSans-71\"/>\n       <use x=\"422.021484\" xlink:href=\"#DejaVuSans-95\"/>\n       <use x=\"472.021484\" xlink:href=\"#DejaVuSans-105\"/>\n       <use x=\"499.804688\" xlink:href=\"#DejaVuSans-110\"/>\n       <use x=\"563.183594\" xlink:href=\"#DejaVuSans-115\"/>\n       <use x=\"615.283203\" xlink:href=\"#DejaVuSans-117\"/>\n       <use x=\"678.662109\" xlink:href=\"#DejaVuSans-108\"/>\n       <use x=\"706.445312\" xlink:href=\"#DejaVuSans-97\"/>\n       <use x=\"767.724609\" xlink:href=\"#DejaVuSans-114\"/>\n       <use x=\"808.837891\" xlink:href=\"#DejaVuSans-95\"/>\n       <use x=\"858.837891\" xlink:href=\"#DejaVuSans-115\"/>\n       <use x=\"910.9375\" xlink:href=\"#DejaVuSans-104\"/>\n       <use x=\"974.316406\" xlink:href=\"#DejaVuSans-111\"/>\n       <use x=\"1035.498047\" xlink:href=\"#DejaVuSans-114\"/>\n       <use x=\"1076.611328\" xlink:href=\"#DejaVuSans-116\"/>\n      </g>\n     </g>\n    </g>\n    <g id=\"ytick_3\">\n     <g id=\"line2d_11\">\n      <g>\n       <use style=\"stroke:#000000;stroke-width:0.8;\" x=\"250.140625\" xlink:href=\"#m6b6a35aa19\" y=\"86.96235\"/>\n      </g>\n     </g>\n     <g id=\"text_12\">\n      <!-- ctx_lh_G_oc-temp_med-Parahip -->\n      <defs>\n       <path d=\"M 45.40625 46.390625 \nL 45.40625 75.984375 \nL 54.390625 75.984375 \nL 54.390625 0 \nL 45.40625 0 \nL 45.40625 8.203125 \nQ 42.578125 3.328125 38.25 0.953125 \nQ 33.9375 -1.421875 27.875 -1.421875 \nQ 17.96875 -1.421875 11.734375 6.484375 \nQ 5.515625 14.40625 5.515625 27.296875 \nQ 5.515625 40.1875 11.734375 48.09375 \nQ 17.96875 56 27.875 56 \nQ 33.9375 56 38.25 53.625 \nQ 42.578125 51.265625 45.40625 46.390625 \nz\nM 14.796875 27.296875 \nQ 14.796875 17.390625 18.875 11.75 \nQ 22.953125 6.109375 30.078125 6.109375 \nQ 37.203125 6.109375 41.296875 11.75 \nQ 45.40625 17.390625 45.40625 27.296875 \nQ 45.40625 37.203125 41.296875 42.84375 \nQ 37.203125 48.484375 30.078125 48.484375 \nQ 22.953125 48.484375 18.875 42.84375 \nQ 14.796875 37.203125 14.796875 27.296875 \nz\n\" id=\"DejaVuSans-100\"/>\n       <path d=\"M 19.671875 64.796875 \nL 19.671875 37.40625 \nL 32.078125 37.40625 \nQ 38.96875 37.40625 42.71875 40.96875 \nQ 46.484375 44.53125 46.484375 51.125 \nQ 46.484375 57.671875 42.71875 61.234375 \nQ 38.96875 64.796875 32.078125 64.796875 \nz\nM 9.8125 72.90625 \nL 32.078125 72.90625 \nQ 44.34375 72.90625 50.609375 67.359375 \nQ 56.890625 61.8125 56.890625 51.125 \nQ 56.890625 40.328125 50.609375 34.8125 \nQ 44.34375 29.296875 32.078125 29.296875 \nL 19.671875 29.296875 \nL 19.671875 0 \nL 9.8125 0 \nz\n\" id=\"DejaVuSans-80\"/>\n      </defs>\n      <g transform=\"translate(7.2 92.661178)scale(0.15 -0.15)\">\n       <use xlink:href=\"#DejaVuSans-99\"/>\n       <use x=\"54.980469\" xlink:href=\"#DejaVuSans-116\"/>\n       <use x=\"94.189453\" xlink:href=\"#DejaVuSans-120\"/>\n       <use x=\"153.369141\" xlink:href=\"#DejaVuSans-95\"/>\n       <use x=\"203.369141\" xlink:href=\"#DejaVuSans-108\"/>\n       <use x=\"231.152344\" xlink:href=\"#DejaVuSans-104\"/>\n       <use x=\"294.53125\" xlink:href=\"#DejaVuSans-95\"/>\n       <use x=\"344.53125\" xlink:href=\"#DejaVuSans-71\"/>\n       <use x=\"422.021484\" xlink:href=\"#DejaVuSans-95\"/>\n       <use x=\"472.021484\" xlink:href=\"#DejaVuSans-111\"/>\n       <use x=\"533.203125\" xlink:href=\"#DejaVuSans-99\"/>\n       <use x=\"588.183594\" xlink:href=\"#DejaVuSans-45\"/>\n       <use x=\"624.267578\" xlink:href=\"#DejaVuSans-116\"/>\n       <use x=\"663.476562\" xlink:href=\"#DejaVuSans-101\"/>\n       <use x=\"725\" xlink:href=\"#DejaVuSans-109\"/>\n       <use x=\"822.412109\" xlink:href=\"#DejaVuSans-112\"/>\n       <use x=\"885.888672\" xlink:href=\"#DejaVuSans-95\"/>\n       <use x=\"935.888672\" xlink:href=\"#DejaVuSans-109\"/>\n       <use x=\"1033.300781\" xlink:href=\"#DejaVuSans-101\"/>\n       <use x=\"1094.824219\" xlink:href=\"#DejaVuSans-100\"/>\n       <use x=\"1158.300781\" xlink:href=\"#DejaVuSans-45\"/>\n       <use x=\"1194.384766\" xlink:href=\"#DejaVuSans-80\"/>\n       <use x=\"1254.625\" xlink:href=\"#DejaVuSans-97\"/>\n       <use x=\"1315.904297\" xlink:href=\"#DejaVuSans-114\"/>\n       <use x=\"1357.017578\" xlink:href=\"#DejaVuSans-97\"/>\n       <use x=\"1418.296875\" xlink:href=\"#DejaVuSans-104\"/>\n       <use x=\"1481.675781\" xlink:href=\"#DejaVuSans-105\"/>\n       <use x=\"1509.458984\" xlink:href=\"#DejaVuSans-112\"/>\n      </g>\n     </g>\n    </g>\n    <g id=\"ytick_4\">\n     <g id=\"line2d_12\">\n      <g>\n       <use style=\"stroke:#000000;stroke-width:0.8;\" x=\"250.140625\" xlink:href=\"#m6b6a35aa19\" y=\"268.629662\"/>\n      </g>\n     </g>\n     <g id=\"text_13\">\n      <!-- ctx_lh_S_circular_insula_sup -->\n      <defs>\n       <path d=\"M 53.515625 70.515625 \nL 53.515625 60.890625 \nQ 47.90625 63.578125 42.921875 64.890625 \nQ 37.9375 66.21875 33.296875 66.21875 \nQ 25.25 66.21875 20.875 63.09375 \nQ 16.5 59.96875 16.5 54.203125 \nQ 16.5 49.359375 19.40625 46.890625 \nQ 22.3125 44.4375 30.421875 42.921875 \nL 36.375 41.703125 \nQ 47.40625 39.59375 52.65625 34.296875 \nQ 57.90625 29 57.90625 20.125 \nQ 57.90625 9.515625 50.796875 4.046875 \nQ 43.703125 -1.421875 29.984375 -1.421875 \nQ 24.8125 -1.421875 18.96875 -0.25 \nQ 13.140625 0.921875 6.890625 3.21875 \nL 6.890625 13.375 \nQ 12.890625 10.015625 18.65625 8.296875 \nQ 24.421875 6.59375 29.984375 6.59375 \nQ 38.421875 6.59375 43.015625 9.90625 \nQ 47.609375 13.234375 47.609375 19.390625 \nQ 47.609375 24.75 44.3125 27.78125 \nQ 41.015625 30.8125 33.5 32.328125 \nL 27.484375 33.5 \nQ 16.453125 35.6875 11.515625 40.375 \nQ 6.59375 45.0625 6.59375 53.421875 \nQ 6.59375 63.09375 13.40625 68.65625 \nQ 20.21875 74.21875 32.171875 74.21875 \nQ 37.3125 74.21875 42.625 73.28125 \nQ 47.953125 72.359375 53.515625 70.515625 \nz\n\" id=\"DejaVuSans-83\"/>\n      </defs>\n      <g transform=\"translate(32.385937 274.32849)scale(0.15 -0.15)\">\n       <use xlink:href=\"#DejaVuSans-99\"/>\n       <use x=\"54.980469\" xlink:href=\"#DejaVuSans-116\"/>\n       <use x=\"94.189453\" xlink:href=\"#DejaVuSans-120\"/>\n       <use x=\"153.369141\" xlink:href=\"#DejaVuSans-95\"/>\n       <use x=\"203.369141\" xlink:href=\"#DejaVuSans-108\"/>\n       <use x=\"231.152344\" xlink:href=\"#DejaVuSans-104\"/>\n       <use x=\"294.53125\" xlink:href=\"#DejaVuSans-95\"/>\n       <use x=\"344.53125\" xlink:href=\"#DejaVuSans-83\"/>\n       <use x=\"408.007812\" xlink:href=\"#DejaVuSans-95\"/>\n       <use x=\"458.007812\" xlink:href=\"#DejaVuSans-99\"/>\n       <use x=\"512.988281\" xlink:href=\"#DejaVuSans-105\"/>\n       <use x=\"540.771484\" xlink:href=\"#DejaVuSans-114\"/>\n       <use x=\"581.853516\" xlink:href=\"#DejaVuSans-99\"/>\n       <use x=\"636.833984\" xlink:href=\"#DejaVuSans-117\"/>\n       <use x=\"700.212891\" xlink:href=\"#DejaVuSans-108\"/>\n       <use x=\"727.996094\" xlink:href=\"#DejaVuSans-97\"/>\n       <use x=\"789.275391\" xlink:href=\"#DejaVuSans-114\"/>\n       <use x=\"830.388672\" xlink:href=\"#DejaVuSans-95\"/>\n       <use x=\"880.388672\" xlink:href=\"#DejaVuSans-105\"/>\n       <use x=\"908.171875\" xlink:href=\"#DejaVuSans-110\"/>\n       <use x=\"971.550781\" xlink:href=\"#DejaVuSans-115\"/>\n       <use x=\"1023.650391\" xlink:href=\"#DejaVuSans-117\"/>\n       <use x=\"1087.029297\" xlink:href=\"#DejaVuSans-108\"/>\n       <use x=\"1114.8125\" xlink:href=\"#DejaVuSans-97\"/>\n       <use x=\"1176.091797\" xlink:href=\"#DejaVuSans-95\"/>\n       <use x=\"1226.091797\" xlink:href=\"#DejaVuSans-115\"/>\n       <use x=\"1278.191406\" xlink:href=\"#DejaVuSans-117\"/>\n       <use x=\"1341.570312\" xlink:href=\"#DejaVuSans-112\"/>\n      </g>\n     </g>\n    </g>\n    <g id=\"ytick_5\">\n     <g id=\"line2d_13\">\n      <g>\n       <use style=\"stroke:#000000;stroke-width:0.8;\" x=\"250.140625\" xlink:href=\"#m6b6a35aa19\" y=\"42.028913\"/>\n      </g>\n     </g>\n     <g id=\"text_14\">\n      <!-- Left-Thalamus-Proper -->\n      <defs>\n       <path d=\"M 9.8125 72.90625 \nL 19.671875 72.90625 \nL 19.671875 8.296875 \nL 55.171875 8.296875 \nL 55.171875 0 \nL 9.8125 0 \nz\n\" id=\"DejaVuSans-76\"/>\n      </defs>\n      <g transform=\"translate(81.142969 47.727741)scale(0.15 -0.15)\">\n       <use xlink:href=\"#DejaVuSans-76\"/>\n       <use x=\"55.697266\" xlink:href=\"#DejaVuSans-101\"/>\n       <use x=\"117.220703\" xlink:href=\"#DejaVuSans-102\"/>\n       <use x=\"152.410156\" xlink:href=\"#DejaVuSans-116\"/>\n       <use x=\"191.619141\" xlink:href=\"#DejaVuSans-45\"/>\n       <use x=\"227.5625\" xlink:href=\"#DejaVuSans-84\"/>\n       <use x=\"288.646484\" xlink:href=\"#DejaVuSans-104\"/>\n       <use x=\"352.025391\" xlink:href=\"#DejaVuSans-97\"/>\n       <use x=\"413.304688\" xlink:href=\"#DejaVuSans-108\"/>\n       <use x=\"441.087891\" xlink:href=\"#DejaVuSans-97\"/>\n       <use x=\"502.367188\" xlink:href=\"#DejaVuSans-109\"/>\n       <use x=\"599.779297\" xlink:href=\"#DejaVuSans-117\"/>\n       <use x=\"663.158203\" xlink:href=\"#DejaVuSans-115\"/>\n       <use x=\"715.257812\" xlink:href=\"#DejaVuSans-45\"/>\n       <use x=\"751.341797\" xlink:href=\"#DejaVuSans-80\"/>\n       <use x=\"811.628906\" xlink:href=\"#DejaVuSans-114\"/>\n       <use x=\"852.710938\" xlink:href=\"#DejaVuSans-111\"/>\n       <use x=\"913.892578\" xlink:href=\"#DejaVuSans-112\"/>\n       <use x=\"977.369141\" xlink:href=\"#DejaVuSans-101\"/>\n       <use x=\"1038.892578\" xlink:href=\"#DejaVuSans-114\"/>\n      </g>\n     </g>\n    </g>\n    <g id=\"ytick_6\">\n     <g id=\"line2d_14\">\n      <g>\n       <use style=\"stroke:#000000;stroke-width:0.8;\" x=\"250.140625\" xlink:href=\"#m6b6a35aa19\" y=\"222.842223\"/>\n      </g>\n     </g>\n     <g id=\"text_15\">\n      <!-- Left-Hippocampus -->\n      <defs>\n       <path d=\"M 9.8125 72.90625 \nL 19.671875 72.90625 \nL 19.671875 43.015625 \nL 55.515625 43.015625 \nL 55.515625 72.90625 \nL 65.375 72.90625 \nL 65.375 0 \nL 55.515625 0 \nL 55.515625 34.71875 \nL 19.671875 34.71875 \nL 19.671875 0 \nL 9.8125 0 \nz\n\" id=\"DejaVuSans-72\"/>\n      </defs>\n      <g transform=\"translate(106.420312 228.541051)scale(0.15 -0.15)\">\n       <use xlink:href=\"#DejaVuSans-76\"/>\n       <use x=\"55.697266\" xlink:href=\"#DejaVuSans-101\"/>\n       <use x=\"117.220703\" xlink:href=\"#DejaVuSans-102\"/>\n       <use x=\"152.410156\" xlink:href=\"#DejaVuSans-116\"/>\n       <use x=\"191.619141\" xlink:href=\"#DejaVuSans-45\"/>\n       <use x=\"227.703125\" xlink:href=\"#DejaVuSans-72\"/>\n       <use x=\"302.898438\" xlink:href=\"#DejaVuSans-105\"/>\n       <use x=\"330.681641\" xlink:href=\"#DejaVuSans-112\"/>\n       <use x=\"394.158203\" xlink:href=\"#DejaVuSans-112\"/>\n       <use x=\"457.634766\" xlink:href=\"#DejaVuSans-111\"/>\n       <use x=\"518.816406\" xlink:href=\"#DejaVuSans-99\"/>\n       <use x=\"573.796875\" xlink:href=\"#DejaVuSans-97\"/>\n       <use x=\"635.076172\" xlink:href=\"#DejaVuSans-109\"/>\n       <use x=\"732.488281\" xlink:href=\"#DejaVuSans-112\"/>\n       <use x=\"795.964844\" xlink:href=\"#DejaVuSans-117\"/>\n       <use x=\"859.34375\" xlink:href=\"#DejaVuSans-115\"/>\n      </g>\n     </g>\n    </g>\n   </g>\n   <g id=\"line2d_15\">\n    <path clip-path=\"url(#p0b136d8ffd)\" d=\"M 319.880398 292.036002 \nL 1714.675852 292.030617 \nL 1714.675852 292.030617 \n\" style=\"fill:none;stroke:#000000;stroke-linecap:square;stroke-opacity:0.5;stroke-width:1.5;\"/>\n   </g>\n   <g id=\"line2d_16\">\n    <path clip-path=\"url(#p0b136d8ffd)\" d=\"M 319.880398 292.036079 \nL 1714.675852 292.032436 \nL 1714.675852 292.032436 \n\" style=\"fill:none;stroke:#000000;stroke-linecap:square;stroke-opacity:0.5;stroke-width:1.5;\"/>\n   </g>\n   <g id=\"line2d_17\">\n    <path clip-path=\"url(#p0b136d8ffd)\" d=\"M 319.880398 292.035685 \nL 1714.675852 292.025728 \nL 1714.675852 292.025728 \n\" style=\"fill:none;stroke:#000000;stroke-linecap:square;stroke-opacity:0.5;stroke-width:1.5;\"/>\n   </g>\n   <g id=\"line2d_18\">\n    <path clip-path=\"url(#p0b136d8ffd)\" d=\"M 319.880398 292.035695 \nL 1714.675852 292.028399 \nL 1714.675852 292.028399 \n\" style=\"fill:none;stroke:#000000;stroke-linecap:square;stroke-opacity:0.5;stroke-width:1.5;\"/>\n   </g>\n   <g id=\"line2d_19\">\n    <path clip-path=\"url(#p0b136d8ffd)\" d=\"M 319.880398 292.035902 \nL 1714.675852 292.029098 \nL 1714.675852 292.029098 \n\" style=\"fill:none;stroke:#000000;stroke-linecap:square;stroke-opacity:0.5;stroke-width:1.5;\"/>\n   </g>\n   <g id=\"line2d_20\">\n    <path clip-path=\"url(#p0b136d8ffd)\" d=\"M 319.880398 292.036276 \nL 1714.675852 292.035019 \nL 1714.675852 292.035019 \n\" style=\"fill:none;stroke:#000000;stroke-linecap:square;stroke-opacity:0.5;stroke-width:1.5;\"/>\n   </g>\n   <g id=\"line2d_21\">\n    <path clip-path=\"url(#p0b136d8ffd)\" d=\"M 319.880398 292.036339 \nL 1714.675852 292.035993 \nL 1714.675852 292.035993 \n\" style=\"fill:none;stroke:#000000;stroke-linecap:square;stroke-opacity:0.5;stroke-width:1.5;\"/>\n   </g>\n   <g id=\"line2d_22\">\n    <path clip-path=\"url(#p0b136d8ffd)\" d=\"M 319.880398 292.036348 \nL 1714.675852 292.036126 \nL 1714.675852 292.036126 \n\" style=\"fill:none;stroke:#000000;stroke-linecap:square;stroke-opacity:0.5;stroke-width:1.5;\"/>\n   </g>\n   <g id=\"line2d_23\">\n    <path clip-path=\"url(#p0b136d8ffd)\" d=\"M 319.880398 292.036305 \nL 1714.675852 292.035684 \nL 1714.675852 292.035684 \n\" style=\"fill:none;stroke:#000000;stroke-linecap:square;stroke-opacity:0.5;stroke-width:1.5;\"/>\n   </g>\n   <g id=\"line2d_24\">\n    <path clip-path=\"url(#p0b136d8ffd)\" d=\"M 319.880398 292.03618 \nL 1714.675852 292.034279 \nL 1714.675852 292.034279 \n\" style=\"fill:none;stroke:#000000;stroke-linecap:square;stroke-opacity:0.5;stroke-width:1.5;\"/>\n   </g>\n   <g id=\"line2d_25\">\n    <path clip-path=\"url(#p0b136d8ffd)\" d=\"M 319.880398 292.036036 \nL 1714.675852 292.032467 \nL 1714.675852 292.032467 \n\" style=\"fill:none;stroke:#000000;stroke-linecap:square;stroke-opacity:0.5;stroke-width:1.5;\"/>\n   </g>\n   <g id=\"line2d_26\">\n    <path clip-path=\"url(#p0b136d8ffd)\" d=\"M 319.880398 185.268964 \nL 621.3572 184.406967 \nL 679.047206 184.087957 \nL 731.154308 183.31946 \nL 793.496733 182.133093 \nL 826.063671 181.26035 \nL 846.534319 180.47389 \nL 857.700126 179.845444 \nL 865.143998 179.225904 \nL 869.796417 178.659027 \nL 873.518353 177.990393 \nL 876.309805 177.216067 \nL 878.170773 176.41597 \nL 879.101257 175.842627 \nL 880.031741 175.049639 \nL 880.962225 173.821651 \nL 881.892709 171.317321 \nL 882.823193 164.3842 \nL 884.684161 174.355601 \nL 885.614645 172.945188 \nL 886.545129 169.049572 \nL 887.475613 163.716988 \nL 888.406097 172.240698 \nL 889.336581 173.447886 \nL 890.267065 171.15823 \nL 891.197549 164.690222 \nL 892.128033 167.382895 \nL 893.058516 173.025719 \nL 893.989 171.337033 \nL 894.919484 165.905833 \nL 895.849968 164.275466 \nL 896.780452 170.465062 \nL 897.710936 168.168559 \nL 898.64142 161.094009 \nL 899.571904 159.05705 \nL 900.502388 160.955456 \nL 901.432872 162.018887 \nL 902.363356 167.194943 \nL 903.29384 171.501003 \nL 904.224324 172.061087 \nL 905.154808 167.254091 \nL 906.085292 175.479744 \nL 907.015776 178.025037 \nL 907.94626 176.723906 \nL 908.876744 174.202361 \nL 909.807228 166.567218 \nL 910.737712 172.866862 \nL 911.668196 178.212531 \nL 912.59868 177.494747 \nL 913.529164 176.461742 \nL 914.459648 174.804141 \nL 916.320615 165.774624 \nL 917.251099 175.658491 \nL 918.181583 176.274188 \nL 919.112067 175.028076 \nL 920.042551 172.640282 \nL 920.973035 165.90854 \nL 921.903519 169.869468 \nL 922.834003 175.442874 \nL 923.764487 174.314889 \nL 924.694971 171.756461 \nL 925.625455 165.21351 \nL 927.486423 174.331694 \nL 928.416907 172.809649 \nL 929.347391 168.408754 \nL 930.277875 164.7811 \nL 931.208359 172.186139 \nL 932.138843 172.491392 \nL 933.069327 168.909552 \nL 933.999811 163.79539 \nL 934.930295 169.373384 \nL 935.860779 170.332131 \nL 937.721747 160.5739 \nL 938.65223 161.260771 \nL 939.582714 160.11426 \nL 940.513198 161.460287 \nL 941.443682 167.421367 \nL 942.374166 169.725605 \nL 943.30465 173.001661 \nL 944.235134 171.921874 \nL 945.165618 167.439056 \nL 946.096102 176.292361 \nL 947.026586 177.717547 \nL 947.95707 176.487405 \nL 948.887554 174.23237 \nL 949.818038 167.573336 \nL 950.748522 170.836463 \nL 951.679006 177.223048 \nL 952.60949 176.461956 \nL 953.539974 175.064899 \nL 954.470458 172.031503 \nL 955.400942 165.772523 \nL 956.331426 172.522886 \nL 957.26191 175.606845 \nL 958.192394 174.243546 \nL 959.122878 171.048104 \nL 960.053362 165.363006 \nL 960.983845 171.750925 \nL 961.914329 174.289757 \nL 962.844813 172.38689 \nL 963.775297 167.042175 \nL 964.705781 166.91357 \nL 965.636265 172.983896 \nL 966.566749 172.040974 \nL 967.497233 167.339003 \nL 968.427717 165.467073 \nL 969.358201 171.045478 \nL 970.288685 170.294451 \nL 971.219169 165.029912 \nL 972.149653 164.420879 \nL 973.080137 165.596374 \nL 974.010621 160.720386 \nL 974.941105 158.872319 \nL 975.871589 161.720078 \nL 976.802073 166.361418 \nL 977.732557 169.242021 \nL 978.663041 174.49403 \nL 979.593525 175.764304 \nL 980.524009 171.121059 \nL 981.454493 168.258129 \nL 982.384977 177.469586 \nL 983.31546 177.72258 \nL 984.245944 176.74045 \nL 985.176428 175.196617 \nL 986.106912 171.412493 \nL 987.037396 166.661154 \nL 987.96788 174.536095 \nL 988.898364 175.994607 \nL 989.828848 174.598467 \nL 990.759332 171.38902 \nL 991.689816 166.11181 \nL 992.6203 172.259929 \nL 993.550784 174.686524 \nL 994.481268 172.919192 \nL 995.411752 167.997364 \nL 996.342236 167.150199 \nL 997.27272 173.174624 \nL 998.203204 172.705443 \nL 999.133688 168.650814 \nL 1000.064172 165.802211 \nL 1000.994656 171.287991 \nL 1001.92514 171.640289 \nL 1002.855624 167.372483 \nL 1003.786108 165.563129 \nL 1004.716592 169.862719 \nL 1005.647076 168.832027 \nL 1006.577559 163.940217 \nL 1007.508043 163.547573 \nL 1008.438527 161.977436 \nL 1009.369011 159.582966 \nL 1010.299495 161.052707 \nL 1011.229979 166.108519 \nL 1013.090947 172.748881 \nL 1014.021431 175.19903 \nL 1015.882399 168.192436 \nL 1016.812883 176.351491 \nL 1017.743367 177.192357 \nL 1018.673851 176.063978 \nL 1019.604335 174.053941 \nL 1020.534819 168.642898 \nL 1021.465303 169.505753 \nL 1022.395787 175.666574 \nL 1023.326271 175.110863 \nL 1024.256755 172.989714 \nL 1025.187239 167.701508 \nL 1026.117723 169.241516 \nL 1027.048207 174.333908 \nL 1027.978691 173.408006 \nL 1028.909174 169.633851 \nL 1029.839658 166.538752 \nL 1030.770142 171.931244 \nL 1031.700626 172.845171 \nL 1033.561594 166.026039 \nL 1034.492078 170.448906 \nL 1035.422562 171.66356 \nL 1036.353046 168.048698 \nL 1037.28353 165.918711 \nL 1038.214014 169.688344 \nL 1039.144498 169.314234 \nL 1040.074982 165.292628 \nL 1041.005466 165.664946 \nL 1041.93595 165.55153 \nL 1042.866434 161.182648 \nL 1043.796918 159.543752 \nL 1044.727402 161.278638 \nL 1046.58837 169.235331 \nL 1047.518854 172.319662 \nL 1048.449338 174.971351 \nL 1049.379822 172.469263 \nL 1050.310306 168.229296 \nL 1051.24079 174.892099 \nL 1052.171273 176.808943 \nL 1053.101757 175.6682 \nL 1054.032241 173.395148 \nL 1054.962725 168.155749 \nL 1055.893209 170.813188 \nL 1056.823693 175.384578 \nL 1057.754177 174.508336 \nL 1058.684661 171.735259 \nL 1059.615145 167.194118 \nL 1060.545629 171.230131 \nL 1061.476113 174.039193 \nL 1062.406597 172.351473 \nL 1063.337081 167.81681 \nL 1064.267565 168.52642 \nL 1065.198049 172.662743 \nL 1066.128533 171.805804 \nL 1067.059017 167.604735 \nL 1067.989501 167.823938 \nL 1068.919985 171.45154 \nL 1069.850469 170.469423 \nL 1070.780953 166.591788 \nL 1071.711437 168.028111 \nL 1072.641921 170.162667 \nL 1073.572405 167.812288 \nL 1074.502888 165.957402 \nL 1075.433372 167.857915 \nL 1076.363856 166.859097 \nL 1077.29434 163.783594 \nL 1078.224824 161.845791 \nL 1079.155308 160.492095 \nL 1080.085792 161.136879 \nL 1081.016276 164.918667 \nL 1081.94676 169.48398 \nL 1082.877244 171.657109 \nL 1083.807728 174.205866 \nL 1084.738212 172.404499 \nL 1085.668696 168.865881 \nL 1086.59918 173.852014 \nL 1087.529664 176.089917 \nL 1088.460148 174.802784 \nL 1090.321116 168.210447 \nL 1091.2516 173.458081 \nL 1092.182084 175.028737 \nL 1093.112568 173.500055 \nL 1094.043052 169.512859 \nL 1094.973536 168.450091 \nL 1095.90402 173.069847 \nL 1096.834503 173.409181 \nL 1098.695471 167.38237 \nL 1099.625955 170.861933 \nL 1100.556439 172.579476 \nL 1101.486923 170.232927 \nL 1102.417407 167.128598 \nL 1103.347891 169.898128 \nL 1104.278375 171.414792 \nL 1105.208859 168.894211 \nL 1106.139343 167.065128 \nL 1107.069827 169.645134 \nL 1108.000311 169.719546 \nL 1108.930795 167.193172 \nL 1109.861279 167.577206 \nL 1110.791763 168.842469 \nL 1111.722247 167.440434 \nL 1112.652731 166.322507 \nL 1113.583215 166.655803 \nL 1114.513699 165.098886 \nL 1115.444183 161.989096 \nL 1116.374667 160.451726 \nL 1117.305151 161.482109 \nL 1118.235635 165.185053 \nL 1119.166119 169.691669 \nL 1120.096602 171.629086 \nL 1121.027086 174.403963 \nL 1121.95757 173.967554 \nL 1122.888054 169.841126 \nL 1123.818538 171.184318 \nL 1124.749022 175.637559 \nL 1125.679506 175.39204 \nL 1126.60999 173.624615 \nL 1127.540474 169.548065 \nL 1128.470958 169.886465 \nL 1129.401442 174.16021 \nL 1130.331926 174.185712 \nL 1131.26241 171.968061 \nL 1132.192894 168.302654 \nL 1133.123378 170.504405 \nL 1134.053862 173.27275 \nL 1134.984346 172.298709 \nL 1135.91483 168.845207 \nL 1136.845314 168.723238 \nL 1137.775798 171.794581 \nL 1138.706282 171.702416 \nL 1139.636766 168.696109 \nL 1140.56725 168.264209 \nL 1141.497734 170.794642 \nL 1142.428217 170.416281 \nL 1143.358701 167.960782 \nL 1144.289185 168.517766 \nL 1145.219669 170.02627 \nL 1147.080637 167.655526 \nL 1148.011121 168.703128 \nL 1148.941605 168.960526 \nL 1149.872089 167.811609 \nL 1150.802573 167.647871 \nL 1151.733057 168.128456 \nL 1152.663541 167.576581 \nL 1153.594025 166.717462 \nL 1154.524509 166.085959 \nL 1155.454993 164.362935 \nL 1156.385477 161.660668 \nL 1157.315961 160.902064 \nL 1158.246445 162.785864 \nL 1159.176929 167.735921 \nL 1160.107413 170.541905 \nL 1161.968381 174.81675 \nL 1162.898865 174.014168 \nL 1163.829349 170.345731 \nL 1164.759833 170.924209 \nL 1165.690316 174.997673 \nL 1166.6208 175.229923 \nL 1167.551284 173.893181 \nL 1168.481768 170.710763 \nL 1169.412252 169.342274 \nL 1170.342736 172.95161 \nL 1171.27322 174.077987 \nL 1172.203704 172.714239 \nL 1173.134188 169.519226 \nL 1174.064672 169.422363 \nL 1174.995156 172.3644 \nL 1175.92564 172.718917 \nL 1177.786608 168.46003 \nL 1178.717092 170.582743 \nL 1179.647576 171.797086 \nL 1180.57806 170.224116 \nL 1181.508544 168.388276 \nL 1182.439028 169.842375 \nL 1183.369512 170.819171 \nL 1184.299996 169.490929 \nL 1185.23048 168.430553 \nL 1186.160964 169.572855 \nL 1187.091448 169.9669 \nL 1188.021931 168.889807 \nL 1188.952415 168.537617 \nL 1189.882899 169.301407 \nL 1190.813383 169.262485 \nL 1191.743867 168.559511 \nL 1192.674351 168.558493 \nL 1193.604835 168.929239 \nL 1194.535319 168.724643 \nL 1195.465803 168.341239 \nL 1197.326771 168.461192 \nL 1201.048707 167.558 \nL 1201.979191 166.929116 \nL 1202.909675 165.717726 \nL 1204.770643 161.559667 \nL 1205.701127 161.912666 \nL 1206.631611 165.032363 \nL 1207.562095 170.167604 \nL 1208.492579 171.236719 \nL 1209.423063 173.647172 \nL 1210.353546 175.176994 \nL 1211.28403 174.480273 \nL 1212.214514 171.819939 \nL 1213.144998 170.171061 \nL 1214.075482 173.335618 \nL 1215.005966 175.043918 \nL 1215.93645 174.50052 \nL 1216.866934 173.100973 \nL 1217.797418 170.32072 \nL 1218.727902 170.136438 \nL 1219.658386 172.81332 \nL 1220.58887 173.605729 \nL 1221.519354 172.575463 \nL 1222.449838 170.138815 \nL 1223.380322 169.569997 \nL 1224.310806 171.707326 \nL 1225.24129 172.454872 \nL 1226.171774 171.21458 \nL 1227.102258 169.2768 \nL 1228.032742 169.948214 \nL 1228.963226 171.402776 \nL 1229.89371 171.093991 \nL 1230.824194 169.574349 \nL 1231.754678 169.371366 \nL 1232.685162 170.516276 \nL 1233.615645 170.638594 \nL 1234.546129 169.661014 \nL 1235.476613 169.276282 \nL 1236.407097 169.97157 \nL 1237.337581 170.208465 \nL 1238.268065 169.643853 \nL 1239.198549 169.297292 \nL 1240.129033 169.657879 \nL 1241.059517 169.881915 \nL 1242.920485 169.333961 \nL 1244.781453 169.656397 \nL 1247.572905 169.40432 \nL 1248.503389 169.51577 \nL 1255.016777 169.39482 \nL 1259.669196 169.449871 \nL 1269.90452 169.623551 \nL 1301.540974 170.276636 \nL 1335.038397 171.077442 \nL 1343.412753 171.45164 \nL 1346.204205 171.746278 \nL 1348.065172 172.241511 \nL 1352.717592 173.767969 \nL 1354.57856 174.655237 \nL 1356.439528 175.788875 \nL 1359.23098 177.836752 \nL 1362.952916 180.574356 \nL 1364.813884 181.718627 \nL 1366.674852 182.663699 \nL 1368.53582 183.417829 \nL 1371.327271 184.246909 \nL 1374.118723 184.802216 \nL 1377.840659 185.264241 \nL 1382.493079 185.586795 \nL 1389.936951 185.841926 \nL 1404.824694 186.073007 \nL 1438.322116 186.333931 \nL 1491.359702 186.509431 \nL 1573.242291 186.537005 \nL 1714.675852 186.342094 \nL 1714.675852 186.342094 \n\" style=\"fill:none;stroke:#ff8c00;stroke-linecap:square;stroke-width:1.5;\"/>\n   </g>\n   <g id=\"line2d_27\">\n    <path clip-path=\"url(#p0b136d8ffd)\" d=\"M 319.880398 292.036182 \nL 1714.675852 292.033836 \nL 1714.675852 292.033836 \n\" style=\"fill:none;stroke:#000000;stroke-linecap:square;stroke-opacity:0.5;stroke-width:1.5;\"/>\n   </g>\n   <g id=\"line2d_28\">\n    <path clip-path=\"url(#p0b136d8ffd)\" d=\"M 319.880398 292.035767 \nL 1714.675852 292.029055 \nL 1714.675852 292.029055 \n\" style=\"fill:none;stroke:#000000;stroke-linecap:square;stroke-opacity:0.5;stroke-width:1.5;\"/>\n   </g>\n   <g id=\"line2d_29\">\n    <path clip-path=\"url(#p0b136d8ffd)\" d=\"M 319.880398 292.03546 \nL 1714.675852 292.022292 \nL 1714.675852 292.022292 \n\" style=\"fill:none;stroke:#000000;stroke-linecap:square;stroke-opacity:0.5;stroke-width:1.5;\"/>\n   </g>\n   <g id=\"line2d_30\">\n    <path clip-path=\"url(#p0b136d8ffd)\" d=\"M 319.880398 292.031543 \nL 1714.675852 291.964193 \nL 1714.675852 291.964193 \n\" style=\"fill:none;stroke:#000000;stroke-linecap:square;stroke-opacity:0.5;stroke-width:1.5;\"/>\n   </g>\n   <g id=\"line2d_31\">\n    <path clip-path=\"url(#p0b136d8ffd)\" d=\"M 319.880398 292.035552 \nL 1714.675852 292.026541 \nL 1714.675852 292.026541 \n\" style=\"fill:none;stroke:#000000;stroke-linecap:square;stroke-opacity:0.5;stroke-width:1.5;\"/>\n   </g>\n   <g id=\"line2d_32\">\n    <path clip-path=\"url(#p0b136d8ffd)\" d=\"M 319.880398 138.708251 \nL 603.678005 137.680116 \nL 674.394786 137.264326 \nL 698.587369 136.847112 \nL 733.015276 136.107586 \nL 764.65173 135.182381 \nL 781.400441 134.494731 \nL 792.566249 133.832023 \nL 800.010121 133.169669 \nL 804.66254 132.55369 \nL 808.384476 131.81241 \nL 810.245444 131.26935 \nL 812.106412 130.497337 \nL 813.036896 129.954784 \nL 813.96738 129.216762 \nL 814.897864 128.110372 \nL 815.828348 126.075086 \nL 816.758832 119.832469 \nL 817.689316 120.830479 \nL 818.6198 128.295772 \nL 819.550284 127.319727 \nL 820.480768 124.374883 \nL 821.411252 117.613493 \nL 822.341736 124.249338 \nL 823.27222 127.601518 \nL 824.202704 125.71852 \nL 825.133187 120.117719 \nL 826.063671 119.051915 \nL 826.994155 126.428658 \nL 827.924639 125.328176 \nL 828.855123 120.492404 \nL 829.785607 116.359332 \nL 830.716091 120.879482 \nL 831.646575 117.656288 \nL 832.577059 112.558466 \nL 833.507543 114.4226 \nL 834.438027 119.818053 \nL 835.368511 121.621685 \nL 836.298995 129.390998 \nL 837.229479 131.705613 \nL 838.159963 129.688262 \nL 839.090447 122.87902 \nL 840.020931 124.304773 \nL 840.951415 133.310127 \nL 841.881899 132.831698 \nL 842.812383 132.100385 \nL 843.742867 131.129116 \nL 844.673351 129.652786 \nL 845.603835 126.31458 \nL 846.534319 119.194161 \nL 847.464802 128.768793 \nL 848.395286 131.194263 \nL 849.32577 130.251298 \nL 850.256254 128.779146 \nL 851.186738 125.388342 \nL 852.117222 118.796336 \nL 853.047706 127.534994 \nL 853.97819 129.830707 \nL 854.908674 128.559243 \nL 855.839158 126.012156 \nL 856.769642 119.189177 \nL 858.63061 128.871766 \nL 859.561094 127.525121 \nL 860.491578 124.157825 \nL 861.422062 118.167816 \nL 862.352546 125.246938 \nL 863.28303 127.456376 \nL 864.213514 125.199877 \nL 865.143998 119.10978 \nL 866.074482 120.649144 \nL 867.004966 125.769035 \nL 867.93545 123.422574 \nL 868.865934 116.981006 \nL 869.796417 116.049979 \nL 870.726901 115.902335 \nL 871.657385 113.392059 \nL 872.587869 115.472811 \nL 873.518353 121.512418 \nL 874.448837 123.195307 \nL 875.379321 128.484479 \nL 876.309805 129.598489 \nL 877.240289 123.608319 \nL 878.170773 123.633969 \nL 879.101257 132.806257 \nL 880.031741 132.402136 \nL 880.962225 131.563474 \nL 881.892709 130.37864 \nL 882.823193 128.322803 \nL 883.753677 122.087671 \nL 884.684161 123.113436 \nL 885.614645 130.871608 \nL 886.545129 130.243986 \nL 887.475613 128.835992 \nL 888.406097 125.775769 \nL 889.336581 119.360105 \nL 890.267065 126.299013 \nL 891.197549 129.35347 \nL 892.128033 127.924644 \nL 893.058516 124.487489 \nL 893.989 118.920295 \nL 894.919484 125.911308 \nL 895.849968 127.948911 \nL 896.780452 125.834027 \nL 897.710936 120.081483 \nL 898.64142 121.096681 \nL 899.571904 126.639467 \nL 900.502388 125.100152 \nL 901.432872 119.67498 \nL 902.363356 119.309614 \nL 903.29384 123.36872 \nL 904.224324 119.748357 \nL 905.154808 113.3641 \nL 906.085292 113.568317 \nL 907.015776 115.030577 \nL 907.94626 118.285246 \nL 908.876744 122.898487 \nL 909.807228 126.681065 \nL 910.737712 127.360639 \nL 911.668196 121.590919 \nL 912.59868 127.932295 \nL 913.529164 131.951337 \nL 914.459648 130.95877 \nL 915.390131 129.281061 \nL 916.320615 124.817366 \nL 917.251099 120.981154 \nL 918.181583 129.993431 \nL 919.112067 130.571715 \nL 920.042551 129.320576 \nL 920.973035 126.914236 \nL 921.903519 120.669639 \nL 922.834003 124.286671 \nL 923.764487 129.37369 \nL 924.694971 128.212929 \nL 925.625455 125.223512 \nL 926.555939 119.550186 \nL 927.486423 124.994274 \nL 928.416907 127.93473 \nL 929.347391 125.943619 \nL 930.277875 120.506319 \nL 931.208359 121.353336 \nL 932.138843 126.501512 \nL 933.069327 125.056386 \nL 933.999811 119.809306 \nL 934.930295 120.317473 \nL 935.860779 124.144581 \nL 936.791263 121.305275 \nL 937.721747 115.822634 \nL 938.65223 115.241232 \nL 939.582714 114.313724 \nL 940.513198 114.588748 \nL 941.443682 119.275745 \nL 942.374166 123.251279 \nL 943.30465 126.02934 \nL 944.235134 127.781372 \nL 945.165618 122.990894 \nL 946.096102 125.116659 \nL 947.026586 131.318211 \nL 947.95707 130.573081 \nL 948.887554 128.753015 \nL 949.818038 123.666539 \nL 950.748522 122.300471 \nL 951.679006 130.004957 \nL 952.60949 129.913664 \nL 953.539974 128.341372 \nL 955.400942 120.565017 \nL 956.331426 127.520578 \nL 957.26191 128.588627 \nL 958.192394 126.524067 \nL 959.122878 121.193791 \nL 960.053362 122.288309 \nL 960.983845 127.470824 \nL 961.914329 126.372659 \nL 962.844813 121.791279 \nL 963.775297 120.51364 \nL 964.705781 125.711103 \nL 965.636265 125.194373 \nL 966.566749 120.508367 \nL 967.497233 120.24441 \nL 968.427717 123.892443 \nL 969.358201 121.772183 \nL 970.288685 117.156351 \nL 971.219169 116.774228 \nL 972.149653 114.756907 \nL 973.080137 113.869855 \nL 974.010621 116.784135 \nL 974.941105 122.175279 \nL 975.871589 124.342847 \nL 976.802073 128.063677 \nL 977.732557 128.032748 \nL 978.663041 122.371481 \nL 979.593525 126.43702 \nL 980.524009 131.288202 \nL 981.454493 130.459492 \nL 982.384977 128.839903 \nL 983.31546 124.680737 \nL 984.245944 121.606546 \nL 985.176428 128.652291 \nL 986.106912 129.447511 \nL 987.037396 127.774304 \nL 987.96788 123.373236 \nL 988.898364 121.489107 \nL 989.828848 127.579394 \nL 990.759332 127.827851 \nL 991.689816 124.976093 \nL 992.6203 120.353854 \nL 993.550784 124.470291 \nL 994.481268 126.993461 \nL 995.411752 124.596836 \nL 996.342236 120.081531 \nL 997.27272 123.167625 \nL 998.203204 125.64352 \nL 999.133688 122.86288 \nL 1000.064172 119.521471 \nL 1000.994656 122.729894 \nL 1001.92514 123.05082 \nL 1002.855624 119.163406 \nL 1003.786108 118.163944 \nL 1004.716592 117.001171 \nL 1005.647076 113.989664 \nL 1006.577559 114.33886 \nL 1007.508043 118.008569 \nL 1008.438527 122.82543 \nL 1009.369011 125.063831 \nL 1010.299495 128.574741 \nL 1011.229979 127.882848 \nL 1012.160463 122.556324 \nL 1014.021431 130.866575 \nL 1014.951915 130.029646 \nL 1015.882399 128.240493 \nL 1016.812883 123.569337 \nL 1017.743367 122.853232 \nL 1018.673851 128.861174 \nL 1019.604335 128.855608 \nL 1020.534819 126.723825 \nL 1021.465303 121.845558 \nL 1022.395787 123.558253 \nL 1023.326271 127.87996 \nL 1024.256755 126.916978 \nL 1025.187239 122.898822 \nL 1026.117723 121.40734 \nL 1027.048207 126.025333 \nL 1027.978691 126.202264 \nL 1028.909174 122.474108 \nL 1029.839658 120.948319 \nL 1030.770142 124.841172 \nL 1031.700626 124.783595 \nL 1032.63111 120.968101 \nL 1033.561594 121.193137 \nL 1034.492078 123.721423 \nL 1035.422562 121.866362 \nL 1036.353046 119.483008 \nL 1037.28353 120.638809 \nL 1038.214014 119.038226 \nL 1039.144498 115.115675 \nL 1040.074982 113.995028 \nL 1041.005466 115.435883 \nL 1042.866434 123.509246 \nL 1044.727402 128.623088 \nL 1045.657886 126.654305 \nL 1046.58837 122.635113 \nL 1047.518854 127.923133 \nL 1048.449338 130.332168 \nL 1049.379822 129.183031 \nL 1050.310306 126.481981 \nL 1051.24079 122.013872 \nL 1052.171273 126.041154 \nL 1053.101757 129.051118 \nL 1054.032241 127.861682 \nL 1054.962725 124.386826 \nL 1055.893209 121.760138 \nL 1056.823693 126.339605 \nL 1057.754177 127.533423 \nL 1058.684661 125.139781 \nL 1059.615145 121.301341 \nL 1060.545629 124.110014 \nL 1061.476113 126.506358 \nL 1062.406597 124.574279 \nL 1063.337081 121.040534 \nL 1064.267565 123.337326 \nL 1065.198049 125.261995 \nL 1067.059017 120.796019 \nL 1067.989501 123.244262 \nL 1068.919985 123.455567 \nL 1069.850469 120.93919 \nL 1070.780953 121.12258 \nL 1071.711437 122.145202 \nL 1074.502888 117.087155 \nL 1075.433372 114.744909 \nL 1076.363856 114.771969 \nL 1077.29434 117.674794 \nL 1078.224824 122.913746 \nL 1079.155308 124.821754 \nL 1080.085792 127.789378 \nL 1081.016276 128.245452 \nL 1081.94676 124.421027 \nL 1082.877244 124.333132 \nL 1083.807728 129.368019 \nL 1084.738212 129.557231 \nL 1085.668696 127.877995 \nL 1086.59918 123.777164 \nL 1087.529664 123.510013 \nL 1088.460148 128.143262 \nL 1089.390632 128.344708 \nL 1090.321116 126.214407 \nL 1091.2516 122.278071 \nL 1092.182084 124.217813 \nL 1093.112568 127.325994 \nL 1094.043052 126.439612 \nL 1094.973536 122.888213 \nL 1095.90402 122.457864 \nL 1096.834503 125.769397 \nL 1097.764987 125.776726 \nL 1098.695471 122.6435 \nL 1099.625955 122.022465 \nL 1100.556439 124.735406 \nL 1101.486923 124.371348 \nL 1102.417407 121.722412 \nL 1103.347891 122.325911 \nL 1104.278375 123.892142 \nL 1106.139343 121.326794 \nL 1107.069827 122.460262 \nL 1108.000311 122.508349 \nL 1108.930795 121.198046 \nL 1109.861279 121.007685 \nL 1110.791763 121.002262 \nL 1111.722247 119.424672 \nL 1112.652731 116.839019 \nL 1113.583215 114.857714 \nL 1114.513699 115.250788 \nL 1115.444183 118.216811 \nL 1116.374667 123.346618 \nL 1117.305151 125.044833 \nL 1118.235635 127.867676 \nL 1119.166119 128.667762 \nL 1120.096602 125.836096 \nL 1121.027086 123.564712 \nL 1121.95757 127.975401 \nL 1122.888054 129.575876 \nL 1123.818538 128.505026 \nL 1125.679506 122.794068 \nL 1126.60999 126.117068 \nL 1127.540474 128.300623 \nL 1128.470958 127.269663 \nL 1129.401442 124.142626 \nL 1130.331926 122.728652 \nL 1131.26241 126.017731 \nL 1132.192894 126.968999 \nL 1133.123378 124.956778 \nL 1134.053862 122.20741 \nL 1135.91483 125.904789 \nL 1136.845314 124.492008 \nL 1137.775798 122.106626 \nL 1139.636766 124.833706 \nL 1141.497734 122.0588 \nL 1142.428217 123.368599 \nL 1143.358701 123.802027 \nL 1144.289185 122.498424 \nL 1145.219669 122.191151 \nL 1146.150153 123.062983 \nL 1147.080637 122.818284 \nL 1148.011121 121.998753 \nL 1148.941605 122.130723 \nL 1149.872089 122.378576 \nL 1151.733057 121.39253 \nL 1152.663541 121.173565 \nL 1153.594025 120.397019 \nL 1154.524509 118.508257 \nL 1155.454993 115.962426 \nL 1156.385477 115.098901 \nL 1157.315961 116.79299 \nL 1158.246445 121.594003 \nL 1159.176929 124.66051 \nL 1160.107413 126.412286 \nL 1161.037897 128.772632 \nL 1161.968381 128.607042 \nL 1162.898865 125.764274 \nL 1163.829349 123.937383 \nL 1164.759833 127.662104 \nL 1165.690316 129.272702 \nL 1166.6208 128.470155 \nL 1167.551284 126.480228 \nL 1168.481768 123.39547 \nL 1169.412252 124.997529 \nL 1170.342736 127.687174 \nL 1171.27322 127.499616 \nL 1172.203704 125.449412 \nL 1173.134188 122.936991 \nL 1174.995156 126.624396 \nL 1175.92564 126.028338 \nL 1176.856124 123.51773 \nL 1177.786608 123.083943 \nL 1178.717092 125.180657 \nL 1179.647576 125.394442 \nL 1180.57806 123.54709 \nL 1181.508544 122.806491 \nL 1182.439028 124.307949 \nL 1183.369512 124.572821 \nL 1184.299996 123.247283 \nL 1185.23048 122.826478 \nL 1186.160964 123.812868 \nL 1187.091448 123.879594 \nL 1188.021931 122.994205 \nL 1188.952415 122.858111 \nL 1189.882899 123.435609 \nL 1190.813383 123.365312 \nL 1191.743867 122.834604 \nL 1192.674351 122.816791 \nL 1193.604835 123.10278 \nL 1194.535319 122.994246 \nL 1195.465803 122.696455 \nL 1196.396287 122.688021 \nL 1197.326771 122.7916 \nL 1202.909675 122.109014 \nL 1204.770643 121.637558 \nL 1205.701127 121.083235 \nL 1206.631611 119.938385 \nL 1208.492579 115.830087 \nL 1209.423063 116.073511 \nL 1210.353546 119.075758 \nL 1211.28403 124.30064 \nL 1212.214514 125.257713 \nL 1213.144998 127.386122 \nL 1214.075482 129.224471 \nL 1215.005966 128.973534 \nL 1215.93645 127.461907 \nL 1216.866934 124.646124 \nL 1217.797418 125.248811 \nL 1218.727902 128.170373 \nL 1219.658386 128.772527 \nL 1220.58887 128.072344 \nL 1221.519354 126.563431 \nL 1222.449838 124.106393 \nL 1223.380322 124.568614 \nL 1224.310806 126.812074 \nL 1225.24129 127.364019 \nL 1226.171774 126.408494 \nL 1227.102258 124.25882 \nL 1228.032742 123.706583 \nL 1228.963226 125.510587 \nL 1229.89371 126.252388 \nL 1230.824194 125.291095 \nL 1231.754678 123.614485 \nL 1232.685162 123.878639 \nL 1233.615645 125.174729 \nL 1234.546129 125.191259 \nL 1235.476613 124.03387 \nL 1236.407097 123.466074 \nL 1237.337581 124.282067 \nL 1238.268065 124.730598 \nL 1240.129033 123.52232 \nL 1241.059517 123.805161 \nL 1241.990001 124.273222 \nL 1242.920485 124.10943 \nL 1243.850969 123.646407 \nL 1244.781453 123.623331 \nL 1245.711937 123.935502 \nL 1246.642421 123.981248 \nL 1247.572905 123.72815 \nL 1248.503389 123.598183 \nL 1250.364357 123.846232 \nL 1253.155809 123.659718 \nL 1255.016777 123.748518 \nL 1256.877744 123.659173 \nL 1259.669196 123.720401 \nL 1262.460648 123.741501 \nL 1303.401942 124.413316 \nL 1335.038397 125.110043 \nL 1343.412753 125.455867 \nL 1346.204205 125.722841 \nL 1348.065172 126.171437 \nL 1352.717592 127.635522 \nL 1354.57856 128.46846 \nL 1356.439528 129.545199 \nL 1359.23098 131.539684 \nL 1362.952916 134.298402 \nL 1364.813884 135.47714 \nL 1366.674852 136.459972 \nL 1368.53582 137.249431 \nL 1371.327271 138.121674 \nL 1374.118723 138.707489 \nL 1377.840659 139.194467 \nL 1382.493079 139.53206 \nL 1389.936951 139.793546 \nL 1403.89421 140.008925 \nL 1436.461149 140.248344 \nL 1488.56825 140.39324 \nL 1568.589871 140.372511 \nL 1710.023432 140.083631 \nL 1714.675852 140.071845 \nL 1714.675852 140.071845 \n\" style=\"fill:none;stroke:#ff8c00;stroke-linecap:square;stroke-width:1.5;\"/>\n   </g>\n   <g id=\"line2d_33\">\n    <path clip-path=\"url(#p0b136d8ffd)\" d=\"M 319.880398 292.035523 \nL 1714.675852 292.024867 \nL 1714.675852 292.024867 \n\" style=\"fill:none;stroke:#000000;stroke-linecap:square;stroke-opacity:0.5;stroke-width:1.5;\"/>\n   </g>\n   <g id=\"line2d_34\">\n    <path clip-path=\"url(#p0b136d8ffd)\" d=\"M 319.880398 292.03507 \nL 1714.675852 292.020627 \nL 1714.675852 292.020627 \n\" style=\"fill:none;stroke:#000000;stroke-linecap:square;stroke-opacity:0.5;stroke-width:1.5;\"/>\n   </g>\n   <g id=\"line2d_35\">\n    <path clip-path=\"url(#p0b136d8ffd)\" d=\"M 319.880398 292.035865 \nL 1714.675852 292.029747 \nL 1714.675852 292.029747 \n\" style=\"fill:none;stroke:#000000;stroke-linecap:square;stroke-opacity:0.5;stroke-width:1.5;\"/>\n   </g>\n   <g id=\"line2d_36\">\n    <path clip-path=\"url(#p0b136d8ffd)\" d=\"M 319.880398 292.034704 \nL 1714.675852 292.015705 \nL 1714.675852 292.015705 \n\" style=\"fill:none;stroke:#000000;stroke-linecap:square;stroke-opacity:0.5;stroke-width:1.5;\"/>\n   </g>\n   <g id=\"line2d_37\">\n    <path clip-path=\"url(#p0b136d8ffd)\" d=\"M 319.880398 92.709454 \nL 605.538973 91.680895 \nL 675.32527 91.264772 \nL 708.822693 90.670278 \nL 746.972535 89.769913 \nL 772.095602 88.947637 \nL 787.913829 88.21664 \nL 797.218669 87.566382 \nL 802.801572 87.003126 \nL 806.523508 86.473914 \nL 809.31496 85.928298 \nL 812.106412 85.114939 \nL 813.96738 84.263565 \nL 814.897864 83.642825 \nL 815.828348 82.769936 \nL 816.758832 81.364948 \nL 817.689316 78.037813 \nL 818.6198 71.55135 \nL 819.550284 79.758923 \nL 820.480768 82.108609 \nL 821.411252 80.355775 \nL 822.341736 75.216433 \nL 823.27222 72.75797 \nL 824.202704 81.291468 \nL 825.133187 80.950986 \nL 826.063671 77.959061 \nL 826.994155 71.381886 \nL 827.924639 77.388597 \nL 828.855123 80.459594 \nL 829.785607 77.859508 \nL 830.716091 71.286264 \nL 831.646575 72.872129 \nL 832.577059 74.704784 \nL 833.507543 69.274533 \nL 834.438027 66.249785 \nL 836.298995 74.651444 \nL 837.229479 77.549146 \nL 838.159963 85.496824 \nL 839.090447 85.10229 \nL 840.020931 82.103152 \nL 840.951415 73.976294 \nL 841.881899 83.861416 \nL 842.812383 87.18862 \nL 843.742867 86.551591 \nL 844.673351 85.740499 \nL 845.603835 84.612662 \nL 846.534319 82.729677 \nL 847.464802 77.027237 \nL 848.395286 75.513263 \nL 849.32577 85.176022 \nL 850.256254 84.849872 \nL 851.186738 83.736892 \nL 852.117222 81.841371 \nL 853.047706 76.189217 \nL 853.97819 74.993859 \nL 854.908674 83.814602 \nL 855.839158 83.380305 \nL 856.769642 81.759503 \nL 858.63061 72.840162 \nL 859.561094 81.649973 \nL 860.491578 82.462089 \nL 861.422062 80.559973 \nL 862.352546 75.138314 \nL 863.28303 73.921683 \nL 864.213514 81.439904 \nL 865.143998 80.760376 \nL 866.074482 77.165117 \nL 867.004966 71.754977 \nL 867.93545 78.05134 \nL 868.865934 79.39384 \nL 869.796417 75.334942 \nL 870.726901 69.722531 \nL 871.657385 71.378285 \nL 873.518353 67.086483 \nL 874.448837 70.958122 \nL 875.379321 76.045947 \nL 876.309805 78.135875 \nL 877.240289 83.936339 \nL 878.170773 83.375246 \nL 879.101257 76.592994 \nL 880.031741 79.07533 \nL 880.962225 86.825349 \nL 881.892709 86.27377 \nL 882.823193 85.404878 \nL 883.753677 84.153038 \nL 884.684161 81.855185 \nL 885.614645 75.078651 \nL 886.545129 78.64544 \nL 887.475613 84.86996 \nL 888.406097 84.032254 \nL 889.336581 82.491128 \nL 890.267065 78.74237 \nL 891.197549 73.387641 \nL 892.128033 81.617104 \nL 893.058516 83.152798 \nL 893.989 81.52577 \nL 895.849968 73.352299 \nL 896.780452 81.023685 \nL 897.710936 81.658403 \nL 898.64142 79.059988 \nL 899.571904 73.053584 \nL 901.432872 80.666762 \nL 902.363356 78.379906 \nL 903.29384 72.617022 \nL 904.224324 74.604299 \nL 905.154808 77.426819 \nL 906.085292 72.77042 \nL 907.015776 67.164835 \nL 907.94626 67.931706 \nL 908.876744 69.03997 \nL 909.807228 72.635567 \nL 910.737712 77.172049 \nL 911.668196 80.611266 \nL 912.59868 80.531877 \nL 913.529164 75.60359 \nL 914.459648 82.844148 \nL 915.390131 85.517258 \nL 916.320615 84.246675 \nL 917.251099 81.683304 \nL 918.181583 74.976944 \nL 920.042551 85.005632 \nL 920.973035 84.081307 \nL 921.903519 82.450469 \nL 923.764487 74.34522 \nL 924.694971 82.258168 \nL 925.625455 83.064142 \nL 926.555939 81.260048 \nL 927.486423 76.325105 \nL 928.416907 74.802515 \nL 929.347391 81.631341 \nL 930.277875 81.363502 \nL 931.208359 78.059115 \nL 932.138843 73.178033 \nL 933.069327 78.582203 \nL 933.999811 80.49008 \nL 934.930295 77.352353 \nL 935.860779 72.66436 \nL 936.791263 76.892901 \nL 937.721747 78.182271 \nL 938.65223 73.637804 \nL 939.582714 70.434191 \nL 940.513198 70.404301 \nL 941.443682 67.958897 \nL 942.374166 68.247421 \nL 943.30465 72.905929 \nL 944.235134 76.913133 \nL 945.165618 79.817065 \nL 946.096102 83.132249 \nL 947.026586 80.484203 \nL 947.95707 75.480505 \nL 948.887554 83.991967 \nL 949.818038 85.578749 \nL 950.748522 84.573385 \nL 951.679006 82.940511 \nL 952.60949 78.719696 \nL 953.539974 75.18937 \nL 954.470458 82.938265 \nL 955.400942 83.728701 \nL 956.331426 82.172889 \nL 958.192394 74.534114 \nL 959.122878 81.242074 \nL 960.053362 82.290481 \nL 960.983845 80.038959 \nL 961.914329 74.652944 \nL 962.844813 76.8793 \nL 963.775297 81.289613 \nL 964.705781 79.778242 \nL 965.636265 74.825747 \nL 966.566749 75.295237 \nL 967.497233 79.743305 \nL 968.427717 78.321422 \nL 969.358201 73.518318 \nL 970.288685 75.073378 \nL 971.219169 77.424049 \nL 973.080137 70.115851 \nL 974.010621 69.373105 \nL 974.941105 68.152475 \nL 975.871589 69.204856 \nL 976.802073 74.238731 \nL 978.663041 80.573848 \nL 979.593525 81.934489 \nL 980.524009 77.32809 \nL 981.454493 78.886227 \nL 982.384977 84.816876 \nL 983.31546 84.201883 \nL 984.245944 82.274079 \nL 985.176428 77.056057 \nL 986.106912 77.30991 \nL 987.037396 83.660807 \nL 987.96788 83.277599 \nL 988.898364 81.31771 \nL 989.828848 76.283102 \nL 990.759332 76.740414 \nL 991.689816 82.216214 \nL 992.6203 81.620713 \nL 994.481268 74.48296 \nL 995.411752 79.457774 \nL 996.342236 80.968304 \nL 997.27272 78.082024 \nL 998.203204 74.085873 \nL 999.133688 77.963541 \nL 1000.064172 79.731038 \nL 1000.994656 76.538437 \nL 1001.92514 73.807459 \nL 1002.855624 77.326376 \nL 1003.786108 77.379524 \nL 1004.716592 73.537191 \nL 1006.577559 73.313203 \nL 1007.508043 69.140447 \nL 1008.438527 67.561453 \nL 1009.369011 69.386107 \nL 1010.299495 73.667483 \nL 1011.229979 77.375019 \nL 1012.160463 80.466416 \nL 1013.090947 82.991123 \nL 1014.021431 80.423659 \nL 1014.951915 76.286218 \nL 1015.882399 82.8031 \nL 1016.812883 84.707023 \nL 1017.743367 83.555999 \nL 1018.673851 81.211051 \nL 1019.604335 76.059912 \nL 1020.534819 79.017564 \nL 1021.465303 83.275543 \nL 1022.395787 82.324567 \nL 1023.326271 79.355155 \nL 1024.256755 75.186184 \nL 1025.187239 79.546624 \nL 1026.117723 81.874469 \nL 1027.048207 79.964547 \nL 1027.978691 75.44354 \nL 1028.909174 76.995454 \nL 1029.839658 80.616369 \nL 1030.770142 79.337797 \nL 1031.700626 75.128434 \nL 1032.63111 76.314353 \nL 1033.561594 79.379473 \nL 1034.492078 77.776378 \nL 1035.422562 74.297958 \nL 1036.353046 76.438796 \nL 1037.28353 77.696016 \nL 1038.214014 74.939148 \nL 1039.144498 74.014687 \nL 1040.074982 75.236197 \nL 1041.005466 72.978771 \nL 1041.93595 69.490097 \nL 1042.866434 68.255492 \nL 1043.796918 69.150518 \nL 1044.727402 72.571459 \nL 1045.657886 77.271271 \nL 1046.58837 79.529082 \nL 1047.518854 82.267023 \nL 1048.449338 80.880829 \nL 1049.379822 76.821537 \nL 1050.310306 81.274081 \nL 1051.24079 84.166542 \nL 1052.171273 83.065149 \nL 1053.101757 80.192478 \nL 1054.032241 76.06631 \nL 1054.962725 80.45333 \nL 1055.893209 83.035604 \nL 1056.823693 81.767613 \nL 1057.754177 78.192428 \nL 1058.684661 75.967701 \nL 1059.615145 80.509763 \nL 1060.545629 81.497918 \nL 1061.476113 79.043835 \nL 1062.406597 75.380531 \nL 1063.337081 78.268536 \nL 1064.267565 80.512389 \nL 1065.198049 78.559458 \nL 1066.128533 75.145592 \nL 1067.059017 77.436915 \nL 1067.989501 79.286396 \nL 1069.850469 74.944411 \nL 1070.780953 77.329392 \nL 1071.711437 77.584712 \nL 1072.641921 75.160167 \nL 1073.572405 75.318732 \nL 1074.502888 76.473266 \nL 1076.363856 73.730382 \nL 1077.29434 73.154102 \nL 1078.224824 70.547772 \nL 1079.155308 68.367469 \nL 1080.085792 69.222254 \nL 1081.016276 72.872833 \nL 1081.94676 77.576197 \nL 1082.877244 79.399012 \nL 1083.807728 82.311205 \nL 1084.738212 82.175566 \nL 1085.668696 78.107785 \nL 1086.59918 78.725654 \nL 1087.529664 83.516824 \nL 1088.460148 83.493642 \nL 1089.390632 81.851573 \nL 1090.321116 77.890425 \nL 1091.2516 77.447259 \nL 1092.182084 81.933117 \nL 1093.112568 82.263442 \nL 1094.043052 80.207589 \nL 1094.973536 76.386997 \nL 1095.90402 78.13489 \nL 1096.834503 81.187006 \nL 1097.764987 80.407503 \nL 1098.695471 76.992559 \nL 1099.625955 76.474822 \nL 1100.556439 79.639257 \nL 1101.486923 79.729139 \nL 1102.417407 76.749889 \nL 1103.347891 76.080609 \nL 1104.278375 78.653447 \nL 1105.208859 78.363265 \nL 1106.139343 75.881727 \nL 1107.069827 76.369376 \nL 1108.000311 77.877867 \nL 1109.861279 75.502982 \nL 1110.791763 76.518316 \nL 1111.722247 76.687806 \nL 1112.652731 75.513615 \nL 1113.583215 75.310538 \nL 1114.513699 75.552257 \nL 1115.444183 74.624005 \nL 1116.374667 72.953106 \nL 1117.305151 70.691615 \nL 1118.235635 68.888683 \nL 1119.166119 69.55002 \nL 1120.096602 73.045623 \nL 1121.027086 77.867548 \nL 1121.95757 79.386926 \nL 1122.888054 82.138845 \nL 1123.818538 82.607171 \nL 1124.749022 79.645108 \nL 1125.679506 77.739397 \nL 1126.60999 82.042451 \nL 1127.540474 83.474196 \nL 1128.470958 82.419361 \nL 1130.331926 76.905746 \nL 1131.26241 80.041382 \nL 1132.192894 82.195228 \nL 1133.123378 81.246158 \nL 1134.053862 78.266893 \nL 1134.984346 76.780591 \nL 1135.91483 79.866358 \nL 1136.845314 80.924721 \nL 1137.775798 79.116363 \nL 1138.706282 76.381372 \nL 1140.56725 79.816535 \nL 1141.497734 78.658256 \nL 1142.428217 76.32792 \nL 1143.358701 77.380095 \nL 1144.289185 78.800357 \nL 1145.219669 77.679781 \nL 1146.150153 76.234905 \nL 1147.080637 77.276293 \nL 1148.011121 77.913132 \nL 1148.941605 76.830499 \nL 1149.872089 76.29066 \nL 1150.802573 77.083024 \nL 1151.733057 77.095022 \nL 1152.663541 76.325581 \nL 1153.594025 76.277596 \nL 1154.524509 76.634899 \nL 1155.454993 76.367931 \nL 1156.385477 75.914724 \nL 1158.246445 75.758939 \nL 1159.176929 75.200753 \nL 1160.107413 74.284118 \nL 1161.037897 72.636667 \nL 1161.968381 70.169088 \nL 1162.898865 69.218156 \nL 1163.829349 70.88437 \nL 1164.759833 75.696968 \nL 1165.690316 78.763713 \nL 1166.6208 80.340064 \nL 1167.551284 82.745065 \nL 1168.481768 82.807961 \nL 1169.412252 80.509093 \nL 1170.342736 77.87074 \nL 1171.27322 80.753109 \nL 1172.203704 83.132309 \nL 1173.134188 82.684278 \nL 1174.064672 81.232982 \nL 1174.995156 78.224947 \nL 1175.92564 78.015469 \nL 1176.856124 80.985155 \nL 1177.786608 81.702038 \nL 1178.717092 80.432622 \nL 1179.647576 77.70446 \nL 1180.57806 77.66078 \nL 1181.508544 80.036427 \nL 1182.439028 80.494245 \nL 1184.299996 76.888611 \nL 1186.160964 79.550002 \nL 1187.091448 78.650988 \nL 1188.021931 76.985369 \nL 1188.952415 77.551994 \nL 1189.882899 78.682233 \nL 1190.813383 78.171856 \nL 1191.743867 77.021804 \nL 1192.674351 77.318537 \nL 1193.604835 78.068329 \nL 1194.535319 77.734699 \nL 1195.465803 77.023933 \nL 1196.396287 77.201038 \nL 1197.326771 77.634918 \nL 1198.257255 77.41839 \nL 1199.187739 77.007386 \nL 1200.118223 77.097976 \nL 1201.048707 77.325856 \nL 1203.840159 76.993876 \nL 1204.770643 77.099631 \nL 1207.562095 76.893594 \nL 1209.423063 76.893157 \nL 1211.28403 76.790038 \nL 1214.075482 76.716488 \nL 1221.519354 76.346758 \nL 1223.380322 76.094683 \nL 1224.310806 75.87162 \nL 1225.24129 75.483974 \nL 1226.171774 74.708051 \nL 1227.102258 73.159685 \nL 1228.032742 70.951013 \nL 1228.963226 70.006968 \nL 1229.89371 71.61185 \nL 1230.824194 76.450659 \nL 1231.754678 79.436344 \nL 1232.685162 79.992668 \nL 1233.615645 82.40209 \nL 1234.546129 83.443681 \nL 1235.476613 83.020407 \nL 1236.407097 82.047611 \nL 1237.337581 79.903838 \nL 1238.268065 78.513657 \nL 1239.198549 80.59436 \nL 1240.129033 82.356198 \nL 1241.059517 82.317606 \nL 1241.990001 81.639291 \nL 1242.920485 80.24699 \nL 1243.850969 78.27602 \nL 1244.781453 78.682913 \nL 1245.711937 80.459108 \nL 1246.642421 81.085411 \nL 1247.572905 80.541873 \nL 1248.503389 78.973269 \nL 1249.433873 77.811416 \nL 1251.294841 79.947504 \nL 1252.225325 79.800244 \nL 1253.155809 78.626091 \nL 1254.086293 77.790239 \nL 1255.94726 79.261047 \nL 1256.877744 79.049004 \nL 1257.808228 78.20095 \nL 1258.738712 77.879331 \nL 1259.669196 78.434004 \nL 1260.59968 78.810207 \nL 1261.530164 78.530905 \nL 1262.460648 78.027692 \nL 1263.391132 78.001927 \nL 1264.321616 78.362826 \nL 1265.2521 78.499298 \nL 1267.113068 78.024252 \nL 1268.043552 78.082378 \nL 1268.974036 78.284702 \nL 1269.90452 78.32432 \nL 1271.765488 78.075111 \nL 1275.487424 78.184319 \nL 1277.348392 78.173998 \nL 1279.209359 78.253019 \nL 1282.000811 78.228022 \nL 1285.722747 78.279172 \nL 1318.289686 78.911646 \nL 1332.246945 79.353554 \nL 1335.968881 79.61272 \nL 1337.829849 79.908074 \nL 1343.412753 81.658758 \nL 1345.273721 82.498719 \nL 1347.134688 83.582084 \nL 1349.92614 85.580344 \nL 1353.648076 88.32894 \nL 1355.509044 89.498794 \nL 1357.370012 90.472038 \nL 1359.23098 91.251849 \nL 1362.022432 92.110274 \nL 1364.813884 92.683456 \nL 1368.53582 93.155574 \nL 1373.188239 93.477146 \nL 1380.632111 93.719208 \nL 1396.450338 93.942032 \nL 1431.808729 94.18767 \nL 1485.776798 94.322808 \nL 1569.520355 94.288522 \nL 1714.675852 93.987757 \nL 1714.675852 93.987757 \n\" style=\"fill:none;stroke:#ff8c00;stroke-linecap:square;stroke-width:1.5;\"/>\n   </g>\n   <g id=\"line2d_38\">\n    <path clip-path=\"url(#p0b136d8ffd)\" d=\"M 319.880398 292.03549 \nL 1714.675852 292.023558 \nL 1714.675852 292.023558 \n\" style=\"fill:none;stroke:#000000;stroke-linecap:square;stroke-opacity:0.5;stroke-width:1.5;\"/>\n   </g>\n   <g id=\"line2d_39\">\n    <path clip-path=\"url(#p0b136d8ffd)\" d=\"M 319.880398 292.035283 \nL 1714.675852 292.020834 \nL 1714.675852 292.020834 \n\" style=\"fill:none;stroke:#000000;stroke-linecap:square;stroke-opacity:0.5;stroke-width:1.5;\"/>\n   </g>\n   <g id=\"line2d_40\">\n    <path clip-path=\"url(#p0b136d8ffd)\" d=\"M 319.880398 292.035741 \nL 1714.675852 292.028046 \nL 1714.675852 292.028046 \n\" style=\"fill:none;stroke:#000000;stroke-linecap:square;stroke-opacity:0.5;stroke-width:1.5;\"/>\n   </g>\n   <g id=\"line2d_41\">\n    <path clip-path=\"url(#p0b136d8ffd)\" d=\"M 319.880398 292.034793 \nL 1714.675852 292.013918 \nL 1714.675852 292.013918 \n\" style=\"fill:none;stroke:#000000;stroke-linecap:square;stroke-opacity:0.5;stroke-width:1.5;\"/>\n   </g>\n   <g id=\"line2d_42\">\n    <path clip-path=\"url(#p0b136d8ffd)\" d=\"M 319.880398 292.035427 \nL 1714.675852 292.022531 \nL 1714.675852 292.022531 \n\" style=\"fill:none;stroke:#000000;stroke-linecap:square;stroke-opacity:0.5;stroke-width:1.5;\"/>\n   </g>\n   <g id=\"line2d_43\">\n    <path clip-path=\"url(#p0b136d8ffd)\" d=\"M 319.880398 292.034426 \nL 1714.675852 292.007455 \nL 1714.675852 292.007455 \n\" style=\"fill:none;stroke:#000000;stroke-linecap:square;stroke-opacity:0.5;stroke-width:1.5;\"/>\n   </g>\n   <g id=\"line2d_44\">\n    <path clip-path=\"url(#p0b136d8ffd)\" d=\"M 319.880398 292.035751 \nL 1714.675852 292.02835 \nL 1714.675852 292.02835 \n\" style=\"fill:none;stroke:#000000;stroke-linecap:square;stroke-opacity:0.5;stroke-width:1.5;\"/>\n   </g>\n   <g id=\"line2d_45\">\n    <path clip-path=\"url(#p0b136d8ffd)\" d=\"M 319.880398 292.03632 \nL 1714.675852 292.035666 \nL 1714.675852 292.035666 \n\" style=\"fill:none;stroke:#000000;stroke-linecap:square;stroke-opacity:0.5;stroke-width:1.5;\"/>\n   </g>\n   <g id=\"line2d_46\">\n    <path clip-path=\"url(#p0b136d8ffd)\" d=\"M 319.880398 292.035426 \nL 1714.675852 292.023419 \nL 1714.675852 292.023419 \n\" style=\"fill:none;stroke:#000000;stroke-linecap:square;stroke-opacity:0.5;stroke-width:1.5;\"/>\n   </g>\n   <g id=\"line2d_47\">\n    <path clip-path=\"url(#p0b136d8ffd)\" d=\"M 319.880398 292.036261 \nL 1714.675852 292.035078 \nL 1714.675852 292.035078 \n\" style=\"fill:none;stroke:#000000;stroke-linecap:square;stroke-opacity:0.5;stroke-width:1.5;\"/>\n   </g>\n   <g id=\"line2d_48\">\n    <path clip-path=\"url(#p0b136d8ffd)\" d=\"M 319.880398 292.035822 \nL 1714.675852 292.029444 \nL 1714.675852 292.029444 \n\" style=\"fill:none;stroke:#000000;stroke-linecap:square;stroke-opacity:0.5;stroke-width:1.5;\"/>\n   </g>\n   <g id=\"line2d_49\">\n    <path clip-path=\"url(#p0b136d8ffd)\" d=\"M 319.880398 292.035142 \nL 1714.675852 292.021095 \nL 1714.675852 292.021095 \n\" style=\"fill:none;stroke:#000000;stroke-linecap:square;stroke-opacity:0.5;stroke-width:1.5;\"/>\n   </g>\n   <g id=\"line2d_50\">\n    <path clip-path=\"url(#p0b136d8ffd)\" d=\"M 319.880398 292.036186 \nL 1714.675852 292.034138 \nL 1714.675852 292.034138 \n\" style=\"fill:none;stroke:#000000;stroke-linecap:square;stroke-opacity:0.5;stroke-width:1.5;\"/>\n   </g>\n   <g id=\"line2d_51\">\n    <path clip-path=\"url(#p0b136d8ffd)\" d=\"M 319.880398 292.036077 \nL 1714.675852 292.032646 \nL 1714.675852 292.032646 \n\" style=\"fill:none;stroke:#000000;stroke-linecap:square;stroke-opacity:0.5;stroke-width:1.5;\"/>\n   </g>\n   <g id=\"line2d_52\">\n    <path clip-path=\"url(#p0b136d8ffd)\" d=\"M 319.880398 292.03589 \nL 1714.675852 292.029989 \nL 1714.675852 292.029989 \n\" style=\"fill:none;stroke:#000000;stroke-linecap:square;stroke-opacity:0.5;stroke-width:1.5;\"/>\n   </g>\n   <g id=\"line2d_53\">\n    <path clip-path=\"url(#p0b136d8ffd)\" d=\"M 319.880398 292.035972 \nL 1714.675852 292.031549 \nL 1714.675852 292.031549 \n\" style=\"fill:none;stroke:#000000;stroke-linecap:square;stroke-opacity:0.5;stroke-width:1.5;\"/>\n   </g>\n   <g id=\"line2d_54\">\n    <path clip-path=\"url(#p0b136d8ffd)\" d=\"M 319.880398 292.036255 \nL 1714.675852 292.034809 \nL 1714.675852 292.034809 \n\" style=\"fill:none;stroke:#000000;stroke-linecap:square;stroke-opacity:0.5;stroke-width:1.5;\"/>\n   </g>\n   <g id=\"line2d_55\">\n    <path clip-path=\"url(#p0b136d8ffd)\" d=\"M 319.880398 292.036134 \nL 1714.675852 292.033804 \nL 1714.675852 292.033804 \n\" style=\"fill:none;stroke:#000000;stroke-linecap:square;stroke-opacity:0.5;stroke-width:1.5;\"/>\n   </g>\n   <g id=\"line2d_56\">\n    <path clip-path=\"url(#p0b136d8ffd)\" d=\"M 319.880398 292.035676 \nL 1714.675852 292.027327 \nL 1714.675852 292.027327 \n\" style=\"fill:none;stroke:#000000;stroke-linecap:square;stroke-opacity:0.5;stroke-width:1.5;\"/>\n   </g>\n   <g id=\"line2d_57\">\n    <path clip-path=\"url(#p0b136d8ffd)\" d=\"M 319.880398 292.035721 \nL 1714.675852 292.0286 \nL 1714.675852 292.0286 \n\" style=\"fill:none;stroke:#000000;stroke-linecap:square;stroke-opacity:0.5;stroke-width:1.5;\"/>\n   </g>\n   <g id=\"line2d_58\">\n    <path clip-path=\"url(#p0b136d8ffd)\" d=\"M 319.880398 292.034902 \nL 1714.675852 292.019906 \nL 1714.675852 292.019906 \n\" style=\"fill:none;stroke:#000000;stroke-linecap:square;stroke-opacity:0.5;stroke-width:1.5;\"/>\n   </g>\n   <g id=\"line2d_59\">\n    <path clip-path=\"url(#p0b136d8ffd)\" d=\"M 319.880398 292.036109 \nL 1714.675852 292.032388 \nL 1714.675852 292.032388 \n\" style=\"fill:none;stroke:#000000;stroke-linecap:square;stroke-opacity:0.5;stroke-width:1.5;\"/>\n   </g>\n   <g id=\"line2d_60\">\n    <path clip-path=\"url(#p0b136d8ffd)\" d=\"M 319.880398 292.036345 \nL 1714.675852 292.036038 \nL 1714.675852 292.036038 \n\" style=\"fill:none;stroke:#000000;stroke-linecap:square;stroke-opacity:0.5;stroke-width:1.5;\"/>\n   </g>\n   <g id=\"line2d_61\">\n    <path clip-path=\"url(#p0b136d8ffd)\" d=\"M 319.880398 292.036012 \nL 1714.675852 292.031616 \nL 1714.675852 292.031616 \n\" style=\"fill:none;stroke:#000000;stroke-linecap:square;stroke-opacity:0.5;stroke-width:1.5;\"/>\n   </g>\n   <g id=\"line2d_62\">\n    <path clip-path=\"url(#p0b136d8ffd)\" d=\"M 319.880398 292.035747 \nL 1714.675852 292.028097 \nL 1714.675852 292.028097 \n\" style=\"fill:none;stroke:#000000;stroke-linecap:square;stroke-opacity:0.5;stroke-width:1.5;\"/>\n   </g>\n   <g id=\"line2d_63\">\n    <path clip-path=\"url(#p0b136d8ffd)\" d=\"M 319.880398 274.948727 \nL 470.618799 273.859135 \nL 555.292839 273.045868 \nL 600.886553 272.40709 \nL 625.079136 271.873998 \nL 639.036396 271.374367 \nL 647.410751 270.889321 \nL 652.993655 270.37618 \nL 656.715591 269.84534 \nL 659.507043 269.235777 \nL 661.368011 268.625434 \nL 662.298495 268.20848 \nL 663.228979 267.665972 \nL 664.159463 266.913933 \nL 665.089947 265.752441 \nL 666.02043 263.452177 \nL 666.950914 257.072385 \nL 667.881398 260.281258 \nL 668.811882 265.758448 \nL 669.742366 264.281025 \nL 670.67285 259.35931 \nL 671.603334 257.035174 \nL 672.533818 264.695055 \nL 673.464302 264.418564 \nL 674.394786 260.51029 \nL 675.32527 255.875858 \nL 676.255754 262.929375 \nL 677.186238 263.832861 \nL 678.116722 259.925697 \nL 679.047206 255.22247 \nL 679.97769 260.676422 \nL 680.908174 260.11748 \nL 681.838658 253.513972 \nL 682.769142 250.85344 \nL 683.699626 252.902382 \nL 684.63011 254.644606 \nL 686.491078 263.937203 \nL 687.421562 266.21356 \nL 688.352045 260.263714 \nL 689.282529 263.99506 \nL 690.213013 270.892438 \nL 691.143497 270.225919 \nL 692.073981 269.195226 \nL 693.004465 267.572385 \nL 693.934949 263.364636 \nL 694.865433 258.173646 \nL 695.795917 268.355784 \nL 696.726401 269.25252 \nL 697.656885 268.242648 \nL 698.587369 266.612894 \nL 700.448337 257.799725 \nL 701.378821 266.994935 \nL 702.309305 267.764543 \nL 703.239789 266.320898 \nL 704.170273 262.966018 \nL 705.100757 257.026307 \nL 706.031241 264.513517 \nL 706.961725 266.799972 \nL 707.892209 265.115518 \nL 708.822693 260.449108 \nL 709.753177 257.532959 \nL 710.683661 265.183854 \nL 711.614144 265.270039 \nL 712.544628 262.189927 \nL 713.475112 256.447771 \nL 714.405596 261.888945 \nL 715.33608 264.475622 \nL 716.266564 261.574802 \nL 717.197048 255.911645 \nL 718.127532 259.691742 \nL 719.058016 261.319039 \nL 719.9885 255.882707 \nL 720.918984 251.112006 \nL 721.849468 252.259112 \nL 722.779952 253.103826 \nL 725.571404 264.645134 \nL 726.501888 263.389518 \nL 727.432372 259.999701 \nL 728.362856 268.178377 \nL 729.29334 269.23721 \nL 730.223824 267.613287 \nL 732.084792 258.738798 \nL 733.015276 268.28594 \nL 733.945759 269.091653 \nL 734.876243 268.002698 \nL 735.806727 266.166299 \nL 736.737211 260.962377 \nL 737.667695 259.362849 \nL 738.598179 267.436345 \nL 739.528663 267.22396 \nL 740.459147 265.385306 \nL 741.389631 260.28469 \nL 742.320115 258.831691 \nL 743.250599 266.111704 \nL 744.181083 265.784072 \nL 745.111567 262.878337 \nL 746.042051 257.164226 \nL 746.972535 262.103532 \nL 747.903019 265.147042 \nL 748.833503 262.780455 \nL 749.763987 257.130824 \nL 750.694471 259.839062 \nL 751.624955 263.397663 \nL 752.555439 260.462945 \nL 753.485923 255.254891 \nL 754.416407 256.840313 \nL 755.346891 254.714409 \nL 756.277374 250.97263 \nL 757.207858 252.395742 \nL 758.138342 257.096656 \nL 759.068826 260.481431 \nL 759.99931 264.724868 \nL 760.929794 268.168851 \nL 761.860278 265.455088 \nL 762.790762 258.998226 \nL 763.721246 267.395253 \nL 764.65173 270.054343 \nL 765.582214 269.204231 \nL 766.512698 267.939167 \nL 767.443182 265.535602 \nL 768.373666 259.186358 \nL 769.30415 263.09212 \nL 770.234634 268.292999 \nL 771.165118 267.313871 \nL 772.095602 265.246582 \nL 773.026086 259.607193 \nL 773.95657 260.546246 \nL 774.887054 266.733834 \nL 775.817538 265.891296 \nL 776.748022 262.733764 \nL 777.678506 257.557947 \nL 778.60899 263.001322 \nL 779.539473 265.374354 \nL 780.469957 262.918211 \nL 781.400441 257.50795 \nL 783.261409 263.953929 \nL 784.191893 261.299599 \nL 785.122377 256.464787 \nL 786.052861 259.410535 \nL 786.983345 259.960759 \nL 787.913829 254.34863 \nL 788.844313 251.306199 \nL 789.774797 252.317409 \nL 790.705281 254.028629 \nL 791.635765 258.879422 \nL 793.496733 265.607271 \nL 794.427217 264.217069 \nL 795.357701 259.917627 \nL 796.288185 267.381515 \nL 797.218669 269.161962 \nL 798.149153 267.834478 \nL 799.079637 264.981812 \nL 800.010121 258.970635 \nL 800.940605 264.876605 \nL 801.871088 268.356909 \nL 802.801572 267.221854 \nL 803.732056 264.89463 \nL 804.66254 259.156191 \nL 805.593024 261.96946 \nL 806.523508 266.860224 \nL 807.453992 265.698884 \nL 809.31496 258.076832 \nL 810.245444 263.926253 \nL 811.175928 265.22747 \nL 812.106412 262.304989 \nL 813.036896 257.591266 \nL 813.96738 261.767394 \nL 814.897864 263.94568 \nL 815.828348 260.756383 \nL 816.758832 257.002006 \nL 817.689316 260.700709 \nL 818.6198 260.928476 \nL 819.550284 256.085923 \nL 820.480768 253.828287 \nL 821.411252 252.863354 \nL 822.341736 252.088265 \nL 823.27222 254.453822 \nL 824.202704 259.96986 \nL 825.133187 262.298724 \nL 826.063671 265.618942 \nL 826.994155 264.936963 \nL 827.924639 260.042485 \nL 828.855123 265.99901 \nL 829.785607 268.992519 \nL 830.716091 267.790598 \nL 831.646575 265.199536 \nL 832.577059 259.434599 \nL 834.438027 267.980916 \nL 835.368511 266.884355 \nL 836.298995 264.287797 \nL 837.229479 258.926998 \nL 839.090447 266.488453 \nL 840.020931 265.018087 \nL 840.951415 260.557936 \nL 841.881899 259.175891 \nL 842.812383 264.577509 \nL 843.742867 264.457258 \nL 844.673351 260.455201 \nL 845.603835 258.338458 \nL 846.534319 262.989815 \nL 847.464802 263.010301 \nL 848.395286 258.706605 \nL 849.32577 258.30656 \nL 850.256254 261.331003 \nL 851.186738 259.099088 \nL 852.117222 255.170547 \nL 853.047706 254.291674 \nL 853.97819 252.402447 \nL 854.908674 252.357972 \nL 855.839158 255.886014 \nL 856.769642 260.885325 \nL 857.700126 263.075677 \nL 858.63061 266.211247 \nL 859.561094 264.665561 \nL 860.491578 260.1908 \nL 861.422062 266.376905 \nL 862.352546 268.762849 \nL 863.28303 267.53374 \nL 864.213514 264.82146 \nL 865.143998 259.530964 \nL 866.074482 264.134607 \nL 867.004966 267.606893 \nL 867.93545 266.404364 \nL 868.865934 263.254341 \nL 869.796417 258.944756 \nL 870.726901 263.91218 \nL 871.657385 266.074173 \nL 872.587869 264.064067 \nL 873.518353 259.260646 \nL 874.448837 260.860142 \nL 875.379321 264.788969 \nL 876.309805 263.430424 \nL 877.240289 258.926201 \nL 878.170773 260.012831 \nL 879.101257 263.384551 \nL 880.031741 261.674268 \nL 880.962225 257.817848 \nL 881.892709 259.98753 \nL 882.823193 261.110292 \nL 883.753677 257.805199 \nL 884.684161 256.103239 \nL 885.614645 255.08853 \nL 886.545129 252.23525 \nL 887.475613 252.307753 \nL 888.406097 255.644528 \nL 889.336581 260.724231 \nL 890.267065 262.82315 \nL 891.197549 266.253946 \nL 892.128033 266.034309 \nL 893.058516 260.969013 \nL 893.989 263.794533 \nL 894.919484 268.65089 \nL 895.849968 267.932762 \nL 896.780452 266.097824 \nL 897.710936 261.380616 \nL 898.64142 261.176104 \nL 899.571904 266.840363 \nL 900.502388 266.695495 \nL 901.432872 264.405147 \nL 902.363356 259.646484 \nL 903.29384 262.046648 \nL 904.224324 265.807697 \nL 905.154808 264.593153 \nL 906.085292 260.368152 \nL 907.015776 259.901842 \nL 907.94626 264.156051 \nL 908.876744 263.798663 \nL 909.807228 259.824946 \nL 910.737712 259.451713 \nL 911.668196 262.935897 \nL 912.59868 262.111786 \nL 913.529164 258.44552 \nL 914.459648 259.698496 \nL 915.390131 261.304469 \nL 916.320615 258.822807 \nL 917.251099 257.20828 \nL 918.181583 257.293095 \nL 919.112067 254.112234 \nL 920.042551 251.837967 \nL 920.973035 253.060661 \nL 921.903519 256.953432 \nL 922.834003 261.350108 \nL 923.764487 263.651562 \nL 924.694971 266.652557 \nL 925.625455 265.590602 \nL 926.555939 260.816868 \nL 928.416907 268.401677 \nL 929.347391 267.547982 \nL 930.277875 265.457596 \nL 931.208359 260.690363 \nL 932.138843 262.342598 \nL 933.069327 266.849889 \nL 933.999811 266.223748 \nL 934.930295 263.419134 \nL 935.860779 259.527376 \nL 936.791263 263.251102 \nL 937.721747 265.596495 \nL 938.65223 263.785321 \nL 939.582714 259.623097 \nL 940.513198 261.16513 \nL 941.443682 264.306836 \nL 942.374166 263.015441 \nL 943.30465 259.218277 \nL 944.235134 260.627088 \nL 945.165618 263.029148 \nL 946.096102 261.156948 \nL 947.026586 258.605949 \nL 947.95707 260.726701 \nL 948.887554 261.145229 \nL 949.818038 258.693927 \nL 950.748522 258.456486 \nL 951.679006 258.892503 \nL 952.60949 256.345059 \nL 953.539974 253.175912 \nL 954.470458 252.345209 \nL 955.400942 253.743117 \nL 957.26191 261.858263 \nL 959.122878 266.54278 \nL 960.053362 264.643403 \nL 960.983845 260.955652 \nL 961.914329 265.524563 \nL 962.844813 268.009095 \nL 963.775297 266.889482 \nL 964.705781 263.984032 \nL 965.636265 260.25014 \nL 966.566749 264.448131 \nL 967.497233 266.790142 \nL 968.427717 265.48263 \nL 969.358201 261.803986 \nL 970.288685 260.343998 \nL 971.219169 264.569198 \nL 972.149653 265.195408 \nL 974.010621 259.517146 \nL 974.941105 262.619798 \nL 975.871589 264.224289 \nL 976.802073 261.909783 \nL 977.732557 259.250985 \nL 978.663041 261.823865 \nL 979.593525 262.830029 \nL 980.524009 260.281406 \nL 981.454493 259.36626 \nL 982.384977 261.445724 \nL 983.31546 260.870931 \nL 984.245944 258.923877 \nL 985.176428 259.562185 \nL 986.106912 259.891964 \nL 987.96788 256.65686 \nL 989.828848 252.604046 \nL 990.759332 253.247358 \nL 991.689816 256.815786 \nL 992.6203 261.638045 \nL 993.550784 263.375962 \nL 994.481268 266.190493 \nL 995.411752 266.065405 \nL 996.342236 262.124278 \nL 997.27272 262.834004 \nL 998.203204 267.407301 \nL 999.133688 267.363137 \nL 1000.064172 265.60086 \nL 1000.994656 261.536931 \nL 1001.92514 261.901549 \nL 1002.855624 266.115015 \nL 1003.786108 266.118873 \nL 1004.716592 263.832379 \nL 1005.647076 260.238666 \nL 1007.508043 265.206935 \nL 1008.438527 264.094252 \nL 1009.369011 260.590065 \nL 1010.299495 260.856403 \nL 1011.229979 263.776865 \nL 1012.160463 263.376329 \nL 1013.090947 260.28846 \nL 1014.021431 260.429795 \nL 1014.951915 262.729898 \nL 1015.882399 261.869826 \nL 1016.812883 259.615258 \nL 1018.673851 261.669402 \nL 1019.604335 260.236473 \nL 1020.534819 259.458032 \nL 1021.465303 260.426746 \nL 1022.395787 260.113624 \nL 1023.326271 258.934021 \nL 1024.256755 258.635702 \nL 1025.187239 257.807753 \nL 1027.048207 252.826024 \nL 1027.978691 253.139173 \nL 1028.909174 255.992048 \nL 1029.839658 261.193669 \nL 1030.770142 262.92109 \nL 1031.700626 265.7349 \nL 1032.63111 266.81299 \nL 1033.561594 264.374026 \nL 1034.492078 261.421774 \nL 1035.422562 265.413337 \nL 1036.353046 267.592756 \nL 1037.28353 266.674415 \nL 1038.214014 264.276539 \nL 1039.144498 260.852064 \nL 1041.005466 266.21594 \nL 1041.93595 265.421703 \nL 1042.866434 262.496207 \nL 1043.796918 260.559351 \nL 1044.727402 263.698021 \nL 1045.657886 264.954835 \nL 1046.58837 263.13494 \nL 1047.518854 260.239942 \nL 1049.379822 263.79233 \nL 1050.310306 262.482214 \nL 1051.24079 260.087743 \nL 1053.101757 262.699896 \nL 1054.962725 259.996219 \nL 1055.893209 261.268878 \nL 1056.823693 261.598797 \nL 1057.754177 260.305528 \nL 1058.684661 260.080154 \nL 1059.615145 260.842108 \nL 1060.545629 260.478172 \nL 1061.476113 259.69057 \nL 1063.337081 259.722138 \nL 1064.267565 258.893855 \nL 1065.198049 257.652635 \nL 1066.128533 255.62138 \nL 1067.059017 253.300539 \nL 1067.989501 253.284576 \nL 1068.919985 255.927208 \nL 1069.850469 261.218303 \nL 1070.780953 262.919873 \nL 1071.711437 265.440647 \nL 1072.641921 266.949934 \nL 1073.572405 265.566685 \nL 1074.502888 261.998046 \nL 1075.433372 263.597409 \nL 1076.363856 267.120315 \nL 1077.29434 267.013112 \nL 1078.224824 265.557751 \nL 1079.155308 262.278673 \nL 1080.085792 261.718783 \nL 1081.016276 265.151563 \nL 1081.94676 265.880383 \nL 1082.877244 264.331201 \nL 1083.807728 261.222781 \nL 1084.738212 261.80454 \nL 1085.668696 264.431723 \nL 1086.59918 264.434003 \nL 1087.529664 262.013205 \nL 1088.460148 260.60987 \nL 1089.390632 262.819834 \nL 1090.321116 263.542498 \nL 1091.2516 261.724835 \nL 1092.182084 260.476715 \nL 1093.112568 262.054644 \nL 1094.043052 262.535785 \nL 1094.973536 261.090459 \nL 1095.90402 260.539907 \nL 1096.834503 261.630392 \nL 1097.764987 261.63961 \nL 1098.695471 260.625066 \nL 1099.625955 260.584278 \nL 1100.556439 261.17229 \nL 1101.486923 260.911376 \nL 1102.417407 260.334398 \nL 1104.278375 260.589852 \nL 1106.139343 259.90158 \nL 1107.069827 259.792625 \nL 1108.000311 259.490311 \nL 1108.930795 258.688621 \nL 1109.861279 257.18248 \nL 1110.791763 254.774798 \nL 1111.722247 253.252163 \nL 1112.652731 254.303572 \nL 1114.513699 262.623041 \nL 1115.444183 263.709728 \nL 1116.374667 266.331366 \nL 1117.305151 267.0795 \nL 1118.235635 265.565025 \nL 1119.166119 262.315269 \nL 1120.096602 263.405678 \nL 1121.027086 266.715134 \nL 1121.95757 266.936786 \nL 1122.888054 265.84843 \nL 1123.818538 263.323674 \nL 1124.749022 261.458762 \nL 1125.679506 264.04671 \nL 1126.60999 265.704474 \nL 1127.540474 264.995728 \nL 1128.470958 262.591071 \nL 1129.401442 261.161024 \nL 1130.331926 263.361273 \nL 1131.26241 264.518688 \nL 1132.192894 263.384176 \nL 1133.123378 261.136126 \nL 1134.053862 261.690366 \nL 1134.984346 263.349257 \nL 1135.91483 262.974064 \nL 1136.845314 261.243863 \nL 1137.775798 261.214874 \nL 1138.706282 262.475604 \nL 1139.636766 262.326694 \nL 1140.56725 261.150722 \nL 1141.497734 261.105738 \nL 1142.428217 261.902028 \nL 1143.358701 261.770965 \nL 1144.289185 261.037429 \nL 1145.219669 261.03849 \nL 1146.150153 261.480637 \nL 1147.080637 261.35515 \nL 1148.011121 260.92833 \nL 1148.941605 260.931457 \nL 1149.872089 261.141056 \nL 1150.802573 261.036383 \nL 1151.733057 260.791448 \nL 1154.524509 260.744343 \nL 1156.385477 260.517503 \nL 1158.246445 260.354612 \nL 1160.107413 259.964364 \nL 1161.037897 259.667636 \nL 1161.968381 259.096551 \nL 1162.898865 257.906027 \nL 1164.759833 253.805015 \nL 1165.690316 254.185004 \nL 1166.6208 257.363694 \nL 1167.551284 262.510264 \nL 1168.481768 263.319747 \nL 1169.412252 265.50235 \nL 1170.342736 267.266388 \nL 1171.27322 266.974412 \nL 1172.203704 265.464912 \nL 1173.134188 262.669303 \nL 1174.064672 263.25123 \nL 1174.995156 266.140312 \nL 1175.92564 266.748499 \nL 1176.856124 266.042394 \nL 1177.786608 264.492105 \nL 1178.717092 262.059238 \nL 1179.647576 262.645461 \nL 1180.57806 264.845449 \nL 1181.508544 265.321658 \nL 1182.439028 264.278499 \nL 1183.369512 262.095731 \nL 1184.299996 261.800134 \nL 1185.23048 263.618578 \nL 1186.160964 264.187029 \nL 1187.091448 263.043914 \nL 1188.021931 261.472949 \nL 1188.952415 262.045994 \nL 1189.882899 263.230192 \nL 1190.813383 262.993346 \nL 1191.743867 261.773609 \nL 1192.674351 261.514351 \nL 1193.604835 262.396113 \nL 1194.535319 262.603984 \nL 1195.465803 261.889756 \nL 1196.396287 261.441887 \nL 1197.326771 261.887779 \nL 1198.257255 262.199976 \nL 1200.118223 261.477593 \nL 1201.979191 261.878906 \nL 1202.909675 261.769418 \nL 1203.840159 261.509747 \nL 1204.770643 261.503139 \nL 1205.701127 261.658229 \nL 1206.631611 261.658068 \nL 1208.492579 261.457012 \nL 1210.353546 261.560627 \nL 1213.144998 261.462216 \nL 1215.005966 261.479127 \nL 1217.797418 261.462508 \nL 1245.711937 261.734653 \nL 1356.439528 263.337786 \nL 1362.952916 263.639487 \nL 1364.813884 263.864332 \nL 1367.605336 264.618617 \nL 1370.396787 265.433176 \nL 1372.257755 266.167844 \nL 1374.118723 267.13645 \nL 1375.979691 268.345153 \nL 1383.423563 273.620003 \nL 1385.284531 274.585546 \nL 1387.145499 275.359857 \nL 1389.936951 276.214725 \nL 1392.728402 276.788889 \nL 1396.450338 277.265911 \nL 1401.102758 277.59436 \nL 1408.54663 277.840948 \nL 1422.503889 278.024827 \nL 1455.070828 278.192224 \nL 1508.108413 278.228847 \nL 1589.060518 278.040015 \nL 1714.675852 277.522834 \nL 1714.675852 277.522834 \n\" style=\"fill:none;stroke:#ff0000;stroke-linecap:square;stroke-width:1.5;\"/>\n   </g>\n   <g id=\"line2d_64\">\n    <path clip-path=\"url(#p0b136d8ffd)\" d=\"M 319.880398 292.035352 \nL 1714.675852 292.02443 \nL 1714.675852 292.02443 \n\" style=\"fill:none;stroke:#000000;stroke-linecap:square;stroke-opacity:0.5;stroke-width:1.5;\"/>\n   </g>\n   <g id=\"line2d_65\">\n    <path clip-path=\"url(#p0b136d8ffd)\" d=\"M 319.880398 292.036277 \nL 1714.675852 292.035238 \nL 1714.675852 292.035238 \n\" style=\"fill:none;stroke:#000000;stroke-linecap:square;stroke-opacity:0.5;stroke-width:1.5;\"/>\n   </g>\n   <g id=\"line2d_66\">\n    <path clip-path=\"url(#p0b136d8ffd)\" d=\"M 319.880398 292.036156 \nL 1714.675852 292.032868 \nL 1714.675852 292.032868 \n\" style=\"fill:none;stroke:#000000;stroke-linecap:square;stroke-opacity:0.5;stroke-width:1.5;\"/>\n   </g>\n   <g id=\"line2d_67\">\n    <path clip-path=\"url(#p0b136d8ffd)\" d=\"M 319.880398 292.036299 \nL 1714.675852 292.035337 \nL 1714.675852 292.035337 \n\" style=\"fill:none;stroke:#000000;stroke-linecap:square;stroke-opacity:0.5;stroke-width:1.5;\"/>\n   </g>\n   <g id=\"line2d_68\">\n    <path clip-path=\"url(#p0b136d8ffd)\" d=\"M 319.880398 292.035915 \nL 1714.675852 292.029317 \nL 1714.675852 292.029317 \n\" style=\"fill:none;stroke:#000000;stroke-linecap:square;stroke-opacity:0.5;stroke-width:1.5;\"/>\n   </g>\n   <g id=\"line2d_69\">\n    <path clip-path=\"url(#p0b136d8ffd)\" d=\"M 319.880398 292.036325 \nL 1714.675852 292.035794 \nL 1714.675852 292.035794 \n\" style=\"fill:none;stroke:#000000;stroke-linecap:square;stroke-opacity:0.5;stroke-width:1.5;\"/>\n   </g>\n   <g id=\"line2d_70\">\n    <path clip-path=\"url(#p0b136d8ffd)\" d=\"M 319.880398 292.036212 \nL 1714.675852 292.033902 \nL 1714.675852 292.033902 \n\" style=\"fill:none;stroke:#000000;stroke-linecap:square;stroke-opacity:0.5;stroke-width:1.5;\"/>\n   </g>\n   <g id=\"line2d_71\">\n    <path clip-path=\"url(#p0b136d8ffd)\" d=\"M 319.880398 292.036274 \nL 1714.675852 292.035105 \nL 1714.675852 292.035105 \n\" style=\"fill:none;stroke:#000000;stroke-linecap:square;stroke-opacity:0.5;stroke-width:1.5;\"/>\n   </g>\n   <g id=\"line2d_72\">\n    <path clip-path=\"url(#p0b136d8ffd)\" d=\"M 319.880398 292.036278 \nL 1714.675852 292.035092 \nL 1714.675852 292.035092 \n\" style=\"fill:none;stroke:#000000;stroke-linecap:square;stroke-opacity:0.5;stroke-width:1.5;\"/>\n   </g>\n   <g id=\"line2d_73\">\n    <path clip-path=\"url(#p0b136d8ffd)\" d=\"M 319.880398 292.036335 \nL 1714.675852 292.035929 \nL 1714.675852 292.035929 \n\" style=\"fill:none;stroke:#000000;stroke-linecap:square;stroke-opacity:0.5;stroke-width:1.5;\"/>\n   </g>\n   <g id=\"line2d_74\">\n    <path clip-path=\"url(#p0b136d8ffd)\" d=\"M 319.880398 292.036329 \nL 1714.675852 292.035879 \nL 1714.675852 292.035879 \n\" style=\"fill:none;stroke:#000000;stroke-linecap:square;stroke-opacity:0.5;stroke-width:1.5;\"/>\n   </g>\n   <g id=\"line2d_75\">\n    <path clip-path=\"url(#p0b136d8ffd)\" d=\"M 319.880398 292.034988 \nL 1714.675852 292.020929 \nL 1714.675852 292.020929 \n\" style=\"fill:none;stroke:#000000;stroke-linecap:square;stroke-opacity:0.5;stroke-width:1.5;\"/>\n   </g>\n   <g id=\"line2d_76\">\n    <path clip-path=\"url(#p0b136d8ffd)\" d=\"M 319.880398 292.036325 \nL 1714.675852 292.03574 \nL 1714.675852 292.03574 \n\" style=\"fill:none;stroke:#000000;stroke-linecap:square;stroke-opacity:0.5;stroke-width:1.5;\"/>\n   </g>\n   <g id=\"line2d_77\">\n    <path clip-path=\"url(#p0b136d8ffd)\" d=\"M 319.880398 292.036213 \nL 1714.675852 292.034254 \nL 1714.675852 292.034254 \n\" style=\"fill:none;stroke:#000000;stroke-linecap:square;stroke-opacity:0.5;stroke-width:1.5;\"/>\n   </g>\n   <g id=\"line2d_78\">\n    <path clip-path=\"url(#p0b136d8ffd)\" d=\"M 319.880398 292.036235 \nL 1714.675852 292.034433 \nL 1714.675852 292.034433 \n\" style=\"fill:none;stroke:#000000;stroke-linecap:square;stroke-opacity:0.5;stroke-width:1.5;\"/>\n   </g>\n   <g id=\"line2d_79\">\n    <path clip-path=\"url(#p0b136d8ffd)\" d=\"M 319.880398 292.035742 \nL 1714.675852 292.029415 \nL 1714.675852 292.029415 \n\" style=\"fill:none;stroke:#000000;stroke-linecap:square;stroke-opacity:0.5;stroke-width:1.5;\"/>\n   </g>\n   <g id=\"line2d_80\">\n    <path clip-path=\"url(#p0b136d8ffd)\" d=\"M 319.880398 292.036066 \nL 1714.675852 292.03304 \nL 1714.675852 292.03304 \n\" style=\"fill:none;stroke:#000000;stroke-linecap:square;stroke-opacity:0.5;stroke-width:1.5;\"/>\n   </g>\n   <g id=\"line2d_81\">\n    <path clip-path=\"url(#p0b136d8ffd)\" d=\"M 319.880398 292.036302 \nL 1714.675852 292.035313 \nL 1714.675852 292.035313 \n\" style=\"fill:none;stroke:#000000;stroke-linecap:square;stroke-opacity:0.5;stroke-width:1.5;\"/>\n   </g>\n   <g id=\"line2d_82\">\n    <path clip-path=\"url(#p0b136d8ffd)\" d=\"M 319.880398 292.03597 \nL 1714.675852 292.029597 \nL 1714.675852 292.029597 \n\" style=\"fill:none;stroke:#000000;stroke-linecap:square;stroke-opacity:0.5;stroke-width:1.5;\"/>\n   </g>\n   <g id=\"line2d_83\">\n    <path clip-path=\"url(#p0b136d8ffd)\" d=\"M 319.880398 292.036283 \nL 1714.675852 292.035143 \nL 1714.675852 292.035143 \n\" style=\"fill:none;stroke:#000000;stroke-linecap:square;stroke-opacity:0.5;stroke-width:1.5;\"/>\n   </g>\n   <g id=\"line2d_84\">\n    <path clip-path=\"url(#p0b136d8ffd)\" d=\"M 319.880398 292.036268 \nL 1714.675852 292.034816 \nL 1714.675852 292.034816 \n\" style=\"fill:none;stroke:#000000;stroke-linecap:square;stroke-opacity:0.5;stroke-width:1.5;\"/>\n   </g>\n   <g id=\"line2d_85\">\n    <path clip-path=\"url(#p0b136d8ffd)\" d=\"M 319.880398 292.036335 \nL 1714.675852 292.03596 \nL 1714.675852 292.03596 \n\" style=\"fill:none;stroke:#000000;stroke-linecap:square;stroke-opacity:0.5;stroke-width:1.5;\"/>\n   </g>\n   <g id=\"line2d_86\">\n    <path clip-path=\"url(#p0b136d8ffd)\" d=\"M 319.880398 292.036287 \nL 1714.675852 292.035281 \nL 1714.675852 292.035281 \n\" style=\"fill:none;stroke:#000000;stroke-linecap:square;stroke-opacity:0.5;stroke-width:1.5;\"/>\n   </g>\n   <g id=\"line2d_87\">\n    <path clip-path=\"url(#p0b136d8ffd)\" d=\"M 319.880398 292.035798 \nL 1714.675852 292.028657 \nL 1714.675852 292.028657 \n\" style=\"fill:none;stroke:#000000;stroke-linecap:square;stroke-opacity:0.5;stroke-width:1.5;\"/>\n   </g>\n   <g id=\"line2d_88\">\n    <path clip-path=\"url(#p0b136d8ffd)\" d=\"M 319.880398 292.036279 \nL 1714.675852 292.035377 \nL 1714.675852 292.035377 \n\" style=\"fill:none;stroke:#000000;stroke-linecap:square;stroke-opacity:0.5;stroke-width:1.5;\"/>\n   </g>\n   <g id=\"line2d_89\">\n    <path clip-path=\"url(#p0b136d8ffd)\" d=\"M 319.880398 292.032279 \nL 1714.675852 291.981745 \nL 1714.675852 291.981745 \n\" style=\"fill:none;stroke:#000000;stroke-linecap:square;stroke-opacity:0.5;stroke-width:1.5;\"/>\n   </g>\n   <g id=\"line2d_90\">\n    <path clip-path=\"url(#p0b136d8ffd)\" d=\"M 319.880398 47.269323 \nL 625.079136 46.412825 \nL 679.047206 46.113446 \nL 732.084792 45.343518 \nL 804.66254 43.953101 \nL 839.090447 42.964743 \nL 854.908674 42.311047 \nL 865.143998 41.689873 \nL 872.587869 41.012751 \nL 877.240289 40.368123 \nL 880.031741 39.796881 \nL 881.892709 39.26394 \nL 883.753677 38.499463 \nL 884.684161 37.957933 \nL 885.614645 37.222207 \nL 886.545129 36.116852 \nL 887.475613 34.063693 \nL 888.406097 27.792339 \nL 889.336581 29.075271 \nL 890.267065 36.323506 \nL 891.197549 35.321922 \nL 892.128033 32.283521 \nL 893.058516 25.693261 \nL 893.989 32.634247 \nL 894.919484 35.689382 \nL 895.849968 33.800702 \nL 896.780452 28.140391 \nL 897.710936 27.556784 \nL 898.64142 34.888812 \nL 899.571904 33.907157 \nL 901.432872 25.440541 \nL 902.363356 32.355203 \nL 903.29384 31.918403 \nL 904.224324 26.10562 \nL 905.154808 21.648332 \nL 906.085292 23.181094 \nL 907.015776 22.367919 \nL 907.94626 25.014718 \nL 908.876744 30.779105 \nL 909.807228 32.50086 \nL 910.737712 33.349409 \nL 911.668196 30.332194 \nL 913.529164 38.21609 \nL 914.459648 35.59738 \nL 915.390131 27.99746 \nL 916.320615 36.80729 \nL 917.251099 40.257177 \nL 918.181583 39.499236 \nL 919.112067 38.436271 \nL 920.042551 36.701031 \nL 920.973035 31.835209 \nL 921.903519 28.407428 \nL 922.834003 38.107352 \nL 923.764487 38.282235 \nL 924.694971 37.006635 \nL 925.625455 34.502485 \nL 926.555939 27.740163 \nL 928.416907 37.481321 \nL 929.347391 36.302327 \nL 930.277875 33.646768 \nL 931.208359 27.170656 \nL 932.138843 32.161941 \nL 933.069327 36.379433 \nL 933.999811 34.814642 \nL 934.930295 30.291076 \nL 935.860779 27.093737 \nL 936.791263 34.450476 \nL 937.721747 34.61414 \nL 938.65223 31.036487 \nL 939.582714 26.086225 \nL 940.513198 31.918165 \nL 941.443682 33.153492 \nL 943.30465 24.65696 \nL 944.235134 26.959189 \nL 946.096102 20.763636 \nL 947.026586 23.577961 \nL 947.95707 28.756588 \nL 948.887554 31.035917 \nL 949.818038 37.005711 \nL 950.748522 38.15944 \nL 952.60949 29.316957 \nL 953.539974 39.544991 \nL 954.470458 40.187456 \nL 955.400942 39.336943 \nL 956.331426 38.107683 \nL 957.26191 35.853492 \nL 958.192394 29.404863 \nL 959.122878 32.465107 \nL 960.053362 38.594642 \nL 960.983845 37.760306 \nL 961.914329 36.053928 \nL 962.844813 31.463816 \nL 963.775297 28.510977 \nL 964.705781 36.406661 \nL 965.636265 36.71424 \nL 966.566749 34.674869 \nL 967.497233 29.106512 \nL 968.427717 29.822838 \nL 969.358201 35.885129 \nL 970.288685 34.928343 \nL 971.219169 30.867004 \nL 972.149653 27.396014 \nL 973.080137 33.642549 \nL 974.010621 34.253656 \nL 975.871589 26.855041 \nL 976.802073 32.02232 \nL 977.732557 32.351409 \nL 978.663041 27.528215 \nL 979.593525 25.932023 \nL 980.524009 27.047931 \nL 981.454493 22.717585 \nL 982.384977 21.077271 \nL 983.31546 23.926949 \nL 984.245944 28.790648 \nL 985.176428 31.458437 \nL 986.106912 36.437056 \nL 987.037396 37.540639 \nL 987.96788 32.691807 \nL 988.898364 30.759203 \nL 989.828848 39.423327 \nL 990.759332 39.486766 \nL 991.689816 38.436965 \nL 992.6203 36.709728 \nL 993.550784 32.025606 \nL 994.481268 29.687541 \nL 995.411752 37.402557 \nL 996.342236 37.656469 \nL 997.27272 36.022043 \nL 998.203204 31.756907 \nL 999.133688 28.852834 \nL 1000.064172 35.707355 \nL 1000.994656 36.284773 \nL 1001.92514 33.916563 \nL 1002.855624 28.513658 \nL 1003.786108 31.355234 \nL 1004.716592 35.491005 \nL 1005.647076 33.88589 \nL 1006.577559 28.90444 \nL 1007.508043 29.552611 \nL 1008.438527 34.136504 \nL 1009.369011 32.836576 \nL 1010.299495 28.008241 \nL 1011.229979 29.364616 \nL 1012.160463 32.642183 \nL 1013.090947 30.205747 \nL 1014.021431 26.436282 \nL 1014.951915 28.425318 \nL 1015.882399 26.729319 \nL 1016.812883 22.012932 \nL 1017.743367 21.708324 \nL 1018.673851 23.934569 \nL 1019.604335 28.465419 \nL 1020.534819 31.656075 \nL 1021.465303 35.521332 \nL 1022.395787 36.897421 \nL 1023.326271 32.319728 \nL 1024.256755 31.559126 \nL 1025.187239 38.842467 \nL 1026.117723 38.801837 \nL 1027.048207 37.496271 \nL 1027.978691 34.752411 \nL 1028.909174 29.392499 \nL 1029.839658 34.222129 \nL 1030.770142 37.66346 \nL 1031.700626 36.460951 \nL 1032.63111 33.375865 \nL 1033.561594 28.8728 \nL 1034.492078 33.884474 \nL 1035.422562 36.233567 \nL 1036.353046 34.359071 \nL 1037.28353 29.551208 \nL 1038.214014 30.562442 \nL 1039.144498 34.974193 \nL 1040.074982 33.975693 \nL 1041.005466 29.558543 \nL 1041.93595 29.59794 \nL 1042.866434 33.698087 \nL 1043.796918 32.801748 \nL 1044.727402 28.55456 \nL 1045.657886 29.727248 \nL 1046.58837 32.5216 \nL 1047.518854 30.388895 \nL 1048.449338 27.540487 \nL 1049.379822 29.794806 \nL 1050.310306 29.412813 \nL 1051.24079 25.891066 \nL 1052.171273 23.953806 \nL 1053.101757 22.575478 \nL 1054.032241 22.769991 \nL 1054.962725 26.030991 \nL 1055.893209 31.031243 \nL 1056.823693 33.187025 \nL 1057.754177 36.001632 \nL 1058.684661 34.525526 \nL 1059.615145 30.678974 \nL 1060.545629 35.803895 \nL 1061.476113 38.249014 \nL 1062.406597 36.950279 \nL 1064.267565 29.965594 \nL 1065.198049 35.562457 \nL 1066.128533 37.244934 \nL 1067.059017 35.751956 \nL 1067.989501 31.814519 \nL 1068.919985 30.034912 \nL 1069.850469 35.078116 \nL 1070.780953 35.678231 \nL 1071.711437 33.028575 \nL 1072.641921 29.176016 \nL 1073.572405 32.545333 \nL 1074.502888 34.833947 \nL 1075.433372 32.750643 \nL 1076.363856 28.988003 \nL 1078.224824 33.725039 \nL 1079.155308 31.538203 \nL 1080.085792 28.695617 \nL 1081.016276 31.343493 \nL 1081.94676 32.228278 \nL 1082.877244 29.462989 \nL 1083.807728 29.040459 \nL 1084.738212 30.955392 \nL 1085.668696 29.789404 \nL 1086.59918 28.070798 \nL 1087.529664 28.626279 \nL 1088.460148 27.477156 \nL 1089.390632 24.244191 \nL 1090.321116 22.37366 \nL 1091.2516 23.122782 \nL 1092.182084 26.322379 \nL 1093.112568 31.21146 \nL 1094.043052 33.207011 \nL 1094.973536 36.178212 \nL 1095.90402 36.013039 \nL 1096.834503 31.796465 \nL 1097.764987 33.077043 \nL 1098.695471 37.771284 \nL 1099.625955 37.49209 \nL 1100.556439 35.678876 \nL 1101.486923 31.420385 \nL 1102.417407 31.868685 \nL 1103.347891 36.373302 \nL 1104.278375 36.292049 \nL 1105.208859 34.007861 \nL 1106.139343 30.143136 \nL 1107.069827 32.540978 \nL 1108.000311 35.443165 \nL 1108.930795 34.373882 \nL 1109.861279 30.737474 \nL 1110.791763 30.636155 \nL 1111.722247 33.95874 \nL 1112.652731 33.825624 \nL 1113.583215 30.621631 \nL 1114.513699 30.122034 \nL 1115.444183 32.911148 \nL 1116.374667 32.550044 \nL 1117.305151 29.80836 \nL 1118.235635 30.404388 \nL 1119.166119 32.137573 \nL 1120.096602 30.892158 \nL 1121.027086 29.435268 \nL 1121.95757 30.704056 \nL 1122.888054 30.968492 \nL 1123.818538 29.606563 \nL 1124.749022 29.520182 \nL 1125.679506 30.098198 \nL 1126.60999 29.387746 \nL 1127.540474 28.443777 \nL 1128.470958 27.76881 \nL 1129.401442 25.776212 \nL 1130.331926 23.17772 \nL 1131.26241 22.977026 \nL 1132.192894 25.411071 \nL 1133.123378 30.636879 \nL 1134.053862 32.678203 \nL 1134.984346 35.302004 \nL 1135.91483 36.847114 \nL 1136.845314 35.062837 \nL 1137.775798 31.492024 \nL 1139.636766 37.531704 \nL 1140.56725 36.939272 \nL 1141.497734 35.060426 \nL 1142.428217 31.370716 \nL 1143.358701 32.50155 \nL 1144.289185 35.943168 \nL 1145.219669 35.826251 \nL 1146.150153 33.638935 \nL 1147.080637 30.60086 \nL 1148.941605 34.97502 \nL 1149.872089 34.146676 \nL 1150.802573 31.151184 \nL 1151.733057 30.9497 \nL 1152.663541 33.517765 \nL 1153.594025 33.533087 \nL 1154.524509 31.095504 \nL 1155.454993 30.581633 \nL 1156.385477 32.602127 \nL 1157.315961 32.509908 \nL 1158.246445 30.626119 \nL 1159.176929 30.700622 \nL 1160.107413 32.014017 \nL 1161.037897 31.525213 \nL 1161.968381 30.354243 \nL 1162.898865 30.828171 \nL 1163.829349 31.42896 \nL 1165.690316 30.302656 \nL 1166.6208 30.73327 \nL 1167.551284 30.84004 \nL 1168.481768 30.356442 \nL 1169.412252 30.196421 \nL 1170.342736 30.379559 \nL 1171.27322 30.242234 \nL 1172.203704 29.890745 \nL 1174.064672 29.491268 \nL 1174.995156 28.874393 \nL 1175.92564 27.618809 \nL 1177.786608 23.4661 \nL 1178.717092 23.854565 \nL 1179.647576 27.007185 \nL 1180.57806 32.098105 \nL 1181.508544 33.222492 \nL 1182.439028 35.716686 \nL 1183.369512 37.124535 \nL 1184.299996 36.220274 \nL 1185.23048 33.203387 \nL 1186.160964 32.433261 \nL 1187.091448 35.957617 \nL 1188.021931 37.083329 \nL 1188.952415 36.315163 \nL 1189.882899 34.535856 \nL 1190.813383 31.708224 \nL 1191.743867 32.788781 \nL 1192.674351 35.348926 \nL 1193.604835 35.50764 \nL 1194.535319 33.979505 \nL 1195.465803 31.447295 \nL 1196.396287 32.139526 \nL 1197.326771 34.231366 \nL 1198.257255 34.341574 \nL 1199.187739 32.508302 \nL 1200.118223 31.042602 \nL 1201.048707 32.5372 \nL 1201.979191 33.569621 \nL 1202.909675 32.620406 \nL 1203.840159 31.131029 \nL 1204.770643 31.716282 \nL 1205.701127 32.757921 \nL 1206.631611 32.32306 \nL 1207.562095 31.251713 \nL 1208.492579 31.433276 \nL 1209.423063 32.180371 \nL 1210.353546 32.00284 \nL 1211.28403 31.314074 \nL 1212.214514 31.332151 \nL 1213.144998 31.800776 \nL 1214.075482 31.758049 \nL 1215.005966 31.348835 \nL 1215.93645 31.295394 \nL 1216.866934 31.558793 \nL 1217.797418 31.581916 \nL 1218.727902 31.360075 \nL 1219.658386 31.289065 \nL 1221.519354 31.467791 \nL 1223.380322 31.299121 \nL 1225.24129 31.405918 \nL 1228.032742 31.348603 \nL 1230.824194 31.365998 \nL 1244.781453 31.617123 \nL 1310.845814 33.261529 \nL 1315.498234 33.584962 \nL 1317.359202 33.895139 \nL 1322.942106 35.721321 \nL 1324.803073 36.601746 \nL 1326.664041 37.727746 \nL 1329.455493 39.768954 \nL 1333.177429 42.510507 \nL 1335.038397 43.65899 \nL 1336.899365 44.607484 \nL 1338.760333 45.36325 \nL 1341.551785 46.190815 \nL 1344.343237 46.740031 \nL 1348.065172 47.187713 \nL 1352.717592 47.484163 \nL 1360.161464 47.686992 \nL 1377.840659 47.846431 \nL 1446.696472 48.223852 \nL 1518.343737 48.315723 \nL 1639.306652 48.221217 \nL 1714.675852 48.103657 \nL 1714.675852 48.103657 \n\" style=\"fill:none;stroke:#ff8c00;stroke-linecap:square;stroke-width:1.5;\"/>\n   </g>\n   <g id=\"line2d_91\">\n    <path clip-path=\"url(#p0b136d8ffd)\" d=\"M 319.880398 292.034273 \nL 1714.675852 292.003629 \nL 1714.675852 292.003629 \n\" style=\"fill:none;stroke:#000000;stroke-linecap:square;stroke-opacity:0.5;stroke-width:1.5;\"/>\n   </g>\n   <g id=\"line2d_92\">\n    <path clip-path=\"url(#p0b136d8ffd)\" d=\"M 319.880398 292.035717 \nL 1714.675852 292.02731 \nL 1714.675852 292.02731 \n\" style=\"fill:none;stroke:#000000;stroke-linecap:square;stroke-opacity:0.5;stroke-width:1.5;\"/>\n   </g>\n   <g id=\"line2d_93\">\n    <path clip-path=\"url(#p0b136d8ffd)\" d=\"M 319.880398 292.03597 \nL 1714.675852 292.030782 \nL 1714.675852 292.030782 \n\" style=\"fill:none;stroke:#000000;stroke-linecap:square;stroke-opacity:0.5;stroke-width:1.5;\"/>\n   </g>\n   <g id=\"line2d_94\">\n    <path clip-path=\"url(#p0b136d8ffd)\" d=\"M 319.880398 228.962107 \nL 476.201703 227.848886 \nL 562.736711 227.031965 \nL 609.260909 226.391888 \nL 634.383976 225.843076 \nL 648.341235 225.340247 \nL 656.715591 224.847571 \nL 662.298495 224.320673 \nL 666.02043 223.768567 \nL 668.811882 223.124343 \nL 670.67285 222.466272 \nL 671.603334 222.007817 \nL 672.533818 221.398418 \nL 673.464302 220.524008 \nL 674.394786 219.08087 \nL 675.32527 215.490019 \nL 676.255754 210.068975 \nL 677.186238 217.744034 \nL 678.116722 219.432266 \nL 679.047206 217.031331 \nL 679.97769 210.680881 \nL 680.908174 214.428265 \nL 681.838658 219.225864 \nL 682.769142 217.420035 \nL 683.699626 211.680858 \nL 684.63011 212.129918 \nL 685.560594 218.288211 \nL 686.491078 216.841017 \nL 687.421562 211.198746 \nL 688.352045 210.982007 \nL 689.282529 215.694804 \nL 690.213013 212.26188 \nL 691.143497 205.531786 \nL 692.073981 205.772403 \nL 693.004465 207.17258 \nL 693.934949 209.732558 \nL 694.865433 214.760198 \nL 695.795917 218.694393 \nL 696.726401 217.965522 \nL 697.656885 213.26838 \nL 698.587369 222.666043 \nL 699.517853 224.114586 \nL 700.448337 222.967788 \nL 701.378821 221.016388 \nL 702.309305 215.017988 \nL 703.239789 214.793083 \nL 704.170273 223.666668 \nL 705.100757 223.240986 \nL 706.031241 222.167495 \nL 706.961725 220.384427 \nL 707.892209 215.296756 \nL 708.822693 212.802909 \nL 709.753177 221.816679 \nL 710.683661 221.773825 \nL 711.614144 220.267155 \nL 712.544628 216.613355 \nL 713.475112 211.145958 \nL 714.405596 219.172847 \nL 715.33608 220.859411 \nL 716.266564 219.13648 \nL 717.197048 214.353016 \nL 718.127532 211.74755 \nL 719.058016 219.410476 \nL 719.9885 219.382965 \nL 720.918984 216.355455 \nL 721.849468 210.5554 \nL 722.779952 215.954357 \nL 723.710436 218.711431 \nL 724.64092 216.016679 \nL 725.571404 210.237788 \nL 726.501888 213.812237 \nL 727.432372 216.397636 \nL 728.362856 212.115221 \nL 729.29334 206.667502 \nL 730.223824 207.022214 \nL 731.154308 206.252591 \nL 732.084792 207.281958 \nL 733.015276 213.026753 \nL 733.945759 215.718059 \nL 734.876243 218.791392 \nL 735.806727 217.75579 \nL 736.737211 213.674974 \nL 737.667695 221.990522 \nL 738.598179 223.414961 \nL 739.528663 222.000509 \nL 740.459147 218.868336 \nL 741.389631 212.290724 \nL 742.320115 220.199062 \nL 743.250599 223.101436 \nL 744.181083 222.09306 \nL 745.111567 220.409303 \nL 746.042051 215.917097 \nL 746.972535 212.456969 \nL 747.903019 220.770409 \nL 748.833503 221.238874 \nL 749.763987 219.491038 \nL 750.694471 214.732813 \nL 751.624955 212.383212 \nL 752.555439 219.75178 \nL 753.485923 219.758547 \nL 754.416407 216.931867 \nL 755.346891 211.222495 \nL 756.277374 215.843419 \nL 757.207858 219.035725 \nL 758.138342 216.669465 \nL 759.068826 211.080536 \nL 759.99931 213.840881 \nL 760.929794 217.216865 \nL 761.860278 214.127661 \nL 762.790762 209.094453 \nL 763.721246 210.502182 \nL 764.65173 208.040886 \nL 765.582214 204.992774 \nL 766.512698 206.927381 \nL 767.443182 211.997765 \nL 768.373666 214.845307 \nL 769.30415 219.501536 \nL 770.234634 221.967598 \nL 771.165118 218.314876 \nL 772.095602 213.303426 \nL 773.026086 222.693577 \nL 773.95657 223.880279 \nL 774.887054 222.95686 \nL 775.817538 221.551232 \nL 776.748022 218.494556 \nL 777.678506 212.46425 \nL 778.60899 219.182493 \nL 779.539473 222.166192 \nL 780.469957 220.933551 \nL 781.400441 218.338518 \nL 782.330925 212.386037 \nL 784.191893 220.804017 \nL 785.122377 219.37643 \nL 786.052861 215.228733 \nL 786.983345 212.001229 \nL 787.913829 218.418355 \nL 788.844313 219.001584 \nL 789.774797 215.653026 \nL 790.705281 211.200592 \nL 791.635765 216.200668 \nL 792.566249 217.707888 \nL 794.427217 210.627181 \nL 795.357701 214.497711 \nL 796.288185 213.443233 \nL 797.218669 207.606302 \nL 798.149153 205.776652 \nL 799.079637 206.404519 \nL 800.010121 207.984368 \nL 800.940605 213.078243 \nL 802.801572 219.348164 \nL 803.732056 217.81645 \nL 804.66254 214.207533 \nL 805.593024 221.356637 \nL 806.523508 222.822124 \nL 807.453992 221.253061 \nL 809.31496 213.307314 \nL 810.245444 221.174386 \nL 811.175928 222.133942 \nL 812.106412 220.732111 \nL 813.036896 217.528762 \nL 813.96738 212.444113 \nL 814.897864 218.385639 \nL 815.828348 220.775829 \nL 816.758832 219.040939 \nL 817.689316 214.251605 \nL 818.6198 213.306465 \nL 819.550284 219.118565 \nL 820.480768 218.747154 \nL 821.411252 214.767346 \nL 822.341736 212.008977 \nL 823.27222 217.196185 \nL 824.202704 217.560216 \nL 825.133187 213.334642 \nL 826.063671 211.752682 \nL 826.994155 215.680774 \nL 827.924639 214.415539 \nL 828.855123 209.687873 \nL 829.785607 209.026352 \nL 830.716091 207.185657 \nL 831.646575 205.73944 \nL 832.577059 207.915888 \nL 833.507543 213.345912 \nL 834.438027 215.825931 \nL 835.368511 219.479954 \nL 836.298995 220.626056 \nL 837.229479 215.610108 \nL 838.159963 216.342287 \nL 839.090447 223.109713 \nL 840.020931 222.703482 \nL 840.951415 221.276853 \nL 841.881899 218.018948 \nL 842.812383 213.11291 \nL 843.742867 219.329637 \nL 844.673351 221.623302 \nL 845.603835 220.198998 \nL 847.464802 212.796756 \nL 848.395286 218.651611 \nL 849.32577 220.052402 \nL 850.256254 217.73519 \nL 851.186738 212.718632 \nL 852.117222 215.311191 \nL 853.047706 218.958792 \nL 853.97819 217.184533 \nL 854.908674 212.439133 \nL 855.839158 214.232368 \nL 856.769642 217.501969 \nL 857.700126 215.346465 \nL 858.63061 211.399862 \nL 859.561094 213.981078 \nL 860.491578 214.7196 \nL 861.422062 210.76624 \nL 862.352546 208.564434 \nL 863.28303 207.183847 \nL 864.213514 206.085953 \nL 865.143998 207.851128 \nL 866.074482 213.14061 \nL 867.93545 219.072838 \nL 868.865934 220.004267 \nL 869.796417 215.369588 \nL 870.726901 217.018987 \nL 871.657385 222.59866 \nL 872.587869 222.001764 \nL 873.518353 220.022991 \nL 874.448837 214.88704 \nL 875.379321 215.693122 \nL 876.309805 221.388711 \nL 877.240289 220.905987 \nL 878.170773 218.64177 \nL 879.101257 213.612071 \nL 880.031741 215.912439 \nL 880.962225 220.101904 \nL 881.892709 218.964523 \nL 882.823193 214.815921 \nL 883.753677 213.371319 \nL 884.684161 218.185487 \nL 885.614645 218.264357 \nL 886.545129 214.425867 \nL 887.475613 212.809406 \nL 888.406097 216.87812 \nL 889.336581 216.780262 \nL 890.267065 212.797265 \nL 891.197549 212.969704 \nL 892.128033 215.520554 \nL 893.058516 213.439292 \nL 893.989 210.762058 \nL 894.919484 211.068243 \nL 896.780452 205.714522 \nL 897.710936 206.899324 \nL 899.571904 215.227863 \nL 900.502388 217.667542 \nL 901.432872 220.761943 \nL 902.363356 219.456752 \nL 903.29384 214.495129 \nL 904.224324 219.077211 \nL 905.154808 222.633588 \nL 906.085292 221.68257 \nL 907.015776 219.617734 \nL 907.94626 214.668915 \nL 908.876744 216.11479 \nL 909.807228 221.009802 \nL 910.737712 220.399928 \nL 911.668196 217.701956 \nL 912.59868 213.356207 \nL 913.529164 217.000887 \nL 914.459648 219.758181 \nL 915.390131 218.061217 \nL 916.320615 213.674812 \nL 917.251099 214.750424 \nL 918.181583 218.383914 \nL 919.112067 217.293298 \nL 920.042551 213.222774 \nL 920.973035 214.214894 \nL 921.903519 217.116569 \nL 922.834003 215.512948 \nL 923.764487 212.31074 \nL 924.694971 214.348404 \nL 925.625455 215.216679 \nL 926.555939 212.519157 \nL 927.486423 211.741062 \nL 928.416907 211.919655 \nL 929.347391 208.668772 \nL 930.277875 205.993853 \nL 931.208359 206.728366 \nL 932.138843 209.794801 \nL 933.069327 214.786201 \nL 933.999811 216.931113 \nL 934.930295 220.183314 \nL 935.860779 220.228535 \nL 936.791263 215.706449 \nL 937.721747 216.913287 \nL 938.65223 222.093472 \nL 939.582714 221.750455 \nL 940.513198 219.990726 \nL 941.443682 215.606672 \nL 942.374166 215.303551 \nL 943.30465 220.419124 \nL 944.235134 220.464493 \nL 945.165618 218.178063 \nL 946.096102 213.882384 \nL 947.026586 216.274256 \nL 947.95707 219.532443 \nL 948.887554 218.342045 \nL 949.818038 214.361434 \nL 950.748522 214.401427 \nL 951.679006 218.021692 \nL 952.60949 217.56514 \nL 953.539974 213.902013 \nL 954.470458 213.984448 \nL 955.400942 216.879567 \nL 956.331426 215.852435 \nL 957.26191 212.882073 \nL 958.192394 214.31111 \nL 959.122878 215.494991 \nL 960.053362 213.408974 \nL 960.983845 212.536521 \nL 961.914329 213.542924 \nL 962.844813 212.156361 \nL 963.775297 209.390059 \nL 964.705781 207.133974 \nL 965.636265 206.573367 \nL 966.566749 208.288168 \nL 967.497233 213.180003 \nL 968.427717 216.220924 \nL 969.358201 218.82185 \nL 970.288685 220.463454 \nL 972.149653 215.307662 \nL 973.080137 220.334749 \nL 974.010621 221.77604 \nL 974.941105 220.406608 \nL 975.871589 216.823337 \nL 976.802073 214.699989 \nL 977.732557 219.489692 \nL 978.663041 220.593298 \nL 979.593525 218.882057 \nL 980.524009 214.87209 \nL 981.454493 215.270597 \nL 982.384977 219.067926 \nL 983.31546 218.83192 \nL 984.245944 215.607535 \nL 985.176428 213.894547 \nL 986.106912 217.303441 \nL 987.037396 218.007493 \nL 987.96788 215.1594 \nL 988.898364 213.582856 \nL 989.828848 216.3638 \nL 990.759332 216.54807 \nL 991.689816 213.857475 \nL 992.6203 213.882133 \nL 993.550784 215.669304 \nL 994.481268 214.613199 \nL 995.411752 213.062604 \nL 996.342236 214.000304 \nL 997.27272 214.074656 \nL 998.203204 212.586279 \nL 999.133688 211.728648 \nL 1000.064172 210.314965 \nL 1000.994656 207.424831 \nL 1001.92514 206.551268 \nL 1002.855624 208.44894 \nL 1003.786108 213.384306 \nL 1004.716592 216.325873 \nL 1005.647076 218.708255 \nL 1006.577559 220.748877 \nL 1007.508043 219.220322 \nL 1008.438527 215.346165 \nL 1010.299495 221.701155 \nL 1011.229979 221.004226 \nL 1012.160463 218.867726 \nL 1013.090947 214.91903 \nL 1014.021431 216.910588 \nL 1014.951915 220.292592 \nL 1015.882399 219.728596 \nL 1017.743367 214.255664 \nL 1018.673851 217.388421 \nL 1019.604335 219.119274 \nL 1020.534819 217.465548 \nL 1021.465303 214.175593 \nL 1022.395787 215.581938 \nL 1023.326271 217.888669 \nL 1024.256755 216.793884 \nL 1025.187239 213.957984 \nL 1026.117723 215.071041 \nL 1027.048207 216.777795 \nL 1027.978691 215.381996 \nL 1028.909174 213.70264 \nL 1029.839658 215.0896 \nL 1030.770142 215.577811 \nL 1031.700626 214.088171 \nL 1032.63111 213.782546 \nL 1033.561594 214.654454 \nL 1034.492078 214.167351 \nL 1035.422562 213.218948 \nL 1036.353046 213.20448 \nL 1037.28353 212.766965 \nL 1038.214014 210.959702 \nL 1039.144498 208.324076 \nL 1040.074982 206.812768 \nL 1041.005466 207.816336 \nL 1041.93595 211.665738 \nL 1042.866434 216.114553 \nL 1043.796918 217.667192 \nL 1044.727402 220.367772 \nL 1045.657886 220.567 \nL 1046.58837 217.432368 \nL 1047.518854 215.889836 \nL 1048.449338 220.217057 \nL 1049.379822 221.427072 \nL 1050.310306 220.320084 \nL 1052.171273 214.946451 \nL 1053.101757 218.222095 \nL 1054.032241 220.146242 \nL 1054.962725 219.081705 \nL 1055.893209 215.982366 \nL 1056.823693 214.929089 \nL 1057.754177 218.019375 \nL 1058.684661 218.804495 \nL 1059.615145 216.756383 \nL 1060.545629 214.303431 \nL 1061.476113 216.259037 \nL 1062.406597 217.7335 \nL 1063.337081 216.219712 \nL 1064.267565 214.200348 \nL 1065.198049 215.644884 \nL 1066.128533 216.660256 \nL 1067.059017 215.230434 \nL 1067.989501 214.20317 \nL 1068.919985 215.410893 \nL 1069.850469 215.638226 \nL 1070.780953 214.45952 \nL 1071.711437 214.28645 \nL 1072.641921 214.990943 \nL 1073.572405 214.697947 \nL 1074.502888 213.996123 \nL 1076.363856 214.197089 \nL 1078.224824 213.099234 \nL 1079.155308 212.479863 \nL 1080.085792 210.885185 \nL 1081.016276 208.243305 \nL 1081.94676 207.037759 \nL 1082.877244 208.477724 \nL 1083.807728 212.971967 \nL 1084.738212 216.601503 \nL 1085.668696 218.086367 \nL 1086.59918 220.623525 \nL 1087.529664 220.78264 \nL 1089.390632 215.788714 \nL 1090.321116 219.134867 \nL 1091.2516 221.258989 \nL 1092.182084 220.603778 \nL 1093.112568 218.805311 \nL 1094.043052 215.595979 \nL 1094.973536 216.602966 \nL 1095.90402 219.520714 \nL 1096.834503 219.582076 \nL 1097.764987 217.690008 \nL 1098.695471 214.985524 \nL 1099.625955 216.448532 \nL 1100.556439 218.537573 \nL 1101.486923 218.094647 \nL 1102.417407 215.606314 \nL 1103.347891 214.967569 \nL 1104.278375 217.070701 \nL 1105.208859 217.359871 \nL 1106.139343 215.519551 \nL 1107.069827 214.741157 \nL 1108.000311 216.23186 \nL 1108.930795 216.471168 \nL 1109.861279 215.129134 \nL 1110.791763 214.765806 \nL 1111.722247 215.735321 \nL 1112.652731 215.713763 \nL 1113.583215 214.824085 \nL 1114.513699 214.772241 \nL 1115.444183 215.305104 \nL 1116.374667 215.132623 \nL 1117.305151 214.616358 \nL 1118.235635 214.654546 \nL 1119.166119 214.867323 \nL 1121.95757 214.345423 \nL 1122.888054 214.325964 \nL 1124.749022 213.748037 \nL 1125.679506 213.395186 \nL 1126.60999 212.680536 \nL 1127.540474 211.096215 \nL 1128.470958 208.643102 \nL 1129.401442 207.395491 \nL 1130.331926 208.73732 \nL 1131.26241 213.172232 \nL 1132.192894 216.892215 \nL 1133.123378 217.933522 \nL 1134.053862 220.497051 \nL 1134.984346 221.169644 \nL 1135.91483 219.939759 \nL 1136.845314 216.913963 \nL 1137.775798 216.785357 \nL 1138.706282 220.098493 \nL 1139.636766 220.945698 \nL 1140.56725 220.160903 \nL 1141.497734 218.35871 \nL 1142.428217 215.729181 \nL 1143.358701 216.901943 \nL 1144.289185 219.245147 \nL 1145.219669 219.368962 \nL 1146.150153 217.839261 \nL 1147.080637 215.461311 \nL 1148.011121 216.210578 \nL 1148.941605 218.126602 \nL 1149.872089 218.101751 \nL 1150.802573 216.268319 \nL 1151.733057 215.148295 \nL 1152.663541 216.62108 \nL 1153.594025 217.384804 \nL 1155.454993 215.127095 \nL 1157.315961 216.633688 \nL 1158.246445 216.0674 \nL 1159.176929 215.187994 \nL 1160.107413 215.502659 \nL 1161.037897 216.068259 \nL 1161.968381 215.774 \nL 1162.898865 215.209145 \nL 1163.829349 215.325342 \nL 1164.759833 215.669738 \nL 1165.690316 215.528551 \nL 1166.6208 215.188658 \nL 1167.551284 215.205331 \nL 1168.481768 215.390973 \nL 1169.412252 215.331013 \nL 1170.342736 215.135104 \nL 1171.27322 215.107629 \nL 1173.134188 215.169757 \nL 1174.995156 215.019148 \nL 1176.856124 215.035197 \nL 1179.647576 214.931161 \nL 1186.160964 214.745913 \nL 1192.674351 214.444809 \nL 1194.535319 214.234721 \nL 1196.396287 213.776632 \nL 1197.326771 213.257498 \nL 1198.257255 212.180477 \nL 1200.118223 208.287143 \nL 1201.048707 208.454074 \nL 1201.979191 211.411451 \nL 1202.909675 216.693569 \nL 1203.840159 217.419909 \nL 1204.770643 219.013786 \nL 1205.701127 221.130401 \nL 1206.631611 221.380222 \nL 1207.562095 220.748791 \nL 1208.492579 219.499089 \nL 1209.423063 217.14244 \nL 1210.353546 216.936431 \nL 1211.28403 219.322318 \nL 1212.214514 220.431465 \nL 1213.144998 220.104573 \nL 1214.075482 219.265988 \nL 1215.005966 217.498726 \nL 1215.93645 216.056584 \nL 1217.797418 218.80154 \nL 1218.727902 218.957799 \nL 1219.658386 217.99494 \nL 1220.58887 216.263055 \nL 1221.519354 216.034715 \nL 1222.449838 217.415284 \nL 1223.380322 217.991008 \nL 1224.310806 217.297928 \nL 1225.24129 216.031885 \nL 1226.171774 215.972948 \nL 1227.102258 216.933337 \nL 1228.032742 217.21706 \nL 1229.89371 215.850684 \nL 1230.824194 216.101304 \nL 1231.754678 216.664826 \nL 1232.685162 216.632964 \nL 1233.615645 216.123558 \nL 1234.546129 215.875636 \nL 1236.407097 216.409722 \nL 1237.337581 216.260342 \nL 1238.268065 215.971332 \nL 1239.198549 215.947315 \nL 1240.129033 216.140125 \nL 1241.059517 216.212045 \nL 1242.920485 215.953607 \nL 1246.642421 216.022162 \nL 1248.503389 216.013405 \nL 1250.364357 216.059539 \nL 1253.155809 216.036867 \nL 1257.808228 216.068928 \nL 1269.90452 216.188322 \nL 1313.637266 216.751542 \nL 1343.412753 217.291597 \nL 1350.856624 217.605865 \nL 1352.717592 217.802501 \nL 1354.57856 218.256928 \nL 1359.23098 219.648443 \nL 1361.091948 220.457184 \nL 1362.952916 221.510118 \nL 1365.744368 223.481626 \nL 1369.466303 226.2469 \nL 1371.327271 227.439584 \nL 1373.188239 228.438458 \nL 1375.049207 229.243475 \nL 1377.840659 230.135545 \nL 1380.632111 230.736021 \nL 1384.354047 231.234989 \nL 1389.006467 231.577705 \nL 1395.519854 231.811663 \nL 1408.54663 232.003743 \nL 1439.2526 232.177888 \nL 1490.429218 232.231176 \nL 1567.659387 232.06891 \nL 1696.996657 231.548539 \nL 1714.675852 231.46634 \nL 1714.675852 231.46634 \n\" style=\"fill:none;stroke:#ff0000;stroke-linecap:square;stroke-width:1.5;\"/>\n   </g>\n   <g id=\"line2d_95\">\n    <path clip-path=\"url(#p0b136d8ffd)\" d=\"M 319.880398 292.034955 \nL 1714.675852 292.019846 \nL 1714.675852 292.019846 \n\" style=\"fill:none;stroke:#000000;stroke-linecap:square;stroke-opacity:0.5;stroke-width:1.5;\"/>\n   </g>\n   <g id=\"line2d_96\">\n    <path clip-path=\"url(#p0b136d8ffd)\" d=\"M 319.880398 292.036212 \nL 1714.675852 292.034257 \nL 1714.675852 292.034257 \n\" style=\"fill:none;stroke:#000000;stroke-linecap:square;stroke-opacity:0.5;stroke-width:1.5;\"/>\n   </g>\n   <g id=\"line2d_97\">\n    <path clip-path=\"url(#p0b136d8ffd)\" d=\"M 319.880398 292.035785 \nL 1714.675852 292.029026 \nL 1714.675852 292.029026 \n\" style=\"fill:none;stroke:#000000;stroke-linecap:square;stroke-opacity:0.5;stroke-width:1.5;\"/>\n   </g>\n   <g id=\"line2d_98\">\n    <path clip-path=\"url(#p0b136d8ffd)\" d=\"M 319.880398 292.036329 \nL 1714.675852 292.035798 \nL 1714.675852 292.035798 \n\" style=\"fill:none;stroke:#000000;stroke-linecap:square;stroke-opacity:0.5;stroke-width:1.5;\"/>\n   </g>\n   <g id=\"line2d_99\">\n    <path clip-path=\"url(#p0b136d8ffd)\" d=\"M 319.880398 292.03633 \nL 1714.675852 292.03593 \nL 1714.675852 292.03593 \n\" style=\"fill:none;stroke:#000000;stroke-linecap:square;stroke-opacity:0.5;stroke-width:1.5;\"/>\n   </g>\n   <g id=\"line2d_100\">\n    <path clip-path=\"url(#p0b136d8ffd)\" d=\"M 319.880398 292.036346 \nL 1714.675852 292.036136 \nL 1714.675852 292.036136 \n\" style=\"fill:none;stroke:#000000;stroke-linecap:square;stroke-opacity:0.5;stroke-width:1.5;\"/>\n   </g>\n   <g id=\"line2d_101\">\n    <path clip-path=\"url(#p0b136d8ffd)\" d=\"M 319.880398 292.036031 \nL 1714.675852 292.03292 \nL 1714.675852 292.03292 \n\" style=\"fill:none;stroke:#000000;stroke-linecap:square;stroke-opacity:0.5;stroke-width:1.5;\"/>\n   </g>\n   <g id=\"line2d_102\">\n    <path clip-path=\"url(#p0b136d8ffd)\" d=\"M 319.880398 292.036345 \nL 1714.675852 292.03614 \nL 1714.675852 292.03614 \n\" style=\"fill:none;stroke:#000000;stroke-linecap:square;stroke-opacity:0.5;stroke-width:1.5;\"/>\n   </g>\n   <g id=\"line2d_103\">\n    <path clip-path=\"url(#p0b136d8ffd)\" d=\"M 319.880398 292.036346 \nL 1714.675852 292.036124 \nL 1714.675852 292.036124 \n\" style=\"fill:none;stroke:#000000;stroke-linecap:square;stroke-opacity:0.5;stroke-width:1.5;\"/>\n   </g>\n   <g id=\"line2d_104\">\n    <path clip-path=\"url(#p0b136d8ffd)\" d=\"M 319.880398 292.036351 \nL 1714.675852 292.036134 \nL 1714.675852 292.036134 \n\" style=\"fill:none;stroke:#000000;stroke-linecap:square;stroke-opacity:0.5;stroke-width:1.5;\"/>\n   </g>\n   <g id=\"line2d_105\">\n    <path clip-path=\"url(#p0b136d8ffd)\" d=\"M 319.880398 292.036353 \nL 1714.675852 292.036233 \nL 1714.675852 292.036233 \n\" style=\"fill:none;stroke:#000000;stroke-linecap:square;stroke-opacity:0.5;stroke-width:1.5;\"/>\n   </g>\n   <g id=\"line2d_106\">\n    <path clip-path=\"url(#p0b136d8ffd)\" d=\"M 319.880398 292.03627 \nL 1714.675852 292.035005 \nL 1714.675852 292.035005 \n\" style=\"fill:none;stroke:#000000;stroke-linecap:square;stroke-opacity:0.5;stroke-width:1.5;\"/>\n   </g>\n   <g id=\"line2d_107\">\n    <path clip-path=\"url(#p0b136d8ffd)\" d=\"M 319.880398 292.036355 \nL 1714.675852 292.036239 \nL 1714.675852 292.036239 \n\" style=\"fill:none;stroke:#000000;stroke-linecap:square;stroke-opacity:0.5;stroke-width:1.5;\"/>\n   </g>\n   <g id=\"line2d_108\">\n    <path clip-path=\"url(#p0b136d8ffd)\" d=\"M 319.880398 292.036341 \nL 1714.675852 292.035941 \nL 1714.675852 292.035941 \n\" style=\"fill:none;stroke:#000000;stroke-linecap:square;stroke-opacity:0.5;stroke-width:1.5;\"/>\n   </g>\n   <g id=\"line2d_109\">\n    <path clip-path=\"url(#p0b136d8ffd)\" d=\"M 319.880398 292.036331 \nL 1714.675852 292.035805 \nL 1714.675852 292.035805 \n\" style=\"fill:none;stroke:#000000;stroke-linecap:square;stroke-opacity:0.5;stroke-width:1.5;\"/>\n   </g>\n   <g id=\"line2d_110\">\n    <path clip-path=\"url(#p0b136d8ffd)\" d=\"M 319.880398 292.036361 \nL 1714.675852 292.036298 \nL 1714.675852 292.036298 \n\" style=\"fill:none;stroke:#000000;stroke-linecap:square;stroke-opacity:0.5;stroke-width:1.5;\"/>\n   </g>\n   <g id=\"line2d_111\">\n    <path clip-path=\"url(#p0b136d8ffd)\" d=\"M 319.880398 292.03636 \nL 1714.675852 292.036295 \nL 1714.675852 292.036295 \n\" style=\"fill:none;stroke:#000000;stroke-linecap:square;stroke-opacity:0.5;stroke-width:1.5;\"/>\n   </g>\n   <g id=\"line2d_112\">\n    <path clip-path=\"url(#p0b136d8ffd)\" d=\"M 319.880398 292.036355 \nL 1714.675852 292.036243 \nL 1714.675852 292.036243 \n\" style=\"fill:none;stroke:#000000;stroke-linecap:square;stroke-opacity:0.5;stroke-width:1.5;\"/>\n   </g>\n   <g id=\"line2d_113\">\n    <path clip-path=\"url(#p0b136d8ffd)\" d=\"M 319.880398 292.036362 \nL 1714.675852 292.036336 \nL 1714.675852 292.036336 \n\" style=\"fill:none;stroke:#000000;stroke-linecap:square;stroke-opacity:0.5;stroke-width:1.5;\"/>\n   </g>\n   <g id=\"line2d_114\">\n    <path clip-path=\"url(#p0b136d8ffd)\" d=\"M 319.880398 292.036176 \nL 1714.675852 292.034255 \nL 1714.675852 292.034255 \n\" style=\"fill:none;stroke:#000000;stroke-linecap:square;stroke-opacity:0.5;stroke-width:1.5;\"/>\n   </g>\n   <g id=\"line2d_115\">\n    <path clip-path=\"url(#p0b136d8ffd)\" d=\"M 319.880398 292.036351 \nL 1714.675852 292.036131 \nL 1714.675852 292.036131 \n\" style=\"fill:none;stroke:#000000;stroke-linecap:square;stroke-opacity:0.5;stroke-width:1.5;\"/>\n   </g>\n   <g id=\"line2d_116\">\n    <path clip-path=\"url(#p0b136d8ffd)\" d=\"M 319.880398 292.036355 \nL 1714.675852 292.036233 \nL 1714.675852 292.036233 \n\" style=\"fill:none;stroke:#000000;stroke-linecap:square;stroke-opacity:0.5;stroke-width:1.5;\"/>\n   </g>\n   <g id=\"line2d_117\">\n    <path clip-path=\"url(#p0b136d8ffd)\" d=\"M 319.880398 292.036347 \nL 1714.675852 292.036076 \nL 1714.675852 292.036076 \n\" style=\"fill:none;stroke:#000000;stroke-linecap:square;stroke-opacity:0.5;stroke-width:1.5;\"/>\n   </g>\n   <g id=\"line2d_118\">\n    <path clip-path=\"url(#p0b136d8ffd)\" d=\"M 319.880398 292.036277 \nL 1714.675852 292.034865 \nL 1714.675852 292.034865 \n\" style=\"fill:none;stroke:#000000;stroke-linecap:square;stroke-opacity:0.5;stroke-width:1.5;\"/>\n   </g>\n   <g id=\"line2d_119\">\n    <path clip-path=\"url(#p0b136d8ffd)\" d=\"M 319.880398 292.036129 \nL 1714.675852 292.032288 \nL 1714.675852 292.032288 \n\" style=\"fill:none;stroke:#000000;stroke-linecap:square;stroke-opacity:0.5;stroke-width:1.5;\"/>\n   </g>\n   <g id=\"line2d_120\">\n    <path clip-path=\"url(#p0b136d8ffd)\" d=\"M 319.880398 292.03636 \nL 1714.675852 292.036313 \nL 1714.675852 292.036313 \n\" style=\"fill:none;stroke:#000000;stroke-linecap:square;stroke-opacity:0.5;stroke-width:1.5;\"/>\n   </g>\n   <g id=\"line2d_121\">\n    <path clip-path=\"url(#p0b136d8ffd)\" d=\"M 319.880398 292.036357 \nL 1714.675852 292.036268 \nL 1714.675852 292.036268 \n\" style=\"fill:none;stroke:#000000;stroke-linecap:square;stroke-opacity:0.5;stroke-width:1.5;\"/>\n   </g>\n   <g id=\"line2d_122\">\n    <path clip-path=\"url(#p0b136d8ffd)\" d=\"M 319.880398 292.036329 \nL 1714.675852 292.035979 \nL 1714.675852 292.035979 \n\" style=\"fill:none;stroke:#000000;stroke-linecap:square;stroke-opacity:0.5;stroke-width:1.5;\"/>\n   </g>\n   <g id=\"line2d_123\">\n    <path clip-path=\"url(#p0b136d8ffd)\" d=\"M 319.880398 292.036256 \nL 1714.675852 292.035187 \nL 1714.675852 292.035187 \n\" style=\"fill:none;stroke:#000000;stroke-linecap:square;stroke-opacity:0.5;stroke-width:1.5;\"/>\n   </g>\n   <g id=\"line2d_124\">\n    <path clip-path=\"url(#p0b136d8ffd)\" d=\"M 319.880398 292.036336 \nL 1714.675852 292.03596 \nL 1714.675852 292.03596 \n\" style=\"fill:none;stroke:#000000;stroke-linecap:square;stroke-opacity:0.5;stroke-width:1.5;\"/>\n   </g>\n   <g id=\"line2d_125\">\n    <path clip-path=\"url(#p0b136d8ffd)\" d=\"M 319.880398 292.036154 \nL 1714.675852 292.033738 \nL 1714.675852 292.033738 \n\" style=\"fill:none;stroke:#000000;stroke-linecap:square;stroke-opacity:0.5;stroke-width:1.5;\"/>\n   </g>\n   <g id=\"line2d_126\">\n    <path clip-path=\"url(#p0b136d8ffd)\" d=\"M 319.880398 292.036333 \nL 1714.675852 292.035919 \nL 1714.675852 292.035919 \n\" style=\"fill:none;stroke:#000000;stroke-linecap:square;stroke-opacity:0.5;stroke-width:1.5;\"/>\n   </g>\n   <g id=\"line2d_127\">\n    <path clip-path=\"url(#p0b136d8ffd)\" d=\"M 319.880398 292.03633 \nL 1714.675852 292.03585 \nL 1714.675852 292.03585 \n\" style=\"fill:none;stroke:#000000;stroke-linecap:square;stroke-opacity:0.5;stroke-width:1.5;\"/>\n   </g>\n   <g id=\"line2d_128\">\n    <path clip-path=\"url(#p0b136d8ffd)\" d=\"M 319.880398 292.036339 \nL 1714.675852 292.036047 \nL 1714.675852 292.036047 \n\" style=\"fill:none;stroke:#000000;stroke-linecap:square;stroke-opacity:0.5;stroke-width:1.5;\"/>\n   </g>\n   <g id=\"line2d_129\">\n    <path clip-path=\"url(#p0b136d8ffd)\" d=\"M 319.880398 292.036329 \nL 1714.675852 292.035851 \nL 1714.675852 292.035851 \n\" style=\"fill:none;stroke:#000000;stroke-linecap:square;stroke-opacity:0.5;stroke-width:1.5;\"/>\n   </g>\n   <g id=\"line2d_130\">\n    <path clip-path=\"url(#p0b136d8ffd)\" d=\"M 319.880398 292.036091 \nL 1714.675852 292.033231 \nL 1714.675852 292.033231 \n\" style=\"fill:none;stroke:#000000;stroke-linecap:square;stroke-opacity:0.5;stroke-width:1.5;\"/>\n   </g>\n   <g id=\"line2d_131\">\n    <path clip-path=\"url(#p0b136d8ffd)\" d=\"M 319.880398 292.036299 \nL 1714.675852 292.035405 \nL 1714.675852 292.035405 \n\" style=\"fill:none;stroke:#000000;stroke-linecap:square;stroke-opacity:0.5;stroke-width:1.5;\"/>\n   </g>\n   <g id=\"line2d_132\">\n    <path clip-path=\"url(#p0b136d8ffd)\" d=\"M 319.880398 292.036271 \nL 1714.675852 292.034923 \nL 1714.675852 292.034923 \n\" style=\"fill:none;stroke:#000000;stroke-linecap:square;stroke-opacity:0.5;stroke-width:1.5;\"/>\n   </g>\n   <g id=\"line2d_133\">\n    <path clip-path=\"url(#p0b136d8ffd)\" d=\"M 319.880398 292.036145 \nL 1714.675852 292.033759 \nL 1714.675852 292.033759 \n\" style=\"fill:none;stroke:#000000;stroke-linecap:square;stroke-opacity:0.5;stroke-width:1.5;\"/>\n   </g>\n   <g id=\"line2d_134\">\n    <path clip-path=\"url(#p0b136d8ffd)\" d=\"M 319.880398 292.036349 \nL 1714.675852 292.036143 \nL 1714.675852 292.036143 \n\" style=\"fill:none;stroke:#000000;stroke-linecap:square;stroke-opacity:0.5;stroke-width:1.5;\"/>\n   </g>\n   <g id=\"line2d_135\">\n    <path clip-path=\"url(#p0b136d8ffd)\" d=\"M 319.880398 292.036296 \nL 1714.675852 292.03552 \nL 1714.675852 292.03552 \n\" style=\"fill:none;stroke:#000000;stroke-linecap:square;stroke-opacity:0.5;stroke-width:1.5;\"/>\n   </g>\n   <g id=\"line2d_136\">\n    <path clip-path=\"url(#p0b136d8ffd)\" d=\"M 319.880398 292.036361 \nL 1714.675852 292.036319 \nL 1714.675852 292.036319 \n\" style=\"fill:none;stroke:#000000;stroke-linecap:square;stroke-opacity:0.5;stroke-width:1.5;\"/>\n   </g>\n   <g id=\"line2d_137\">\n    <path clip-path=\"url(#p0b136d8ffd)\" d=\"M 319.880398 292.036333 \nL 1714.675852 292.035973 \nL 1714.675852 292.035973 \n\" style=\"fill:none;stroke:#000000;stroke-linecap:square;stroke-opacity:0.5;stroke-width:1.5;\"/>\n   </g>\n   <g id=\"line2d_138\">\n    <path clip-path=\"url(#p0b136d8ffd)\" d=\"M 319.880398 292.036355 \nL 1714.675852 292.03625 \nL 1714.675852 292.03625 \n\" style=\"fill:none;stroke:#000000;stroke-linecap:square;stroke-opacity:0.5;stroke-width:1.5;\"/>\n   </g>\n   <g id=\"line2d_139\">\n    <path clip-path=\"url(#p0b136d8ffd)\" d=\"M 319.880398 292.036344 \nL 1714.675852 292.036088 \nL 1714.675852 292.036088 \n\" style=\"fill:none;stroke:#000000;stroke-linecap:square;stroke-opacity:0.5;stroke-width:1.5;\"/>\n   </g>\n   <g id=\"line2d_140\">\n    <path clip-path=\"url(#p0b136d8ffd)\" d=\"M 319.880398 292.036343 \nL 1714.675852 292.036124 \nL 1714.675852 292.036124 \n\" style=\"fill:none;stroke:#000000;stroke-linecap:square;stroke-opacity:0.5;stroke-width:1.5;\"/>\n   </g>\n   <g id=\"line2d_141\">\n    <path clip-path=\"url(#p0b136d8ffd)\" d=\"M 319.880398 292.036345 \nL 1714.675852 292.036137 \nL 1714.675852 292.036137 \n\" style=\"fill:none;stroke:#000000;stroke-linecap:square;stroke-opacity:0.5;stroke-width:1.5;\"/>\n   </g>\n   <g id=\"line2d_142\">\n    <path clip-path=\"url(#p0b136d8ffd)\" d=\"M 319.880398 292.036362 \nL 1714.675852 292.03634 \nL 1714.675852 292.03634 \n\" style=\"fill:none;stroke:#000000;stroke-linecap:square;stroke-opacity:0.5;stroke-width:1.5;\"/>\n   </g>\n   <g id=\"line2d_143\">\n    <path clip-path=\"url(#p0b136d8ffd)\" d=\"M 319.880398 292.036363 \nL 1714.675852 292.036352 \nL 1714.675852 292.036352 \n\" style=\"fill:none;stroke:#000000;stroke-linecap:square;stroke-opacity:0.5;stroke-width:1.5;\"/>\n   </g>\n   <g id=\"line2d_144\">\n    <path clip-path=\"url(#p0b136d8ffd)\" d=\"M 319.880398 292.036352 \nL 1714.675852 292.036186 \nL 1714.675852 292.036186 \n\" style=\"fill:none;stroke:#000000;stroke-linecap:square;stroke-opacity:0.5;stroke-width:1.5;\"/>\n   </g>\n   <g id=\"line2d_145\">\n    <path clip-path=\"url(#p0b136d8ffd)\" d=\"M 319.880398 292.036115 \nL 1714.675852 292.033792 \nL 1714.675852 292.033792 \n\" style=\"fill:none;stroke:#000000;stroke-linecap:square;stroke-opacity:0.5;stroke-width:1.5;\"/>\n   </g>\n   <g id=\"line2d_146\">\n    <path clip-path=\"url(#p0b136d8ffd)\" d=\"M 319.880398 292.036346 \nL 1714.675852 292.036169 \nL 1714.675852 292.036169 \n\" style=\"fill:none;stroke:#000000;stroke-linecap:square;stroke-opacity:0.5;stroke-width:1.5;\"/>\n   </g>\n   <g id=\"line2d_147\">\n    <path clip-path=\"url(#p0b136d8ffd)\" d=\"M 319.880398 292.036302 \nL 1714.675852 292.035676 \nL 1714.675852 292.035676 \n\" style=\"fill:none;stroke:#000000;stroke-linecap:square;stroke-opacity:0.5;stroke-width:1.5;\"/>\n   </g>\n   <g id=\"line2d_148\">\n    <path clip-path=\"url(#p0b136d8ffd)\" d=\"M 319.880398 292.03635 \nL 1714.675852 292.036158 \nL 1714.675852 292.036158 \n\" style=\"fill:none;stroke:#000000;stroke-linecap:square;stroke-opacity:0.5;stroke-width:1.5;\"/>\n   </g>\n   <g id=\"line2d_149\">\n    <path clip-path=\"url(#p0b136d8ffd)\" d=\"M 319.880398 292.036347 \nL 1714.675852 292.036121 \nL 1714.675852 292.036121 \n\" style=\"fill:none;stroke:#000000;stroke-linecap:square;stroke-opacity:0.5;stroke-width:1.5;\"/>\n   </g>\n   <g id=\"line2d_150\">\n    <path clip-path=\"url(#p0b136d8ffd)\" d=\"M 319.880398 292.036363 \nL 1714.675852 292.036353 \nL 1714.675852 292.036353 \n\" style=\"fill:none;stroke:#000000;stroke-linecap:square;stroke-opacity:0.5;stroke-width:1.5;\"/>\n   </g>\n   <g id=\"line2d_151\">\n    <path clip-path=\"url(#p0b136d8ffd)\" d=\"M 319.880398 292.036355 \nL 1714.675852 292.036236 \nL 1714.675852 292.036236 \n\" style=\"fill:none;stroke:#000000;stroke-linecap:square;stroke-opacity:0.5;stroke-width:1.5;\"/>\n   </g>\n   <g id=\"line2d_152\">\n    <path clip-path=\"url(#p0b136d8ffd)\" d=\"M 319.880398 292.036362 \nL 1714.675852 292.036326 \nL 1714.675852 292.036326 \n\" style=\"fill:none;stroke:#000000;stroke-linecap:square;stroke-opacity:0.5;stroke-width:1.5;\"/>\n   </g>\n   <g id=\"line2d_153\">\n    <path clip-path=\"url(#p0b136d8ffd)\" d=\"M 319.880398 292.036356 \nL 1714.675852 292.036276 \nL 1714.675852 292.036276 \n\" style=\"fill:none;stroke:#000000;stroke-linecap:square;stroke-opacity:0.5;stroke-width:1.5;\"/>\n   </g>\n   <g id=\"line2d_154\">\n    <path clip-path=\"url(#p0b136d8ffd)\" d=\"M 319.880398 292.036362 \nL 1714.675852 292.036341 \nL 1714.675852 292.036341 \n\" style=\"fill:none;stroke:#000000;stroke-linecap:square;stroke-opacity:0.5;stroke-width:1.5;\"/>\n   </g>\n   <g id=\"line2d_155\">\n    <path clip-path=\"url(#p0b136d8ffd)\" d=\"M 319.880398 292.036357 \nL 1714.675852 292.036248 \nL 1714.675852 292.036248 \n\" style=\"fill:none;stroke:#000000;stroke-linecap:square;stroke-opacity:0.5;stroke-width:1.5;\"/>\n   </g>\n   <g id=\"line2d_156\">\n    <path clip-path=\"url(#p0b136d8ffd)\" d=\"M 319.880398 292.036358 \nL 1714.675852 292.036238 \nL 1714.675852 292.036238 \n\" style=\"fill:none;stroke:#000000;stroke-linecap:square;stroke-opacity:0.5;stroke-width:1.5;\"/>\n   </g>\n   <g id=\"line2d_157\">\n    <path clip-path=\"url(#p0b136d8ffd)\" d=\"M 319.880398 292.036353 \nL 1714.675852 292.036164 \nL 1714.675852 292.036164 \n\" style=\"fill:none;stroke:#000000;stroke-linecap:square;stroke-opacity:0.5;stroke-width:1.5;\"/>\n   </g>\n   <g id=\"line2d_158\">\n    <path clip-path=\"url(#p0b136d8ffd)\" d=\"M 319.880398 292.036364 \nL 1714.675852 292.036357 \nL 1714.675852 292.036357 \n\" style=\"fill:none;stroke:#000000;stroke-linecap:square;stroke-opacity:0.5;stroke-width:1.5;\"/>\n   </g>\n   <g id=\"line2d_159\">\n    <path clip-path=\"url(#p0b136d8ffd)\" d=\"M 319.880398 292.036343 \nL 1714.675852 292.036105 \nL 1714.675852 292.036105 \n\" style=\"fill:none;stroke:#000000;stroke-linecap:square;stroke-opacity:0.5;stroke-width:1.5;\"/>\n   </g>\n   <g id=\"line2d_160\">\n    <path clip-path=\"url(#p0b136d8ffd)\" d=\"M 319.880398 292.03636 \nL 1714.675852 292.036315 \nL 1714.675852 292.036315 \n\" style=\"fill:none;stroke:#000000;stroke-linecap:square;stroke-opacity:0.5;stroke-width:1.5;\"/>\n   </g>\n   <g id=\"line2d_161\">\n    <path clip-path=\"url(#p0b136d8ffd)\" d=\"M 319.880398 292.036357 \nL 1714.675852 292.036276 \nL 1714.675852 292.036276 \n\" style=\"fill:none;stroke:#000000;stroke-linecap:square;stroke-opacity:0.5;stroke-width:1.5;\"/>\n   </g>\n   <g id=\"line2d_162\">\n    <path clip-path=\"url(#p0b136d8ffd)\" d=\"M 319.880398 292.036363 \nL 1714.675852 292.036345 \nL 1714.675852 292.036345 \n\" style=\"fill:none;stroke:#000000;stroke-linecap:square;stroke-opacity:0.5;stroke-width:1.5;\"/>\n   </g>\n   <g id=\"line2d_163\">\n    <path clip-path=\"url(#p0b136d8ffd)\" d=\"M 319.880398 292.036359 \nL 1714.675852 292.036303 \nL 1714.675852 292.036303 \n\" style=\"fill:none;stroke:#000000;stroke-linecap:square;stroke-opacity:0.5;stroke-width:1.5;\"/>\n   </g>\n   <g id=\"line2d_164\">\n    <path clip-path=\"url(#p0b136d8ffd)\" d=\"M 319.880398 292.036352 \nL 1714.675852 292.036213 \nL 1714.675852 292.036213 \n\" style=\"fill:none;stroke:#000000;stroke-linecap:square;stroke-opacity:0.5;stroke-width:1.5;\"/>\n   </g>\n   <g id=\"line2d_165\">\n    <path clip-path=\"url(#p0b136d8ffd)\" d=\"M 319.880398 292.036363 \nL 1714.675852 292.036352 \nL 1714.675852 292.036352 \n\" style=\"fill:none;stroke:#000000;stroke-linecap:square;stroke-opacity:0.5;stroke-width:1.5;\"/>\n   </g>\n   <g id=\"line2d_166\">\n    <path clip-path=\"url(#p0b136d8ffd)\" d=\"M 319.880398 292.036359 \nL 1714.675852 292.036283 \nL 1714.675852 292.036283 \n\" style=\"fill:none;stroke:#000000;stroke-linecap:square;stroke-opacity:0.5;stroke-width:1.5;\"/>\n   </g>\n   <g id=\"line2d_167\">\n    <path clip-path=\"url(#p0b136d8ffd)\" d=\"M 319.880398 292.03636 \nL 1714.675852 292.036313 \nL 1714.675852 292.036313 \n\" style=\"fill:none;stroke:#000000;stroke-linecap:square;stroke-opacity:0.5;stroke-width:1.5;\"/>\n   </g>\n   <g id=\"line2d_168\">\n    <path clip-path=\"url(#p0b136d8ffd)\" d=\"M 319.880398 292.036325 \nL 1714.675852 292.035898 \nL 1714.675852 292.035898 \n\" style=\"fill:none;stroke:#000000;stroke-linecap:square;stroke-opacity:0.5;stroke-width:1.5;\"/>\n   </g>\n   <g id=\"line2d_169\">\n    <path clip-path=\"url(#p0b136d8ffd)\" d=\"M 319.880398 292.036349 \nL 1714.675852 292.036108 \nL 1714.675852 292.036108 \n\" style=\"fill:none;stroke:#000000;stroke-linecap:square;stroke-opacity:0.5;stroke-width:1.5;\"/>\n   </g>\n   <g id=\"line2d_170\">\n    <path clip-path=\"url(#p0b136d8ffd)\" d=\"M 319.880398 292.03634 \nL 1714.675852 292.036027 \nL 1714.675852 292.036027 \n\" style=\"fill:none;stroke:#000000;stroke-linecap:square;stroke-opacity:0.5;stroke-width:1.5;\"/>\n   </g>\n   <g id=\"line2d_171\">\n    <path clip-path=\"url(#p0b136d8ffd)\" d=\"M 319.880398 292.036362 \nL 1714.675852 292.036324 \nL 1714.675852 292.036324 \n\" style=\"fill:none;stroke:#000000;stroke-linecap:square;stroke-opacity:0.5;stroke-width:1.5;\"/>\n   </g>\n   <g id=\"line2d_172\">\n    <path clip-path=\"url(#p0b136d8ffd)\" d=\"M 319.880398 292.036362 \nL 1714.675852 292.036323 \nL 1714.675852 292.036323 \n\" style=\"fill:none;stroke:#000000;stroke-linecap:square;stroke-opacity:0.5;stroke-width:1.5;\"/>\n   </g>\n   <g id=\"line2d_173\">\n    <path clip-path=\"url(#p0b136d8ffd)\" d=\"M 319.880398 292.036362 \nL 1714.675852 292.036326 \nL 1714.675852 292.036326 \n\" style=\"fill:none;stroke:#000000;stroke-linecap:square;stroke-opacity:0.5;stroke-width:1.5;\"/>\n   </g>\n   <g id=\"line2d_174\">\n    <path clip-path=\"url(#p0b136d8ffd)\" d=\"M 319.880398 292.036351 \nL 1714.675852 292.036194 \nL 1714.675852 292.036194 \n\" style=\"fill:none;stroke:#000000;stroke-linecap:square;stroke-opacity:0.5;stroke-width:1.5;\"/>\n   </g>\n   <g id=\"line2d_175\">\n    <path clip-path=\"url(#p0b136d8ffd)\" d=\"M 319.880398 292.036359 \nL 1714.675852 292.036307 \nL 1714.675852 292.036307 \n\" style=\"fill:none;stroke:#000000;stroke-linecap:square;stroke-opacity:0.5;stroke-width:1.5;\"/>\n   </g>\n   <g id=\"line2d_176\">\n    <path clip-path=\"url(#p0b136d8ffd)\" d=\"M 319.880398 292.036355 \nL 1714.675852 292.036253 \nL 1714.675852 292.036253 \n\" style=\"fill:none;stroke:#000000;stroke-linecap:square;stroke-opacity:0.5;stroke-width:1.5;\"/>\n   </g>\n   <g id=\"line2d_177\">\n    <path clip-path=\"url(#p0b136d8ffd)\" d=\"M 319.880398 292.036358 \nL 1714.675852 292.036276 \nL 1714.675852 292.036276 \n\" style=\"fill:none;stroke:#000000;stroke-linecap:square;stroke-opacity:0.5;stroke-width:1.5;\"/>\n   </g>\n   <g id=\"line2d_178\">\n    <path clip-path=\"url(#p0b136d8ffd)\" d=\"M 319.880398 292.035887 \nL 1714.675852 292.029726 \nL 1714.675852 292.029726 \n\" style=\"fill:none;stroke:#000000;stroke-linecap:square;stroke-opacity:0.5;stroke-width:1.5;\"/>\n   </g>\n   <g id=\"legend_1\">\n    <g id=\"patch_3\">\n     <path d=\"M 1638.317969 85.251562 \nL 1773.915625 85.251562 \nQ 1776.915625 85.251562 1776.915625 82.251562 \nL 1776.915625 17.7 \nQ 1776.915625 14.7 1773.915625 14.7 \nL 1638.317969 14.7 \nQ 1635.317969 14.7 1635.317969 17.7 \nL 1635.317969 82.251562 \nQ 1635.317969 85.251562 1638.317969 85.251562 \nz\n\" style=\"fill:#ffffff;opacity:0.8;stroke:#cccccc;stroke-linejoin:miter;\"/>\n    </g>\n    <g id=\"line2d_179\">\n     <path d=\"M 1641.317969 26.847656 \nL 1671.317969 26.847656 \n\" style=\"fill:none;stroke:#ff0000;stroke-linecap:square;stroke-width:4;\"/>\n    </g>\n    <g id=\"line2d_180\"/>\n    <g id=\"text_16\">\n     <!-- EZ -->\n     <defs>\n      <path d=\"M 9.8125 72.90625 \nL 55.90625 72.90625 \nL 55.90625 64.59375 \nL 19.671875 64.59375 \nL 19.671875 43.015625 \nL 54.390625 43.015625 \nL 54.390625 34.71875 \nL 19.671875 34.71875 \nL 19.671875 8.296875 \nL 56.78125 8.296875 \nL 56.78125 0 \nL 9.8125 0 \nz\n\" id=\"DejaVuSans-69\"/>\n      <path d=\"M 5.609375 72.90625 \nL 62.890625 72.90625 \nL 62.890625 65.375 \nL 16.796875 8.296875 \nL 64.015625 8.296875 \nL 64.015625 0 \nL 4.5 0 \nL 4.5 7.515625 \nL 50.59375 64.59375 \nL 5.609375 64.59375 \nz\n\" id=\"DejaVuSans-90\"/>\n     </defs>\n     <g transform=\"translate(1683.317969 32.097656)scale(0.15 -0.15)\">\n      <use xlink:href=\"#DejaVuSans-69\"/>\n      <use x=\"63.183594\" xlink:href=\"#DejaVuSans-90\"/>\n     </g>\n    </g>\n    <g id=\"line2d_181\">\n     <path d=\"M 1641.317969 48.864844 \nL 1671.317969 48.864844 \n\" style=\"fill:none;stroke:#ff8c00;stroke-linecap:square;stroke-width:4;\"/>\n    </g>\n    <g id=\"line2d_182\"/>\n    <g id=\"text_17\">\n     <!-- PZ -->\n     <g transform=\"translate(1683.317969 54.114844)scale(0.15 -0.15)\">\n      <use xlink:href=\"#DejaVuSans-80\"/>\n      <use x=\"60.302734\" xlink:href=\"#DejaVuSans-90\"/>\n     </g>\n    </g>\n    <g id=\"line2d_183\">\n     <path d=\"M 1641.317969 70.882031 \nL 1671.317969 70.882031 \n\" style=\"fill:none;stroke:#000000;stroke-linecap:square;stroke-width:4;\"/>\n    </g>\n    <g id=\"line2d_184\"/>\n    <g id=\"text_18\">\n     <!-- Non-seizing -->\n     <defs>\n      <path d=\"M 9.8125 72.90625 \nL 23.09375 72.90625 \nL 55.421875 11.921875 \nL 55.421875 72.90625 \nL 64.984375 72.90625 \nL 64.984375 0 \nL 51.703125 0 \nL 19.390625 60.984375 \nL 19.390625 0 \nL 9.8125 0 \nz\n\" id=\"DejaVuSans-78\"/>\n      <path d=\"M 5.515625 54.6875 \nL 48.1875 54.6875 \nL 48.1875 46.484375 \nL 14.40625 7.171875 \nL 48.1875 7.171875 \nL 48.1875 0 \nL 4.296875 0 \nL 4.296875 8.203125 \nL 38.09375 47.515625 \nL 5.515625 47.515625 \nz\n\" id=\"DejaVuSans-122\"/>\n      <path d=\"M 45.40625 27.984375 \nQ 45.40625 37.75 41.375 43.109375 \nQ 37.359375 48.484375 30.078125 48.484375 \nQ 22.859375 48.484375 18.828125 43.109375 \nQ 14.796875 37.75 14.796875 27.984375 \nQ 14.796875 18.265625 18.828125 12.890625 \nQ 22.859375 7.515625 30.078125 7.515625 \nQ 37.359375 7.515625 41.375 12.890625 \nQ 45.40625 18.265625 45.40625 27.984375 \nz\nM 54.390625 6.78125 \nQ 54.390625 -7.171875 48.1875 -13.984375 \nQ 42 -20.796875 29.203125 -20.796875 \nQ 24.46875 -20.796875 20.265625 -20.09375 \nQ 16.0625 -19.390625 12.109375 -17.921875 \nL 12.109375 -9.1875 \nQ 16.0625 -11.328125 19.921875 -12.34375 \nQ 23.78125 -13.375 27.78125 -13.375 \nQ 36.625 -13.375 41.015625 -8.765625 \nQ 45.40625 -4.15625 45.40625 5.171875 \nL 45.40625 9.625 \nQ 42.625 4.78125 38.28125 2.390625 \nQ 33.9375 0 27.875 0 \nQ 17.828125 0 11.671875 7.65625 \nQ 5.515625 15.328125 5.515625 27.984375 \nQ 5.515625 40.671875 11.671875 48.328125 \nQ 17.828125 56 27.875 56 \nQ 33.9375 56 38.28125 53.609375 \nQ 42.625 51.21875 45.40625 46.390625 \nL 45.40625 54.6875 \nL 54.390625 54.6875 \nz\n\" id=\"DejaVuSans-103\"/>\n     </defs>\n     <g transform=\"translate(1683.317969 76.132031)scale(0.15 -0.15)\">\n      <use xlink:href=\"#DejaVuSans-78\"/>\n      <use x=\"74.804688\" xlink:href=\"#DejaVuSans-111\"/>\n      <use x=\"135.986328\" xlink:href=\"#DejaVuSans-110\"/>\n      <use x=\"199.365234\" xlink:href=\"#DejaVuSans-45\"/>\n      <use x=\"235.449219\" xlink:href=\"#DejaVuSans-115\"/>\n      <use x=\"287.548828\" xlink:href=\"#DejaVuSans-101\"/>\n      <use x=\"349.072266\" xlink:href=\"#DejaVuSans-105\"/>\n      <use x=\"376.855469\" xlink:href=\"#DejaVuSans-122\"/>\n      <use x=\"429.345703\" xlink:href=\"#DejaVuSans-105\"/>\n      <use x=\"457.128906\" xlink:href=\"#DejaVuSans-110\"/>\n      <use x=\"520.507812\" xlink:href=\"#DejaVuSans-103\"/>\n     </g>\n    </g>\n   </g>\n  </g>\n </g>\n <defs>\n  <clipPath id=\"p0b136d8ffd\">\n   <rect height=\"298.4\" width=\"1534.275\" x=\"250.140625\" y=\"7.2\"/>\n  </clipPath>\n </defs>\n</svg>\n",
      "image/png": "[encoded data removed]"
     },
     "metadata": {
      "needs_background": "light"
     }
    }
   ],
   "source": [
    "_, roi_names = lib.io.tvb.read_roi_cntrs('datasets/syn_data/id001_bt/connectivity.destrieux.zip')\n",
    "ez = sim_data['ez']\n",
    "pz = sim_data['pz']\n",
    "start_idx = 800\n",
    "end_idx = 2300\n",
    "x = sim_data['src_sig'][start_idx:end_idx,0,:,0] + sim_data['src_sig'][start_idx:end_idx,3,:,0]\n",
    "z = sim_data['src_sig'][start_idx:end_idx,2,:,0]\n",
    "n_areas = x.shape[1]\n",
    "fig = plt.figure(figsize=(25,5))\n",
    "\n",
    "ax = plt.subplot()\n",
    "yticks = []\n",
    "yticks_labels = []\n",
    "for i in range(n_areas):\n",
    "    if(i in ez):\n",
    "        t = x[:,i]+7*(np.where(ez == i)[0] + 1)\n",
    "        plt.plot(t, alpha=1, color='red');\n",
    "        yticks.append(t.mean(axis=0))\n",
    "        yticks_labels.append(roi_names[i])\n",
    "    elif(i in pz):\n",
    "        t = x[:,i]+7*(np.where(pz == i)[0] + 3)\n",
    "        plt.plot(t, alpha=1.0, color='darkorange');\n",
    "        yticks.append(t.mean(axis=0))\n",
    "        yticks_labels.append(roi_names[i])\n",
    "    else:\n",
    "        plt.plot(x[:,i]+5, alpha=0.5, color='black');\n",
    "#         yticks.append(src_sig[:,i].mean(axis=0) +5)\n",
    "plt.xlabel('Time', fontsize=20)\n",
    "# plt.ylabel(r'Source Activity', fontsize=20);\n",
    "# plt.xticks(ax.get_xticks()[1:-1], map(lambda x: str(int(x)), ax.get_xticks()[1:-1]), fontsize=15);\n",
    "# ax.get_yaxis().set_visible(False)\n",
    "ax.spines['top'].set_visible(False)\n",
    "ax.spines['right'].set_visible(False)\n",
    "ax.spines['left'].set_visible(False)\n",
    "ax.spines['bottom'].set_visible(False)\n",
    "plt.yticks(yticks,yticks_labels, fontsize=15);\n",
    "legend_elements = [Line2D([0], [0], color='red', alpha=1.0, linewidth=4, label='EZ'),\n",
    "                   Line2D([0], [0], color='darkorange', alpha=1.0, linewidth=4, label='PZ'),\n",
    "                   Line2D([0], [0], color='black', alpha=1.0, linewidth=4, label='Non-seizing'),]\n",
    "plt.legend(handles=legend_elements, fontsize=15, loc='upper right')\n",
    "plt.tight_layout()\n",
    "# plt.title('Simulated Data: Source Activity', fontsize=25)\n",
    "plt.savefig(os.path.join(figs_dir, 'source_activity.png'))"
   ]
  },
  {
   "cell_type": "markdown",
   "metadata": {},
   "source": [
    "#### Simulated SEEG"
   ]
  },
  {
   "cell_type": "code",
   "execution_count": null,
   "metadata": {},
   "outputs": [],
   "source": [
    "random.seed(34534)#35087873\n",
    "fig = plt.figure(figsize=(25,5))\n",
    "ax = plt.subplot()\n",
    "start_idx = 800\n",
    "end_idx = 2300\n",
    "seeg_raw = sim_data['seeg'][:,start_idx:end_idx]\n",
    "chnl_names = []\n",
    "with open('datasets/syn_data/id001_bt/seeg.xyz') as fd:\n",
    "    for line in fd.readlines():\n",
    "        chnl_names.append(line.strip().split()[0])\n",
    "rndm_chsn_chnls = random.sample(range(0,seeg_raw.shape[0]),5)\n",
    "seeg_raw = seeg_raw[rndm_chsn_chnls, :]\n",
    "nyq = 1000 / 2.0\n",
    "# High pass filter the data\n",
    "b, a = signal.butter(5, 10.0 / nyq, 'high')\n",
    "seeg_hpfilt = signal.filtfilt(b, a, seeg_raw)\n",
    "t = seeg_hpfilt.T + 25*np.r_[0:len(rndm_chsn_chnls)]\n",
    "yticks = t.mean(axis=0)\n",
    "yticks_labels = [chnl_names[idx] for idx in rndm_chsn_chnls]\n",
    "plt.plot(t, color='black');\n",
    "plt.xlabel('Time', fontsize=20)\n",
    "plt.ylabel('SEEG', fontsize=20)\n",
    "ax.spines['top'].set_visible(False)\n",
    "ax.spines['right'].set_visible(False)\n",
    "ax.spines['left'].set_visible(False)\n",
    "ax.spines['bottom'].set_visible(False)\n",
    "plt.yticks(yticks, yticks_labels, fontsize=12);\n",
    "plt.xticks(fontsize=12);\n",
    "plt.savefig(os.path.join(figs_dir, 'seeg.png'))"
   ]
  },
  {
   "cell_type": "markdown",
   "metadata": {},
   "source": [
    "#### Sensors"
   ]
  },
  {
   "cell_type": "code",
   "execution_count": 1,
   "metadata": {},
   "outputs": [],
   "source": [
    "from vtkplotter import *\n",
    "import numpy as np\n",
    "import os\n",
    "import zipfile"
   ]
  },
  {
   "cell_type": "code",
   "execution_count": null,
   "metadata": {},
   "outputs": [],
   "source": [
    "importlib.reload(tvbpipeline.util.plot)\n",
    "figs_dir = '/home/anirudh/hdisk/Academia/papers/VEP_infer/figures/BT'\n",
    "sim_data = np.load('datasets/syn_data/id001_bt/syn_tvb_ez=48-79_pz=11-17-22-75.npz')\n",
    "ez = sim_data['ez']\n",
    "pz = sim_data['pz']\n",
    "tvbpipeline.util.plot.seeg_elecs('datasets/syn_data/id001_bt/connectivity.destrieux.zip',\n",
    "                                 'datasets/syn_data/id001_bt/seeg.xyz', ez, pz,\n",
    "                                 os.path.join(figs_dir, 'electrodes_correct_implantation.png'))"
   ]
  },
  {
   "cell_type": "code",
   "execution_count": 2,
   "metadata": {},
   "outputs": [
    {
     "output_type": "error",
     "ename": "SyntaxError",
     "evalue": "invalid syntax (<ipython-input-2-4f5333ea0b6c>, line 48)",
     "traceback": [
      "\u001b[0;36m  File \u001b[0;32m\"<ipython-input-2-4f5333ea0b6c>\"\u001b[0;36m, line \u001b[0;32m48\u001b[0m\n\u001b[0;31m    rois = [] [ for pos_i in roi_xyz]\u001b[0m\n\u001b[0m                  ^\u001b[0m\n\u001b[0;31mSyntaxError\u001b[0m\u001b[0;31m:\u001b[0m invalid syntax\n"
     ]
    }
   ],
   "source": [
    "sim_data = np.load('datasets/syn_data/id001_bt/syn_tvb_ez=48-79_pz=11-17-22-75.npz')\n",
    "ez = sim_data['ez']\n",
    "pz = sim_data['pz']\n",
    "\n",
    "figs_dir = '/home/anirudh/Academia/papers/vep/ VEP_infer/figures/BT'\n",
    "\n",
    "# data_dir is path to a retrospective 1-processed folder\n",
    "data_dir = '/home/anirudh/Academia/projects/infer_szr_prpgtn/datasets/retro/id001_bt'\n",
    "\n",
    "# parcellation should match fit loaded below\n",
    "parc = 'destrieux'\n",
    "\n",
    "regmap_path = f'{data_dir}/tvb/surface_cort.zip'\n",
    "# need a cortices + subcortical surfaces\n",
    "def surfzip2mesh(path):\n",
    "    with zipfile.ZipFile(path) as zf:\n",
    "        with zf.open(\"vertices.txt\") as fd:\n",
    "            vtx = np.loadtxt(fd)\n",
    "        with zf.open(\"triangles.txt\") as fd:\n",
    "            tri = np.loadtxt(fd)\n",
    "    return Mesh([vtx, tri])\n",
    "\n",
    "subcort_path = f'{data_dir}/tvb/surface_subcort.zip'\n",
    "cort_path = f'{data_dir}/tvb/surface_cort.zip'\n",
    "regmap_path = f'{data_dir}/tvb/surface_cort.zip'\n",
    "\n",
    "try:\n",
    "    subcort_mesh = load('subcort.vtk').alpha(0.1)\n",
    "    cort_mesh = load('cort.vtk').alpha(0.05).c(\"w\")\n",
    "except:\n",
    "    print('rebuilding meshes')\n",
    "    subcort_mesh = surfzip2mesh(subcort_path).wireframe().decimate(0.1)\n",
    "    save(subcort_mesh, os.path.join(data_dir, 'tvb', 'subcort.vtk'))\n",
    "    cort_mesh = surfzip2mesh(cort_path).wireframe().decimate(0.1)\n",
    "    save(cort_mesh, os.path.join(data_dir, 'tvb', 'cort.vtk'))\n",
    "\n",
    "# # load fit model from Anirudh\n",
    "# fn = '/Volumes/crypt/id001_bt/vep/samples_BTcrise1appportable_0006_hpf10_lpf0.05_chain1.csv'\n",
    "# csv = parse_csv(fn)\n",
    "# x = csv['x'][0]\n",
    "# y = (x.T - x.min(axis=1)) / x.ptp(axis=1)\n",
    "\n",
    "# roi balls\n",
    "path = f'{data_dir}/tvb/connectivity.{parc}.zip'\n",
    "with zipfile.ZipFile(path) as zf:\n",
    "    with zf.open('centres.txt') as fd:\n",
    "        roi_xyz = np.loadtxt(fd, usecols=(1, 2, 3))\n",
    "for roi_idx, pos_i in enumerate(roi_xyz):\n",
    "    if roi_idx in ez:\n",
    "        rois.append(Spheres(pos_i, r=1, c='r', alpha=0.2))\n",
    "    elif roi_idx in pz:\n",
    "        rois.append(Spheres(pos_i, r=1, c='brown', alpha=0.2))\n",
    "    else:\n",
    "        rois.append(Spheres(pos_i, r=1, c='black', alpha=0.2))\n",
    "\n",
    "\n",
    "# seeg balls\n",
    "path = f'{data_dir}/elec/seeg.xyz'\n",
    "seeg_xyz = np.loadtxt(path, usecols=(1, 2, 3))\n",
    "seeg = Spheres(seeg_xyz, r=2, c='y', alpha=0.2)\n",
    "\n",
    "# top subplot\n",
    "vp_anat = show([subcort_mesh, cort_mesh, seeg] + rois)"
   ]
  },
  {
   "cell_type": "markdown",
   "metadata": {},
   "source": [
    "#### Phase space"
   ]
  },
  {
   "cell_type": "code",
   "execution_count": null,
   "metadata": {},
   "outputs": [],
   "source": [
    "import numpy as np\n",
    "import matplotlib.pyplot as plt\n",
    "import lib.io.stan\n",
    "import lib.io.tvb\n",
    "import os"
   ]
  },
  {
   "cell_type": "code",
   "execution_count": null,
   "metadata": {},
   "outputs": [],
   "source": [
    "figs_dir = '/home/anirudh/hdisk/Academia/papers/vep_infer/figures/BT'\n",
    "_, roi_names = lib.io.tvb.read_roi_cntrs('datasets/syn_data/id001_bt/connectivity.destrieux.zip')\n",
    "sim_data = np.load('datasets/syn_data/id001_bt/syn_tvb_ez=48-79_pz=11-17-22-75.npz')\n",
    "start_idx = 800\n",
    "end_idx = 2200\n",
    "sim_x = sim_data['src_sig'][start_idx:end_idx,0,:,0] + sim_data['src_sig'][start_idx:end_idx,3,:,0]\n",
    "sim_z = sim_data['src_sig'][start_idx:end_idx,2,:,0]\n",
    "map_est = lib.io.stan.read_samples(['results/exp10/exp10.69/samples_syn_optim_chain1.csv'])\n",
    "map_x = map_est['x'][0]\n",
    "map_z = map_est['z'][0]\n",
    "ez = sim_data['ez']\n",
    "pz = sim_data['pz']\n",
    "n_roi = sim_x.shape[1]\n",
    "hz = np.setdiff1d(np.arange(0, n_roi), np.concatenate((ez,pz)))"
   ]
  },
  {
   "cell_type": "code",
   "execution_count": null,
   "metadata": {},
   "outputs": [],
   "source": [
    "fig = plt.figure(figsize=(5,25))\n",
    "gs = fig.add_gridspec(1, ez.shape[0])\n",
    "ez_pz = np.concatenate((ez, pz))\n",
    "for i, roi in enumerate(ez_pz):\n",
    "    plt.subplot(ez_pz.shape[0]+1, 1, i+1)\n",
    "    plt.plot(sim_x[0:-1:5, roi], sim_z[0:-1:5, roi], color='black', alpha=0.3);\n",
    "    plt.plot(map_x[10:, roi], map_z[10:, roi], color='xkcd:red' if roi in ez else 'xkcd:rust')\n",
    "    plt.xlabel('x', fontweight='bold', fontsize=20)\n",
    "    plt.ylabel('z', fontweight='bold', fontsize=20)\n",
    "    plt.xticks(fontsize=15)\n",
    "    plt.yticks(fontsize=15)\n",
    "    plt.title(roi_names[roi], fontsize=15)\n",
    "plt.subplot(ez_pz.shape[0]+1, 1,  7)\n",
    "plt.plot(sim_x[0:-1:5, hz], sim_z[0:-1:5, hz], color='black', alpha=0.3);\n",
    "plt.plot(map_x[:, hz], map_z[:, hz], color='xkcd:black')\n",
    "plt.xlabel('x', fontweight='bold', fontsize=20)\n",
    "plt.ylabel('z', fontweight='bold', fontsize=20)\n",
    "plt.xticks(fontsize=15)\n",
    "plt.yticks(fontsize=15)\n",
    "plt.title('Healthy Nodes', fontsize=15)\n",
    "plt.tight_layout()\n",
    "plt.savefig(os.path.join(figs_dir, 'predicted_source_crct_implnt_phasespace.svg'))"
   ]
  },
  {
   "cell_type": "code",
   "execution_count": null,
   "metadata": {},
   "outputs": [],
   "source": [
    "fig = plt.figure(figsize=(15,25))\n",
    "gs = fig.add_gridspec(7,1)\n",
    "for i, roi in enumerate(np.concatenate((ez, pz))):\n",
    "    fig.add_subplot(gs[i, 0])\n",
    "    plt.plot(sim_x[0:-1:5, roi], 'black', alpha=0.3);\n",
    "    plt.plot(map_x[:, roi], color='xkcd:red' if roi in ez else 'xkcd:rust');\n",
    "    plt.ylim(-3, 1.5)\n",
    "    plt.title(roi_names[roi], fontsize=15)\n",
    "    \n",
    "# fig.add_subplot(gs[6,0])\n",
    "# plt.plot(sim_x[0:-1:5, hz], 'black', alpha=0.3);\n",
    "# plt.plot(map_x[:, hz], color='xkcd:black');\n",
    "# plt.title('Healthy Nodes', fontsize=15)\n",
    "# plt.ylim(-3.2, 1.5)\n",
    "plt.tight_layout()\n",
    "plt.savefig(os.path.join(figs_dir, 'predicted_source_crct_implnt_x.svg'))"
   ]
  },
  {
   "cell_type": "markdown",
   "metadata": {},
   "source": [
    "#### Onsets"
   ]
  },
  {
   "cell_type": "code",
   "execution_count": null,
   "metadata": {},
   "outputs": [],
   "source": [
    "import numpy as np\n",
    "import lib.io.stan\n",
    "import lib.plots.stan\n",
    "%matplotlib inline\n",
    "import matplotlib.pyplot as plt\n",
    "from matplotlib import colors,cm\n",
    "from matplotlib.lines import Line2D\n",
    "import random\n",
    "import scipy.signal as signal\n",
    "import os"
   ]
  },
  {
   "cell_type": "code",
   "execution_count": null,
   "metadata": {},
   "outputs": [],
   "source": [
    "figs_dir = '/home/anirudh/hdisk/Academia/papers/vep_infer/figures/BT'\n",
    "sim_data = np.load('datasets/syn_data/id001_bt/syn_tvb_ez=48-79_pz=11-17-22-75.npz')\n",
    "start_idx = 800\n",
    "end_idx = 2200\n",
    "sim_src_sig = sim_data['src_sig'][start_idx:end_idx,0,:,0] + sim_data['src_sig'][start_idx:end_idx,3,:,0]\n",
    "ds_freq = 5\n",
    "sim_src_sig_ds = sim_src_sig[0:-1:ds_freq,:]\n",
    "map_est = lib.io.stan.read_samples(['results/exp10/exp10.69/samples_syn_optim_chain1.csv'])\n",
    "map_src_sig = map_est['x'][0]"
   ]
  },
  {
   "cell_type": "code",
   "execution_count": null,
   "metadata": {},
   "outputs": [],
   "source": [
    "sim_onsets = sim_src_sig_ds.shape[0]*np.zeros(sim_src_sig_ds.shape[1])\n",
    "for i, sig in enumerate(sim_src_sig_ds.T):\n",
    "    sig_cond = sig > 0\n",
    "    if sig_cond.any():\n",
    "        sim_onsets[i] = np.min(np.nonzero(sig_cond))\n",
    "\n",
    "map_onsets = np.zeros(map_src_sig.shape[1])\n",
    "for i, sig in enumerate(map_src_sig.T):\n",
    "    sig_cond = sig > 0\n",
    "    if sig_cond.any():\n",
    "        map_onsets[i] = np.min(np.nonzero(sig_cond))"
   ]
  },
  {
   "cell_type": "code",
   "execution_count": null,
   "metadata": {},
   "outputs": [],
   "source": [
    "plt.figure(figsize=(8,5))\n",
    "# plt.bar(np.r_[1:onsets.shape[0]+1], onsets)\n",
    "# plt.xticks(np.r_[1:onsets.shape[0]+1:2]);\n",
    "plt.hist([sim_onsets[np.nonzero(sim_onsets > 0)],\n",
    "         map_onsets[np.nonzero(map_onsets > 0)]],\n",
    "         color=['black', 'xkcd:red'], alpha=0.5,\n",
    "         label=['Ground Truth', 'Inferred']);\n",
    "plt.xlabel('Time', fontsize=15);\n",
    "plt.xticks(fontsize=15)\n",
    "plt.yticks(ticks=[0,1,2], labels=[0,1,2], fontsize=15)\n",
    "plt.legend(fontsize=15)\n",
    "plt.savefig(os.path.join(figs_dir, 'onsets_crct_implnt.svg'))"
   ]
  },
  {
   "cell_type": "markdown",
   "metadata": {},
   "source": [
    "## Fit to observation"
   ]
  },
  {
   "cell_type": "code",
   "execution_count": null,
   "metadata": {},
   "outputs": [],
   "source": [
    "import numpy as np\n",
    "import matplotlib.pyplot as plt\n",
    "import lib.io.stan\n",
    "import lib.io.seeg\n",
    "import os"
   ]
  },
  {
   "cell_type": "code",
   "execution_count": null,
   "metadata": {},
   "outputs": [],
   "source": [
    "figs_dir = '/home/anirudh/hdisk/Academia/papers/vep_infer/figures/BT'\n",
    "\n",
    "map_estim = lib.io.stan.read_samples(['results/exp10/exp10.69/samples_syn_optim_chain1.csv'])\n",
    "slp_pred = map_estim['mu_slp'][0]\n",
    "snsr_pwr_pred = map_estim['mu_snsr_pwr'][0]\n",
    "\n",
    "obs_dat = lib.io.stan.rload('results/exp10/exp10.69/Rfiles/fit_data_snsrfit_ode_syn_optim.R')\n",
    "slp_obs = obs_dat['slp']\n",
    "snsr_pwr_obs = obs_dat['snsr_pwr']\n",
    "nt, ns = slp_pred.shape\n",
    "\n",
    "chnl_names = [el[0] for el in lib.io.seeg.read_contacts('datasets/syn_data/id001_bt/seeg.xyz', type='list')]"
   ]
  },
  {
   "cell_type": "code",
   "execution_count": null,
   "metadata": {},
   "outputs": [],
   "source": [
    "np.random.seed(100)\n",
    "chnls = np.random.randint(0, ns, 5)\n",
    "fig = plt.figure(figsize=(22,15))\n",
    "gs = fig.add_gridspec(5,4)\n",
    "for i, chnl in enumerate(chnls):\n",
    "    fig.add_subplot(gs[i, 0:3])\n",
    "    plt.plot(slp_obs[:, chnl], color='xkcd:black', alpha=0.3)\n",
    "    plt.plot(slp_pred[:, chnl], color='xkcd:red')\n",
    "    if(i == 0):\n",
    "        plt.title('SEEG Log. Power', fontsize=20)\n",
    "    plt.ylabel(chnl_names[chnl], fontsize=15)\n",
    "    plt.xticks(fontsize=15)\n",
    "    plt.yticks(fontsize=15)\n",
    "fig.add_subplot(gs[:,3])\n",
    "plt.barh(np.r_[1:ns+1], snsr_pwr_pred, color='xkcd:red', alpha=0.3)\n",
    "plt.barh(np.r_[1:ns+1], snsr_pwr_obs, color='xkcd:black', alpha=0.3)\n",
    "plt.title('Channel Power', fontsize=20)\n",
    "plt.ylabel('Channel', fontsize=15)\n",
    "plt.yticks(np.r_[1:ns+1:5], np.r_[1:ns+1:5]);\n",
    "plt.savefig(os.path.join(figs_dir, 'fit_to_observations.svg'))"
   ]
  },
  {
   "cell_type": "markdown",
   "metadata": {},
   "source": [
    "## Slice plots for Retrospective Engel score I"
   ]
  },
  {
   "cell_type": "code",
   "execution_count": null,
   "metadata": {},
   "outputs": [],
   "source": [
    "import nibabel\n",
    "import numpy as np\n",
    "import matplotlib.pyplot as plt\n",
    "import os\n",
    "import lib.utils.stan\n",
    "import lib.io.tvb\n",
    "import matplotlib.cm"
   ]
  },
  {
   "cell_type": "code",
   "execution_count": null,
   "metadata": {},
   "outputs": [],
   "source": [
    "root_dir = \"datasets/retro/id003_mg\"\n",
    "\n",
    "t1 = nibabel.load(os.path.join(root_dir, \"mri\", \"T1.mgz\"))\n",
    "t1_dat = t1.get_data()\n",
    "lbl = nibabel.load(os.path.join(root_dir, \"dwi\", \"label_in_T1.destrieux.nii.gz\"))\n",
    "lbl_dat = lbl.get_data()"
   ]
  },
  {
   "cell_type": "code",
   "execution_count": null,
   "metadata": {},
   "outputs": [],
   "source": [
    "print(t1.affine)\n",
    "print(lbl.affine)"
   ]
  },
  {
   "cell_type": "markdown",
   "metadata": {},
   "source": [
    "#### Convert Label data FOV into T1's FOV"
   ]
  },
  {
   "cell_type": "code",
   "execution_count": null,
   "metadata": {},
   "outputs": [],
   "source": [
    "vox2vox_trnsfrm = np.dot(np.linalg.inv(lbl.affine), t1.affine)\n",
    "lbl_dat_t1fov = np.zeros_like(lbl_dat)\n",
    "for c1 in range(t1_dat.shape[0]):\n",
    "    for r1 in range(t1_dat.shape[1]):\n",
    "        for s1 in range(t1_dat.shape[2]):\n",
    "            c2,r2,s2,_ = [int(np.rint(el)) for el in np.dot(vox2vox_trnsfrm, np.array([c1,r1,s1,1]))]\n",
    "            lbl_dat_t1fov[c1,r1,s1] = lbl_dat[c2-1,r2,s2-1]\n",
    "np.save(os.path.join(root_dir, \"dwi\", \"label_in_T1fov.destrieux.npy\"), lbl_dat_t1fov)"
   ]
  },
  {
   "cell_type": "code",
   "execution_count": null,
   "metadata": {},
   "outputs": [],
   "source": [
    "lbl_dat_t1fov = np.load(os.path.join(root_dir, \"dwi\", \"label_in_T1fov.destrieux.npy\"))"
   ]
  },
  {
   "cell_type": "markdown",
   "metadata": {},
   "source": [
    "#### Choose colors for EZ"
   ]
  },
  {
   "cell_type": "code",
   "execution_count": null,
   "metadata": {},
   "outputs": [],
   "source": [
    "ez_hyp = np.nonzero(np.loadtxt(os.path.join(root_dir, 'tvb', 'ez_hypothesis.destrieux.txt')))[0]\n",
    "ez_pred, pz_pred = lib.utils.stan.find_ez(0, 10, ['/home/anirudh/hdisk/Academia/projects/vep.stan/results/exp10/exp10.67/id003_mg/samples_MGcrise1_hpf10_lpf0.05_chain1.csv'])\n",
    "ez_pred = np.nonzero(ez_pred)[0]\n",
    "pz_pred = np.nonzero(pz_pred)[0]"
   ]
  },
  {
   "cell_type": "code",
   "execution_count": null,
   "metadata": {},
   "outputs": [],
   "source": [
    "roi_cntrs, roi_lbls = lib.io.tvb.read_roi_cntrs(os.path.join(root_dir, 'tvb', 'connectivity.destrieux.zip'))\n",
    "ez_all = np.unique(np.concatenate((ez_hyp, ez_pred)))\n",
    "cmap_tab10 = matplotlib.cm.get_cmap('tab10').colors\n",
    "ez_clrs = dict()\n",
    "for i, roi in enumerate(ez_all):\n",
    "    ez_clrs[roi_lbls[roi]] = cmap_tab10[i] + (1,)"
   ]
  },
  {
   "cell_type": "markdown",
   "metadata": {},
   "source": [
    "#### Groud Truth"
   ]
  },
  {
   "cell_type": "code",
   "execution_count": null,
   "metadata": {},
   "outputs": [],
   "source": [
    "ez_col_idxs = []\n",
    "for i,roi in enumerate(ez_hyp):\n",
    "    ez_col_idxs.append(np.unique(np.nonzero(lbl_dat_t1fov == roi)[0]))\n",
    "    print('ROI: ', roi, roi_lbls[roi], ez_clrs[roi_lbls[roi]])\n",
    "    print(ez_col_idxs[i])\n",
    "\n",
    "plt.figure()\n",
    "ax = plt.axes()\n",
    "for i, roi in enumerate(ez_all):\n",
    "    plt.plot([0,0.5],[10-i,10-i], linewidth=15, color=ez_clrs[roi_lbls[roi]])\n",
    "plt.yticks(ticks=10 - np.r_[0:len(ez_all)], labels=[roi_lbls[roi]+f'({roi})' for roi in ez_all]);\n",
    "plt.xticks([])\n",
    "ax.set_frame_on(False)"
   ]
  },
  {
   "cell_type": "code",
   "execution_count": null,
   "metadata": {},
   "outputs": [],
   "source": [
    "slc_idx = [70, 80, 108, 119]\n",
    "ez_slc = dict(((70, (122, 126, 161)), (80, (104,)), (108, (94,)), (119, (160,))))\n",
    "# fig, axs = plt.subplots(nrows=1, ncols=len(slc_idx), figsize=(20,20), squeeze=True)\n",
    "plt.figure(figsize=(15,15))\n",
    "for i, slc_idx_ in enumerate(slc_idx):\n",
    "    t1_slc = t1_dat[slc_idx_, :, :]\n",
    "    lbl_slc = lbl_dat_t1fov[slc_idx_, :, :]\n",
    "    ol = np.zeros(lbl_slc.shape + (4,))\n",
    "    for roi in ez_slc[slc_idx_]:\n",
    "        ol[lbl_slc == roi] = ez_clrs[roi_lbls[roi]]\n",
    "    plt.subplot(2,2,i+1)\n",
    "    plt.imshow(t1_slc, cmap='gray');\n",
    "    plt.imshow(ol)\n",
    "    plt.xticks([])\n",
    "    plt.yticks([])\n",
    "plt.tight_layout()\n",
    "plt.savefig('/home/anirudh/hdisk/Academia/papers/vep_infer/figures/Retro/retro_engel1_ezhyp_id003_mg.png')"
   ]
  },
  {
   "cell_type": "markdown",
   "metadata": {},
   "source": [
    "#### Predicted EZ"
   ]
  },
  {
   "cell_type": "code",
   "execution_count": null,
   "metadata": {},
   "outputs": [],
   "source": [
    "ez_col_idxs = []\n",
    "for i,roi in enumerate(ez_pred):\n",
    "    ez_col_idxs.append(np.unique(np.nonzero(lbl_dat_t1fov == roi)[0]))\n",
    "    print('ROI: ', roi, roi_lbls[roi])\n",
    "    print(ez_col_idxs[i])"
   ]
  },
  {
   "cell_type": "code",
   "execution_count": null,
   "metadata": {},
   "outputs": [],
   "source": [
    "slc_idx = [70, 93, 119]\n",
    "fig, axs = plt.subplots(nrows=2, ncols=2, figsize=(20,20), squeeze=True)\n",
    "for i,slc_idx_ in enumerate(slc_idx):\n",
    "    t1_slc = t1_dat[slc_idx_, :, :]\n",
    "    lbl_slc = lbl_dat_t1fov[slc_idx_, :, :]\n",
    "    ol = np.zeros(lbl_slc.shape + (4,))\n",
    "    for roi in ez_pred:\n",
    "        ol[lbl_slc == roi] = ez_clrs[roi_lbls[roi]]\n",
    "    axs[int(i/2),i%2].imshow(t1_slc, cmap='gray');\n",
    "    axs[int(i/2),i%2].imshow(ol)\n",
    "    axs[int(i/2),i%2].axis('off')\n",
    "axs[-1, -1].axis('off')\n",
    "plt.tight_layout()\n",
    "fig.savefig('/home/anirudh/hdisk/Academia/papers/vep_infer/figures/Retro/retro_engel1_ezpred_id003_mg.png')"
   ]
  },
  {
   "cell_type": "code",
   "execution_count": null,
   "metadata": {},
   "outputs": [],
   "source": [
    "map_estim = lib.io.stan.read_samples(['results/exp10/exp10.67/id003_mg/samples_MGcrise1_hpf10_lpf0.05_chain1.csv'])\n",
    "x = map_estim['x'][0]\n",
    "\n",
    "ez_all = np.unique(np.concatenate((ez_hyp, ez_pred)))\n",
    "szng_roi = np.unique(np.concatenate((ez_all, pz_pred)))\n",
    "x_shfld = np.zeros((szng_roi.size, x.shape[0]))\n",
    "ytick_lbls = []\n",
    "i = 0\n",
    "for roi in range(x.shape[1]):\n",
    "    if(roi in szng_roi):\n",
    "        x_shfld[i, :] = x[:, roi]\n",
    "        ytick_lbls = ytick_lbls + [roi_lbls[roi]]\n",
    "        i += 1\n",
    "plt.figure(figsize=(15,6))\n",
    "plt.imshow(np.exp(x_shfld), cmap='hot', aspect='auto')\n",
    "plt.yticks(np.r_[0:x_shfld.shape[0]], ytick_lbls, fontsize=15)\n",
    "plt.xticks(fontsize=15)\n",
    "for roi in ez_all:\n",
    "    roi_tick_idx = ytick_lbls.index(roi_lbls[roi])\n",
    "    plt.gca().get_yticklabels()[roi_tick_idx].set_color(ez_clrs[roi_lbls[roi]])\n",
    "plt.xlabel('Time', fontsize=20)\n",
    "plt.ylabel('ROI', fontsize=20)\n",
    "\n",
    "onsets = lib.utils.stan.find_onsets(x, 0)\n",
    "first_onset_time = np.min(onsets)\n",
    "plt.axvspan(first_onset_time, first_onset_time + 10, color='gray', alpha=0.4)\n",
    "plt.text(first_onset_time, -1, r'$t_{\\lambda}$', fontsize=15)\n",
    "plt.text(first_onset_time + 10, -1, r'$t_{\\lambda} + t_{\\epsilon}$', fontsize=15)\n",
    "plt.tight_layout()\n",
    "\n",
    "plt.savefig('/home/anirudh/hdisk/Academia/papers/vep_infer/figures/Retro/retro_engel1_src_x_id003_mg.png')"
   ]
  },
  {
   "cell_type": "code",
   "execution_count": null,
   "metadata": {},
   "outputs": [],
   "source": [
    "map_estim = lib.io.stan.read_samples(['results/exp10/exp10.67/id003_mg/samples_MGcrise1_hpf10_lpf0.05_chain1.csv'])\n",
    "x = map_estim['x'][0]\n",
    "z = map_estim['z'][0]"
   ]
  },
  {
   "cell_type": "code",
   "execution_count": null,
   "metadata": {},
   "outputs": [],
   "source": [
    "plt.figure(figsize=(20,4))\n",
    "for roi in ez_all:\n",
    "    plt.plot(x[:, roi], color=ez_clrs[roi_lbls[roi]], label=roi_lbls[roi])\n",
    "plt.legend(fontsize=15, loc='upper right')\n",
    "plt.xticks(fontsize=15)\n",
    "plt.yticks(fontsize=15)\n",
    "plt.xlabel('Time', fontsize=15)\n",
    "plt.ylabel('X', fontsize=15)\n",
    "plt.savefig('/home/anirudh/hdisk/Academia/papers/vep_infer/figures/Retro/retro_engel1_src_x_2_id003_mg.png')"
   ]
  },
  {
   "cell_type": "markdown",
   "metadata": {},
   "source": [
    "### Slice plots for Engel score II"
   ]
  },
  {
   "cell_type": "code",
   "execution_count": null,
   "metadata": {},
   "outputs": [],
   "source": [
    "import nibabel\n",
    "import numpy as np\n",
    "import matplotlib.pyplot as plt\n",
    "import os\n",
    "import lib.utils.stan\n",
    "import lib.io.tvb\n",
    "import matplotlib.cm"
   ]
  },
  {
   "cell_type": "code",
   "execution_count": null,
   "metadata": {},
   "outputs": [],
   "source": [
    "root_dir = \"datasets/retro/id001_bt\"\n",
    "\n",
    "t1 = nibabel.load(os.path.join(root_dir, \"mri\", \"T1.mgz\"))\n",
    "t1_dat = t1.get_data()\n",
    "lbl = nibabel.load(os.path.join(root_dir, \"dwi\", \"label_in_T1.destrieux.nii.gz\"))\n",
    "lbl_dat = lbl.get_data()"
   ]
  },
  {
   "cell_type": "code",
   "execution_count": null,
   "metadata": {},
   "outputs": [],
   "source": [
    "print(t1.affine)\n",
    "print(lbl.affine)"
   ]
  },
  {
   "cell_type": "markdown",
   "metadata": {},
   "source": [
    "#### Convert Label data FOV into T1's FOV"
   ]
  },
  {
   "cell_type": "code",
   "execution_count": null,
   "metadata": {},
   "outputs": [],
   "source": [
    "vox2vox_trnsfrm = np.dot(np.linalg.inv(lbl.affine), t1.affine)\n",
    "lbl_dat_t1fov = np.zeros_like(lbl_dat)\n",
    "for c1 in range(t1_dat.shape[0]):\n",
    "    for r1 in range(t1_dat.shape[1]):\n",
    "        for s1 in range(t1_dat.shape[2]):\n",
    "            c2,r2,s2,_ = [int(np.rint(el)) for el in np.dot(vox2vox_trnsfrm, np.array([c1,r1,s1,1]))]\n",
    "            lbl_dat_t1fov[c1,r1,s1] = lbl_dat[c2-1,r2,s2-1]\n",
    "np.save(os.path.join(root_dir, \"dwi\", \"label_in_T1fov.destrieux.npy\"), lbl_dat_t1fov)"
   ]
  },
  {
   "cell_type": "code",
   "execution_count": null,
   "metadata": {},
   "outputs": [],
   "source": [
    "lbl_dat_t1fov = np.load(os.path.join(root_dir, \"dwi\", \"label_in_T1fov.destrieux.npy\"))"
   ]
  },
  {
   "cell_type": "markdown",
   "metadata": {},
   "source": [
    "#### Groud Truth"
   ]
  },
  {
   "cell_type": "code",
   "execution_count": null,
   "metadata": {},
   "outputs": [],
   "source": [
    "ez_hyp = np.nonzero(np.loadtxt(os.path.join(root_dir, 'tvb', 'ez_hypothesis.destrieux.txt')))[0]\n",
    "roi_cntrs, roi_lbls = lib.io.tvb.read_roi_cntrs(os.path.join(root_dir, 'tvb', 'connectivity.destrieux.zip'))\n",
    "ez_col_idxs = []\n",
    "for i,roi in enumerate(ez_hyp):\n",
    "    ez_col_idxs.append(np.unique(np.nonzero(lbl_dat_t1fov == roi)[0]))\n",
    "    print('ROI: ', roi, roi_lbls[roi])\n",
    "    print(ez_col_idxs[i])"
   ]
  },
  {
   "cell_type": "markdown",
   "metadata": {},
   "source": [
    "#### Choose colors for roi in EZ hypothesis"
   ]
  },
  {
   "cell_type": "code",
   "execution_count": null,
   "metadata": {},
   "outputs": [],
   "source": [
    "cmap_tab10 = matplotlib.cm.get_cmap('tab10').colors\n",
    "ez_clrs = dict()\n",
    "ez_clrs[roi_lbls[86]] = cmap_tab10[0]\n",
    "ez_clrs[roi_lbls[87]] = cmap_tab10[1]"
   ]
  },
  {
   "cell_type": "code",
   "execution_count": null,
   "metadata": {},
   "outputs": [],
   "source": [
    "slc_idx = [108]\n",
    "fig, axs = plt.subplots(nrows=1, ncols=len(slc_idx), figsize=(20,20), squeeze=True)\n",
    "for i,slc_idx_ in enumerate(slc_idx):\n",
    "    t1_slc = t1_dat[slc_idx_, :, :]\n",
    "    lbl_slc = lbl_dat_t1fov[slc_idx_, :, :]\n",
    "    ol = np.zeros(lbl_slc.shape + (4,))\n",
    "    for roi in ez_hyp:\n",
    "        ol[lbl_slc == roi] = ez_clrs[roi_lbls[roi]] + (1,)\n",
    "    axs.imshow(t1_slc, cmap='gray');\n",
    "    axs.imshow(ol)\n",
    "    axs.set_xticks([])\n",
    "    axs.set_yticks([])\n",
    "fig.savefig('/home/anirudh/hdisk/Academia/papers/vep_infer/figures/Retro/retro_engel2_ezhyp.png')"
   ]
  },
  {
   "cell_type": "markdown",
   "metadata": {},
   "source": [
    "#### Predicted EZ"
   ]
  },
  {
   "cell_type": "code",
   "execution_count": null,
   "metadata": {},
   "outputs": [],
   "source": [
    "ez_pred, pz_pred = lib.utils.stan.find_ez(0, 10, ['results/exp10/exp10.67/id001_bt/samples_BTcrise1appportable_0006_hpf10_lpf0.02_chain1.csv'])\n",
    "ez_pred = np.nonzero(ez_pred)[0]\n",
    "pz_pred = np.nonzero(pz_pred)[0]\n",
    "ez_col_idxs = []\n",
    "print('EZ')\n",
    "for i,roi in enumerate(ez_pred):\n",
    "    ez_col_idxs.append(np.unique(np.nonzero(lbl_dat_t1fov == roi)[0]))\n",
    "    print('ROI: ', roi, roi_lbls[roi])\n",
    "    print(ez_col_idxs[i])\n",
    "print('PZ')\n",
    "pz_col_idxs = []\n",
    "for i,roi in enumerate(pz_pred):\n",
    "    pz_col_idxs.append(np.unique(np.nonzero(lbl_dat_t1fov == roi)[0]))\n",
    "    print('ROI: ', roi)\n",
    "    print(pz_col_idxs[i])"
   ]
  },
  {
   "cell_type": "markdown",
   "metadata": {},
   "source": [
    "#### Choose colors predicted EZ"
   ]
  },
  {
   "cell_type": "code",
   "execution_count": null,
   "metadata": {},
   "outputs": [],
   "source": [
    "ez_clrs[roi_lbls[14]] = cmap_tab10[2]\n",
    "ez_clrs[roi_lbls[72]] = cmap_tab10[3]\n",
    "ez_clrs[roi_lbls[142]] = cmap_tab10[4]"
   ]
  },
  {
   "cell_type": "code",
   "execution_count": null,
   "metadata": {},
   "outputs": [],
   "source": [
    "slc_idx = [92, 108, 165, 180]\n",
    "fig = plt.figure(figsize=(20,20))\n",
    "# gs = fig.add_gridspec(2,2)\n",
    "# fig, axs = plt.subplots(nrows=2, ncols=2, figsize=(20,20), squeeze=True)\n",
    "for i,slc_idx_ in enumerate(slc_idx):\n",
    "    t1_slc = t1_dat[slc_idx_, :, :]\n",
    "    lbl_slc = lbl_dat_t1fov[slc_idx_, :, :]\n",
    "    ol = np.zeros(lbl_slc.shape + (4,))\n",
    "    for roi in ez_pred:\n",
    "        ol[lbl_slc == roi] = ez_clrs[roi_lbls[roi]] + (1,)\n",
    "    plt.subplot(2,2,i+1)\n",
    "#     axs = fig.add_subplot(gs[i, i])\n",
    "    plt.imshow(t1_slc, cmap='gray');\n",
    "    plt.imshow(ol)\n",
    "    plt.xticks([])\n",
    "    plt.yticks([])\n",
    "fig.savefig('/home/anirudh/hdisk/Academia/papers/vep_infer/figures/Retro/retro_engel2_ezpred.png')"
   ]
  },
  {
   "cell_type": "code",
   "execution_count": null,
   "metadata": {},
   "outputs": [],
   "source": [
    "map_estim = lib.io.stan.read_samples(['results/exp10/exp10.67/id001_bt/samples_BTcrise1appportable_0006_hpf10_lpf0.02_chain1.csv'])\n",
    "x = map_estim['x'][0]\n",
    "\n",
    "ez_all = np.unique(np.concatenate((ez_hyp, ez_pred)))\n",
    "x_shfld = np.zeros((ez_all.size+pz_pred.size, x.shape[0]))\n",
    "ytick_lbls = []\n",
    "i = 0\n",
    "for roi in range(x.shape[1]):\n",
    "    if((roi in ez_all) or (roi in pz_pred)):\n",
    "        x_shfld[i, :] = x[:, roi]\n",
    "        ytick_lbls = ytick_lbls + [roi_lbls[roi]]\n",
    "        i += 1\n",
    "plt.figure(figsize=(15,4))\n",
    "plt.imshow(np.exp(x_shfld[0:ez_all.size+pz_pred.size]), cmap='hot', aspect='auto')\n",
    "plt.yticks(np.r_[0:x_shfld.shape[0]], ytick_lbls, fontsize=15)\n",
    "plt.xticks(fontsize=15)\n",
    "for roi in ez_all:\n",
    "    roi_tick_idx = ytick_lbls.index(roi_lbls[roi])\n",
    "    plt.gca().get_yticklabels()[roi_tick_idx].set_color(ez_clrs[roi_lbls[roi]])\n",
    "plt.xlabel('Time', fontsize=20)\n",
    "plt.ylabel('ROI', fontsize=20)\n",
    "plt.tight_layout()\n",
    "plt.savefig('/home/anirudh/hdisk/Academia/papers/vep_infer/figures/Retro/retro_engel2_src_x.png')"
   ]
  },
  {
   "cell_type": "code",
   "execution_count": null,
   "metadata": {},
   "outputs": [],
   "source": [
    "map_estim = lib.io.stan.read_samples(['results/exp10/exp10.67/id001_bt/samples_BTcrise1appportable_0006_hpf10_lpf0.02_chain1.csv'])\n",
    "x = map_estim['x'][0]\n",
    "\n",
    "plt.figure(figsize=(20,4))\n",
    "for roi in ez_pred:\n",
    "    plt.plot(x[:, roi], color=ez_clrs[roi_lbls[roi]], label=roi_lbls[roi])\n",
    "plt.legend(fontsize=15, loc='upper right')\n",
    "plt.xticks(fontsize=15)\n",
    "plt.yticks(fontsize=15)\n",
    "plt.xlabel('Time', fontsize=15)\n",
    "plt.ylabel('X', fontsize=15)\n",
    "plt.savefig('/home/anirudh/hdisk/Academia/papers/vep_infer/figures/Retro/retro_engel2_src_x_2.png')"
   ]
  },
  {
   "cell_type": "code",
   "execution_count": null,
   "metadata": {},
   "outputs": [],
   "source": [
    "import lib.io.stan\n",
    "map_estim = lib.io.stan.read_samples(['results/exp10/exp10.67/id001_bt/samples_BTcrise1appportable_0006_hpf10_lpf0.02_chain1.csv'])\n",
    "x = map_estim['x'][0].T\n",
    "ez_hyp = np.nonzero(np.loadtxt('datasets/retro/id001_bt/tvb/ez_hypothesis.destrieux.txt'))[0]\n",
    "plt.figure(figsize=(25,5))\n",
    "for i, x_ in enumerate(x):\n",
    "    if(i in ez_hyp):\n",
    "        plt.plot(x_, 'r')\n",
    "    else:\n",
    "        plt.plot(x_, 'k')"
   ]
  },
  {
   "cell_type": "markdown",
   "metadata": {},
   "source": [
    "### Slice plots for Engel score III"
   ]
  },
  {
   "cell_type": "code",
   "execution_count": null,
   "metadata": {},
   "outputs": [],
   "source": [
    "import nibabel\n",
    "import numpy as np\n",
    "import matplotlib.pyplot as plt\n",
    "import os\n",
    "import lib.utils.stan\n",
    "import matplotlib.cm\n",
    "import lib.io.tvb"
   ]
  },
  {
   "cell_type": "code",
   "execution_count": null,
   "metadata": {},
   "outputs": [],
   "source": [
    "root_dir = \"datasets/retro/id028_ca\"\n",
    "\n",
    "t1 = nibabel.load(os.path.join(root_dir, \"mri\", \"T1.mgz\"))\n",
    "t1_dat = t1.get_data()\n",
    "lbl = nibabel.load(os.path.join(root_dir, \"dwi\", \"label_in_T1.destrieux.nii.gz\"))\n",
    "lbl_dat = lbl.get_data()"
   ]
  },
  {
   "cell_type": "code",
   "execution_count": null,
   "metadata": {},
   "outputs": [],
   "source": [
    "print(t1.affine)\n",
    "print(lbl.affine)"
   ]
  },
  {
   "cell_type": "markdown",
   "metadata": {},
   "source": [
    "#### Convert Label data FOV into T1's FOV"
   ]
  },
  {
   "cell_type": "code",
   "execution_count": null,
   "metadata": {},
   "outputs": [],
   "source": [
    "vox2vox_trnsfrm = np.dot(np.linalg.inv(lbl.affine), t1.affine)\n",
    "lbl_dat_t1fov = np.zeros_like(lbl_dat)\n",
    "for c1 in range(t1_dat.shape[0]):\n",
    "    for r1 in range(t1_dat.shape[1]):\n",
    "        for s1 in range(t1_dat.shape[2]):\n",
    "            c2,r2,s2,_ = [int(np.rint(el)) for el in np.dot(vox2vox_trnsfrm, np.array([c1,r1,s1,1]))]\n",
    "            lbl_dat_t1fov[c1,r1,s1] = lbl_dat[c2-1,r2,s2-1]\n",
    "np.save(os.path.join(root_dir, \"dwi\", \"label_in_T1fov.destrieux.npy\"), lbl_dat_t1fov)"
   ]
  },
  {
   "cell_type": "code",
   "execution_count": null,
   "metadata": {},
   "outputs": [],
   "source": [
    "lbl_dat_t1fov = np.load(os.path.join(root_dir, \"dwi\", \"label_in_T1fov.destrieux.npy\"))"
   ]
  },
  {
   "cell_type": "markdown",
   "metadata": {},
   "source": [
    "#### Groud Truth"
   ]
  },
  {
   "cell_type": "code",
   "execution_count": null,
   "metadata": {},
   "outputs": [],
   "source": [
    "ez_hyp = np.nonzero(np.loadtxt(os.path.join(root_dir, 'tvb', 'ez_hypothesis.destrieux.txt')))[0]\n",
    "roi_cntrs, roi_lbls = lib.io.tvb.read_roi_cntrs(os.path.join(root_dir, 'tvb', 'connectivity.destrieux.zip'))\n",
    "ez_col_idxs = []\n",
    "for i,roi in enumerate(ez_hyp):\n",
    "    ez_col_idxs.append(np.unique(np.nonzero(lbl_dat_t1fov == roi)[0]))\n",
    "    print('ROI: ', roi)\n",
    "    print(ez_col_idxs[i])"
   ]
  },
  {
   "cell_type": "markdown",
   "metadata": {},
   "source": [
    "#### Choose colors for roi in EZ hypothesis"
   ]
  },
  {
   "cell_type": "code",
   "execution_count": null,
   "metadata": {},
   "outputs": [],
   "source": [
    "cmap_tab10 = matplotlib.cm.get_cmap('tab10').colors\n",
    "ez_clrs = dict()\n",
    "ez_clrs[roi_lbls[112]] = cmap_tab10[0]\n",
    "ez_clrs[roi_lbls[131]] = cmap_tab10[1]\n",
    "ez_clrs[roi_lbls[135]] = cmap_tab10[2]\n",
    "ez_clrs[roi_lbls[151]] = cmap_tab10[3]\n",
    "ez_clrs[roi_lbls[152]] = cmap_tab10[4]"
   ]
  },
  {
   "cell_type": "code",
   "execution_count": null,
   "metadata": {},
   "outputs": [],
   "source": [
    "slc_idx = [102, 123]\n",
    "fig, axs = plt.subplots(nrows=1, ncols=len(slc_idx), figsize=(20,20), squeeze=True)\n",
    "for i,slc_idx_ in enumerate(slc_idx):\n",
    "    t1_slc = t1_dat[slc_idx_, :, :]\n",
    "    lbl_slc = lbl_dat_t1fov[slc_idx_, :, :]\n",
    "    ol = np.zeros(lbl_slc.shape + (4,))\n",
    "    for roi in ez_hyp:\n",
    "        ol[lbl_slc == roi] = ez_clrs[roi_lbls[roi]] + (1,)\n",
    "    axs[i].imshow(t1_slc, cmap='gray');\n",
    "    axs[i].imshow(ol)\n",
    "    axs[i].set_xticks([])\n",
    "    axs[i].set_yticks([])\n",
    "fig.savefig('/home/anirudh/hdisk/Academia/papers/vep_infer/figures/Retro/retro_engel3_ezhyp.png')"
   ]
  },
  {
   "cell_type": "markdown",
   "metadata": {},
   "source": [
    "#### Predicted EZ"
   ]
  },
  {
   "cell_type": "code",
   "execution_count": null,
   "metadata": {},
   "outputs": [],
   "source": [
    "ez_pred, pz_pred = lib.utils.stan.find_ez(0, 10, ['results/exp10/exp10.67/id028_ca/samples_CA_crise1P_091126B-BEX_0002_hpf10_lpf0.05_chain1.csv'])\n",
    "ez_pred = np.nonzero(ez_pred)[0]\n",
    "pz_pred = np.nonzero(pz_pred)[0]\n",
    "ez_col_idxs = []\n",
    "print('EZ')\n",
    "for i,roi in enumerate(ez_pred):\n",
    "    ez_col_idxs.append(np.unique(np.nonzero(lbl_dat_t1fov == roi)[0]))\n",
    "    print('ROI: ', roi)\n",
    "    print(ez_col_idxs[i])\n",
    "print('PZ')\n",
    "pz_col_idxs = []\n",
    "for i,roi in enumerate(pz_pred):\n",
    "    pz_col_idxs.append(np.unique(np.nonzero(lbl_dat_t1fov == roi)[0]))\n",
    "    print('ROI: ', roi)\n",
    "    print(pz_col_idxs[i])"
   ]
  },
  {
   "cell_type": "markdown",
   "metadata": {},
   "source": [
    "#### Choose colors for roi in EZ Predictions"
   ]
  },
  {
   "cell_type": "code",
   "execution_count": null,
   "metadata": {},
   "outputs": [],
   "source": [
    "ez_clrs[roi_lbls[23]] = cmap_tab10[6]"
   ]
  },
  {
   "cell_type": "code",
   "execution_count": null,
   "metadata": {},
   "outputs": [],
   "source": [
    "slc_idx = [150]\n",
    "fig, axs = plt.subplots(nrows=1, ncols=len(slc_idx), figsize=(20,20), squeeze=True)\n",
    "for i,slc_idx_ in enumerate(slc_idx):\n",
    "    t1_slc = t1_dat[slc_idx_, :, :]\n",
    "    lbl_slc = lbl_dat_t1fov[slc_idx_, :, :]\n",
    "    ol = np.zeros(lbl_slc.shape + (4,))\n",
    "    for roi in ez_pred:\n",
    "        ol[lbl_slc == roi] = ez_clrs[roi_lbls[roi]] + (1,)\n",
    "    axs.imshow(t1_slc, cmap='gray');\n",
    "    axs.imshow(ol)\n",
    "    axs.set_xticks([])\n",
    "    axs.set_yticks([])\n",
    "fig.savefig('/home/anirudh/hdisk/Academia/papers/vep_infer/figures/Retro/retro_engel3_ezpred.png')"
   ]
  },
  {
   "cell_type": "code",
   "execution_count": null,
   "metadata": {},
   "outputs": [],
   "source": [
    "map_estim = lib.io.stan.read_samples(['results/exp10/exp10.67/id028_ca/samples_CA_crise1P_091126B-BEX_0002_hpf10_lpf0.05_chain1.csv'])\n",
    "x = map_estim['x'][0]\n",
    "\n",
    "ez_all = np.unique(np.concatenate((ez_hyp, ez_pred)))\n",
    "pz_pred_2 = np.setdiff1d(pz_pred, ez_hyp) # removing roi's in ezhyp from pz_pred as they are already included in ez_all\n",
    "x_shfld = np.zeros((ez_all.size+pz_pred_2.size, x.shape[0]))\n",
    "ytick_lbls = []\n",
    "i = 0\n",
    "for roi in range(x.shape[1]):\n",
    "    if((roi in ez_all) or (roi in pz_pred_2)):\n",
    "        x_shfld[i, :] = x[:, roi]\n",
    "        ytick_lbls = ytick_lbls + [roi_lbls[roi]]\n",
    "        i += 1\n",
    "plt.figure(figsize=(15,4))\n",
    "plt.imshow(np.exp(x_shfld), cmap='hot', aspect='auto')\n",
    "plt.yticks(np.r_[0:x_shfld.shape[0]], ytick_lbls, fontsize=15)\n",
    "plt.xticks(fontsize=15)\n",
    "for roi in ez_all:\n",
    "    roi_tick_idx = ytick_lbls.index(roi_lbls[roi])\n",
    "    plt.gca().get_yticklabels()[roi_tick_idx].set_color(ez_clrs[roi_lbls[roi]])\n",
    "plt.xlabel('Time', fontsize=20)\n",
    "plt.ylabel('ROI', fontsize=20)\n",
    "plt.tight_layout()\n",
    "plt.savefig('/home/anirudh/hdisk/Academia/papers/vep_infer/figures/Retro/retro_engel3_src_x.png')"
   ]
  },
  {
   "cell_type": "code",
   "execution_count": null,
   "metadata": {},
   "outputs": [],
   "source": [
    "import lib.io.stan\n",
    "map_estim = lib.io.stan.read_samples(['results/exp10/exp10.67/id028_ca/samples_CA_crise1P_091126B-BEX_0002_hpf10_lpf0.05_chain1.csv'])\n",
    "x = map_estim['x'][0].T\n",
    "ez_hyp = np.nonzero(np.loadtxt('datasets/retro/id028_ca/tvb/ez_hypothesis.destrieux.txt'))[0]\n",
    "plt.figure(figsize=(25,5))\n",
    "for i, x_ in enumerate(x):\n",
    "    if(i in ez_hyp):\n",
    "        plt.plot(x_, 'r')\n",
    "    else:\n",
    "        plt.plot(x_, 'k')"
   ]
  },
  {
   "cell_type": "markdown",
   "metadata": {},
   "source": [
    "## Confusion Matrix - Engel I"
   ]
  },
  {
   "cell_type": "code",
   "execution_count": 1,
   "metadata": {},
   "outputs": [],
   "source": [
    "%matplotlib inline\n",
    "import numpy as np\n",
    "import pandas as pd\n",
    "import lib.plots.stan\n",
    "import lib.utils.stan\n",
    "import os\n",
    "import glob\n",
    "import matplotlib.pyplot as plt\n",
    "import itertools"
   ]
  },
  {
   "cell_type": "code",
   "execution_count": 2,
   "metadata": {},
   "outputs": [],
   "source": [
    "patient_ids = dict()\n",
    "patient_ids['engel1'] = ['id003_mg','id004_bj','id010_cmn','id013_lk','id014_vc','id017_mk','id020_lma','id022_te','id025_mc','id027_sj','id030_bf','id039_mra','id050_sx']"
   ]
  },
  {
   "cell_type": "code",
   "execution_count": 3,
   "metadata": {},
   "outputs": [],
   "source": [
    "roi_class_gt = []\n",
    "roi_class_pred = []\n",
    "for pat_id in patient_ids['engel1']:\n",
    "    ez_hyp = np.loadtxt(os.path.join(f'datasets/retro/{pat_id}/tvb/ez_hypothesis.destrieux.txt'))\n",
    "    roi_class_gt += list(ez_hyp)\n",
    "    ez_pred, pz_pred = lib.utils.stan.find_ez(0, 10, glob.glob(f'results/exp10/retro_results/{pat_id}/*chain1.csv'))\n",
    "    pred_class = ez_pred.copy()\n",
    "    pred_class[pz_pred.nonzero()] = 2\n",
    "    roi_class_pred += list(pred_class)"
   ]
  },
  {
   "cell_type": "code",
   "execution_count": 4,
   "metadata": {},
   "outputs": [],
   "source": [
    "roi_class_gt = pd.Series(roi_class_gt, name='Hypothesis')\n",
    "roi_class_pred = pd.Series(roi_class_pred, name='Prediction')\n",
    "conf_mat = pd.crosstab(roi_class_gt, roi_class_pred).values\n",
    "conf_mat_norm = conf_mat / conf_mat.sum(axis=1)[:, np.newaxis]"
   ]
  },
  {
   "cell_type": "code",
   "execution_count": 5,
   "metadata": {},
   "outputs": [
    {
     "data": {
      "image/png": "[encoded data removed]",
      "text/plain": [
       "<Figure size 432x288 with 2 Axes>"
      ]
     },
     "metadata": {
      "needs_background": "light"
     },
     "output_type": "display_data"
    }
   ],
   "source": [
    "fig = plt.figure()\n",
    "ax = fig.add_subplot()\n",
    "img = ax.matshow(conf_mat_norm, cmap=plt.get_cmap('Greys'))\n",
    "plt.colorbar(img, ax = ax, fraction=0.03)\n",
    "ax.xaxis.set_label_position('top')\n",
    "ax.xaxis.tick_top()\n",
    "ax.tick_params(labelsize=12)\n",
    "ax.set_xticks([0,1,2])\n",
    "ax.set_xticklabels(['NSZ', 'EZ', 'PZ'])\n",
    "ax.set_yticks([0,1])\n",
    "ax.set_yticklabels(['NEZ', 'EZ'])\n",
    "ax.set_ylabel('Hypothesis', fontsize=15)\n",
    "ax.set_xlabel('Prediction', fontsize=15)\n",
    "\n",
    "for i in range(conf_mat_norm.shape[0]):\n",
    "    for j in range(conf_mat_norm.shape[1]):\n",
    "                ax.text(j, i+0.1, str(round(conf_mat_norm[i, j], 3))+f'\\n({str(conf_mat[i,j])})',\n",
    "                color='darkcyan', fontsize=15, horizontalalignment='center')\n",
    "\n",
    "fig.savefig('/home/anirudh/hdisk/Academia/papers/vep_infer/figures/Retro/conf_mat_engel1.svg')"
   ]
  },
  {
   "cell_type": "markdown",
   "metadata": {},
   "source": [
    "## Confusion matrix -  Engel II"
   ]
  },
  {
   "cell_type": "code",
   "execution_count": 1,
   "metadata": {},
   "outputs": [],
   "source": [
    "%matplotlib inline\n",
    "import numpy as np\n",
    "import pandas as pd\n",
    "import lib.plots.stan\n",
    "import lib.utils.stan\n",
    "import os\n",
    "import glob\n",
    "import matplotlib.pyplot as plt\n",
    "import itertools"
   ]
  },
  {
   "cell_type": "code",
   "execution_count": 2,
   "metadata": {},
   "outputs": [],
   "source": [
    "patient_ids = dict()\n",
    "patient_ids['engel2'] = ['id001_bt','id021_jc','id040_ms']"
   ]
  },
  {
   "cell_type": "code",
   "execution_count": 3,
   "metadata": {},
   "outputs": [],
   "source": [
    "roi_class_gt = []\n",
    "roi_class_pred = []\n",
    "for pat_id in patient_ids['engel2']:\n",
    "    ez_hyp = np.loadtxt(os.path.join(f'datasets/retro/{pat_id}/tvb/ez_hypothesis.destrieux.txt'))\n",
    "    roi_class_gt += list(ez_hyp)\n",
    "    ez_pred, pz_pred = lib.utils.stan.find_ez(0, 10, glob.glob(f'results/exp10/retro_results/{pat_id}/*chain1.csv'))\n",
    "    pred_class = ez_pred.copy()\n",
    "    pred_class[pz_pred.nonzero()] = 2\n",
    "    roi_class_pred += list(pred_class)"
   ]
  },
  {
   "cell_type": "code",
   "execution_count": 4,
   "metadata": {},
   "outputs": [],
   "source": [
    "roi_class_gt = pd.Series(roi_class_gt, name='Hypothesis')\n",
    "roi_class_pred = pd.Series(roi_class_pred, name='Prediction')\n",
    "conf_mat = pd.crosstab(roi_class_gt, roi_class_pred).values\n",
    "conf_mat_norm = conf_mat / conf_mat.sum(axis=1)[:, np.newaxis]"
   ]
  },
  {
   "cell_type": "code",
   "execution_count": 5,
   "metadata": {},
   "outputs": [
    {
     "data": {
      "image/png": "[encoded data removed]",
      "text/plain": [
       "<Figure size 432x288 with 2 Axes>"
      ]
     },
     "metadata": {
      "needs_background": "light"
     },
     "output_type": "display_data"
    }
   ],
   "source": [
    "fig = plt.figure()\n",
    "ax = fig.add_subplot()\n",
    "img = ax.matshow(conf_mat_norm, cmap=plt.get_cmap('Greys'))\n",
    "plt.colorbar(img, ax = ax, fraction=0.03)\n",
    "ax.xaxis.set_label_position('top')\n",
    "ax.xaxis.tick_top()\n",
    "ax.tick_params(labelsize=12)\n",
    "ax.set_xticks([0,1,2])\n",
    "ax.set_xticklabels(['NSZ', 'EZ', 'PZ'])\n",
    "ax.set_yticks([0,1])\n",
    "ax.set_yticklabels(['NEZ', 'EZ'])\n",
    "ax.set_ylabel('Hypothesis', fontsize=15)\n",
    "ax.set_xlabel('Prediction', fontsize=15)\n",
    "\n",
    "for i in range(conf_mat_norm.shape[0]):\n",
    "    for j in range(conf_mat_norm.shape[1]):\n",
    "        ax.text(j, i+0.1, str(round(conf_mat_norm[i, j], 3))+f'\\n({str(conf_mat[i,j])})',\n",
    "                color='darkcyan', fontsize=15, horizontalalignment='center')\n",
    "\n",
    "\n",
    "fig.savefig('/home/anirudh/hdisk/Academia/papers/vep_infer/figures/Retro/conf_mat_engel2.svg')"
   ]
  },
  {
   "cell_type": "markdown",
   "metadata": {},
   "source": [
    "## Confusion matrix -  Engel III/IV"
   ]
  },
  {
   "cell_type": "code",
   "execution_count": 1,
   "metadata": {},
   "outputs": [],
   "source": [
    "%matplotlib inline\n",
    "import numpy as np\n",
    "import pandas as pd\n",
    "import lib.plots.stan\n",
    "import lib.utils.stan\n",
    "import os\n",
    "import glob\n",
    "import matplotlib.pyplot as plt\n",
    "import itertools"
   ]
  },
  {
   "cell_type": "code",
   "execution_count": 2,
   "metadata": {},
   "outputs": [],
   "source": [
    "patient_ids = dict()\n",
    "patient_ids['engel3'] = ['id007_rd','id008_dmc','id023_br','id028_ca', 'id037_cg']\n",
    "patient_ids['engel4'] = ['id033_fc','id036_dm']\n",
    "patient_ids['engel3or4'] = patient_ids['engel3'] + patient_ids['engel4']"
   ]
  },
  {
   "cell_type": "code",
   "execution_count": 3,
   "metadata": {},
   "outputs": [],
   "source": [
    "roi_class_gt = []\n",
    "roi_class_pred = []\n",
    "for pat_id in patient_ids['engel3or4']:\n",
    "    ez_hyp = np.loadtxt(os.path.join(f'datasets/retro/{pat_id}/tvb/ez_hypothesis.destrieux.txt'))\n",
    "    roi_class_gt += list(ez_hyp)\n",
    "    ez_pred, pz_pred = lib.utils.stan.find_ez(0, 15, glob.glob(f'results/exp10/retro_results/{pat_id}/*chain1.csv'))\n",
    "    pred_class = ez_pred.copy()\n",
    "    pred_class[pz_pred.nonzero()] = 2\n",
    "    roi_class_pred += list(pred_class)"
   ]
  },
  {
   "cell_type": "code",
   "execution_count": 4,
   "metadata": {},
   "outputs": [],
   "source": [
    "roi_class_gt = pd.Series(roi_class_gt, name='Hypothesis')\n",
    "roi_class_pred = pd.Series(roi_class_pred, name='Prediction')\n",
    "conf_mat = pd.crosstab(roi_class_gt, roi_class_pred).values\n",
    "conf_mat_norm = conf_mat / conf_mat.sum(axis=1)[:, np.newaxis]"
   ]
  },
  {
   "cell_type": "code",
   "execution_count": 5,
   "metadata": {},
   "outputs": [
    {
     "data": {
      "image/png": "[encoded data removed]",
      "text/plain": [
       "<Figure size 432x288 with 2 Axes>"
      ]
     },
     "metadata": {
      "needs_background": "light"
     },
     "output_type": "display_data"
    }
   ],
   "source": [
    "fig = plt.figure()\n",
    "ax = fig.add_subplot()\n",
    "img = ax.matshow(conf_mat_norm, cmap=plt.get_cmap('Greys'))\n",
    "plt.colorbar(img, ax = ax, fraction=0.03)\n",
    "ax.xaxis.set_label_position('top')\n",
    "ax.xaxis.tick_top()\n",
    "ax.tick_params(labelsize=12)\n",
    "ax.set_xticks([0,1,2])\n",
    "ax.set_xticklabels(['NSZ', 'EZ', 'PZ'])\n",
    "ax.set_yticks([0,1])\n",
    "ax.set_yticklabels(['NEZ', 'EZ'])\n",
    "ax.set_ylabel('Hypothesis', fontsize=15)\n",
    "ax.set_xlabel('Prediction', fontsize=15)\n",
    "\n",
    "for i in range(conf_mat_norm.shape[0]):\n",
    "    for j in range(conf_mat_norm.shape[1]):\n",
    "        ax.text(j, i+0.1, str(round(conf_mat_norm[i, j], 3))+f'\\n({str(conf_mat[i,j])})',\n",
    "                color='darkcyan', fontsize=15, horizontalalignment='center')\n",
    "\n",
    "fig.savefig('/home/anirudh/hdisk/Academia/papers/vep_infer/figures/Retro/conf_mat_engel3or4.svg')"
   ]
  }
 ],
 "metadata": {
  "kernelspec": {
   "display_name": "Python 3.6",
   "language": "python",
   "name": "python3.7"
  },
  "language_info": {
   "codemirror_mode": {
    "name": "ipython",
    "version": 3
   },
   "file_extension": ".py",
   "mimetype": "text/x-python",
   "name": "python",
   "nbconvert_exporter": "python",
   "pygments_lexer": "ipython3",
   "version": "3.6.10-final"
  }
 },
 "nbformat": 4,
 "nbformat_minor": 4
}