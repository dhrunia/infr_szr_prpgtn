{
 "cells": [
  {
   "cell_type": "code",
   "execution_count": null,
   "metadata": {},
   "outputs": [],
   "source": [
    "import numpy as np\n",
    "import lib.io.stan\n",
    "import lib.plots.stan\n",
    "%matplotlib inline\n",
    "import matplotlib.pyplot as plt\n",
    "from matplotlib import colors,cm\n",
    "from matplotlib.lines import Line2D\n",
    "import random\n",
    "import scipy.signal as signal"
   ]
  },
  {
   "cell_type": "code",
   "execution_count": null,
   "metadata": {},
   "outputs": [],
   "source": [
    "res_root_dir = '/home/anirudh/hdisk/Academia/papers/VEP_infer'"
   ]
  },
  {
   "cell_type": "markdown",
   "metadata": {},
   "source": [
    "# Patient CJ"
   ]
  },
  {
   "cell_type": "code",
   "execution_count": null,
   "metadata": {},
   "outputs": [],
   "source": [
    "cj_ntwrk = np.load('datasets/id002_cj/CJ_network.npz')\n",
    "cj_sim_data = np.load('datasets/id002_cj/CJ_syn_tvb_ez=6-34_pz=27-5-11.npz')"
   ]
  },
  {
   "cell_type": "markdown",
   "metadata": {},
   "source": [
    "#### Structural Connectivity"
   ]
  },
  {
   "cell_type": "code",
   "execution_count": null,
   "metadata": {},
   "outputs": [],
   "source": [
    "plt.figure(figsize=(10,10))\n",
    "num_nodes = cj_ntwrk['SC'].shape[0]\n",
    "log_norm = colors.LogNorm(vmin=1e-7, vmax=cj_ntwrk['SC'].max())\n",
    "plt.imshow(cj_ntwrk['SC'], norm=log_norm, cmap=cm.hot)\n",
    "xticks = np.append(np.array([0]),np.r_[9:num_nodes:10])\n",
    "yticks = np.append(np.array([0]),np.r_[9:num_nodes:10])\n",
    "plt.xticks(xticks, xticks+1, fontsize=15)\n",
    "plt.yticks(yticks, yticks+1, fontsize=15)\n",
    "plt.xlabel('Node',fontsize=20)\n",
    "plt.ylabel('Node',fontsize=20)\n",
    "cb = plt.colorbar(fraction=0.035)\n",
    "cb.ax.set_yticklabels(cb.ax.get_yticklabels(),fontsize=15);\n",
    "plt.savefig(f'{res_root_dir}/figures/CJ/SC.png')\n"
   ]
  },
  {
   "cell_type": "markdown",
   "metadata": {},
   "source": [
    "#### Gain Matrix"
   ]
  },
  {
   "cell_type": "code",
   "execution_count": null,
   "metadata": {},
   "outputs": [],
   "source": [
    "plt.figure(figsize=(6,10))\n",
    "num_sensors, num_nodes = cj_ntwrk['gain_mat'].shape\n",
    "log_norm = colors.LogNorm(vmin=cj_ntwrk['gain_mat'].min(), vmax=cj_ntwrk['gain_mat'].max())\n",
    "plt.imshow(cj_ntwrk['gain_mat'], norm=log_norm, cmap=cm.hot)\n",
    "xticks = np.append(np.array([0]),np.r_[9:num_nodes:10])\n",
    "yticks = np.append(np.array([0]),np.r_[9:num_sensors:10])\n",
    "plt.xticks(xticks, xticks+1, fontsize=15)\n",
    "plt.yticks(yticks, yticks+1, fontsize=15)\n",
    "plt.xlabel('Node',fontsize=20)\n",
    "plt.ylabel('Sensor',fontsize=20)\n",
    "cb = plt.colorbar(fraction=0.045)\n",
    "cb.ax.set_yticklabels(cb.ax.get_yticklabels(),fontsize=15);\n",
    "plt.savefig(f'{res_root_dir}/figures/CJ/Gain_matrix.png')"
   ]
  },
  {
   "cell_type": "code",
   "execution_count": null,
   "metadata": {},
   "outputs": [],
   "source": [
    "print(cj_sim_data.keys())\n",
    "print(cj_sim_data['src_sig'].shape)"
   ]
  },
  {
   "cell_type": "markdown",
   "metadata": {},
   "source": [
    "#### Simulated Source activity"
   ]
  },
  {
   "cell_type": "code",
   "execution_count": null,
   "metadata": {},
   "outputs": [],
   "source": [
    "import numpy as np\n",
    "import lib.io.stan\n",
    "import lib.plots.stan\n",
    "%matplotlib inline\n",
    "import matplotlib.pyplot as plt\n",
    "from matplotlib import colors,cm\n",
    "from matplotlib.lines import Line2D\n",
    "import random\n",
    "import scipy.signal as signal"
   ]
  },
  {
   "cell_type": "code",
   "execution_count": null,
   "metadata": {},
   "outputs": [],
   "source": [
    "# res_root_dir = '/home/anirudh/hdisk/Academia/papers/VEP_infer'\n",
    "ez = cj_sim_data['ez']\n",
    "pz = np.concatenate((cj_sim_data['pz_x0'], cj_sim_data['pz_kplng']))\n",
    "start_idx = 2500\n",
    "end_idx = 3800\n",
    "src_sig = cj_sim_data['src_sig'][start_idx:end_idx,0,:,0] + cj_sim_data['src_sig'][start_idx:end_idx,3,:,0]\n",
    "n_areas = src_sig.shape[1]\n",
    "\n",
    "fig = plt.figure(figsize=(25,5))\n",
    "\n",
    "ax = plt.subplot()\n",
    "yticks = []\n",
    "yticks_labels = []\n",
    "for i in range(n_areas):\n",
    "    if(i in ez):\n",
    "        t = src_sig[:,i]+7*(np.where(ez == i)[0] + 1)\n",
    "        plt.plot(t, alpha=0.5, color='xkcd:red');\n",
    "        yticks.append(t.mean(axis=0))\n",
    "        yticks_labels.append(f'Node {i+1}(EZ)')\n",
    "    elif(i in pz):\n",
    "        t = src_sig[:,i]+7*(np.where(pz == i)[0] + 3)\n",
    "        plt.plot(t, alpha=0.5, color='xkcd:rust');\n",
    "        yticks.append(t.mean(axis=0))\n",
    "        yticks_labels.append(f'Node {i+1}(PZ)')\n",
    "    else:\n",
    "        plt.plot(src_sig[:,i]+5, alpha=0.5, color='black');\n",
    "#         yticks.append(src_sig[:,i].mean(axis=0) +5)\n",
    "plt.xlabel('Time', fontsize=20)\n",
    "plt.ylabel(r'Source Activity', fontsize=20);\n",
    "# plt.xticks(ax.get_xticks()[1:-1], map(lambda x: str(int(x)), ax.get_xticks()[1:-1]), fontsize=15);\n",
    "# ax.get_yaxis().set_visible(False)\n",
    "ax.spines['top'].set_visible(False)\n",
    "ax.spines['right'].set_visible(False)\n",
    "ax.spines['left'].set_visible(False)\n",
    "ax.spines['bottom'].set_visible(False)\n",
    "plt.yticks(yticks,yticks_labels);\n",
    "# legend_elements = [Line2D([0], [0], color='xkcd:red', alpha=0.5, linewidth=4, label='EZ'),\n",
    "#                    Line2D([0], [0], color='xkcd:rust', alpha=0.5, linewidth=4, label='PZ'),\n",
    "#                    Line2D([0], [0], color='black', alpha=0.5, linewidth=4, label='Non-seizing'),]\n",
    "# plt.legend(handles=legend_elements)\n",
    "# plt.savefig(f'{res_root_dir}/figures/CJ/source_activity.png')\n",
    "\n"
   ]
  },
  {
   "cell_type": "markdown",
   "metadata": {},
   "source": [
    "#### Simulated SEEG"
   ]
  },
  {
   "cell_type": "code",
   "execution_count": null,
   "metadata": {},
   "outputs": [],
   "source": [
    "random.seed(100)\n",
    "fig = plt.figure(figsize=(25,5))\n",
    "ax = plt.subplot()\n",
    "start_idx = 2500\n",
    "end_idx = 3800\n",
    "seeg_raw = cj_sim_data['seeg'][:,start_idx:end_idx]\n",
    "chnl_names = []\n",
    "with open('datasets/id002_cj/seeg.xyz') as fd:\n",
    "    for line in fd.readlines():\n",
    "        chnl_names.append(line.strip().split()[0])\n",
    "rndm_chsn_chnls = random.sample(range(0,seeg.shape[0]),5)\n",
    "seeg_raw = seeg_raw[rndm_chsn_chnls, :]\n",
    "nyq = 1000 / 2.0\n",
    "# High pass filter the data\n",
    "b, a = signal.butter(5, 10.0 / nyq, 'high')\n",
    "seeg_hpfilt = signal.filtfilt(b, a, seeg_raw)\n",
    "t = seeg_hpfilt.T + 60*np.r_[0:len(rndm_chsn_chnls)]\n",
    "yticks = t.mean(axis=0)\n",
    "yticks_labels = [chnl_names[idx] for idx in rndm_chsn_chnls]\n",
    "plt.plot(t, color='black');\n",
    "plt.xlabel('Time', fontsize=20)\n",
    "plt.ylabel('SEEG', fontsize=20)\n",
    "ax.spines['top'].set_visible(False)\n",
    "ax.spines['right'].set_visible(False)\n",
    "ax.spines['left'].set_visible(False)\n",
    "ax.spines['bottom'].set_visible(False)\n",
    "plt.yticks(yticks, yticks_labels, fontsize=12);\n",
    "plt.xticks(fontsize=12);\n",
    "plt.savefig(f'{res_root_dir}/figures/CJ/seeg.png')"
   ]
  },
  {
   "cell_type": "markdown",
   "metadata": {},
   "source": [
    "#### Sensors"
   ]
  },
  {
   "cell_type": "code",
   "execution_count": 13,
   "metadata": {},
   "outputs": [],
   "source": [
    "import tvbpipeline.util.plot\n",
    "import numpy as np\n",
    "import os\n",
    "import importlib"
   ]
  },
  {
   "cell_type": "code",
   "execution_count": 16,
   "metadata": {},
   "outputs": [
    {
     "name": "stderr",
     "output_type": "stream",
     "text": [
      "/home/anirudh/hdisk/Academia/projects/vep.stan/tvbpipeline/util/elecs.py:10: VisibleDeprecationWarning: Reading unicode strings without specifying the encoding argument is deprecated. Set the encoding, use None for the system default.\n",
      "  data = np.genfromtxt(fl, dtype=None)\n"
     ]
    },
    {
     "data": {
      "image/png": "[encoded data removed]",
      "text/plain": [
       "<Figure size 720x720 with 1 Axes>"
      ]
     },
     "metadata": {
      "needs_background": "light"
     },
     "output_type": "display_data"
    }
   ],
   "source": [
    "res_root_dir = 'results/tmp'\n",
    "cj_sim_data = np.load('datasets/syn_data/id002_cj/CJ_syn_tvb_ez=6-34_pz=27-5-11.npz')\n",
    "ez = cj_sim_data['ez']\n",
    "pz = np.concatenate((cj_sim_data['pz_x0'], cj_sim_data['pz_kplng']))\n",
    "tvbpipeline.util.plot.seeg_elecs('datasets/syn_data/id002_cj/connectivity.zip', 'datasets/syn_data/id002_cj/seeg.xyz', ez, pz, f'{res_root_dir}/figures/electrodes.png')"
   ]
  },
  {
   "cell_type": "markdown",
   "metadata": {},
   "source": [
    "#### Onsets"
   ]
  },
  {
   "cell_type": "code",
   "execution_count": 1,
   "metadata": {},
   "outputs": [],
   "source": [
    "import numpy as np\n",
    "import lib.io.stan\n",
    "import lib.plots.stan\n",
    "%matplotlib inline\n",
    "import matplotlib.pyplot as plt\n",
    "from matplotlib import colors,cm\n",
    "from matplotlib.lines import Line2D\n",
    "import random\n",
    "import scipy.signal as signal"
   ]
  },
  {
   "cell_type": "code",
   "execution_count": 2,
   "metadata": {},
   "outputs": [],
   "source": [
    "res_root_dir = '/home/anirudh/hdisk/Academia/papers/VEP_infer'\n",
    "sim_data = np.load('datasets/syn_data/id002_cj/CJ_syn_tvb_ez=6-34_pz=27-5-11.npz')\n",
    "start_idx = 2500\n",
    "end_idx = 3800\n",
    "sim_src_sig = sim_data['src_sig'][start_idx:end_idx,0,:,0] + sim_data['src_sig'][start_idx:end_idx,3,:,0]\n",
    "ds_freq = 10\n",
    "sim_src_sig_ds = sim_src_sig[0:-1:ds_freq,:]\n",
    "optima = lib.io.stan.read_samples(['results/exp10/exp10.57.20/samples_syn_cj_optim_chain1.csv'])\n",
    "fit_src_sig = optima['x'][0]"
   ]
  },
  {
   "cell_type": "code",
   "execution_count": 3,
   "metadata": {},
   "outputs": [],
   "source": [
    "onsets = sim_src_sig_ds.shape[0]*np.zeros(sim_src_sig_ds.shape[1])\n",
    "for i, sig in enumerate(sim_src_sig_ds.T):\n",
    "    sig_cond = sig > -1\n",
    "    if sig_cond.any():\n",
    "        onsets[i] = np.min(np.nonzero(sig_cond))"
   ]
  },
  {
   "cell_type": "code",
   "execution_count": 4,
   "metadata": {},
   "outputs": [
    {
     "data": {
      "image/png": "[encoded data removed]",
      "text/plain": [
       "<Figure size 360x360 with 1 Axes>"
      ]
     },
     "metadata": {
      "needs_background": "light"
     },
     "output_type": "display_data"
    }
   ],
   "source": [
    "plt.figure(figsize=(5,5))\n",
    "# plt.bar(np.r_[1:onsets.shape[0]+1], onsets)\n",
    "# plt.xticks(np.r_[1:onsets.shape[0]+1:2]);\n",
    "plt.hist(onsets[np.nonzero(onsets > 0)]);"
   ]
  },
  {
   "cell_type": "code",
   "execution_count": 5,
   "metadata": {},
   "outputs": [],
   "source": [
    "onsets = np.zeros(fit_src_sig.shape[1])\n",
    "for i, sig in enumerate(fit_src_sig.T):\n",
    "    sig_cond = sig > 0\n",
    "    if sig_cond.any():\n",
    "        onsets[i] = np.min(np.nonzero(sig_cond))"
   ]
  },
  {
   "cell_type": "code",
   "execution_count": 12,
   "metadata": {},
   "outputs": [
    {
     "data": {
      "text/plain": [
       "(array([2., 0., 1., 0., 0., 0., 1., 0., 0., 1.]),\n",
       " array([30. , 34.1, 38.2, 42.3, 46.4, 50.5, 54.6, 58.7, 62.8, 66.9, 71. ]),\n",
       " <a list of 10 Patch objects>)"
      ]
     },
     "execution_count": 12,
     "metadata": {},
     "output_type": "execute_result"
    },
    {
     "data": {
      "image/png": "[encoded data removed]",
      "text/plain": [
       "<Figure size 1800x360 with 1 Axes>"
      ]
     },
     "metadata": {
      "needs_background": "light"
     },
     "output_type": "display_data"
    }
   ],
   "source": [
    "plt.figure(figsize=(25,5))\n",
    "# plt.bar(np.r_[1:onsets.shape[0]+1], onsets)\n",
    "plt.hist(onsets[np.nonzero(onsets > 0)])\n",
    "# plt.xticks(np.r_[1:onsets.shape[0]+1:2]);"
   ]
  },
  {
   "cell_type": "code",
   "execution_count": 11,
   "metadata": {},
   "outputs": [
    {
     "data": {
      "text/plain": [
       "[<matplotlib.lines.Line2D at 0x7f3a7202cc18>]"
      ]
     },
     "execution_count": 11,
     "metadata": {},
     "output_type": "execute_result"
    },
    {
     "data": {
      "image/png": "[encoded data removed]",
      "text/plain": [
       "<Figure size 432x288 with 1 Axes>"
      ]
     },
     "metadata": {
      "needs_background": "light"
     },
     "output_type": "display_data"
    }
   ],
   "source": [
    "plt.plot(fit_src_sig[:,5])"
   ]
  },
  {
   "cell_type": "code",
   "execution_count": null,
   "metadata": {},
   "outputs": [],
   "source": []
  },
  {
   "cell_type": "code",
   "execution_count": null,
   "metadata": {},
   "outputs": [],
   "source": [
    "plt.figure(figsize=(25,11))\n",
    "lib.plots.stan.plot_source(fit_src_sig, optima['z'][0], sim_data['ez'], np.concatenate((sim_data['pz_x0'], sim_data['pz_kplng'])))"
   ]
  }
 ],
 "metadata": {
  "kernelspec": {
   "display_name": "Python 3",
   "language": "python",
   "name": "python3"
  },
  "language_info": {
   "codemirror_mode": {
    "name": "ipython",
    "version": 3
   },
   "file_extension": ".py",
   "mimetype": "text/x-python",
   "name": "python",
   "nbconvert_exporter": "python",
   "pygments_lexer": "ipython3",
   "version": "3.6.8"
  }
 },
 "nbformat": 4,
 "nbformat_minor": 4
}
