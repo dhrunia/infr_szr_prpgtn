{
 "cells": [
  {
   "cell_type": "code",
   "execution_count": null,
   "metadata": {},
   "outputs": [],
   "source": [
    "import numpy as np\n",
    "import lib.io.stan\n",
    "import lib.plots.stan\n",
    "%matplotlib inline\n",
    "import matplotlib.pyplot as plt\n",
    "from matplotlib import colors,cm\n",
    "from matplotlib.lines import Line2D\n",
    "import random\n",
    "import scipy.signal as signal"
   ]
  },
  {
   "cell_type": "code",
   "execution_count": null,
   "metadata": {},
   "outputs": [],
   "source": [
    "res_root_dir = '/home/anirudh/hdisk/Academia/papers/VEP_infer'"
   ]
  },
  {
   "cell_type": "markdown",
   "metadata": {},
   "source": [
    "# Patient CJ"
   ]
  },
  {
   "cell_type": "code",
   "execution_count": null,
   "metadata": {},
   "outputs": [],
   "source": [
    "cj_ntwrk = np.load('datasets/id002_cj/CJ_network.npz')\n",
    "cj_sim_data = np.load('datasets/id002_cj/CJ_syn_tvb_ez=6-34_pz=27-5-11.npz')"
   ]
  },
  {
   "cell_type": "markdown",
   "metadata": {},
   "source": [
    "#### Structural Connectivity"
   ]
  },
  {
   "cell_type": "code",
   "execution_count": null,
   "metadata": {},
   "outputs": [],
   "source": [
    "plt.figure(figsize=(10,10))\n",
    "num_nodes = cj_ntwrk['SC'].shape[0]\n",
    "log_norm = colors.LogNorm(vmin=1e-7, vmax=cj_ntwrk['SC'].max())\n",
    "plt.imshow(cj_ntwrk['SC'], norm=log_norm, cmap=cm.hot)\n",
    "xticks = np.append(np.array([0]),np.r_[9:num_nodes:10])\n",
    "yticks = np.append(np.array([0]),np.r_[9:num_nodes:10])\n",
    "plt.xticks(xticks, xticks+1, fontsize=15)\n",
    "plt.yticks(yticks, yticks+1, fontsize=15)\n",
    "plt.xlabel('Node',fontsize=20)\n",
    "plt.ylabel('Node',fontsize=20)\n",
    "cb = plt.colorbar(fraction=0.035)\n",
    "cb.ax.set_yticklabels(cb.ax.get_yticklabels(),fontsize=15);\n",
    "plt.savefig(f'{res_root_dir}/figures/CJ/SC.png')\n"
   ]
  },
  {
   "cell_type": "markdown",
   "metadata": {},
   "source": [
    "#### Gain Matrix"
   ]
  },
  {
   "cell_type": "code",
   "execution_count": null,
   "metadata": {},
   "outputs": [],
   "source": [
    "plt.figure(figsize=(6,10))\n",
    "num_sensors, num_nodes = cj_ntwrk['gain_mat'].shape\n",
    "log_norm = colors.LogNorm(vmin=cj_ntwrk['gain_mat'].min(), vmax=cj_ntwrk['gain_mat'].max())\n",
    "plt.imshow(cj_ntwrk['gain_mat'], norm=log_norm, cmap=cm.hot)\n",
    "xticks = np.append(np.array([0]),np.r_[9:num_nodes:10])\n",
    "yticks = np.append(np.array([0]),np.r_[9:num_sensors:10])\n",
    "plt.xticks(xticks, xticks+1, fontsize=15)\n",
    "plt.yticks(yticks, yticks+1, fontsize=15)\n",
    "plt.xlabel('Node',fontsize=20)\n",
    "plt.ylabel('Sensor',fontsize=20)\n",
    "cb = plt.colorbar(fraction=0.045)\n",
    "cb.ax.set_yticklabels(cb.ax.get_yticklabels(),fontsize=15);\n",
    "plt.savefig(f'{res_root_dir}/figures/CJ/Gain_matrix.png')"
   ]
  },
  {
   "cell_type": "code",
   "execution_count": null,
   "metadata": {},
   "outputs": [],
   "source": [
    "print(cj_sim_data.keys())\n",
    "print(cj_sim_data['src_sig'].shape)"
   ]
  },
  {
   "cell_type": "markdown",
   "metadata": {},
   "source": [
    "#### Simulated Source activity"
   ]
  },
  {
   "cell_type": "code",
   "execution_count": null,
   "metadata": {},
   "outputs": [],
   "source": [
    "import numpy as np\n",
    "import lib.io.stan\n",
    "import lib.plots.stan\n",
    "%matplotlib inline\n",
    "import matplotlib.pyplot as plt\n",
    "from matplotlib import colors,cm\n",
    "from matplotlib.lines import Line2D\n",
    "import random\n",
    "import scipy.signal as signal"
   ]
  },
  {
   "cell_type": "code",
   "execution_count": null,
   "metadata": {},
   "outputs": [],
   "source": [
    "# res_root_dir = '/home/anirudh/hdisk/Academia/papers/VEP_infer'\n",
    "ez = cj_sim_data['ez']\n",
    "pz = np.concatenate((cj_sim_data['pz_x0'], cj_sim_data['pz_kplng']))\n",
    "start_idx = 2500\n",
    "end_idx = 3800\n",
    "src_sig = cj_sim_data['src_sig'][start_idx:end_idx,0,:,0] + cj_sim_data['src_sig'][start_idx:end_idx,3,:,0]\n",
    "n_areas = src_sig.shape[1]\n",
    "\n",
    "fig = plt.figure(figsize=(25,5))\n",
    "\n",
    "ax = plt.subplot()\n",
    "yticks = []\n",
    "yticks_labels = []\n",
    "for i in range(n_areas):\n",
    "    if(i in ez):\n",
    "        t = src_sig[:,i]+7*(np.where(ez == i)[0] + 1)\n",
    "        plt.plot(t, alpha=0.5, color='xkcd:red');\n",
    "        yticks.append(t.mean(axis=0))\n",
    "        yticks_labels.append(f'Node {i+1}(EZ)')\n",
    "    elif(i in pz):\n",
    "        t = src_sig[:,i]+7*(np.where(pz == i)[0] + 3)\n",
    "        plt.plot(t, alpha=0.5, color='xkcd:rust');\n",
    "        yticks.append(t.mean(axis=0))\n",
    "        yticks_labels.append(f'Node {i+1}(PZ)')\n",
    "    else:\n",
    "        plt.plot(src_sig[:,i]+5, alpha=0.5, color='black');\n",
    "#         yticks.append(src_sig[:,i].mean(axis=0) +5)\n",
    "plt.xlabel('Time', fontsize=20)\n",
    "plt.ylabel(r'Source Activity', fontsize=20);\n",
    "# plt.xticks(ax.get_xticks()[1:-1], map(lambda x: str(int(x)), ax.get_xticks()[1:-1]), fontsize=15);\n",
    "# ax.get_yaxis().set_visible(False)\n",
    "ax.spines['top'].set_visible(False)\n",
    "ax.spines['right'].set_visible(False)\n",
    "ax.spines['left'].set_visible(False)\n",
    "ax.spines['bottom'].set_visible(False)\n",
    "plt.yticks(yticks,yticks_labels);\n",
    "# legend_elements = [Line2D([0], [0], color='xkcd:red', alpha=0.5, linewidth=4, label='EZ'),\n",
    "#                    Line2D([0], [0], color='xkcd:rust', alpha=0.5, linewidth=4, label='PZ'),\n",
    "#                    Line2D([0], [0], color='black', alpha=0.5, linewidth=4, label='Non-seizing'),]\n",
    "# plt.legend(handles=legend_elements)\n",
    "# plt.savefig(f'{res_root_dir}/figures/CJ/source_activity.png')\n",
    "\n"
   ]
  },
  {
   "cell_type": "markdown",
   "metadata": {},
   "source": [
    "#### Simulated SEEG"
   ]
  },
  {
   "cell_type": "code",
   "execution_count": null,
   "metadata": {},
   "outputs": [],
   "source": [
    "random.seed(100)\n",
    "fig = plt.figure(figsize=(25,5))\n",
    "ax = plt.subplot()\n",
    "start_idx = 2500\n",
    "end_idx = 3800\n",
    "seeg_raw = cj_sim_data['seeg'][:,start_idx:end_idx]\n",
    "chnl_names = []\n",
    "with open('datasets/id002_cj/seeg.xyz') as fd:\n",
    "    for line in fd.readlines():\n",
    "        chnl_names.append(line.strip().split()[0])\n",
    "rndm_chsn_chnls = random.sample(range(0,seeg.shape[0]),5)\n",
    "seeg_raw = seeg_raw[rndm_chsn_chnls, :]\n",
    "nyq = 1000 / 2.0\n",
    "# High pass filter the data\n",
    "b, a = signal.butter(5, 10.0 / nyq, 'high')\n",
    "seeg_hpfilt = signal.filtfilt(b, a, seeg_raw)\n",
    "t = seeg_hpfilt.T + 60*np.r_[0:len(rndm_chsn_chnls)]\n",
    "yticks = t.mean(axis=0)\n",
    "yticks_labels = [chnl_names[idx] for idx in rndm_chsn_chnls]\n",
    "plt.plot(t, color='black');\n",
    "plt.xlabel('Time', fontsize=20)\n",
    "plt.ylabel('SEEG', fontsize=20)\n",
    "ax.spines['top'].set_visible(False)\n",
    "ax.spines['right'].set_visible(False)\n",
    "ax.spines['left'].set_visible(False)\n",
    "ax.spines['bottom'].set_visible(False)\n",
    "plt.yticks(yticks, yticks_labels, fontsize=12);\n",
    "plt.xticks(fontsize=12);\n",
    "plt.savefig(f'{res_root_dir}/figures/CJ/seeg.png')"
   ]
  },
  {
   "cell_type": "markdown",
   "metadata": {},
   "source": [
    "#### Sensors"
   ]
  },
  {
   "cell_type": "code",
   "execution_count": null,
   "metadata": {},
   "outputs": [],
   "source": [
    "import tvbpipeline.util.plot\n",
    "import numpy as np\n",
    "import os\n",
    "import importlib"
   ]
  },
  {
   "cell_type": "code",
   "execution_count": null,
   "metadata": {},
   "outputs": [],
   "source": [
    "res_root_dir = 'results/tmp'\n",
    "cj_sim_data = np.load('datasets/syn_data/id002_cj/CJ_syn_tvb_ez=6-34_pz=27-5-11.npz')\n",
    "ez = cj_sim_data['ez']\n",
    "pz = np.concatenate((cj_sim_data['pz_x0'], cj_sim_data['pz_kplng']))\n",
    "tvbpipeline.util.plot.seeg_elecs('datasets/syn_data/id002_cj/connectivity.zip', 'datasets/syn_data/id002_cj/seeg.xyz', ez, pz, f'{res_root_dir}/figures/electrodes.png')"
   ]
  },
  {
   "cell_type": "markdown",
   "metadata": {},
   "source": [
    "#### Onsets"
   ]
  },
  {
   "cell_type": "code",
   "execution_count": null,
   "metadata": {},
   "outputs": [],
   "source": [
    "import numpy as np\n",
    "import lib.io.stan\n",
    "import lib.plots.stan\n",
    "%matplotlib inline\n",
    "import matplotlib.pyplot as plt\n",
    "from matplotlib import colors,cm\n",
    "from matplotlib.lines import Line2D\n",
    "import random\n",
    "import scipy.signal as signal"
   ]
  },
  {
   "cell_type": "code",
   "execution_count": null,
   "metadata": {},
   "outputs": [],
   "source": [
    "res_root_dir = '/home/anirudh/hdisk/Academia/papers/VEP_infer'\n",
    "sim_data = np.load('datasets/syn_data/id002_cj/CJ_syn_tvb_ez=6-34_pz=27-5-11.npz')\n",
    "start_idx = 2500\n",
    "end_idx = 3800\n",
    "sim_src_sig = sim_data['src_sig'][start_idx:end_idx,0,:,0] + sim_data['src_sig'][start_idx:end_idx,3,:,0]\n",
    "ds_freq = 10\n",
    "sim_src_sig_ds = sim_src_sig[0:-1:ds_freq,:]\n",
    "optima = lib.io.stan.read_samples(['results/exp10/exp10.57.20/samples_syn_cj_optim_chain1.csv'])\n",
    "fit_src_sig = optima['x'][0]"
   ]
  },
  {
   "cell_type": "code",
   "execution_count": null,
   "metadata": {},
   "outputs": [],
   "source": [
    "onsets = sim_src_sig_ds.shape[0]*np.zeros(sim_src_sig_ds.shape[1])\n",
    "for i, sig in enumerate(sim_src_sig_ds.T):\n",
    "    sig_cond = sig > -1\n",
    "    if sig_cond.any():\n",
    "        onsets[i] = np.min(np.nonzero(sig_cond))"
   ]
  },
  {
   "cell_type": "code",
   "execution_count": null,
   "metadata": {},
   "outputs": [],
   "source": [
    "plt.figure(figsize=(5,5))\n",
    "# plt.bar(np.r_[1:onsets.shape[0]+1], onsets)\n",
    "# plt.xticks(np.r_[1:onsets.shape[0]+1:2]);\n",
    "plt.hist(onsets[np.nonzero(onsets > 0)]);"
   ]
  },
  {
   "cell_type": "code",
   "execution_count": null,
   "metadata": {},
   "outputs": [],
   "source": [
    "onsets = np.zeros(fit_src_sig.shape[1])\n",
    "for i, sig in enumerate(fit_src_sig.T):\n",
    "    sig_cond = sig > 0\n",
    "    if sig_cond.any():\n",
    "        onsets[i] = np.min(np.nonzero(sig_cond))"
   ]
  },
  {
   "cell_type": "markdown",
   "metadata": {},
   "source": [
    "# Patient BT"
   ]
  },
  {
   "cell_type": "code",
   "execution_count": null,
   "metadata": {},
   "outputs": [],
   "source": [
    "import numpy as np\n",
    "import lib.io.stan\n",
    "import lib.io.tvb\n",
    "import lib.io.seeg\n",
    "import lib.plots.stan\n",
    "%matplotlib inline\n",
    "import matplotlib.pyplot as plt\n",
    "from matplotlib import colors,cm\n",
    "from matplotlib.lines import Line2D\n",
    "import random\n",
    "import scipy.signal as signal\n",
    "import os"
   ]
  },
  {
   "cell_type": "code",
   "execution_count": null,
   "metadata": {},
   "outputs": [],
   "source": [
    "ntwrk = np.load('datasets/syn_data/id001_bt/network.npz')\n",
    "sim_data = np.load('datasets/syn_data/id001_bt/syn_tvb_ez=48-79_pz=11-17-22-75.npz')\n",
    "figs_dir = '/home/anirudh/hdisk/Academia/papers/VEP_infer/figures/BT'\n",
    "os.makedirs(figs_dir, exist_ok=True)"
   ]
  },
  {
   "cell_type": "markdown",
   "metadata": {},
   "source": [
    "#### Structural Connectivity"
   ]
  },
  {
   "cell_type": "code",
   "execution_count": null,
   "metadata": {},
   "outputs": [],
   "source": [
    "plt.figure(figsize=(10,10))\n",
    "SC = ntwrk['SC']\n",
    "num_nodes = SC.shape[0]\n",
    "SC[SC<1e-10] = 1e-10\n",
    "log_norm = colors.LogNorm(vmin=1e-10, vmax=SC.max(), clip=True)\n",
    "plt.imshow(SC, norm=log_norm, cmap=cm.hot)\n",
    "xticks = np.append(np.array([0]),np.r_[9:num_nodes:10])\n",
    "yticks = np.append(np.array([0]),np.r_[9:num_nodes:10])\n",
    "plt.xticks(xticks, xticks+1, fontsize=15, rotation='vertical')\n",
    "plt.yticks(yticks, yticks+1, fontsize=15)\n",
    "plt.xlabel('Node',fontsize=20)\n",
    "plt.ylabel('Node',fontsize=20)\n",
    "cb = plt.colorbar(fraction=0.035)\n",
    "# cb.ax.set_yticklabels(cb.ax.get_yticklabels(),fontsize=15);\n",
    "plt.savefig(os.path.join(figs_dir, 'SC.png'))"
   ]
  },
  {
   "cell_type": "markdown",
   "metadata": {},
   "source": [
    "#### Gain Matrix"
   ]
  },
  {
   "cell_type": "code",
   "execution_count": null,
   "metadata": {},
   "outputs": [],
   "source": [
    "plt.figure(figsize=(10,10))\n",
    "gain_mat = ntwrk['gain_mat']\n",
    "num_sensors, num_nodes = gain_mat.shape\n",
    "log_norm = colors.LogNorm(vmin=gain_mat.min(), vmax=gain_mat.max())\n",
    "plt.imshow(gain_mat, norm=log_norm, cmap=cm.hot)\n",
    "xticks = np.append(np.array([0]),np.r_[9:num_nodes:10])\n",
    "yticks = np.append(np.array([0]),np.r_[9:num_sensors:10])\n",
    "plt.xticks(xticks, xticks+1, fontsize=15, rotation='vertical')\n",
    "plt.yticks(yticks, yticks+1, fontsize=15)\n",
    "plt.xlabel('Node',fontsize=20)\n",
    "plt.ylabel('Sensor',fontsize=20)\n",
    "cb = plt.colorbar(fraction=0.035)\n",
    "# cb.ax.set_yticklabels(cb.ax.get_yticklabels(),fontsize=15);\n",
    "plt.savefig(os.path.join(figs_dir, 'Gain_matrix.png'))"
   ]
  },
  {
   "cell_type": "markdown",
   "metadata": {},
   "source": [
    "#### Simulated Source activity"
   ]
  },
  {
   "cell_type": "code",
   "execution_count": null,
   "metadata": {},
   "outputs": [],
   "source": [
    "_, roi_names = lib.io.tvb.read_roi_cntrs('datasets/syn_data/id001_bt/connectivity.destrieux.zip')\n",
    "ez = sim_data['ez']\n",
    "pz = sim_data['pz']\n",
    "start_idx = 800\n",
    "end_idx = 2300\n",
    "x = sim_data['src_sig'][start_idx:end_idx,0,:,0] + sim_data['src_sig'][start_idx:end_idx,3,:,0]\n",
    "z = sim_data['src_sig'][start_idx:end_idx,2,:,0]\n",
    "n_areas = x.shape[1]\n",
    "fig = plt.figure(figsize=(25,5))\n",
    "\n",
    "ax = plt.subplot()\n",
    "yticks = []\n",
    "yticks_labels = []\n",
    "for i in range(n_areas):\n",
    "    if(i in ez):\n",
    "        t = x[:,i]+7*(np.where(ez == i)[0] + 1)\n",
    "        plt.plot(t, alpha=0.5, color='xkcd:red');\n",
    "        yticks.append(t.mean(axis=0))\n",
    "        yticks_labels.append(roi_names[i])\n",
    "    elif(i in pz):\n",
    "        t = x[:,i]+7*(np.where(pz == i)[0] + 3)\n",
    "        plt.plot(t, alpha=0.5, color='xkcd:rust');\n",
    "        yticks.append(t.mean(axis=0))\n",
    "        yticks_labels.append(roi_names[i])\n",
    "    else:\n",
    "        plt.plot(x[:,i]+5, alpha=0.5, color='black');\n",
    "#         yticks.append(src_sig[:,i].mean(axis=0) +5)\n",
    "plt.xlabel('Time', fontsize=20)\n",
    "# plt.ylabel(r'Source Activity', fontsize=20);\n",
    "# plt.xticks(ax.get_xticks()[1:-1], map(lambda x: str(int(x)), ax.get_xticks()[1:-1]), fontsize=15);\n",
    "# ax.get_yaxis().set_visible(False)\n",
    "ax.spines['top'].set_visible(False)\n",
    "ax.spines['right'].set_visible(False)\n",
    "ax.spines['left'].set_visible(False)\n",
    "ax.spines['bottom'].set_visible(False)\n",
    "plt.yticks(yticks,yticks_labels, fontsize=15);\n",
    "legend_elements = [Line2D([0], [0], color='xkcd:red', alpha=0.5, linewidth=4, label='EZ'),\n",
    "                   Line2D([0], [0], color='xkcd:rust', alpha=0.5, linewidth=4, label='PZ'),\n",
    "                   Line2D([0], [0], color='black', alpha=0.8, linewidth=4, label='Non-seizing'),]\n",
    "plt.legend(handles=legend_elements, fontsize=15, loc='upper right')\n",
    "plt.title('Simulated Data: Source Activity', fontsize=25)\n",
    "plt.savefig(os.path.join(figs_dir, 'source_activity.png'))"
   ]
  },
  {
   "cell_type": "markdown",
   "metadata": {},
   "source": [
    "#### Simulated SEEG"
   ]
  },
  {
   "cell_type": "code",
   "execution_count": null,
   "metadata": {},
   "outputs": [],
   "source": [
    "random.seed(34534)#35087873\n",
    "fig = plt.figure(figsize=(25,5))\n",
    "ax = plt.subplot()\n",
    "start_idx = 800\n",
    "end_idx = 2300\n",
    "seeg_raw = sim_data['seeg'][:,start_idx:end_idx]\n",
    "chnl_names = []\n",
    "with open('datasets/syn_data/id001_bt/seeg.xyz') as fd:\n",
    "    for line in fd.readlines():\n",
    "        chnl_names.append(line.strip().split()[0])\n",
    "rndm_chsn_chnls = random.sample(range(0,seeg_raw.shape[0]),5)\n",
    "seeg_raw = seeg_raw[rndm_chsn_chnls, :]\n",
    "nyq = 1000 / 2.0\n",
    "# High pass filter the data\n",
    "b, a = signal.butter(5, 10.0 / nyq, 'high')\n",
    "seeg_hpfilt = signal.filtfilt(b, a, seeg_raw)\n",
    "t = seeg_hpfilt.T + 25*np.r_[0:len(rndm_chsn_chnls)]\n",
    "yticks = t.mean(axis=0)\n",
    "yticks_labels = [chnl_names[idx] for idx in rndm_chsn_chnls]\n",
    "plt.plot(t, color='black');\n",
    "plt.xlabel('Time', fontsize=20)\n",
    "plt.ylabel('SEEG', fontsize=20)\n",
    "ax.spines['top'].set_visible(False)\n",
    "ax.spines['right'].set_visible(False)\n",
    "ax.spines['left'].set_visible(False)\n",
    "ax.spines['bottom'].set_visible(False)\n",
    "plt.yticks(yticks, yticks_labels, fontsize=12);\n",
    "plt.xticks(fontsize=12);\n",
    "plt.savefig(os.path.join(figs_dir, 'seeg.png'))"
   ]
  },
  {
   "cell_type": "markdown",
   "metadata": {},
   "source": [
    "#### Sensors"
   ]
  },
  {
   "cell_type": "code",
   "execution_count": 1,
   "metadata": {},
   "outputs": [],
   "source": [
    "from vtkplotter import *\n",
    "import numpy as np\n",
    "import os\n",
    "import zipfile"
   ]
  },
  {
   "cell_type": "code",
   "execution_count": null,
   "metadata": {},
   "outputs": [],
   "source": [
    "importlib.reload(tvbpipeline.util.plot)\n",
    "figs_dir = '/home/anirudh/hdisk/Academia/papers/VEP_infer/figures/BT'\n",
    "sim_data = np.load('datasets/syn_data/id001_bt/syn_tvb_ez=48-79_pz=11-17-22-75.npz')\n",
    "ez = sim_data['ez']\n",
    "pz = sim_data['pz']\n",
    "tvbpipeline.util.plot.seeg_elecs('datasets/syn_data/id001_bt/connectivity.destrieux.zip',\n",
    "                                 'datasets/syn_data/id001_bt/seeg.xyz', ez, pz,\n",
    "                                 os.path.join(figs_dir, 'electrodes_correct_implantation.png'))"
   ]
  },
  {
   "cell_type": "code",
   "execution_count": 2,
   "metadata": {},
   "outputs": [
    {
     "output_type": "error",
     "ename": "SyntaxError",
     "evalue": "invalid syntax (<ipython-input-2-4f5333ea0b6c>, line 48)",
     "traceback": [
      "\u001b[0;36m  File \u001b[0;32m\"<ipython-input-2-4f5333ea0b6c>\"\u001b[0;36m, line \u001b[0;32m48\u001b[0m\n\u001b[0;31m    rois = [] [ for pos_i in roi_xyz]\u001b[0m\n\u001b[0m                  ^\u001b[0m\n\u001b[0;31mSyntaxError\u001b[0m\u001b[0;31m:\u001b[0m invalid syntax\n"
     ]
    }
   ],
   "source": [
    "sim_data = np.load('datasets/syn_data/id001_bt/syn_tvb_ez=48-79_pz=11-17-22-75.npz')\n",
    "ez = sim_data['ez']\n",
    "pz = sim_data['pz']\n",
    "\n",
    "figs_dir = '/home/anirudh/Academia/papers/vep/ VEP_infer/figures/BT'\n",
    "\n",
    "# data_dir is path to a retrospective 1-processed folder\n",
    "data_dir = '/home/anirudh/Academia/projects/infer_szr_prpgtn/datasets/retro/id001_bt'\n",
    "\n",
    "# parcellation should match fit loaded below\n",
    "parc = 'destrieux'\n",
    "\n",
    "regmap_path = f'{data_dir}/tvb/surface_cort.zip'\n",
    "# need a cortices + subcortical surfaces\n",
    "def surfzip2mesh(path):\n",
    "    with zipfile.ZipFile(path) as zf:\n",
    "        with zf.open(\"vertices.txt\") as fd:\n",
    "            vtx = np.loadtxt(fd)\n",
    "        with zf.open(\"triangles.txt\") as fd:\n",
    "            tri = np.loadtxt(fd)\n",
    "    return Mesh([vtx, tri])\n",
    "\n",
    "subcort_path = f'{data_dir}/tvb/surface_subcort.zip'\n",
    "cort_path = f'{data_dir}/tvb/surface_cort.zip'\n",
    "regmap_path = f'{data_dir}/tvb/surface_cort.zip'\n",
    "\n",
    "try:\n",
    "    subcort_mesh = load('subcort.vtk').alpha(0.1)\n",
    "    cort_mesh = load('cort.vtk').alpha(0.05).c(\"w\")\n",
    "except:\n",
    "    print('rebuilding meshes')\n",
    "    subcort_mesh = surfzip2mesh(subcort_path).wireframe().decimate(0.1)\n",
    "    save(subcort_mesh, os.path.join(data_dir, 'tvb', 'subcort.vtk'))\n",
    "    cort_mesh = surfzip2mesh(cort_path).wireframe().decimate(0.1)\n",
    "    save(cort_mesh, os.path.join(data_dir, 'tvb', 'cort.vtk'))\n",
    "\n",
    "# # load fit model from Anirudh\n",
    "# fn = '/Volumes/crypt/id001_bt/vep/samples_BTcrise1appportable_0006_hpf10_lpf0.05_chain1.csv'\n",
    "# csv = parse_csv(fn)\n",
    "# x = csv['x'][0]\n",
    "# y = (x.T - x.min(axis=1)) / x.ptp(axis=1)\n",
    "\n",
    "# roi balls\n",
    "path = f'{data_dir}/tvb/connectivity.{parc}.zip'\n",
    "with zipfile.ZipFile(path) as zf:\n",
    "    with zf.open('centres.txt') as fd:\n",
    "        roi_xyz = np.loadtxt(fd, usecols=(1, 2, 3))\n",
    "for roi_idx, pos_i in enumerate(roi_xyz):\n",
    "    if roi_idx in ez:\n",
    "        rois.append(Spheres(pos_i, r=1, c='r', alpha=0.2))\n",
    "    elif roi_idx in pz:\n",
    "        rois.append(Spheres(pos_i, r=1, c='brown', alpha=0.2))\n",
    "    else:\n",
    "        rois.append(Spheres(pos_i, r=1, c='black', alpha=0.2))\n",
    "\n",
    "\n",
    "# seeg balls\n",
    "path = f'{data_dir}/elec/seeg.xyz'\n",
    "seeg_xyz = np.loadtxt(path, usecols=(1, 2, 3))\n",
    "seeg = Spheres(seeg_xyz, r=2, c='y', alpha=0.2)\n",
    "\n",
    "# top subplot\n",
    "vp_anat = show([subcort_mesh, cort_mesh, seeg] + rois)"
   ]
  },
  {
   "cell_type": "markdown",
   "metadata": {},
   "source": [
    "#### Phase space"
   ]
  },
  {
   "cell_type": "code",
   "execution_count": null,
   "metadata": {},
   "outputs": [],
   "source": [
    "import numpy as np\n",
    "import matplotlib.pyplot as plt\n",
    "import lib.io.stan\n",
    "import lib.io.tvb\n",
    "import os"
   ]
  },
  {
   "cell_type": "code",
   "execution_count": null,
   "metadata": {},
   "outputs": [],
   "source": [
    "figs_dir = '/home/anirudh/hdisk/Academia/papers/vep_infer/figures/BT'\n",
    "_, roi_names = lib.io.tvb.read_roi_cntrs('datasets/syn_data/id001_bt/connectivity.destrieux.zip')\n",
    "sim_data = np.load('datasets/syn_data/id001_bt/syn_tvb_ez=48-79_pz=11-17-22-75.npz')\n",
    "start_idx = 800\n",
    "end_idx = 2200\n",
    "sim_x = sim_data['src_sig'][start_idx:end_idx,0,:,0] + sim_data['src_sig'][start_idx:end_idx,3,:,0]\n",
    "sim_z = sim_data['src_sig'][start_idx:end_idx,2,:,0]\n",
    "map_est = lib.io.stan.read_samples(['results/exp10/exp10.69/samples_syn_optim_chain1.csv'])\n",
    "map_x = map_est['x'][0]\n",
    "map_z = map_est['z'][0]\n",
    "ez = sim_data['ez']\n",
    "pz = sim_data['pz']\n",
    "n_roi = sim_x.shape[1]\n",
    "hz = np.setdiff1d(np.arange(0, n_roi), np.concatenate((ez,pz)))"
   ]
  },
  {
   "cell_type": "code",
   "execution_count": null,
   "metadata": {},
   "outputs": [],
   "source": [
    "fig = plt.figure(figsize=(5,25))\n",
    "gs = fig.add_gridspec(1, ez.shape[0])\n",
    "ez_pz = np.concatenate((ez, pz))\n",
    "for i, roi in enumerate(ez_pz):\n",
    "    plt.subplot(ez_pz.shape[0]+1, 1, i+1)\n",
    "    plt.plot(sim_x[0:-1:5, roi], sim_z[0:-1:5, roi], color='black', alpha=0.3);\n",
    "    plt.plot(map_x[10:, roi], map_z[10:, roi], color='xkcd:red' if roi in ez else 'xkcd:rust')\n",
    "    plt.xlabel('x', fontweight='bold', fontsize=20)\n",
    "    plt.ylabel('z', fontweight='bold', fontsize=20)\n",
    "    plt.xticks(fontsize=15)\n",
    "    plt.yticks(fontsize=15)\n",
    "    plt.title(roi_names[roi], fontsize=15)\n",
    "plt.subplot(ez_pz.shape[0]+1, 1,  7)\n",
    "plt.plot(sim_x[0:-1:5, hz], sim_z[0:-1:5, hz], color='black', alpha=0.3);\n",
    "plt.plot(map_x[:, hz], map_z[:, hz], color='xkcd:black')\n",
    "plt.xlabel('x', fontweight='bold', fontsize=20)\n",
    "plt.ylabel('z', fontweight='bold', fontsize=20)\n",
    "plt.xticks(fontsize=15)\n",
    "plt.yticks(fontsize=15)\n",
    "plt.title('Healthy Nodes', fontsize=15)\n",
    "plt.tight_layout()\n",
    "plt.savefig(os.path.join(figs_dir, 'predicted_source_crct_implnt_phasespace.svg'))"
   ]
  },
  {
   "cell_type": "code",
   "execution_count": null,
   "metadata": {},
   "outputs": [],
   "source": [
    "fig = plt.figure(figsize=(15,25))\n",
    "gs = fig.add_gridspec(7,1)\n",
    "for i, roi in enumerate(np.concatenate((ez, pz))):\n",
    "    fig.add_subplot(gs[i, 0])\n",
    "    plt.plot(sim_x[0:-1:5, roi], 'black', alpha=0.3);\n",
    "    plt.plot(map_x[:, roi], color='xkcd:red' if roi in ez else 'xkcd:rust');\n",
    "    plt.ylim(-3, 1.5)\n",
    "    plt.title(roi_names[roi], fontsize=15)\n",
    "    \n",
    "# fig.add_subplot(gs[6,0])\n",
    "# plt.plot(sim_x[0:-1:5, hz], 'black', alpha=0.3);\n",
    "# plt.plot(map_x[:, hz], color='xkcd:black');\n",
    "# plt.title('Healthy Nodes', fontsize=15)\n",
    "# plt.ylim(-3.2, 1.5)\n",
    "plt.tight_layout()\n",
    "plt.savefig(os.path.join(figs_dir, 'predicted_source_crct_implnt_x.svg'))"
   ]
  },
  {
   "cell_type": "markdown",
   "metadata": {},
   "source": [
    "#### Onsets"
   ]
  },
  {
   "cell_type": "code",
   "execution_count": null,
   "metadata": {},
   "outputs": [],
   "source": [
    "import numpy as np\n",
    "import lib.io.stan\n",
    "import lib.plots.stan\n",
    "%matplotlib inline\n",
    "import matplotlib.pyplot as plt\n",
    "from matplotlib import colors,cm\n",
    "from matplotlib.lines import Line2D\n",
    "import random\n",
    "import scipy.signal as signal\n",
    "import os"
   ]
  },
  {
   "cell_type": "code",
   "execution_count": null,
   "metadata": {},
   "outputs": [],
   "source": [
    "figs_dir = '/home/anirudh/hdisk/Academia/papers/vep_infer/figures/BT'\n",
    "sim_data = np.load('datasets/syn_data/id001_bt/syn_tvb_ez=48-79_pz=11-17-22-75.npz')\n",
    "start_idx = 800\n",
    "end_idx = 2200\n",
    "sim_src_sig = sim_data['src_sig'][start_idx:end_idx,0,:,0] + sim_data['src_sig'][start_idx:end_idx,3,:,0]\n",
    "ds_freq = 5\n",
    "sim_src_sig_ds = sim_src_sig[0:-1:ds_freq,:]\n",
    "map_est = lib.io.stan.read_samples(['results/exp10/exp10.69/samples_syn_optim_chain1.csv'])\n",
    "map_src_sig = map_est['x'][0]"
   ]
  },
  {
   "cell_type": "code",
   "execution_count": null,
   "metadata": {},
   "outputs": [],
   "source": [
    "sim_onsets = sim_src_sig_ds.shape[0]*np.zeros(sim_src_sig_ds.shape[1])\n",
    "for i, sig in enumerate(sim_src_sig_ds.T):\n",
    "    sig_cond = sig > 0\n",
    "    if sig_cond.any():\n",
    "        sim_onsets[i] = np.min(np.nonzero(sig_cond))\n",
    "\n",
    "map_onsets = np.zeros(map_src_sig.shape[1])\n",
    "for i, sig in enumerate(map_src_sig.T):\n",
    "    sig_cond = sig > 0\n",
    "    if sig_cond.any():\n",
    "        map_onsets[i] = np.min(np.nonzero(sig_cond))"
   ]
  },
  {
   "cell_type": "code",
   "execution_count": null,
   "metadata": {},
   "outputs": [],
   "source": [
    "plt.figure(figsize=(8,5))\n",
    "# plt.bar(np.r_[1:onsets.shape[0]+1], onsets)\n",
    "# plt.xticks(np.r_[1:onsets.shape[0]+1:2]);\n",
    "plt.hist([sim_onsets[np.nonzero(sim_onsets > 0)],\n",
    "         map_onsets[np.nonzero(map_onsets > 0)]],\n",
    "         color=['black', 'xkcd:red'], alpha=0.5,\n",
    "         label=['Ground Truth', 'Inferred']);\n",
    "plt.xlabel('Time', fontsize=15);\n",
    "plt.xticks(fontsize=15)\n",
    "plt.yticks(ticks=[0,1,2], labels=[0,1,2], fontsize=15)\n",
    "plt.legend(fontsize=15)\n",
    "plt.savefig(os.path.join(figs_dir, 'onsets_crct_implnt.svg'))"
   ]
  },
  {
   "cell_type": "markdown",
   "metadata": {},
   "source": [
    "## Fit to observation"
   ]
  },
  {
   "cell_type": "code",
   "execution_count": null,
   "metadata": {},
   "outputs": [],
   "source": [
    "import numpy as np\n",
    "import matplotlib.pyplot as plt\n",
    "import lib.io.stan\n",
    "import lib.io.seeg\n",
    "import os"
   ]
  },
  {
   "cell_type": "code",
   "execution_count": null,
   "metadata": {},
   "outputs": [],
   "source": [
    "figs_dir = '/home/anirudh/hdisk/Academia/papers/vep_infer/figures/BT'\n",
    "\n",
    "map_estim = lib.io.stan.read_samples(['results/exp10/exp10.69/samples_syn_optim_chain1.csv'])\n",
    "slp_pred = map_estim['mu_slp'][0]\n",
    "snsr_pwr_pred = map_estim['mu_snsr_pwr'][0]\n",
    "\n",
    "obs_dat = lib.io.stan.rload('results/exp10/exp10.69/Rfiles/fit_data_snsrfit_ode_syn_optim.R')\n",
    "slp_obs = obs_dat['slp']\n",
    "snsr_pwr_obs = obs_dat['snsr_pwr']\n",
    "nt, ns = slp_pred.shape\n",
    "\n",
    "chnl_names = [el[0] for el in lib.io.seeg.read_contacts('datasets/syn_data/id001_bt/seeg.xyz', type='list')]"
   ]
  },
  {
   "cell_type": "code",
   "execution_count": null,
   "metadata": {},
   "outputs": [],
   "source": [
    "np.random.seed(100)\n",
    "chnls = np.random.randint(0, ns, 5)\n",
    "fig = plt.figure(figsize=(22,15))\n",
    "gs = fig.add_gridspec(5,4)\n",
    "for i, chnl in enumerate(chnls):\n",
    "    fig.add_subplot(gs[i, 0:3])\n",
    "    plt.plot(slp_obs[:, chnl], color='xkcd:black', alpha=0.3)\n",
    "    plt.plot(slp_pred[:, chnl], color='xkcd:red')\n",
    "    if(i == 0):\n",
    "        plt.title('SEEG Log. Power', fontsize=20)\n",
    "    plt.ylabel(chnl_names[chnl], fontsize=15)\n",
    "    plt.xticks(fontsize=15)\n",
    "    plt.yticks(fontsize=15)\n",
    "fig.add_subplot(gs[:,3])\n",
    "plt.barh(np.r_[1:ns+1], snsr_pwr_pred, color='xkcd:red', alpha=0.3)\n",
    "plt.barh(np.r_[1:ns+1], snsr_pwr_obs, color='xkcd:black', alpha=0.3)\n",
    "plt.title('Channel Power', fontsize=20)\n",
    "plt.ylabel('Channel', fontsize=15)\n",
    "plt.yticks(np.r_[1:ns+1:5], np.r_[1:ns+1:5]);\n",
    "plt.savefig(os.path.join(figs_dir, 'fit_to_observations.svg'))"
   ]
  },
  {
   "cell_type": "markdown",
   "metadata": {},
   "source": [
    "## Slice plots for Retrospective Engel score I"
   ]
  },
  {
   "cell_type": "code",
   "execution_count": null,
   "metadata": {},
   "outputs": [],
   "source": [
    "import nibabel\n",
    "import numpy as np\n",
    "import matplotlib.pyplot as plt\n",
    "import os\n",
    "import lib.utils.stan\n",
    "import lib.io.tvb\n",
    "import matplotlib.cm"
   ]
  },
  {
   "cell_type": "code",
   "execution_count": null,
   "metadata": {},
   "outputs": [],
   "source": [
    "root_dir = \"datasets/retro/id003_mg\"\n",
    "\n",
    "t1 = nibabel.load(os.path.join(root_dir, \"mri\", \"T1.mgz\"))\n",
    "t1_dat = t1.get_data()\n",
    "lbl = nibabel.load(os.path.join(root_dir, \"dwi\", \"label_in_T1.destrieux.nii.gz\"))\n",
    "lbl_dat = lbl.get_data()"
   ]
  },
  {
   "cell_type": "code",
   "execution_count": null,
   "metadata": {},
   "outputs": [],
   "source": [
    "print(t1.affine)\n",
    "print(lbl.affine)"
   ]
  },
  {
   "cell_type": "markdown",
   "metadata": {},
   "source": [
    "#### Convert Label data FOV into T1's FOV"
   ]
  },
  {
   "cell_type": "code",
   "execution_count": null,
   "metadata": {},
   "outputs": [],
   "source": [
    "vox2vox_trnsfrm = np.dot(np.linalg.inv(lbl.affine), t1.affine)\n",
    "lbl_dat_t1fov = np.zeros_like(lbl_dat)\n",
    "for c1 in range(t1_dat.shape[0]):\n",
    "    for r1 in range(t1_dat.shape[1]):\n",
    "        for s1 in range(t1_dat.shape[2]):\n",
    "            c2,r2,s2,_ = [int(np.rint(el)) for el in np.dot(vox2vox_trnsfrm, np.array([c1,r1,s1,1]))]\n",
    "            lbl_dat_t1fov[c1,r1,s1] = lbl_dat[c2-1,r2,s2-1]\n",
    "np.save(os.path.join(root_dir, \"dwi\", \"label_in_T1fov.destrieux.npy\"), lbl_dat_t1fov)"
   ]
  },
  {
   "cell_type": "code",
   "execution_count": null,
   "metadata": {},
   "outputs": [],
   "source": [
    "lbl_dat_t1fov = np.load(os.path.join(root_dir, \"dwi\", \"label_in_T1fov.destrieux.npy\"))"
   ]
  },
  {
   "cell_type": "markdown",
   "metadata": {},
   "source": [
    "#### Choose colors for EZ"
   ]
  },
  {
   "cell_type": "code",
   "execution_count": null,
   "metadata": {},
   "outputs": [],
   "source": [
    "ez_hyp = np.nonzero(np.loadtxt(os.path.join(root_dir, 'tvb', 'ez_hypothesis.destrieux.txt')))[0]\n",
    "ez_pred, pz_pred = lib.utils.stan.find_ez(0, 10, ['/home/anirudh/hdisk/Academia/projects/vep.stan/results/exp10/exp10.67/id003_mg/samples_MGcrise1_hpf10_lpf0.05_chain1.csv'])\n",
    "ez_pred = np.nonzero(ez_pred)[0]\n",
    "pz_pred = np.nonzero(pz_pred)[0]"
   ]
  },
  {
   "cell_type": "code",
   "execution_count": null,
   "metadata": {},
   "outputs": [],
   "source": [
    "roi_cntrs, roi_lbls = lib.io.tvb.read_roi_cntrs(os.path.join(root_dir, 'tvb', 'connectivity.destrieux.zip'))\n",
    "ez_all = np.unique(np.concatenate((ez_hyp, ez_pred)))\n",
    "cmap_tab10 = matplotlib.cm.get_cmap('tab10').colors\n",
    "ez_clrs = dict()\n",
    "for i, roi in enumerate(ez_all):\n",
    "    ez_clrs[roi_lbls[roi]] = cmap_tab10[i] + (1,)"
   ]
  },
  {
   "cell_type": "markdown",
   "metadata": {},
   "source": [
    "#### Groud Truth"
   ]
  },
  {
   "cell_type": "code",
   "execution_count": null,
   "metadata": {},
   "outputs": [],
   "source": [
    "ez_col_idxs = []\n",
    "for i,roi in enumerate(ez_hyp):\n",
    "    ez_col_idxs.append(np.unique(np.nonzero(lbl_dat_t1fov == roi)[0]))\n",
    "    print('ROI: ', roi, roi_lbls[roi], ez_clrs[roi_lbls[roi]])\n",
    "    print(ez_col_idxs[i])\n",
    "\n",
    "plt.figure()\n",
    "ax = plt.axes()\n",
    "for i, roi in enumerate(ez_all):\n",
    "    plt.plot([0,0.5],[10-i,10-i], linewidth=15, color=ez_clrs[roi_lbls[roi]])\n",
    "plt.yticks(ticks=10 - np.r_[0:len(ez_all)], labels=[roi_lbls[roi]+f'({roi})' for roi in ez_all]);\n",
    "plt.xticks([])\n",
    "ax.set_frame_on(False)"
   ]
  },
  {
   "cell_type": "code",
   "execution_count": null,
   "metadata": {},
   "outputs": [],
   "source": [
    "slc_idx = [70, 80, 108, 119]\n",
    "ez_slc = dict(((70, (122, 126, 161)), (80, (104,)), (108, (94,)), (119, (160,))))\n",
    "# fig, axs = plt.subplots(nrows=1, ncols=len(slc_idx), figsize=(20,20), squeeze=True)\n",
    "plt.figure(figsize=(15,15))\n",
    "for i, slc_idx_ in enumerate(slc_idx):\n",
    "    t1_slc = t1_dat[slc_idx_, :, :]\n",
    "    lbl_slc = lbl_dat_t1fov[slc_idx_, :, :]\n",
    "    ol = np.zeros(lbl_slc.shape + (4,))\n",
    "    for roi in ez_slc[slc_idx_]:\n",
    "        ol[lbl_slc == roi] = ez_clrs[roi_lbls[roi]]\n",
    "    plt.subplot(2,2,i+1)\n",
    "    plt.imshow(t1_slc, cmap='gray');\n",
    "    plt.imshow(ol)\n",
    "    plt.xticks([])\n",
    "    plt.yticks([])\n",
    "plt.tight_layout()\n",
    "plt.savefig('/home/anirudh/hdisk/Academia/papers/vep_infer/figures/Retro/retro_engel1_ezhyp_id003_mg.png')"
   ]
  },
  {
   "cell_type": "markdown",
   "metadata": {},
   "source": [
    "#### Predicted EZ"
   ]
  },
  {
   "cell_type": "code",
   "execution_count": null,
   "metadata": {},
   "outputs": [],
   "source": [
    "ez_col_idxs = []\n",
    "for i,roi in enumerate(ez_pred):\n",
    "    ez_col_idxs.append(np.unique(np.nonzero(lbl_dat_t1fov == roi)[0]))\n",
    "    print('ROI: ', roi, roi_lbls[roi])\n",
    "    print(ez_col_idxs[i])"
   ]
  },
  {
   "cell_type": "code",
   "execution_count": null,
   "metadata": {},
   "outputs": [],
   "source": [
    "slc_idx = [70, 93, 119]\n",
    "fig, axs = plt.subplots(nrows=2, ncols=2, figsize=(20,20), squeeze=True)\n",
    "for i,slc_idx_ in enumerate(slc_idx):\n",
    "    t1_slc = t1_dat[slc_idx_, :, :]\n",
    "    lbl_slc = lbl_dat_t1fov[slc_idx_, :, :]\n",
    "    ol = np.zeros(lbl_slc.shape + (4,))\n",
    "    for roi in ez_pred:\n",
    "        ol[lbl_slc == roi] = ez_clrs[roi_lbls[roi]]\n",
    "    axs[int(i/2),i%2].imshow(t1_slc, cmap='gray');\n",
    "    axs[int(i/2),i%2].imshow(ol)\n",
    "    axs[int(i/2),i%2].axis('off')\n",
    "axs[-1, -1].axis('off')\n",
    "plt.tight_layout()\n",
    "fig.savefig('/home/anirudh/hdisk/Academia/papers/vep_infer/figures/Retro/retro_engel1_ezpred_id003_mg.png')"
   ]
  },
  {
   "cell_type": "code",
   "execution_count": null,
   "metadata": {},
   "outputs": [],
   "source": [
    "map_estim = lib.io.stan.read_samples(['results/exp10/exp10.67/id003_mg/samples_MGcrise1_hpf10_lpf0.05_chain1.csv'])\n",
    "x = map_estim['x'][0]\n",
    "\n",
    "ez_all = np.unique(np.concatenate((ez_hyp, ez_pred)))\n",
    "szng_roi = np.unique(np.concatenate((ez_all, pz_pred)))\n",
    "x_shfld = np.zeros((szng_roi.size, x.shape[0]))\n",
    "ytick_lbls = []\n",
    "i = 0\n",
    "for roi in range(x.shape[1]):\n",
    "    if(roi in szng_roi):\n",
    "        x_shfld[i, :] = x[:, roi]\n",
    "        ytick_lbls = ytick_lbls + [roi_lbls[roi]]\n",
    "        i += 1\n",
    "plt.figure(figsize=(15,6))\n",
    "plt.imshow(np.exp(x_shfld), cmap='hot', aspect='auto')\n",
    "plt.yticks(np.r_[0:x_shfld.shape[0]], ytick_lbls, fontsize=15)\n",
    "plt.xticks(fontsize=15)\n",
    "for roi in ez_all:\n",
    "    roi_tick_idx = ytick_lbls.index(roi_lbls[roi])\n",
    "    plt.gca().get_yticklabels()[roi_tick_idx].set_color(ez_clrs[roi_lbls[roi]])\n",
    "plt.xlabel('Time', fontsize=20)\n",
    "plt.ylabel('ROI', fontsize=20)\n",
    "\n",
    "onsets = lib.utils.stan.find_onsets(x, 0)\n",
    "first_onset_time = np.min(onsets)\n",
    "plt.axvspan(first_onset_time, first_onset_time + 10, color='gray', alpha=0.4)\n",
    "plt.text(first_onset_time, -1, r'$t_{\\lambda}$', fontsize=15)\n",
    "plt.text(first_onset_time + 10, -1, r'$t_{\\lambda} + t_{\\epsilon}$', fontsize=15)\n",
    "plt.tight_layout()\n",
    "\n",
    "plt.savefig('/home/anirudh/hdisk/Academia/papers/vep_infer/figures/Retro/retro_engel1_src_x_id003_mg.png')"
   ]
  },
  {
   "cell_type": "code",
   "execution_count": null,
   "metadata": {},
   "outputs": [],
   "source": [
    "map_estim = lib.io.stan.read_samples(['results/exp10/exp10.67/id003_mg/samples_MGcrise1_hpf10_lpf0.05_chain1.csv'])\n",
    "x = map_estim['x'][0]\n",
    "z = map_estim['z'][0]"
   ]
  },
  {
   "cell_type": "code",
   "execution_count": null,
   "metadata": {},
   "outputs": [],
   "source": [
    "plt.figure(figsize=(20,4))\n",
    "for roi in ez_all:\n",
    "    plt.plot(x[:, roi], color=ez_clrs[roi_lbls[roi]], label=roi_lbls[roi])\n",
    "plt.legend(fontsize=15, loc='upper right')\n",
    "plt.xticks(fontsize=15)\n",
    "plt.yticks(fontsize=15)\n",
    "plt.xlabel('Time', fontsize=15)\n",
    "plt.ylabel('X', fontsize=15)\n",
    "plt.savefig('/home/anirudh/hdisk/Academia/papers/vep_infer/figures/Retro/retro_engel1_src_x_2_id003_mg.png')"
   ]
  },
  {
   "cell_type": "markdown",
   "metadata": {},
   "source": [
    "### Slice plots for Engel score II"
   ]
  },
  {
   "cell_type": "code",
   "execution_count": null,
   "metadata": {},
   "outputs": [],
   "source": [
    "import nibabel\n",
    "import numpy as np\n",
    "import matplotlib.pyplot as plt\n",
    "import os\n",
    "import lib.utils.stan\n",
    "import lib.io.tvb\n",
    "import matplotlib.cm"
   ]
  },
  {
   "cell_type": "code",
   "execution_count": null,
   "metadata": {},
   "outputs": [],
   "source": [
    "root_dir = \"datasets/retro/id001_bt\"\n",
    "\n",
    "t1 = nibabel.load(os.path.join(root_dir, \"mri\", \"T1.mgz\"))\n",
    "t1_dat = t1.get_data()\n",
    "lbl = nibabel.load(os.path.join(root_dir, \"dwi\", \"label_in_T1.destrieux.nii.gz\"))\n",
    "lbl_dat = lbl.get_data()"
   ]
  },
  {
   "cell_type": "code",
   "execution_count": null,
   "metadata": {},
   "outputs": [],
   "source": [
    "print(t1.affine)\n",
    "print(lbl.affine)"
   ]
  },
  {
   "cell_type": "markdown",
   "metadata": {},
   "source": [
    "#### Convert Label data FOV into T1's FOV"
   ]
  },
  {
   "cell_type": "code",
   "execution_count": null,
   "metadata": {},
   "outputs": [],
   "source": [
    "vox2vox_trnsfrm = np.dot(np.linalg.inv(lbl.affine), t1.affine)\n",
    "lbl_dat_t1fov = np.zeros_like(lbl_dat)\n",
    "for c1 in range(t1_dat.shape[0]):\n",
    "    for r1 in range(t1_dat.shape[1]):\n",
    "        for s1 in range(t1_dat.shape[2]):\n",
    "            c2,r2,s2,_ = [int(np.rint(el)) for el in np.dot(vox2vox_trnsfrm, np.array([c1,r1,s1,1]))]\n",
    "            lbl_dat_t1fov[c1,r1,s1] = lbl_dat[c2-1,r2,s2-1]\n",
    "np.save(os.path.join(root_dir, \"dwi\", \"label_in_T1fov.destrieux.npy\"), lbl_dat_t1fov)"
   ]
  },
  {
   "cell_type": "code",
   "execution_count": null,
   "metadata": {},
   "outputs": [],
   "source": [
    "lbl_dat_t1fov = np.load(os.path.join(root_dir, \"dwi\", \"label_in_T1fov.destrieux.npy\"))"
   ]
  },
  {
   "cell_type": "markdown",
   "metadata": {},
   "source": [
    "#### Groud Truth"
   ]
  },
  {
   "cell_type": "code",
   "execution_count": null,
   "metadata": {},
   "outputs": [],
   "source": [
    "ez_hyp = np.nonzero(np.loadtxt(os.path.join(root_dir, 'tvb', 'ez_hypothesis.destrieux.txt')))[0]\n",
    "roi_cntrs, roi_lbls = lib.io.tvb.read_roi_cntrs(os.path.join(root_dir, 'tvb', 'connectivity.destrieux.zip'))\n",
    "ez_col_idxs = []\n",
    "for i,roi in enumerate(ez_hyp):\n",
    "    ez_col_idxs.append(np.unique(np.nonzero(lbl_dat_t1fov == roi)[0]))\n",
    "    print('ROI: ', roi, roi_lbls[roi])\n",
    "    print(ez_col_idxs[i])"
   ]
  },
  {
   "cell_type": "markdown",
   "metadata": {},
   "source": [
    "#### Choose colors for roi in EZ hypothesis"
   ]
  },
  {
   "cell_type": "code",
   "execution_count": null,
   "metadata": {},
   "outputs": [],
   "source": [
    "cmap_tab10 = matplotlib.cm.get_cmap('tab10').colors\n",
    "ez_clrs = dict()\n",
    "ez_clrs[roi_lbls[86]] = cmap_tab10[0]\n",
    "ez_clrs[roi_lbls[87]] = cmap_tab10[1]"
   ]
  },
  {
   "cell_type": "code",
   "execution_count": null,
   "metadata": {},
   "outputs": [],
   "source": [
    "slc_idx = [108]\n",
    "fig, axs = plt.subplots(nrows=1, ncols=len(slc_idx), figsize=(20,20), squeeze=True)\n",
    "for i,slc_idx_ in enumerate(slc_idx):\n",
    "    t1_slc = t1_dat[slc_idx_, :, :]\n",
    "    lbl_slc = lbl_dat_t1fov[slc_idx_, :, :]\n",
    "    ol = np.zeros(lbl_slc.shape + (4,))\n",
    "    for roi in ez_hyp:\n",
    "        ol[lbl_slc == roi] = ez_clrs[roi_lbls[roi]] + (1,)\n",
    "    axs.imshow(t1_slc, cmap='gray');\n",
    "    axs.imshow(ol)\n",
    "    axs.set_xticks([])\n",
    "    axs.set_yticks([])\n",
    "fig.savefig('/home/anirudh/hdisk/Academia/papers/vep_infer/figures/Retro/retro_engel2_ezhyp.png')"
   ]
  },
  {
   "cell_type": "markdown",
   "metadata": {},
   "source": [
    "#### Predicted EZ"
   ]
  },
  {
   "cell_type": "code",
   "execution_count": null,
   "metadata": {},
   "outputs": [],
   "source": [
    "ez_pred, pz_pred = lib.utils.stan.find_ez(0, 10, ['results/exp10/exp10.67/id001_bt/samples_BTcrise1appportable_0006_hpf10_lpf0.02_chain1.csv'])\n",
    "ez_pred = np.nonzero(ez_pred)[0]\n",
    "pz_pred = np.nonzero(pz_pred)[0]\n",
    "ez_col_idxs = []\n",
    "print('EZ')\n",
    "for i,roi in enumerate(ez_pred):\n",
    "    ez_col_idxs.append(np.unique(np.nonzero(lbl_dat_t1fov == roi)[0]))\n",
    "    print('ROI: ', roi, roi_lbls[roi])\n",
    "    print(ez_col_idxs[i])\n",
    "print('PZ')\n",
    "pz_col_idxs = []\n",
    "for i,roi in enumerate(pz_pred):\n",
    "    pz_col_idxs.append(np.unique(np.nonzero(lbl_dat_t1fov == roi)[0]))\n",
    "    print('ROI: ', roi)\n",
    "    print(pz_col_idxs[i])"
   ]
  },
  {
   "cell_type": "markdown",
   "metadata": {},
   "source": [
    "#### Choose colors predicted EZ"
   ]
  },
  {
   "cell_type": "code",
   "execution_count": null,
   "metadata": {},
   "outputs": [],
   "source": [
    "ez_clrs[roi_lbls[14]] = cmap_tab10[2]\n",
    "ez_clrs[roi_lbls[72]] = cmap_tab10[3]\n",
    "ez_clrs[roi_lbls[142]] = cmap_tab10[4]"
   ]
  },
  {
   "cell_type": "code",
   "execution_count": null,
   "metadata": {},
   "outputs": [],
   "source": [
    "slc_idx = [92, 108, 165, 180]\n",
    "fig = plt.figure(figsize=(20,20))\n",
    "# gs = fig.add_gridspec(2,2)\n",
    "# fig, axs = plt.subplots(nrows=2, ncols=2, figsize=(20,20), squeeze=True)\n",
    "for i,slc_idx_ in enumerate(slc_idx):\n",
    "    t1_slc = t1_dat[slc_idx_, :, :]\n",
    "    lbl_slc = lbl_dat_t1fov[slc_idx_, :, :]\n",
    "    ol = np.zeros(lbl_slc.shape + (4,))\n",
    "    for roi in ez_pred:\n",
    "        ol[lbl_slc == roi] = ez_clrs[roi_lbls[roi]] + (1,)\n",
    "    plt.subplot(2,2,i+1)\n",
    "#     axs = fig.add_subplot(gs[i, i])\n",
    "    plt.imshow(t1_slc, cmap='gray');\n",
    "    plt.imshow(ol)\n",
    "    plt.xticks([])\n",
    "    plt.yticks([])\n",
    "fig.savefig('/home/anirudh/hdisk/Academia/papers/vep_infer/figures/Retro/retro_engel2_ezpred.png')"
   ]
  },
  {
   "cell_type": "code",
   "execution_count": null,
   "metadata": {},
   "outputs": [],
   "source": [
    "map_estim = lib.io.stan.read_samples(['results/exp10/exp10.67/id001_bt/samples_BTcrise1appportable_0006_hpf10_lpf0.02_chain1.csv'])\n",
    "x = map_estim['x'][0]\n",
    "\n",
    "ez_all = np.unique(np.concatenate((ez_hyp, ez_pred)))\n",
    "x_shfld = np.zeros((ez_all.size+pz_pred.size, x.shape[0]))\n",
    "ytick_lbls = []\n",
    "i = 0\n",
    "for roi in range(x.shape[1]):\n",
    "    if((roi in ez_all) or (roi in pz_pred)):\n",
    "        x_shfld[i, :] = x[:, roi]\n",
    "        ytick_lbls = ytick_lbls + [roi_lbls[roi]]\n",
    "        i += 1\n",
    "plt.figure(figsize=(15,4))\n",
    "plt.imshow(np.exp(x_shfld[0:ez_all.size+pz_pred.size]), cmap='hot', aspect='auto')\n",
    "plt.yticks(np.r_[0:x_shfld.shape[0]], ytick_lbls, fontsize=15)\n",
    "plt.xticks(fontsize=15)\n",
    "for roi in ez_all:\n",
    "    roi_tick_idx = ytick_lbls.index(roi_lbls[roi])\n",
    "    plt.gca().get_yticklabels()[roi_tick_idx].set_color(ez_clrs[roi_lbls[roi]])\n",
    "plt.xlabel('Time', fontsize=20)\n",
    "plt.ylabel('ROI', fontsize=20)\n",
    "plt.tight_layout()\n",
    "plt.savefig('/home/anirudh/hdisk/Academia/papers/vep_infer/figures/Retro/retro_engel2_src_x.png')"
   ]
  },
  {
   "cell_type": "code",
   "execution_count": null,
   "metadata": {},
   "outputs": [],
   "source": [
    "map_estim = lib.io.stan.read_samples(['results/exp10/exp10.67/id001_bt/samples_BTcrise1appportable_0006_hpf10_lpf0.02_chain1.csv'])\n",
    "x = map_estim['x'][0]\n",
    "\n",
    "plt.figure(figsize=(20,4))\n",
    "for roi in ez_pred:\n",
    "    plt.plot(x[:, roi], color=ez_clrs[roi_lbls[roi]], label=roi_lbls[roi])\n",
    "plt.legend(fontsize=15, loc='upper right')\n",
    "plt.xticks(fontsize=15)\n",
    "plt.yticks(fontsize=15)\n",
    "plt.xlabel('Time', fontsize=15)\n",
    "plt.ylabel('X', fontsize=15)\n",
    "plt.savefig('/home/anirudh/hdisk/Academia/papers/vep_infer/figures/Retro/retro_engel2_src_x_2.png')"
   ]
  },
  {
   "cell_type": "code",
   "execution_count": null,
   "metadata": {},
   "outputs": [],
   "source": [
    "import lib.io.stan\n",
    "map_estim = lib.io.stan.read_samples(['results/exp10/exp10.67/id001_bt/samples_BTcrise1appportable_0006_hpf10_lpf0.02_chain1.csv'])\n",
    "x = map_estim['x'][0].T\n",
    "ez_hyp = np.nonzero(np.loadtxt('datasets/retro/id001_bt/tvb/ez_hypothesis.destrieux.txt'))[0]\n",
    "plt.figure(figsize=(25,5))\n",
    "for i, x_ in enumerate(x):\n",
    "    if(i in ez_hyp):\n",
    "        plt.plot(x_, 'r')\n",
    "    else:\n",
    "        plt.plot(x_, 'k')"
   ]
  },
  {
   "cell_type": "markdown",
   "metadata": {},
   "source": [
    "### Slice plots for Engel score III"
   ]
  },
  {
   "cell_type": "code",
   "execution_count": null,
   "metadata": {},
   "outputs": [],
   "source": [
    "import nibabel\n",
    "import numpy as np\n",
    "import matplotlib.pyplot as plt\n",
    "import os\n",
    "import lib.utils.stan\n",
    "import matplotlib.cm\n",
    "import lib.io.tvb"
   ]
  },
  {
   "cell_type": "code",
   "execution_count": null,
   "metadata": {},
   "outputs": [],
   "source": [
    "root_dir = \"datasets/retro/id028_ca\"\n",
    "\n",
    "t1 = nibabel.load(os.path.join(root_dir, \"mri\", \"T1.mgz\"))\n",
    "t1_dat = t1.get_data()\n",
    "lbl = nibabel.load(os.path.join(root_dir, \"dwi\", \"label_in_T1.destrieux.nii.gz\"))\n",
    "lbl_dat = lbl.get_data()"
   ]
  },
  {
   "cell_type": "code",
   "execution_count": null,
   "metadata": {},
   "outputs": [],
   "source": [
    "print(t1.affine)\n",
    "print(lbl.affine)"
   ]
  },
  {
   "cell_type": "markdown",
   "metadata": {},
   "source": [
    "#### Convert Label data FOV into T1's FOV"
   ]
  },
  {
   "cell_type": "code",
   "execution_count": null,
   "metadata": {},
   "outputs": [],
   "source": [
    "vox2vox_trnsfrm = np.dot(np.linalg.inv(lbl.affine), t1.affine)\n",
    "lbl_dat_t1fov = np.zeros_like(lbl_dat)\n",
    "for c1 in range(t1_dat.shape[0]):\n",
    "    for r1 in range(t1_dat.shape[1]):\n",
    "        for s1 in range(t1_dat.shape[2]):\n",
    "            c2,r2,s2,_ = [int(np.rint(el)) for el in np.dot(vox2vox_trnsfrm, np.array([c1,r1,s1,1]))]\n",
    "            lbl_dat_t1fov[c1,r1,s1] = lbl_dat[c2-1,r2,s2-1]\n",
    "np.save(os.path.join(root_dir, \"dwi\", \"label_in_T1fov.destrieux.npy\"), lbl_dat_t1fov)"
   ]
  },
  {
   "cell_type": "code",
   "execution_count": null,
   "metadata": {},
   "outputs": [],
   "source": [
    "lbl_dat_t1fov = np.load(os.path.join(root_dir, \"dwi\", \"label_in_T1fov.destrieux.npy\"))"
   ]
  },
  {
   "cell_type": "markdown",
   "metadata": {},
   "source": [
    "#### Groud Truth"
   ]
  },
  {
   "cell_type": "code",
   "execution_count": null,
   "metadata": {},
   "outputs": [],
   "source": [
    "ez_hyp = np.nonzero(np.loadtxt(os.path.join(root_dir, 'tvb', 'ez_hypothesis.destrieux.txt')))[0]\n",
    "roi_cntrs, roi_lbls = lib.io.tvb.read_roi_cntrs(os.path.join(root_dir, 'tvb', 'connectivity.destrieux.zip'))\n",
    "ez_col_idxs = []\n",
    "for i,roi in enumerate(ez_hyp):\n",
    "    ez_col_idxs.append(np.unique(np.nonzero(lbl_dat_t1fov == roi)[0]))\n",
    "    print('ROI: ', roi)\n",
    "    print(ez_col_idxs[i])"
   ]
  },
  {
   "cell_type": "markdown",
   "metadata": {},
   "source": [
    "#### Choose colors for roi in EZ hypothesis"
   ]
  },
  {
   "cell_type": "code",
   "execution_count": null,
   "metadata": {},
   "outputs": [],
   "source": [
    "cmap_tab10 = matplotlib.cm.get_cmap('tab10').colors\n",
    "ez_clrs = dict()\n",
    "ez_clrs[roi_lbls[112]] = cmap_tab10[0]\n",
    "ez_clrs[roi_lbls[131]] = cmap_tab10[1]\n",
    "ez_clrs[roi_lbls[135]] = cmap_tab10[2]\n",
    "ez_clrs[roi_lbls[151]] = cmap_tab10[3]\n",
    "ez_clrs[roi_lbls[152]] = cmap_tab10[4]"
   ]
  },
  {
   "cell_type": "code",
   "execution_count": null,
   "metadata": {},
   "outputs": [],
   "source": [
    "slc_idx = [102, 123]\n",
    "fig, axs = plt.subplots(nrows=1, ncols=len(slc_idx), figsize=(20,20), squeeze=True)\n",
    "for i,slc_idx_ in enumerate(slc_idx):\n",
    "    t1_slc = t1_dat[slc_idx_, :, :]\n",
    "    lbl_slc = lbl_dat_t1fov[slc_idx_, :, :]\n",
    "    ol = np.zeros(lbl_slc.shape + (4,))\n",
    "    for roi in ez_hyp:\n",
    "        ol[lbl_slc == roi] = ez_clrs[roi_lbls[roi]] + (1,)\n",
    "    axs[i].imshow(t1_slc, cmap='gray');\n",
    "    axs[i].imshow(ol)\n",
    "    axs[i].set_xticks([])\n",
    "    axs[i].set_yticks([])\n",
    "fig.savefig('/home/anirudh/hdisk/Academia/papers/vep_infer/figures/Retro/retro_engel3_ezhyp.png')"
   ]
  },
  {
   "cell_type": "markdown",
   "metadata": {},
   "source": [
    "#### Predicted EZ"
   ]
  },
  {
   "cell_type": "code",
   "execution_count": null,
   "metadata": {},
   "outputs": [],
   "source": [
    "ez_pred, pz_pred = lib.utils.stan.find_ez(0, 10, ['results/exp10/exp10.67/id028_ca/samples_CA_crise1P_091126B-BEX_0002_hpf10_lpf0.05_chain1.csv'])\n",
    "ez_pred = np.nonzero(ez_pred)[0]\n",
    "pz_pred = np.nonzero(pz_pred)[0]\n",
    "ez_col_idxs = []\n",
    "print('EZ')\n",
    "for i,roi in enumerate(ez_pred):\n",
    "    ez_col_idxs.append(np.unique(np.nonzero(lbl_dat_t1fov == roi)[0]))\n",
    "    print('ROI: ', roi)\n",
    "    print(ez_col_idxs[i])\n",
    "print('PZ')\n",
    "pz_col_idxs = []\n",
    "for i,roi in enumerate(pz_pred):\n",
    "    pz_col_idxs.append(np.unique(np.nonzero(lbl_dat_t1fov == roi)[0]))\n",
    "    print('ROI: ', roi)\n",
    "    print(pz_col_idxs[i])"
   ]
  },
  {
   "cell_type": "markdown",
   "metadata": {},
   "source": [
    "#### Choose colors for roi in EZ Predictions"
   ]
  },
  {
   "cell_type": "code",
   "execution_count": null,
   "metadata": {},
   "outputs": [],
   "source": [
    "ez_clrs[roi_lbls[23]] = cmap_tab10[6]"
   ]
  },
  {
   "cell_type": "code",
   "execution_count": null,
   "metadata": {},
   "outputs": [],
   "source": [
    "slc_idx = [150]\n",
    "fig, axs = plt.subplots(nrows=1, ncols=len(slc_idx), figsize=(20,20), squeeze=True)\n",
    "for i,slc_idx_ in enumerate(slc_idx):\n",
    "    t1_slc = t1_dat[slc_idx_, :, :]\n",
    "    lbl_slc = lbl_dat_t1fov[slc_idx_, :, :]\n",
    "    ol = np.zeros(lbl_slc.shape + (4,))\n",
    "    for roi in ez_pred:\n",
    "        ol[lbl_slc == roi] = ez_clrs[roi_lbls[roi]] + (1,)\n",
    "    axs.imshow(t1_slc, cmap='gray');\n",
    "    axs.imshow(ol)\n",
    "    axs.set_xticks([])\n",
    "    axs.set_yticks([])\n",
    "fig.savefig('/home/anirudh/hdisk/Academia/papers/vep_infer/figures/Retro/retro_engel3_ezpred.png')"
   ]
  },
  {
   "cell_type": "code",
   "execution_count": null,
   "metadata": {},
   "outputs": [],
   "source": [
    "map_estim = lib.io.stan.read_samples(['results/exp10/exp10.67/id028_ca/samples_CA_crise1P_091126B-BEX_0002_hpf10_lpf0.05_chain1.csv'])\n",
    "x = map_estim['x'][0]\n",
    "\n",
    "ez_all = np.unique(np.concatenate((ez_hyp, ez_pred)))\n",
    "pz_pred_2 = np.setdiff1d(pz_pred, ez_hyp) # removing roi's in ezhyp from pz_pred as they are already included in ez_all\n",
    "x_shfld = np.zeros((ez_all.size+pz_pred_2.size, x.shape[0]))\n",
    "ytick_lbls = []\n",
    "i = 0\n",
    "for roi in range(x.shape[1]):\n",
    "    if((roi in ez_all) or (roi in pz_pred_2)):\n",
    "        x_shfld[i, :] = x[:, roi]\n",
    "        ytick_lbls = ytick_lbls + [roi_lbls[roi]]\n",
    "        i += 1\n",
    "plt.figure(figsize=(15,4))\n",
    "plt.imshow(np.exp(x_shfld), cmap='hot', aspect='auto')\n",
    "plt.yticks(np.r_[0:x_shfld.shape[0]], ytick_lbls, fontsize=15)\n",
    "plt.xticks(fontsize=15)\n",
    "for roi in ez_all:\n",
    "    roi_tick_idx = ytick_lbls.index(roi_lbls[roi])\n",
    "    plt.gca().get_yticklabels()[roi_tick_idx].set_color(ez_clrs[roi_lbls[roi]])\n",
    "plt.xlabel('Time', fontsize=20)\n",
    "plt.ylabel('ROI', fontsize=20)\n",
    "plt.tight_layout()\n",
    "plt.savefig('/home/anirudh/hdisk/Academia/papers/vep_infer/figures/Retro/retro_engel3_src_x.png')"
   ]
  },
  {
   "cell_type": "code",
   "execution_count": null,
   "metadata": {},
   "outputs": [],
   "source": [
    "import lib.io.stan\n",
    "map_estim = lib.io.stan.read_samples(['results/exp10/exp10.67/id028_ca/samples_CA_crise1P_091126B-BEX_0002_hpf10_lpf0.05_chain1.csv'])\n",
    "x = map_estim['x'][0].T\n",
    "ez_hyp = np.nonzero(np.loadtxt('datasets/retro/id028_ca/tvb/ez_hypothesis.destrieux.txt'))[0]\n",
    "plt.figure(figsize=(25,5))\n",
    "for i, x_ in enumerate(x):\n",
    "    if(i in ez_hyp):\n",
    "        plt.plot(x_, 'r')\n",
    "    else:\n",
    "        plt.plot(x_, 'k')"
   ]
  },
  {
   "cell_type": "markdown",
   "metadata": {},
   "source": [
    "## Confusion Matrix - Engel I"
   ]
  },
  {
   "cell_type": "code",
   "execution_count": 1,
   "metadata": {},
   "outputs": [],
   "source": [
    "%matplotlib inline\n",
    "import numpy as np\n",
    "import pandas as pd\n",
    "import lib.plots.stan\n",
    "import lib.utils.stan\n",
    "import os\n",
    "import glob\n",
    "import matplotlib.pyplot as plt\n",
    "import itertools"
   ]
  },
  {
   "cell_type": "code",
   "execution_count": 2,
   "metadata": {},
   "outputs": [],
   "source": [
    "patient_ids = dict()\n",
    "patient_ids['engel1'] = ['id003_mg','id004_bj','id010_cmn','id013_lk','id014_vc','id017_mk','id020_lma','id022_te','id025_mc','id027_sj','id030_bf','id039_mra','id050_sx']"
   ]
  },
  {
   "cell_type": "code",
   "execution_count": 3,
   "metadata": {},
   "outputs": [],
   "source": [
    "roi_class_gt = []\n",
    "roi_class_pred = []\n",
    "for pat_id in patient_ids['engel1']:\n",
    "    ez_hyp = np.loadtxt(os.path.join(f'datasets/retro/{pat_id}/tvb/ez_hypothesis.destrieux.txt'))\n",
    "    roi_class_gt += list(ez_hyp)\n",
    "    ez_pred, pz_pred = lib.utils.stan.find_ez(0, 10, glob.glob(f'results/exp10/retro_results/{pat_id}/*chain1.csv'))\n",
    "    pred_class = ez_pred.copy()\n",
    "    pred_class[pz_pred.nonzero()] = 2\n",
    "    roi_class_pred += list(pred_class)"
   ]
  },
  {
   "cell_type": "code",
   "execution_count": 4,
   "metadata": {},
   "outputs": [],
   "source": [
    "roi_class_gt = pd.Series(roi_class_gt, name='Hypothesis')\n",
    "roi_class_pred = pd.Series(roi_class_pred, name='Prediction')\n",
    "conf_mat = pd.crosstab(roi_class_gt, roi_class_pred).values\n",
    "conf_mat_norm = conf_mat / conf_mat.sum(axis=1)[:, np.newaxis]"
   ]
  },
  {
   "cell_type": "code",
   "execution_count": 5,
   "metadata": {},
   "outputs": [
    {
     "data": {
      "image/png": "[encoded data removed]",
      "text/plain": [
       "<Figure size 432x288 with 2 Axes>"
      ]
     },
     "metadata": {
      "needs_background": "light"
     },
     "output_type": "display_data"
    }
   ],
   "source": [
    "fig = plt.figure()\n",
    "ax = fig.add_subplot()\n",
    "img = ax.matshow(conf_mat_norm, cmap=plt.get_cmap('Greys'))\n",
    "plt.colorbar(img, ax = ax, fraction=0.03)\n",
    "ax.xaxis.set_label_position('top')\n",
    "ax.xaxis.tick_top()\n",
    "ax.tick_params(labelsize=12)\n",
    "ax.set_xticks([0,1,2])\n",
    "ax.set_xticklabels(['NSZ', 'EZ', 'PZ'])\n",
    "ax.set_yticks([0,1])\n",
    "ax.set_yticklabels(['NEZ', 'EZ'])\n",
    "ax.set_ylabel('Hypothesis', fontsize=15)\n",
    "ax.set_xlabel('Prediction', fontsize=15)\n",
    "\n",
    "for i in range(conf_mat_norm.shape[0]):\n",
    "    for j in range(conf_mat_norm.shape[1]):\n",
    "                ax.text(j, i+0.1, str(round(conf_mat_norm[i, j], 3))+f'\\n({str(conf_mat[i,j])})',\n",
    "                color='darkcyan', fontsize=15, horizontalalignment='center')\n",
    "\n",
    "fig.savefig('/home/anirudh/hdisk/Academia/papers/vep_infer/figures/Retro/conf_mat_engel1.svg')"
   ]
  },
  {
   "cell_type": "markdown",
   "metadata": {},
   "source": [
    "## Confusion matrix -  Engel II"
   ]
  },
  {
   "cell_type": "code",
   "execution_count": 1,
   "metadata": {},
   "outputs": [],
   "source": [
    "%matplotlib inline\n",
    "import numpy as np\n",
    "import pandas as pd\n",
    "import lib.plots.stan\n",
    "import lib.utils.stan\n",
    "import os\n",
    "import glob\n",
    "import matplotlib.pyplot as plt\n",
    "import itertools"
   ]
  },
  {
   "cell_type": "code",
   "execution_count": 2,
   "metadata": {},
   "outputs": [],
   "source": [
    "patient_ids = dict()\n",
    "patient_ids['engel2'] = ['id001_bt','id021_jc','id040_ms']"
   ]
  },
  {
   "cell_type": "code",
   "execution_count": 3,
   "metadata": {},
   "outputs": [],
   "source": [
    "roi_class_gt = []\n",
    "roi_class_pred = []\n",
    "for pat_id in patient_ids['engel2']:\n",
    "    ez_hyp = np.loadtxt(os.path.join(f'datasets/retro/{pat_id}/tvb/ez_hypothesis.destrieux.txt'))\n",
    "    roi_class_gt += list(ez_hyp)\n",
    "    ez_pred, pz_pred = lib.utils.stan.find_ez(0, 10, glob.glob(f'results/exp10/retro_results/{pat_id}/*chain1.csv'))\n",
    "    pred_class = ez_pred.copy()\n",
    "    pred_class[pz_pred.nonzero()] = 2\n",
    "    roi_class_pred += list(pred_class)"
   ]
  },
  {
   "cell_type": "code",
   "execution_count": 4,
   "metadata": {},
   "outputs": [],
   "source": [
    "roi_class_gt = pd.Series(roi_class_gt, name='Hypothesis')\n",
    "roi_class_pred = pd.Series(roi_class_pred, name='Prediction')\n",
    "conf_mat = pd.crosstab(roi_class_gt, roi_class_pred).values\n",
    "conf_mat_norm = conf_mat / conf_mat.sum(axis=1)[:, np.newaxis]"
   ]
  },
  {
   "cell_type": "code",
   "execution_count": 5,
   "metadata": {},
   "outputs": [
    {
     "data": {
      "image/png": "[encoded data removed]",
      "text/plain": [
       "<Figure size 432x288 with 2 Axes>"
      ]
     },
     "metadata": {
      "needs_background": "light"
     },
     "output_type": "display_data"
    }
   ],
   "source": [
    "fig = plt.figure()\n",
    "ax = fig.add_subplot()\n",
    "img = ax.matshow(conf_mat_norm, cmap=plt.get_cmap('Greys'))\n",
    "plt.colorbar(img, ax = ax, fraction=0.03)\n",
    "ax.xaxis.set_label_position('top')\n",
    "ax.xaxis.tick_top()\n",
    "ax.tick_params(labelsize=12)\n",
    "ax.set_xticks([0,1,2])\n",
    "ax.set_xticklabels(['NSZ', 'EZ', 'PZ'])\n",
    "ax.set_yticks([0,1])\n",
    "ax.set_yticklabels(['NEZ', 'EZ'])\n",
    "ax.set_ylabel('Hypothesis', fontsize=15)\n",
    "ax.set_xlabel('Prediction', fontsize=15)\n",
    "\n",
    "for i in range(conf_mat_norm.shape[0]):\n",
    "    for j in range(conf_mat_norm.shape[1]):\n",
    "        ax.text(j, i+0.1, str(round(conf_mat_norm[i, j], 3))+f'\\n({str(conf_mat[i,j])})',\n",
    "                color='darkcyan', fontsize=15, horizontalalignment='center')\n",
    "\n",
    "\n",
    "fig.savefig('/home/anirudh/hdisk/Academia/papers/vep_infer/figures/Retro/conf_mat_engel2.svg')"
   ]
  },
  {
   "cell_type": "markdown",
   "metadata": {},
   "source": [
    "## Confusion matrix -  Engel III/IV"
   ]
  },
  {
   "cell_type": "code",
   "execution_count": 1,
   "metadata": {},
   "outputs": [],
   "source": [
    "%matplotlib inline\n",
    "import numpy as np\n",
    "import pandas as pd\n",
    "import lib.plots.stan\n",
    "import lib.utils.stan\n",
    "import os\n",
    "import glob\n",
    "import matplotlib.pyplot as plt\n",
    "import itertools"
   ]
  },
  {
   "cell_type": "code",
   "execution_count": 2,
   "metadata": {},
   "outputs": [],
   "source": [
    "patient_ids = dict()\n",
    "patient_ids['engel3'] = ['id007_rd','id008_dmc','id023_br','id028_ca', 'id037_cg']\n",
    "patient_ids['engel4'] = ['id033_fc','id036_dm']\n",
    "patient_ids['engel3or4'] = patient_ids['engel3'] + patient_ids['engel4']"
   ]
  },
  {
   "cell_type": "code",
   "execution_count": 3,
   "metadata": {},
   "outputs": [],
   "source": [
    "roi_class_gt = []\n",
    "roi_class_pred = []\n",
    "for pat_id in patient_ids['engel3or4']:\n",
    "    ez_hyp = np.loadtxt(os.path.join(f'datasets/retro/{pat_id}/tvb/ez_hypothesis.destrieux.txt'))\n",
    "    roi_class_gt += list(ez_hyp)\n",
    "    ez_pred, pz_pred = lib.utils.stan.find_ez(0, 15, glob.glob(f'results/exp10/retro_results/{pat_id}/*chain1.csv'))\n",
    "    pred_class = ez_pred.copy()\n",
    "    pred_class[pz_pred.nonzero()] = 2\n",
    "    roi_class_pred += list(pred_class)"
   ]
  },
  {
   "cell_type": "code",
   "execution_count": 4,
   "metadata": {},
   "outputs": [],
   "source": [
    "roi_class_gt = pd.Series(roi_class_gt, name='Hypothesis')\n",
    "roi_class_pred = pd.Series(roi_class_pred, name='Prediction')\n",
    "conf_mat = pd.crosstab(roi_class_gt, roi_class_pred).values\n",
    "conf_mat_norm = conf_mat / conf_mat.sum(axis=1)[:, np.newaxis]"
   ]
  },
  {
   "cell_type": "code",
   "execution_count": 5,
   "metadata": {},
   "outputs": [
    {
     "data": {
      "image/png": "[encoded data removed]",
      "text/plain": [
       "<Figure size 432x288 with 2 Axes>"
      ]
     },
     "metadata": {
      "needs_background": "light"
     },
     "output_type": "display_data"
    }
   ],
   "source": [
    "fig = plt.figure()\n",
    "ax = fig.add_subplot()\n",
    "img = ax.matshow(conf_mat_norm, cmap=plt.get_cmap('Greys'))\n",
    "plt.colorbar(img, ax = ax, fraction=0.03)\n",
    "ax.xaxis.set_label_position('top')\n",
    "ax.xaxis.tick_top()\n",
    "ax.tick_params(labelsize=12)\n",
    "ax.set_xticks([0,1,2])\n",
    "ax.set_xticklabels(['NSZ', 'EZ', 'PZ'])\n",
    "ax.set_yticks([0,1])\n",
    "ax.set_yticklabels(['NEZ', 'EZ'])\n",
    "ax.set_ylabel('Hypothesis', fontsize=15)\n",
    "ax.set_xlabel('Prediction', fontsize=15)\n",
    "\n",
    "for i in range(conf_mat_norm.shape[0]):\n",
    "    for j in range(conf_mat_norm.shape[1]):\n",
    "        ax.text(j, i+0.1, str(round(conf_mat_norm[i, j], 3))+f'\\n({str(conf_mat[i,j])})',\n",
    "                color='darkcyan', fontsize=15, horizontalalignment='center')\n",
    "\n",
    "fig.savefig('/home/anirudh/hdisk/Academia/papers/vep_infer/figures/Retro/conf_mat_engel3or4.svg')"
   ]
  }
 ],
 "metadata": {
  "kernelspec": {
   "display_name": "Python 3.6",
   "language": "python",
   "name": "python3.7"
  },
  "language_info": {
   "codemirror_mode": {
    "name": "ipython",
    "version": 3
   },
   "file_extension": ".py",
   "mimetype": "text/x-python",
   "name": "python",
   "nbconvert_exporter": "python",
   "pygments_lexer": "ipython3",
   "version": "3.6.10-final"
  }
 },
 "nbformat": 4,
 "nbformat_minor": 4
}