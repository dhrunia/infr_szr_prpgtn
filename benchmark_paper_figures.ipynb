{
 "cells": [
  {
   "cell_type": "code",
   "execution_count": null,
   "metadata": {},
   "outputs": [],
   "source": [
    "import numpy as np\n",
    "import lib.io.stan\n",
    "import lib.plots.stan\n",
    "%matplotlib inline\n",
    "import matplotlib.pyplot as plt\n",
    "from matplotlib import colors,cm\n",
    "from matplotlib.lines import Line2D\n",
    "import random\n",
    "import scipy.signal as signal"
   ]
  },
  {
   "cell_type": "code",
   "execution_count": null,
   "metadata": {},
   "outputs": [],
   "source": [
    "res_root_dir = '/home/anirudh/hdisk/Academia/papers/VEP_infer'"
   ]
  },
  {
   "cell_type": "markdown",
   "metadata": {},
   "source": [
    "# Patient CJ"
   ]
  },
  {
   "cell_type": "code",
   "execution_count": null,
   "metadata": {},
   "outputs": [],
   "source": [
    "cj_ntwrk = np.load('datasets/id002_cj/CJ_network.npz')\n",
    "cj_sim_data = np.load('datasets/id002_cj/CJ_syn_tvb_ez=6-34_pz=27-5-11.npz')"
   ]
  },
  {
   "cell_type": "markdown",
   "metadata": {},
   "source": [
    "#### Structural Connectivity"
   ]
  },
  {
   "cell_type": "code",
   "execution_count": null,
   "metadata": {},
   "outputs": [],
   "source": [
    "plt.figure(figsize=(10,10))\n",
    "num_nodes = cj_ntwrk['SC'].shape[0]\n",
    "log_norm = colors.LogNorm(vmin=1e-7, vmax=cj_ntwrk['SC'].max())\n",
    "plt.imshow(cj_ntwrk['SC'], norm=log_norm, cmap=cm.hot)\n",
    "xticks = np.append(np.array([0]),np.r_[9:num_nodes:10])\n",
    "yticks = np.append(np.array([0]),np.r_[9:num_nodes:10])\n",
    "plt.xticks(xticks, xticks+1, fontsize=15)\n",
    "plt.yticks(yticks, yticks+1, fontsize=15)\n",
    "plt.xlabel('Node',fontsize=20)\n",
    "plt.ylabel('Node',fontsize=20)\n",
    "cb = plt.colorbar(fraction=0.035)\n",
    "cb.ax.set_yticklabels(cb.ax.get_yticklabels(),fontsize=15);\n",
    "plt.savefig(f'{res_root_dir}/figures/CJ/SC.png')\n"
   ]
  },
  {
   "cell_type": "markdown",
   "metadata": {},
   "source": [
    "#### Gain Matrix"
   ]
  },
  {
   "cell_type": "code",
   "execution_count": null,
   "metadata": {},
   "outputs": [],
   "source": [
    "plt.figure(figsize=(6,10))\n",
    "num_sensors, num_nodes = cj_ntwrk['gain_mat'].shape\n",
    "log_norm = colors.LogNorm(vmin=cj_ntwrk['gain_mat'].min(), vmax=cj_ntwrk['gain_mat'].max())\n",
    "plt.imshow(cj_ntwrk['gain_mat'], norm=log_norm, cmap=cm.hot)\n",
    "xticks = np.append(np.array([0]),np.r_[9:num_nodes:10])\n",
    "yticks = np.append(np.array([0]),np.r_[9:num_sensors:10])\n",
    "plt.xticks(xticks, xticks+1, fontsize=15)\n",
    "plt.yticks(yticks, yticks+1, fontsize=15)\n",
    "plt.xlabel('Node',fontsize=20)\n",
    "plt.ylabel('Sensor',fontsize=20)\n",
    "cb = plt.colorbar(fraction=0.045)\n",
    "cb.ax.set_yticklabels(cb.ax.get_yticklabels(),fontsize=15);\n",
    "plt.savefig(f'{res_root_dir}/figures/CJ/Gain_matrix.png')"
   ]
  },
  {
   "cell_type": "code",
   "execution_count": null,
   "metadata": {},
   "outputs": [],
   "source": [
    "print(cj_sim_data.keys())\n",
    "print(cj_sim_data['src_sig'].shape)"
   ]
  },
  {
   "cell_type": "markdown",
   "metadata": {},
   "source": [
    "#### Simulated Source activity"
   ]
  },
  {
   "cell_type": "code",
   "execution_count": null,
   "metadata": {},
   "outputs": [],
   "source": [
    "import numpy as np\n",
    "import lib.io.stan\n",
    "import lib.plots.stan\n",
    "%matplotlib inline\n",
    "import matplotlib.pyplot as plt\n",
    "from matplotlib import colors,cm\n",
    "from matplotlib.lines import Line2D\n",
    "import random\n",
    "import scipy.signal as signal"
   ]
  },
  {
   "cell_type": "code",
   "execution_count": null,
   "metadata": {},
   "outputs": [],
   "source": [
    "# res_root_dir = '/home/anirudh/hdisk/Academia/papers/VEP_infer'\n",
    "ez = cj_sim_data['ez']\n",
    "pz = np.concatenate((cj_sim_data['pz_x0'], cj_sim_data['pz_kplng']))\n",
    "start_idx = 2500\n",
    "end_idx = 3800\n",
    "src_sig = cj_sim_data['src_sig'][start_idx:end_idx,0,:,0] + cj_sim_data['src_sig'][start_idx:end_idx,3,:,0]\n",
    "n_areas = src_sig.shape[1]\n",
    "\n",
    "fig = plt.figure(figsize=(25,5))\n",
    "\n",
    "ax = plt.subplot()\n",
    "yticks = []\n",
    "yticks_labels = []\n",
    "for i in range(n_areas):\n",
    "    if(i in ez):\n",
    "        t = src_sig[:,i]+7*(np.where(ez == i)[0] + 1)\n",
    "        plt.plot(t, alpha=0.5, color='xkcd:red');\n",
    "        yticks.append(t.mean(axis=0))\n",
    "        yticks_labels.append(f'Node {i+1}(EZ)')\n",
    "    elif(i in pz):\n",
    "        t = src_sig[:,i]+7*(np.where(pz == i)[0] + 3)\n",
    "        plt.plot(t, alpha=0.5, color='xkcd:rust');\n",
    "        yticks.append(t.mean(axis=0))\n",
    "        yticks_labels.append(f'Node {i+1}(PZ)')\n",
    "    else:\n",
    "        plt.plot(src_sig[:,i]+5, alpha=0.5, color='black');\n",
    "#         yticks.append(src_sig[:,i].mean(axis=0) +5)\n",
    "plt.xlabel('Time', fontsize=20)\n",
    "plt.ylabel(r'Source Activity', fontsize=20);\n",
    "# plt.xticks(ax.get_xticks()[1:-1], map(lambda x: str(int(x)), ax.get_xticks()[1:-1]), fontsize=15);\n",
    "# ax.get_yaxis().set_visible(False)\n",
    "ax.spines['top'].set_visible(False)\n",
    "ax.spines['right'].set_visible(False)\n",
    "ax.spines['left'].set_visible(False)\n",
    "ax.spines['bottom'].set_visible(False)\n",
    "plt.yticks(yticks,yticks_labels);\n",
    "# legend_elements = [Line2D([0], [0], color='xkcd:red', alpha=0.5, linewidth=4, label='EZ'),\n",
    "#                    Line2D([0], [0], color='xkcd:rust', alpha=0.5, linewidth=4, label='PZ'),\n",
    "#                    Line2D([0], [0], color='black', alpha=0.5, linewidth=4, label='Non-seizing'),]\n",
    "# plt.legend(handles=legend_elements)\n",
    "# plt.savefig(f'{res_root_dir}/figures/CJ/source_activity.png')\n",
    "\n"
   ]
  },
  {
   "cell_type": "markdown",
   "metadata": {},
   "source": [
    "#### Simulated SEEG"
   ]
  },
  {
   "cell_type": "code",
   "execution_count": null,
   "metadata": {},
   "outputs": [],
   "source": [
    "random.seed(100)\n",
    "fig = plt.figure(figsize=(25,5))\n",
    "ax = plt.subplot()\n",
    "start_idx = 2500\n",
    "end_idx = 3800\n",
    "seeg_raw = cj_sim_data['seeg'][:,start_idx:end_idx]\n",
    "chnl_names = []\n",
    "with open('datasets/id002_cj/seeg.xyz') as fd:\n",
    "    for line in fd.readlines():\n",
    "        chnl_names.append(line.strip().split()[0])\n",
    "rndm_chsn_chnls = random.sample(range(0,seeg.shape[0]),5)\n",
    "seeg_raw = seeg_raw[rndm_chsn_chnls, :]\n",
    "nyq = 1000 / 2.0\n",
    "# High pass filter the data\n",
    "b, a = signal.butter(5, 10.0 / nyq, 'high')\n",
    "seeg_hpfilt = signal.filtfilt(b, a, seeg_raw)\n",
    "t = seeg_hpfilt.T + 60*np.r_[0:len(rndm_chsn_chnls)]\n",
    "yticks = t.mean(axis=0)\n",
    "yticks_labels = [chnl_names[idx] for idx in rndm_chsn_chnls]\n",
    "plt.plot(t, color='black');\n",
    "plt.xlabel('Time', fontsize=20)\n",
    "plt.ylabel('SEEG', fontsize=20)\n",
    "ax.spines['top'].set_visible(False)\n",
    "ax.spines['right'].set_visible(False)\n",
    "ax.spines['left'].set_visible(False)\n",
    "ax.spines['bottom'].set_visible(False)\n",
    "plt.yticks(yticks, yticks_labels, fontsize=12);\n",
    "plt.xticks(fontsize=12);\n",
    "plt.savefig(f'{res_root_dir}/figures/CJ/seeg.png')"
   ]
  },
  {
   "cell_type": "markdown",
   "metadata": {},
   "source": [
    "#### Sensors"
   ]
  },
  {
   "cell_type": "code",
   "execution_count": null,
   "metadata": {},
   "outputs": [],
   "source": [
    "import tvbpipeline.util.plot\n",
    "import numpy as np\n",
    "import os\n",
    "import importlib"
   ]
  },
  {
   "cell_type": "code",
   "execution_count": null,
   "metadata": {},
   "outputs": [],
   "source": [
    "res_root_dir = 'results/tmp'\n",
    "cj_sim_data = np.load('datasets/syn_data/id002_cj/CJ_syn_tvb_ez=6-34_pz=27-5-11.npz')\n",
    "ez = cj_sim_data['ez']\n",
    "pz = np.concatenate((cj_sim_data['pz_x0'], cj_sim_data['pz_kplng']))\n",
    "tvbpipeline.util.plot.seeg_elecs('datasets/syn_data/id002_cj/connectivity.zip', 'datasets/syn_data/id002_cj/seeg.xyz', ez, pz, f'{res_root_dir}/figures/electrodes.png')"
   ]
  },
  {
   "cell_type": "markdown",
   "metadata": {},
   "source": [
    "#### Onsets"
   ]
  },
  {
   "cell_type": "code",
   "execution_count": null,
   "metadata": {},
   "outputs": [],
   "source": [
    "import numpy as np\n",
    "import lib.io.stan\n",
    "import lib.plots.stan\n",
    "%matplotlib inline\n",
    "import matplotlib.pyplot as plt\n",
    "from matplotlib import colors,cm\n",
    "from matplotlib.lines import Line2D\n",
    "import random\n",
    "import scipy.signal as signal"
   ]
  },
  {
   "cell_type": "code",
   "execution_count": null,
   "metadata": {},
   "outputs": [],
   "source": [
    "res_root_dir = '/home/anirudh/hdisk/Academia/papers/VEP_infer'\n",
    "sim_data = np.load('datasets/syn_data/id002_cj/CJ_syn_tvb_ez=6-34_pz=27-5-11.npz')\n",
    "start_idx = 2500\n",
    "end_idx = 3800\n",
    "sim_src_sig = sim_data['src_sig'][start_idx:end_idx,0,:,0] + sim_data['src_sig'][start_idx:end_idx,3,:,0]\n",
    "ds_freq = 10\n",
    "sim_src_sig_ds = sim_src_sig[0:-1:ds_freq,:]\n",
    "optima = lib.io.stan.read_samples(['results/exp10/exp10.57.20/samples_syn_cj_optim_chain1.csv'])\n",
    "fit_src_sig = optima['x'][0]"
   ]
  },
  {
   "cell_type": "code",
   "execution_count": null,
   "metadata": {},
   "outputs": [],
   "source": [
    "onsets = sim_src_sig_ds.shape[0]*np.zeros(sim_src_sig_ds.shape[1])\n",
    "for i, sig in enumerate(sim_src_sig_ds.T):\n",
    "    sig_cond = sig > -1\n",
    "    if sig_cond.any():\n",
    "        onsets[i] = np.min(np.nonzero(sig_cond))"
   ]
  },
  {
   "cell_type": "code",
   "execution_count": null,
   "metadata": {},
   "outputs": [],
   "source": [
    "plt.figure(figsize=(5,5))\n",
    "# plt.bar(np.r_[1:onsets.shape[0]+1], onsets)\n",
    "# plt.xticks(np.r_[1:onsets.shape[0]+1:2]);\n",
    "plt.hist(onsets[np.nonzero(onsets > 0)]);"
   ]
  },
  {
   "cell_type": "code",
   "execution_count": null,
   "metadata": {},
   "outputs": [],
   "source": [
    "onsets = np.zeros(fit_src_sig.shape[1])\n",
    "for i, sig in enumerate(fit_src_sig.T):\n",
    "    sig_cond = sig > 0\n",
    "    if sig_cond.any():\n",
    "        onsets[i] = np.min(np.nonzero(sig_cond))"
   ]
  },
  {
   "cell_type": "markdown",
   "metadata": {},
   "source": [
    "# Patient BT"
   ]
  },
  {
   "cell_type": "code",
   "execution_count": null,
   "metadata": {},
   "outputs": [],
   "source": [
    "import numpy as np\n",
    "import lib.io.stan\n",
    "import lib.io.tvb\n",
    "import lib.io.seeg\n",
    "import lib.plots.stan\n",
    "%matplotlib inline\n",
    "import matplotlib.pyplot as plt\n",
    "from matplotlib import colors,cm\n",
    "from matplotlib.lines import Line2D\n",
    "import random\n",
    "import scipy.signal as signal\n",
    "import os"
   ]
  },
  {
   "cell_type": "code",
   "execution_count": null,
   "metadata": {},
   "outputs": [],
   "source": [
    "ntwrk = np.load('datasets/syn_data/id001_bt/network.npz')\n",
    "sim_data = np.load('datasets/syn_data/id001_bt/syn_tvb_ez=48-79_pz=11-17-22-75.npz')\n",
    "figs_dir = '/home/anirudh/hdisk/Academia/papers/VEP_infer/figures/BT'\n",
    "os.makedirs(figs_dir, exist_ok=True)"
   ]
  },
  {
   "cell_type": "markdown",
   "metadata": {},
   "source": [
    "### Structural Connectivity"
   ]
  },
  {
   "cell_type": "code",
   "execution_count": null,
   "metadata": {},
   "outputs": [],
   "source": [
    "plt.figure(figsize=(10,10))\n",
    "SC = ntwrk['SC']\n",
    "num_nodes = SC.shape[0]\n",
    "SC[SC<1e-10] = 1e-10\n",
    "log_norm = colors.LogNorm(vmin=1e-10, vmax=SC.max(), clip=True)\n",
    "plt.imshow(SC, norm=log_norm, cmap=cm.hot)\n",
    "xticks = np.append(np.array([0]),np.r_[9:num_nodes:10])\n",
    "yticks = np.append(np.array([0]),np.r_[9:num_nodes:10])\n",
    "plt.xticks(xticks, xticks+1, fontsize=15, rotation='vertical')\n",
    "plt.yticks(yticks, yticks+1, fontsize=15)\n",
    "plt.xlabel('Node',fontsize=20)\n",
    "plt.ylabel('Node',fontsize=20)\n",
    "cb = plt.colorbar(fraction=0.035)\n",
    "# cb.ax.set_yticklabels(cb.ax.get_yticklabels(),fontsize=15);\n",
    "plt.savefig(os.path.join(figs_dir, 'SC.png'))"
   ]
  },
  {
   "cell_type": "markdown",
   "metadata": {},
   "source": [
    "### Gain Matrix"
   ]
  },
  {
   "cell_type": "code",
   "execution_count": null,
   "metadata": {},
   "outputs": [],
   "source": [
    "plt.figure(figsize=(10,10))\n",
    "gain_mat = ntwrk['gain_mat']\n",
    "num_sensors, num_nodes = gain_mat.shape\n",
    "log_norm = colors.LogNorm(vmin=gain_mat.min(), vmax=gain_mat.max())\n",
    "plt.imshow(gain_mat, norm=log_norm, cmap=cm.hot)\n",
    "xticks = np.append(np.array([0]),np.r_[9:num_nodes:10])\n",
    "yticks = np.append(np.array([0]),np.r_[9:num_sensors:10])\n",
    "plt.xticks(xticks, xticks+1, fontsize=15, rotation='vertical')\n",
    "plt.yticks(yticks, yticks+1, fontsize=15)\n",
    "plt.xlabel('Node',fontsize=20)\n",
    "plt.ylabel('Sensor',fontsize=20)\n",
    "cb = plt.colorbar(fraction=0.035)\n",
    "# cb.ax.set_yticklabels(cb.ax.get_yticklabels(),fontsize=15);\n",
    "plt.savefig(os.path.join(figs_dir, 'Gain_matrix.png'))"
   ]
  },
  {
   "cell_type": "markdown",
   "metadata": {},
   "source": [
    "### Sensors"
   ]
  },
  {
   "cell_type": "code",
   "execution_count": null,
   "metadata": {},
   "outputs": [],
   "source": [
    "import tvbpipeline.util.plot\n",
    "import numpy as np\n",
    "import os\n",
    "import importlib"
   ]
  },
  {
   "cell_type": "code",
   "execution_count": null,
   "metadata": {},
   "outputs": [],
   "source": [
    "importlib.reload(tvbpipeline.util.plot)\n",
    "figs_dir = '/home/anirudh/hdisk/Academia/papers/VEP_infer/figures/BT'\n",
    "sim_data = np.load('datasets/syn_data/id001_bt/syn_tvb_ez=48-79_pz=11-17-22-75.npz')\n",
    "ez = sim_data['ez']\n",
    "pz = sim_data['pz']\n",
    "tvbpipeline.util.plot.seeg_elecs('datasets/syn_data/id001_bt/connectivity.destrieux.zip',\n",
    "                                 'datasets/syn_data/id001_bt/seeg.xyz', ez, pz,\n",
    "                                 os.path.join(figs_dir, 'electrodes_correct_implantation.png'))"
   ]
  },
  {
   "cell_type": "markdown",
   "metadata": {},
   "source": [
    "### Simulated Source activity"
   ]
  },
  {
   "cell_type": "code",
   "execution_count": null,
   "metadata": {},
   "outputs": [],
   "source": [
    "_, roi_names = lib.io.tvb.read_roi_cntrs('datasets/syn_data/id001_bt/connectivity.destrieux.zip')\n",
    "ez = sim_data['ez']\n",
    "pz = sim_data['pz']\n",
    "start_idx = 800\n",
    "end_idx = 2300\n",
    "x = sim_data['src_sig'][start_idx:end_idx,0,:,0] + sim_data['src_sig'][start_idx:end_idx,3,:,0]\n",
    "z = sim_data['src_sig'][start_idx:end_idx,2,:,0]\n",
    "n_areas = x.shape[1]\n",
    "fig = plt.figure(figsize=(25,5))\n",
    "\n",
    "ax = plt.subplot()\n",
    "yticks = []\n",
    "yticks_labels = []\n",
    "for i in range(n_areas):\n",
    "    if(i in ez):\n",
    "        t = x[:,i]+7*(np.where(ez == i)[0] + 1)\n",
    "        plt.plot(t, alpha=0.5, color='xkcd:red');\n",
    "        yticks.append(t.mean(axis=0))\n",
    "        yticks_labels.append(roi_names[i])\n",
    "    elif(i in pz):\n",
    "        t = x[:,i]+7*(np.where(pz == i)[0] + 3)\n",
    "        plt.plot(t, alpha=0.5, color='xkcd:rust');\n",
    "        yticks.append(t.mean(axis=0))\n",
    "        yticks_labels.append(roi_names[i])\n",
    "    else:\n",
    "        plt.plot(x[:,i]+5, alpha=0.5, color='black');\n",
    "#         yticks.append(src_sig[:,i].mean(axis=0) +5)\n",
    "plt.xlabel('Time', fontsize=20)\n",
    "# plt.ylabel(r'Source Activity', fontsize=20);\n",
    "# plt.xticks(ax.get_xticks()[1:-1], map(lambda x: str(int(x)), ax.get_xticks()[1:-1]), fontsize=15);\n",
    "# ax.get_yaxis().set_visible(False)\n",
    "ax.spines['top'].set_visible(False)\n",
    "ax.spines['right'].set_visible(False)\n",
    "ax.spines['left'].set_visible(False)\n",
    "ax.spines['bottom'].set_visible(False)\n",
    "plt.yticks(yticks,yticks_labels, fontsize=15);\n",
    "legend_elements = [Line2D([0], [0], color='xkcd:red', alpha=0.5, linewidth=4, label='EZ'),\n",
    "                   Line2D([0], [0], color='xkcd:rust', alpha=0.5, linewidth=4, label='PZ'),\n",
    "                   Line2D([0], [0], color='black', alpha=0.8, linewidth=4, label='Non-seizing'),]\n",
    "plt.legend(handles=legend_elements, fontsize=15, loc='upper right')\n",
    "plt.title('Simulated Data: Source Activity', fontsize=25)\n",
    "plt.savefig(os.path.join(figs_dir, 'source_activity.png'))"
   ]
  },
  {
   "cell_type": "markdown",
   "metadata": {},
   "source": [
    "### Simulated SEEG"
   ]
  },
  {
   "cell_type": "code",
   "execution_count": null,
   "metadata": {},
   "outputs": [],
   "source": [
    "np.random.seed(34534)#35087873\n",
    "fig = plt.figure(figsize=(25,5))\n",
    "ax = plt.subplot()\n",
    "start_idx = 800\n",
    "end_idx = 2300\n",
    "seeg_raw = sim_data['seeg'][:,start_idx:end_idx]\n",
    "chnl_names = []\n",
    "with open('datasets/syn_data/id001_bt/seeg.xyz') as fd:\n",
    "    for line in fd.readlines():\n",
    "        chnl_names.append(line.strip().split()[0])\n",
    "rndm_chsn_chnls = np.random.sample(range(0,seeg_raw.shape[0]),5)\n",
    "seeg_raw = seeg_raw[rndm_chsn_chnls, :]\n",
    "nyq = 1000 / 2.0\n",
    "# High pass filter the data\n",
    "b, a = signal.butter(5, 10.0 / nyq, 'high')\n",
    "seeg_hpfilt = signal.filtfilt(b, a, seeg_raw)\n",
    "t = seeg_hpfilt.T + 25*np.r_[0:len(rndm_chsn_chnls)]\n",
    "yticks = t.mean(axis=0)\n",
    "yticks_labels = [chnl_names[idx] for idx in rndm_chsn_chnls]\n",
    "plt.plot(t, color='black');\n",
    "plt.xlabel('Time', fontsize=20)\n",
    "plt.ylabel('SEEG', fontsize=20)\n",
    "ax.spines['top'].set_visible(False)\n",
    "ax.spines['right'].set_visible(False)\n",
    "ax.spines['left'].set_visible(False)\n",
    "ax.spines['bottom'].set_visible(False)\n",
    "plt.yticks(yticks, yticks_labels, fontsize=12);\n",
    "plt.xticks(fontsize=12);\n",
    "plt.savefig(os.path.join(figs_dir, 'seeg.png'))"
   ]
  },
  {
   "cell_type": "markdown",
   "metadata": {},
   "source": [
    "### Modelled Data Features"
   ]
  },
  {
   "cell_type": "code",
   "execution_count": 1,
   "metadata": {},
   "outputs": [],
   "source": [
    "import numpy as np\n",
    "import matplotlib.pyplot as plt\n",
    "import os\n",
    "import lib.io.stan\n",
    "import lib.io.seeg"
   ]
  },
  {
   "cell_type": "code",
   "execution_count": 2,
   "metadata": {},
   "outputs": [],
   "source": [
    "np.random.seed(34534)\n",
    "figs_dir = '/home/anirudh/Academia/papers/vep_infer/figures/BT'\n",
    "fit_data = lib.io.stan.rload('results/exp10/exp10.69/Rfiles/fit_data_snsrfit_ode_syn_optim.R')\n",
    "obs_slp = fit_data['slp']\n",
    "obs_snsr_pwr = fit_data['snsr_pwr']\n",
    "rndm_chsn_chnls = np.random.randint(0, obs_slp.shape[1],10)"
   ]
  },
  {
   "cell_type": "code",
   "execution_count": 3,
   "metadata": {},
   "outputs": [
    {
     "data": {
      "image/png": "[encoded data removed]",
      "text/plain": [
       "<Figure size 1080x1080 with 11 Axes>"
      ]
     },
     "metadata": {
      "needs_background": "light"
     },
     "output_type": "display_data"
    }
   ],
   "source": [
    "fig = plt.figure(figsize=(15,15))\n",
    "gs = fig.add_gridspec(rndm_chsn_chnls.shape[0], 3)\n",
    "for i, chnl in enumerate(rndm_chsn_chnls):\n",
    "    ax = fig.add_subplot(gs[i, :-1])\n",
    "    ax.plot(obs_slp[:, chnl], color='black', alpha=0.3);\n",
    "    ax.tick_params('x', labelsize=13)\n",
    "    ax.tick_params('y', labelsize=13)\n",
    "ax = fig.add_subplot(gs[:, 2])\n",
    "ax.barh(np.r_[1:obs_snsr_pwr.shape[0]+1], obs_snsr_pwr, color='black', alpha=0.3)\n",
    "fig.savefig(os.path.join(figs_dir,'modelled_data_features.png'))"
   ]
  },
  {
   "cell_type": "markdown",
   "metadata": {},
   "source": [
    "### Phase space"
   ]
  },
  {
   "cell_type": "code",
   "execution_count": null,
   "metadata": {},
   "outputs": [],
   "source": [
    "import numpy as np\n",
    "import matplotlib.pyplot as plt\n",
    "import lib.io.stan"
   ]
  },
  {
   "cell_type": "code",
   "execution_count": null,
   "metadata": {},
   "outputs": [],
   "source": [
    "figs_dir = '/home/anirudh/hdisk/Academia/papers/VEP_infer/figures/BT'\n",
    "_, roi_names = lib.io.tvb.read_roi_cntrs('datasets/syn_data/id001_bt/connectivity.destrieux.zip')\n",
    "sim_data = np.load('datasets/syn_data/id001_bt/syn_tvb_ez=48-79_pz=11-17-22-75.npz')\n",
    "start_idx = 800\n",
    "end_idx = 2200\n",
    "sim_x = sim_data['src_sig'][start_idx:end_idx,0,:,0] + sim_data['src_sig'][start_idx:end_idx,3,:,0]\n",
    "sim_z = sim_data['src_sig'][start_idx:end_idx,2,:,0]\n",
    "map_est = lib.io.stan.read_samples(['results/exp10/exp10.69/samples_syn_optim_chain1.csv'])\n",
    "map_x = map_est['x'][0]\n",
    "map_z = map_est['z'][0]\n",
    "ez = sim_data['ez']\n",
    "pz = sim_data['pz']\n",
    "n_roi = sim_x.shape[1]\n",
    "hz = np.setdiff1d(np.arange(0, n_roi), np.concatenate((ez,pz)))"
   ]
  },
  {
   "cell_type": "code",
   "execution_count": null,
   "metadata": {},
   "outputs": [],
   "source": [
    "fig = plt.figure(figsize=(5,25))\n",
    "gs = fig.add_gridspec(ez.shape[0], 2)\n",
    "for i, roi in enumerate(ez):\n",
    "    plt.subplot(ez.shape[0], 2, i+1)\n",
    "    plt.plot(sim_x[0:-1:5, roi], sim_z[0:-1:5, roi], color='black', alpha=0.3);\n",
    "    plt.plot(map_x[:, roi], map_z[:, roi], color='xkcd:red' if roi in ez else 'xkcd:rust')\n",
    "#     plt.xlim(-3.2, 2)\n",
    "#     plt.ylim(2, 5)\n",
    "    plt.title(roi_names[roi], fontsize=15)\n",
    "plt.subplot(7, 1, 7)\n",
    "plt.plot(sim_x[0:-1:5, hz], sim_z[0:-1:5, hz], color='black', alpha=0.3);\n",
    "plt.plot(map_x[:, hz], map_z[:, hz], color='xkcd:blue')\n",
    "# plt.xlim(-3.2, 2)\n",
    "# plt.ylim(2.0, 5)\n",
    "plt.title('Healthy Nodes', fontsize=15)\n",
    "plt.tight_layout()\n",
    "plt.savefig(os.path.join(figs_dir, 'predicted_source_crct_implnt_phasespace.svg'))"
   ]
  },
  {
   "cell_type": "code",
   "execution_count": null,
   "metadata": {},
   "outputs": [],
   "source": [
    "fig = plt.figure(figsize=(15,25))\n",
    "gs = fig.add_gridspec(7,1)\n",
    "for i, roi in enumerate(np.concatenate((ez, pz))):\n",
    "    fig.add_subplot(gs[i, 0])\n",
    "    plt.plot(sim_x[0:-1:5, roi], 'black', alpha=0.3);\n",
    "    plt.plot(map_x[:, roi], color='xkcd:red' if roi in ez else 'xkcd:rust');\n",
    "    plt.ylim(-3, 1.5)\n",
    "    plt.title(roi_names[roi], fontsize=15)\n",
    "    \n",
    "fig.add_subplot(gs[6,0])\n",
    "plt.plot(sim_x[0:-1:5, hz], 'black', alpha=1.0);\n",
    "plt.plot(map_x[:, hz], color='xkcd:blue', alpha=0.3);\n",
    "plt.title('Healthy Nodes', fontsize=15)\n",
    "plt.ylim(-3.2, 1.5)\n",
    "plt.tight_layout()\n",
    "plt.savefig(os.path.join(figs_dir, 'predicted_source_ctct_implnt_x.svg'))"
   ]
  },
  {
   "cell_type": "markdown",
   "metadata": {},
   "source": [
    "### Onsets"
   ]
  },
  {
   "cell_type": "code",
   "execution_count": null,
   "metadata": {},
   "outputs": [],
   "source": [
    "import numpy as np\n",
    "import lib.io.stan\n",
    "import lib.plots.stan\n",
    "%matplotlib inline\n",
    "import matplotlib.pyplot as plt\n",
    "from matplotlib import colors,cm\n",
    "from matplotlib.lines import Line2D\n",
    "import random\n",
    "import scipy.signal as signal"
   ]
  },
  {
   "cell_type": "code",
   "execution_count": null,
   "metadata": {},
   "outputs": [],
   "source": [
    "figs_dir = '/home/anirudh/hdisk/Academia/papers/VEP_infer/figures/BT'\n",
    "sim_data = np.load('datasets/syn_data/id001_bt/syn_tvb_ez=48-79_pz=11-17-22-75.npz')\n",
    "start_idx = 800\n",
    "end_idx = 2200\n",
    "sim_src_sig = sim_data['src_sig'][start_idx:end_idx,0,:,0] + sim_data['src_sig'][start_idx:end_idx,3,:,0]\n",
    "ds_freq = 5\n",
    "sim_src_sig_ds = sim_src_sig[0:-1:ds_freq,:]\n",
    "map_est = lib.io.stan.read_samples(['results/exp10/exp10.69/samples_syn_optim_chain1.csv'])\n",
    "map_src_sig = map_est['x'][0]"
   ]
  },
  {
   "cell_type": "code",
   "execution_count": null,
   "metadata": {},
   "outputs": [],
   "source": [
    "sim_onsets = sim_src_sig_ds.shape[0]*np.zeros(sim_src_sig_ds.shape[1])\n",
    "for i, sig in enumerate(sim_src_sig_ds.T):\n",
    "    sig_cond = sig > 0\n",
    "    if sig_cond.any():\n",
    "        sim_onsets[i] = np.min(np.nonzero(sig_cond))\n",
    "\n",
    "map_onsets = np.zeros(map_src_sig.shape[1])\n",
    "for i, sig in enumerate(map_src_sig.T):\n",
    "    sig_cond = sig > 0\n",
    "    if sig_cond.any():\n",
    "        map_onsets[i] = np.min(np.nonzero(sig_cond))"
   ]
  },
  {
   "cell_type": "code",
   "execution_count": null,
   "metadata": {},
   "outputs": [],
   "source": [
    "plt.figure(figsize=(8,5))\n",
    "# plt.bar(np.r_[1:onsets.shape[0]+1], onsets)\n",
    "# plt.xticks(np.r_[1:onsets.shape[0]+1:2]);\n",
    "plt.hist([sim_onsets[np.nonzero(sim_onsets > 0)],\n",
    "         map_onsets[np.nonzero(map_onsets > 0)]],\n",
    "         color=['black', 'green'], alpha=0.5,\n",
    "         label=['Ground Truth', 'Inferred']);\n",
    "plt.xlabel('Time', fontsize=15);\n",
    "plt.xticks(fontsize=15)\n",
    "plt.yticks(ticks=[0,1,2], labels=[0,1,2], fontsize=15)\n",
    "plt.legend()\n",
    "plt.savefig(os.path.join(figs_dir, 'onsets_crct_implnt.svg'))"
   ]
  },
  {
   "cell_type": "markdown",
   "metadata": {},
   "source": [
    "### Fit to observations"
   ]
  },
  {
   "cell_type": "code",
   "execution_count": null,
   "metadata": {},
   "outputs": [],
   "source": [
    "import numpy as np\n",
    "import matplotlib.pyplot as plt\n",
    "import os\n",
    "import lib.io.stan\n",
    "import lib.io.seeg"
   ]
  },
  {
   "cell_type": "code",
   "execution_count": null,
   "metadata": {},
   "outputs": [],
   "source": [
    "np.random.seed(34534)\n",
    "figs_dir = '/home/anirudh/Academia/papers/vep_infer/figures/BT'\n",
    "fit_data = lib.io.stan.rload('results/exp10/exp10.69/Rfiles/fit_data_snsrfit_ode_syn_optim.R')\n",
    "obs_slp = fit_data['slp']\n",
    "obs_snsr_pwr = fit_data['snsr_pwr']\n",
    "csv_path = 'results/exp10/exp10.69/samples_syn_optim_chain1.csv'\n",
    "map_est = lib.io.stan.read_samples([csv_path])\n",
    "map_slp = map_est['mu_slp'][0]\n",
    "map_snsr_pwr = map_est['mu_snsr_pwr'][0]\n",
    "rndm_chsn_chnls = np.random.randint(0, obs_slp.shape[1],10)"
   ]
  },
  {
   "cell_type": "code",
   "execution_count": null,
   "metadata": {},
   "outputs": [],
   "source": [
    "fig = plt.figure(figsize=(15,15))\n",
    "gs = fig.add_gridspec(rndm_chsn_chnls.shape[0], 3)\n",
    "for i, chnl in enumerate(rndm_chsn_chnls):\n",
    "    ax = fig.add_subplot(gs[i, :-1])\n",
    "    ax.plot(obs_slp[:, chnl], color='black', alpha=0.3);\n",
    "    ax.plot(map_slp[:, chnl], color='red', alpha=0.3);\n",
    "    ax.tick_params('x', labelsize=13)\n",
    "    ax.tick_params('y', labelsize=13)\n",
    "ax = fig.add_subplot(gs[:, 2])\n",
    "ax.barh(np.r_[1:obs_snsr_pwr.shape[0]+1], obs_snsr_pwr, color='black', alpha=0.3)\n",
    "ax.barh(np.r_[1:map_snsr_pwr.shape[0]+1], map_snsr_pwr, color='red', alpha=0.3)\n",
    "# plt.savefig(os.path.join(figs_dir,'fit_to_observation.png'))\n",
    "fig.savefig(os.path.join(figs_dir,'fit_to_observation.png'))"
   ]
  },
  {
   "cell_type": "markdown",
   "metadata": {},
   "source": [
    "### Wrong priors"
   ]
  },
  {
   "cell_type": "code",
   "execution_count": null,
   "metadata": {},
   "outputs": [],
   "source": [
    "import numpy as np\n",
    "import matplotlib.pyplot as plt\n",
    "import lib.io.stan\n",
    "import lib.io.tvb\n",
    "import os\n",
    "import retro_results"
   ]
  },
  {
   "cell_type": "code",
   "execution_count": null,
   "metadata": {},
   "outputs": [],
   "source": [
    "figs_dir = '/home/anirudh/Academia/papers/vep_infer/figures/BT'\n",
    "roi_cntrs, roi_names = lib.io.tvb.read_roi_cntrs('datasets/syn_data/id001_bt/connectivity.destrieux.zip')\n",
    "sim_data = np.load('datasets/syn_data/id001_bt/syn_tvb_ez=48-79_pz=11-17-22-75.npz')\n",
    "start_idx = 800\n",
    "end_idx = 2200\n",
    "sim_x = sim_data['src_sig'][start_idx:end_idx,0,:,0] + sim_data['src_sig'][start_idx:end_idx,3,:,0]\n",
    "sim_z = sim_data['src_sig'][start_idx:end_idx,2,:,0]\n",
    "csv_path = 'results/exp10/exp10.72/samples_syn_optim_chain1.csv'\n",
    "map_est = lib.io.stan.read_samples([csv_path])\n",
    "map_x = map_est['x'][0]\n",
    "map_z = map_est['z'][0]\n",
    "ez_gt = sim_data['ez'] # EZ ground truth\n",
    "pz_gt = sim_data['pz'] # PZ ground truth\n",
    "n_roi = sim_x.shape[1]\n",
    "hz_gt = np.setdiff1d(np.arange(0, n_roi), np.concatenate((ez_gt,pz_gt)))\n",
    "fit_data = lib.io.stan.rload('results/exp10/exp10.72/Rfiles/fit_data_snsrfit_ode_syn_optim.R')\n",
    "ez_prior = np.nonzero(fit_data['x0_mu'] == -1.8)[0]\n",
    "pz_prior = np.nonzero(fit_data['x0_mu'] == -2.3)[0]\n",
    "hz_prior = np.setdiff1d(np.arange(0, n_roi), np.concatenate((ez_prior,pz_prior)))\n",
    "ez_pred, pz_pred = retro_results.find_ez_single(onst_thrshld=0, bin_thrshld=1, nbins=10,\n",
    "                                                csv_path=csv_path, szr_len=map_x.shape[0])\n",
    "hz_pred = np.setdiff1d(np.arange(0, n_roi), np.concatenate((ez_pred, pz_pred)))"
   ]
  },
  {
   "cell_type": "code",
   "execution_count": null,
   "metadata": {},
   "outputs": [],
   "source": [
    "fig = plt.figure(figsize=(25,3))\n",
    "for i, roi in enumerate(np.concatenate((ez_gt,pz_gt))):\n",
    "    plt.subplot(1, 7, i+1)\n",
    "    plt.plot(sim_x[0:-1:5, roi], sim_z[0:-1:5, roi], color='black', alpha=0.3);\n",
    "    if (roi in ez_gt):\n",
    "        plt.plot(map_x[:, roi], map_z[:, roi], color='xkcd:red')\n",
    "    elif (roi in pz_gt):\n",
    "        plt.plot(map_x[:, roi], map_z[:, roi], color='xkcd:rust')\n",
    "#     plt.xlim(-3.2, 2)\n",
    "#     plt.ylim(2, 5)\n",
    "    plt.title(roi_names[roi], fontsize=15)\n",
    "plt.subplot(1, 7, 7)\n",
    "plt.plot(sim_x[0:-1:5, hz_gt], sim_z[0:-1:5, hz_gt], color='black', alpha=0.3);\n",
    "plt.plot(map_x[:, hz_gt], map_z[:, hz_gt], color='xkcd:blue')\n",
    "# plt.xlim(-3.2, 2)\n",
    "# plt.ylim(2.0, 5)\n",
    "plt.title('Healthy Nodes', fontsize=15)\n",
    "plt.tight_layout()\n",
    "plt.savefig(os.path.join(figs_dir, 'predicted_source_wrong_priors.svg'))"
   ]
  },
  {
   "cell_type": "code",
   "execution_count": null,
   "metadata": {},
   "outputs": [],
   "source": [
    "plt.figure(figsize=(25,10))\n",
    "plt.subplot(1,3,1)\n",
    "plt.scatter(roi_cntrs[hz_prior,0], roi_cntrs[hz_prior,1], c='xkcd:black', alpha=0.2)\n",
    "plt.scatter(roi_cntrs[ez_prior,0], roi_cntrs[ez_prior,1], c='xkcd:red')\n",
    "plt.scatter(roi_cntrs[pz_prior,0], roi_cntrs[pz_prior,1], c='xkcd:rust')\n",
    "plt.title('Prior EZ Hypothesis', fontsize=15)\n",
    "plt.subplot(1,3,2)\n",
    "plt.scatter(roi_cntrs[hz_pred,0], roi_cntrs[hz_pred,1], c='xkcd:black', alpha=0.2)\n",
    "plt.scatter(roi_cntrs[ez_pred,0], roi_cntrs[ez_pred,1], c='xkcd:red')\n",
    "plt.scatter(roi_cntrs[pz_pred,0], roi_cntrs[pz_pred,1], c='xkcd:rust')\n",
    "plt.title('Model Prediction', fontsize=15)\n",
    "plt.subplot(1,3,3)\n",
    "plt.scatter(roi_cntrs[hz_gt,0], roi_cntrs[hz_gt,1], c='xkcd:black', alpha=0.2)\n",
    "plt.scatter(roi_cntrs[ez_gt,0], roi_cntrs[ez_gt,1], c='xkcd:red')\n",
    "plt.scatter(roi_cntrs[pz_gt,0], roi_cntrs[pz_gt,1], c='xkcd:rust')\n",
    "plt.title('Ground Truth', fontsize=20)\n",
    "plt.tight_layout()\n",
    "plt.savefig(os.path.join(figs_dir, 'prior_vs_pred_vs_gt_wrong_priors.png'))"
   ]
  },
  {
   "cell_type": "markdown",
   "metadata": {},
   "source": [
    "### No Apriori EZ hypothesis"
   ]
  },
  {
   "cell_type": "code",
   "execution_count": null,
   "metadata": {},
   "outputs": [],
   "source": [
    "import numpy as np\n",
    "import matplotlib.pyplot as plt\n",
    "import lib.io.stan\n",
    "import lib.io.tvb\n",
    "import os\n",
    "import retro_results"
   ]
  },
  {
   "cell_type": "code",
   "execution_count": null,
   "metadata": {},
   "outputs": [],
   "source": [
    "figs_dir = '/home/anirudh/Academia/papers/vep_infer/figures/BT'\n",
    "roi_cntrs, roi_names = lib.io.tvb.read_roi_cntrs('datasets/syn_data/id001_bt/connectivity.destrieux.zip')\n",
    "sim_data = np.load('datasets/syn_data/id001_bt/syn_tvb_ez=48-79_pz=11-17-22-75.npz')\n",
    "start_idx = 800\n",
    "end_idx = 2200\n",
    "sim_x = sim_data['src_sig'][start_idx:end_idx,0,:,0] + sim_data['src_sig'][start_idx:end_idx,3,:,0]\n",
    "sim_z = sim_data['src_sig'][start_idx:end_idx,2,:,0]\n",
    "csv_path = 'results/exp10/exp10.71/samples_syn_optim_chain1.csv'\n",
    "map_est = lib.io.stan.read_samples([csv_path])\n",
    "map_x = map_est['x'][0]\n",
    "map_z = map_est['z'][0]\n",
    "ez_gt = sim_data['ez'] # EZ ground truth\n",
    "pz_gt = sim_data['pz'] # PZ ground truth\n",
    "n_roi = sim_x.shape[1]\n",
    "hz_gt = np.setdiff1d(np.arange(0, n_roi), np.concatenate((ez_gt,pz_gt)))\n",
    "fit_data = lib.io.stan.rload('results/exp10/exp10.71/Rfiles/fit_data_snsrfit_ode_syn_optim.R')\n",
    "ez_prior = np.nonzero(fit_data['x0_mu'] == -1.8)[0]\n",
    "pz_prior = np.nonzero(fit_data['x0_mu'] == -2.3)[0]\n",
    "hz_prior = np.setdiff1d(np.arange(0, n_roi), np.concatenate((ez_prior,pz_prior)))\n",
    "ez_pred, pz_pred = retro_results.find_ez_single(onst_thrshld=0, bin_thrshld=1, nbins=10,\n",
    "                                                csv_path=csv_path, szr_len=map_x.shape[0])\n",
    "hz_pred = np.setdiff1d(np.arange(0, n_roi), np.concatenate((ez_pred, pz_pred)))"
   ]
  },
  {
   "cell_type": "code",
   "execution_count": null,
   "metadata": {},
   "outputs": [],
   "source": [
    "fig = plt.figure(figsize=(25,3))\n",
    "for i, roi in enumerate(np.concatenate((ez_gt,pz_gt))):\n",
    "    plt.subplot(1, 7, i+1)\n",
    "    plt.plot(sim_x[0:-1:5, roi], sim_z[0:-1:5, roi], color='black', alpha=0.3);\n",
    "    if (roi in ez_gt):\n",
    "        plt.plot(map_x[:, roi], map_z[:, roi], color='xkcd:red')\n",
    "    elif (roi in pz_gt):\n",
    "        plt.plot(map_x[:, roi], map_z[:, roi], color='xkcd:rust')\n",
    "#     plt.xlim(-3.2, 2)\n",
    "#     plt.ylim(2, 5)\n",
    "    plt.title(roi_names[roi], fontsize=15)\n",
    "plt.subplot(1, 7, 7)\n",
    "plt.plot(sim_x[0:-1:5, hz_gt], sim_z[0:-1:5, hz_gt], color='black', alpha=0.3);\n",
    "plt.plot(map_x[:, hz_gt], map_z[:, hz_gt], color='xkcd:blue')\n",
    "# plt.xlim(-3.2, 2)\n",
    "# plt.ylim(2.0, 5)\n",
    "plt.title('Healthy Nodes', fontsize=15)\n",
    "plt.tight_layout()\n",
    "plt.savefig(os.path.join(figs_dir, 'predicted_source_no_hypothesis.png'))"
   ]
  },
  {
   "cell_type": "code",
   "execution_count": null,
   "metadata": {},
   "outputs": [],
   "source": [
    "plt.figure(figsize=(25,10))\n",
    "plt.subplot(1,3,1)\n",
    "plt.scatter(roi_cntrs[hz_prior,0], roi_cntrs[hz_prior,1], c='xkcd:black', alpha=0.2)\n",
    "plt.scatter(roi_cntrs[ez_prior,0], roi_cntrs[ez_prior,1], c='xkcd:red')\n",
    "plt.scatter(roi_cntrs[pz_prior,0], roi_cntrs[pz_prior,1], c='xkcd:rust')\n",
    "plt.title('Prior EZ Hypothesis', fontsize=15)\n",
    "plt.subplot(1,3,2)\n",
    "plt.scatter(roi_cntrs[hz_pred,0], roi_cntrs[hz_pred,1], c='xkcd:black', alpha=0.2)\n",
    "plt.scatter(roi_cntrs[ez_pred,0], roi_cntrs[ez_pred,1], c='xkcd:red')\n",
    "plt.scatter(roi_cntrs[pz_pred,0], roi_cntrs[pz_pred,1], c='xkcd:rust')\n",
    "plt.title('Model Prediction', fontsize=15)\n",
    "plt.subplot(1,3,3)\n",
    "plt.scatter(roi_cntrs[hz_gt,0], roi_cntrs[hz_gt,1], c='xkcd:black', alpha=0.2)\n",
    "plt.scatter(roi_cntrs[ez_gt,0], roi_cntrs[ez_gt,1], c='xkcd:red')\n",
    "plt.scatter(roi_cntrs[pz_gt,0], roi_cntrs[pz_gt,1], c='xkcd:rust')\n",
    "plt.title('Ground Truth', fontsize=20)\n",
    "plt.tight_layout()\n",
    "plt.savefig(os.path.join(figs_dir, 'prior_vs_pred_vs_gt_no_hypothesis.png'))"
   ]
  }
 ],
 "metadata": {
  "kernelspec": {
   "display_name": "python3.6",
   "language": "python",
   "name": "python3.6"
  },
  "language_info": {
   "codemirror_mode": {
    "name": "ipython",
    "version": 3
   },
   "file_extension": ".py",
   "mimetype": "text/x-python",
   "name": "python",
   "nbconvert_exporter": "python",
   "pygments_lexer": "ipython3",
   "version": "3.6.8"
  }
 },
 "nbformat": 4,
 "nbformat_minor": 4
}
