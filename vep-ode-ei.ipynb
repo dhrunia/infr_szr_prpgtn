{
 "cells": [
  {
   "cell_type": "code",
   "execution_count": 1,
   "metadata": {
    "autoscroll": false,
    "collapsed": false,
    "ein.tags": "worksheet-0",
    "slideshow": {
     "slide_type": "-"
    }
   },
   "outputs": [
    {
     "name": "stdout",
     "output_type": "stream",
     "text": [
      "Populating the interactive namespace from numpy and matplotlib\n"
     ]
    }
   ],
   "source": [
    "%pylab inline\n",
    "import lib\n",
    "lib.cmdstan_path('~/cmdstan-2.17.0');"
   ]
  },
  {
   "cell_type": "code",
   "execution_count": 2,
   "metadata": {
    "autoscroll": false,
    "collapsed": false,
    "ein.tags": "worksheet-0",
    "slideshow": {
     "slide_type": "-"
    }
   },
   "outputs": [
    {
     "data": {
      "text/plain": [
       "<matplotlib.image.AxesImage at 0x11133a128>"
      ]
     },
     "execution_count": 2,
     "metadata": {},
     "output_type": "execute_result"
    },
    {
     "data": {
      "image/png": "[encoded data removed]",
      "text/plain": [
       "<matplotlib.figure.Figure at 0x10f0bab70>"
      ]
     },
     "metadata": {},
     "output_type": "display_data"
    }
   ],
   "source": [
    "w = np.loadtxt('trec.d/weights.txt')\n",
    "n = 20\n",
    "w = w[-n:, -n:]\n",
    "np.fill_diagonal(w, 0)\n",
    "w /= w.max()\n",
    "imshow(w**0.2)"
   ]
  },
  {
   "cell_type": "code",
   "execution_count": 3,
   "metadata": {
    "autoscroll": false,
    "collapsed": false,
    "ein.tags": "worksheet-0",
    "slideshow": {
     "slide_type": "-"
    }
   },
   "outputs": [
    {
     "data": {
      "text/plain": [
       "array([ 0.02829672,  1.        ,  0.46665432,  0.74724602,  0.36267152,\n        0.23954777,  0.22894254,  0.12908265,  0.01939863,  0.04083457,\n        0.39024351,  0.59365941,  0.26231238,  0.35261386,  0.29623784,\n        0.12902628,  0.02626747,  0.04246924,  0.05761612,  0.06882529])"
      ]
     },
     "execution_count": 3,
     "metadata": {},
     "output_type": "execute_result"
    }
   ],
   "source": [
    "ei = w.sum(axis=0)\n",
    "ei /= ei.max()\n",
    "ei"
   ]
  },
  {
   "cell_type": "code",
   "execution_count": 4,
   "metadata": {
    "autoscroll": false,
    "collapsed": false,
    "ein.tags": "worksheet-0",
    "slideshow": {
     "slide_type": "-"
    }
   },
   "outputs": [],
   "source": [
    "data = {\n",
    "     \"n\": n,\n",
    "     \"ns\": 50,\n",
    "     \"T\": 10.0,\n",
    "     \"w\": w**0.5,\n",
    "     \"ei\": ei\n",
    "}\n",
    "lib.rdump('vep-ode-ei.R', data)"
   ]
  },
  {
   "cell_type": "markdown",
   "metadata": {
    "ein.tags": "worksheet-0",
    "slideshow": {
     "slide_type": "-"
    }
   },
   "source": [
    "Compile and check it runs on test data set"
   ]
  },
  {
   "cell_type": "code",
   "execution_count": 5,
   "metadata": {
    "autoscroll": false,
    "collapsed": false,
    "ein.tags": "worksheet-0",
    "slideshow": {
     "slide_type": "-"
    }
   },
   "outputs": [
    {
     "name": "stdout",
     "output_type": "stream",
     "text": [
      "make: `/Users/maedoc/Sources/TVB/VEP/vep-ode-ei' is up to date.\n"
     ]
    }
   ],
   "source": [
    "lib.compile_model('vep-ode-ei.stan')\n",
    "#!./vep-ode-ei optimize data file=vep-ode-ei.R output refresh=1"
   ]
  },
  {
   "cell_type": "code",
   "execution_count": 17,
   "metadata": {
    "autoscroll": false,
    "collapsed": false,
    "ein.tags": "worksheet-0",
    "slideshow": {
     "slide_type": "-"
    }
   },
   "outputs": [
    {
     "name": "stdout",
     "output_type": "stream",
     "text": [
      "^C\r\n"
     ]
    }
   ],
   "source": [
    "!for i in 1 2 ; do ./vep-ode-ei id=$i sample save_warmup=1 num_warmup=200 num_samples=200 data file=vep-ode-ei.R output refresh=1 file=vep-ode-ei.sample.$i.csv &> vep-ode-ei.sample.$i.out; done"
   ]
  },
  {
   "cell_type": "code",
   "execution_count": 7,
   "metadata": {
    "autoscroll": false,
    "collapsed": false,
    "ein.tags": "worksheet-0",
    "slideshow": {
     "slide_type": "-"
    }
   },
   "outputs": [
    {
     "data": {
      "text/plain": [
       "dict_keys(['lp__', 'accept_stat__', 'stepsize__', 'treedepth__', 'n_leapfrog__', 'divergent__', 'energy__', 'ic_xz', 'x0_', 'k_', 'k', 'x0', 'xz0', 'eih', 'xze'])"
      ]
     },
     "execution_count": 7,
     "metadata": {},
     "output_type": "execute_result"
    }
   ],
   "source": [
    "csv = lib.parse_csv('vep-ode-ei.sample.csv')\n",
    "globals().update(csv)\n",
    "xze = xze.reshape((4, 3, -1, data['ns']))\n",
    "csv.keys()"
   ]
  },
  {
   "cell_type": "code",
   "execution_count": 15,
   "metadata": {
    "autoscroll": false,
    "collapsed": false,
    "ein.tags": "worksheet-0",
    "slideshow": {
     "slide_type": "-"
    }
   },
   "outputs": [
    {
     "data": {
      "text/plain": [
       "(array([  1.,   2.,   3.,   0.,   0.,   4.,   2.,   2.,   3.,   1.,   5.,\n         12.,  18.,  13.,   4.,   4.,   4.,   7.,   9.,   0.,   0.,   0.,\n          0.,   0.,   0.,   0.,   0.,   0.,   1.,   5.]),\n array([ 0.00049212,  0.0004923 ,  0.00049249,  0.00049268,  0.00049287,\n         0.00049306,  0.00049325,  0.00049344,  0.00049363,  0.00049381,\n         0.000494  ,  0.00049419,  0.00049438,  0.00049457,  0.00049476,\n         0.00049495,  0.00049514,  0.00049533,  0.00049551,  0.0004957 ,\n         0.00049589,  0.00049608,  0.00049627,  0.00049646,  0.00049665,\n         0.00049684,  0.00049702,  0.00049721,  0.0004974 ,  0.00049759,\n         0.00049778]),\n <a list of 30 Patch objects>)"
      ]
     },
     "execution_count": 15,
     "metadata": {},
     "output_type": "execute_result"
    },
    {
     "data": {
      "image/png": "[encoded data removed]",
      "text/plain": [
       "<matplotlib.figure.Figure at 0x11a50d470>"
      ]
     },
     "metadata": {},
     "output_type": "display_data"
    }
   ],
   "source": [
    "hist(k, 30)"
   ]
  },
  {
   "cell_type": "code",
   "execution_count": 12,
   "metadata": {
    "autoscroll": false,
    "collapsed": false,
    "ein.tags": "worksheet-0",
    "slideshow": {
     "slide_type": "-"
    }
   },
   "outputs": [
    {
     "data": {
      "image/png": "[encoded data removed]",
      "text/plain": [
       "<matplotlib.figure.Figure at 0x119c359b0>"
      ]
     },
     "metadata": {},
     "output_type": "display_data"
    }
   ],
   "source": [
    "for i in range(4):\n",
    "    subplot(2, 2, i + 1)\n",
    "    x, z = transpose(xze[:, :2, i], (1, 0, 2))\n",
    "    plot(x.T, z.T, 'k', alpha=0.5)\n",
    "    x_ = x.flat[:]\n",
    "    plot(x, 3.1 - x * x * x - 2 * x * x, 'r.', alpha=0.2)\n",
    "    axis([-3, 1.0, 1, 7])\n",
    "    grid(1)"
   ]
  },
  {
   "cell_type": "code",
   "execution_count": null,
   "metadata": {
    "autoscroll": false,
    "collapsed": false,
    "ein.tags": "worksheet-0",
    "slideshow": {
     "slide_type": "-"
    }
   },
   "outputs": [],
   "source": []
  }
 ],
 "metadata": {
  "kernelspec": {
   "display_name": "Python 3",
   "name": "python3"
  },
  "language_info": {
   "codemirror_mode": {
    "name": "ipython",
    "version": 3
   },
   "file_extension": ".py",
   "mimetype": "text/x-python",
   "name": "python",
   "nbconvert_exporter": "python",
   "pygments_lexer": "ipython3",
   "version": "3.6.3"
  },
  "name": "vep-ode-ei.ipynb"
 },
 "nbformat": 4,
 "nbformat_minor": 2
}
