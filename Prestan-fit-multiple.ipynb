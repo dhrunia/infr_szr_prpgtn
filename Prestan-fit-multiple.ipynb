{
 "cells": [
  {
   "cell_type": "code",
   "execution_count": 1,
   "metadata": {},
   "outputs": [],
   "source": [
    "%matplotlib inline\n",
    "import numpy as np\n",
    "import lib.io.stan\n",
    "import lib.plots.stan\n",
    "import matplotlib.pyplot as plt\n",
    "import os\n",
    "from matplotlib.lines import Line2D\n",
    "import retro_prepare\n",
    "import matplotlib.colors\n",
    "import mne\n",
    "import pandas as pd\n",
    "import re\n",
    "import glob"
   ]
  },
  {
   "cell_type": "code",
   "execution_count": 2,
   "metadata": {},
   "outputs": [],
   "source": [
    "import json\n",
    "with open(f'../ANSM/util/data/ei-vep.json','r') as f:\n",
    "        ezh_all = json.load(f)"
   ]
  },
  {
   "cell_type": "code",
   "execution_count": 3,
   "metadata": {},
   "outputs": [],
   "source": [
    "pidlist=[pid for pid in ezh_all.keys()]"
   ]
  },
  {
   "cell_type": "code",
   "execution_count": 4,
   "metadata": {},
   "outputs": [
    {
     "data": {
      "text/plain": [
       "['id001_bt',\n",
       " 'id003_mg',\n",
       " 'id004_bj',\n",
       " 'id007_rd',\n",
       " 'id010_cmn',\n",
       " 'id013_lk',\n",
       " 'id014_vc',\n",
       " 'id017_mk',\n",
       " 'id020_lma',\n",
       " 'id021_jc',\n",
       " 'id022_te',\n",
       " 'id023_br',\n",
       " 'id025_mc',\n",
       " 'id027_sj',\n",
       " 'id028_ca',\n",
       " 'id030_bf',\n",
       " 'id033_fc',\n",
       " 'id036_dm',\n",
       " 'id037_cg',\n",
       " 'id039_mra',\n",
       " 'id040_ms',\n",
       " 'id050_sx',\n",
       " 'id008_dmc']"
      ]
     },
     "execution_count": 4,
     "metadata": {},
     "output_type": "execute_result"
    }
   ],
   "source": [
    "pidlist"
   ]
  },
  {
   "cell_type": "code",
   "execution_count": 7,
   "metadata": {},
   "outputs": [
    {
     "data": {
      "text/plain": [
       "['/home/hfw/Retro/datasets/id003_mg/seeg/fif/MGcrise1.bip.raw.fif',\n",
       " '/home/hfw/Retro/datasets/id003_mg/seeg/fif/MGcrise3_0000.bip.raw.fif',\n",
       " '/home/hfw/Retro/datasets/id003_mg/seeg/fif/MGcriseP2+G.bip.raw.fif']"
      ]
     },
     "execution_count": 7,
     "metadata": {},
     "output_type": "execute_result"
    }
   ],
   "source": [
    "raw_fnames"
   ]
  },
  {
   "cell_type": "code",
   "execution_count": 6,
   "metadata": {},
   "outputs": [
    {
     "name": "stdout",
     "output_type": "stream",
     "text": [
      "/home/hfw/Retro/datasets/id003_mg\n",
      "/home/hfw/Retro/datasets/id003_mg/seeg/fif/MGcrise1.bip.raw.fif\n",
      "Isotrak not found\n",
      "Isotrak not found\n",
      "/home/hfw/Retro/datasets/id003_mg/seeg/fif/MGcrise3_0000.bip.raw.fif\n",
      "Isotrak not found\n"
     ]
    },
    {
     "ename": "ValueError",
     "evalue": "The length of the input vector x must be at least padlen, which is 12.",
     "output_type": "error",
     "traceback": [
      "\u001b[0;31m---------------------------------------------------------------------------\u001b[0m",
      "\u001b[0;31mValueError\u001b[0m                                Traceback (most recent call last)",
      "\u001b[0;32m<ipython-input-6-e2ee7dbeacbb>\u001b[0m in \u001b[0;36m<module>\u001b[0;34m\u001b[0m\n\u001b[1;32m     33\u001b[0m         \u001b[0mlpf\u001b[0m \u001b[0;34m=\u001b[0m \u001b[0;36m0.02\u001b[0m\u001b[0;34m\u001b[0m\u001b[0;34m\u001b[0m\u001b[0m\n\u001b[1;32m     34\u001b[0m         \u001b[0mraw_seeg_fname\u001b[0m \u001b[0;34m=\u001b[0m \u001b[0;34mf'{szr_name}.raw.fif'\u001b[0m\u001b[0;34m\u001b[0m\u001b[0;34m\u001b[0m\u001b[0m\n\u001b[0;32m---> 35\u001b[0;31m         \u001b[0mdata\u001b[0m \u001b[0;34m=\u001b[0m \u001b[0mretro_prepare\u001b[0m\u001b[0;34m.\u001b[0m\u001b[0mprepare_data_bip\u001b[0m\u001b[0;34m(\u001b[0m\u001b[0mdata_dir\u001b[0m\u001b[0;34m,\u001b[0m \u001b[0mmeta_data_fname\u001b[0m\u001b[0;34m,\u001b[0m \u001b[0mraw_seeg_fname\u001b[0m\u001b[0;34m,\u001b[0m \u001b[0mszr_name\u001b[0m\u001b[0;34m,\u001b[0m \u001b[0mhpf\u001b[0m\u001b[0;34m,\u001b[0m \u001b[0mlpf\u001b[0m\u001b[0;34m)\u001b[0m\u001b[0;34m\u001b[0m\u001b[0;34m\u001b[0m\u001b[0m\n\u001b[0m\u001b[1;32m     36\u001b[0m         \u001b[0mseeg\u001b[0m\u001b[0;34m,\u001b[0m \u001b[0mbip\u001b[0m \u001b[0;34m=\u001b[0m \u001b[0mretro_prepare\u001b[0m\u001b[0;34m.\u001b[0m\u001b[0mread_one_seeg\u001b[0m\u001b[0;34m(\u001b[0m\u001b[0mdata_dir\u001b[0m\u001b[0;34m,\u001b[0m \u001b[0mmeta_data_fname\u001b[0m\u001b[0;34m,\u001b[0m \u001b[0mraw_seeg_fname\u001b[0m\u001b[0;34m)\u001b[0m\u001b[0;34m\u001b[0m\u001b[0;34m\u001b[0m\u001b[0m\n\u001b[1;32m     37\u001b[0m         \u001b[0mslp\u001b[0m \u001b[0;34m=\u001b[0m \u001b[0mretro_prepare\u001b[0m\u001b[0;34m.\u001b[0m\u001b[0mcompute_slp\u001b[0m\u001b[0;34m(\u001b[0m\u001b[0mseeg\u001b[0m\u001b[0;34m,\u001b[0m \u001b[0mbip\u001b[0m\u001b[0;34m,\u001b[0m \u001b[0mhpf\u001b[0m\u001b[0;34m,\u001b[0m \u001b[0mlpf\u001b[0m\u001b[0;34m)\u001b[0m\u001b[0;34m\u001b[0m\u001b[0;34m\u001b[0m\u001b[0m\n",
      "\u001b[0;32m~/vepsoft/vep-benchmark/retro_prepare.py\u001b[0m in \u001b[0;36mprepare_data_bip\u001b[0;34m(data_dir, meta_data_fname, raw_seeg_fname, fname_suffix, hpf, lpf)\u001b[0m\n\u001b[1;32m    310\u001b[0m     \u001b[0mgain\u001b[0m \u001b[0;34m=\u001b[0m \u001b[0mnp\u001b[0m\u001b[0;34m.\u001b[0m\u001b[0mload\u001b[0m\u001b[0;34m(\u001b[0m\u001b[0;34mf'{data_dir}/seeg/fif/{fname_suffix}.gain.npy'\u001b[0m\u001b[0;34m)\u001b[0m\u001b[0;34m\u001b[0m\u001b[0;34m\u001b[0m\u001b[0m\n\u001b[1;32m    311\u001b[0m     \u001b[0;31m# Compute seeg log power\u001b[0m\u001b[0;34m\u001b[0m\u001b[0;34m\u001b[0m\u001b[0;34m\u001b[0m\u001b[0m\n\u001b[0;32m--> 312\u001b[0;31m     \u001b[0mslp\u001b[0m \u001b[0;34m=\u001b[0m \u001b[0mcompute_slp\u001b[0m\u001b[0;34m(\u001b[0m\u001b[0mseeg\u001b[0m\u001b[0;34m,\u001b[0m \u001b[0mbip\u001b[0m\u001b[0;34m,\u001b[0m \u001b[0mhpf\u001b[0m\u001b[0;34m,\u001b[0m \u001b[0mlpf\u001b[0m\u001b[0;34m)\u001b[0m\u001b[0;34m\u001b[0m\u001b[0;34m\u001b[0m\u001b[0m\n\u001b[0m\u001b[1;32m    313\u001b[0m     data = {\n\u001b[1;32m    314\u001b[0m         \u001b[0;34m'SC'\u001b[0m\u001b[0;34m:\u001b[0m \u001b[0mSC\u001b[0m\u001b[0;34m,\u001b[0m\u001b[0;34m\u001b[0m\u001b[0;34m\u001b[0m\u001b[0m\n",
      "\u001b[0;32m~/vepsoft/vep-benchmark/retro_prepare.py\u001b[0m in \u001b[0;36mcompute_slp\u001b[0;34m(seeg, bip, hpf, lpf, filter_order)\u001b[0m\n\u001b[1;32m    129\u001b[0m     \u001b[0;31m# High pass filter the data\u001b[0m\u001b[0;34m\u001b[0m\u001b[0;34m\u001b[0m\u001b[0;34m\u001b[0m\u001b[0m\n\u001b[1;32m    130\u001b[0m     slp = lib.preprocess.envelope.bfilt(\n\u001b[0;32m--> 131\u001b[0;31m         slp, seeg['sfreq'], hpf, 'highpass', axis=0)\n\u001b[0m\u001b[1;32m    132\u001b[0m     \u001b[0;31m# Compute seeg log power\u001b[0m\u001b[0;34m\u001b[0m\u001b[0;34m\u001b[0m\u001b[0;34m\u001b[0m\u001b[0m\n\u001b[1;32m    133\u001b[0m     \u001b[0mslp\u001b[0m \u001b[0;34m=\u001b[0m \u001b[0mlib\u001b[0m\u001b[0;34m.\u001b[0m\u001b[0mpreprocess\u001b[0m\u001b[0;34m.\u001b[0m\u001b[0menvelope\u001b[0m\u001b[0;34m.\u001b[0m\u001b[0mseeg_log_power\u001b[0m\u001b[0;34m(\u001b[0m\u001b[0mslp\u001b[0m\u001b[0;34m,\u001b[0m \u001b[0;36m100\u001b[0m\u001b[0;34m)\u001b[0m\u001b[0;34m\u001b[0m\u001b[0;34m\u001b[0m\u001b[0m\n",
      "\u001b[0;32m~/vepsoft/vep-benchmark/lib/preprocess/envelope.py\u001b[0m in \u001b[0;36mbfilt\u001b[0;34m(data, samp_rate, fs, mode, order, axis)\u001b[0m\n\u001b[1;32m      5\u001b[0m \u001b[0;32mdef\u001b[0m \u001b[0mbfilt\u001b[0m\u001b[0;34m(\u001b[0m\u001b[0mdata\u001b[0m\u001b[0;34m,\u001b[0m \u001b[0msamp_rate\u001b[0m\u001b[0;34m,\u001b[0m \u001b[0mfs\u001b[0m\u001b[0;34m,\u001b[0m \u001b[0mmode\u001b[0m\u001b[0;34m,\u001b[0m \u001b[0morder\u001b[0m\u001b[0;34m=\u001b[0m\u001b[0;36m3\u001b[0m\u001b[0;34m,\u001b[0m \u001b[0maxis\u001b[0m \u001b[0;34m=\u001b[0m \u001b[0;34m-\u001b[0m\u001b[0;36m1\u001b[0m\u001b[0;34m)\u001b[0m\u001b[0;34m:\u001b[0m\u001b[0;34m\u001b[0m\u001b[0;34m\u001b[0m\u001b[0m\n\u001b[1;32m      6\u001b[0m     \u001b[0mb\u001b[0m\u001b[0;34m,\u001b[0m \u001b[0ma\u001b[0m \u001b[0;34m=\u001b[0m \u001b[0msignal\u001b[0m\u001b[0;34m.\u001b[0m\u001b[0mbutter\u001b[0m\u001b[0;34m(\u001b[0m\u001b[0morder\u001b[0m\u001b[0;34m,\u001b[0m \u001b[0;36m2\u001b[0m\u001b[0;34m*\u001b[0m\u001b[0mfs\u001b[0m\u001b[0;34m/\u001b[0m\u001b[0msamp_rate\u001b[0m\u001b[0;34m,\u001b[0m \u001b[0mmode\u001b[0m\u001b[0;34m)\u001b[0m\u001b[0;34m\u001b[0m\u001b[0;34m\u001b[0m\u001b[0m\n\u001b[0;32m----> 7\u001b[0;31m     \u001b[0;32mreturn\u001b[0m \u001b[0msignal\u001b[0m\u001b[0;34m.\u001b[0m\u001b[0mfiltfilt\u001b[0m\u001b[0;34m(\u001b[0m\u001b[0mb\u001b[0m\u001b[0;34m,\u001b[0m \u001b[0ma\u001b[0m\u001b[0;34m,\u001b[0m \u001b[0mdata\u001b[0m\u001b[0;34m,\u001b[0m \u001b[0maxis\u001b[0m\u001b[0;34m)\u001b[0m\u001b[0;34m\u001b[0m\u001b[0;34m\u001b[0m\u001b[0m\n\u001b[0m\u001b[1;32m      8\u001b[0m \u001b[0;34m\u001b[0m\u001b[0m\n\u001b[1;32m      9\u001b[0m \u001b[0;34m\u001b[0m\u001b[0m\n",
      "\u001b[0;32m/opt/conda/envs/jhub/lib/python3.7/site-packages/scipy/signal/signaltools.py\u001b[0m in \u001b[0;36mfiltfilt\u001b[0;34m(b, a, x, axis, padtype, padlen, method, irlen)\u001b[0m\n\u001b[1;32m   3097\u001b[0m     \u001b[0;31m# method == \"pad\"\u001b[0m\u001b[0;34m\u001b[0m\u001b[0;34m\u001b[0m\u001b[0;34m\u001b[0m\u001b[0m\n\u001b[1;32m   3098\u001b[0m     edge, ext = _validate_pad(padtype, padlen, x, axis,\n\u001b[0;32m-> 3099\u001b[0;31m                               ntaps=max(len(a), len(b)))\n\u001b[0m\u001b[1;32m   3100\u001b[0m \u001b[0;34m\u001b[0m\u001b[0m\n\u001b[1;32m   3101\u001b[0m     \u001b[0;31m# Get the steady state of the filter's step response.\u001b[0m\u001b[0;34m\u001b[0m\u001b[0;34m\u001b[0m\u001b[0;34m\u001b[0m\u001b[0m\n",
      "\u001b[0;32m/opt/conda/envs/jhub/lib/python3.7/site-packages/scipy/signal/signaltools.py\u001b[0m in \u001b[0;36m_validate_pad\u001b[0;34m(padtype, padlen, x, axis, ntaps)\u001b[0m\n\u001b[1;32m   3147\u001b[0m     \u001b[0;32mif\u001b[0m \u001b[0mx\u001b[0m\u001b[0;34m.\u001b[0m\u001b[0mshape\u001b[0m\u001b[0;34m[\u001b[0m\u001b[0maxis\u001b[0m\u001b[0;34m]\u001b[0m \u001b[0;34m<=\u001b[0m \u001b[0medge\u001b[0m\u001b[0;34m:\u001b[0m\u001b[0;34m\u001b[0m\u001b[0;34m\u001b[0m\u001b[0m\n\u001b[1;32m   3148\u001b[0m         raise ValueError(\"The length of the input vector x must be at least \"\n\u001b[0;32m-> 3149\u001b[0;31m                          \"padlen, which is %d.\" % edge)\n\u001b[0m\u001b[1;32m   3150\u001b[0m \u001b[0;34m\u001b[0m\u001b[0m\n\u001b[1;32m   3151\u001b[0m     \u001b[0;32mif\u001b[0m \u001b[0mpadtype\u001b[0m \u001b[0;32mis\u001b[0m \u001b[0;32mnot\u001b[0m \u001b[0;32mNone\u001b[0m \u001b[0;32mand\u001b[0m \u001b[0medge\u001b[0m \u001b[0;34m>\u001b[0m \u001b[0;36m0\u001b[0m\u001b[0;34m:\u001b[0m\u001b[0;34m\u001b[0m\u001b[0;34m\u001b[0m\u001b[0m\n",
      "\u001b[0;31mValueError\u001b[0m: The length of the input vector x must be at least padlen, which is 12."
     ]
    }
   ],
   "source": [
    "for pid in ['id003_mg']:#pidlist[2:3]:\n",
    "    pid_dir = f'/home/hfw/Retro/datasets/{pid}'\n",
    "\n",
    "    print(pid_dir)\n",
    "    raw_fnames = glob.glob(f'{pid_dir}/seeg/fif/*.bip.raw.fif')\n",
    "    data_dir = f'/home/hfw/Retro/datasets/{pid}'\n",
    "\n",
    "    results_dir = f'/home/hfw/Retro/results/{pid}'\n",
    "\n",
    "\n",
    "    nchan=162\n",
    "\n",
    "\n",
    "    #ezh=np.zeros([nchan,1])\n",
    "\n",
    "    #ezh[ezh_all[pid]['i_ez']]=1\n",
    "\n",
    "\n",
    "    # In[14]:\n",
    "\n",
    "    for raw_fname in raw_fnames:\n",
    "        print(raw_fname)\n",
    "        basicfilename=raw_fname.split('.bip')[0]\n",
    "        szr_name =basicfilename.split('fif/')[1]\n",
    "        meta_data_fname = f'{szr_name}.json'\n",
    "        #raw_seeg_fname = f'{szr_name}.raw.fif'\n",
    "        fname_suffix = f'{szr_name}'\n",
    "        os.makedirs(results_dir,exist_ok=True)\n",
    "        os.makedirs(f'{results_dir}/logs',exist_ok=True)\n",
    "        os.makedirs(f'{results_dir}/figures',exist_ok=True)\n",
    "        os.makedirs(f'{results_dir}/Rfiles', exist_ok=True)\n",
    "        hpf = 10\n",
    "        lpf = 0.02\n",
    "        raw_seeg_fname = f'{szr_name}.raw.fif'\n",
    "        data = retro_prepare.prepare_data_bip(data_dir, meta_data_fname, raw_seeg_fname, szr_name, hpf, lpf)\n",
    "        seeg, bip = retro_prepare.read_one_seeg(data_dir, meta_data_fname, raw_seeg_fname)\n",
    "        slp = retro_prepare.compute_slp(seeg, bip, hpf, lpf)\n",
    "        all_fb_d0=np.load(f'{results_dir}/EZdelay/ez_prior_{szr_name}.npy')\n",
    "\n",
    "        d0_prior=np.mean(all_fb_d0,axis=0)\n",
    "        ez_prior=np.where(d0_prior>0.5)\n",
    "\n",
    "        ds_freq = int(data['slp'].shape[0]/150)\n",
    "        data['slp'] = data['slp'][0:-1:ds_freq]\n",
    "        data['snsr_pwr'] = (data['slp']**2).mean(axis=0)\n",
    "        data['ns'], data['nn'] = data['gain'].shape\n",
    "        data['nt'] = data['slp'].shape[0]\n",
    "        ez_hyp = np.where(np.loadtxt(f'{data_dir}/tvb/ez_hypothesis.vep.txt') == 1)[0]\n",
    "        data['x0_mu'] = -3.0*np.ones(data['nn'])\n",
    "        fname_suffix += f'_hpf{hpf}_lpf{lpf}_ezdelay'\n",
    "        data['x0_mu'][ez_prior[0]] = -1.5\n",
    "        stan_fname = 'szr_prpgtn'\n",
    "\n",
    "        x0 = data['x0_mu']\n",
    "        amplitude = 1.0 \n",
    "        offset = 0\n",
    "        K = 1.0\n",
    "        tau0 = 20\n",
    "        eps_slp = 1.0\n",
    "        eps_snsr_pwr = 1.0\n",
    "        x_init = -2.0*np.ones(data['nn'])\n",
    "        z_init = 3.5*np.ones(data['nn'])\n",
    "\n",
    "        param_init = {'x0':x0, 'amplitude':amplitude,\n",
    "              'offset':offset, 'K':K, 'tau0':tau0, 'x_init':x_init, 'z_init':z_init,\n",
    "              'eps_slp':eps_slp, 'eps_snsr_pwr':eps_snsr_pwr}\n",
    "\n",
    "        param_init_file = 'param_init.R'\n",
    "        os.makedirs(f'{results_dir}/Rfiles',exist_ok=True)\n",
    "        lib.io.stan.rdump(f'{results_dir}/Rfiles/param_init.R',param_init)\n",
    "\n",
    "        input_Rfile = f'fit_data_{fname_suffix}.R'\n",
    "        os.makedirs(f'{results_dir}/Rfiles',exist_ok=True)\n",
    "        lib.io.stan.rdump(f'{results_dir}/Rfiles/{input_Rfile}',data)\n"
   ]
  },
  {
   "cell_type": "code",
   "execution_count": 198,
   "metadata": {},
   "outputs": [
    {
     "name": "stdout",
     "output_type": "stream",
     "text": [
      "id008_dmc\n",
      "4\n",
      "DMC_criseGS_161111M-AEX_0007\n"
     ]
    }
   ],
   "source": [
    "hpf = 10\n",
    "lpf = 0.02\n",
    "pid = pidlist[22]\n",
    "print(pid)\n",
    "pid_dir = f'/home/hfw/Retro/datasets/{pid}'\n",
    "raw_fnames = glob.glob(f'{pid_dir}/seeg/fif/*.bip.raw.fif')\n",
    "print(len(raw_fnames))\n",
    "raw_fname=raw_fnames[3]\n",
    "basicfilename=raw_fname.split('.bip')[0]\n",
    "szr_name =basicfilename.split('fif/')[1]\n",
    "        \n",
    "stan_fname = 'szr_prpgtn'\n",
    "results_dir = f'/home/hfw/Retro/results/{pid}'\n",
    "fname_suffix = f'{szr_name}_hpf{hpf}_lpf{lpf}_ezdelay'\n",
    "input_Rfile = f'fit_data_{fname_suffix}.R'\n",
    "print(szr_name)\n",
    "\n",
    "\n",
    "\n",
    "\n"
   ]
  },
  {
   "cell_type": "code",
   "execution_count": 199,
   "metadata": {},
   "outputs": [],
   "source": [
    "%%bash -s \"$stan_fname\" \"$results_dir\" \"$input_Rfile\" \"$fname_suffix\"\n",
    "\n",
    "STAN_FNAME=$1\n",
    "RESULTS_DIR=$2\n",
    "INPUT_RFILE=$3\n",
    "FNAME_SUFFIX=$4\n",
    "\n",
    "for i in {1..2};\n",
    "do\n",
    "./${STAN_FNAME} optimize algorithm=lbfgs tol_param=1e-4 iter=20000 save_iterations=0  \\\n",
    "data file=${RESULTS_DIR}/Rfiles/${INPUT_RFILE} \\\n",
    "init=${RESULTS_DIR}/Rfiles/param_init.R \\\n",
    "output file=${RESULTS_DIR}/samples_${FNAME_SUFFIX}_chain${i}.csv refresh=10 \\\n",
    "&> ${RESULTS_DIR}/logs/snsrfit_ode_${FNAME_SUFFIX}_chain${i}.log &\n",
    "done"
   ]
  },
  {
   "cell_type": "code",
   "execution_count": 8,
   "metadata": {},
   "outputs": [],
   "source": []
  },
  {
   "cell_type": "code",
   "execution_count": 9,
   "metadata": {},
   "outputs": [],
   "source": [
    "#stan_fname = 'vep-snsrfit-ode-nointerp'\n"
   ]
  },
  {
   "cell_type": "code",
   "execution_count": 10,
   "metadata": {},
   "outputs": [],
   "source": [
    "#%%bash -s \"$stan_fname\" \n",
    "\n",
    "#stancompile.sh $1"
   ]
  },
  {
   "cell_type": "code",
   "execution_count": 11,
   "metadata": {},
   "outputs": [],
   "source": []
  },
  {
   "cell_type": "code",
   "execution_count": null,
   "metadata": {},
   "outputs": [],
   "source": []
  },
  {
   "cell_type": "code",
   "execution_count": null,
   "metadata": {},
   "outputs": [],
   "source": []
  }
 ],
 "metadata": {
  "kernelspec": {
   "display_name": "Python 3",
   "language": "python",
   "name": "python3"
  },
  "language_info": {
   "codemirror_mode": {
    "name": "ipython",
    "version": 3
   },
   "file_extension": ".py",
   "mimetype": "text/x-python",
   "name": "python",
   "nbconvert_exporter": "python",
   "pygments_lexer": "ipython3",
   "version": "3.7.1"
  }
 },
 "nbformat": 4,
 "nbformat_minor": 2
}
