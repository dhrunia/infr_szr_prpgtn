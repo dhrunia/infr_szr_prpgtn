{
 "cells": [
  {
   "cell_type": "code",
   "execution_count": null,
   "metadata": {
    "collapsed": true
   },
   "outputs": [],
   "source": [
    "%matplotlib inline\n",
    "import numpy as np\n",
    "import lib.io.stan\n",
    "import lib.syn_data\n",
    "import matplotlib.pyplot as plt"
   ]
  },
  {
   "cell_type": "code",
   "execution_count": null,
   "metadata": {},
   "outputs": [],
   "source": [
    "np.random.seed(0)\n",
    "nn = 5\n",
    "SC = lib.syn_data.gen_con(nn)\n",
    "# SC = np.zeros([nn,nn])\n",
    "# SC[4,:] = 0.0\n",
    "# SC[4,2] = 1.0\n",
    "# SC[1,4] = 0.05\n",
    "im = plt.imshow(SC)\n",
    "plt.xticks(np.arange(0,nn),map(str,np.arange(1,nn+1)))\n",
    "plt.yticks(np.arange(0,nn),map(str,np.arange(1,nn+1)))\n",
    "plt.colorbar(fraction=0.046, pad=0.04)\n",
    "plt.gca().set_title(\"Structural Connectivity\",fontweight=\"bold\")\n",
    "\n",
    "np.savez('results/exp2/network.npz', SC=SC)"
   ]
  },
  {
   "cell_type": "code",
   "execution_count": null,
   "metadata": {
    "scrolled": true
   },
   "outputs": [],
   "source": [
    "I1 = 3.1\n",
    "tau0 = 30.0\n",
    "sigma = 0.0001\n",
    "k = -2.0\n",
    "Ic = np.zeros(nn)\n",
    "\n",
    "x0 = -2.5*np.ones(nn)\n",
    "x0[2] = -1.8\n",
    "x0[4] = -2.2\n",
    "time_scale = 1.0\n",
    "time_step = 0.1\n",
    "nt = 500*int(1/time_step)\n",
    "sigma_xobs = 0.1\n",
    "sigma_zobs = 0.1\n",
    "\n",
    "x_init = -0.5*np.ones(nn)\n",
    "z_init = 1.5*np.ones(nn)\n",
    "z_eta = np.random.normal(0.0, 1.0, [nt-1, nn])\n",
    "\n",
    "data = {'nn':nn, 'nt':nt, 'I1':I1, 'tau0':tau0, 'Ic':Ic, 'SC':SC, \n",
    "        'sigma':sigma, 'k':k, 'sigma_xobs':sigma_xobs,'sigma_zobs':sigma_zobs,        \n",
    "        'x0':x0, 'time_scale':time_scale, 'time_step':time_step,\n",
    "        'x_init':x_init, 'z_init':z_init, 'z_eta': z_eta}\n",
    "\n",
    "lib.io.stan.rdump('results/exp2/sim_data.R',data)\n",
    "\n",
    "stan_fname = './vep-srcfit-sim'\n",
    "lib.io.stan.create_process(['bash','/home/anirudhnihalani/scripts/stancompile.sh', stan_fname],block=True)\n",
    "sim_cmd = stan_fname +' sample algorithm=fixed_param num_samples=1 num_warmup=0 data \\\n",
    "file=results/exp2/sim_data.R output file=results/exp2/sim_out.csv'\n",
    "lib.io.stan.create_process(sim_cmd.split(),block=True)"
   ]
  },
  {
   "cell_type": "code",
   "execution_count": null,
   "metadata": {},
   "outputs": [],
   "source": [
    "t = lib.io.stan.parse_csv('results/exp2/sim_out.csv')\n",
    "x = t['x'][0]\n",
    "z = t['z'][0]\n",
    "xobs = t['xobs'][0]\n",
    "zobs = t['zobs'][0]\n",
    "\n",
    "\n",
    "plt.figure(figsize=[15,4])\n",
    "plt.subplot(121)\n",
    "for i in range(nn):\n",
    "    plt.plot(x.T[:,i]/4.0 + i,label=f'node{i+1}',color='black')\n",
    "plt.yticks(np.mean(x.T/4.0 + np.arange(nn),axis=0), map(lambda x: f'node {x}',np.arange(1,nn+1)))\n",
    "plt.xlabel('time')\n",
    "plt.gca().set_title('x',fontsize=15.0)\n",
    "plt.subplot(122)\n",
    "for i in range(nn):\n",
    "    plt.plot(z.T[:,i]/4.0 + i,label=f'node{i}',color='black')\n",
    "plt.yticks(np.mean(z.T/4.0 + np.arange(nn),axis=0), map(lambda x: f'node {x}',np.arange(1,nn+1)))\n",
    "plt.xlabel('time')\n",
    "plt.gca().set_title('z',fontsize=15.0)\n",
    "plt.suptitle('Source Signals')\n",
    "\n",
    "\n",
    "plt.figure(figsize=[15,4])\n",
    "plt.subplot(121)\n",
    "for i in range(nn):\n",
    "    plt.plot(xobs.T[:,i]/4.0 + i,label=f'node{i+1}',color='black')\n",
    "plt.yticks(np.mean(xobs.T/4.0 + np.arange(nn),axis=0), map(lambda x: f'node {x}',np.arange(1,nn+1)))\n",
    "plt.xlabel('time')\n",
    "plt.gca().set_title('x',fontsize=15.0)\n",
    "plt.subplot(122)\n",
    "for i in range(nn):\n",
    "    plt.plot(zobs.T[:,i]/4.0 + i,label=f'node{i}',color='black')\n",
    "plt.yticks(np.mean(zobs.T/4.0 + np.arange(nn),axis=0), map(lambda x: f'node {x}',np.arange(1,nn+1)))\n",
    "plt.xlabel('time')\n",
    "plt.gca().set_title('z',fontsize=15.0)\n",
    "plt.suptitle('Observed source signals')"
   ]
  },
  {
   "cell_type": "code",
   "execution_count": null,
   "metadata": {},
   "outputs": [],
   "source": [
    "plt.figure(figsize=[15,3])\n",
    "for i in range(nn):\n",
    "    plt.subplot(1,5,i+1)\n",
    "    plt.plot(x[i,:],'k')\n",
    "    plt.xlabel('time')\n",
    "    plt.ylabel('x',fontsize=15.0)\n",
    "    plt.ylim([-3.0,1.0])\n",
    "    plt.gca().set_title(f'node {i+1}')\n",
    "    \n",
    "    \n",
    "plt.tight_layout()\n",
    "plt.figure(figsize=[15,3])\n",
    "for i in range(nn):\n",
    "    plt.subplot(1,5,i+1)\n",
    "    plt.plot(z[i,:],'k')\n",
    "    plt.xlabel('time')\n",
    "    plt.ylabel('z',fontsize=15.0)\n",
    "    plt.ylim([2.0,5.0])\n",
    "    plt.gca().set_title(f'node {i+1}')\n",
    "plt.tight_layout()"
   ]
  },
  {
   "cell_type": "code",
   "execution_count": null,
   "metadata": {},
   "outputs": [],
   "source": [
    "data = {'nn':nn, 'nt':nt, 'I1':I1, 'tau0':tau0, 'Ic':Ic, 'SC':SC, \n",
    "        'sigma':sigma, 'k':k, 'sigma_xobs':sigma_xobs,        \n",
    "        'x0':x0, 'time_scale':time_scale, 'time_step':time_step,\n",
    "        'x_init':x_init, 'z_init':z_init, 'z_eta': z_eta, 'xobs': xobs.T}\n",
    "\n",
    "lib.io.stan.rdump('results/exp2/fit_data.R',data)\n",
    "\n",
    "stan_fname = './vep-srcfit'\n",
    "lib.io.stan.create_process(['bash','/home/anirudhnihalani/scripts/stancompile.sh', stan_fname],block=True)\n",
    "\n",
    "results_dir = 'results/exp2'\n",
    "nchains = 8\n",
    "with open('vep-srcfit.sh','r') as fd:\n",
    "    slurm_script = fd.read().format(results_dir,nchains)\n",
    "with open('tmp/vep-srcfit.sh','w') as fd:\n",
    "    fd.write(slurm_script)\n",
    "lib.io.stan.create_process(['sbatch','tmp/vep-srcfit.sh'],block=False)\n"
   ]
  }
 ],
 "metadata": {
  "kernelspec": {
   "display_name": "Python 3",
   "language": "python",
   "name": "python3"
  },
  "language_info": {
   "codemirror_mode": {
    "name": "ipython",
    "version": 3
   },
   "file_extension": ".py",
   "mimetype": "text/x-python",
   "name": "python",
   "nbconvert_exporter": "python",
   "pygments_lexer": "ipython3",
   "version": "3.6.2"
  }
 },
 "nbformat": 4,
 "nbformat_minor": 2
}
