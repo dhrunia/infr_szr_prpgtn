{
 "cells": [
  {
   "cell_type": "code",
   "execution_count": null,
   "metadata": {},
   "outputs": [],
   "source": [
    "import numpy as np\n",
    "import lib.io.stan\n",
    "\n",
    "np.random.seed(0)\n",
    "data_dir = 'datasets/id001_ac/'\n",
    "\n",
    "ntwrk = np.load(f'{data_dir}/AC_network.npz')\n",
    "SC = ntwrk['SC']\n",
    "gain = ntwrk['gain_mat']\n",
    "sim_data_6d = np.load(f'{data_dir}/AC_syn_tvb_ez=59_pz=82-74.npz')\n",
    "\n",
    "nn = SC.shape[0]\n",
    "ns  = gain.shape[0]\n",
    "nt = 10000\n",
    "I1 = 3.1\n",
    "tau0 = 1600.0\n",
    "x0 = sim_data_6d['x0']\n",
    "time_scale = 1.0\n",
    "time_step = 0.5\n",
    "sigma = 0.01\n",
    "k = 1.0\n",
    "epsilon = 0.01\n",
    "x_init = -0.5*np.ones(nn)\n",
    "z_init = 1.5*np.ones(nn)\n",
    "z_eta = np.random.normal(size = (nt-1, nn))\n",
    "\n",
    "data = {'nn':nn, 'ns':ns, 'nt':nt, 'I1':I1, 'tau0':tau0, 'SC':SC, 'gain':gain,\n",
    "        'x0':x0, 'time_scale':time_scale, 'time_step':time_step, 'sigma':sigma,\n",
    "        'k':k, 'epsilon':epsilon, 'x_init':x_init, 'z_init':z_init, 'z_eta':z_eta}\n",
    "\n",
    "lib.io.stan.rdump('./tmp/tmp.R',data)\n",
    "\n",
    "! /home/anirudhnihalani/scripts/stancompile.sh vep-forwardsim-2Depileptor\n",
    "\n",
    "! ./vep-forwardsim-2Depileptor sample num_warmup=0 num_samples=1 algorithm=fixed_param data file='tmp/tmp.R' output file='tmp/tmp.csv'"
   ]
  }
 ],
 "metadata": {
  "kernelspec": {
   "display_name": "Python 3",
   "language": "python",
   "name": "python3"
  },
  "language_info": {
   "codemirror_mode": {
    "name": "ipython",
    "version": 3
   },
   "file_extension": ".py",
   "mimetype": "text/x-python",
   "name": "python",
   "nbconvert_exporter": "python",
   "pygments_lexer": "ipython3",
   "version": "3.6.2"
  }
 },
 "nbformat": 4,
 "nbformat_minor": 2
}
