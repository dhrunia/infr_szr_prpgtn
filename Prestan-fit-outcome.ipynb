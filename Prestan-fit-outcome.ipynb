{
 "cells": [
  {
   "cell_type": "code",
   "execution_count": 1,
   "metadata": {},
   "outputs": [],
   "source": [
    "%matplotlib inline\n",
    "import numpy as np\n",
    "import lib.io.stan\n",
    "import lib.plots.stan\n",
    "import matplotlib.pyplot as plt\n",
    "import os\n",
    "from matplotlib.lines import Line2D\n",
    "import retro_prepare\n",
    "import matplotlib.colors"
   ]
  },
  {
   "cell_type": "code",
   "execution_count": 125,
   "metadata": {},
   "outputs": [],
   "source": [
    "#patient_id = 'id001_bt'\n",
    "#patient_id = 'id003_mg'\n",
    "\n",
    "\n",
    "patient_id = 'id004_bj'\n",
    "szr_name = 'BJcrise1le161128B-BEX_0002'\n",
    "\n",
    "\n",
    "patient_id = 'id010_cmn'\n",
    "szr_name = 'CMN_crise4P_140320B-DEX_0008'\n",
    "\n",
    "\n",
    "\n",
    "patient_id = 'id017_mk'\n",
    "szr_name = \"MK_crise1Part1_170328C-BEX_0004_MK_crise1Part2_170328C-BEX_0007\"\n",
    "\n",
    "\n",
    "patient_id = 'id020_lma'\n",
    "szr_name = 'LM_crise3P_100415b-bex_0005'\n",
    "\n",
    "patient_id = 'id025_mc'\n",
    "szr_name = 'MC_C1_Part1_080429ccex_0002_MC_C1_Part2_080429ccex_0003'\n",
    "\n",
    "patient_id = 'id050_sx'\n",
    "szr_name = 'SX_C4P_111202C-EEX_0002'\n",
    "\n",
    "\n",
    "patient_id = 'id022_te'\n",
    "szr_name = 'TE_crise2P_130306C-BEX_0000'\n",
    "\n",
    "\n",
    "patient_id = 'id027_sj'\n",
    "szr_name = 'SJ_crise1PSG_120214D-CEX_0003'\n",
    "\n",
    "\n",
    "patient_id = 'id030_bf'\n",
    "szr_name = 'BF_crise1P_110831B-CEX_0004'\n",
    "\n",
    "patient_id = 'id039_mra'\n",
    "szr_name = 'MR_C4P_170124b-cex_0028'\n",
    "\n",
    "\n",
    "\n",
    "patient_id = 'id013_lk'\n",
    "szr_name = 'LK_crise1P_160707A-AEX_0013'\n",
    "\n",
    "\n",
    "patient_id = 'id014_vc'\n",
    "szr_name = 'VC_crise2P_131127C-EEX_0002'\n",
    "\n",
    "\n",
    "patient_id = 'id003_mg'\n",
    "szr_name = 'MGcrise1'\n",
    "\n",
    "patient_id = 'id001_bt'\n",
    "szr_name = 'BTcrise2appportable_0013'\n",
    "\n",
    "\n",
    "\n",
    "patient_id = 'id007_rd'\n",
    "szr_name = 'RDcrise1_170310B-BEX_0011'\n",
    "\n",
    "patient_id = 'id008_dmc'\n",
    "szr_name = 'DMC_criseGS_161111M-AEX_0007'\n",
    "\n",
    "\n",
    "patient_id = 'id021_jc'\n",
    "szr_name = 'JC_crise1P_120705C-BEX_0004'\n",
    "\n",
    "patient_id = 'id023_br'\n",
    "szr_name = 'BR_crise1_PSG_130312B-DEX_0006'\n",
    "\n",
    "\n",
    "patient_id = 'id028_ca'\n",
    "szr_name = 'CA_crise3P_091126b-bex_0010'\n",
    "\n",
    "\n",
    "patient_id = 'id033_fc'\n",
    "szr_name ='FC_C10P_090916B-BEX_0001'\n",
    "\n",
    "patient_id = 'id036_dm'\n",
    "szr_name = 'DM_C2_110127c-fex_0001'\n",
    "\n",
    "patient_id = 'id037_cg'\n",
    "szr_name = 'CG_C1_120213B-BEX_0001'\n",
    "\n",
    "patient_id = 'id040_ms'\n",
    "szr_name = 'MS_C1P_170210B-BEX_0002'\n",
    "\n",
    "\n",
    "data_dir = f'/home/hfw/Retro/datasets/{patient_id}'\n",
    "results_dir = f'/home/hfw/Retro/results/{patient_id}'\n",
    "#szr_name = 'BF_crise1P_110831B-CEX_0004'\n",
    "#szr_name = 'BF_crise1P_110831B-CEX_0004'\n",
    "\n",
    "#szr_name = \"MK_crise2_PSG_170328C-CEX_0002\"\n",
    "#szr_name = 'BTcrise2appportable_0013'\n",
    "#szr_name = 'BTcrise1appportable_0006'\n",
    "\n",
    "meta_data_fname = f'{szr_name}.json'\n",
    "#raw_seeg_fname = f'{szr_name}.raw.fif'\n",
    "fname_suffix = f'{szr_name}'\n",
    "# if os.path.isdir(results_dir):\n",
    "#     os.rmdir(results_dir)\n",
    "os.makedirs(results_dir,exist_ok=True)\n",
    "os.makedirs(f'{results_dir}/logs',exist_ok=True)\n",
    "os.makedirs(f'{results_dir}/figures',exist_ok=True)\n",
    "os.makedirs(f'{results_dir}/Rfiles', exist_ok=True)"
   ]
  },
  {
   "cell_type": "code",
   "execution_count": 126,
   "metadata": {},
   "outputs": [],
   "source": [
    "hpf = 10\n",
    "lpf = 0.05"
   ]
  },
  {
   "cell_type": "code",
   "execution_count": 127,
   "metadata": {},
   "outputs": [],
   "source": [
    "#stan_fname = 'vep-snsrfit-ode-nointerp'\n",
    "stan_fname = 'szr_prpgtn'\n",
    "\n",
    "fname_suffix =  f'{szr_name}_hpf{hpf}_lpf{lpf}_ezdelay'\n",
    "input_Rfile = f'fit_data_{fname_suffix}.R'"
   ]
  },
  {
   "cell_type": "code",
   "execution_count": 128,
   "metadata": {},
   "outputs": [
    {
     "name": "stdout",
     "output_type": "stream",
     "text": [
      "fit_data_MS_C1P_170210B-BEX_0002_hpf10_lpf0.02_ezdelay.R\n",
      "fit_data_MS_C1P_170210B-BEX_0002_hpf10_lpf0.05_ezdelay.R\n",
      "fit_data_MS_C1P_170210B-BEX_0002_hpf10_lpf0.2_ezdelay.R\n",
      "fit_data_MS_C2P_170210M-AEX_0001_hpf10_lpf0.02_ezdelay.R\n",
      "fit_data_MS_C2P_170210M-AEX_0001_hpf10_lpf0.2_ezdelay.R\n",
      "param_init.R\n"
     ]
    }
   ],
   "source": [
    "!ls /home/hfw/Retro/results/$patient_id/Rfiles/"
   ]
  },
  {
   "cell_type": "code",
   "execution_count": 129,
   "metadata": {},
   "outputs": [],
   "source": [
    "%%bash -s \"$stan_fname\" \"$results_dir\" \"$input_Rfile\" \"$fname_suffix\"\n",
    "\n",
    "STAN_FNAME=$1\n",
    "RESULTS_DIR=$2\n",
    "INPUT_RFILE=$3\n",
    "FNAME_SUFFIX=$4\n",
    "\n",
    "\n",
    "./${STAN_FNAME} optimize algorithm=lbfgs tol_param=1e-4 iter=20000 save_iterations=0  \\\n",
    "data file=${RESULTS_DIR}/Rfiles/${INPUT_RFILE} \\\n",
    "init=${RESULTS_DIR}/Rfiles/param_init.R \\\n",
    "output file=${RESULTS_DIR}/OptimalBT/samples_${FNAME_SUFFIX}.csv refresh=10 \\\n",
    "&> ${RESULTS_DIR}/logs/snsrfit_ode_${FNAME_SUFFIX}.log &\n"
   ]
  },
  {
   "cell_type": "code",
   "execution_count": 130,
   "metadata": {},
   "outputs": [
    {
     "data": {
      "text/plain": [
       "'id040_ms'"
      ]
     },
     "execution_count": 130,
     "metadata": {},
     "output_type": "execute_result"
    }
   ],
   "source": [
    "patient_id"
   ]
  },
  {
   "cell_type": "code",
   "execution_count": null,
   "metadata": {},
   "outputs": [],
   "source": []
  }
 ],
 "metadata": {
  "kernelspec": {
   "display_name": "Python 3",
   "language": "python",
   "name": "python3"
  },
  "language_info": {
   "codemirror_mode": {
    "name": "ipython",
    "version": 3
   },
   "file_extension": ".py",
   "mimetype": "text/x-python",
   "name": "python",
   "nbconvert_exporter": "python",
   "pygments_lexer": "ipython3",
   "version": "3.7.1"
  }
 },
 "nbformat": 4,
 "nbformat_minor": 2
}
